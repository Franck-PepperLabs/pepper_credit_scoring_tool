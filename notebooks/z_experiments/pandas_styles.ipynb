{
 "cells": [
  {
   "attachments": {},
   "cell_type": "markdown",
   "metadata": {},
   "source": [
    "https://pandas.pydata.org/docs/user_guide/style.html"
   ]
  },
  {
   "cell_type": "markdown",
   "metadata": {},
   "source": [
    "Pas fondamental, problème de confort à résoudre concernant le style lors de l'affichage d'un dtaframe transposé : c'est chiant qu'un entier s'affiche comme un float !"
   ]
  },
  {
   "cell_type": "code",
   "execution_count": null,
   "metadata": {},
   "outputs": [
    {
     "name": "stderr",
     "output_type": "stream",
     "text": [
      "C:\\Users\\franc\\AppData\\Local\\Temp\\ipykernel_7436\\3041934246.py:17: UserWarning: Pandas doesn't allow columns to be created via a new attribute name - see https://pandas.pydata.org/pandas-docs/stable/indexing.html#attribute-access\n",
      "  df = df.style = style\n"
     ]
    },
    {
     "ename": "AttributeError",
     "evalue": "property 'style' of 'DataFrame' object has no setter",
     "output_type": "error",
     "traceback": [
      "\u001b[1;31m---------------------------------------------------------------------------\u001b[0m\n",
      "\u001b[1;31mAttributeError\u001b[0m                            Traceback (most recent call last)\n",
      "File \u001b[1;32mc:\\Users\\franc\\AppData\\Local\\Programs\\Python\\Python311\\Lib\\site-packages\\pandas\\core\\generic.py:6020\u001b[0m, in \u001b[0;36mNDFrame.__setattr__\u001b[1;34m(self, name, value)\u001b[0m\n",
      "\u001b[0;32m   6019\u001b[0m     \u001b[39melse\u001b[39;00m:\n",
      "\u001b[1;32m-> 6020\u001b[0m         \u001b[39mobject\u001b[39;49m\u001b[39m.\u001b[39;49m\u001b[39m__setattr__\u001b[39;49m(\u001b[39mself\u001b[39;49m, name, value)\n",
      "\u001b[0;32m   6021\u001b[0m \u001b[39mexcept\u001b[39;00m (\u001b[39mAttributeError\u001b[39;00m, \u001b[39mTypeError\u001b[39;00m):\n",
      "\n",
      "\u001b[1;31mAttributeError\u001b[0m: property 'style' of 'DataFrame' object has no setter\n",
      "\n",
      "During handling of the above exception, another exception occurred:\n",
      "\n",
      "\u001b[1;31mAttributeError\u001b[0m                            Traceback (most recent call last)\n",
      "Cell \u001b[1;32mIn[31], line 17\u001b[0m\n",
      "\u001b[0;32m     12\u001b[0m     style\u001b[39m.\u001b[39mloc[mask_float, col] \u001b[39m=\u001b[39m \u001b[39m'\u001b[39m\u001b[39mcolor: green\u001b[39m\u001b[39m'\u001b[39m\n",
      "\u001b[0;32m     14\u001b[0m \u001b[39m# Transposition du dataframe et application de la matrice de styles\u001b[39;00m\n",
      "\u001b[0;32m     15\u001b[0m \u001b[39m#df_t = df.T\u001b[39;00m\n",
      "\u001b[0;32m     16\u001b[0m \u001b[39m#df_t = df_t.style.apply(lambda x: style.T)\u001b[39;00m\n",
      "\u001b[1;32m---> 17\u001b[0m df \u001b[39m=\u001b[39m df\u001b[39m.\u001b[39;49mstyle \u001b[39m=\u001b[39m style\n",
      "\u001b[0;32m     18\u001b[0m \u001b[39m#df_t\u001b[39;00m\n",
      "\u001b[0;32m     19\u001b[0m display(df)\n",
      "\n",
      "File \u001b[1;32mc:\\Users\\franc\\AppData\\Local\\Programs\\Python\\Python311\\Lib\\site-packages\\pandas\\core\\generic.py:6030\u001b[0m, in \u001b[0;36mNDFrame.__setattr__\u001b[1;34m(self, name, value)\u001b[0m\n",
      "\u001b[0;32m   6022\u001b[0m \u001b[39mif\u001b[39;00m \u001b[39misinstance\u001b[39m(\u001b[39mself\u001b[39m, ABCDataFrame) \u001b[39mand\u001b[39;00m (is_list_like(value)):\n",
      "\u001b[0;32m   6023\u001b[0m     warnings\u001b[39m.\u001b[39mwarn(\n",
      "\u001b[0;32m   6024\u001b[0m         \u001b[39m\"\u001b[39m\u001b[39mPandas doesn\u001b[39m\u001b[39m'\u001b[39m\u001b[39mt allow columns to be \u001b[39m\u001b[39m\"\u001b[39m\n",
      "\u001b[0;32m   6025\u001b[0m         \u001b[39m\"\u001b[39m\u001b[39mcreated via a new attribute name - see \u001b[39m\u001b[39m\"\u001b[39m\n",
      "\u001b[1;32m   (...)\u001b[0m\n",
      "\u001b[0;32m   6028\u001b[0m         stacklevel\u001b[39m=\u001b[39mfind_stack_level(),\n",
      "\u001b[0;32m   6029\u001b[0m     )\n",
      "\u001b[1;32m-> 6030\u001b[0m \u001b[39mobject\u001b[39;49m\u001b[39m.\u001b[39;49m\u001b[39m__setattr__\u001b[39;49m(\u001b[39mself\u001b[39;49m, name, value)\n",
      "\n",
      "\u001b[1;31mAttributeError\u001b[0m: property 'style' of 'DataFrame' object has no setter"
     ]
    }
   ],
   "source": [
    "import pandas as pd\n",
    "import numpy as np\n",
    "\n",
    "df = agg_value_counts(data.CNT_INSTALMENT_MATURE_CUM, agg=None, dropna=False)\n",
    "\n",
    "# Création d'une matrice de styles pour formater les entiers en rouge et les flottants en vert\n",
    "style = pd.DataFrame(\"\", index=df.index, columns=df.columns)\n",
    "for col in df.columns:\n",
    "    mask_int = df[col].apply(lambda x: isinstance(x, int))\n",
    "    mask_float = df[col].apply(lambda x: isinstance(x, float))\n",
    "    style.loc[mask_int, col] = 'color: red'\n",
    "    style.loc[mask_float, col] = 'color: green'\n",
    "\n",
    "# Transposition du dataframe et application de la matrice de styles\n",
    "#df_t = df.T\n",
    "#df_t = df_t.style.apply(lambda x: style.T)\n",
    "df = df.style = style\n",
    "#df_t\n",
    "display(df)"
   ]
  }
 ],
 "metadata": {
  "language_info": {
   "name": "python"
  },
  "orig_nbformat": 4
 },
 "nbformat": 4,
 "nbformat_minor": 2
}
