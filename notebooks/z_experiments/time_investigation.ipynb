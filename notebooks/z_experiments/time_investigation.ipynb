{
 "cells": [
  {
   "attachments": {},
   "cell_type": "markdown",
   "metadata": {},
   "source": [
    "# **Time investigation**\n",
    "\n",
    "Dans le jeu de donnée `Home Credit`, le temps est omniprésent, mais toujours sous forme relative à un ici et maintenant, celui de l'individu et de sa demande de prêt en cours d'instruction.\n",
    "\n",
    "Sont données des durées, en soi (par exemple une durée de prêt), ou relative à la date de demande actuelle.\n",
    "\n",
    "Or, ces dates de demandes actuelles ne sont jamais connues.\n",
    "\n",
    "Cela fait qu'il est difficile de synchroniser un certain nombre d'événements collectifs par référence à une période réelle conjointe.\n",
    "\n",
    "Si, dans le cadre de l'analyse d'un seul individu (client), cela n'est pas problématique a priori, pour l'ensemble des clients ça l'est, et finalement pour le client individuel également : il est impossible de capturer des phénomènes conjoncturels ou simplement saisonniers, lesquels sont des facteurs environnementaux et situationnels qui agissent évidemment sur l'état de solvabilité des individus.\n",
    "\n",
    "L'objet de ce notebook est de tenter de *cracker* cette référence au temps absolu qu'il nous manque."
   ]
  },
  {
   "attachments": {},
   "cell_type": "markdown",
   "metadata": {},
   "source": [
    "Note papier initiale :\n",
    "\n",
    "Le problème de fond : pas d'incide de temps absolu : par exemple, on est coincés si l'on veut faire la somme des crédits en cours par période (juwtaposition) pour un individu donné, car on ne peut pas caler ces crédits sur des dates de début et fin. NDLR - ce n'est pas vrai, mais le problème d'absence des dates abolues reste un problème que l'on souhaite résoudre pour les raison évoquées ci-dessus."
   ]
  },
  {
   "attachments": {},
   "cell_type": "markdown",
   "metadata": {},
   "source": [
    "Quelques premières notes à ce sujet, d'autres sont à rechercher au milieu de l'analyse exploratoire.\n",
    "\n",
    "Wikipedia: ... url\n",
    "\n",
    "Relire rapidement les commentaires Kaggle qui contiennent des QR avec l'équipe de production de HC.\n",
    "\n",
    "Que rechercher ? :\n",
    "* Date de création, croissance de l'activité.\n",
    "* Dates de publication du jeu de données.\n",
    "\n",
    "Compétition Kaggle :\n",
    "* Start: 17/05/2018\n",
    "* End: 29/08/2018\n",
    "\n",
    "Wikipedia:\n",
    "* 1997 - Fondation en République Tchèque\n",
    "* 1999 - Ext. Slovaquie\n",
    "* 2000 - Ext Russie, Kazakhstan, Ukraine, Belarus\n",
    "* 2010 - Ext Asie : Chine, Inde, Indonésie, Philippines, Vietnam\n",
    "* 2015 US (part. Sprint)\n"
   ]
  }
 ],
 "metadata": {
  "language_info": {
   "name": "python"
  },
  "orig_nbformat": 4
 },
 "nbformat": 4,
 "nbformat_minor": 2
}
