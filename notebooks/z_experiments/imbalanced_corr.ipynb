{
 "cells": [
  {
   "attachments": {},
   "cell_type": "markdown",
   "metadata": {},
   "source": [
    "# **Imbalanced correlation**"
   ]
  },
  {
   "attachments": {},
   "cell_type": "markdown",
   "metadata": {},
   "source": [
    "## Corrélation avec la cible\n",
    "\n",
    "### Approche initiale\n",
    "\n",
    "Pour les variables continues, on utilisera les corrélations de Pearson et Spearman (mais pas Kendall qui\n",
    "1. ne se pondère pas dans son implémentation SKL,\n",
    "2. connaît des dépassements systématiques pendant son calcul).\n",
    "\n",
    "Pour les variables discrètes binaires (soit nativement binaires, soit obtenues par le one hot encoding de variables catégorielles) on privilégiera la corrélation de Matthews (MCC).\n",
    "\n",
    "Dans les 3 cas, nous utilisons la version pondérée de ces mesures pour compenser le déséquilibre important entre les classes. Les poids (coefficients de pondération) sont déterminés de la manière suivante : en posant $n$ la population, $n_0$ et $n_1$ le nombre de clients non défaillant et défaillants, $w_0, w_1 \\leftarrow \\frac{n}{n_0}, \\frac{n}{n_1}$.\n",
    "\n",
    "**Pb** pas de version pondérée de Pearson ou Spearman dans Pandas, SKL ou Scipy.\n",
    "Je n'ai pas mieux à essayer pour le moment que https://docs.scipy.org/doc/scipy/reference/generated/scipy.stats.weightedtau.html\n",
    "\n",
    "```Python\n",
    "from scipy import stats\n",
    "corr, p_value = stats.weightedtau(x, y, weights)\n",
    "print(\"Weighted Rank Correlation : \", corr)\n",
    "print(\"P-value : \", p_value)\n",
    "```\n",
    "\n",
    "Références sur Pearson, Kendall et Spearman :\n",
    "* https://en.wikipedia.org/wiki/Pearson_correlation_coefficient\n",
    "* https://en.wikipedia.org/wiki/Kendall_rank_correlation_coefficient\n",
    "* https://en.wikipedia.org/wiki/Spearman%27s_rank_correlation_coefficient\n",
    "\n",
    "Références sur la corrélation de Matthews pondérées (WMCC) :\n",
    "* https://en.wikipedia.org/wiki/Phi_coefficient\n",
    "* https://bmcgenomics.biomedcentral.com/articles/10.1186/s12864-019-6413-7\n",
    "* https://journals.plos.org/plosone/article?id=10.1371/journal.pone.0177678"
   ]
  },
  {
   "cell_type": "code",
   "execution_count": null,
   "metadata": {},
   "outputs": [],
   "source": [
    "# Test de la corrélation de Matthews pondérée\n",
    "from home_credit.load import get_application\n",
    "from home_credit.utils import get_datablock\n",
    "from pepper.univar import test_wmcc\n",
    "app = get_application()\n",
    "target = get_datablock(app, \"TARGET\").TARGET\n",
    "target = target[target > -1]\n",
    "target.value_counts(dropna=False)\n",
    "test_wmcc(target)"
   ]
  }
 ],
 "metadata": {
  "language_info": {
   "name": "python"
  },
  "orig_nbformat": 4
 },
 "nbformat": 4,
 "nbformat_minor": 2
}
