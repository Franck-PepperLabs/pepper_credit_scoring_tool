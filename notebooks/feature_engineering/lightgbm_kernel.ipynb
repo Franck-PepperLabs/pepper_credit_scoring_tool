{
 "cells": [
  {
   "attachments": {},
   "cell_type": "markdown",
   "metadata": {},
   "source": [
    "# Etude et amélioration du kernel Kaggle [“**LightGBM with Simple Features**”](https://www.kaggle.com/code/jsaguiar/lightgbm-with-simple-features)\n",
    "\n",
    "Le but est de comprendre les traitements effectués par ce noyau, puis de les améliorer (fonctionnellement et techniquement).\n",
    "\n",
    "Il y a un aller et retour entre la première partie et l'annexe :\n",
    "* La première partie est d'abord le lieu du *reverse engineering* de la solution de référence et suit l'ordre fonctionnel des étapes de résolution.\n",
    "* L'annexe focalise sur chaque étape clé de traitement, elle est donc plus technique.\n",
    "* La première partie applique les conclusions et améliorations justifiées par l'annexe, teste la non régression fonctionnelle et compare les performances pour mettre en évidence les gains par rapport à la solution d'origine."
   ]
  },
  {
   "attachments": {},
   "cell_type": "markdown",
   "metadata": {},
   "source": [
    "## A comprendre :"
   ]
  },
  {
   "cell_type": "code",
   "execution_count": null,
   "metadata": {},
   "outputs": [],
   "source": [
    "import time\n",
    "from contextlib import contextmanager\n",
    "\n",
    "@contextmanager\n",
    "def timer(title):\n",
    "    t0 = time.time()\n",
    "    yield\n",
    "    print(f\"{title} - done in {time.time() - t0:.0f}s\")"
   ]
  },
  {
   "attachments": {},
   "cell_type": "markdown",
   "metadata": {},
   "source": [
    "# Reprise et amélioration des fonctionnalités"
   ]
  },
  {
   "attachments": {},
   "cell_type": "markdown",
   "metadata": {},
   "source": [
    "## ✔ `APPLICATION`"
   ]
  },
  {
   "attachments": {},
   "cell_type": "markdown",
   "metadata": {},
   "source": [
    "### Chargement des tables\n",
    "\n",
    "**Attention** Pour pouvoir comparer les résultats des deux modes de chargement, il faut avoir en tête que `get_application` effectue un `application.sort_index(inplace=True)`.\n",
    "\n",
    "Il faut donc, en vue de comparer, réaligner les index sur ceux de la v1 : c'est le rôle de la fonction `pepper.pd_utils.align_df2_on_df1`."
   ]
  },
  {
   "attachments": {},
   "cell_type": "markdown",
   "metadata": {},
   "source": [
    "Version d'origine :"
   ]
  },
  {
   "cell_type": "code",
   "execution_count": 1,
   "metadata": {},
   "outputs": [],
   "source": [
    "import pandas as pd\n",
    "from home_credit.lightgbm_kernel_v2 import free\n",
    "def load_data_v1(nrows=None):\n",
    "    # Read data and merge\n",
    "    data = pd.read_csv('../../dataset/csv/application_train.csv', nrows=nrows)\n",
    "    test_data = pd.read_csv('../../dataset/csv/application_test.csv', nrows=nrows)\n",
    "    # print(f\"Train samples: {len(df)}, test samples: {len(test_df)}\")\n",
    "    # NB: `append` doesn't exist in current Pandas 2.0, replaced by `concat`\n",
    "    #     `append` has been deprecated since version 1.3.0 of Pandas (June 2021)\n",
    "    # NB2: A reset_index() statement in older code (< 1.3.0) is equivalent to reset_index(drop=True)\n",
    "    # in modern code, due to the change in the default value of the drop parameter.\n",
    "    # data = data.append(test_data).reset_index()\n",
    "    data = pd.concat([data, test_data], axis=0)\n",
    "    data = data.reset_index(drop=True)\n",
    "    free(test_data)\n",
    "    return data"
   ]
  },
  {
   "attachments": {},
   "cell_type": "markdown",
   "metadata": {},
   "source": [
    "Nouvelle version :\n",
    "\n",
    "Adaptation du type et des valeurs de `TARGET` pour la compatibilité de versions."
   ]
  },
  {
   "cell_type": "code",
   "execution_count": 2,
   "metadata": {},
   "outputs": [],
   "source": [
    "from home_credit.lightgbm_kernel_v2 import load_data\n",
    "import numpy as np\n",
    "def load_data_v2(nrows=None):\n",
    "    data = load_data(\"application\", nrows)\n",
    "    data.TARGET = data.TARGET.astype(object).replace(-1, np.nan)\n",
    "    return data"
   ]
  },
  {
   "attachments": {},
   "cell_type": "markdown",
   "metadata": {},
   "source": [
    "Comparaison :"
   ]
  },
  {
   "cell_type": "code",
   "execution_count": 3,
   "metadata": {},
   "outputs": [
    {
     "name": "stdout",
     "output_type": "stream",
     "text": [
      "load C:\\Users\\franc\\Projects\\pepper_credit_scoring_tool\\dataset\\pqt\\application_train.pqt\n",
      "load C:\\Users\\franc\\Projects\\pepper_credit_scoring_tool\\dataset\\pqt\\application_test.pqt\n"
     ]
    }
   ],
   "source": [
    "from pepper.pd_utils import align_df2_on_df1\n",
    "nrows = None  # 1_000\n",
    "pk_name = \"SK_ID_CURR\"\n",
    "data_v1 = load_data_v1(nrows)\n",
    "data_v2 = align_df2_on_df1(pk_name, data_v1, load_data_v2(nrows))\n",
    "# display(data_v1)\n",
    "# display(data_v2)"
   ]
  },
  {
   "cell_type": "code",
   "execution_count": 4,
   "metadata": {},
   "outputs": [
    {
     "name": "stdout",
     "output_type": "stream",
     "text": [
      "n_diffs: 0\n"
     ]
    }
   ],
   "source": [
    "from pepper.pd_utils import df_neq\n",
    "is_diff = df_neq(data_v1, data_v2)\n",
    "print(\"n_diffs:\", is_diff.sum().sum())"
   ]
  },
  {
   "cell_type": "code",
   "execution_count": 5,
   "metadata": {},
   "outputs": [
    {
     "name": "stdout",
     "output_type": "stream",
     "text": [
      "dtypes are aligned\n"
     ]
    }
   ],
   "source": [
    "from pepper.pd_utils import check_dtypes_alignment\n",
    "check_dtypes_alignment(data_v1, data_v2)"
   ]
  },
  {
   "attachments": {},
   "cell_type": "markdown",
   "metadata": {},
   "source": [
    "### Nettoyage des catégories\n",
    "\n",
    "Suppression ou correction des aberrations et valeurs manquantes pour les catégories."
   ]
  },
  {
   "cell_type": "code",
   "execution_count": 6,
   "metadata": {},
   "outputs": [],
   "source": [
    "def clean_cats_v1(data):\n",
    "    # Optional: Remove 4 applications with XNA CODE_GENDER (train set)\n",
    "    # NB > copy() was added to avoid subsequent errors or warnings caused by working on a view\n",
    "    return data[data['CODE_GENDER'] != 'XNA'].copy()"
   ]
  },
  {
   "cell_type": "code",
   "execution_count": 7,
   "metadata": {},
   "outputs": [],
   "source": [
    "def clean_cats_v2(data):\n",
    "    # Optional: Remove 4 applications with XNA CODE_GENDER (train set)\n",
    "    # NB > Here, there's no need for a copy, as we are working directly in-place\n",
    "    data.drop(index=data.index[data.CODE_GENDER == \"XNA\"], inplace=True)\n",
    "    # For compatibility with V1, but not necessary, it's in-place\n",
    "    return data"
   ]
  },
  {
   "cell_type": "code",
   "execution_count": 8,
   "metadata": {},
   "outputs": [],
   "source": [
    "clean_data_v1 = clean_cats_v1(data_v1)\n",
    "clean_data_v2 = clean_cats_v2(data_v2)"
   ]
  },
  {
   "cell_type": "code",
   "execution_count": 9,
   "metadata": {},
   "outputs": [
    {
     "name": "stdout",
     "output_type": "stream",
     "text": [
      "n_diffs: 0\n"
     ]
    }
   ],
   "source": [
    "from pepper.pd_utils import df_neq\n",
    "is_diff = df_neq(clean_data_v1, clean_data_v2)\n",
    "print(\"n_diffs:\", is_diff.sum().sum())"
   ]
  },
  {
   "attachments": {},
   "cell_type": "markdown",
   "metadata": {},
   "source": [
    "### Encoding des catégories binaires"
   ]
  },
  {
   "cell_type": "code",
   "execution_count": 10,
   "metadata": {},
   "outputs": [],
   "source": [
    "def encode_bin_cats_v1(data):    \n",
    "    # Categorical features with Binary encode (0 or 1; two categories)\n",
    "    for bin_feature in ['CODE_GENDER', 'FLAG_OWN_CAR', 'FLAG_OWN_REALTY']:\n",
    "        # Unused `uniques` has been replaced by `_`\n",
    "        data[bin_feature], _ = pd.factorize(data[bin_feature])"
   ]
  },
  {
   "cell_type": "code",
   "execution_count": 11,
   "metadata": {},
   "outputs": [],
   "source": [
    "def encode_bin_cats_v2(data):    \n",
    "    # Categorical features with Binary encode (0 or 1; two categories)\n",
    "    bin_vars = ['CODE_GENDER', 'FLAG_OWN_CAR', 'FLAG_OWN_REALTY']\n",
    "    for bin_var in bin_vars:\n",
    "        data[bin_var] = data[bin_var].astype(\"category\").cat.codes"
   ]
  },
  {
   "cell_type": "code",
   "execution_count": 12,
   "metadata": {},
   "outputs": [],
   "source": [
    "encode_bin_cats_v1(clean_data_v1)\n",
    "encode_bin_cats_v2(clean_data_v2)"
   ]
  },
  {
   "cell_type": "code",
   "execution_count": 13,
   "metadata": {},
   "outputs": [
    {
     "name": "stdout",
     "output_type": "stream",
     "text": [
      "n_diffs: 712502\n"
     ]
    }
   ],
   "source": [
    "from pepper.pd_utils import df_neq\n",
    "is_diff = df_neq(clean_data_v1, clean_data_v2)\n",
    "print(\"n_diffs:\", is_diff.sum().sum())"
   ]
  },
  {
   "cell_type": "code",
   "execution_count": 14,
   "metadata": {},
   "outputs": [
    {
     "name": "stdout",
     "output_type": "stream",
     "text": [
      "dtypes diffs:\n"
     ]
    },
    {
     "data": {
      "text/plain": [
       "CODE_GENDER        int64\n",
       "FLAG_OWN_CAR       int64\n",
       "FLAG_OWN_REALTY    int64\n",
       "dtype: object"
      ]
     },
     "metadata": {},
     "output_type": "display_data"
    },
    {
     "data": {
      "text/plain": [
       "application\n",
       "CODE_GENDER        int8\n",
       "FLAG_OWN_CAR       int8\n",
       "FLAG_OWN_REALTY    int8\n",
       "dtype: object"
      ]
     },
     "metadata": {},
     "output_type": "display_data"
    }
   ],
   "source": [
    "from pepper.pd_utils import check_dtypes_alignment\n",
    "check_dtypes_alignment(clean_data_v1, clean_data_v2)"
   ]
  },
  {
   "attachments": {},
   "cell_type": "markdown",
   "metadata": {},
   "source": [
    "Rien d'alarmant, les deux techniques d'encoding donnent le même résultat à une permutation des 2 labels près.\n",
    "\n",
    "Dans tous les cas, nous n'allons pas conserver une telle approche spécifique pour les variables catégorielles binaires mais plutôt utiliser la même approche systématique de one hot encoding que pour toutes les variables catégorielles (voir `one_hot_encode_all_cats` à utiliser conjointement avec `get_categorical_vars`).\n",
    "\n",
    "Il ne sert effectivement à rien de conserver deux colonnes c'est-à-dire deux variables anticorrélées (voir la section `drop_first` en annexe)."
   ]
  },
  {
   "cell_type": "code",
   "execution_count": 15,
   "metadata": {},
   "outputs": [
    {
     "data": {
      "text/html": [
       "<div>\n",
       "<style scoped>\n",
       "    .dataframe tbody tr th:only-of-type {\n",
       "        vertical-align: middle;\n",
       "    }\n",
       "\n",
       "    .dataframe tbody tr th {\n",
       "        vertical-align: top;\n",
       "    }\n",
       "\n",
       "    .dataframe thead th {\n",
       "        text-align: right;\n",
       "    }\n",
       "</style>\n",
       "<table border=\"1\" class=\"dataframe\">\n",
       "  <thead>\n",
       "    <tr style=\"text-align: right;\">\n",
       "      <th></th>\n",
       "      <th>CODE_GENDER</th>\n",
       "      <th>FLAG_OWN_CAR</th>\n",
       "      <th>FLAG_OWN_REALTY</th>\n",
       "      <th>CODE_GENDER</th>\n",
       "      <th>FLAG_OWN_CAR</th>\n",
       "      <th>FLAG_OWN_REALTY</th>\n",
       "    </tr>\n",
       "  </thead>\n",
       "  <tbody>\n",
       "    <tr>\n",
       "      <th>0</th>\n",
       "      <td>0</td>\n",
       "      <td>0</td>\n",
       "      <td>0</td>\n",
       "      <td>1</td>\n",
       "      <td>0</td>\n",
       "      <td>1</td>\n",
       "    </tr>\n",
       "    <tr>\n",
       "      <th>1</th>\n",
       "      <td>1</td>\n",
       "      <td>0</td>\n",
       "      <td>1</td>\n",
       "      <td>0</td>\n",
       "      <td>0</td>\n",
       "      <td>0</td>\n",
       "    </tr>\n",
       "    <tr>\n",
       "      <th>2</th>\n",
       "      <td>0</td>\n",
       "      <td>1</td>\n",
       "      <td>0</td>\n",
       "      <td>1</td>\n",
       "      <td>1</td>\n",
       "      <td>1</td>\n",
       "    </tr>\n",
       "  </tbody>\n",
       "</table>\n",
       "</div>"
      ],
      "text/plain": [
       "   CODE_GENDER  FLAG_OWN_CAR  FLAG_OWN_REALTY  CODE_GENDER  FLAG_OWN_CAR   \n",
       "0            0             0                0            1             0  \\\n",
       "1            1             0                1            0             0   \n",
       "2            0             1                0            1             1   \n",
       "\n",
       "   FLAG_OWN_REALTY  \n",
       "0                1  \n",
       "1                0  \n",
       "2                1  "
      ]
     },
     "metadata": {},
     "output_type": "display_data"
    }
   ],
   "source": [
    "bin_vars = ['CODE_GENDER', 'FLAG_OWN_CAR', 'FLAG_OWN_REALTY']\n",
    "display(pd.concat([clean_data_v1[bin_vars], clean_data_v2[bin_vars]], axis=1).head(3))"
   ]
  },
  {
   "attachments": {},
   "cell_type": "markdown",
   "metadata": {},
   "source": [
    "Pour tout faire rentrer dans l'ordre :"
   ]
  },
  {
   "cell_type": "code",
   "execution_count": 16,
   "metadata": {},
   "outputs": [
    {
     "name": "stdout",
     "output_type": "stream",
     "text": [
      "n_diffs: 0\n"
     ]
    }
   ],
   "source": [
    "from pepper.pd_utils import df_neq\n",
    "clean_data_v2.CODE_GENDER = 1 - clean_data_v2.CODE_GENDER\n",
    "clean_data_v2.FLAG_OWN_REALTY = 1 - clean_data_v2.FLAG_OWN_REALTY\n",
    "is_diff = df_neq(clean_data_v1, clean_data_v2)\n",
    "print(\"n_diffs:\", is_diff.sum().sum())"
   ]
  },
  {
   "cell_type": "code",
   "execution_count": 17,
   "metadata": {},
   "outputs": [
    {
     "name": "stdout",
     "output_type": "stream",
     "text": [
      "dtypes diffs:\n"
     ]
    },
    {
     "data": {
      "text/plain": [
       "CODE_GENDER        int64\n",
       "FLAG_OWN_CAR       int64\n",
       "FLAG_OWN_REALTY    int64\n",
       "dtype: object"
      ]
     },
     "metadata": {},
     "output_type": "display_data"
    },
    {
     "data": {
      "text/plain": [
       "application\n",
       "CODE_GENDER        int8\n",
       "FLAG_OWN_CAR       int8\n",
       "FLAG_OWN_REALTY    int8\n",
       "dtype: object"
      ]
     },
     "metadata": {},
     "output_type": "display_data"
    }
   ],
   "source": [
    "from pepper.pd_utils import check_dtypes_alignment\n",
    "check_dtypes_alignment(clean_data_v1, clean_data_v2)"
   ]
  },
  {
   "attachments": {},
   "cell_type": "markdown",
   "metadata": {},
   "source": [
    "### One Hot Encoding des catégories n-binaires"
   ]
  },
  {
   "cell_type": "code",
   "execution_count": 18,
   "metadata": {},
   "outputs": [],
   "source": [
    "from home_credit.lightgbm_kernel import one_hot_encoder\n",
    "from home_credit.lightgbm_kernel_v2 import hot_encode_cats\n",
    "\n",
    "ohe_data_v1, catvar_names_v1 = one_hot_encoder(clean_data_v1)\n",
    "ohe_data_v2, catvar_names_v2 = hot_encode_cats(clean_data_v2, discard_constants=False)"
   ]
  },
  {
   "cell_type": "code",
   "execution_count": 19,
   "metadata": {},
   "outputs": [
    {
     "data": {
      "text/plain": [
       "(356251, 255)"
      ]
     },
     "metadata": {},
     "output_type": "display_data"
    },
    {
     "data": {
      "text/plain": [
       "(356251, 255)"
      ]
     },
     "metadata": {},
     "output_type": "display_data"
    }
   ],
   "source": [
    "display(ohe_data_v1.shape)\n",
    "display(ohe_data_v2.shape)"
   ]
  },
  {
   "attachments": {},
   "cell_type": "markdown",
   "metadata": {},
   "source": [
    "La comparaison n'est pas vraiment nécessaire, mais soyons prudents :"
   ]
  },
  {
   "cell_type": "code",
   "execution_count": 20,
   "metadata": {},
   "outputs": [
    {
     "data": {
      "text/plain": [
       "Index(['SK_ID_CURR', 'TARGET', 'CODE_GENDER', 'FLAG_OWN_CAR',\n",
       "       'FLAG_OWN_REALTY', 'CNT_CHILDREN', 'AMT_INCOME_TOTAL', 'AMT_CREDIT',\n",
       "       'AMT_ANNUITY', 'AMT_GOODS_PRICE',\n",
       "       ...\n",
       "       'WALLSMATERIAL_MODE_Mixed', 'WALLSMATERIAL_MODE_Monolithic',\n",
       "       'WALLSMATERIAL_MODE_Others', 'WALLSMATERIAL_MODE_Panel',\n",
       "       'WALLSMATERIAL_MODE_Stone, brick', 'WALLSMATERIAL_MODE_Wooden',\n",
       "       'WALLSMATERIAL_MODE_nan', 'EMERGENCYSTATE_MODE_No',\n",
       "       'EMERGENCYSTATE_MODE_Yes', 'EMERGENCYSTATE_MODE_nan'],\n",
       "      dtype='object', length=255)"
      ]
     },
     "metadata": {},
     "output_type": "display_data"
    },
    {
     "data": {
      "text/plain": [
       "Index(['SK_ID_CURR', 'TARGET', 'CODE_GENDER', 'FLAG_OWN_CAR',\n",
       "       'FLAG_OWN_REALTY', 'CNT_CHILDREN', 'AMT_INCOME_TOTAL', 'AMT_CREDIT',\n",
       "       'AMT_ANNUITY', 'AMT_GOODS_PRICE',\n",
       "       ...\n",
       "       'WALLSMATERIAL_MODE_Mixed', 'WALLSMATERIAL_MODE_Monolithic',\n",
       "       'WALLSMATERIAL_MODE_Others', 'WALLSMATERIAL_MODE_Panel',\n",
       "       'WALLSMATERIAL_MODE_Stone, brick', 'WALLSMATERIAL_MODE_Wooden',\n",
       "       'WALLSMATERIAL_MODE_nan', 'EMERGENCYSTATE_MODE_No',\n",
       "       'EMERGENCYSTATE_MODE_Yes', 'EMERGENCYSTATE_MODE_nan'],\n",
       "      dtype='object', length=255)"
      ]
     },
     "metadata": {},
     "output_type": "display_data"
    },
    {
     "data": {
      "text/plain": [
       "Index([], dtype='object')"
      ]
     },
     "metadata": {},
     "output_type": "display_data"
    }
   ],
   "source": [
    "display(ohe_data_v1.columns)\n",
    "display(ohe_data_v2.columns)\n",
    "display(ohe_data_v1.columns.difference(ohe_data_v2.columns))"
   ]
  },
  {
   "attachments": {},
   "cell_type": "markdown",
   "metadata": {},
   "source": [
    "Notons que contrairement à l'encodage des catégories binaires, les deux techniques employées ici donnent les mêmes étiquettes. C'est normal, elles s'appuient toutes deux sur `pandas.get_dummies` :"
   ]
  },
  {
   "cell_type": "code",
   "execution_count": 21,
   "metadata": {},
   "outputs": [
    {
     "name": "stdout",
     "output_type": "stream",
     "text": [
      "n_diffs: 0\n"
     ]
    }
   ],
   "source": [
    "from pepper.pd_utils import df_neq\n",
    "is_diff = df_neq(ohe_data_v1, ohe_data_v2)\n",
    "print(\"n_diffs:\", is_diff.sum().sum())"
   ]
  },
  {
   "cell_type": "code",
   "execution_count": 22,
   "metadata": {},
   "outputs": [
    {
     "name": "stdout",
     "output_type": "stream",
     "text": [
      "dtypes diffs:\n"
     ]
    },
    {
     "data": {
      "text/plain": [
       "CODE_GENDER        int64\n",
       "FLAG_OWN_CAR       int64\n",
       "FLAG_OWN_REALTY    int64\n",
       "dtype: object"
      ]
     },
     "metadata": {},
     "output_type": "display_data"
    },
    {
     "data": {
      "text/plain": [
       "CODE_GENDER        int8\n",
       "FLAG_OWN_CAR       int8\n",
       "FLAG_OWN_REALTY    int8\n",
       "dtype: object"
      ]
     },
     "metadata": {},
     "output_type": "display_data"
    }
   ],
   "source": [
    "from pepper.pd_utils import check_dtypes_alignment\n",
    "check_dtypes_alignment(ohe_data_v1, ohe_data_v2)\n",
    "# TODO : faire un dataframe, mieux pour comparer"
   ]
  },
  {
   "attachments": {},
   "cell_type": "markdown",
   "metadata": {},
   "source": [
    "### Nettoyage des variables numériques\n",
    "\n",
    "Suppression ou correction des aberrations et valeurs manquantes pour les variables numériques.\n",
    "\n",
    "Vérifions que 365243 n'apparaît que dans `DAYS_EMPLOYED`"
   ]
  },
  {
   "cell_type": "code",
   "execution_count": 23,
   "metadata": {},
   "outputs": [
    {
     "data": {
      "text/plain": [
       "DAYS_BIRTH                 -7338.0\n",
       "DAYS_EMPLOYED             365243.0\n",
       "DAYS_REGISTRATION              0.0\n",
       "DAYS_ID_PUBLISH                0.0\n",
       "DAYS_LAST_PHONE_CHANGE         0.0\n",
       "dtype: float64"
      ]
     },
     "metadata": {},
     "output_type": "display_data"
    }
   ],
   "source": [
    "cols = ohe_data_v2.columns\n",
    "days_cols = cols[cols.str.match(\"DAYS_\")]\n",
    "days_data = ohe_data_v2[days_cols]\n",
    "display(days_data.max())\n",
    "# display(days_data[(days_data == 365243).any(axis=1)])"
   ]
  },
  {
   "cell_type": "code",
   "execution_count": 24,
   "metadata": {},
   "outputs": [],
   "source": [
    "from home_credit.lightgbm_kernel_v2 import clean_A_nums_v1, clean_A_nums_v2\n",
    "clean_A_nums_v1(ohe_data_v1)\n",
    "clean_A_nums_v2(ohe_data_v2)"
   ]
  },
  {
   "cell_type": "code",
   "execution_count": 25,
   "metadata": {},
   "outputs": [
    {
     "name": "stdout",
     "output_type": "stream",
     "text": [
      "n_diffs: 0\n"
     ]
    }
   ],
   "source": [
    "from pepper.pd_utils import df_neq\n",
    "is_diff = df_neq(ohe_data_v1, ohe_data_v2)\n",
    "print(\"n_diffs:\", is_diff.sum().sum())"
   ]
  },
  {
   "attachments": {},
   "cell_type": "markdown",
   "metadata": {},
   "source": [
    "### Création de variables additionnelles dérivées"
   ]
  },
  {
   "cell_type": "code",
   "execution_count": 26,
   "metadata": {},
   "outputs": [],
   "source": [
    "from home_credit.lightgbm_kernel_v2 import (\n",
    "    add_A_derived_features_v1,\n",
    "    add_A_derived_features as add_A_derived_features_v2\n",
    ")\n",
    "\n",
    "add_A_derived_features_v1(ohe_data_v1)\n",
    "add_A_derived_features_v2(ohe_data_v2)"
   ]
  },
  {
   "cell_type": "code",
   "execution_count": 27,
   "metadata": {},
   "outputs": [
    {
     "name": "stdout",
     "output_type": "stream",
     "text": [
      "n_diffs: 0\n"
     ]
    }
   ],
   "source": [
    "from pepper.pd_utils import df_neq\n",
    "is_diff = df_neq(ohe_data_v1, ohe_data_v2)\n",
    "print(\"n_diffs:\", is_diff.sum().sum())"
   ]
  },
  {
   "attachments": {},
   "cell_type": "markdown",
   "metadata": {},
   "source": [
    "### Version intégrée\n",
    "\n",
    "Comparaison des performances à périmètre isofonctionnel.\n",
    "\n",
    "Attention, handicap sérieux de la v2 car travail supplémentaire pour l'aligner sur la v1 (la v2 charge le dataframe v1 pour permuter ses lignes dans le cadre d'une opération d'alignement)."
   ]
  },
  {
   "cell_type": "code",
   "execution_count": 28,
   "metadata": {},
   "outputs": [],
   "source": [
    "from home_credit.lightgbm_kernel_v2 import application_train_test_v1\n",
    "data_v1 = application_train_test_v1()"
   ]
  },
  {
   "cell_type": "code",
   "execution_count": 29,
   "metadata": {},
   "outputs": [],
   "source": [
    "from home_credit.lightgbm_kernel_v2 import application_train_test_v2\n",
    "data_v2 = application_train_test_v2()"
   ]
  },
  {
   "cell_type": "code",
   "execution_count": 30,
   "metadata": {},
   "outputs": [
    {
     "name": "stdout",
     "output_type": "stream",
     "text": [
      "n_diffs: 0\n"
     ]
    }
   ],
   "source": [
    "from pepper.pd_utils import df_neq\n",
    "is_diff = df_neq(data_v1, data_v2)\n",
    "print(\"n_diffs:\", is_diff.sum().sum())"
   ]
  },
  {
   "cell_type": "code",
   "execution_count": 31,
   "metadata": {},
   "outputs": [
    {
     "name": "stdout",
     "output_type": "stream",
     "text": [
      "<class 'pandas.core.frame.DataFrame'>\n",
      "Index: 356251 entries, 0 to 356254\n",
      "Columns: 247 entries, SK_ID_CURR to PAYMENT_RATE\n",
      "dtypes: bool(133), float64(72), int64(42)\n",
      "memory usage: 357.8 MB\n",
      "<class 'pandas.core.frame.DataFrame'>\n",
      "Index: 356251 entries, 0 to 356254\n",
      "Columns: 247 entries, SK_ID_CURR to PAYMENT_RATE\n",
      "dtypes: bool(133), float64(72), int64(39), int8(3)\n",
      "memory usage: 350.6 MB\n"
     ]
    }
   ],
   "source": [
    "data_v1.info()\n",
    "data_v2.info()"
   ]
  },
  {
   "attachments": {},
   "cell_type": "markdown",
   "metadata": {},
   "source": [
    "### Version freestyle"
   ]
  },
  {
   "attachments": {},
   "cell_type": "markdown",
   "metadata": {},
   "source": [
    "## ✔ `BUREAU|BUREAU_BALANCE`"
   ]
  },
  {
   "attachments": {},
   "cell_type": "markdown",
   "metadata": {},
   "source": [
    "### Chargement des tables\n",
    "\n",
    "Erreur de conception identifiée dans la version d'origine, concernant l'utilisation de l'argument `nrows`."
   ]
  },
  {
   "cell_type": "code",
   "execution_count": 1,
   "metadata": {},
   "outputs": [],
   "source": [
    "from home_credit.lightgbm_kernel_v2 import load_B_tables_v1\n",
    "data_v1, adj_data_v1 = load_B_tables_v1()"
   ]
  },
  {
   "cell_type": "code",
   "execution_count": 2,
   "metadata": {},
   "outputs": [
    {
     "name": "stdout",
     "output_type": "stream",
     "text": [
      "load C:\\Users\\franc\\Projects\\pepper_credit_scoring_tool\\dataset\\pqt\\bureau.pqt\n",
      "load C:\\Users\\franc\\Projects\\pepper_credit_scoring_tool\\dataset\\pqt\\bureau_balance.pqt\n"
     ]
    }
   ],
   "source": [
    "from home_credit.lightgbm_kernel_v2 import load_B_tables_v2\n",
    "data_v2, adj_data_v2 = load_B_tables_v2()"
   ]
  },
  {
   "cell_type": "code",
   "execution_count": 3,
   "metadata": {},
   "outputs": [
    {
     "name": "stdout",
     "output_type": "stream",
     "text": [
      "n_diffs_bur: 0\n"
     ]
    }
   ],
   "source": [
    "from pepper.pd_utils import df_neq\n",
    "is_diff_bur = df_neq(data_v1, data_v2)\n",
    "print(\"n_diffs_bur:\", is_diff_bur.sum().sum())"
   ]
  },
  {
   "cell_type": "code",
   "execution_count": 4,
   "metadata": {},
   "outputs": [
    {
     "name": "stdout",
     "output_type": "stream",
     "text": [
      "dtypes are aligned\n"
     ]
    }
   ],
   "source": [
    "from pepper.pd_utils import check_dtypes_alignment\n",
    "check_dtypes_alignment(data_v1, data_v2)"
   ]
  },
  {
   "cell_type": "code",
   "execution_count": 5,
   "metadata": {},
   "outputs": [
    {
     "name": "stdout",
     "output_type": "stream",
     "text": [
      "n_diffs_bur: 0\n"
     ]
    }
   ],
   "source": [
    "from pepper.pd_utils import df_neq\n",
    "is_diff_bur = df_neq(adj_data_v1, adj_data_v2)\n",
    "print(\"n_diffs_bur:\", is_diff_bur.sum().sum())"
   ]
  },
  {
   "cell_type": "code",
   "execution_count": 6,
   "metadata": {},
   "outputs": [
    {
     "name": "stdout",
     "output_type": "stream",
     "text": [
      "dtypes are aligned\n"
     ]
    }
   ],
   "source": [
    "from pepper.pd_utils import check_dtypes_alignment\n",
    "check_dtypes_alignment(adj_data_v1, adj_data_v2)"
   ]
  },
  {
   "attachments": {},
   "cell_type": "markdown",
   "metadata": {},
   "source": [
    "### One Hot Encoding des catégories"
   ]
  },
  {
   "cell_type": "code",
   "execution_count": 7,
   "metadata": {},
   "outputs": [],
   "source": [
    "from home_credit.lightgbm_kernel import one_hot_encoder\n",
    "from home_credit.lightgbm_kernel_v2 import hot_encode_cats\n",
    "\n",
    "ohe_data_v1, catvar_names_v1 = one_hot_encoder(data_v1)\n",
    "ohe_data_v2, catvar_names_v2 = hot_encode_cats(data_v2, discard_constants=False)\n",
    "\n",
    "ohe_adj_data_v1, adj_catvar_names_v1 = one_hot_encoder(adj_data_v1)\n",
    "ohe_adj_data_v2, adj_catvar_names_v2 = hot_encode_cats(adj_data_v2, discard_constants=False)"
   ]
  },
  {
   "attachments": {},
   "cell_type": "markdown",
   "metadata": {},
   "source": [
    "Si on laisse `discard_constants` à sa valeur `True` par défaut, alors apparaît une différence de 3 colonnes : `CREDIT_ACTIVE_nan`, `CREDIT_CURRENCY_nan`, `CREDIT_TYPE_nan`. Ce sont des colonnes constantes, donc sans intérêt. Notre version supprime de telles constantes qui peuvent être engendrées du fait de `dummy_na=True`."
   ]
  },
  {
   "cell_type": "code",
   "execution_count": 8,
   "metadata": {},
   "outputs": [
    {
     "data": {
      "text/plain": [
       "(1716428, 40)"
      ]
     },
     "metadata": {},
     "output_type": "display_data"
    },
    {
     "data": {
      "text/plain": [
       "(1716428, 40)"
      ]
     },
     "metadata": {},
     "output_type": "display_data"
    },
    {
     "data": {
      "text/plain": [
       "(27299925, 11)"
      ]
     },
     "metadata": {},
     "output_type": "display_data"
    },
    {
     "data": {
      "text/plain": [
       "(27299925, 11)"
      ]
     },
     "metadata": {},
     "output_type": "display_data"
    }
   ],
   "source": [
    "display(ohe_data_v1.shape)\n",
    "display(ohe_data_v2.shape)\n",
    "display(ohe_adj_data_v1.shape)\n",
    "display(ohe_adj_data_v2.shape)"
   ]
  },
  {
   "cell_type": "code",
   "execution_count": 9,
   "metadata": {},
   "outputs": [
    {
     "data": {
      "text/plain": [
       "Index([], dtype='object')"
      ]
     },
     "metadata": {},
     "output_type": "display_data"
    },
    {
     "data": {
      "text/html": [
       "<div>\n",
       "<style scoped>\n",
       "    .dataframe tbody tr th:only-of-type {\n",
       "        vertical-align: middle;\n",
       "    }\n",
       "\n",
       "    .dataframe tbody tr th {\n",
       "        vertical-align: top;\n",
       "    }\n",
       "\n",
       "    .dataframe thead th {\n",
       "        text-align: right;\n",
       "    }\n",
       "</style>\n",
       "<table border=\"1\" class=\"dataframe\">\n",
       "  <thead>\n",
       "    <tr style=\"text-align: right;\">\n",
       "      <th></th>\n",
       "    </tr>\n",
       "  </thead>\n",
       "  <tbody>\n",
       "  </tbody>\n",
       "</table>\n",
       "</div>"
      ],
      "text/plain": [
       "Empty DataFrame\n",
       "Columns: []\n",
       "Index: []"
      ]
     },
     "metadata": {},
     "output_type": "display_data"
    }
   ],
   "source": [
    "import pandas as pd\n",
    "cols_diff = ohe_data_v1.columns.difference(ohe_data_v2.columns)\n",
    "display(cols_diff)\n",
    "display(pd.DataFrame({\n",
    "    col : ohe_data_v1[col].value_counts()\n",
    "    for col in cols_diff\n",
    "}).T)"
   ]
  },
  {
   "cell_type": "code",
   "execution_count": 10,
   "metadata": {},
   "outputs": [
    {
     "data": {
      "text/plain": [
       "Index([], dtype='object')"
      ]
     },
     "metadata": {},
     "output_type": "display_data"
    },
    {
     "data": {
      "text/html": [
       "<div>\n",
       "<style scoped>\n",
       "    .dataframe tbody tr th:only-of-type {\n",
       "        vertical-align: middle;\n",
       "    }\n",
       "\n",
       "    .dataframe tbody tr th {\n",
       "        vertical-align: top;\n",
       "    }\n",
       "\n",
       "    .dataframe thead th {\n",
       "        text-align: right;\n",
       "    }\n",
       "</style>\n",
       "<table border=\"1\" class=\"dataframe\">\n",
       "  <thead>\n",
       "    <tr style=\"text-align: right;\">\n",
       "      <th></th>\n",
       "    </tr>\n",
       "  </thead>\n",
       "  <tbody>\n",
       "  </tbody>\n",
       "</table>\n",
       "</div>"
      ],
      "text/plain": [
       "Empty DataFrame\n",
       "Columns: []\n",
       "Index: []"
      ]
     },
     "metadata": {},
     "output_type": "display_data"
    }
   ],
   "source": [
    "import pandas as pd\n",
    "cols_diff = ohe_adj_data_v1.columns.difference(ohe_adj_data_v2.columns)\n",
    "display(cols_diff)\n",
    "display(pd.DataFrame({\n",
    "    col : ohe_data_v1[col].value_counts()\n",
    "    for col in cols_diff\n",
    "}).T)"
   ]
  },
  {
   "cell_type": "code",
   "execution_count": 11,
   "metadata": {},
   "outputs": [
    {
     "name": "stdout",
     "output_type": "stream",
     "text": [
      "dtypes are aligned\n"
     ]
    }
   ],
   "source": [
    "from pepper.pd_utils import check_dtypes_alignment\n",
    "check_dtypes_alignment(ohe_data_v1, ohe_data_v2)"
   ]
  },
  {
   "attachments": {},
   "cell_type": "markdown",
   "metadata": {},
   "source": [
    "### Agrégation"
   ]
  },
  {
   "cell_type": "code",
   "execution_count": 12,
   "metadata": {},
   "outputs": [],
   "source": [
    "from home_credit.lightgbm_kernel_v2 import group_BB_by_bur_and_join_to_B_v1\n",
    "data_v1 = group_BB_by_bur_and_join_to_B_v1(ohe_data_v1, ohe_adj_data_v1, adj_catvar_names_v1)"
   ]
  },
  {
   "cell_type": "code",
   "execution_count": 13,
   "metadata": {},
   "outputs": [],
   "source": [
    "from home_credit.lightgbm_kernel_v2 import group_BB_by_bur_and_join_to_B_v2\n",
    "data_v2 = group_BB_by_bur_and_join_to_B_v2(ohe_data_v2, ohe_adj_data_v2, adj_catvar_names_v2)"
   ]
  },
  {
   "cell_type": "code",
   "execution_count": 14,
   "metadata": {},
   "outputs": [
    {
     "name": "stdout",
     "output_type": "stream",
     "text": [
      "n_diffs: 0\n"
     ]
    }
   ],
   "source": [
    "from pepper.pd_utils import df_neq\n",
    "is_diff = df_neq(data_v1, data_v2)\n",
    "print(\"n_diffs:\", is_diff.sum().sum())"
   ]
  },
  {
   "cell_type": "code",
   "execution_count": 15,
   "metadata": {},
   "outputs": [],
   "source": [
    "from home_credit.lightgbm_kernel_v2 import group_B_by_curr_v1\n",
    "agg_data_v1 = group_B_by_curr_v1(data_v1, catvar_names_v1, adj_catvar_names_v1)"
   ]
  },
  {
   "cell_type": "code",
   "execution_count": 17,
   "metadata": {},
   "outputs": [],
   "source": [
    "from home_credit.lightgbm_kernel_v2 import group_B_by_curr_v2\n",
    "agg_data_v2 = group_B_by_curr_v2(data_v2, catvar_names_v2, adj_catvar_names_v2)"
   ]
  },
  {
   "cell_type": "code",
   "execution_count": 18,
   "metadata": {},
   "outputs": [
    {
     "name": "stdout",
     "output_type": "stream",
     "text": [
      "n_diffs: 0\n"
     ]
    }
   ],
   "source": [
    "from pepper.pd_utils import df_neq\n",
    "is_diff = df_neq(agg_data_v1, agg_data_v2)\n",
    "print(\"n_diffs:\", is_diff.sum().sum())"
   ]
  },
  {
   "cell_type": "markdown",
   "metadata": {},
   "source": [
    "### Version intégrée"
   ]
  },
  {
   "cell_type": "code",
   "execution_count": 19,
   "metadata": {},
   "outputs": [],
   "source": [
    "from home_credit.lightgbm_kernel_v2 import bureau_and_balance_v1\n",
    "agg_data_v1 = bureau_and_balance_v1()"
   ]
  },
  {
   "cell_type": "code",
   "execution_count": 20,
   "metadata": {},
   "outputs": [],
   "source": [
    "from home_credit.lightgbm_kernel_v2 import bureau_and_balance_v2\n",
    "agg_data_v2 = bureau_and_balance_v2()"
   ]
  },
  {
   "cell_type": "code",
   "execution_count": 21,
   "metadata": {},
   "outputs": [
    {
     "name": "stdout",
     "output_type": "stream",
     "text": [
      "n_diffs: 0\n"
     ]
    }
   ],
   "source": [
    "from pepper.pd_utils import df_neq\n",
    "is_diff = df_neq(agg_data_v1, agg_data_v2)\n",
    "print(\"n_diffs:\", is_diff.sum().sum())"
   ]
  },
  {
   "cell_type": "code",
   "execution_count": 22,
   "metadata": {},
   "outputs": [
    {
     "name": "stdout",
     "output_type": "stream",
     "text": [
      "<class 'pandas.core.frame.DataFrame'>\n",
      "Index: 305811 entries, 100001 to 456255\n",
      "Columns: 112 entries, BURO_DAYS_CREDIT_MIN to CLOSED_MONTHS_BALANCE_SIZE_SUM\n",
      "dtypes: float64(108), int64(4)\n",
      "memory usage: 263.6 MB\n",
      "<class 'pandas.core.frame.DataFrame'>\n",
      "Index: 305811 entries, 100001 to 456255\n",
      "Columns: 112 entries, BURO_DAYS_CREDIT_MIN to CLOSED_MONTHS_BALANCE_SIZE_SUM\n",
      "dtypes: float64(108), int64(4)\n",
      "memory usage: 263.6 MB\n"
     ]
    }
   ],
   "source": [
    "agg_data_v1.info()\n",
    "agg_data_v2.info()"
   ]
  },
  {
   "cell_type": "markdown",
   "metadata": {},
   "source": [
    "### Version freestyle"
   ]
  },
  {
   "attachments": {},
   "cell_type": "markdown",
   "metadata": {},
   "source": [
    "## ✔ `PREVIOUS_APPLICATION`"
   ]
  },
  {
   "attachments": {},
   "cell_type": "markdown",
   "metadata": {},
   "source": [
    "### Chargement des tables"
   ]
  },
  {
   "cell_type": "code",
   "execution_count": 37,
   "metadata": {},
   "outputs": [],
   "source": [
    "from home_credit.lightgbm_kernel_v2 import load_PA_table_v1\n",
    "data_v1 = load_PA_table_v1()"
   ]
  },
  {
   "cell_type": "code",
   "execution_count": 38,
   "metadata": {},
   "outputs": [
    {
     "name": "stdout",
     "output_type": "stream",
     "text": [
      "load C:\\Users\\franc\\Projects\\pepper_credit_scoring_tool\\dataset\\pqt\\previous_application.pqt\n"
     ]
    }
   ],
   "source": [
    "from home_credit.lightgbm_kernel_v2 import load_PA_table_v2\n",
    "data_v2 = load_PA_table_v2()"
   ]
  },
  {
   "cell_type": "code",
   "execution_count": 39,
   "metadata": {},
   "outputs": [
    {
     "name": "stdout",
     "output_type": "stream",
     "text": [
      "n_diffs_bur: 0\n"
     ]
    }
   ],
   "source": [
    "from pepper.pd_utils import df_neq\n",
    "is_diff = df_neq(data_v1, data_v2)\n",
    "print(\"n_diffs_bur:\", is_diff.sum().sum())"
   ]
  },
  {
   "cell_type": "code",
   "execution_count": 40,
   "metadata": {},
   "outputs": [
    {
     "name": "stdout",
     "output_type": "stream",
     "text": [
      "dtypes are aligned\n"
     ]
    }
   ],
   "source": [
    "from pepper.pd_utils import check_dtypes_alignment\n",
    "check_dtypes_alignment(data_v1, data_v2)"
   ]
  },
  {
   "cell_type": "markdown",
   "metadata": {},
   "source": [
    "### One Hot Encoding des catégories n-binaires"
   ]
  },
  {
   "cell_type": "code",
   "execution_count": 41,
   "metadata": {},
   "outputs": [],
   "source": [
    "from home_credit.lightgbm_kernel import one_hot_encoder\n",
    "from home_credit.lightgbm_kernel_v2 import hot_encode_cats\n",
    "\n",
    "ohe_data_v1, catvar_names_v1 = one_hot_encoder(data_v1)\n",
    "ohe_data_v2, catvar_names_v2 = hot_encode_cats(data_v2, discard_constants=False)"
   ]
  },
  {
   "attachments": {},
   "cell_type": "markdown",
   "metadata": {},
   "source": [
    "Si on laisse `discard_constants` à sa valeur `True` par défaut, alors apparaît une différence de 14 colonnes `_nan` générées. Ce sont des colonnes constantes, donc sans intérêt. Notre version supprime de telles constantes qui peuvent être engendrées par `dummy_na=True`."
   ]
  },
  {
   "cell_type": "code",
   "execution_count": 42,
   "metadata": {},
   "outputs": [
    {
     "data": {
      "text/plain": [
       "(1670214, 180)"
      ]
     },
     "metadata": {},
     "output_type": "display_data"
    },
    {
     "data": {
      "text/plain": [
       "(1670214, 180)"
      ]
     },
     "metadata": {},
     "output_type": "display_data"
    }
   ],
   "source": [
    "display(ohe_data_v1.shape)\n",
    "display(ohe_data_v2.shape)"
   ]
  },
  {
   "cell_type": "code",
   "execution_count": 43,
   "metadata": {},
   "outputs": [
    {
     "data": {
      "text/plain": [
       "Index([], dtype='object')"
      ]
     },
     "metadata": {},
     "output_type": "display_data"
    }
   ],
   "source": [
    "cols_diff = ohe_data_v1.columns.difference(ohe_data_v2.columns)\n",
    "display(cols_diff)"
   ]
  },
  {
   "cell_type": "code",
   "execution_count": 44,
   "metadata": {},
   "outputs": [
    {
     "data": {
      "text/html": [
       "<div>\n",
       "<style scoped>\n",
       "    .dataframe tbody tr th:only-of-type {\n",
       "        vertical-align: middle;\n",
       "    }\n",
       "\n",
       "    .dataframe tbody tr th {\n",
       "        vertical-align: top;\n",
       "    }\n",
       "\n",
       "    .dataframe thead th {\n",
       "        text-align: right;\n",
       "    }\n",
       "</style>\n",
       "<table border=\"1\" class=\"dataframe\">\n",
       "  <thead>\n",
       "    <tr style=\"text-align: right;\">\n",
       "      <th></th>\n",
       "    </tr>\n",
       "  </thead>\n",
       "  <tbody>\n",
       "  </tbody>\n",
       "</table>\n",
       "</div>"
      ],
      "text/plain": [
       "Empty DataFrame\n",
       "Columns: []\n",
       "Index: []"
      ]
     },
     "metadata": {},
     "output_type": "display_data"
    }
   ],
   "source": [
    "import pandas as pd\n",
    "display(pd.DataFrame({\n",
    "    col : ohe_data_v1[col].value_counts()\n",
    "    for col in cols_diff\n",
    "}).T)"
   ]
  },
  {
   "attachments": {},
   "cell_type": "markdown",
   "metadata": {},
   "source": [
    "### Nettoyage des variables numériques\n",
    "\n",
    "Suppression ou correction des aberrations et valeurs manquantes pour les variables numériques.\n",
    "\n",
    "La valeur 365243 apparaît dans toutes les variables `DAYS` sauf `DAYS_DECISION`.\n",
    "\n",
    "Dans notre approche, on sélectionne pour effectuer la correction, les seules colonnes `DAYS` plutôt que d'appliquer la transformation à l'ensemble du dataframe, car nous avons découvert à nos dépens que certains `SK_ID` ont cette valeur."
   ]
  },
  {
   "cell_type": "code",
   "execution_count": 45,
   "metadata": {},
   "outputs": [
    {
     "data": {
      "text/plain": [
       "DAYS_DECISION                    -1.0\n",
       "DAYS_FIRST_DRAWING           365243.0\n",
       "DAYS_FIRST_DUE               365243.0\n",
       "DAYS_LAST_DUE_1ST_VERSION    365243.0\n",
       "DAYS_LAST_DUE                365243.0\n",
       "DAYS_TERMINATION             365243.0\n",
       "dtype: float64"
      ]
     },
     "metadata": {},
     "output_type": "display_data"
    }
   ],
   "source": [
    "cols = ohe_data_v2.columns\n",
    "days_cols = cols[cols.str.match(\"DAYS_\")]\n",
    "days_data = ohe_data_v2[days_cols]\n",
    "display(days_data.max())\n",
    "# display(days_data[(days_data == 365243).any(axis=1)])"
   ]
  },
  {
   "cell_type": "code",
   "execution_count": 46,
   "metadata": {},
   "outputs": [],
   "source": [
    "from home_credit.lightgbm_kernel_v2 import clean_PA_nums_v1, clean_PA_nums_v2\n",
    "clean_PA_nums_v1(ohe_data_v1)\n",
    "clean_PA_nums_v2(ohe_data_v2)"
   ]
  },
  {
   "cell_type": "code",
   "execution_count": 47,
   "metadata": {},
   "outputs": [
    {
     "name": "stdout",
     "output_type": "stream",
     "text": [
      "n_diffs: 0\n"
     ]
    }
   ],
   "source": [
    "from pepper.pd_utils import df_neq\n",
    "is_diff = df_neq(ohe_data_v1, ohe_data_v2)\n",
    "print(\"n_diffs:\", is_diff.sum().sum())"
   ]
  },
  {
   "cell_type": "markdown",
   "metadata": {},
   "source": [
    "### Création de variables additionnelles dérivées"
   ]
  },
  {
   "cell_type": "code",
   "execution_count": 48,
   "metadata": {},
   "outputs": [],
   "source": [
    "from home_credit.lightgbm_kernel_v2 import add_PA_derived_features_v1\n",
    "add_PA_derived_features_v1(ohe_data_v1)"
   ]
  },
  {
   "cell_type": "code",
   "execution_count": 49,
   "metadata": {},
   "outputs": [],
   "source": [
    "from home_credit.lightgbm_kernel_v2 import add_PA_derived_features as add_PA_derived_features_v2\n",
    "add_PA_derived_features_v2(ohe_data_v2)"
   ]
  },
  {
   "cell_type": "code",
   "execution_count": 50,
   "metadata": {},
   "outputs": [
    {
     "name": "stdout",
     "output_type": "stream",
     "text": [
      "n_diffs: 0\n"
     ]
    }
   ],
   "source": [
    "from pepper.pd_utils import df_neq\n",
    "is_diff = df_neq(ohe_data_v1, ohe_data_v2)\n",
    "print(\"n_diffs:\", is_diff.sum().sum())"
   ]
  },
  {
   "cell_type": "code",
   "execution_count": 51,
   "metadata": {},
   "outputs": [
    {
     "name": "stdout",
     "output_type": "stream",
     "text": [
      "dtypes diffs:\n"
     ]
    },
    {
     "data": {
      "text/plain": [
       "NAME_CONTRACT_TYPE_Cash loans                      bool\n",
       "NAME_CONTRACT_TYPE_Consumer loans                  bool\n",
       "NAME_CONTRACT_TYPE_Revolving loans                 bool\n",
       "NAME_CONTRACT_TYPE_XNA                             bool\n",
       "NAME_CONTRACT_TYPE_nan                             bool\n",
       "                                                   ... \n",
       "PRODUCT_COMBINATION_POS mobile with interest       bool\n",
       "PRODUCT_COMBINATION_POS mobile without interest    bool\n",
       "PRODUCT_COMBINATION_POS other with interest        bool\n",
       "PRODUCT_COMBINATION_POS others without interest    bool\n",
       "PRODUCT_COMBINATION_nan                            bool\n",
       "Length: 159, dtype: object"
      ]
     },
     "metadata": {},
     "output_type": "display_data"
    },
    {
     "data": {
      "text/plain": [
       "NAME_CONTRACT_TYPE_Cash loans                      int8\n",
       "NAME_CONTRACT_TYPE_Consumer loans                  int8\n",
       "NAME_CONTRACT_TYPE_Revolving loans                 int8\n",
       "NAME_CONTRACT_TYPE_XNA                             int8\n",
       "NAME_CONTRACT_TYPE_nan                             int8\n",
       "                                                   ... \n",
       "PRODUCT_COMBINATION_POS mobile with interest       int8\n",
       "PRODUCT_COMBINATION_POS mobile without interest    int8\n",
       "PRODUCT_COMBINATION_POS other with interest        int8\n",
       "PRODUCT_COMBINATION_POS others without interest    int8\n",
       "PRODUCT_COMBINATION_nan                            int8\n",
       "Length: 159, dtype: object"
      ]
     },
     "metadata": {},
     "output_type": "display_data"
    }
   ],
   "source": [
    "from pepper.pd_utils import check_dtypes_alignment\n",
    "check_dtypes_alignment(ohe_data_v1, ohe_data_v2)"
   ]
  },
  {
   "cell_type": "markdown",
   "metadata": {},
   "source": [
    "### Agrégation"
   ]
  },
  {
   "cell_type": "code",
   "execution_count": 52,
   "metadata": {},
   "outputs": [],
   "source": [
    "from home_credit.lightgbm_kernel_v2 import group_PA_by_curr_v1\n",
    "agg_data_v1 = group_PA_by_curr_v1(ohe_data_v1, catvar_names_v1)"
   ]
  },
  {
   "cell_type": "code",
   "execution_count": 53,
   "metadata": {},
   "outputs": [],
   "source": [
    "from home_credit.lightgbm_kernel_v2 import group_PA_by_curr_v2\n",
    "agg_data_v2 = group_PA_by_curr_v2(ohe_data_v2, catvar_names_v2)"
   ]
  },
  {
   "cell_type": "code",
   "execution_count": 54,
   "metadata": {},
   "outputs": [
    {
     "name": "stdout",
     "output_type": "stream",
     "text": [
      "n_diffs: 0\n"
     ]
    }
   ],
   "source": [
    "from pepper.pd_utils import df_neq\n",
    "is_diff = df_neq(agg_data_v1, agg_data_v2)\n",
    "print(\"n_diffs:\", is_diff.sum().sum())"
   ]
  },
  {
   "cell_type": "markdown",
   "metadata": {},
   "source": [
    "### Version intégrée"
   ]
  },
  {
   "cell_type": "code",
   "execution_count": 55,
   "metadata": {},
   "outputs": [],
   "source": [
    "from home_credit.lightgbm_kernel_v2 import previous_application_v1\n",
    "agg_data_v1 = previous_application_v1()"
   ]
  },
  {
   "cell_type": "code",
   "execution_count": 56,
   "metadata": {},
   "outputs": [],
   "source": [
    "from home_credit.lightgbm_kernel_v2 import previous_application_v2\n",
    "agg_data_v2 = previous_application_v2()"
   ]
  },
  {
   "cell_type": "code",
   "execution_count": 57,
   "metadata": {},
   "outputs": [
    {
     "name": "stdout",
     "output_type": "stream",
     "text": [
      "n_diffs: 0\n"
     ]
    }
   ],
   "source": [
    "from pepper.pd_utils import df_neq\n",
    "is_diff = df_neq(agg_data_v1, agg_data_v2)\n",
    "print(\"n_diffs:\", is_diff.sum().sum())"
   ]
  },
  {
   "cell_type": "code",
   "execution_count": 58,
   "metadata": {},
   "outputs": [
    {
     "name": "stdout",
     "output_type": "stream",
     "text": [
      "<class 'pandas.core.frame.DataFrame'>\n",
      "Index: 338857 entries, 100001 to 456255\n",
      "Columns: 233 entries, PREV_AMT_ANNUITY_MIN to REFUSED_CNT_PAYMENT_SUM\n",
      "dtypes: float64(229), int64(4)\n",
      "memory usage: 605.0 MB\n",
      "<class 'pandas.core.frame.DataFrame'>\n",
      "Index: 338857 entries, 100001 to 456255\n",
      "Columns: 233 entries, PREV_AMT_ANNUITY_MIN to REFUSED_CNT_PAYMENT_SUM\n",
      "dtypes: float64(229), int64(4)\n",
      "memory usage: 605.0 MB\n"
     ]
    }
   ],
   "source": [
    "agg_data_v1.info()\n",
    "agg_data_v2.info()"
   ]
  },
  {
   "cell_type": "markdown",
   "metadata": {},
   "source": [
    "### Version freestyle"
   ]
  },
  {
   "attachments": {},
   "cell_type": "markdown",
   "metadata": {},
   "source": [
    "## ✔ `POSH_CASH_BALANCE`"
   ]
  },
  {
   "cell_type": "markdown",
   "metadata": {},
   "source": [
    "### Chargement des tables"
   ]
  },
  {
   "cell_type": "code",
   "execution_count": 23,
   "metadata": {},
   "outputs": [],
   "source": [
    "from home_credit.lightgbm_kernel_v2 import load_PCB_table_v1\n",
    "data_v1 = load_PCB_table_v1()"
   ]
  },
  {
   "cell_type": "code",
   "execution_count": 24,
   "metadata": {},
   "outputs": [
    {
     "name": "stdout",
     "output_type": "stream",
     "text": [
      "load C:\\Users\\franc\\Projects\\pepper_credit_scoring_tool\\dataset\\pqt\\POS_CASH_balance.pqt\n"
     ]
    }
   ],
   "source": [
    "from home_credit.lightgbm_kernel_v2 import load_PCB_table_v2\n",
    "data_v2 = load_PCB_table_v2()"
   ]
  },
  {
   "cell_type": "code",
   "execution_count": 25,
   "metadata": {},
   "outputs": [
    {
     "name": "stdout",
     "output_type": "stream",
     "text": [
      "n_diffs: 0\n"
     ]
    }
   ],
   "source": [
    "from pepper.pd_utils import df_neq\n",
    "is_diff = df_neq(data_v1, data_v2)\n",
    "print(\"n_diffs:\", is_diff.sum().sum())"
   ]
  },
  {
   "cell_type": "code",
   "execution_count": 26,
   "metadata": {},
   "outputs": [
    {
     "name": "stdout",
     "output_type": "stream",
     "text": [
      "dtypes are aligned\n"
     ]
    }
   ],
   "source": [
    "from pepper.pd_utils import check_dtypes_alignment\n",
    "check_dtypes_alignment(data_v1, data_v2)"
   ]
  },
  {
   "cell_type": "markdown",
   "metadata": {},
   "source": [
    "### One Hot Encoding des catégories n-binaires"
   ]
  },
  {
   "cell_type": "code",
   "execution_count": 27,
   "metadata": {},
   "outputs": [],
   "source": [
    "from home_credit.lightgbm_kernel import one_hot_encoder\n",
    "from home_credit.lightgbm_kernel_v2 import hot_encode_cats\n",
    "\n",
    "ohe_data_v1, catvar_names_v1 = one_hot_encoder(data_v1)\n",
    "ohe_data_v2, catvar_names_v2 = hot_encode_cats(data_v2, discard_constants=False)"
   ]
  },
  {
   "attachments": {},
   "cell_type": "markdown",
   "metadata": {},
   "source": [
    "Si on laisse `discard_constants` à sa valeur `True` par défaut, alors apparaît une différence de 3 colonnes : `CREDIT_ACTIVE_nan`, `CREDIT_CURRENCY_nan`, `CREDIT_TYPE_nan`. Ce sont des colonnes constantes, donc sans intérêt. Notre version supprime de telles constantes qui pourraient être engendrées par `dummy_na=True`."
   ]
  },
  {
   "cell_type": "code",
   "execution_count": 12,
   "metadata": {},
   "outputs": [
    {
     "data": {
      "text/plain": [
       "(3840312, 30)"
      ]
     },
     "metadata": {},
     "output_type": "display_data"
    },
    {
     "data": {
      "text/plain": [
       "(3840312, 30)"
      ]
     },
     "metadata": {},
     "output_type": "display_data"
    }
   ],
   "source": [
    "display(ohe_data_v1.shape)\n",
    "display(ohe_data_v2.shape)"
   ]
  },
  {
   "cell_type": "code",
   "execution_count": 29,
   "metadata": {},
   "outputs": [
    {
     "data": {
      "text/plain": [
       "Index([], dtype='object')"
      ]
     },
     "metadata": {},
     "output_type": "display_data"
    }
   ],
   "source": [
    "cols_diff = ohe_data_v1.columns.difference(ohe_data_v2.columns)\n",
    "display(cols_diff)"
   ]
  },
  {
   "cell_type": "code",
   "execution_count": 30,
   "metadata": {},
   "outputs": [
    {
     "data": {
      "text/html": [
       "<div>\n",
       "<style scoped>\n",
       "    .dataframe tbody tr th:only-of-type {\n",
       "        vertical-align: middle;\n",
       "    }\n",
       "\n",
       "    .dataframe tbody tr th {\n",
       "        vertical-align: top;\n",
       "    }\n",
       "\n",
       "    .dataframe thead th {\n",
       "        text-align: right;\n",
       "    }\n",
       "</style>\n",
       "<table border=\"1\" class=\"dataframe\">\n",
       "  <thead>\n",
       "    <tr style=\"text-align: right;\">\n",
       "      <th></th>\n",
       "    </tr>\n",
       "  </thead>\n",
       "  <tbody>\n",
       "  </tbody>\n",
       "</table>\n",
       "</div>"
      ],
      "text/plain": [
       "Empty DataFrame\n",
       "Columns: []\n",
       "Index: []"
      ]
     },
     "metadata": {},
     "output_type": "display_data"
    }
   ],
   "source": [
    "import pandas as pd\n",
    "display(pd.DataFrame({\n",
    "    col : ohe_data_v1[col].value_counts()\n",
    "    for col in cols_diff\n",
    "}).T)"
   ]
  },
  {
   "cell_type": "code",
   "execution_count": 31,
   "metadata": {},
   "outputs": [
    {
     "name": "stdout",
     "output_type": "stream",
     "text": [
      "dtypes are aligned\n"
     ]
    }
   ],
   "source": [
    "from pepper.pd_utils import check_dtypes_alignment\n",
    "check_dtypes_alignment(ohe_data_v1, ohe_data_v2)"
   ]
  },
  {
   "cell_type": "markdown",
   "metadata": {},
   "source": [
    "### Agrégation"
   ]
  },
  {
   "cell_type": "code",
   "execution_count": 32,
   "metadata": {},
   "outputs": [],
   "source": [
    "from home_credit.lightgbm_kernel_v2 import group_PCB_by_curr_v1\n",
    "agg_data_v1 = group_PCB_by_curr_v1(ohe_data_v1, catvar_names_v1)"
   ]
  },
  {
   "cell_type": "code",
   "execution_count": 33,
   "metadata": {},
   "outputs": [],
   "source": [
    "from home_credit.lightgbm_kernel_v2 import group_PCB_by_curr_v2\n",
    "agg_data_v2 = group_PCB_by_curr_v2(ohe_data_v2, catvar_names_v2)"
   ]
  },
  {
   "cell_type": "code",
   "execution_count": 34,
   "metadata": {},
   "outputs": [
    {
     "name": "stdout",
     "output_type": "stream",
     "text": [
      "n_diffs: 0\n"
     ]
    }
   ],
   "source": [
    "from pepper.pd_utils import df_neq\n",
    "is_diff = df_neq(agg_data_v1, agg_data_v1)\n",
    "print(\"n_diffs:\", is_diff.sum().sum())"
   ]
  },
  {
   "cell_type": "markdown",
   "metadata": {},
   "source": [
    "### Version intégrée"
   ]
  },
  {
   "cell_type": "code",
   "execution_count": 1,
   "metadata": {},
   "outputs": [],
   "source": [
    "from home_credit.lightgbm_kernel_v2 import pos_cash_balance_v1\n",
    "agg_data_v1 = pos_cash_balance_v1()"
   ]
  },
  {
   "cell_type": "code",
   "execution_count": 2,
   "metadata": {},
   "outputs": [
    {
     "name": "stdout",
     "output_type": "stream",
     "text": [
      "load C:\\Users\\franc\\Projects\\pepper_credit_scoring_tool\\dataset\\pqt\\POS_CASH_balance.pqt\n"
     ]
    }
   ],
   "source": [
    "from home_credit.lightgbm_kernel_v2 import pos_cash_balance_v2\n",
    "agg_data_v2 = pos_cash_balance_v2()"
   ]
  },
  {
   "cell_type": "code",
   "execution_count": 3,
   "metadata": {},
   "outputs": [
    {
     "name": "stdout",
     "output_type": "stream",
     "text": [
      "n_diffs: 0\n"
     ]
    }
   ],
   "source": [
    "from pepper.pd_utils import df_neq\n",
    "is_diff = df_neq(agg_data_v1, agg_data_v2)\n",
    "print(\"n_diffs:\", is_diff.sum().sum())"
   ]
  },
  {
   "cell_type": "code",
   "execution_count": 4,
   "metadata": {},
   "outputs": [
    {
     "name": "stdout",
     "output_type": "stream",
     "text": [
      "<class 'pandas.core.frame.DataFrame'>\n",
      "Index: 337252 entries, 100001 to 456255\n",
      "Data columns (total 17 columns):\n",
      " #   Column                                               Non-Null Count   Dtype  \n",
      "---  ------                                               --------------   -----  \n",
      " 0   POS_MONTHS_BALANCE_MAX                               337252 non-null  int64  \n",
      " 1   POS_MONTHS_BALANCE_MEAN                              337252 non-null  float64\n",
      " 2   POS_MONTHS_BALANCE_SIZE                              337252 non-null  int64  \n",
      " 3   POS_SK_DPD_MAX                                       337252 non-null  int64  \n",
      " 4   POS_SK_DPD_MEAN                                      337252 non-null  float64\n",
      " 5   POS_SK_DPD_DEF_MAX                                   337252 non-null  int64  \n",
      " 6   POS_SK_DPD_DEF_MEAN                                  337252 non-null  float64\n",
      " 7   POS_NAME_CONTRACT_STATUS_Active_MEAN                 337252 non-null  float64\n",
      " 8   POS_NAME_CONTRACT_STATUS_Amortized debt_MEAN         337252 non-null  float64\n",
      " 9   POS_NAME_CONTRACT_STATUS_Approved_MEAN               337252 non-null  float64\n",
      " 10  POS_NAME_CONTRACT_STATUS_Canceled_MEAN               337252 non-null  float64\n",
      " 11  POS_NAME_CONTRACT_STATUS_Completed_MEAN              337252 non-null  float64\n",
      " 12  POS_NAME_CONTRACT_STATUS_Demand_MEAN                 337252 non-null  float64\n",
      " 13  POS_NAME_CONTRACT_STATUS_Returned to the store_MEAN  337252 non-null  float64\n",
      " 14  POS_NAME_CONTRACT_STATUS_Signed_MEAN                 337252 non-null  float64\n",
      " 15  POS_NAME_CONTRACT_STATUS_XNA_MEAN                    337252 non-null  float64\n",
      " 16  POS_COUNT                                            337252 non-null  int64  \n",
      "dtypes: float64(12), int64(5)\n",
      "memory usage: 46.3 MB\n",
      "<class 'pandas.core.frame.DataFrame'>\n",
      "Index: 337252 entries, 100001 to 456255\n",
      "Data columns (total 17 columns):\n",
      " #   Column                                               Non-Null Count   Dtype  \n",
      "---  ------                                               --------------   -----  \n",
      " 0   POS_MONTHS_BALANCE_MAX                               337252 non-null  int64  \n",
      " 1   POS_MONTHS_BALANCE_MEAN                              337252 non-null  float64\n",
      " 2   POS_MONTHS_BALANCE_SIZE                              337252 non-null  int64  \n",
      " 3   POS_SK_DPD_MAX                                       337252 non-null  int64  \n",
      " 4   POS_SK_DPD_MEAN                                      337252 non-null  float64\n",
      " 5   POS_SK_DPD_DEF_MAX                                   337252 non-null  int64  \n",
      " 6   POS_SK_DPD_DEF_MEAN                                  337252 non-null  float64\n",
      " 7   POS_NAME_CONTRACT_STATUS_Active_MEAN                 337252 non-null  float64\n",
      " 8   POS_NAME_CONTRACT_STATUS_Amortized debt_MEAN         337252 non-null  float64\n",
      " 9   POS_NAME_CONTRACT_STATUS_Approved_MEAN               337252 non-null  float64\n",
      " 10  POS_NAME_CONTRACT_STATUS_Canceled_MEAN               337252 non-null  float64\n",
      " 11  POS_NAME_CONTRACT_STATUS_Completed_MEAN              337252 non-null  float64\n",
      " 12  POS_NAME_CONTRACT_STATUS_Demand_MEAN                 337252 non-null  float64\n",
      " 13  POS_NAME_CONTRACT_STATUS_Returned to the store_MEAN  337252 non-null  float64\n",
      " 14  POS_NAME_CONTRACT_STATUS_Signed_MEAN                 337252 non-null  float64\n",
      " 15  POS_NAME_CONTRACT_STATUS_XNA_MEAN                    337252 non-null  float64\n",
      " 16  POS_COUNT                                            337252 non-null  int64  \n",
      "dtypes: float64(12), int64(5)\n",
      "memory usage: 46.3 MB\n"
     ]
    }
   ],
   "source": [
    "agg_data_v1.info()\n",
    "agg_data_v2.info()"
   ]
  },
  {
   "attachments": {},
   "cell_type": "markdown",
   "metadata": {},
   "source": [
    "## ✔ `CREDIT_CARD_BALANCE`"
   ]
  },
  {
   "cell_type": "markdown",
   "metadata": {},
   "source": [
    "### Chargement des tables"
   ]
  },
  {
   "cell_type": "code",
   "execution_count": 5,
   "metadata": {},
   "outputs": [],
   "source": [
    "from home_credit.lightgbm_kernel_v2 import load_CCB_table_v1\n",
    "data_v1 = load_CCB_table_v1()"
   ]
  },
  {
   "cell_type": "code",
   "execution_count": 6,
   "metadata": {},
   "outputs": [
    {
     "name": "stdout",
     "output_type": "stream",
     "text": [
      "load C:\\Users\\franc\\Projects\\pepper_credit_scoring_tool\\dataset\\pqt\\credit_card_balance.pqt\n"
     ]
    }
   ],
   "source": [
    "from home_credit.lightgbm_kernel_v2 import load_CCB_table_v2\n",
    "data_v2 = load_CCB_table_v2()"
   ]
  },
  {
   "cell_type": "code",
   "execution_count": 7,
   "metadata": {},
   "outputs": [
    {
     "name": "stdout",
     "output_type": "stream",
     "text": [
      "n_diffs: 0\n"
     ]
    }
   ],
   "source": [
    "from pepper.pd_utils import df_neq\n",
    "is_diff = df_neq(data_v1, data_v2)\n",
    "print(\"n_diffs:\", is_diff.sum().sum())"
   ]
  },
  {
   "cell_type": "code",
   "execution_count": 8,
   "metadata": {},
   "outputs": [
    {
     "name": "stdout",
     "output_type": "stream",
     "text": [
      "dtypes are aligned\n"
     ]
    }
   ],
   "source": [
    "from pepper.pd_utils import check_dtypes_alignment\n",
    "check_dtypes_alignment(data_v1, data_v2)"
   ]
  },
  {
   "cell_type": "markdown",
   "metadata": {},
   "source": [
    "### One Hot Encoding des catégories n-binaires"
   ]
  },
  {
   "cell_type": "code",
   "execution_count": 13,
   "metadata": {},
   "outputs": [],
   "source": [
    "from home_credit.lightgbm_kernel import one_hot_encoder\n",
    "from home_credit.lightgbm_kernel_v2 import hot_encode_cats\n",
    "\n",
    "ohe_data_v1, catvar_names_v1 = one_hot_encoder(data_v1)\n",
    "ohe_data_v2, catvar_names_v2 = hot_encode_cats(data_v2, discard_constants=False)"
   ]
  },
  {
   "attachments": {},
   "cell_type": "markdown",
   "metadata": {},
   "source": [
    "Si on laisse `discard_constants` à sa valeur `True` par défaut, alors apparaît une différence de 3 colonnes : `CREDIT_ACTIVE_nan`, `CREDIT_CURRENCY_nan`, `CREDIT_TYPE_nan`. C sont des colonnes constantes, donc sans intérêt. Notre version supprime de telles constantes qui pourraient être engendrées par `dummy_na=True`."
   ]
  },
  {
   "cell_type": "code",
   "execution_count": 14,
   "metadata": {},
   "outputs": [
    {
     "data": {
      "text/plain": [
       "(3840312, 30)"
      ]
     },
     "metadata": {},
     "output_type": "display_data"
    },
    {
     "data": {
      "text/plain": [
       "(3840312, 30)"
      ]
     },
     "metadata": {},
     "output_type": "display_data"
    }
   ],
   "source": [
    "display(ohe_data_v1.shape)\n",
    "display(ohe_data_v2.shape)"
   ]
  },
  {
   "cell_type": "code",
   "execution_count": 15,
   "metadata": {},
   "outputs": [
    {
     "data": {
      "text/plain": [
       "Index([], dtype='object')"
      ]
     },
     "metadata": {},
     "output_type": "display_data"
    }
   ],
   "source": [
    "cols_diff = ohe_data_v1.columns.difference(ohe_data_v2.columns)\n",
    "display(cols_diff)"
   ]
  },
  {
   "cell_type": "code",
   "execution_count": 16,
   "metadata": {},
   "outputs": [
    {
     "data": {
      "text/html": [
       "<div>\n",
       "<style scoped>\n",
       "    .dataframe tbody tr th:only-of-type {\n",
       "        vertical-align: middle;\n",
       "    }\n",
       "\n",
       "    .dataframe tbody tr th {\n",
       "        vertical-align: top;\n",
       "    }\n",
       "\n",
       "    .dataframe thead th {\n",
       "        text-align: right;\n",
       "    }\n",
       "</style>\n",
       "<table border=\"1\" class=\"dataframe\">\n",
       "  <thead>\n",
       "    <tr style=\"text-align: right;\">\n",
       "      <th></th>\n",
       "    </tr>\n",
       "  </thead>\n",
       "  <tbody>\n",
       "  </tbody>\n",
       "</table>\n",
       "</div>"
      ],
      "text/plain": [
       "Empty DataFrame\n",
       "Columns: []\n",
       "Index: []"
      ]
     },
     "metadata": {},
     "output_type": "display_data"
    }
   ],
   "source": [
    "import pandas as pd\n",
    "display(pd.DataFrame({\n",
    "    col : ohe_data_v1[col].value_counts()\n",
    "    for col in cols_diff\n",
    "}).T)"
   ]
  },
  {
   "cell_type": "markdown",
   "metadata": {},
   "source": [
    "### Agrégation"
   ]
  },
  {
   "cell_type": "code",
   "execution_count": 17,
   "metadata": {},
   "outputs": [],
   "source": [
    "from home_credit.lightgbm_kernel_v2 import group_CCB_by_curr_v1\n",
    "agg_data_v1 = group_CCB_by_curr_v1(ohe_data_v1, catvar_names_v1)"
   ]
  },
  {
   "cell_type": "code",
   "execution_count": 18,
   "metadata": {},
   "outputs": [],
   "source": [
    "from home_credit.lightgbm_kernel_v2 import group_CCB_by_curr_v2\n",
    "agg_data_v2 = group_CCB_by_curr_v2(ohe_data_v2, catvar_names_v2)"
   ]
  },
  {
   "cell_type": "code",
   "execution_count": 19,
   "metadata": {},
   "outputs": [
    {
     "name": "stdout",
     "output_type": "stream",
     "text": [
      "n_diffs: 0\n"
     ]
    }
   ],
   "source": [
    "from pepper.pd_utils import df_neq\n",
    "is_diff = df_neq(agg_data_v1, agg_data_v1)\n",
    "print(\"n_diffs:\", is_diff.sum().sum())"
   ]
  },
  {
   "cell_type": "markdown",
   "metadata": {},
   "source": [
    "### Version intégrée"
   ]
  },
  {
   "cell_type": "code",
   "execution_count": 3,
   "metadata": {},
   "outputs": [],
   "source": [
    "from home_credit.lightgbm_kernel_v2 import credit_card_balance_v1\n",
    "agg_data_v1 = credit_card_balance_v1()"
   ]
  },
  {
   "cell_type": "code",
   "execution_count": 4,
   "metadata": {},
   "outputs": [
    {
     "name": "stdout",
     "output_type": "stream",
     "text": [
      "load C:\\Users\\franc\\Projects\\pepper_credit_scoring_tool\\dataset\\pqt\\credit_card_balance.pqt\n"
     ]
    }
   ],
   "source": [
    "from home_credit.lightgbm_kernel_v2 import credit_card_balance_v2\n",
    "agg_data_v2 = credit_card_balance_v2()"
   ]
  },
  {
   "cell_type": "code",
   "execution_count": 5,
   "metadata": {},
   "outputs": [
    {
     "name": "stdout",
     "output_type": "stream",
     "text": [
      "n_diffs: 0\n"
     ]
    }
   ],
   "source": [
    "from pepper.pd_utils import df_neq\n",
    "is_diff = df_neq(agg_data_v1, agg_data_v2)\n",
    "print(\"n_diffs:\", is_diff.sum().sum())"
   ]
  },
  {
   "cell_type": "code",
   "execution_count": 6,
   "metadata": {},
   "outputs": [
    {
     "name": "stdout",
     "output_type": "stream",
     "text": [
      "<class 'pandas.core.frame.DataFrame'>\n",
      "Index: 103558 entries, 100006 to 456250\n",
      "Columns: 136 entries, CC_MONTHS_BALANCE_MIN to CC_COUNT\n",
      "dtypes: bool(14), float64(99), int64(23)\n",
      "memory usage: 98.6 MB\n",
      "<class 'pandas.core.frame.DataFrame'>\n",
      "Index: 103558 entries, 100006 to 456250\n",
      "Columns: 136 entries, CC_MONTHS_BALANCE_MIN to CC_COUNT\n",
      "dtypes: bool(14), float64(99), int64(23)\n",
      "memory usage: 98.6 MB\n"
     ]
    }
   ],
   "source": [
    "agg_data_v1.info()\n",
    "agg_data_v2.info()"
   ]
  },
  {
   "cell_type": "code",
   "execution_count": 7,
   "metadata": {},
   "outputs": [
    {
     "data": {
      "text/html": [
       "<div>\n",
       "<style scoped>\n",
       "    .dataframe tbody tr th:only-of-type {\n",
       "        vertical-align: middle;\n",
       "    }\n",
       "\n",
       "    .dataframe tbody tr th {\n",
       "        vertical-align: top;\n",
       "    }\n",
       "\n",
       "    .dataframe thead th {\n",
       "        text-align: right;\n",
       "    }\n",
       "</style>\n",
       "<table border=\"1\" class=\"dataframe\">\n",
       "  <thead>\n",
       "    <tr style=\"text-align: right;\">\n",
       "      <th></th>\n",
       "      <th>CC_MONTHS_BALANCE_MIN</th>\n",
       "      <th>CC_MONTHS_BALANCE_MAX</th>\n",
       "      <th>CC_MONTHS_BALANCE_MEAN</th>\n",
       "      <th>CC_MONTHS_BALANCE_SUM</th>\n",
       "      <th>CC_MONTHS_BALANCE_VAR</th>\n",
       "      <th>CC_AMT_BALANCE_MIN</th>\n",
       "      <th>CC_AMT_BALANCE_MAX</th>\n",
       "      <th>CC_AMT_BALANCE_MEAN</th>\n",
       "      <th>CC_AMT_BALANCE_SUM</th>\n",
       "      <th>CC_AMT_BALANCE_VAR</th>\n",
       "      <th>...</th>\n",
       "      <th>CC_NAME_CONTRACT_STATUS_Sent proposal_MAX</th>\n",
       "      <th>CC_NAME_CONTRACT_STATUS_Sent proposal_MEAN</th>\n",
       "      <th>CC_NAME_CONTRACT_STATUS_Sent proposal_SUM</th>\n",
       "      <th>CC_NAME_CONTRACT_STATUS_Sent proposal_VAR</th>\n",
       "      <th>CC_NAME_CONTRACT_STATUS_Signed_MIN</th>\n",
       "      <th>CC_NAME_CONTRACT_STATUS_Signed_MAX</th>\n",
       "      <th>CC_NAME_CONTRACT_STATUS_Signed_MEAN</th>\n",
       "      <th>CC_NAME_CONTRACT_STATUS_Signed_SUM</th>\n",
       "      <th>CC_NAME_CONTRACT_STATUS_Signed_VAR</th>\n",
       "      <th>CC_COUNT</th>\n",
       "    </tr>\n",
       "    <tr>\n",
       "      <th>SK_ID_CURR</th>\n",
       "      <th></th>\n",
       "      <th></th>\n",
       "      <th></th>\n",
       "      <th></th>\n",
       "      <th></th>\n",
       "      <th></th>\n",
       "      <th></th>\n",
       "      <th></th>\n",
       "      <th></th>\n",
       "      <th></th>\n",
       "      <th></th>\n",
       "      <th></th>\n",
       "      <th></th>\n",
       "      <th></th>\n",
       "      <th></th>\n",
       "      <th></th>\n",
       "      <th></th>\n",
       "      <th></th>\n",
       "      <th></th>\n",
       "      <th></th>\n",
       "      <th></th>\n",
       "    </tr>\n",
       "  </thead>\n",
       "  <tbody>\n",
       "    <tr>\n",
       "      <th>100006</th>\n",
       "      <td>-6</td>\n",
       "      <td>-1</td>\n",
       "      <td>-3.5</td>\n",
       "      <td>-21</td>\n",
       "      <td>3.5</td>\n",
       "      <td>0.000</td>\n",
       "      <td>0.000</td>\n",
       "      <td>0.000000</td>\n",
       "      <td>0.000</td>\n",
       "      <td>0.000000e+00</td>\n",
       "      <td>...</td>\n",
       "      <td>False</td>\n",
       "      <td>0.0</td>\n",
       "      <td>0</td>\n",
       "      <td>0.0</td>\n",
       "      <td>False</td>\n",
       "      <td>False</td>\n",
       "      <td>0.0</td>\n",
       "      <td>0</td>\n",
       "      <td>0.0</td>\n",
       "      <td>6</td>\n",
       "    </tr>\n",
       "    <tr>\n",
       "      <th>100011</th>\n",
       "      <td>-75</td>\n",
       "      <td>-2</td>\n",
       "      <td>-38.5</td>\n",
       "      <td>-2849</td>\n",
       "      <td>462.5</td>\n",
       "      <td>0.000</td>\n",
       "      <td>189000.000</td>\n",
       "      <td>54482.111149</td>\n",
       "      <td>4031676.225</td>\n",
       "      <td>4.641321e+09</td>\n",
       "      <td>...</td>\n",
       "      <td>False</td>\n",
       "      <td>0.0</td>\n",
       "      <td>0</td>\n",
       "      <td>0.0</td>\n",
       "      <td>False</td>\n",
       "      <td>False</td>\n",
       "      <td>0.0</td>\n",
       "      <td>0</td>\n",
       "      <td>0.0</td>\n",
       "      <td>74</td>\n",
       "    </tr>\n",
       "    <tr>\n",
       "      <th>100013</th>\n",
       "      <td>-96</td>\n",
       "      <td>-1</td>\n",
       "      <td>-48.5</td>\n",
       "      <td>-4656</td>\n",
       "      <td>776.0</td>\n",
       "      <td>0.000</td>\n",
       "      <td>161420.220</td>\n",
       "      <td>18159.919219</td>\n",
       "      <td>1743352.245</td>\n",
       "      <td>1.869473e+09</td>\n",
       "      <td>...</td>\n",
       "      <td>False</td>\n",
       "      <td>0.0</td>\n",
       "      <td>0</td>\n",
       "      <td>0.0</td>\n",
       "      <td>False</td>\n",
       "      <td>False</td>\n",
       "      <td>0.0</td>\n",
       "      <td>0</td>\n",
       "      <td>0.0</td>\n",
       "      <td>96</td>\n",
       "    </tr>\n",
       "    <tr>\n",
       "      <th>100021</th>\n",
       "      <td>-18</td>\n",
       "      <td>-2</td>\n",
       "      <td>-10.0</td>\n",
       "      <td>-170</td>\n",
       "      <td>25.5</td>\n",
       "      <td>0.000</td>\n",
       "      <td>0.000</td>\n",
       "      <td>0.000000</td>\n",
       "      <td>0.000</td>\n",
       "      <td>0.000000e+00</td>\n",
       "      <td>...</td>\n",
       "      <td>False</td>\n",
       "      <td>0.0</td>\n",
       "      <td>0</td>\n",
       "      <td>0.0</td>\n",
       "      <td>False</td>\n",
       "      <td>False</td>\n",
       "      <td>0.0</td>\n",
       "      <td>0</td>\n",
       "      <td>0.0</td>\n",
       "      <td>17</td>\n",
       "    </tr>\n",
       "    <tr>\n",
       "      <th>100023</th>\n",
       "      <td>-11</td>\n",
       "      <td>-4</td>\n",
       "      <td>-7.5</td>\n",
       "      <td>-60</td>\n",
       "      <td>6.0</td>\n",
       "      <td>0.000</td>\n",
       "      <td>0.000</td>\n",
       "      <td>0.000000</td>\n",
       "      <td>0.000</td>\n",
       "      <td>0.000000e+00</td>\n",
       "      <td>...</td>\n",
       "      <td>False</td>\n",
       "      <td>0.0</td>\n",
       "      <td>0</td>\n",
       "      <td>0.0</td>\n",
       "      <td>False</td>\n",
       "      <td>False</td>\n",
       "      <td>0.0</td>\n",
       "      <td>0</td>\n",
       "      <td>0.0</td>\n",
       "      <td>8</td>\n",
       "    </tr>\n",
       "    <tr>\n",
       "      <th>...</th>\n",
       "      <td>...</td>\n",
       "      <td>...</td>\n",
       "      <td>...</td>\n",
       "      <td>...</td>\n",
       "      <td>...</td>\n",
       "      <td>...</td>\n",
       "      <td>...</td>\n",
       "      <td>...</td>\n",
       "      <td>...</td>\n",
       "      <td>...</td>\n",
       "      <td>...</td>\n",
       "      <td>...</td>\n",
       "      <td>...</td>\n",
       "      <td>...</td>\n",
       "      <td>...</td>\n",
       "      <td>...</td>\n",
       "      <td>...</td>\n",
       "      <td>...</td>\n",
       "      <td>...</td>\n",
       "      <td>...</td>\n",
       "      <td>...</td>\n",
       "    </tr>\n",
       "    <tr>\n",
       "      <th>456244</th>\n",
       "      <td>-41</td>\n",
       "      <td>-1</td>\n",
       "      <td>-21.0</td>\n",
       "      <td>-861</td>\n",
       "      <td>143.5</td>\n",
       "      <td>0.000</td>\n",
       "      <td>453627.675</td>\n",
       "      <td>131834.730732</td>\n",
       "      <td>5405223.960</td>\n",
       "      <td>3.295703e+10</td>\n",
       "      <td>...</td>\n",
       "      <td>False</td>\n",
       "      <td>0.0</td>\n",
       "      <td>0</td>\n",
       "      <td>0.0</td>\n",
       "      <td>False</td>\n",
       "      <td>False</td>\n",
       "      <td>0.0</td>\n",
       "      <td>0</td>\n",
       "      <td>0.0</td>\n",
       "      <td>41</td>\n",
       "    </tr>\n",
       "    <tr>\n",
       "      <th>456246</th>\n",
       "      <td>-9</td>\n",
       "      <td>-2</td>\n",
       "      <td>-5.5</td>\n",
       "      <td>-44</td>\n",
       "      <td>6.0</td>\n",
       "      <td>0.000</td>\n",
       "      <td>43490.115</td>\n",
       "      <td>13136.731875</td>\n",
       "      <td>105093.855</td>\n",
       "      <td>3.335511e+08</td>\n",
       "      <td>...</td>\n",
       "      <td>False</td>\n",
       "      <td>0.0</td>\n",
       "      <td>0</td>\n",
       "      <td>0.0</td>\n",
       "      <td>False</td>\n",
       "      <td>False</td>\n",
       "      <td>0.0</td>\n",
       "      <td>0</td>\n",
       "      <td>0.0</td>\n",
       "      <td>8</td>\n",
       "    </tr>\n",
       "    <tr>\n",
       "      <th>456247</th>\n",
       "      <td>-96</td>\n",
       "      <td>-2</td>\n",
       "      <td>-49.0</td>\n",
       "      <td>-4655</td>\n",
       "      <td>760.0</td>\n",
       "      <td>0.000</td>\n",
       "      <td>190202.130</td>\n",
       "      <td>23216.396211</td>\n",
       "      <td>2205557.640</td>\n",
       "      <td>3.200871e+09</td>\n",
       "      <td>...</td>\n",
       "      <td>False</td>\n",
       "      <td>0.0</td>\n",
       "      <td>0</td>\n",
       "      <td>0.0</td>\n",
       "      <td>False</td>\n",
       "      <td>False</td>\n",
       "      <td>0.0</td>\n",
       "      <td>0</td>\n",
       "      <td>0.0</td>\n",
       "      <td>95</td>\n",
       "    </tr>\n",
       "    <tr>\n",
       "      <th>456248</th>\n",
       "      <td>-24</td>\n",
       "      <td>-2</td>\n",
       "      <td>-13.0</td>\n",
       "      <td>-299</td>\n",
       "      <td>46.0</td>\n",
       "      <td>0.000</td>\n",
       "      <td>0.000</td>\n",
       "      <td>0.000000</td>\n",
       "      <td>0.000</td>\n",
       "      <td>0.000000e+00</td>\n",
       "      <td>...</td>\n",
       "      <td>False</td>\n",
       "      <td>0.0</td>\n",
       "      <td>0</td>\n",
       "      <td>0.0</td>\n",
       "      <td>False</td>\n",
       "      <td>False</td>\n",
       "      <td>0.0</td>\n",
       "      <td>0</td>\n",
       "      <td>0.0</td>\n",
       "      <td>23</td>\n",
       "    </tr>\n",
       "    <tr>\n",
       "      <th>456250</th>\n",
       "      <td>-12</td>\n",
       "      <td>-1</td>\n",
       "      <td>-6.5</td>\n",
       "      <td>-78</td>\n",
       "      <td>13.0</td>\n",
       "      <td>153832.725</td>\n",
       "      <td>200208.915</td>\n",
       "      <td>173589.326250</td>\n",
       "      <td>2083071.915</td>\n",
       "      <td>1.667716e+08</td>\n",
       "      <td>...</td>\n",
       "      <td>False</td>\n",
       "      <td>0.0</td>\n",
       "      <td>0</td>\n",
       "      <td>0.0</td>\n",
       "      <td>False</td>\n",
       "      <td>False</td>\n",
       "      <td>0.0</td>\n",
       "      <td>0</td>\n",
       "      <td>0.0</td>\n",
       "      <td>12</td>\n",
       "    </tr>\n",
       "  </tbody>\n",
       "</table>\n",
       "<p>103558 rows × 136 columns</p>\n",
       "</div>"
      ],
      "text/plain": [
       "            CC_MONTHS_BALANCE_MIN  CC_MONTHS_BALANCE_MAX   \n",
       "SK_ID_CURR                                                 \n",
       "100006                         -6                     -1  \\\n",
       "100011                        -75                     -2   \n",
       "100013                        -96                     -1   \n",
       "100021                        -18                     -2   \n",
       "100023                        -11                     -4   \n",
       "...                           ...                    ...   \n",
       "456244                        -41                     -1   \n",
       "456246                         -9                     -2   \n",
       "456247                        -96                     -2   \n",
       "456248                        -24                     -2   \n",
       "456250                        -12                     -1   \n",
       "\n",
       "            CC_MONTHS_BALANCE_MEAN  CC_MONTHS_BALANCE_SUM   \n",
       "SK_ID_CURR                                                  \n",
       "100006                        -3.5                    -21  \\\n",
       "100011                       -38.5                  -2849   \n",
       "100013                       -48.5                  -4656   \n",
       "100021                       -10.0                   -170   \n",
       "100023                        -7.5                    -60   \n",
       "...                            ...                    ...   \n",
       "456244                       -21.0                   -861   \n",
       "456246                        -5.5                    -44   \n",
       "456247                       -49.0                  -4655   \n",
       "456248                       -13.0                   -299   \n",
       "456250                        -6.5                    -78   \n",
       "\n",
       "            CC_MONTHS_BALANCE_VAR  CC_AMT_BALANCE_MIN  CC_AMT_BALANCE_MAX   \n",
       "SK_ID_CURR                                                                  \n",
       "100006                        3.5               0.000               0.000  \\\n",
       "100011                      462.5               0.000          189000.000   \n",
       "100013                      776.0               0.000          161420.220   \n",
       "100021                       25.5               0.000               0.000   \n",
       "100023                        6.0               0.000               0.000   \n",
       "...                           ...                 ...                 ...   \n",
       "456244                      143.5               0.000          453627.675   \n",
       "456246                        6.0               0.000           43490.115   \n",
       "456247                      760.0               0.000          190202.130   \n",
       "456248                       46.0               0.000               0.000   \n",
       "456250                       13.0          153832.725          200208.915   \n",
       "\n",
       "            CC_AMT_BALANCE_MEAN  CC_AMT_BALANCE_SUM  CC_AMT_BALANCE_VAR  ...   \n",
       "SK_ID_CURR                                                               ...   \n",
       "100006                 0.000000               0.000        0.000000e+00  ...  \\\n",
       "100011             54482.111149         4031676.225        4.641321e+09  ...   \n",
       "100013             18159.919219         1743352.245        1.869473e+09  ...   \n",
       "100021                 0.000000               0.000        0.000000e+00  ...   \n",
       "100023                 0.000000               0.000        0.000000e+00  ...   \n",
       "...                         ...                 ...                 ...  ...   \n",
       "456244            131834.730732         5405223.960        3.295703e+10  ...   \n",
       "456246             13136.731875          105093.855        3.335511e+08  ...   \n",
       "456247             23216.396211         2205557.640        3.200871e+09  ...   \n",
       "456248                 0.000000               0.000        0.000000e+00  ...   \n",
       "456250            173589.326250         2083071.915        1.667716e+08  ...   \n",
       "\n",
       "            CC_NAME_CONTRACT_STATUS_Sent proposal_MAX   \n",
       "SK_ID_CURR                                              \n",
       "100006                                          False  \\\n",
       "100011                                          False   \n",
       "100013                                          False   \n",
       "100021                                          False   \n",
       "100023                                          False   \n",
       "...                                               ...   \n",
       "456244                                          False   \n",
       "456246                                          False   \n",
       "456247                                          False   \n",
       "456248                                          False   \n",
       "456250                                          False   \n",
       "\n",
       "            CC_NAME_CONTRACT_STATUS_Sent proposal_MEAN   \n",
       "SK_ID_CURR                                               \n",
       "100006                                             0.0  \\\n",
       "100011                                             0.0   \n",
       "100013                                             0.0   \n",
       "100021                                             0.0   \n",
       "100023                                             0.0   \n",
       "...                                                ...   \n",
       "456244                                             0.0   \n",
       "456246                                             0.0   \n",
       "456247                                             0.0   \n",
       "456248                                             0.0   \n",
       "456250                                             0.0   \n",
       "\n",
       "            CC_NAME_CONTRACT_STATUS_Sent proposal_SUM   \n",
       "SK_ID_CURR                                              \n",
       "100006                                              0  \\\n",
       "100011                                              0   \n",
       "100013                                              0   \n",
       "100021                                              0   \n",
       "100023                                              0   \n",
       "...                                               ...   \n",
       "456244                                              0   \n",
       "456246                                              0   \n",
       "456247                                              0   \n",
       "456248                                              0   \n",
       "456250                                              0   \n",
       "\n",
       "            CC_NAME_CONTRACT_STATUS_Sent proposal_VAR   \n",
       "SK_ID_CURR                                              \n",
       "100006                                            0.0  \\\n",
       "100011                                            0.0   \n",
       "100013                                            0.0   \n",
       "100021                                            0.0   \n",
       "100023                                            0.0   \n",
       "...                                               ...   \n",
       "456244                                            0.0   \n",
       "456246                                            0.0   \n",
       "456247                                            0.0   \n",
       "456248                                            0.0   \n",
       "456250                                            0.0   \n",
       "\n",
       "            CC_NAME_CONTRACT_STATUS_Signed_MIN   \n",
       "SK_ID_CURR                                       \n",
       "100006                                   False  \\\n",
       "100011                                   False   \n",
       "100013                                   False   \n",
       "100021                                   False   \n",
       "100023                                   False   \n",
       "...                                        ...   \n",
       "456244                                   False   \n",
       "456246                                   False   \n",
       "456247                                   False   \n",
       "456248                                   False   \n",
       "456250                                   False   \n",
       "\n",
       "            CC_NAME_CONTRACT_STATUS_Signed_MAX   \n",
       "SK_ID_CURR                                       \n",
       "100006                                   False  \\\n",
       "100011                                   False   \n",
       "100013                                   False   \n",
       "100021                                   False   \n",
       "100023                                   False   \n",
       "...                                        ...   \n",
       "456244                                   False   \n",
       "456246                                   False   \n",
       "456247                                   False   \n",
       "456248                                   False   \n",
       "456250                                   False   \n",
       "\n",
       "            CC_NAME_CONTRACT_STATUS_Signed_MEAN   \n",
       "SK_ID_CURR                                        \n",
       "100006                                      0.0  \\\n",
       "100011                                      0.0   \n",
       "100013                                      0.0   \n",
       "100021                                      0.0   \n",
       "100023                                      0.0   \n",
       "...                                         ...   \n",
       "456244                                      0.0   \n",
       "456246                                      0.0   \n",
       "456247                                      0.0   \n",
       "456248                                      0.0   \n",
       "456250                                      0.0   \n",
       "\n",
       "            CC_NAME_CONTRACT_STATUS_Signed_SUM   \n",
       "SK_ID_CURR                                       \n",
       "100006                                       0  \\\n",
       "100011                                       0   \n",
       "100013                                       0   \n",
       "100021                                       0   \n",
       "100023                                       0   \n",
       "...                                        ...   \n",
       "456244                                       0   \n",
       "456246                                       0   \n",
       "456247                                       0   \n",
       "456248                                       0   \n",
       "456250                                       0   \n",
       "\n",
       "            CC_NAME_CONTRACT_STATUS_Signed_VAR  CC_COUNT  \n",
       "SK_ID_CURR                                                \n",
       "100006                                     0.0         6  \n",
       "100011                                     0.0        74  \n",
       "100013                                     0.0        96  \n",
       "100021                                     0.0        17  \n",
       "100023                                     0.0         8  \n",
       "...                                        ...       ...  \n",
       "456244                                     0.0        41  \n",
       "456246                                     0.0         8  \n",
       "456247                                     0.0        95  \n",
       "456248                                     0.0        23  \n",
       "456250                                     0.0        12  \n",
       "\n",
       "[103558 rows x 136 columns]"
      ]
     },
     "metadata": {},
     "output_type": "display_data"
    }
   ],
   "source": [
    "display(agg_data_v1)"
   ]
  },
  {
   "attachments": {},
   "cell_type": "markdown",
   "metadata": {},
   "source": [
    "## ✔ `INSTALLMENTS_PAYMENTS`"
   ]
  },
  {
   "cell_type": "markdown",
   "metadata": {},
   "source": [
    "### Chargement des tables"
   ]
  },
  {
   "cell_type": "code",
   "execution_count": 5,
   "metadata": {},
   "outputs": [],
   "source": [
    "from home_credit.lightgbm_kernel_v2 import load_IP_table_v1\n",
    "data_v1 = load_IP_table_v1()"
   ]
  },
  {
   "cell_type": "code",
   "execution_count": 6,
   "metadata": {},
   "outputs": [
    {
     "name": "stdout",
     "output_type": "stream",
     "text": [
      "load C:\\Users\\franc\\Projects\\pepper_credit_scoring_tool\\dataset\\pqt\\installments_payments.pqt\n"
     ]
    }
   ],
   "source": [
    "from home_credit.lightgbm_kernel_v2 import load_IP_table_v2\n",
    "data_v2 = load_IP_table_v2()"
   ]
  },
  {
   "cell_type": "code",
   "execution_count": 7,
   "metadata": {},
   "outputs": [
    {
     "name": "stdout",
     "output_type": "stream",
     "text": [
      "n_diffs: 0\n"
     ]
    }
   ],
   "source": [
    "from pepper.pd_utils import df_neq\n",
    "is_diff = df_neq(data_v1, data_v2)\n",
    "print(\"n_diffs:\", is_diff.sum().sum())"
   ]
  },
  {
   "cell_type": "code",
   "execution_count": 8,
   "metadata": {},
   "outputs": [
    {
     "name": "stdout",
     "output_type": "stream",
     "text": [
      "dtypes are aligned\n"
     ]
    }
   ],
   "source": [
    "from pepper.pd_utils import check_dtypes_alignment\n",
    "check_dtypes_alignment(data_v1, data_v2)"
   ]
  },
  {
   "cell_type": "markdown",
   "metadata": {},
   "source": [
    "### One Hot Encoding des catégories n-binaires"
   ]
  },
  {
   "cell_type": "code",
   "execution_count": 9,
   "metadata": {},
   "outputs": [],
   "source": [
    "from home_credit.lightgbm_kernel import one_hot_encoder\n",
    "from home_credit.lightgbm_kernel_v2 import hot_encode_cats\n",
    "\n",
    "ohe_data_v1, catvar_names_v1 = one_hot_encoder(data_v1)\n",
    "ohe_data_v2, catvar_names_v2 = hot_encode_cats(data_v2, discard_constants=False)"
   ]
  },
  {
   "cell_type": "code",
   "execution_count": 10,
   "metadata": {},
   "outputs": [
    {
     "data": {
      "text/plain": [
       "(13605401, 8)"
      ]
     },
     "metadata": {},
     "output_type": "display_data"
    },
    {
     "data": {
      "text/plain": [
       "(13605401, 8)"
      ]
     },
     "metadata": {},
     "output_type": "display_data"
    }
   ],
   "source": [
    "display(ohe_data_v1.shape)\n",
    "display(ohe_data_v2.shape)"
   ]
  },
  {
   "cell_type": "code",
   "execution_count": 11,
   "metadata": {},
   "outputs": [
    {
     "data": {
      "text/plain": [
       "Index([], dtype='object')"
      ]
     },
     "metadata": {},
     "output_type": "display_data"
    }
   ],
   "source": [
    "cols_diff = ohe_data_v1.columns.difference(ohe_data_v2.columns)\n",
    "display(cols_diff)"
   ]
  },
  {
   "cell_type": "code",
   "execution_count": 13,
   "metadata": {},
   "outputs": [
    {
     "data": {
      "text/html": [
       "<div>\n",
       "<style scoped>\n",
       "    .dataframe tbody tr th:only-of-type {\n",
       "        vertical-align: middle;\n",
       "    }\n",
       "\n",
       "    .dataframe tbody tr th {\n",
       "        vertical-align: top;\n",
       "    }\n",
       "\n",
       "    .dataframe thead th {\n",
       "        text-align: right;\n",
       "    }\n",
       "</style>\n",
       "<table border=\"1\" class=\"dataframe\">\n",
       "  <thead>\n",
       "    <tr style=\"text-align: right;\">\n",
       "      <th></th>\n",
       "    </tr>\n",
       "  </thead>\n",
       "  <tbody>\n",
       "  </tbody>\n",
       "</table>\n",
       "</div>"
      ],
      "text/plain": [
       "Empty DataFrame\n",
       "Columns: []\n",
       "Index: []"
      ]
     },
     "metadata": {},
     "output_type": "display_data"
    }
   ],
   "source": [
    "import pandas as pd\n",
    "display(pd.DataFrame({\n",
    "    col : ohe_data_v1[col].value_counts()\n",
    "    for col in cols_diff\n",
    "}).T)"
   ]
  },
  {
   "cell_type": "code",
   "execution_count": 14,
   "metadata": {},
   "outputs": [
    {
     "name": "stdout",
     "output_type": "stream",
     "text": [
      "dtypes are aligned\n"
     ]
    }
   ],
   "source": [
    "from pepper.pd_utils import check_dtypes_alignment\n",
    "check_dtypes_alignment(ohe_data_v1, ohe_data_v2)"
   ]
  },
  {
   "cell_type": "markdown",
   "metadata": {},
   "source": [
    "### Création de variables additionnelles dérivées"
   ]
  },
  {
   "cell_type": "code",
   "execution_count": 15,
   "metadata": {},
   "outputs": [],
   "source": [
    "from home_credit.lightgbm_kernel_v2 import add_IP_derived_features_v1\n",
    "add_IP_derived_features_v1(ohe_data_v1)"
   ]
  },
  {
   "cell_type": "code",
   "execution_count": 16,
   "metadata": {},
   "outputs": [],
   "source": [
    "from home_credit.lightgbm_kernel_v2 import add_IP_derived_features as add_IP_derived_features_v2\n",
    "add_IP_derived_features_v2(ohe_data_v2)"
   ]
  },
  {
   "cell_type": "code",
   "execution_count": 17,
   "metadata": {},
   "outputs": [
    {
     "name": "stdout",
     "output_type": "stream",
     "text": [
      "n_diffs: 0\n"
     ]
    }
   ],
   "source": [
    "from pepper.pd_utils import df_neq\n",
    "is_diff = df_neq(ohe_data_v1, ohe_data_v2)\n",
    "print(\"n_diffs:\", is_diff.sum().sum())"
   ]
  },
  {
   "attachments": {},
   "cell_type": "markdown",
   "metadata": {},
   "source": [
    "### Agrégation"
   ]
  },
  {
   "cell_type": "code",
   "execution_count": 18,
   "metadata": {},
   "outputs": [],
   "source": [
    "from home_credit.lightgbm_kernel_v2 import group_IP_by_curr_v1\n",
    "agg_data_v1 = group_IP_by_curr_v1(ohe_data_v1, catvar_names_v1)"
   ]
  },
  {
   "cell_type": "code",
   "execution_count": 19,
   "metadata": {},
   "outputs": [],
   "source": [
    "from home_credit.lightgbm_kernel_v2 import group_IP_by_curr_v2\n",
    "agg_data_v2 = group_IP_by_curr_v2(ohe_data_v2, catvar_names_v2)"
   ]
  },
  {
   "cell_type": "code",
   "execution_count": 20,
   "metadata": {},
   "outputs": [
    {
     "name": "stdout",
     "output_type": "stream",
     "text": [
      "n_diffs: 0\n"
     ]
    }
   ],
   "source": [
    "from pepper.pd_utils import df_neq\n",
    "is_diff = df_neq(agg_data_v1, agg_data_v2)\n",
    "print(\"n_diffs:\", is_diff.sum().sum())"
   ]
  },
  {
   "attachments": {},
   "cell_type": "markdown",
   "metadata": {},
   "source": [
    "### Version intégrée"
   ]
  },
  {
   "cell_type": "code",
   "execution_count": 1,
   "metadata": {},
   "outputs": [],
   "source": [
    "from home_credit.lightgbm_kernel_v2 import installments_payments_v1\n",
    "agg_data_v1 = installments_payments_v1()"
   ]
  },
  {
   "cell_type": "code",
   "execution_count": 2,
   "metadata": {},
   "outputs": [
    {
     "name": "stdout",
     "output_type": "stream",
     "text": [
      "load C:\\Users\\franc\\Projects\\pepper_credit_scoring_tool\\dataset\\pqt\\installments_payments.pqt\n"
     ]
    }
   ],
   "source": [
    "from home_credit.lightgbm_kernel_v2 import installments_payments_v2\n",
    "agg_data_v2 = installments_payments_v2()"
   ]
  },
  {
   "cell_type": "code",
   "execution_count": 3,
   "metadata": {},
   "outputs": [
    {
     "name": "stdout",
     "output_type": "stream",
     "text": [
      "n_diffs: 0\n"
     ]
    }
   ],
   "source": [
    "from pepper.pd_utils import df_neq\n",
    "is_diff = df_neq(agg_data_v1, agg_data_v2)\n",
    "print(\"n_diffs:\", is_diff.sum().sum())"
   ]
  },
  {
   "cell_type": "code",
   "execution_count": 4,
   "metadata": {},
   "outputs": [
    {
     "name": "stdout",
     "output_type": "stream",
     "text": [
      "<class 'pandas.core.frame.DataFrame'>\n",
      "Index: 339587 entries, 100001 to 456255\n",
      "Data columns (total 26 columns):\n",
      " #   Column                                 Non-Null Count   Dtype  \n",
      "---  ------                                 --------------   -----  \n",
      " 0   INSTAL_NUM_INSTALMENT_VERSION_NUNIQUE  339587 non-null  int64  \n",
      " 1   INSTAL_DPD_MAX                         339587 non-null  float64\n",
      " 2   INSTAL_DPD_MEAN                        339587 non-null  float64\n",
      " 3   INSTAL_DPD_SUM                         339587 non-null  float64\n",
      " 4   INSTAL_DBD_MAX                         339587 non-null  float64\n",
      " 5   INSTAL_DBD_MEAN                        339587 non-null  float64\n",
      " 6   INSTAL_DBD_SUM                         339587 non-null  float64\n",
      " 7   INSTAL_PAYMENT_PERC_MAX                339578 non-null  float64\n",
      " 8   INSTAL_PAYMENT_PERC_MEAN               339559 non-null  float64\n",
      " 9   INSTAL_PAYMENT_PERC_SUM                339568 non-null  float64\n",
      " 10  INSTAL_PAYMENT_PERC_VAR                338591 non-null  float64\n",
      " 11  INSTAL_PAYMENT_DIFF_MAX                339578 non-null  float64\n",
      " 12  INSTAL_PAYMENT_DIFF_MEAN               339578 non-null  float64\n",
      " 13  INSTAL_PAYMENT_DIFF_SUM                339587 non-null  float64\n",
      " 14  INSTAL_PAYMENT_DIFF_VAR                338610 non-null  float64\n",
      " 15  INSTAL_AMT_INSTALMENT_MAX              339587 non-null  float64\n",
      " 16  INSTAL_AMT_INSTALMENT_MEAN             339587 non-null  float64\n",
      " 17  INSTAL_AMT_INSTALMENT_SUM              339587 non-null  float64\n",
      " 18  INSTAL_AMT_PAYMENT_MIN                 339578 non-null  float64\n",
      " 19  INSTAL_AMT_PAYMENT_MAX                 339578 non-null  float64\n",
      " 20  INSTAL_AMT_PAYMENT_MEAN                339578 non-null  float64\n",
      " 21  INSTAL_AMT_PAYMENT_SUM                 339587 non-null  float64\n",
      " 22  INSTAL_DAYS_ENTRY_PAYMENT_MAX          339578 non-null  float64\n",
      " 23  INSTAL_DAYS_ENTRY_PAYMENT_MEAN         339578 non-null  float64\n",
      " 24  INSTAL_DAYS_ENTRY_PAYMENT_SUM          339587 non-null  float64\n",
      " 25  INSTAL_COUNT                           339587 non-null  int64  \n",
      "dtypes: float64(24), int64(2)\n",
      "memory usage: 70.0 MB\n",
      "<class 'pandas.core.frame.DataFrame'>\n",
      "Index: 339587 entries, 100001 to 456255\n",
      "Data columns (total 26 columns):\n",
      " #   Column                                 Non-Null Count   Dtype  \n",
      "---  ------                                 --------------   -----  \n",
      " 0   INSTAL_NUM_INSTALMENT_VERSION_NUNIQUE  339587 non-null  int64  \n",
      " 1   INSTAL_DPD_MAX                         339587 non-null  float64\n",
      " 2   INSTAL_DPD_MEAN                        339587 non-null  float64\n",
      " 3   INSTAL_DPD_SUM                         339587 non-null  float64\n",
      " 4   INSTAL_DBD_MAX                         339587 non-null  float64\n",
      " 5   INSTAL_DBD_MEAN                        339587 non-null  float64\n",
      " 6   INSTAL_DBD_SUM                         339587 non-null  float64\n",
      " 7   INSTAL_PAYMENT_PERC_MAX                339578 non-null  float64\n",
      " 8   INSTAL_PAYMENT_PERC_MEAN               339559 non-null  float64\n",
      " 9   INSTAL_PAYMENT_PERC_SUM                339568 non-null  float64\n",
      " 10  INSTAL_PAYMENT_PERC_VAR                338591 non-null  float64\n",
      " 11  INSTAL_PAYMENT_DIFF_MAX                339578 non-null  float64\n",
      " 12  INSTAL_PAYMENT_DIFF_MEAN               339578 non-null  float64\n",
      " 13  INSTAL_PAYMENT_DIFF_SUM                339587 non-null  float64\n",
      " 14  INSTAL_PAYMENT_DIFF_VAR                338610 non-null  float64\n",
      " 15  INSTAL_AMT_INSTALMENT_MAX              339587 non-null  float64\n",
      " 16  INSTAL_AMT_INSTALMENT_MEAN             339587 non-null  float64\n",
      " 17  INSTAL_AMT_INSTALMENT_SUM              339587 non-null  float64\n",
      " 18  INSTAL_AMT_PAYMENT_MIN                 339578 non-null  float64\n",
      " 19  INSTAL_AMT_PAYMENT_MAX                 339578 non-null  float64\n",
      " 20  INSTAL_AMT_PAYMENT_MEAN                339578 non-null  float64\n",
      " 21  INSTAL_AMT_PAYMENT_SUM                 339587 non-null  float64\n",
      " 22  INSTAL_DAYS_ENTRY_PAYMENT_MAX          339578 non-null  float64\n",
      " 23  INSTAL_DAYS_ENTRY_PAYMENT_MEAN         339578 non-null  float64\n",
      " 24  INSTAL_DAYS_ENTRY_PAYMENT_SUM          339587 non-null  float64\n",
      " 25  INSTAL_COUNT                           339587 non-null  int64  \n",
      "dtypes: float64(24), int64(2)\n",
      "memory usage: 70.0 MB\n"
     ]
    }
   ],
   "source": [
    "agg_data_v1.info()\n",
    "agg_data_v2.info()"
   ]
  },
  {
   "attachments": {},
   "cell_type": "markdown",
   "metadata": {},
   "source": [
    "# `ALL`\n",
    "\n",
    "Test d'intégration et production des fichiers de données prétraitées à utiliser en entrée de la modélisation."
   ]
  },
  {
   "attachments": {},
   "cell_type": "markdown",
   "metadata": {},
   "source": [
    "## Version d'origine"
   ]
  },
  {
   "attachments": {},
   "cell_type": "markdown",
   "metadata": {},
   "source": [
    "Sur un échantillon de $10\\,000$ lignes."
   ]
  },
  {
   "cell_type": "code",
   "execution_count": 4,
   "metadata": {},
   "outputs": [
    {
     "data": {
      "text/html": [
       "<div>\n",
       "<style scoped>\n",
       "    .dataframe tbody tr th:only-of-type {\n",
       "        vertical-align: middle;\n",
       "    }\n",
       "\n",
       "    .dataframe tbody tr th {\n",
       "        vertical-align: top;\n",
       "    }\n",
       "\n",
       "    .dataframe thead th {\n",
       "        text-align: right;\n",
       "    }\n",
       "</style>\n",
       "<table border=\"1\" class=\"dataframe\">\n",
       "  <thead>\n",
       "    <tr style=\"text-align: right;\">\n",
       "      <th></th>\n",
       "      <th>SK_ID_CURR</th>\n",
       "      <th>TARGET</th>\n",
       "      <th>CNT_CHILDREN</th>\n",
       "      <th>AMT_INCOME_TOTAL</th>\n",
       "      <th>AMT_CREDIT</th>\n",
       "      <th>AMT_ANNUITY</th>\n",
       "      <th>AMT_GOODS_PRICE</th>\n",
       "      <th>REGION_POPULATION_RELATIVE</th>\n",
       "      <th>DAYS_BIRTH</th>\n",
       "      <th>DAYS_EMPLOYED</th>\n",
       "      <th>...</th>\n",
       "      <th>CC_NAME_CONTRACT_STATUS_Sent_proposal_MIN_False</th>\n",
       "      <th>CC_NAME_CONTRACT_STATUS_Sent_proposal_MIN_True</th>\n",
       "      <th>CC_NAME_CONTRACT_STATUS_Sent_proposal_MIN_nan</th>\n",
       "      <th>CC_NAME_CONTRACT_STATUS_Sent_proposal_MAX_False</th>\n",
       "      <th>CC_NAME_CONTRACT_STATUS_Sent_proposal_MAX_True</th>\n",
       "      <th>CC_NAME_CONTRACT_STATUS_Sent_proposal_MAX_nan</th>\n",
       "      <th>CC_NAME_CONTRACT_STATUS_Signed_MIN_False</th>\n",
       "      <th>CC_NAME_CONTRACT_STATUS_Signed_MIN_nan</th>\n",
       "      <th>CC_NAME_CONTRACT_STATUS_Signed_MAX_False</th>\n",
       "      <th>CC_NAME_CONTRACT_STATUS_Signed_MAX_nan</th>\n",
       "    </tr>\n",
       "  </thead>\n",
       "  <tbody>\n",
       "    <tr>\n",
       "      <th>267898</th>\n",
       "      <td>410412</td>\n",
       "      <td>0</td>\n",
       "      <td>0</td>\n",
       "      <td>360000.0</td>\n",
       "      <td>427176.0</td>\n",
       "      <td>21942.0</td>\n",
       "      <td>306000.0</td>\n",
       "      <td>0.046220</td>\n",
       "      <td>-20202</td>\n",
       "      <td>-5440</td>\n",
       "      <td>...</td>\n",
       "      <td>True</td>\n",
       "      <td>False</td>\n",
       "      <td>False</td>\n",
       "      <td>True</td>\n",
       "      <td>False</td>\n",
       "      <td>False</td>\n",
       "      <td>True</td>\n",
       "      <td>False</td>\n",
       "      <td>True</td>\n",
       "      <td>False</td>\n",
       "    </tr>\n",
       "    <tr>\n",
       "      <th>174136</th>\n",
       "      <td>301800</td>\n",
       "      <td>0</td>\n",
       "      <td>0</td>\n",
       "      <td>180000.0</td>\n",
       "      <td>578979.0</td>\n",
       "      <td>25632.0</td>\n",
       "      <td>517500.0</td>\n",
       "      <td>0.035792</td>\n",
       "      <td>-17482</td>\n",
       "      <td>-7000</td>\n",
       "      <td>...</td>\n",
       "      <td>False</td>\n",
       "      <td>False</td>\n",
       "      <td>True</td>\n",
       "      <td>False</td>\n",
       "      <td>False</td>\n",
       "      <td>True</td>\n",
       "      <td>False</td>\n",
       "      <td>True</td>\n",
       "      <td>False</td>\n",
       "      <td>True</td>\n",
       "    </tr>\n",
       "    <tr>\n",
       "      <th>352198</th>\n",
       "      <td>427114</td>\n",
       "      <td>-1</td>\n",
       "      <td>0</td>\n",
       "      <td>121500.0</td>\n",
       "      <td>431280.0</td>\n",
       "      <td>20875.5</td>\n",
       "      <td>360000.0</td>\n",
       "      <td>0.010276</td>\n",
       "      <td>-18567</td>\n",
       "      <td>-11136</td>\n",
       "      <td>...</td>\n",
       "      <td>False</td>\n",
       "      <td>False</td>\n",
       "      <td>True</td>\n",
       "      <td>False</td>\n",
       "      <td>False</td>\n",
       "      <td>True</td>\n",
       "      <td>False</td>\n",
       "      <td>True</td>\n",
       "      <td>False</td>\n",
       "      <td>True</td>\n",
       "    </tr>\n",
       "    <tr>\n",
       "      <th>278976</th>\n",
       "      <td>423210</td>\n",
       "      <td>1</td>\n",
       "      <td>1</td>\n",
       "      <td>180000.0</td>\n",
       "      <td>1406362.5</td>\n",
       "      <td>50512.5</td>\n",
       "      <td>1260000.0</td>\n",
       "      <td>0.046220</td>\n",
       "      <td>-15100</td>\n",
       "      <td>-4095</td>\n",
       "      <td>...</td>\n",
       "      <td>False</td>\n",
       "      <td>False</td>\n",
       "      <td>True</td>\n",
       "      <td>False</td>\n",
       "      <td>False</td>\n",
       "      <td>True</td>\n",
       "      <td>False</td>\n",
       "      <td>True</td>\n",
       "      <td>False</td>\n",
       "      <td>True</td>\n",
       "    </tr>\n",
       "    <tr>\n",
       "      <th>282066</th>\n",
       "      <td>426705</td>\n",
       "      <td>0</td>\n",
       "      <td>0</td>\n",
       "      <td>211500.0</td>\n",
       "      <td>675000.0</td>\n",
       "      <td>49248.0</td>\n",
       "      <td>675000.0</td>\n",
       "      <td>0.026392</td>\n",
       "      <td>-17171</td>\n",
       "      <td>-1852</td>\n",
       "      <td>...</td>\n",
       "      <td>False</td>\n",
       "      <td>False</td>\n",
       "      <td>True</td>\n",
       "      <td>False</td>\n",
       "      <td>False</td>\n",
       "      <td>True</td>\n",
       "      <td>False</td>\n",
       "      <td>True</td>\n",
       "      <td>False</td>\n",
       "      <td>True</td>\n",
       "    </tr>\n",
       "    <tr>\n",
       "      <th>...</th>\n",
       "      <td>...</td>\n",
       "      <td>...</td>\n",
       "      <td>...</td>\n",
       "      <td>...</td>\n",
       "      <td>...</td>\n",
       "      <td>...</td>\n",
       "      <td>...</td>\n",
       "      <td>...</td>\n",
       "      <td>...</td>\n",
       "      <td>...</td>\n",
       "      <td>...</td>\n",
       "      <td>...</td>\n",
       "      <td>...</td>\n",
       "      <td>...</td>\n",
       "      <td>...</td>\n",
       "      <td>...</td>\n",
       "      <td>...</td>\n",
       "      <td>...</td>\n",
       "      <td>...</td>\n",
       "      <td>...</td>\n",
       "      <td>...</td>\n",
       "    </tr>\n",
       "    <tr>\n",
       "      <th>149443</th>\n",
       "      <td>273263</td>\n",
       "      <td>1</td>\n",
       "      <td>0</td>\n",
       "      <td>225000.0</td>\n",
       "      <td>755190.0</td>\n",
       "      <td>38556.0</td>\n",
       "      <td>675000.0</td>\n",
       "      <td>0.035792</td>\n",
       "      <td>-18253</td>\n",
       "      <td>-837</td>\n",
       "      <td>...</td>\n",
       "      <td>False</td>\n",
       "      <td>False</td>\n",
       "      <td>True</td>\n",
       "      <td>False</td>\n",
       "      <td>False</td>\n",
       "      <td>True</td>\n",
       "      <td>False</td>\n",
       "      <td>True</td>\n",
       "      <td>False</td>\n",
       "      <td>True</td>\n",
       "    </tr>\n",
       "    <tr>\n",
       "      <th>69101</th>\n",
       "      <td>180145</td>\n",
       "      <td>0</td>\n",
       "      <td>0</td>\n",
       "      <td>76500.0</td>\n",
       "      <td>273636.0</td>\n",
       "      <td>15408.0</td>\n",
       "      <td>247500.0</td>\n",
       "      <td>0.009549</td>\n",
       "      <td>-20189</td>\n",
       "      <td>365243</td>\n",
       "      <td>...</td>\n",
       "      <td>False</td>\n",
       "      <td>False</td>\n",
       "      <td>True</td>\n",
       "      <td>False</td>\n",
       "      <td>False</td>\n",
       "      <td>True</td>\n",
       "      <td>False</td>\n",
       "      <td>True</td>\n",
       "      <td>False</td>\n",
       "      <td>True</td>\n",
       "    </tr>\n",
       "    <tr>\n",
       "      <th>63925</th>\n",
       "      <td>174128</td>\n",
       "      <td>0</td>\n",
       "      <td>0</td>\n",
       "      <td>202500.0</td>\n",
       "      <td>517500.0</td>\n",
       "      <td>16690.5</td>\n",
       "      <td>517500.0</td>\n",
       "      <td>0.026392</td>\n",
       "      <td>-21603</td>\n",
       "      <td>-2241</td>\n",
       "      <td>...</td>\n",
       "      <td>False</td>\n",
       "      <td>False</td>\n",
       "      <td>True</td>\n",
       "      <td>False</td>\n",
       "      <td>False</td>\n",
       "      <td>True</td>\n",
       "      <td>False</td>\n",
       "      <td>True</td>\n",
       "      <td>False</td>\n",
       "      <td>True</td>\n",
       "    </tr>\n",
       "    <tr>\n",
       "      <th>183985</th>\n",
       "      <td>313250</td>\n",
       "      <td>0</td>\n",
       "      <td>0</td>\n",
       "      <td>405000.0</td>\n",
       "      <td>1094688.0</td>\n",
       "      <td>39451.5</td>\n",
       "      <td>945000.0</td>\n",
       "      <td>0.046220</td>\n",
       "      <td>-20427</td>\n",
       "      <td>-1983</td>\n",
       "      <td>...</td>\n",
       "      <td>True</td>\n",
       "      <td>False</td>\n",
       "      <td>False</td>\n",
       "      <td>True</td>\n",
       "      <td>False</td>\n",
       "      <td>False</td>\n",
       "      <td>True</td>\n",
       "      <td>False</td>\n",
       "      <td>True</td>\n",
       "      <td>False</td>\n",
       "    </tr>\n",
       "    <tr>\n",
       "      <th>116550</th>\n",
       "      <td>235159</td>\n",
       "      <td>0</td>\n",
       "      <td>2</td>\n",
       "      <td>247500.0</td>\n",
       "      <td>631332.0</td>\n",
       "      <td>46071.0</td>\n",
       "      <td>585000.0</td>\n",
       "      <td>0.046220</td>\n",
       "      <td>-10927</td>\n",
       "      <td>-1311</td>\n",
       "      <td>...</td>\n",
       "      <td>False</td>\n",
       "      <td>False</td>\n",
       "      <td>True</td>\n",
       "      <td>False</td>\n",
       "      <td>False</td>\n",
       "      <td>True</td>\n",
       "      <td>False</td>\n",
       "      <td>True</td>\n",
       "      <td>False</td>\n",
       "      <td>True</td>\n",
       "    </tr>\n",
       "  </tbody>\n",
       "</table>\n",
       "<p>10000 rows × 747 columns</p>\n",
       "</div>"
      ],
      "text/plain": [
       "        SK_ID_CURR  TARGET  CNT_CHILDREN  AMT_INCOME_TOTAL  AMT_CREDIT   \n",
       "267898      410412       0             0          360000.0    427176.0  \\\n",
       "174136      301800       0             0          180000.0    578979.0   \n",
       "352198      427114      -1             0          121500.0    431280.0   \n",
       "278976      423210       1             1          180000.0   1406362.5   \n",
       "282066      426705       0             0          211500.0    675000.0   \n",
       "...            ...     ...           ...               ...         ...   \n",
       "149443      273263       1             0          225000.0    755190.0   \n",
       "69101       180145       0             0           76500.0    273636.0   \n",
       "63925       174128       0             0          202500.0    517500.0   \n",
       "183985      313250       0             0          405000.0   1094688.0   \n",
       "116550      235159       0             2          247500.0    631332.0   \n",
       "\n",
       "        AMT_ANNUITY  AMT_GOODS_PRICE  REGION_POPULATION_RELATIVE  DAYS_BIRTH   \n",
       "267898      21942.0         306000.0                    0.046220      -20202  \\\n",
       "174136      25632.0         517500.0                    0.035792      -17482   \n",
       "352198      20875.5         360000.0                    0.010276      -18567   \n",
       "278976      50512.5        1260000.0                    0.046220      -15100   \n",
       "282066      49248.0         675000.0                    0.026392      -17171   \n",
       "...             ...              ...                         ...         ...   \n",
       "149443      38556.0         675000.0                    0.035792      -18253   \n",
       "69101       15408.0         247500.0                    0.009549      -20189   \n",
       "63925       16690.5         517500.0                    0.026392      -21603   \n",
       "183985      39451.5         945000.0                    0.046220      -20427   \n",
       "116550      46071.0         585000.0                    0.046220      -10927   \n",
       "\n",
       "        DAYS_EMPLOYED  ...  CC_NAME_CONTRACT_STATUS_Sent_proposal_MIN_False   \n",
       "267898          -5440  ...                                             True  \\\n",
       "174136          -7000  ...                                            False   \n",
       "352198         -11136  ...                                            False   \n",
       "278976          -4095  ...                                            False   \n",
       "282066          -1852  ...                                            False   \n",
       "...               ...  ...                                              ...   \n",
       "149443           -837  ...                                            False   \n",
       "69101          365243  ...                                            False   \n",
       "63925           -2241  ...                                            False   \n",
       "183985          -1983  ...                                             True   \n",
       "116550          -1311  ...                                            False   \n",
       "\n",
       "        CC_NAME_CONTRACT_STATUS_Sent_proposal_MIN_True   \n",
       "267898                                           False  \\\n",
       "174136                                           False   \n",
       "352198                                           False   \n",
       "278976                                           False   \n",
       "282066                                           False   \n",
       "...                                                ...   \n",
       "149443                                           False   \n",
       "69101                                            False   \n",
       "63925                                            False   \n",
       "183985                                           False   \n",
       "116550                                           False   \n",
       "\n",
       "        CC_NAME_CONTRACT_STATUS_Sent_proposal_MIN_nan   \n",
       "267898                                          False  \\\n",
       "174136                                           True   \n",
       "352198                                           True   \n",
       "278976                                           True   \n",
       "282066                                           True   \n",
       "...                                               ...   \n",
       "149443                                           True   \n",
       "69101                                            True   \n",
       "63925                                            True   \n",
       "183985                                          False   \n",
       "116550                                           True   \n",
       "\n",
       "        CC_NAME_CONTRACT_STATUS_Sent_proposal_MAX_False   \n",
       "267898                                             True  \\\n",
       "174136                                            False   \n",
       "352198                                            False   \n",
       "278976                                            False   \n",
       "282066                                            False   \n",
       "...                                                 ...   \n",
       "149443                                            False   \n",
       "69101                                             False   \n",
       "63925                                             False   \n",
       "183985                                             True   \n",
       "116550                                            False   \n",
       "\n",
       "        CC_NAME_CONTRACT_STATUS_Sent_proposal_MAX_True   \n",
       "267898                                           False  \\\n",
       "174136                                           False   \n",
       "352198                                           False   \n",
       "278976                                           False   \n",
       "282066                                           False   \n",
       "...                                                ...   \n",
       "149443                                           False   \n",
       "69101                                            False   \n",
       "63925                                            False   \n",
       "183985                                           False   \n",
       "116550                                           False   \n",
       "\n",
       "        CC_NAME_CONTRACT_STATUS_Sent_proposal_MAX_nan   \n",
       "267898                                          False  \\\n",
       "174136                                           True   \n",
       "352198                                           True   \n",
       "278976                                           True   \n",
       "282066                                           True   \n",
       "...                                               ...   \n",
       "149443                                           True   \n",
       "69101                                            True   \n",
       "63925                                            True   \n",
       "183985                                          False   \n",
       "116550                                           True   \n",
       "\n",
       "        CC_NAME_CONTRACT_STATUS_Signed_MIN_False   \n",
       "267898                                      True  \\\n",
       "174136                                     False   \n",
       "352198                                     False   \n",
       "278976                                     False   \n",
       "282066                                     False   \n",
       "...                                          ...   \n",
       "149443                                     False   \n",
       "69101                                      False   \n",
       "63925                                      False   \n",
       "183985                                      True   \n",
       "116550                                     False   \n",
       "\n",
       "        CC_NAME_CONTRACT_STATUS_Signed_MIN_nan   \n",
       "267898                                   False  \\\n",
       "174136                                    True   \n",
       "352198                                    True   \n",
       "278976                                    True   \n",
       "282066                                    True   \n",
       "...                                        ...   \n",
       "149443                                    True   \n",
       "69101                                     True   \n",
       "63925                                     True   \n",
       "183985                                   False   \n",
       "116550                                    True   \n",
       "\n",
       "        CC_NAME_CONTRACT_STATUS_Signed_MAX_False   \n",
       "267898                                      True  \\\n",
       "174136                                     False   \n",
       "352198                                     False   \n",
       "278976                                     False   \n",
       "282066                                     False   \n",
       "...                                          ...   \n",
       "149443                                     False   \n",
       "69101                                      False   \n",
       "63925                                      False   \n",
       "183985                                      True   \n",
       "116550                                     False   \n",
       "\n",
       "        CC_NAME_CONTRACT_STATUS_Signed_MAX_nan  \n",
       "267898                                   False  \n",
       "174136                                    True  \n",
       "352198                                    True  \n",
       "278976                                    True  \n",
       "282066                                    True  \n",
       "...                                        ...  \n",
       "149443                                    True  \n",
       "69101                                     True  \n",
       "63925                                     True  \n",
       "183985                                   False  \n",
       "116550                                    True  \n",
       "\n",
       "[10000 rows x 747 columns]"
      ]
     },
     "metadata": {},
     "output_type": "display_data"
    }
   ],
   "source": [
    "from home_credit.lightgbm_kernel_v2 import main_preproc\n",
    "from pepper.utils import cls\n",
    "data = main_preproc(nrows=10_000, version=1, verbosity=1)\n",
    "cls()\n",
    "display(data)"
   ]
  },
  {
   "cell_type": "code",
   "execution_count": 2,
   "metadata": {},
   "outputs": [
    {
     "data": {
      "text/plain": [
       "'Preprocess `bureau` - Version 1'"
      ]
     },
     "metadata": {},
     "output_type": "display_data"
    },
    {
     "name": "stdout",
     "output_type": "stream",
     "text": [
      "\u001b[1melapsed time\u001b[0m: 23 s, 609 ms\n"
     ]
    },
    {
     "data": {
      "text/plain": [
       "'Preprocess `previous_application` - Version 1'"
      ]
     },
     "metadata": {},
     "output_type": "display_data"
    },
    {
     "name": "stdout",
     "output_type": "stream",
     "text": [
      "\u001b[1melapsed time\u001b[0m: 27 s, 709 ms\n"
     ]
    },
    {
     "data": {
      "text/plain": [
       "'Preprocess `pos_cash_balance` - Version 1'"
      ]
     },
     "metadata": {},
     "output_type": "display_data"
    },
    {
     "name": "stdout",
     "output_type": "stream",
     "text": [
      "\u001b[1melapsed time\u001b[0m: 15 s, 541 ms\n"
     ]
    },
    {
     "data": {
      "text/plain": [
       "'Preprocess `credit_card_balance` - Version 1'"
      ]
     },
     "metadata": {},
     "output_type": "display_data"
    },
    {
     "name": "stdout",
     "output_type": "stream",
     "text": [
      "\u001b[1melapsed time\u001b[0m: 18 s, 402 ms\n"
     ]
    },
    {
     "data": {
      "text/plain": [
       "'Preprocess `installments_payments` - Version 1'"
      ]
     },
     "metadata": {},
     "output_type": "display_data"
    },
    {
     "name": "stdout",
     "output_type": "stream",
     "text": [
      "\u001b[1melapsed time\u001b[0m: 35 s, 104 ms\n"
     ]
    },
    {
     "data": {
      "text/html": [
       "<div>\n",
       "<style scoped>\n",
       "    .dataframe tbody tr th:only-of-type {\n",
       "        vertical-align: middle;\n",
       "    }\n",
       "\n",
       "    .dataframe tbody tr th {\n",
       "        vertical-align: top;\n",
       "    }\n",
       "\n",
       "    .dataframe thead th {\n",
       "        text-align: right;\n",
       "    }\n",
       "</style>\n",
       "<table border=\"1\" class=\"dataframe\">\n",
       "  <thead>\n",
       "    <tr style=\"text-align: right;\">\n",
       "      <th></th>\n",
       "      <th>SK_ID_CURR</th>\n",
       "      <th>TARGET</th>\n",
       "      <th>CNT_CHILDREN</th>\n",
       "      <th>AMT_INCOME_TOTAL</th>\n",
       "      <th>AMT_CREDIT</th>\n",
       "      <th>AMT_ANNUITY</th>\n",
       "      <th>AMT_GOODS_PRICE</th>\n",
       "      <th>REGION_POPULATION_RELATIVE</th>\n",
       "      <th>DAYS_BIRTH</th>\n",
       "      <th>DAYS_EMPLOYED</th>\n",
       "      <th>...</th>\n",
       "      <th>CC_NAME_CONTRACT_STATUS_Sent_proposal_MIN_nan</th>\n",
       "      <th>CC_NAME_CONTRACT_STATUS_Sent_proposal_MAX_False</th>\n",
       "      <th>CC_NAME_CONTRACT_STATUS_Sent_proposal_MAX_True</th>\n",
       "      <th>CC_NAME_CONTRACT_STATUS_Sent_proposal_MAX_nan</th>\n",
       "      <th>CC_NAME_CONTRACT_STATUS_Signed_MIN_False</th>\n",
       "      <th>CC_NAME_CONTRACT_STATUS_Signed_MIN_True</th>\n",
       "      <th>CC_NAME_CONTRACT_STATUS_Signed_MIN_nan</th>\n",
       "      <th>CC_NAME_CONTRACT_STATUS_Signed_MAX_False</th>\n",
       "      <th>CC_NAME_CONTRACT_STATUS_Signed_MAX_True</th>\n",
       "      <th>CC_NAME_CONTRACT_STATUS_Signed_MAX_nan</th>\n",
       "    </tr>\n",
       "  </thead>\n",
       "  <tbody>\n",
       "    <tr>\n",
       "      <th>0</th>\n",
       "      <td>100002</td>\n",
       "      <td>1</td>\n",
       "      <td>0</td>\n",
       "      <td>202500.0</td>\n",
       "      <td>406597.5</td>\n",
       "      <td>24700.5</td>\n",
       "      <td>351000.0</td>\n",
       "      <td>0.018801</td>\n",
       "      <td>-9461</td>\n",
       "      <td>-637</td>\n",
       "      <td>...</td>\n",
       "      <td>True</td>\n",
       "      <td>False</td>\n",
       "      <td>False</td>\n",
       "      <td>True</td>\n",
       "      <td>False</td>\n",
       "      <td>False</td>\n",
       "      <td>True</td>\n",
       "      <td>False</td>\n",
       "      <td>False</td>\n",
       "      <td>True</td>\n",
       "    </tr>\n",
       "    <tr>\n",
       "      <th>1</th>\n",
       "      <td>100003</td>\n",
       "      <td>0</td>\n",
       "      <td>0</td>\n",
       "      <td>270000.0</td>\n",
       "      <td>1293502.5</td>\n",
       "      <td>35698.5</td>\n",
       "      <td>1129500.0</td>\n",
       "      <td>0.003541</td>\n",
       "      <td>-16765</td>\n",
       "      <td>-1188</td>\n",
       "      <td>...</td>\n",
       "      <td>True</td>\n",
       "      <td>False</td>\n",
       "      <td>False</td>\n",
       "      <td>True</td>\n",
       "      <td>False</td>\n",
       "      <td>False</td>\n",
       "      <td>True</td>\n",
       "      <td>False</td>\n",
       "      <td>False</td>\n",
       "      <td>True</td>\n",
       "    </tr>\n",
       "    <tr>\n",
       "      <th>2</th>\n",
       "      <td>100004</td>\n",
       "      <td>0</td>\n",
       "      <td>0</td>\n",
       "      <td>67500.0</td>\n",
       "      <td>135000.0</td>\n",
       "      <td>6750.0</td>\n",
       "      <td>135000.0</td>\n",
       "      <td>0.010032</td>\n",
       "      <td>-19046</td>\n",
       "      <td>-225</td>\n",
       "      <td>...</td>\n",
       "      <td>True</td>\n",
       "      <td>False</td>\n",
       "      <td>False</td>\n",
       "      <td>True</td>\n",
       "      <td>False</td>\n",
       "      <td>False</td>\n",
       "      <td>True</td>\n",
       "      <td>False</td>\n",
       "      <td>False</td>\n",
       "      <td>True</td>\n",
       "    </tr>\n",
       "    <tr>\n",
       "      <th>3</th>\n",
       "      <td>100006</td>\n",
       "      <td>0</td>\n",
       "      <td>0</td>\n",
       "      <td>135000.0</td>\n",
       "      <td>312682.5</td>\n",
       "      <td>29686.5</td>\n",
       "      <td>297000.0</td>\n",
       "      <td>0.008019</td>\n",
       "      <td>-19005</td>\n",
       "      <td>-3039</td>\n",
       "      <td>...</td>\n",
       "      <td>False</td>\n",
       "      <td>True</td>\n",
       "      <td>False</td>\n",
       "      <td>False</td>\n",
       "      <td>True</td>\n",
       "      <td>False</td>\n",
       "      <td>False</td>\n",
       "      <td>True</td>\n",
       "      <td>False</td>\n",
       "      <td>False</td>\n",
       "    </tr>\n",
       "    <tr>\n",
       "      <th>4</th>\n",
       "      <td>100007</td>\n",
       "      <td>0</td>\n",
       "      <td>0</td>\n",
       "      <td>121500.0</td>\n",
       "      <td>513000.0</td>\n",
       "      <td>21865.5</td>\n",
       "      <td>513000.0</td>\n",
       "      <td>0.028663</td>\n",
       "      <td>-19932</td>\n",
       "      <td>-3038</td>\n",
       "      <td>...</td>\n",
       "      <td>True</td>\n",
       "      <td>False</td>\n",
       "      <td>False</td>\n",
       "      <td>True</td>\n",
       "      <td>False</td>\n",
       "      <td>False</td>\n",
       "      <td>True</td>\n",
       "      <td>False</td>\n",
       "      <td>False</td>\n",
       "      <td>True</td>\n",
       "    </tr>\n",
       "    <tr>\n",
       "      <th>...</th>\n",
       "      <td>...</td>\n",
       "      <td>...</td>\n",
       "      <td>...</td>\n",
       "      <td>...</td>\n",
       "      <td>...</td>\n",
       "      <td>...</td>\n",
       "      <td>...</td>\n",
       "      <td>...</td>\n",
       "      <td>...</td>\n",
       "      <td>...</td>\n",
       "      <td>...</td>\n",
       "      <td>...</td>\n",
       "      <td>...</td>\n",
       "      <td>...</td>\n",
       "      <td>...</td>\n",
       "      <td>...</td>\n",
       "      <td>...</td>\n",
       "      <td>...</td>\n",
       "      <td>...</td>\n",
       "      <td>...</td>\n",
       "      <td>...</td>\n",
       "    </tr>\n",
       "    <tr>\n",
       "      <th>356250</th>\n",
       "      <td>456221</td>\n",
       "      <td>-1</td>\n",
       "      <td>0</td>\n",
       "      <td>121500.0</td>\n",
       "      <td>412560.0</td>\n",
       "      <td>17473.5</td>\n",
       "      <td>270000.0</td>\n",
       "      <td>0.002042</td>\n",
       "      <td>-19970</td>\n",
       "      <td>-5169</td>\n",
       "      <td>...</td>\n",
       "      <td>True</td>\n",
       "      <td>False</td>\n",
       "      <td>False</td>\n",
       "      <td>True</td>\n",
       "      <td>False</td>\n",
       "      <td>False</td>\n",
       "      <td>True</td>\n",
       "      <td>False</td>\n",
       "      <td>False</td>\n",
       "      <td>True</td>\n",
       "    </tr>\n",
       "    <tr>\n",
       "      <th>356251</th>\n",
       "      <td>456222</td>\n",
       "      <td>-1</td>\n",
       "      <td>2</td>\n",
       "      <td>157500.0</td>\n",
       "      <td>622413.0</td>\n",
       "      <td>31909.5</td>\n",
       "      <td>495000.0</td>\n",
       "      <td>0.035792</td>\n",
       "      <td>-11186</td>\n",
       "      <td>-1149</td>\n",
       "      <td>...</td>\n",
       "      <td>True</td>\n",
       "      <td>False</td>\n",
       "      <td>False</td>\n",
       "      <td>True</td>\n",
       "      <td>False</td>\n",
       "      <td>False</td>\n",
       "      <td>True</td>\n",
       "      <td>False</td>\n",
       "      <td>False</td>\n",
       "      <td>True</td>\n",
       "    </tr>\n",
       "    <tr>\n",
       "      <th>356252</th>\n",
       "      <td>456223</td>\n",
       "      <td>-1</td>\n",
       "      <td>1</td>\n",
       "      <td>202500.0</td>\n",
       "      <td>315000.0</td>\n",
       "      <td>33205.5</td>\n",
       "      <td>315000.0</td>\n",
       "      <td>0.026392</td>\n",
       "      <td>-15922</td>\n",
       "      <td>-3037</td>\n",
       "      <td>...</td>\n",
       "      <td>True</td>\n",
       "      <td>False</td>\n",
       "      <td>False</td>\n",
       "      <td>True</td>\n",
       "      <td>False</td>\n",
       "      <td>False</td>\n",
       "      <td>True</td>\n",
       "      <td>False</td>\n",
       "      <td>False</td>\n",
       "      <td>True</td>\n",
       "    </tr>\n",
       "    <tr>\n",
       "      <th>356253</th>\n",
       "      <td>456224</td>\n",
       "      <td>-1</td>\n",
       "      <td>0</td>\n",
       "      <td>225000.0</td>\n",
       "      <td>450000.0</td>\n",
       "      <td>25128.0</td>\n",
       "      <td>450000.0</td>\n",
       "      <td>0.018850</td>\n",
       "      <td>-13968</td>\n",
       "      <td>-2731</td>\n",
       "      <td>...</td>\n",
       "      <td>True</td>\n",
       "      <td>False</td>\n",
       "      <td>False</td>\n",
       "      <td>True</td>\n",
       "      <td>False</td>\n",
       "      <td>False</td>\n",
       "      <td>True</td>\n",
       "      <td>False</td>\n",
       "      <td>False</td>\n",
       "      <td>True</td>\n",
       "    </tr>\n",
       "    <tr>\n",
       "      <th>356254</th>\n",
       "      <td>456250</td>\n",
       "      <td>-1</td>\n",
       "      <td>0</td>\n",
       "      <td>135000.0</td>\n",
       "      <td>312768.0</td>\n",
       "      <td>24709.5</td>\n",
       "      <td>270000.0</td>\n",
       "      <td>0.006629</td>\n",
       "      <td>-13962</td>\n",
       "      <td>-633</td>\n",
       "      <td>...</td>\n",
       "      <td>False</td>\n",
       "      <td>True</td>\n",
       "      <td>False</td>\n",
       "      <td>False</td>\n",
       "      <td>True</td>\n",
       "      <td>False</td>\n",
       "      <td>False</td>\n",
       "      <td>True</td>\n",
       "      <td>False</td>\n",
       "      <td>False</td>\n",
       "    </tr>\n",
       "  </tbody>\n",
       "</table>\n",
       "<p>356255 rows × 790 columns</p>\n",
       "</div>"
      ],
      "text/plain": [
       "        SK_ID_CURR  TARGET  CNT_CHILDREN  AMT_INCOME_TOTAL  AMT_CREDIT   \n",
       "0           100002       1             0          202500.0    406597.5  \\\n",
       "1           100003       0             0          270000.0   1293502.5   \n",
       "2           100004       0             0           67500.0    135000.0   \n",
       "3           100006       0             0          135000.0    312682.5   \n",
       "4           100007       0             0          121500.0    513000.0   \n",
       "...            ...     ...           ...               ...         ...   \n",
       "356250      456221      -1             0          121500.0    412560.0   \n",
       "356251      456222      -1             2          157500.0    622413.0   \n",
       "356252      456223      -1             1          202500.0    315000.0   \n",
       "356253      456224      -1             0          225000.0    450000.0   \n",
       "356254      456250      -1             0          135000.0    312768.0   \n",
       "\n",
       "        AMT_ANNUITY  AMT_GOODS_PRICE  REGION_POPULATION_RELATIVE  DAYS_BIRTH   \n",
       "0           24700.5         351000.0                    0.018801       -9461  \\\n",
       "1           35698.5        1129500.0                    0.003541      -16765   \n",
       "2            6750.0         135000.0                    0.010032      -19046   \n",
       "3           29686.5         297000.0                    0.008019      -19005   \n",
       "4           21865.5         513000.0                    0.028663      -19932   \n",
       "...             ...              ...                         ...         ...   \n",
       "356250      17473.5         270000.0                    0.002042      -19970   \n",
       "356251      31909.5         495000.0                    0.035792      -11186   \n",
       "356252      33205.5         315000.0                    0.026392      -15922   \n",
       "356253      25128.0         450000.0                    0.018850      -13968   \n",
       "356254      24709.5         270000.0                    0.006629      -13962   \n",
       "\n",
       "        DAYS_EMPLOYED  ...  CC_NAME_CONTRACT_STATUS_Sent_proposal_MIN_nan   \n",
       "0                -637  ...                                           True  \\\n",
       "1               -1188  ...                                           True   \n",
       "2                -225  ...                                           True   \n",
       "3               -3039  ...                                          False   \n",
       "4               -3038  ...                                           True   \n",
       "...               ...  ...                                            ...   \n",
       "356250          -5169  ...                                           True   \n",
       "356251          -1149  ...                                           True   \n",
       "356252          -3037  ...                                           True   \n",
       "356253          -2731  ...                                           True   \n",
       "356254           -633  ...                                          False   \n",
       "\n",
       "        CC_NAME_CONTRACT_STATUS_Sent_proposal_MAX_False   \n",
       "0                                                 False  \\\n",
       "1                                                 False   \n",
       "2                                                 False   \n",
       "3                                                  True   \n",
       "4                                                 False   \n",
       "...                                                 ...   \n",
       "356250                                            False   \n",
       "356251                                            False   \n",
       "356252                                            False   \n",
       "356253                                            False   \n",
       "356254                                             True   \n",
       "\n",
       "        CC_NAME_CONTRACT_STATUS_Sent_proposal_MAX_True   \n",
       "0                                                False  \\\n",
       "1                                                False   \n",
       "2                                                False   \n",
       "3                                                False   \n",
       "4                                                False   \n",
       "...                                                ...   \n",
       "356250                                           False   \n",
       "356251                                           False   \n",
       "356252                                           False   \n",
       "356253                                           False   \n",
       "356254                                           False   \n",
       "\n",
       "        CC_NAME_CONTRACT_STATUS_Sent_proposal_MAX_nan   \n",
       "0                                                True  \\\n",
       "1                                                True   \n",
       "2                                                True   \n",
       "3                                               False   \n",
       "4                                                True   \n",
       "...                                               ...   \n",
       "356250                                           True   \n",
       "356251                                           True   \n",
       "356252                                           True   \n",
       "356253                                           True   \n",
       "356254                                          False   \n",
       "\n",
       "        CC_NAME_CONTRACT_STATUS_Signed_MIN_False   \n",
       "0                                          False  \\\n",
       "1                                          False   \n",
       "2                                          False   \n",
       "3                                           True   \n",
       "4                                          False   \n",
       "...                                          ...   \n",
       "356250                                     False   \n",
       "356251                                     False   \n",
       "356252                                     False   \n",
       "356253                                     False   \n",
       "356254                                      True   \n",
       "\n",
       "        CC_NAME_CONTRACT_STATUS_Signed_MIN_True   \n",
       "0                                         False  \\\n",
       "1                                         False   \n",
       "2                                         False   \n",
       "3                                         False   \n",
       "4                                         False   \n",
       "...                                         ...   \n",
       "356250                                    False   \n",
       "356251                                    False   \n",
       "356252                                    False   \n",
       "356253                                    False   \n",
       "356254                                    False   \n",
       "\n",
       "        CC_NAME_CONTRACT_STATUS_Signed_MIN_nan   \n",
       "0                                         True  \\\n",
       "1                                         True   \n",
       "2                                         True   \n",
       "3                                        False   \n",
       "4                                         True   \n",
       "...                                        ...   \n",
       "356250                                    True   \n",
       "356251                                    True   \n",
       "356252                                    True   \n",
       "356253                                    True   \n",
       "356254                                   False   \n",
       "\n",
       "        CC_NAME_CONTRACT_STATUS_Signed_MAX_False   \n",
       "0                                          False  \\\n",
       "1                                          False   \n",
       "2                                          False   \n",
       "3                                           True   \n",
       "4                                          False   \n",
       "...                                          ...   \n",
       "356250                                     False   \n",
       "356251                                     False   \n",
       "356252                                     False   \n",
       "356253                                     False   \n",
       "356254                                      True   \n",
       "\n",
       "        CC_NAME_CONTRACT_STATUS_Signed_MAX_True   \n",
       "0                                         False  \\\n",
       "1                                         False   \n",
       "2                                         False   \n",
       "3                                         False   \n",
       "4                                         False   \n",
       "...                                         ...   \n",
       "356250                                    False   \n",
       "356251                                    False   \n",
       "356252                                    False   \n",
       "356253                                    False   \n",
       "356254                                    False   \n",
       "\n",
       "        CC_NAME_CONTRACT_STATUS_Signed_MAX_nan  \n",
       "0                                         True  \n",
       "1                                         True  \n",
       "2                                         True  \n",
       "3                                        False  \n",
       "4                                         True  \n",
       "...                                        ...  \n",
       "356250                                    True  \n",
       "356251                                    True  \n",
       "356252                                    True  \n",
       "356253                                    True  \n",
       "356254                                   False  \n",
       "\n",
       "[356255 rows x 790 columns]"
      ]
     },
     "metadata": {},
     "output_type": "display_data"
    }
   ],
   "source": [
    "from home_credit.lightgbm_kernel_v2 import main_preproc\n",
    "from pepper.env import get_tmp_dir\n",
    "from pepper.utils import cls\n",
    "import os\n",
    "data = main_preproc(nrows=None, version=1, verbosity=1)\n",
    "# cls()\n",
    "display(data)\n",
    "filepath = os.path.join(get_tmp_dir(), \"prep_dataset_v1.pqt\")\n",
    "data.to_parquet(filepath, engine=\"pyarrow\", compression=\"gzip\")"
   ]
  },
  {
   "attachments": {},
   "cell_type": "markdown",
   "metadata": {},
   "source": [
    "## Version améliorée"
   ]
  },
  {
   "attachments": {},
   "cell_type": "markdown",
   "metadata": {},
   "source": [
    "Sur un échantillon de $10\\,000$ lignes.\n",
    "\n",
    "La compétition n'est ici pas équitable : la sélection des `nrows` par la version d'origine se fait sur les premières lignes du fichier, tandis que la seconde version prélève un véritable échantillon aléatoire."
   ]
  },
  {
   "cell_type": "code",
   "execution_count": 6,
   "metadata": {},
   "outputs": [
    {
     "data": {
      "text/html": [
       "<div>\n",
       "<style scoped>\n",
       "    .dataframe tbody tr th:only-of-type {\n",
       "        vertical-align: middle;\n",
       "    }\n",
       "\n",
       "    .dataframe tbody tr th {\n",
       "        vertical-align: top;\n",
       "    }\n",
       "\n",
       "    .dataframe thead th {\n",
       "        text-align: right;\n",
       "    }\n",
       "</style>\n",
       "<table border=\"1\" class=\"dataframe\">\n",
       "  <thead>\n",
       "    <tr style=\"text-align: right;\">\n",
       "      <th></th>\n",
       "      <th>SK_ID_CURR</th>\n",
       "      <th>TARGET</th>\n",
       "      <th>CNT_CHILDREN</th>\n",
       "      <th>AMT_INCOME_TOTAL</th>\n",
       "      <th>AMT_CREDIT</th>\n",
       "      <th>AMT_ANNUITY</th>\n",
       "      <th>AMT_GOODS_PRICE</th>\n",
       "      <th>REGION_POPULATION_RELATIVE</th>\n",
       "      <th>DAYS_BIRTH</th>\n",
       "      <th>DAYS_EMPLOYED</th>\n",
       "      <th>...</th>\n",
       "      <th>CC_NAME_CONTRACT_STATUS_Demand_MAX_False</th>\n",
       "      <th>CC_NAME_CONTRACT_STATUS_Demand_MAX_nan</th>\n",
       "      <th>CC_NAME_CONTRACT_STATUS_Sent_proposal_MIN_False</th>\n",
       "      <th>CC_NAME_CONTRACT_STATUS_Sent_proposal_MIN_nan</th>\n",
       "      <th>CC_NAME_CONTRACT_STATUS_Sent_proposal_MAX_False</th>\n",
       "      <th>CC_NAME_CONTRACT_STATUS_Sent_proposal_MAX_nan</th>\n",
       "      <th>CC_NAME_CONTRACT_STATUS_Signed_MIN_False</th>\n",
       "      <th>CC_NAME_CONTRACT_STATUS_Signed_MIN_nan</th>\n",
       "      <th>CC_NAME_CONTRACT_STATUS_Signed_MAX_False</th>\n",
       "      <th>CC_NAME_CONTRACT_STATUS_Signed_MAX_nan</th>\n",
       "    </tr>\n",
       "  </thead>\n",
       "  <tbody>\n",
       "    <tr>\n",
       "      <th>355725</th>\n",
       "      <td>452195</td>\n",
       "      <td>-1</td>\n",
       "      <td>0</td>\n",
       "      <td>85500.0</td>\n",
       "      <td>225000.0</td>\n",
       "      <td>17410.5</td>\n",
       "      <td>225000.0</td>\n",
       "      <td>0.009334</td>\n",
       "      <td>-19086</td>\n",
       "      <td>-135</td>\n",
       "      <td>...</td>\n",
       "      <td>False</td>\n",
       "      <td>True</td>\n",
       "      <td>False</td>\n",
       "      <td>True</td>\n",
       "      <td>False</td>\n",
       "      <td>True</td>\n",
       "      <td>False</td>\n",
       "      <td>True</td>\n",
       "      <td>False</td>\n",
       "      <td>True</td>\n",
       "    </tr>\n",
       "    <tr>\n",
       "      <th>223972</th>\n",
       "      <td>359414</td>\n",
       "      <td>0</td>\n",
       "      <td>0</td>\n",
       "      <td>450000.0</td>\n",
       "      <td>1012500.0</td>\n",
       "      <td>56538.0</td>\n",
       "      <td>1012500.0</td>\n",
       "      <td>0.007274</td>\n",
       "      <td>-20572</td>\n",
       "      <td>365243</td>\n",
       "      <td>...</td>\n",
       "      <td>False</td>\n",
       "      <td>True</td>\n",
       "      <td>False</td>\n",
       "      <td>True</td>\n",
       "      <td>False</td>\n",
       "      <td>True</td>\n",
       "      <td>False</td>\n",
       "      <td>True</td>\n",
       "      <td>False</td>\n",
       "      <td>True</td>\n",
       "    </tr>\n",
       "    <tr>\n",
       "      <th>57625</th>\n",
       "      <td>166783</td>\n",
       "      <td>0</td>\n",
       "      <td>0</td>\n",
       "      <td>112500.0</td>\n",
       "      <td>405000.0</td>\n",
       "      <td>20677.5</td>\n",
       "      <td>405000.0</td>\n",
       "      <td>0.010556</td>\n",
       "      <td>-20355</td>\n",
       "      <td>-3765</td>\n",
       "      <td>...</td>\n",
       "      <td>False</td>\n",
       "      <td>True</td>\n",
       "      <td>False</td>\n",
       "      <td>True</td>\n",
       "      <td>False</td>\n",
       "      <td>True</td>\n",
       "      <td>False</td>\n",
       "      <td>True</td>\n",
       "      <td>False</td>\n",
       "      <td>True</td>\n",
       "    </tr>\n",
       "    <tr>\n",
       "      <th>217502</th>\n",
       "      <td>352014</td>\n",
       "      <td>1</td>\n",
       "      <td>0</td>\n",
       "      <td>153000.0</td>\n",
       "      <td>64692.0</td>\n",
       "      <td>4630.5</td>\n",
       "      <td>54000.0</td>\n",
       "      <td>0.002042</td>\n",
       "      <td>-19877</td>\n",
       "      <td>365243</td>\n",
       "      <td>...</td>\n",
       "      <td>False</td>\n",
       "      <td>True</td>\n",
       "      <td>False</td>\n",
       "      <td>True</td>\n",
       "      <td>False</td>\n",
       "      <td>True</td>\n",
       "      <td>False</td>\n",
       "      <td>True</td>\n",
       "      <td>False</td>\n",
       "      <td>True</td>\n",
       "    </tr>\n",
       "    <tr>\n",
       "      <th>34147</th>\n",
       "      <td>139571</td>\n",
       "      <td>0</td>\n",
       "      <td>0</td>\n",
       "      <td>90000.0</td>\n",
       "      <td>755190.0</td>\n",
       "      <td>30078.0</td>\n",
       "      <td>675000.0</td>\n",
       "      <td>0.028663</td>\n",
       "      <td>-22124</td>\n",
       "      <td>365243</td>\n",
       "      <td>...</td>\n",
       "      <td>False</td>\n",
       "      <td>True</td>\n",
       "      <td>False</td>\n",
       "      <td>True</td>\n",
       "      <td>False</td>\n",
       "      <td>True</td>\n",
       "      <td>False</td>\n",
       "      <td>True</td>\n",
       "      <td>False</td>\n",
       "      <td>True</td>\n",
       "    </tr>\n",
       "    <tr>\n",
       "      <th>...</th>\n",
       "      <td>...</td>\n",
       "      <td>...</td>\n",
       "      <td>...</td>\n",
       "      <td>...</td>\n",
       "      <td>...</td>\n",
       "      <td>...</td>\n",
       "      <td>...</td>\n",
       "      <td>...</td>\n",
       "      <td>...</td>\n",
       "      <td>...</td>\n",
       "      <td>...</td>\n",
       "      <td>...</td>\n",
       "      <td>...</td>\n",
       "      <td>...</td>\n",
       "      <td>...</td>\n",
       "      <td>...</td>\n",
       "      <td>...</td>\n",
       "      <td>...</td>\n",
       "      <td>...</td>\n",
       "      <td>...</td>\n",
       "      <td>...</td>\n",
       "    </tr>\n",
       "    <tr>\n",
       "      <th>325104</th>\n",
       "      <td>227701</td>\n",
       "      <td>-1</td>\n",
       "      <td>2</td>\n",
       "      <td>225000.0</td>\n",
       "      <td>1096020.0</td>\n",
       "      <td>52857.0</td>\n",
       "      <td>900000.0</td>\n",
       "      <td>0.031329</td>\n",
       "      <td>-12953</td>\n",
       "      <td>-997</td>\n",
       "      <td>...</td>\n",
       "      <td>True</td>\n",
       "      <td>False</td>\n",
       "      <td>True</td>\n",
       "      <td>False</td>\n",
       "      <td>True</td>\n",
       "      <td>False</td>\n",
       "      <td>True</td>\n",
       "      <td>False</td>\n",
       "      <td>True</td>\n",
       "      <td>False</td>\n",
       "    </tr>\n",
       "    <tr>\n",
       "      <th>295603</th>\n",
       "      <td>442478</td>\n",
       "      <td>0</td>\n",
       "      <td>0</td>\n",
       "      <td>112500.0</td>\n",
       "      <td>879480.0</td>\n",
       "      <td>25843.5</td>\n",
       "      <td>630000.0</td>\n",
       "      <td>0.028663</td>\n",
       "      <td>-20294</td>\n",
       "      <td>365243</td>\n",
       "      <td>...</td>\n",
       "      <td>False</td>\n",
       "      <td>True</td>\n",
       "      <td>False</td>\n",
       "      <td>True</td>\n",
       "      <td>False</td>\n",
       "      <td>True</td>\n",
       "      <td>False</td>\n",
       "      <td>True</td>\n",
       "      <td>False</td>\n",
       "      <td>True</td>\n",
       "    </tr>\n",
       "    <tr>\n",
       "      <th>59018</th>\n",
       "      <td>168404</td>\n",
       "      <td>0</td>\n",
       "      <td>0</td>\n",
       "      <td>103500.0</td>\n",
       "      <td>1192500.0</td>\n",
       "      <td>34996.5</td>\n",
       "      <td>1192500.0</td>\n",
       "      <td>0.018209</td>\n",
       "      <td>-10193</td>\n",
       "      <td>-1957</td>\n",
       "      <td>...</td>\n",
       "      <td>False</td>\n",
       "      <td>True</td>\n",
       "      <td>False</td>\n",
       "      <td>True</td>\n",
       "      <td>False</td>\n",
       "      <td>True</td>\n",
       "      <td>False</td>\n",
       "      <td>True</td>\n",
       "      <td>False</td>\n",
       "      <td>True</td>\n",
       "    </tr>\n",
       "    <tr>\n",
       "      <th>277316</th>\n",
       "      <td>421341</td>\n",
       "      <td>0</td>\n",
       "      <td>0</td>\n",
       "      <td>112500.0</td>\n",
       "      <td>760225.5</td>\n",
       "      <td>32337.0</td>\n",
       "      <td>679500.0</td>\n",
       "      <td>0.007020</td>\n",
       "      <td>-15570</td>\n",
       "      <td>-2775</td>\n",
       "      <td>...</td>\n",
       "      <td>False</td>\n",
       "      <td>True</td>\n",
       "      <td>False</td>\n",
       "      <td>True</td>\n",
       "      <td>False</td>\n",
       "      <td>True</td>\n",
       "      <td>False</td>\n",
       "      <td>True</td>\n",
       "      <td>False</td>\n",
       "      <td>True</td>\n",
       "    </tr>\n",
       "    <tr>\n",
       "      <th>123237</th>\n",
       "      <td>242910</td>\n",
       "      <td>0</td>\n",
       "      <td>0</td>\n",
       "      <td>112500.0</td>\n",
       "      <td>454500.0</td>\n",
       "      <td>16321.5</td>\n",
       "      <td>454500.0</td>\n",
       "      <td>0.035792</td>\n",
       "      <td>-14894</td>\n",
       "      <td>-3703</td>\n",
       "      <td>...</td>\n",
       "      <td>False</td>\n",
       "      <td>True</td>\n",
       "      <td>False</td>\n",
       "      <td>True</td>\n",
       "      <td>False</td>\n",
       "      <td>True</td>\n",
       "      <td>False</td>\n",
       "      <td>True</td>\n",
       "      <td>False</td>\n",
       "      <td>True</td>\n",
       "    </tr>\n",
       "  </tbody>\n",
       "</table>\n",
       "<p>10000 rows × 746 columns</p>\n",
       "</div>"
      ],
      "text/plain": [
       "        SK_ID_CURR  TARGET  CNT_CHILDREN  AMT_INCOME_TOTAL  AMT_CREDIT   \n",
       "355725      452195      -1             0           85500.0    225000.0  \\\n",
       "223972      359414       0             0          450000.0   1012500.0   \n",
       "57625       166783       0             0          112500.0    405000.0   \n",
       "217502      352014       1             0          153000.0     64692.0   \n",
       "34147       139571       0             0           90000.0    755190.0   \n",
       "...            ...     ...           ...               ...         ...   \n",
       "325104      227701      -1             2          225000.0   1096020.0   \n",
       "295603      442478       0             0          112500.0    879480.0   \n",
       "59018       168404       0             0          103500.0   1192500.0   \n",
       "277316      421341       0             0          112500.0    760225.5   \n",
       "123237      242910       0             0          112500.0    454500.0   \n",
       "\n",
       "        AMT_ANNUITY  AMT_GOODS_PRICE  REGION_POPULATION_RELATIVE  DAYS_BIRTH   \n",
       "355725      17410.5         225000.0                    0.009334      -19086  \\\n",
       "223972      56538.0        1012500.0                    0.007274      -20572   \n",
       "57625       20677.5         405000.0                    0.010556      -20355   \n",
       "217502       4630.5          54000.0                    0.002042      -19877   \n",
       "34147       30078.0         675000.0                    0.028663      -22124   \n",
       "...             ...              ...                         ...         ...   \n",
       "325104      52857.0         900000.0                    0.031329      -12953   \n",
       "295603      25843.5         630000.0                    0.028663      -20294   \n",
       "59018       34996.5        1192500.0                    0.018209      -10193   \n",
       "277316      32337.0         679500.0                    0.007020      -15570   \n",
       "123237      16321.5         454500.0                    0.035792      -14894   \n",
       "\n",
       "        DAYS_EMPLOYED  ...  CC_NAME_CONTRACT_STATUS_Demand_MAX_False   \n",
       "355725           -135  ...                                     False  \\\n",
       "223972         365243  ...                                     False   \n",
       "57625           -3765  ...                                     False   \n",
       "217502         365243  ...                                     False   \n",
       "34147          365243  ...                                     False   \n",
       "...               ...  ...                                       ...   \n",
       "325104           -997  ...                                      True   \n",
       "295603         365243  ...                                     False   \n",
       "59018           -1957  ...                                     False   \n",
       "277316          -2775  ...                                     False   \n",
       "123237          -3703  ...                                     False   \n",
       "\n",
       "        CC_NAME_CONTRACT_STATUS_Demand_MAX_nan   \n",
       "355725                                    True  \\\n",
       "223972                                    True   \n",
       "57625                                     True   \n",
       "217502                                    True   \n",
       "34147                                     True   \n",
       "...                                        ...   \n",
       "325104                                   False   \n",
       "295603                                    True   \n",
       "59018                                     True   \n",
       "277316                                    True   \n",
       "123237                                    True   \n",
       "\n",
       "        CC_NAME_CONTRACT_STATUS_Sent_proposal_MIN_False   \n",
       "355725                                            False  \\\n",
       "223972                                            False   \n",
       "57625                                             False   \n",
       "217502                                            False   \n",
       "34147                                             False   \n",
       "...                                                 ...   \n",
       "325104                                             True   \n",
       "295603                                            False   \n",
       "59018                                             False   \n",
       "277316                                            False   \n",
       "123237                                            False   \n",
       "\n",
       "        CC_NAME_CONTRACT_STATUS_Sent_proposal_MIN_nan   \n",
       "355725                                           True  \\\n",
       "223972                                           True   \n",
       "57625                                            True   \n",
       "217502                                           True   \n",
       "34147                                            True   \n",
       "...                                               ...   \n",
       "325104                                          False   \n",
       "295603                                           True   \n",
       "59018                                            True   \n",
       "277316                                           True   \n",
       "123237                                           True   \n",
       "\n",
       "        CC_NAME_CONTRACT_STATUS_Sent_proposal_MAX_False   \n",
       "355725                                            False  \\\n",
       "223972                                            False   \n",
       "57625                                             False   \n",
       "217502                                            False   \n",
       "34147                                             False   \n",
       "...                                                 ...   \n",
       "325104                                             True   \n",
       "295603                                            False   \n",
       "59018                                             False   \n",
       "277316                                            False   \n",
       "123237                                            False   \n",
       "\n",
       "        CC_NAME_CONTRACT_STATUS_Sent_proposal_MAX_nan   \n",
       "355725                                           True  \\\n",
       "223972                                           True   \n",
       "57625                                            True   \n",
       "217502                                           True   \n",
       "34147                                            True   \n",
       "...                                               ...   \n",
       "325104                                          False   \n",
       "295603                                           True   \n",
       "59018                                            True   \n",
       "277316                                           True   \n",
       "123237                                           True   \n",
       "\n",
       "        CC_NAME_CONTRACT_STATUS_Signed_MIN_False   \n",
       "355725                                     False  \\\n",
       "223972                                     False   \n",
       "57625                                      False   \n",
       "217502                                     False   \n",
       "34147                                      False   \n",
       "...                                          ...   \n",
       "325104                                      True   \n",
       "295603                                     False   \n",
       "59018                                      False   \n",
       "277316                                     False   \n",
       "123237                                     False   \n",
       "\n",
       "        CC_NAME_CONTRACT_STATUS_Signed_MIN_nan   \n",
       "355725                                    True  \\\n",
       "223972                                    True   \n",
       "57625                                     True   \n",
       "217502                                    True   \n",
       "34147                                     True   \n",
       "...                                        ...   \n",
       "325104                                   False   \n",
       "295603                                    True   \n",
       "59018                                     True   \n",
       "277316                                    True   \n",
       "123237                                    True   \n",
       "\n",
       "        CC_NAME_CONTRACT_STATUS_Signed_MAX_False   \n",
       "355725                                     False  \\\n",
       "223972                                     False   \n",
       "57625                                      False   \n",
       "217502                                     False   \n",
       "34147                                      False   \n",
       "...                                          ...   \n",
       "325104                                      True   \n",
       "295603                                     False   \n",
       "59018                                      False   \n",
       "277316                                     False   \n",
       "123237                                     False   \n",
       "\n",
       "        CC_NAME_CONTRACT_STATUS_Signed_MAX_nan  \n",
       "355725                                    True  \n",
       "223972                                    True  \n",
       "57625                                     True  \n",
       "217502                                    True  \n",
       "34147                                     True  \n",
       "...                                        ...  \n",
       "325104                                   False  \n",
       "295603                                    True  \n",
       "59018                                     True  \n",
       "277316                                    True  \n",
       "123237                                    True  \n",
       "\n",
       "[10000 rows x 746 columns]"
      ]
     },
     "metadata": {},
     "output_type": "display_data"
    }
   ],
   "source": [
    "from home_credit.lightgbm_kernel_v2 import main_preproc\n",
    "from pepper.utils import cls\n",
    "data = main_preproc(nrows=10_000, version=2, verbosity=1)\n",
    "cls()\n",
    "display(data)"
   ]
  },
  {
   "attachments": {},
   "cell_type": "markdown",
   "metadata": {},
   "source": [
    "Sur l'ensemble du jeu de données. Magré un handicap concédé à la v1 (alignement de la table `application` sur celle de la v1), c'est plus rapide."
   ]
  },
  {
   "cell_type": "code",
   "execution_count": 3,
   "metadata": {},
   "outputs": [
    {
     "data": {
      "text/plain": [
       "'Preprocess `bureau` - Version 2'"
      ]
     },
     "metadata": {},
     "output_type": "display_data"
    },
    {
     "name": "stdout",
     "output_type": "stream",
     "text": [
      "load C:\\Users\\franc\\Projects\\pepper_credit_scoring_tool\\dataset\\pqt\\bureau.pqt\n",
      "load C:\\Users\\franc\\Projects\\pepper_credit_scoring_tool\\dataset\\pqt\\bureau_balance.pqt\n",
      "\u001b[1melapsed time\u001b[0m: 26 s, 820 ms\n"
     ]
    },
    {
     "data": {
      "text/plain": [
       "'Preprocess `previous_application` - Version 2'"
      ]
     },
     "metadata": {},
     "output_type": "display_data"
    },
    {
     "name": "stdout",
     "output_type": "stream",
     "text": [
      "load C:\\Users\\franc\\Projects\\pepper_credit_scoring_tool\\dataset\\pqt\\previous_application.pqt\n",
      "\u001b[1melapsed time\u001b[0m: 27 s, 395 ms\n"
     ]
    },
    {
     "data": {
      "text/plain": [
       "'Preprocess `pos_cash_balance` - Version 2'"
      ]
     },
     "metadata": {},
     "output_type": "display_data"
    },
    {
     "name": "stdout",
     "output_type": "stream",
     "text": [
      "load C:\\Users\\franc\\Projects\\pepper_credit_scoring_tool\\dataset\\pqt\\POS_CASH_balance.pqt\n",
      "\u001b[1melapsed time\u001b[0m: 14 s, 107 ms\n"
     ]
    },
    {
     "data": {
      "text/plain": [
       "'Preprocess `credit_card_balance` - Version 2'"
      ]
     },
     "metadata": {},
     "output_type": "display_data"
    },
    {
     "name": "stdout",
     "output_type": "stream",
     "text": [
      "load C:\\Users\\franc\\Projects\\pepper_credit_scoring_tool\\dataset\\pqt\\credit_card_balance.pqt\n",
      "\u001b[1melapsed time\u001b[0m: 12 s, 236 ms\n"
     ]
    },
    {
     "data": {
      "text/plain": [
       "'Preprocess `installments_payments` - Version 2'"
      ]
     },
     "metadata": {},
     "output_type": "display_data"
    },
    {
     "name": "stdout",
     "output_type": "stream",
     "text": [
      "load C:\\Users\\franc\\Projects\\pepper_credit_scoring_tool\\dataset\\pqt\\installments_payments.pqt\n",
      "\u001b[1melapsed time\u001b[0m: 19 s, 640 ms\n"
     ]
    },
    {
     "data": {
      "text/html": [
       "<div>\n",
       "<style scoped>\n",
       "    .dataframe tbody tr th:only-of-type {\n",
       "        vertical-align: middle;\n",
       "    }\n",
       "\n",
       "    .dataframe tbody tr th {\n",
       "        vertical-align: top;\n",
       "    }\n",
       "\n",
       "    .dataframe thead th {\n",
       "        text-align: right;\n",
       "    }\n",
       "</style>\n",
       "<table border=\"1\" class=\"dataframe\">\n",
       "  <thead>\n",
       "    <tr style=\"text-align: right;\">\n",
       "      <th></th>\n",
       "      <th>SK_ID_CURR</th>\n",
       "      <th>TARGET</th>\n",
       "      <th>CNT_CHILDREN</th>\n",
       "      <th>AMT_INCOME_TOTAL</th>\n",
       "      <th>AMT_CREDIT</th>\n",
       "      <th>AMT_ANNUITY</th>\n",
       "      <th>AMT_GOODS_PRICE</th>\n",
       "      <th>REGION_POPULATION_RELATIVE</th>\n",
       "      <th>DAYS_BIRTH</th>\n",
       "      <th>DAYS_EMPLOYED</th>\n",
       "      <th>...</th>\n",
       "      <th>CC_NAME_CONTRACT_STATUS_Sent_proposal_MIN_nan</th>\n",
       "      <th>CC_NAME_CONTRACT_STATUS_Sent_proposal_MAX_False</th>\n",
       "      <th>CC_NAME_CONTRACT_STATUS_Sent_proposal_MAX_True</th>\n",
       "      <th>CC_NAME_CONTRACT_STATUS_Sent_proposal_MAX_nan</th>\n",
       "      <th>CC_NAME_CONTRACT_STATUS_Signed_MIN_False</th>\n",
       "      <th>CC_NAME_CONTRACT_STATUS_Signed_MIN_True</th>\n",
       "      <th>CC_NAME_CONTRACT_STATUS_Signed_MIN_nan</th>\n",
       "      <th>CC_NAME_CONTRACT_STATUS_Signed_MAX_False</th>\n",
       "      <th>CC_NAME_CONTRACT_STATUS_Signed_MAX_True</th>\n",
       "      <th>CC_NAME_CONTRACT_STATUS_Signed_MAX_nan</th>\n",
       "    </tr>\n",
       "  </thead>\n",
       "  <tbody>\n",
       "    <tr>\n",
       "      <th>0</th>\n",
       "      <td>100002</td>\n",
       "      <td>1</td>\n",
       "      <td>0</td>\n",
       "      <td>202500.0</td>\n",
       "      <td>406597.5</td>\n",
       "      <td>24700.5</td>\n",
       "      <td>351000.0</td>\n",
       "      <td>0.018801</td>\n",
       "      <td>-9461</td>\n",
       "      <td>-637</td>\n",
       "      <td>...</td>\n",
       "      <td>True</td>\n",
       "      <td>False</td>\n",
       "      <td>False</td>\n",
       "      <td>True</td>\n",
       "      <td>False</td>\n",
       "      <td>False</td>\n",
       "      <td>True</td>\n",
       "      <td>False</td>\n",
       "      <td>False</td>\n",
       "      <td>True</td>\n",
       "    </tr>\n",
       "    <tr>\n",
       "      <th>1</th>\n",
       "      <td>100003</td>\n",
       "      <td>0</td>\n",
       "      <td>0</td>\n",
       "      <td>270000.0</td>\n",
       "      <td>1293502.5</td>\n",
       "      <td>35698.5</td>\n",
       "      <td>1129500.0</td>\n",
       "      <td>0.003541</td>\n",
       "      <td>-16765</td>\n",
       "      <td>-1188</td>\n",
       "      <td>...</td>\n",
       "      <td>True</td>\n",
       "      <td>False</td>\n",
       "      <td>False</td>\n",
       "      <td>True</td>\n",
       "      <td>False</td>\n",
       "      <td>False</td>\n",
       "      <td>True</td>\n",
       "      <td>False</td>\n",
       "      <td>False</td>\n",
       "      <td>True</td>\n",
       "    </tr>\n",
       "    <tr>\n",
       "      <th>2</th>\n",
       "      <td>100004</td>\n",
       "      <td>0</td>\n",
       "      <td>0</td>\n",
       "      <td>67500.0</td>\n",
       "      <td>135000.0</td>\n",
       "      <td>6750.0</td>\n",
       "      <td>135000.0</td>\n",
       "      <td>0.010032</td>\n",
       "      <td>-19046</td>\n",
       "      <td>-225</td>\n",
       "      <td>...</td>\n",
       "      <td>True</td>\n",
       "      <td>False</td>\n",
       "      <td>False</td>\n",
       "      <td>True</td>\n",
       "      <td>False</td>\n",
       "      <td>False</td>\n",
       "      <td>True</td>\n",
       "      <td>False</td>\n",
       "      <td>False</td>\n",
       "      <td>True</td>\n",
       "    </tr>\n",
       "    <tr>\n",
       "      <th>3</th>\n",
       "      <td>100006</td>\n",
       "      <td>0</td>\n",
       "      <td>0</td>\n",
       "      <td>135000.0</td>\n",
       "      <td>312682.5</td>\n",
       "      <td>29686.5</td>\n",
       "      <td>297000.0</td>\n",
       "      <td>0.008019</td>\n",
       "      <td>-19005</td>\n",
       "      <td>-3039</td>\n",
       "      <td>...</td>\n",
       "      <td>False</td>\n",
       "      <td>True</td>\n",
       "      <td>False</td>\n",
       "      <td>False</td>\n",
       "      <td>True</td>\n",
       "      <td>False</td>\n",
       "      <td>False</td>\n",
       "      <td>True</td>\n",
       "      <td>False</td>\n",
       "      <td>False</td>\n",
       "    </tr>\n",
       "    <tr>\n",
       "      <th>4</th>\n",
       "      <td>100007</td>\n",
       "      <td>0</td>\n",
       "      <td>0</td>\n",
       "      <td>121500.0</td>\n",
       "      <td>513000.0</td>\n",
       "      <td>21865.5</td>\n",
       "      <td>513000.0</td>\n",
       "      <td>0.028663</td>\n",
       "      <td>-19932</td>\n",
       "      <td>-3038</td>\n",
       "      <td>...</td>\n",
       "      <td>True</td>\n",
       "      <td>False</td>\n",
       "      <td>False</td>\n",
       "      <td>True</td>\n",
       "      <td>False</td>\n",
       "      <td>False</td>\n",
       "      <td>True</td>\n",
       "      <td>False</td>\n",
       "      <td>False</td>\n",
       "      <td>True</td>\n",
       "    </tr>\n",
       "    <tr>\n",
       "      <th>...</th>\n",
       "      <td>...</td>\n",
       "      <td>...</td>\n",
       "      <td>...</td>\n",
       "      <td>...</td>\n",
       "      <td>...</td>\n",
       "      <td>...</td>\n",
       "      <td>...</td>\n",
       "      <td>...</td>\n",
       "      <td>...</td>\n",
       "      <td>...</td>\n",
       "      <td>...</td>\n",
       "      <td>...</td>\n",
       "      <td>...</td>\n",
       "      <td>...</td>\n",
       "      <td>...</td>\n",
       "      <td>...</td>\n",
       "      <td>...</td>\n",
       "      <td>...</td>\n",
       "      <td>...</td>\n",
       "      <td>...</td>\n",
       "      <td>...</td>\n",
       "    </tr>\n",
       "    <tr>\n",
       "      <th>356250</th>\n",
       "      <td>456221</td>\n",
       "      <td>-1</td>\n",
       "      <td>0</td>\n",
       "      <td>121500.0</td>\n",
       "      <td>412560.0</td>\n",
       "      <td>17473.5</td>\n",
       "      <td>270000.0</td>\n",
       "      <td>0.002042</td>\n",
       "      <td>-19970</td>\n",
       "      <td>-5169</td>\n",
       "      <td>...</td>\n",
       "      <td>True</td>\n",
       "      <td>False</td>\n",
       "      <td>False</td>\n",
       "      <td>True</td>\n",
       "      <td>False</td>\n",
       "      <td>False</td>\n",
       "      <td>True</td>\n",
       "      <td>False</td>\n",
       "      <td>False</td>\n",
       "      <td>True</td>\n",
       "    </tr>\n",
       "    <tr>\n",
       "      <th>356251</th>\n",
       "      <td>456222</td>\n",
       "      <td>-1</td>\n",
       "      <td>2</td>\n",
       "      <td>157500.0</td>\n",
       "      <td>622413.0</td>\n",
       "      <td>31909.5</td>\n",
       "      <td>495000.0</td>\n",
       "      <td>0.035792</td>\n",
       "      <td>-11186</td>\n",
       "      <td>-1149</td>\n",
       "      <td>...</td>\n",
       "      <td>True</td>\n",
       "      <td>False</td>\n",
       "      <td>False</td>\n",
       "      <td>True</td>\n",
       "      <td>False</td>\n",
       "      <td>False</td>\n",
       "      <td>True</td>\n",
       "      <td>False</td>\n",
       "      <td>False</td>\n",
       "      <td>True</td>\n",
       "    </tr>\n",
       "    <tr>\n",
       "      <th>356252</th>\n",
       "      <td>456223</td>\n",
       "      <td>-1</td>\n",
       "      <td>1</td>\n",
       "      <td>202500.0</td>\n",
       "      <td>315000.0</td>\n",
       "      <td>33205.5</td>\n",
       "      <td>315000.0</td>\n",
       "      <td>0.026392</td>\n",
       "      <td>-15922</td>\n",
       "      <td>-3037</td>\n",
       "      <td>...</td>\n",
       "      <td>True</td>\n",
       "      <td>False</td>\n",
       "      <td>False</td>\n",
       "      <td>True</td>\n",
       "      <td>False</td>\n",
       "      <td>False</td>\n",
       "      <td>True</td>\n",
       "      <td>False</td>\n",
       "      <td>False</td>\n",
       "      <td>True</td>\n",
       "    </tr>\n",
       "    <tr>\n",
       "      <th>356253</th>\n",
       "      <td>456224</td>\n",
       "      <td>-1</td>\n",
       "      <td>0</td>\n",
       "      <td>225000.0</td>\n",
       "      <td>450000.0</td>\n",
       "      <td>25128.0</td>\n",
       "      <td>450000.0</td>\n",
       "      <td>0.018850</td>\n",
       "      <td>-13968</td>\n",
       "      <td>-2731</td>\n",
       "      <td>...</td>\n",
       "      <td>True</td>\n",
       "      <td>False</td>\n",
       "      <td>False</td>\n",
       "      <td>True</td>\n",
       "      <td>False</td>\n",
       "      <td>False</td>\n",
       "      <td>True</td>\n",
       "      <td>False</td>\n",
       "      <td>False</td>\n",
       "      <td>True</td>\n",
       "    </tr>\n",
       "    <tr>\n",
       "      <th>356254</th>\n",
       "      <td>456250</td>\n",
       "      <td>-1</td>\n",
       "      <td>0</td>\n",
       "      <td>135000.0</td>\n",
       "      <td>312768.0</td>\n",
       "      <td>24709.5</td>\n",
       "      <td>270000.0</td>\n",
       "      <td>0.006629</td>\n",
       "      <td>-13962</td>\n",
       "      <td>-633</td>\n",
       "      <td>...</td>\n",
       "      <td>False</td>\n",
       "      <td>True</td>\n",
       "      <td>False</td>\n",
       "      <td>False</td>\n",
       "      <td>True</td>\n",
       "      <td>False</td>\n",
       "      <td>False</td>\n",
       "      <td>True</td>\n",
       "      <td>False</td>\n",
       "      <td>False</td>\n",
       "    </tr>\n",
       "  </tbody>\n",
       "</table>\n",
       "<p>356255 rows × 790 columns</p>\n",
       "</div>"
      ],
      "text/plain": [
       "        SK_ID_CURR  TARGET  CNT_CHILDREN  AMT_INCOME_TOTAL  AMT_CREDIT   \n",
       "0           100002       1             0          202500.0    406597.5  \\\n",
       "1           100003       0             0          270000.0   1293502.5   \n",
       "2           100004       0             0           67500.0    135000.0   \n",
       "3           100006       0             0          135000.0    312682.5   \n",
       "4           100007       0             0          121500.0    513000.0   \n",
       "...            ...     ...           ...               ...         ...   \n",
       "356250      456221      -1             0          121500.0    412560.0   \n",
       "356251      456222      -1             2          157500.0    622413.0   \n",
       "356252      456223      -1             1          202500.0    315000.0   \n",
       "356253      456224      -1             0          225000.0    450000.0   \n",
       "356254      456250      -1             0          135000.0    312768.0   \n",
       "\n",
       "        AMT_ANNUITY  AMT_GOODS_PRICE  REGION_POPULATION_RELATIVE  DAYS_BIRTH   \n",
       "0           24700.5         351000.0                    0.018801       -9461  \\\n",
       "1           35698.5        1129500.0                    0.003541      -16765   \n",
       "2            6750.0         135000.0                    0.010032      -19046   \n",
       "3           29686.5         297000.0                    0.008019      -19005   \n",
       "4           21865.5         513000.0                    0.028663      -19932   \n",
       "...             ...              ...                         ...         ...   \n",
       "356250      17473.5         270000.0                    0.002042      -19970   \n",
       "356251      31909.5         495000.0                    0.035792      -11186   \n",
       "356252      33205.5         315000.0                    0.026392      -15922   \n",
       "356253      25128.0         450000.0                    0.018850      -13968   \n",
       "356254      24709.5         270000.0                    0.006629      -13962   \n",
       "\n",
       "        DAYS_EMPLOYED  ...  CC_NAME_CONTRACT_STATUS_Sent_proposal_MIN_nan   \n",
       "0                -637  ...                                           True  \\\n",
       "1               -1188  ...                                           True   \n",
       "2                -225  ...                                           True   \n",
       "3               -3039  ...                                          False   \n",
       "4               -3038  ...                                           True   \n",
       "...               ...  ...                                            ...   \n",
       "356250          -5169  ...                                           True   \n",
       "356251          -1149  ...                                           True   \n",
       "356252          -3037  ...                                           True   \n",
       "356253          -2731  ...                                           True   \n",
       "356254           -633  ...                                          False   \n",
       "\n",
       "        CC_NAME_CONTRACT_STATUS_Sent_proposal_MAX_False   \n",
       "0                                                 False  \\\n",
       "1                                                 False   \n",
       "2                                                 False   \n",
       "3                                                  True   \n",
       "4                                                 False   \n",
       "...                                                 ...   \n",
       "356250                                            False   \n",
       "356251                                            False   \n",
       "356252                                            False   \n",
       "356253                                            False   \n",
       "356254                                             True   \n",
       "\n",
       "        CC_NAME_CONTRACT_STATUS_Sent_proposal_MAX_True   \n",
       "0                                                False  \\\n",
       "1                                                False   \n",
       "2                                                False   \n",
       "3                                                False   \n",
       "4                                                False   \n",
       "...                                                ...   \n",
       "356250                                           False   \n",
       "356251                                           False   \n",
       "356252                                           False   \n",
       "356253                                           False   \n",
       "356254                                           False   \n",
       "\n",
       "        CC_NAME_CONTRACT_STATUS_Sent_proposal_MAX_nan   \n",
       "0                                                True  \\\n",
       "1                                                True   \n",
       "2                                                True   \n",
       "3                                               False   \n",
       "4                                                True   \n",
       "...                                               ...   \n",
       "356250                                           True   \n",
       "356251                                           True   \n",
       "356252                                           True   \n",
       "356253                                           True   \n",
       "356254                                          False   \n",
       "\n",
       "        CC_NAME_CONTRACT_STATUS_Signed_MIN_False   \n",
       "0                                          False  \\\n",
       "1                                          False   \n",
       "2                                          False   \n",
       "3                                           True   \n",
       "4                                          False   \n",
       "...                                          ...   \n",
       "356250                                     False   \n",
       "356251                                     False   \n",
       "356252                                     False   \n",
       "356253                                     False   \n",
       "356254                                      True   \n",
       "\n",
       "        CC_NAME_CONTRACT_STATUS_Signed_MIN_True   \n",
       "0                                         False  \\\n",
       "1                                         False   \n",
       "2                                         False   \n",
       "3                                         False   \n",
       "4                                         False   \n",
       "...                                         ...   \n",
       "356250                                    False   \n",
       "356251                                    False   \n",
       "356252                                    False   \n",
       "356253                                    False   \n",
       "356254                                    False   \n",
       "\n",
       "        CC_NAME_CONTRACT_STATUS_Signed_MIN_nan   \n",
       "0                                         True  \\\n",
       "1                                         True   \n",
       "2                                         True   \n",
       "3                                        False   \n",
       "4                                         True   \n",
       "...                                        ...   \n",
       "356250                                    True   \n",
       "356251                                    True   \n",
       "356252                                    True   \n",
       "356253                                    True   \n",
       "356254                                   False   \n",
       "\n",
       "        CC_NAME_CONTRACT_STATUS_Signed_MAX_False   \n",
       "0                                          False  \\\n",
       "1                                          False   \n",
       "2                                          False   \n",
       "3                                           True   \n",
       "4                                          False   \n",
       "...                                          ...   \n",
       "356250                                     False   \n",
       "356251                                     False   \n",
       "356252                                     False   \n",
       "356253                                     False   \n",
       "356254                                      True   \n",
       "\n",
       "        CC_NAME_CONTRACT_STATUS_Signed_MAX_True   \n",
       "0                                         False  \\\n",
       "1                                         False   \n",
       "2                                         False   \n",
       "3                                         False   \n",
       "4                                         False   \n",
       "...                                         ...   \n",
       "356250                                    False   \n",
       "356251                                    False   \n",
       "356252                                    False   \n",
       "356253                                    False   \n",
       "356254                                    False   \n",
       "\n",
       "        CC_NAME_CONTRACT_STATUS_Signed_MAX_nan  \n",
       "0                                         True  \n",
       "1                                         True  \n",
       "2                                         True  \n",
       "3                                        False  \n",
       "4                                         True  \n",
       "...                                        ...  \n",
       "356250                                    True  \n",
       "356251                                    True  \n",
       "356252                                    True  \n",
       "356253                                    True  \n",
       "356254                                   False  \n",
       "\n",
       "[356255 rows x 790 columns]"
      ]
     },
     "metadata": {},
     "output_type": "display_data"
    }
   ],
   "source": [
    "from home_credit.lightgbm_kernel_v2 import main_preproc\n",
    "from pepper.env import get_tmp_dir\n",
    "from pepper.utils import cls\n",
    "import os\n",
    "data = main_preproc(nrows=None, version=2, verbosity=1)\n",
    "#cls()\n",
    "display(data)\n",
    "filepath = os.path.join(get_tmp_dir(), \"prep_dataset_v2.pqt\")\n",
    "data.to_parquet(filepath, engine=\"pyarrow\", compression=\"gzip\")"
   ]
  },
  {
   "attachments": {},
   "cell_type": "markdown",
   "metadata": {},
   "source": [
    "## `KFOLD_LIGHTGBM`"
   ]
  },
  {
   "cell_type": "code",
   "execution_count": null,
   "metadata": {},
   "outputs": [],
   "source": [
    "from home_credit.lightgbm_kernel import kfold_lightgbm as kfold_lightgbm_v1\n",
    "from home_credit.lightgbm_kernel_v2 import kfold_lightgbm as kfold_lightgbm_v2\n",
    "\n",
    "# Compare"
   ]
  },
  {
   "attachments": {},
   "cell_type": "markdown",
   "metadata": {},
   "source": [
    "## `DISPLAY_IMPORTANCES`"
   ]
  },
  {
   "cell_type": "code",
   "execution_count": null,
   "metadata": {},
   "outputs": [],
   "source": [
    "from home_credit.lightgbm_kernel import display_importances as display_importances_v1\n",
    "from home_credit.lightgbm_kernel_v2 import display_importances as display_importances_v2\n",
    "\n",
    "# Compare"
   ]
  },
  {
   "attachments": {},
   "cell_type": "markdown",
   "metadata": {},
   "source": [
    "## `MAIN`"
   ]
  },
  {
   "cell_type": "code",
   "execution_count": 1,
   "metadata": {},
   "outputs": [],
   "source": [
    "from home_credit.lightgbm_kernel import main as main_v1\n",
    "from home_credit.lightgbm_kernel_v2 import main as main_v2\n",
    "\n",
    "# Compare"
   ]
  },
  {
   "cell_type": "code",
   "execution_count": 14,
   "metadata": {},
   "outputs": [
    {
     "name": "stdout",
     "output_type": "stream",
     "text": [
      "D\n"
     ]
    },
    {
     "data": {
      "text/plain": [
       "'Truc'"
      ]
     },
     "metadata": {},
     "output_type": "display_data"
    },
    {
     "name": "stdout",
     "output_type": "stream",
     "text": [
      "E\n"
     ]
    }
   ],
   "source": [
    "from pepper.utils import cls\n",
    "print(\"A\")\n",
    "print(\"B\")\n",
    "display(\"Machin\")\n",
    "print(\"C\")\n",
    "cls()\n",
    "print(\"D\")\n",
    "display(\"Truc\")\n",
    "print(\"E\")\n"
   ]
  },
  {
   "cell_type": "code",
   "execution_count": null,
   "metadata": {},
   "outputs": [],
   "source": [
    "main_v2(version=1, verbosity=2)"
   ]
  },
  {
   "cell_type": "code",
   "execution_count": 2,
   "metadata": {},
   "outputs": [
    {
     "name": "stdout",
     "output_type": "stream",
     "text": [
      "load C:\\Users\\franc\\Projects\\pepper_credit_scoring_tool\\dataset\\pqt\\application_train.pqt\n",
      "load C:\\Users\\franc\\Projects\\pepper_credit_scoring_tool\\dataset\\pqt\\application_test.pqt\n",
      "app\n"
     ]
    },
    {
     "data": {
      "text/plain": [
       "Index([], dtype='object')"
      ]
     },
     "metadata": {},
     "output_type": "display_data"
    },
    {
     "name": "stdout",
     "output_type": "stream",
     "text": [
      "\u001b[3m\u001b[32m\n",
      "Preprocess `bureau` - Version 1\u001b[0m\u001b[0m\n",
      "\u001b[1melapsed time\u001b[0m: 23s\n",
      "\u001b[1m`bureau` shape:\u001b[0m: (305811, 112)\n",
      "\u001b[1m\n",
      "data shape\u001b[0m: (356255, 241)\n",
      "<class 'pandas.core.frame.DataFrame'>\n",
      "RangeIndex: 356255 entries, 0 to 356254\n",
      "Columns: 241 entries, SK_ID_CURR to PAYMENT_RATE\n",
      "dtypes: bool(130), float64(70), int64(41)\n",
      "memory usage: 345.9 MB\n",
      "\u001b[1m\n",
      "adj_table shape\u001b[0m: (305811, 112)\n",
      "<class 'pandas.core.frame.DataFrame'>\n",
      "Index: 305811 entries, 100001 to 456255\n",
      "Columns: 112 entries, BURO_DAYS_CREDIT_MIN to CLOSED_MONTHS_BALANCE_SIZE_SUM\n",
      "dtypes: float64(108), int64(4)\n",
      "memory usage: 263.6 MB\n",
      "\u001b[1m\n",
      "updated_data shape\u001b[0m: (356255, 353)\n",
      "<class 'pandas.core.frame.DataFrame'>\n",
      "RangeIndex: 356255 entries, 0 to 356254\n",
      "Columns: 353 entries, SK_ID_CURR to CLOSED_MONTHS_BALANCE_SIZE_SUM\n",
      "dtypes: bool(130), float64(182), int64(41)\n",
      "memory usage: 650.3 MB\n",
      "app+bur\n"
     ]
    },
    {
     "data": {
      "text/plain": [
       "Index([], dtype='object')"
      ]
     },
     "metadata": {},
     "output_type": "display_data"
    },
    {
     "name": "stdout",
     "output_type": "stream",
     "text": [
      "\u001b[3m\u001b[32m\n",
      "Preprocess `previous_application` - Version 1\u001b[0m\u001b[0m\n",
      "\u001b[1melapsed time\u001b[0m: 25s\n",
      "\u001b[1m`previous_application` shape:\u001b[0m: (338857, 233)\n",
      "\u001b[1m\n",
      "data shape\u001b[0m: (356255, 353)\n",
      "<class 'pandas.core.frame.DataFrame'>\n",
      "RangeIndex: 356255 entries, 0 to 356254\n",
      "Columns: 353 entries, SK_ID_CURR to CLOSED_MONTHS_BALANCE_SIZE_SUM\n",
      "dtypes: bool(130), float64(182), int64(41)\n",
      "memory usage: 650.3 MB\n",
      "\u001b[1m\n",
      "adj_table shape\u001b[0m: (338857, 233)\n",
      "<class 'pandas.core.frame.DataFrame'>\n",
      "Index: 338857 entries, 100001 to 456255\n",
      "Columns: 233 entries, PREV_AMT_ANNUITY_MIN to REFUSED_CNT_PAYMENT_SUM\n",
      "dtypes: float64(229), int64(4)\n",
      "memory usage: 605.0 MB\n",
      "\u001b[1m\n",
      "updated_data shape\u001b[0m: (356255, 586)\n",
      "<class 'pandas.core.frame.DataFrame'>\n",
      "RangeIndex: 356255 entries, 0 to 356254\n",
      "Columns: 586 entries, SK_ID_CURR to REFUSED_CNT_PAYMENT_SUM\n",
      "dtypes: bool(130), float64(415), int64(41)\n",
      "memory usage: 1.3 GB\n",
      "app+bur+prv\n"
     ]
    },
    {
     "data": {
      "text/plain": [
       "Index([], dtype='object')"
      ]
     },
     "metadata": {},
     "output_type": "display_data"
    },
    {
     "name": "stdout",
     "output_type": "stream",
     "text": [
      "\u001b[3m\u001b[32m\n",
      "Preprocess `pos_cash_balance` - Version 1\u001b[0m\u001b[0m\n",
      "\u001b[1melapsed time\u001b[0m: 13s\n",
      "\u001b[1m`pos_cash_balance` shape:\u001b[0m: (337252, 17)\n",
      "\u001b[1m\n",
      "data shape\u001b[0m: (356255, 586)\n",
      "<class 'pandas.core.frame.DataFrame'>\n",
      "RangeIndex: 356255 entries, 0 to 356254\n",
      "Columns: 586 entries, SK_ID_CURR to REFUSED_CNT_PAYMENT_SUM\n",
      "dtypes: bool(130), float64(415), int64(41)\n",
      "memory usage: 1.3 GB\n",
      "\u001b[1m\n",
      "adj_table shape\u001b[0m: (337252, 17)\n",
      "<class 'pandas.core.frame.DataFrame'>\n",
      "Index: 337252 entries, 100001 to 456255\n",
      "Columns: 17 entries, POS_MONTHS_BALANCE_MAX to POS_COUNT\n",
      "dtypes: float64(12), int64(5)\n",
      "memory usage: 46.3 MB\n",
      "\u001b[1m\n",
      "updated_data shape\u001b[0m: (356255, 603)\n",
      "<class 'pandas.core.frame.DataFrame'>\n",
      "RangeIndex: 356255 entries, 0 to 356254\n",
      "Columns: 603 entries, SK_ID_CURR to POS_COUNT\n",
      "dtypes: bool(130), float64(432), int64(41)\n",
      "memory usage: 1.3 GB\n",
      "app+bur+prv+pcb\n"
     ]
    },
    {
     "data": {
      "text/plain": [
       "Index([], dtype='object')"
      ]
     },
     "metadata": {},
     "output_type": "display_data"
    },
    {
     "name": "stdout",
     "output_type": "stream",
     "text": [
      "\u001b[3m\u001b[32m\n",
      "Preprocess `credit_card_balance` - Version 1\u001b[0m\u001b[0m\n",
      "\u001b[1melapsed time\u001b[0m: 17s\n",
      "\u001b[1m`credit_card_balance` shape:\u001b[0m: (103558, 136)\n",
      "\u001b[1m\n",
      "data shape\u001b[0m: (356255, 603)\n",
      "<class 'pandas.core.frame.DataFrame'>\n",
      "RangeIndex: 356255 entries, 0 to 356254\n",
      "Columns: 603 entries, SK_ID_CURR to POS_COUNT\n",
      "dtypes: bool(130), float64(432), int64(41)\n",
      "memory usage: 1.3 GB\n",
      "\u001b[1m\n",
      "adj_table shape\u001b[0m: (103558, 136)\n",
      "<class 'pandas.core.frame.DataFrame'>\n",
      "Index: 103558 entries, 100006 to 456250\n",
      "Columns: 136 entries, CC_MONTHS_BALANCE_MIN to CC_COUNT\n",
      "dtypes: bool(14), float64(99), int64(23)\n",
      "memory usage: 98.6 MB\n",
      "\u001b[1m\n",
      "updated_data shape\u001b[0m: (356255, 739)\n",
      "<class 'pandas.core.frame.DataFrame'>\n",
      "RangeIndex: 356255 entries, 0 to 356254\n",
      "Columns: 739 entries, SK_ID_CURR to CC_COUNT\n",
      "dtypes: bool(130), float64(554), int64(41), object(14)\n",
      "memory usage: 1.7+ GB\n",
      "app+bur+prv+pcb+ccb\n"
     ]
    },
    {
     "data": {
      "text/plain": [
       "Index(['CC_NAME_CONTRACT_STATUS_Active_MIN',\n",
       "       'CC_NAME_CONTRACT_STATUS_Active_MAX',\n",
       "       'CC_NAME_CONTRACT_STATUS_Approved_MIN',\n",
       "       'CC_NAME_CONTRACT_STATUS_Approved_MAX',\n",
       "       'CC_NAME_CONTRACT_STATUS_Completed_MIN',\n",
       "       'CC_NAME_CONTRACT_STATUS_Completed_MAX',\n",
       "       'CC_NAME_CONTRACT_STATUS_Demand_MIN',\n",
       "       'CC_NAME_CONTRACT_STATUS_Demand_MAX',\n",
       "       'CC_NAME_CONTRACT_STATUS_Refused_MIN',\n",
       "       'CC_NAME_CONTRACT_STATUS_Refused_MAX',\n",
       "       'CC_NAME_CONTRACT_STATUS_Sent proposal_MIN',\n",
       "       'CC_NAME_CONTRACT_STATUS_Sent proposal_MAX',\n",
       "       'CC_NAME_CONTRACT_STATUS_Signed_MIN',\n",
       "       'CC_NAME_CONTRACT_STATUS_Signed_MAX'],\n",
       "      dtype='object')"
      ]
     },
     "metadata": {},
     "output_type": "display_data"
    },
    {
     "name": "stdout",
     "output_type": "stream",
     "text": [
      "\u001b[3m\u001b[32m\n",
      "Preprocess `installments_payments` - Version 1\u001b[0m\u001b[0m\n",
      "\u001b[1melapsed time\u001b[0m: 30s\n",
      "\u001b[1m`installments_payments` shape:\u001b[0m: (339587, 26)\n",
      "\u001b[1m\n",
      "data shape\u001b[0m: (356255, 739)\n",
      "<class 'pandas.core.frame.DataFrame'>\n",
      "RangeIndex: 356255 entries, 0 to 356254\n",
      "Columns: 739 entries, SK_ID_CURR to CC_COUNT\n",
      "dtypes: bool(130), float64(554), int64(41), object(14)\n",
      "memory usage: 1.7+ GB\n",
      "\u001b[1m\n",
      "adj_table shape\u001b[0m: (339587, 26)\n",
      "<class 'pandas.core.frame.DataFrame'>\n",
      "Index: 339587 entries, 100001 to 456255\n",
      "Columns: 26 entries, INSTAL_NUM_INSTALMENT_VERSION_NUNIQUE to INSTAL_COUNT\n",
      "dtypes: float64(24), int64(2)\n",
      "memory usage: 70.0 MB\n",
      "\u001b[1m\n",
      "updated_data shape\u001b[0m: (356255, 765)\n",
      "<class 'pandas.core.frame.DataFrame'>\n",
      "RangeIndex: 356255 entries, 0 to 356254\n",
      "Columns: 765 entries, SK_ID_CURR to INSTAL_COUNT\n",
      "dtypes: bool(130), float64(580), int64(41), object(14)\n",
      "memory usage: 1.7+ GB\n",
      "app+bur+prv+pcb+ccb+ip\n"
     ]
    },
    {
     "data": {
      "text/plain": [
       "Index(['CC_NAME_CONTRACT_STATUS_Active_MIN',\n",
       "       'CC_NAME_CONTRACT_STATUS_Active_MAX',\n",
       "       'CC_NAME_CONTRACT_STATUS_Approved_MIN',\n",
       "       'CC_NAME_CONTRACT_STATUS_Approved_MAX',\n",
       "       'CC_NAME_CONTRACT_STATUS_Completed_MIN',\n",
       "       'CC_NAME_CONTRACT_STATUS_Completed_MAX',\n",
       "       'CC_NAME_CONTRACT_STATUS_Demand_MIN',\n",
       "       'CC_NAME_CONTRACT_STATUS_Demand_MAX',\n",
       "       'CC_NAME_CONTRACT_STATUS_Refused_MIN',\n",
       "       'CC_NAME_CONTRACT_STATUS_Refused_MAX',\n",
       "       'CC_NAME_CONTRACT_STATUS_Sent proposal_MIN',\n",
       "       'CC_NAME_CONTRACT_STATUS_Sent proposal_MAX',\n",
       "       'CC_NAME_CONTRACT_STATUS_Signed_MIN',\n",
       "       'CC_NAME_CONTRACT_STATUS_Signed_MAX'],\n",
       "      dtype='object')"
      ]
     },
     "metadata": {},
     "output_type": "display_data"
    },
    {
     "name": "stdout",
     "output_type": "stream",
     "text": [
      "Re-hot-encoded cats:\n"
     ]
    },
    {
     "data": {
      "text/plain": [
       "['CC_NAME_CONTRACT_STATUS_Active_MIN_False',\n",
       " 'CC_NAME_CONTRACT_STATUS_Active_MIN_True',\n",
       " 'CC_NAME_CONTRACT_STATUS_Active_MIN_nan',\n",
       " 'CC_NAME_CONTRACT_STATUS_Active_MAX_False',\n",
       " 'CC_NAME_CONTRACT_STATUS_Active_MAX_True',\n",
       " 'CC_NAME_CONTRACT_STATUS_Active_MAX_nan',\n",
       " 'CC_NAME_CONTRACT_STATUS_Approved_MIN_False',\n",
       " 'CC_NAME_CONTRACT_STATUS_Approved_MIN_nan',\n",
       " 'CC_NAME_CONTRACT_STATUS_Approved_MAX_False',\n",
       " 'CC_NAME_CONTRACT_STATUS_Approved_MAX_True',\n",
       " 'CC_NAME_CONTRACT_STATUS_Approved_MAX_nan',\n",
       " 'CC_NAME_CONTRACT_STATUS_Completed_MIN_False',\n",
       " 'CC_NAME_CONTRACT_STATUS_Completed_MIN_True',\n",
       " 'CC_NAME_CONTRACT_STATUS_Completed_MIN_nan',\n",
       " 'CC_NAME_CONTRACT_STATUS_Completed_MAX_False',\n",
       " 'CC_NAME_CONTRACT_STATUS_Completed_MAX_True',\n",
       " 'CC_NAME_CONTRACT_STATUS_Completed_MAX_nan',\n",
       " 'CC_NAME_CONTRACT_STATUS_Demand_MIN_False',\n",
       " 'CC_NAME_CONTRACT_STATUS_Demand_MIN_True',\n",
       " 'CC_NAME_CONTRACT_STATUS_Demand_MIN_nan',\n",
       " 'CC_NAME_CONTRACT_STATUS_Demand_MAX_False',\n",
       " 'CC_NAME_CONTRACT_STATUS_Demand_MAX_True',\n",
       " 'CC_NAME_CONTRACT_STATUS_Demand_MAX_nan',\n",
       " 'CC_NAME_CONTRACT_STATUS_Refused_MIN_False',\n",
       " 'CC_NAME_CONTRACT_STATUS_Refused_MIN_nan',\n",
       " 'CC_NAME_CONTRACT_STATUS_Refused_MAX_False',\n",
       " 'CC_NAME_CONTRACT_STATUS_Refused_MAX_True',\n",
       " 'CC_NAME_CONTRACT_STATUS_Refused_MAX_nan',\n",
       " 'CC_NAME_CONTRACT_STATUS_Sent proposal_MIN_False',\n",
       " 'CC_NAME_CONTRACT_STATUS_Sent proposal_MIN_nan',\n",
       " 'CC_NAME_CONTRACT_STATUS_Sent proposal_MAX_False',\n",
       " 'CC_NAME_CONTRACT_STATUS_Sent proposal_MAX_True',\n",
       " 'CC_NAME_CONTRACT_STATUS_Sent proposal_MAX_nan',\n",
       " 'CC_NAME_CONTRACT_STATUS_Signed_MIN_False',\n",
       " 'CC_NAME_CONTRACT_STATUS_Signed_MIN_True',\n",
       " 'CC_NAME_CONTRACT_STATUS_Signed_MIN_nan',\n",
       " 'CC_NAME_CONTRACT_STATUS_Signed_MAX_False',\n",
       " 'CC_NAME_CONTRACT_STATUS_Signed_MAX_True',\n",
       " 'CC_NAME_CONTRACT_STATUS_Signed_MAX_nan']"
      ]
     },
     "metadata": {},
     "output_type": "display_data"
    },
    {
     "name": "stdout",
     "output_type": "stream",
     "text": [
      "\u001b[3m\u001b[32m\n",
      "Run LightGBM with kfold - Version 1\u001b[0m\u001b[0m\n",
      "Starting LightGBM. Train shape: (307511, 790), test shape: (48744, 790)\n"
     ]
    },
    {
     "name": "stderr",
     "output_type": "stream",
     "text": [
      "c:\\Users\\franc\\AppData\\Local\\Programs\\Python\\Python311\\Lib\\site-packages\\lightgbm\\sklearn.py:726: UserWarning: 'early_stopping_rounds' argument is deprecated and will be removed in a future release of LightGBM. Pass 'early_stopping()' callback via 'callbacks' argument instead.\n",
      "  _log_warning(\"'early_stopping_rounds' argument is deprecated and will be removed in a future release of LightGBM. \"\n",
      "c:\\Users\\franc\\AppData\\Local\\Programs\\Python\\Python311\\Lib\\site-packages\\lightgbm\\sklearn.py:736: UserWarning: 'verbose' argument is deprecated and will be removed in a future release of LightGBM. Pass 'log_evaluation()' callback via 'callbacks' argument instead.\n",
      "  _log_warning(\"'verbose' argument is deprecated and will be removed in a future release of LightGBM. \"\n"
     ]
    },
    {
     "name": "stdout",
     "output_type": "stream",
     "text": [
      "[LightGBM] [Warning] at is set=, at= will be ignored. Current value: at=\n",
      "[LightGBM] [Warning] Unknown parameter: 0x000001F0C3709620>\n",
      "[LightGBM] [Warning] Unknown parameter: early_stopping.<locals>._callback\n",
      "[LightGBM] [Warning] num_threads is set with n_jobs=-1, nthread=4 will be ignored. Current value: num_threads=-1\n",
      "[LightGBM] [Warning] Unknown parameter: callbacks\n",
      "[LightGBM] [Warning] Unknown parameter: log_evaluation.<locals>._callback\n",
      "[LightGBM] [Warning] Unknown parameter: at\n",
      "[LightGBM] [Warning] Unknown parameter: 0x000001F0C264A0C0>,<function\n",
      "[200]\ttraining's auc: 0.796129\ttraining's binary_logloss: 0.235405\tvalid_1's auc: 0.776406\tvalid_1's binary_logloss: 0.244073\n",
      "[400]\ttraining's auc: 0.819367\ttraining's binary_logloss: 0.225688\tvalid_1's auc: 0.787153\tvalid_1's binary_logloss: 0.239587\n",
      "[600]\ttraining's auc: 0.834669\ttraining's binary_logloss: 0.21945\tvalid_1's auc: 0.790221\tvalid_1's binary_logloss: 0.238259\n",
      "[800]\ttraining's auc: 0.846851\ttraining's binary_logloss: 0.214426\tvalid_1's auc: 0.790854\tvalid_1's binary_logloss: 0.237926\n",
      "[1000]\ttraining's auc: 0.857431\ttraining's binary_logloss: 0.209955\tvalid_1's auc: 0.790987\tvalid_1's binary_logloss: 0.23781\n",
      "Fold  1AUC : 0.791202\n"
     ]
    },
    {
     "name": "stderr",
     "output_type": "stream",
     "text": [
      "c:\\Users\\franc\\AppData\\Local\\Programs\\Python\\Python311\\Lib\\site-packages\\lightgbm\\sklearn.py:726: UserWarning: 'early_stopping_rounds' argument is deprecated and will be removed in a future release of LightGBM. Pass 'early_stopping()' callback via 'callbacks' argument instead.\n",
      "  _log_warning(\"'early_stopping_rounds' argument is deprecated and will be removed in a future release of LightGBM. \"\n",
      "c:\\Users\\franc\\AppData\\Local\\Programs\\Python\\Python311\\Lib\\site-packages\\lightgbm\\sklearn.py:736: UserWarning: 'verbose' argument is deprecated and will be removed in a future release of LightGBM. Pass 'log_evaluation()' callback via 'callbacks' argument instead.\n",
      "  _log_warning(\"'verbose' argument is deprecated and will be removed in a future release of LightGBM. \"\n"
     ]
    },
    {
     "name": "stdout",
     "output_type": "stream",
     "text": [
      "[LightGBM] [Warning] at is set=, at= will be ignored. Current value: at=\n",
      "[LightGBM] [Warning] Unknown parameter: early_stopping.<locals>._callback\n",
      "[LightGBM] [Warning] Unknown parameter: 0x000001F0C4314720>\n",
      "[LightGBM] [Warning] num_threads is set with n_jobs=-1, nthread=4 will be ignored. Current value: num_threads=-1\n",
      "[LightGBM] [Warning] Unknown parameter: callbacks\n",
      "[LightGBM] [Warning] Unknown parameter: log_evaluation.<locals>._callback\n",
      "[LightGBM] [Warning] Unknown parameter: at\n",
      "[LightGBM] [Warning] Unknown parameter: 0x000001F0C252AD40>,<function\n",
      "[200]\ttraining's auc: 0.796982\ttraining's binary_logloss: 0.235832\tvalid_1's auc: 0.771713\tvalid_1's binary_logloss: 0.239503\n",
      "[400]\ttraining's auc: 0.819513\ttraining's binary_logloss: 0.226194\tvalid_1's auc: 0.782979\tvalid_1's binary_logloss: 0.235243\n",
      "[600]\ttraining's auc: 0.834717\ttraining's binary_logloss: 0.219979\tvalid_1's auc: 0.786855\tvalid_1's binary_logloss: 0.233773\n",
      "[800]\ttraining's auc: 0.846506\ttraining's binary_logloss: 0.215063\tvalid_1's auc: 0.788798\tvalid_1's binary_logloss: 0.23299\n",
      "[1000]\ttraining's auc: 0.857088\ttraining's binary_logloss: 0.210641\tvalid_1's auc: 0.789691\tvalid_1's binary_logloss: 0.232622\n",
      "[1200]\ttraining's auc: 0.866377\ttraining's binary_logloss: 0.206599\tvalid_1's auc: 0.790329\tvalid_1's binary_logloss: 0.232376\n",
      "[1400]\ttraining's auc: 0.87469\ttraining's binary_logloss: 0.202865\tvalid_1's auc: 0.790831\tvalid_1's binary_logloss: 0.232168\n",
      "[1600]\ttraining's auc: 0.882675\ttraining's binary_logloss: 0.199154\tvalid_1's auc: 0.791229\tvalid_1's binary_logloss: 0.232024\n",
      "[1800]\ttraining's auc: 0.889784\ttraining's binary_logloss: 0.195673\tvalid_1's auc: 0.791192\tvalid_1's binary_logloss: 0.232047\n",
      "Fold  2AUC : 0.791353\n"
     ]
    },
    {
     "name": "stderr",
     "output_type": "stream",
     "text": [
      "c:\\Users\\franc\\AppData\\Local\\Programs\\Python\\Python311\\Lib\\site-packages\\lightgbm\\sklearn.py:726: UserWarning: 'early_stopping_rounds' argument is deprecated and will be removed in a future release of LightGBM. Pass 'early_stopping()' callback via 'callbacks' argument instead.\n",
      "  _log_warning(\"'early_stopping_rounds' argument is deprecated and will be removed in a future release of LightGBM. \"\n",
      "c:\\Users\\franc\\AppData\\Local\\Programs\\Python\\Python311\\Lib\\site-packages\\lightgbm\\sklearn.py:736: UserWarning: 'verbose' argument is deprecated and will be removed in a future release of LightGBM. Pass 'log_evaluation()' callback via 'callbacks' argument instead.\n",
      "  _log_warning(\"'verbose' argument is deprecated and will be removed in a future release of LightGBM. \"\n"
     ]
    },
    {
     "name": "stdout",
     "output_type": "stream",
     "text": [
      "[LightGBM] [Warning] at is set=, at= will be ignored. Current value: at=\n",
      "[LightGBM] [Warning] Unknown parameter: early_stopping.<locals>._callback\n",
      "[LightGBM] [Warning] num_threads is set with n_jobs=-1, nthread=4 will be ignored. Current value: num_threads=-1\n",
      "[LightGBM] [Warning] Unknown parameter: callbacks\n",
      "[LightGBM] [Warning] Unknown parameter: log_evaluation.<locals>._callback\n",
      "[LightGBM] [Warning] Unknown parameter: at\n",
      "[LightGBM] [Warning] Unknown parameter: 0x000001F0C3709580>,<function\n",
      "[LightGBM] [Warning] Unknown parameter: 0x000001F0C3708F40>\n",
      "[200]\ttraining's auc: 0.796872\ttraining's binary_logloss: 0.235592\tvalid_1's auc: 0.773494\tvalid_1's binary_logloss: 0.241988\n",
      "[400]\ttraining's auc: 0.819731\ttraining's binary_logloss: 0.225886\tvalid_1's auc: 0.782809\tvalid_1's binary_logloss: 0.238029\n",
      "[600]\ttraining's auc: 0.835234\ttraining's binary_logloss: 0.219564\tvalid_1's auc: 0.786189\tvalid_1's binary_logloss: 0.236851\n",
      "[800]\ttraining's auc: 0.847328\ttraining's binary_logloss: 0.214601\tvalid_1's auc: 0.787304\tvalid_1's binary_logloss: 0.23651\n",
      "[1000]\ttraining's auc: 0.857806\ttraining's binary_logloss: 0.210183\tvalid_1's auc: 0.787638\tvalid_1's binary_logloss: 0.236353\n",
      "[1200]\ttraining's auc: 0.867206\ttraining's binary_logloss: 0.206031\tvalid_1's auc: 0.787876\tvalid_1's binary_logloss: 0.236255\n",
      "Fold  3AUC : 0.787974\n"
     ]
    },
    {
     "name": "stderr",
     "output_type": "stream",
     "text": [
      "c:\\Users\\franc\\AppData\\Local\\Programs\\Python\\Python311\\Lib\\site-packages\\lightgbm\\sklearn.py:726: UserWarning: 'early_stopping_rounds' argument is deprecated and will be removed in a future release of LightGBM. Pass 'early_stopping()' callback via 'callbacks' argument instead.\n",
      "  _log_warning(\"'early_stopping_rounds' argument is deprecated and will be removed in a future release of LightGBM. \"\n",
      "c:\\Users\\franc\\AppData\\Local\\Programs\\Python\\Python311\\Lib\\site-packages\\lightgbm\\sklearn.py:736: UserWarning: 'verbose' argument is deprecated and will be removed in a future release of LightGBM. Pass 'log_evaluation()' callback via 'callbacks' argument instead.\n",
      "  _log_warning(\"'verbose' argument is deprecated and will be removed in a future release of LightGBM. \"\n"
     ]
    },
    {
     "name": "stdout",
     "output_type": "stream",
     "text": [
      "[LightGBM] [Warning] at is set=, at= will be ignored. Current value: at=\n",
      "[LightGBM] [Warning] Unknown parameter: early_stopping.<locals>._callback\n",
      "[LightGBM] [Warning] num_threads is set with n_jobs=-1, nthread=4 will be ignored. Current value: num_threads=-1\n",
      "[LightGBM] [Warning] Unknown parameter: callbacks\n",
      "[LightGBM] [Warning] Unknown parameter: log_evaluation.<locals>._callback\n",
      "[LightGBM] [Warning] Unknown parameter: at\n",
      "[LightGBM] [Warning] Unknown parameter: 0x000001F0C3709620>,<function\n",
      "[LightGBM] [Warning] Unknown parameter: 0x000001F0C4314180>\n",
      "[200]\ttraining's auc: 0.796517\ttraining's binary_logloss: 0.235758\tvalid_1's auc: 0.778316\tvalid_1's binary_logloss: 0.240596\n",
      "[400]\ttraining's auc: 0.819335\ttraining's binary_logloss: 0.226075\tvalid_1's auc: 0.789318\tvalid_1's binary_logloss: 0.236225\n",
      "[600]\ttraining's auc: 0.834334\ttraining's binary_logloss: 0.219895\tvalid_1's auc: 0.794046\tvalid_1's binary_logloss: 0.234581\n",
      "[800]\ttraining's auc: 0.846701\ttraining's binary_logloss: 0.214833\tvalid_1's auc: 0.795875\tvalid_1's binary_logloss: 0.233912\n",
      "[1000]\ttraining's auc: 0.857143\ttraining's binary_logloss: 0.210452\tvalid_1's auc: 0.79671\tvalid_1's binary_logloss: 0.23359\n",
      "[1200]\ttraining's auc: 0.866817\ttraining's binary_logloss: 0.206236\tvalid_1's auc: 0.797256\tvalid_1's binary_logloss: 0.233404\n",
      "[1400]\ttraining's auc: 0.875263\ttraining's binary_logloss: 0.202422\tvalid_1's auc: 0.797511\tvalid_1's binary_logloss: 0.23331\n",
      "[1600]\ttraining's auc: 0.883205\ttraining's binary_logloss: 0.198708\tvalid_1's auc: 0.797869\tvalid_1's binary_logloss: 0.233205\n",
      "[1800]\ttraining's auc: 0.890441\ttraining's binary_logloss: 0.195169\tvalid_1's auc: 0.798097\tvalid_1's binary_logloss: 0.233135\n",
      "[2000]\ttraining's auc: 0.897288\ttraining's binary_logloss: 0.191679\tvalid_1's auc: 0.798185\tvalid_1's binary_logloss: 0.23307\n",
      "[2200]\ttraining's auc: 0.903731\ttraining's binary_logloss: 0.188328\tvalid_1's auc: 0.798374\tvalid_1's binary_logloss: 0.233005\n",
      "Fold  4AUC : 0.798378\n"
     ]
    },
    {
     "name": "stderr",
     "output_type": "stream",
     "text": [
      "c:\\Users\\franc\\AppData\\Local\\Programs\\Python\\Python311\\Lib\\site-packages\\lightgbm\\sklearn.py:726: UserWarning: 'early_stopping_rounds' argument is deprecated and will be removed in a future release of LightGBM. Pass 'early_stopping()' callback via 'callbacks' argument instead.\n",
      "  _log_warning(\"'early_stopping_rounds' argument is deprecated and will be removed in a future release of LightGBM. \"\n",
      "c:\\Users\\franc\\AppData\\Local\\Programs\\Python\\Python311\\Lib\\site-packages\\lightgbm\\sklearn.py:736: UserWarning: 'verbose' argument is deprecated and will be removed in a future release of LightGBM. Pass 'log_evaluation()' callback via 'callbacks' argument instead.\n",
      "  _log_warning(\"'verbose' argument is deprecated and will be removed in a future release of LightGBM. \"\n"
     ]
    },
    {
     "name": "stdout",
     "output_type": "stream",
     "text": [
      "[LightGBM] [Warning] at is set=, at= will be ignored. Current value: at=\n",
      "[LightGBM] [Warning] Unknown parameter: early_stopping.<locals>._callback\n",
      "[LightGBM] [Warning] num_threads is set with n_jobs=-1, nthread=4 will be ignored. Current value: num_threads=-1\n",
      "[LightGBM] [Warning] Unknown parameter: callbacks\n",
      "[LightGBM] [Warning] Unknown parameter: log_evaluation.<locals>._callback\n",
      "[LightGBM] [Warning] Unknown parameter: at\n",
      "[LightGBM] [Warning] Unknown parameter: 0x000001F0C3709DA0>,<function\n",
      "[LightGBM] [Warning] Unknown parameter: 0x000001F0C252AD40>\n",
      "[200]\ttraining's auc: 0.796854\ttraining's binary_logloss: 0.235138\tvalid_1's auc: 0.777641\tvalid_1's binary_logloss: 0.245884\n",
      "[400]\ttraining's auc: 0.819683\ttraining's binary_logloss: 0.22545\tvalid_1's auc: 0.787108\tvalid_1's binary_logloss: 0.241673\n",
      "[600]\ttraining's auc: 0.834723\ttraining's binary_logloss: 0.219305\tvalid_1's auc: 0.790719\tvalid_1's binary_logloss: 0.240242\n",
      "[800]\ttraining's auc: 0.846646\ttraining's binary_logloss: 0.214376\tvalid_1's auc: 0.792381\tvalid_1's binary_logloss: 0.239642\n",
      "[1000]\ttraining's auc: 0.856803\ttraining's binary_logloss: 0.210048\tvalid_1's auc: 0.793177\tvalid_1's binary_logloss: 0.239363\n",
      "[1200]\ttraining's auc: 0.866384\ttraining's binary_logloss: 0.205906\tvalid_1's auc: 0.793968\tvalid_1's binary_logloss: 0.239113\n",
      "[1400]\ttraining's auc: 0.874895\ttraining's binary_logloss: 0.202052\tvalid_1's auc: 0.794514\tvalid_1's binary_logloss: 0.238958\n",
      "[1600]\ttraining's auc: 0.882992\ttraining's binary_logloss: 0.198289\tvalid_1's auc: 0.794744\tvalid_1's binary_logloss: 0.2389\n",
      "[1800]\ttraining's auc: 0.890568\ttraining's binary_logloss: 0.194603\tvalid_1's auc: 0.795017\tvalid_1's binary_logloss: 0.238848\n",
      "[2000]\ttraining's auc: 0.89738\ttraining's binary_logloss: 0.191263\tvalid_1's auc: 0.794884\tvalid_1's binary_logloss: 0.238909\n",
      "Fold  5AUC : 0.795046\n"
     ]
    },
    {
     "name": "stderr",
     "output_type": "stream",
     "text": [
      "c:\\Users\\franc\\AppData\\Local\\Programs\\Python\\Python311\\Lib\\site-packages\\lightgbm\\sklearn.py:726: UserWarning: 'early_stopping_rounds' argument is deprecated and will be removed in a future release of LightGBM. Pass 'early_stopping()' callback via 'callbacks' argument instead.\n",
      "  _log_warning(\"'early_stopping_rounds' argument is deprecated and will be removed in a future release of LightGBM. \"\n",
      "c:\\Users\\franc\\AppData\\Local\\Programs\\Python\\Python311\\Lib\\site-packages\\lightgbm\\sklearn.py:736: UserWarning: 'verbose' argument is deprecated and will be removed in a future release of LightGBM. Pass 'log_evaluation()' callback via 'callbacks' argument instead.\n",
      "  _log_warning(\"'verbose' argument is deprecated and will be removed in a future release of LightGBM. \"\n"
     ]
    },
    {
     "name": "stdout",
     "output_type": "stream",
     "text": [
      "[LightGBM] [Warning] at is set=, at= will be ignored. Current value: at=\n",
      "[LightGBM] [Warning] Unknown parameter: early_stopping.<locals>._callback\n",
      "[LightGBM] [Warning] num_threads is set with n_jobs=-1, nthread=4 will be ignored. Current value: num_threads=-1\n",
      "[LightGBM] [Warning] Unknown parameter: callbacks\n",
      "[LightGBM] [Warning] Unknown parameter: log_evaluation.<locals>._callback\n",
      "[LightGBM] [Warning] Unknown parameter: at\n",
      "[LightGBM] [Warning] Unknown parameter: 0x000001F0C3708F40>,<function\n",
      "[LightGBM] [Warning] Unknown parameter: 0x000001F0C4316F20>\n",
      "[200]\ttraining's auc: 0.797674\ttraining's binary_logloss: 0.234889\tvalid_1's auc: 0.771176\tvalid_1's binary_logloss: 0.246954\n",
      "[400]\ttraining's auc: 0.820257\ttraining's binary_logloss: 0.225192\tvalid_1's auc: 0.7808\tvalid_1's binary_logloss: 0.243275\n",
      "[600]\ttraining's auc: 0.835372\ttraining's binary_logloss: 0.218949\tvalid_1's auc: 0.784102\tvalid_1's binary_logloss: 0.242142\n",
      "[800]\ttraining's auc: 0.847436\ttraining's binary_logloss: 0.213959\tvalid_1's auc: 0.785199\tvalid_1's binary_logloss: 0.241762\n",
      "[1000]\ttraining's auc: 0.857558\ttraining's binary_logloss: 0.209607\tvalid_1's auc: 0.785809\tvalid_1's binary_logloss: 0.241565\n",
      "[1200]\ttraining's auc: 0.866773\ttraining's binary_logloss: 0.205584\tvalid_1's auc: 0.786213\tvalid_1's binary_logloss: 0.241378\n",
      "[1400]\ttraining's auc: 0.875369\ttraining's binary_logloss: 0.201714\tvalid_1's auc: 0.786594\tvalid_1's binary_logloss: 0.241279\n",
      "[1600]\ttraining's auc: 0.883347\ttraining's binary_logloss: 0.197969\tvalid_1's auc: 0.786964\tvalid_1's binary_logloss: 0.241181\n",
      "[1800]\ttraining's auc: 0.890637\ttraining's binary_logloss: 0.194472\tvalid_1's auc: 0.787033\tvalid_1's binary_logloss: 0.241149\n",
      "Fold  6AUC : 0.787134\n"
     ]
    },
    {
     "name": "stderr",
     "output_type": "stream",
     "text": [
      "c:\\Users\\franc\\AppData\\Local\\Programs\\Python\\Python311\\Lib\\site-packages\\lightgbm\\sklearn.py:726: UserWarning: 'early_stopping_rounds' argument is deprecated and will be removed in a future release of LightGBM. Pass 'early_stopping()' callback via 'callbacks' argument instead.\n",
      "  _log_warning(\"'early_stopping_rounds' argument is deprecated and will be removed in a future release of LightGBM. \"\n",
      "c:\\Users\\franc\\AppData\\Local\\Programs\\Python\\Python311\\Lib\\site-packages\\lightgbm\\sklearn.py:736: UserWarning: 'verbose' argument is deprecated and will be removed in a future release of LightGBM. Pass 'log_evaluation()' callback via 'callbacks' argument instead.\n",
      "  _log_warning(\"'verbose' argument is deprecated and will be removed in a future release of LightGBM. \"\n"
     ]
    },
    {
     "name": "stdout",
     "output_type": "stream",
     "text": [
      "[LightGBM] [Warning] at is set=, at= will be ignored. Current value: at=\n",
      "[LightGBM] [Warning] Unknown parameter: early_stopping.<locals>._callback\n",
      "[LightGBM] [Warning] num_threads is set with n_jobs=-1, nthread=4 will be ignored. Current value: num_threads=-1\n",
      "[LightGBM] [Warning] Unknown parameter: callbacks\n",
      "[LightGBM] [Warning] Unknown parameter: log_evaluation.<locals>._callback\n",
      "[LightGBM] [Warning] Unknown parameter: at\n",
      "[LightGBM] [Warning] Unknown parameter: 0x000001F0C3709620>,<function\n",
      "[LightGBM] [Warning] Unknown parameter: 0x000001F0C264A0C0>\n",
      "[200]\ttraining's auc: 0.797388\ttraining's binary_logloss: 0.235814\tvalid_1's auc: 0.771471\tvalid_1's binary_logloss: 0.239275\n",
      "[400]\ttraining's auc: 0.819896\ttraining's binary_logloss: 0.226182\tvalid_1's auc: 0.7815\tvalid_1's binary_logloss: 0.235332\n",
      "[600]\ttraining's auc: 0.834412\ttraining's binary_logloss: 0.220177\tvalid_1's auc: 0.784986\tvalid_1's binary_logloss: 0.234076\n",
      "[800]\ttraining's auc: 0.846488\ttraining's binary_logloss: 0.215162\tvalid_1's auc: 0.786989\tvalid_1's binary_logloss: 0.233423\n",
      "[1000]\ttraining's auc: 0.856975\ttraining's binary_logloss: 0.210705\tvalid_1's auc: 0.788064\tvalid_1's binary_logloss: 0.233109\n",
      "[1200]\ttraining's auc: 0.866071\ttraining's binary_logloss: 0.206712\tvalid_1's auc: 0.788755\tvalid_1's binary_logloss: 0.232891\n",
      "[1400]\ttraining's auc: 0.875238\ttraining's binary_logloss: 0.202628\tvalid_1's auc: 0.788887\tvalid_1's binary_logloss: 0.2328\n",
      "[1600]\ttraining's auc: 0.883077\ttraining's binary_logloss: 0.198931\tvalid_1's auc: 0.788988\tvalid_1's binary_logloss: 0.23269\n",
      "Fold  7AUC : 0.789125\n"
     ]
    },
    {
     "name": "stderr",
     "output_type": "stream",
     "text": [
      "c:\\Users\\franc\\AppData\\Local\\Programs\\Python\\Python311\\Lib\\site-packages\\lightgbm\\sklearn.py:726: UserWarning: 'early_stopping_rounds' argument is deprecated and will be removed in a future release of LightGBM. Pass 'early_stopping()' callback via 'callbacks' argument instead.\n",
      "  _log_warning(\"'early_stopping_rounds' argument is deprecated and will be removed in a future release of LightGBM. \"\n",
      "c:\\Users\\franc\\AppData\\Local\\Programs\\Python\\Python311\\Lib\\site-packages\\lightgbm\\sklearn.py:736: UserWarning: 'verbose' argument is deprecated and will be removed in a future release of LightGBM. Pass 'log_evaluation()' callback via 'callbacks' argument instead.\n",
      "  _log_warning(\"'verbose' argument is deprecated and will be removed in a future release of LightGBM. \"\n"
     ]
    },
    {
     "name": "stdout",
     "output_type": "stream",
     "text": [
      "[LightGBM] [Warning] at is set=, at= will be ignored. Current value: at=\n",
      "[LightGBM] [Warning] Unknown parameter: early_stopping.<locals>._callback\n",
      "[LightGBM] [Warning] num_threads is set with n_jobs=-1, nthread=4 will be ignored. Current value: num_threads=-1\n",
      "[LightGBM] [Warning] Unknown parameter: callbacks\n",
      "[LightGBM] [Warning] Unknown parameter: log_evaluation.<locals>._callback\n",
      "[LightGBM] [Warning] Unknown parameter: at\n",
      "[LightGBM] [Warning] Unknown parameter: 0x000001F0C3709DA0>,<function\n",
      "[LightGBM] [Warning] Unknown parameter: 0x000001F0C4314A40>\n",
      "[200]\ttraining's auc: 0.797024\ttraining's binary_logloss: 0.23557\tvalid_1's auc: 0.773027\tvalid_1's binary_logloss: 0.242238\n",
      "[400]\ttraining's auc: 0.819732\ttraining's binary_logloss: 0.225939\tvalid_1's auc: 0.783602\tvalid_1's binary_logloss: 0.2379\n",
      "[600]\ttraining's auc: 0.83462\ttraining's binary_logloss: 0.219808\tvalid_1's auc: 0.787808\tvalid_1's binary_logloss: 0.236302\n",
      "[800]\ttraining's auc: 0.846449\ttraining's binary_logloss: 0.214896\tvalid_1's auc: 0.789358\tvalid_1's binary_logloss: 0.235639\n",
      "[1000]\ttraining's auc: 0.856827\ttraining's binary_logloss: 0.210485\tvalid_1's auc: 0.790015\tvalid_1's binary_logloss: 0.235355\n",
      "[1200]\ttraining's auc: 0.866044\ttraining's binary_logloss: 0.206411\tvalid_1's auc: 0.790379\tvalid_1's binary_logloss: 0.235192\n",
      "[1400]\ttraining's auc: 0.874435\ttraining's binary_logloss: 0.202608\tvalid_1's auc: 0.790842\tvalid_1's binary_logloss: 0.235084\n",
      "[1600]\ttraining's auc: 0.882184\ttraining's binary_logloss: 0.199023\tvalid_1's auc: 0.79094\tvalid_1's binary_logloss: 0.235029\n",
      "Fold  8AUC : 0.791082\n"
     ]
    },
    {
     "name": "stderr",
     "output_type": "stream",
     "text": [
      "c:\\Users\\franc\\AppData\\Local\\Programs\\Python\\Python311\\Lib\\site-packages\\lightgbm\\sklearn.py:726: UserWarning: 'early_stopping_rounds' argument is deprecated and will be removed in a future release of LightGBM. Pass 'early_stopping()' callback via 'callbacks' argument instead.\n",
      "  _log_warning(\"'early_stopping_rounds' argument is deprecated and will be removed in a future release of LightGBM. \"\n",
      "c:\\Users\\franc\\AppData\\Local\\Programs\\Python\\Python311\\Lib\\site-packages\\lightgbm\\sklearn.py:736: UserWarning: 'verbose' argument is deprecated and will be removed in a future release of LightGBM. Pass 'log_evaluation()' callback via 'callbacks' argument instead.\n",
      "  _log_warning(\"'verbose' argument is deprecated and will be removed in a future release of LightGBM. \"\n"
     ]
    },
    {
     "name": "stdout",
     "output_type": "stream",
     "text": [
      "[LightGBM] [Warning] at is set=, at= will be ignored. Current value: at=\n",
      "[LightGBM] [Warning] Unknown parameter: 0x000001F0C3709620>\n",
      "[LightGBM] [Warning] Unknown parameter: early_stopping.<locals>._callback\n",
      "[LightGBM] [Warning] num_threads is set with n_jobs=-1, nthread=4 will be ignored. Current value: num_threads=-1\n",
      "[LightGBM] [Warning] Unknown parameter: callbacks\n",
      "[LightGBM] [Warning] Unknown parameter: log_evaluation.<locals>._callback\n",
      "[LightGBM] [Warning] Unknown parameter: at\n",
      "[LightGBM] [Warning] Unknown parameter: 0x000001F0C252AD40>,<function\n",
      "[200]\ttraining's auc: 0.79684\ttraining's binary_logloss: 0.235216\tvalid_1's auc: 0.775433\tvalid_1's binary_logloss: 0.245385\n",
      "[400]\ttraining's auc: 0.819465\ttraining's binary_logloss: 0.225635\tvalid_1's auc: 0.785872\tvalid_1's binary_logloss: 0.241102\n",
      "[600]\ttraining's auc: 0.83428\ttraining's binary_logloss: 0.219459\tvalid_1's auc: 0.790024\tvalid_1's binary_logloss: 0.239685\n",
      "[800]\ttraining's auc: 0.846372\ttraining's binary_logloss: 0.214496\tvalid_1's auc: 0.791795\tvalid_1's binary_logloss: 0.239022\n",
      "[1000]\ttraining's auc: 0.856687\ttraining's binary_logloss: 0.210121\tvalid_1's auc: 0.792456\tvalid_1's binary_logloss: 0.238785\n",
      "[1200]\ttraining's auc: 0.866074\ttraining's binary_logloss: 0.206004\tvalid_1's auc: 0.792755\tvalid_1's binary_logloss: 0.238628\n",
      "[1400]\ttraining's auc: 0.874823\ttraining's binary_logloss: 0.202125\tvalid_1's auc: 0.792789\tvalid_1's binary_logloss: 0.238582\n",
      "Fold  9AUC : 0.793078\n"
     ]
    },
    {
     "name": "stderr",
     "output_type": "stream",
     "text": [
      "c:\\Users\\franc\\AppData\\Local\\Programs\\Python\\Python311\\Lib\\site-packages\\lightgbm\\sklearn.py:726: UserWarning: 'early_stopping_rounds' argument is deprecated and will be removed in a future release of LightGBM. Pass 'early_stopping()' callback via 'callbacks' argument instead.\n",
      "  _log_warning(\"'early_stopping_rounds' argument is deprecated and will be removed in a future release of LightGBM. \"\n",
      "c:\\Users\\franc\\AppData\\Local\\Programs\\Python\\Python311\\Lib\\site-packages\\lightgbm\\sklearn.py:736: UserWarning: 'verbose' argument is deprecated and will be removed in a future release of LightGBM. Pass 'log_evaluation()' callback via 'callbacks' argument instead.\n",
      "  _log_warning(\"'verbose' argument is deprecated and will be removed in a future release of LightGBM. \"\n"
     ]
    },
    {
     "name": "stdout",
     "output_type": "stream",
     "text": [
      "[LightGBM] [Warning] at is set=, at= will be ignored. Current value: at=\n",
      "[LightGBM] [Warning] Unknown parameter: early_stopping.<locals>._callback\n",
      "[LightGBM] [Warning] Unknown parameter: 0x000001F0C4314720>\n",
      "[LightGBM] [Warning] num_threads is set with n_jobs=-1, nthread=4 will be ignored. Current value: num_threads=-1\n",
      "[LightGBM] [Warning] Unknown parameter: callbacks\n",
      "[LightGBM] [Warning] Unknown parameter: log_evaluation.<locals>._callback\n",
      "[LightGBM] [Warning] Unknown parameter: at\n",
      "[LightGBM] [Warning] Unknown parameter: 0x000001F0C3708F40>,<function\n",
      "[200]\ttraining's auc: 0.796642\ttraining's binary_logloss: 0.236064\tvalid_1's auc: 0.774787\tvalid_1's binary_logloss: 0.238156\n",
      "[400]\ttraining's auc: 0.819497\ttraining's binary_logloss: 0.2264\tvalid_1's auc: 0.784789\tvalid_1's binary_logloss: 0.234051\n",
      "[600]\ttraining's auc: 0.834813\ttraining's binary_logloss: 0.220114\tvalid_1's auc: 0.78812\tvalid_1's binary_logloss: 0.232658\n",
      "[800]\ttraining's auc: 0.847119\ttraining's binary_logloss: 0.215081\tvalid_1's auc: 0.789574\tvalid_1's binary_logloss: 0.232125\n",
      "[1000]\ttraining's auc: 0.857615\ttraining's binary_logloss: 0.210632\tvalid_1's auc: 0.790117\tvalid_1's binary_logloss: 0.231924\n",
      "[1200]\ttraining's auc: 0.866916\ttraining's binary_logloss: 0.206513\tvalid_1's auc: 0.790417\tvalid_1's binary_logloss: 0.231808\n",
      "[1400]\ttraining's auc: 0.87556\ttraining's binary_logloss: 0.202574\tvalid_1's auc: 0.790696\tvalid_1's binary_logloss: 0.231718\n",
      "[1600]\ttraining's auc: 0.883663\ttraining's binary_logloss: 0.198768\tvalid_1's auc: 0.791212\tvalid_1's binary_logloss: 0.231595\n",
      "[1800]\ttraining's auc: 0.890905\ttraining's binary_logloss: 0.195226\tvalid_1's auc: 0.791207\tvalid_1's binary_logloss: 0.231613\n",
      "Fold 10AUC : 0.791380\n",
      "\u001b[1melapsed time\u001b[0m: 5486s\n",
      "Unexpected exception formatting exception. Falling back to standard exception\n"
     ]
    },
    {
     "name": "stderr",
     "output_type": "stream",
     "text": [
      "Traceback (most recent call last):\n",
      "  File \"C:\\Users\\franc\\AppData\\Roaming\\Python\\Python311\\site-packages\\IPython\\core\\interactiveshell.py\", line 3505, in run_code\n",
      "    exec(code_obj, self.user_global_ns, self.user_ns)\n",
      "  File \"C:\\Users\\franc\\AppData\\Local\\Temp\\ipykernel_6872\\3426908498.py\", line 1, in <module>\n",
      "    main_v2(version=1, verbosity=2)\n",
      "  File \"C:\\Users\\franc\\Projects\\pepper_credit_scoring_tool\\modules\\home_credit\\lightgbm_kernel_v2.py\", line 1613, in main\n",
      "  File \"C:\\Users\\franc\\Projects\\pepper_credit_scoring_tool\\modules\\home_credit\\lightgbm_kernel_v2.py\", line 1484, in kfold_lightgbm\n",
      "    \"Do not support special JSON characters in feature name\"\n",
      "                            ^^^^^^^^^^^^^^^^^^^^^^^^^^^^^^^^^\n",
      "  File \"c:\\Users\\franc\\AppData\\Local\\Programs\\Python\\Python311\\Lib\\site-packages\\sklearn\\metrics\\_ranking.py\", line 572, in roc_auc_score\n",
      "    return _average_binary_score(\n",
      "           ^^^^^^^^^^^^^^^^^^^^^^\n",
      "  File \"c:\\Users\\franc\\AppData\\Local\\Programs\\Python\\Python311\\Lib\\site-packages\\sklearn\\metrics\\_base.py\", line 75, in _average_binary_score\n",
      "    return binary_metric(y_true, y_score, sample_weight=sample_weight)\n",
      "           ^^^^^^^^^^^^^^^^^^^^^^^^^^^^^^^^^^^^^^^^^^^^^^^^^^^^^^^^^^^\n",
      "  File \"c:\\Users\\franc\\AppData\\Local\\Programs\\Python\\Python311\\Lib\\site-packages\\sklearn\\metrics\\_ranking.py\", line 339, in _binary_roc_auc_score\n",
      "    raise ValueError(\n",
      "ValueError: Only one class present in y_true. ROC AUC score is not defined in that case.\n",
      "\n",
      "During handling of the above exception, another exception occurred:\n",
      "\n",
      "Traceback (most recent call last):\n",
      "  File \"C:\\Users\\franc\\AppData\\Roaming\\Python\\Python311\\site-packages\\IPython\\core\\interactiveshell.py\", line 2102, in showtraceback\n",
      "    stb = self.InteractiveTB.structured_traceback(\n",
      "          ^^^^^^^^^^^^^^^^^^^^^^^^^^^^^^^^^^^^^^^^\n",
      "  File \"C:\\Users\\franc\\AppData\\Roaming\\Python\\Python311\\site-packages\\IPython\\core\\ultratb.py\", line 1310, in structured_traceback\n",
      "    return FormattedTB.structured_traceback(\n",
      "           ^^^^^^^^^^^^^^^^^^^^^^^^^^^^^^^^^\n",
      "  File \"C:\\Users\\franc\\AppData\\Roaming\\Python\\Python311\\site-packages\\IPython\\core\\ultratb.py\", line 1199, in structured_traceback\n",
      "    return VerboseTB.structured_traceback(\n",
      "           ^^^^^^^^^^^^^^^^^^^^^^^^^^^^^^^\n",
      "  File \"C:\\Users\\franc\\AppData\\Roaming\\Python\\Python311\\site-packages\\IPython\\core\\ultratb.py\", line 1052, in structured_traceback\n",
      "    formatted_exception = self.format_exception_as_a_whole(etype, evalue, etb, number_of_lines_of_context,\n",
      "                          ^^^^^^^^^^^^^^^^^^^^^^^^^^^^^^^^^^^^^^^^^^^^^^^^^^^^^^^^^^^^^^^^^^^^^^^^^^^^^^^^\n",
      "  File \"C:\\Users\\franc\\AppData\\Roaming\\Python\\Python311\\site-packages\\IPython\\core\\ultratb.py\", line 978, in format_exception_as_a_whole\n",
      "    frames.append(self.format_record(record))\n",
      "                  ^^^^^^^^^^^^^^^^^^^^^^^^^^\n",
      "  File \"C:\\Users\\franc\\AppData\\Roaming\\Python\\Python311\\site-packages\\IPython\\core\\ultratb.py\", line 878, in format_record\n",
      "    frame_info.lines, Colors, self.has_colors, lvals\n",
      "    ^^^^^^^^^^^^^^^^\n",
      "  File \"C:\\Users\\franc\\AppData\\Roaming\\Python\\Python311\\site-packages\\IPython\\core\\ultratb.py\", line 712, in lines\n",
      "    return self._sd.lines\n",
      "           ^^^^^^^^^^^^^^\n",
      "  File \"C:\\Users\\franc\\AppData\\Roaming\\Python\\Python311\\site-packages\\stack_data\\utils.py\", line 144, in cached_property_wrapper\n",
      "    value = obj.__dict__[self.func.__name__] = self.func(obj)\n",
      "                                               ^^^^^^^^^^^^^^\n",
      "  File \"C:\\Users\\franc\\AppData\\Roaming\\Python\\Python311\\site-packages\\stack_data\\core.py\", line 734, in lines\n",
      "    pieces = self.included_pieces\n",
      "             ^^^^^^^^^^^^^^^^^^^^\n",
      "  File \"C:\\Users\\franc\\AppData\\Roaming\\Python\\Python311\\site-packages\\stack_data\\utils.py\", line 144, in cached_property_wrapper\n",
      "    value = obj.__dict__[self.func.__name__] = self.func(obj)\n",
      "                                               ^^^^^^^^^^^^^^\n",
      "  File \"C:\\Users\\franc\\AppData\\Roaming\\Python\\Python311\\site-packages\\stack_data\\core.py\", line 681, in included_pieces\n",
      "    pos = scope_pieces.index(self.executing_piece)\n",
      "                             ^^^^^^^^^^^^^^^^^^^^\n",
      "  File \"C:\\Users\\franc\\AppData\\Roaming\\Python\\Python311\\site-packages\\stack_data\\utils.py\", line 144, in cached_property_wrapper\n",
      "    value = obj.__dict__[self.func.__name__] = self.func(obj)\n",
      "                                               ^^^^^^^^^^^^^^\n",
      "  File \"C:\\Users\\franc\\AppData\\Roaming\\Python\\Python311\\site-packages\\stack_data\\core.py\", line 660, in executing_piece\n",
      "    return only(\n",
      "           ^^^^^\n",
      "  File \"C:\\Users\\franc\\AppData\\Roaming\\Python\\Python311\\site-packages\\executing\\executing.py\", line 190, in only\n",
      "    raise NotOneValueFound('Expected one value, found 0')\n",
      "executing.executing.NotOneValueFound: Expected one value, found 0\n"
     ]
    }
   ],
   "source": [
    "main_v2(version=1, verbosity=2)"
   ]
  },
  {
   "attachments": {},
   "cell_type": "markdown",
   "metadata": {},
   "source": [
    "# Annexes\n",
    "\n",
    "Le but est de comprendre et d'améliorer techniquement la version de référence.\n",
    "\n",
    "Nous progressons donc par petites étapes, à partir du chargement de la table."
   ]
  },
  {
   "attachments": {},
   "cell_type": "markdown",
   "metadata": {},
   "source": [
    "## Comparaison des versions\n",
    "\n",
    "Démonstration (qui a également servi aux tests et à la mise au point) des opérations pour comparer les versions d'origine et modifiée."
   ]
  },
  {
   "attachments": {},
   "cell_type": "markdown",
   "metadata": {},
   "source": [
    "### Alignement\n",
    "\n",
    "Les dataframes à comparer peuvent être égaux à une permutation près des lignes ou des colonnes.\n",
    "\n",
    "L'utilitaire suivante permet de réaligner nos dataframes souvents triés et réindexés avec les versions brutes telles qu'elles sont chargées par le kernel d'origine."
   ]
  },
  {
   "cell_type": "code",
   "execution_count": null,
   "metadata": {},
   "outputs": [
    {
     "name": "stdout",
     "output_type": "stream",
     "text": [
      "load C:\\Users\\franc\\Projects\\pepper_credit_scoring_tool\\dataset\\pqt\\application_train.pqt\n",
      "load C:\\Users\\franc\\Projects\\pepper_credit_scoring_tool\\dataset\\pqt\\application_test.pqt\n"
     ]
    },
    {
     "data": {
      "text/html": [
       "<div>\n",
       "<style scoped>\n",
       "    .dataframe tbody tr th:only-of-type {\n",
       "        vertical-align: middle;\n",
       "    }\n",
       "\n",
       "    .dataframe tbody tr th {\n",
       "        vertical-align: top;\n",
       "    }\n",
       "\n",
       "    .dataframe thead th {\n",
       "        text-align: right;\n",
       "    }\n",
       "</style>\n",
       "<table border=\"1\" class=\"dataframe\">\n",
       "  <thead>\n",
       "    <tr style=\"text-align: right;\">\n",
       "      <th></th>\n",
       "      <th>SK_ID_CURR</th>\n",
       "      <th>TARGET</th>\n",
       "      <th>NAME_CONTRACT_TYPE</th>\n",
       "      <th>CODE_GENDER</th>\n",
       "      <th>FLAG_OWN_CAR</th>\n",
       "      <th>FLAG_OWN_REALTY</th>\n",
       "      <th>CNT_CHILDREN</th>\n",
       "      <th>AMT_INCOME_TOTAL</th>\n",
       "      <th>AMT_CREDIT</th>\n",
       "      <th>AMT_ANNUITY</th>\n",
       "      <th>...</th>\n",
       "      <th>FLAG_DOCUMENT_18</th>\n",
       "      <th>FLAG_DOCUMENT_19</th>\n",
       "      <th>FLAG_DOCUMENT_20</th>\n",
       "      <th>FLAG_DOCUMENT_21</th>\n",
       "      <th>AMT_REQ_CREDIT_BUREAU_HOUR</th>\n",
       "      <th>AMT_REQ_CREDIT_BUREAU_DAY</th>\n",
       "      <th>AMT_REQ_CREDIT_BUREAU_WEEK</th>\n",
       "      <th>AMT_REQ_CREDIT_BUREAU_MON</th>\n",
       "      <th>AMT_REQ_CREDIT_BUREAU_QRT</th>\n",
       "      <th>AMT_REQ_CREDIT_BUREAU_YEAR</th>\n",
       "    </tr>\n",
       "  </thead>\n",
       "  <tbody>\n",
       "    <tr>\n",
       "      <th>0</th>\n",
       "      <td>100002</td>\n",
       "      <td>1.0</td>\n",
       "      <td>Cash loans</td>\n",
       "      <td>M</td>\n",
       "      <td>N</td>\n",
       "      <td>Y</td>\n",
       "      <td>0</td>\n",
       "      <td>202500.0</td>\n",
       "      <td>406597.5</td>\n",
       "      <td>24700.5</td>\n",
       "      <td>...</td>\n",
       "      <td>0</td>\n",
       "      <td>0</td>\n",
       "      <td>0</td>\n",
       "      <td>0</td>\n",
       "      <td>0.0</td>\n",
       "      <td>0.0</td>\n",
       "      <td>0.0</td>\n",
       "      <td>0.0</td>\n",
       "      <td>0.0</td>\n",
       "      <td>1.0</td>\n",
       "    </tr>\n",
       "    <tr>\n",
       "      <th>1</th>\n",
       "      <td>100003</td>\n",
       "      <td>0.0</td>\n",
       "      <td>Cash loans</td>\n",
       "      <td>F</td>\n",
       "      <td>N</td>\n",
       "      <td>N</td>\n",
       "      <td>0</td>\n",
       "      <td>270000.0</td>\n",
       "      <td>1293502.5</td>\n",
       "      <td>35698.5</td>\n",
       "      <td>...</td>\n",
       "      <td>0</td>\n",
       "      <td>0</td>\n",
       "      <td>0</td>\n",
       "      <td>0</td>\n",
       "      <td>0.0</td>\n",
       "      <td>0.0</td>\n",
       "      <td>0.0</td>\n",
       "      <td>0.0</td>\n",
       "      <td>0.0</td>\n",
       "      <td>0.0</td>\n",
       "    </tr>\n",
       "    <tr>\n",
       "      <th>2</th>\n",
       "      <td>100004</td>\n",
       "      <td>0.0</td>\n",
       "      <td>Revolving loans</td>\n",
       "      <td>M</td>\n",
       "      <td>Y</td>\n",
       "      <td>Y</td>\n",
       "      <td>0</td>\n",
       "      <td>67500.0</td>\n",
       "      <td>135000.0</td>\n",
       "      <td>6750.0</td>\n",
       "      <td>...</td>\n",
       "      <td>0</td>\n",
       "      <td>0</td>\n",
       "      <td>0</td>\n",
       "      <td>0</td>\n",
       "      <td>0.0</td>\n",
       "      <td>0.0</td>\n",
       "      <td>0.0</td>\n",
       "      <td>0.0</td>\n",
       "      <td>0.0</td>\n",
       "      <td>0.0</td>\n",
       "    </tr>\n",
       "    <tr>\n",
       "      <th>3</th>\n",
       "      <td>100006</td>\n",
       "      <td>0.0</td>\n",
       "      <td>Cash loans</td>\n",
       "      <td>F</td>\n",
       "      <td>N</td>\n",
       "      <td>Y</td>\n",
       "      <td>0</td>\n",
       "      <td>135000.0</td>\n",
       "      <td>312682.5</td>\n",
       "      <td>29686.5</td>\n",
       "      <td>...</td>\n",
       "      <td>0</td>\n",
       "      <td>0</td>\n",
       "      <td>0</td>\n",
       "      <td>0</td>\n",
       "      <td>NaN</td>\n",
       "      <td>NaN</td>\n",
       "      <td>NaN</td>\n",
       "      <td>NaN</td>\n",
       "      <td>NaN</td>\n",
       "      <td>NaN</td>\n",
       "    </tr>\n",
       "    <tr>\n",
       "      <th>4</th>\n",
       "      <td>100007</td>\n",
       "      <td>0.0</td>\n",
       "      <td>Cash loans</td>\n",
       "      <td>M</td>\n",
       "      <td>N</td>\n",
       "      <td>Y</td>\n",
       "      <td>0</td>\n",
       "      <td>121500.0</td>\n",
       "      <td>513000.0</td>\n",
       "      <td>21865.5</td>\n",
       "      <td>...</td>\n",
       "      <td>0</td>\n",
       "      <td>0</td>\n",
       "      <td>0</td>\n",
       "      <td>0</td>\n",
       "      <td>0.0</td>\n",
       "      <td>0.0</td>\n",
       "      <td>0.0</td>\n",
       "      <td>0.0</td>\n",
       "      <td>0.0</td>\n",
       "      <td>0.0</td>\n",
       "    </tr>\n",
       "    <tr>\n",
       "      <th>...</th>\n",
       "      <td>...</td>\n",
       "      <td>...</td>\n",
       "      <td>...</td>\n",
       "      <td>...</td>\n",
       "      <td>...</td>\n",
       "      <td>...</td>\n",
       "      <td>...</td>\n",
       "      <td>...</td>\n",
       "      <td>...</td>\n",
       "      <td>...</td>\n",
       "      <td>...</td>\n",
       "      <td>...</td>\n",
       "      <td>...</td>\n",
       "      <td>...</td>\n",
       "      <td>...</td>\n",
       "      <td>...</td>\n",
       "      <td>...</td>\n",
       "      <td>...</td>\n",
       "      <td>...</td>\n",
       "      <td>...</td>\n",
       "      <td>...</td>\n",
       "    </tr>\n",
       "    <tr>\n",
       "      <th>356250</th>\n",
       "      <td>456221</td>\n",
       "      <td>NaN</td>\n",
       "      <td>Cash loans</td>\n",
       "      <td>F</td>\n",
       "      <td>N</td>\n",
       "      <td>Y</td>\n",
       "      <td>0</td>\n",
       "      <td>121500.0</td>\n",
       "      <td>412560.0</td>\n",
       "      <td>17473.5</td>\n",
       "      <td>...</td>\n",
       "      <td>0</td>\n",
       "      <td>0</td>\n",
       "      <td>0</td>\n",
       "      <td>0</td>\n",
       "      <td>0.0</td>\n",
       "      <td>0.0</td>\n",
       "      <td>0.0</td>\n",
       "      <td>0.0</td>\n",
       "      <td>0.0</td>\n",
       "      <td>1.0</td>\n",
       "    </tr>\n",
       "    <tr>\n",
       "      <th>356251</th>\n",
       "      <td>456222</td>\n",
       "      <td>NaN</td>\n",
       "      <td>Cash loans</td>\n",
       "      <td>F</td>\n",
       "      <td>N</td>\n",
       "      <td>N</td>\n",
       "      <td>2</td>\n",
       "      <td>157500.0</td>\n",
       "      <td>622413.0</td>\n",
       "      <td>31909.5</td>\n",
       "      <td>...</td>\n",
       "      <td>0</td>\n",
       "      <td>0</td>\n",
       "      <td>0</td>\n",
       "      <td>0</td>\n",
       "      <td>NaN</td>\n",
       "      <td>NaN</td>\n",
       "      <td>NaN</td>\n",
       "      <td>NaN</td>\n",
       "      <td>NaN</td>\n",
       "      <td>NaN</td>\n",
       "    </tr>\n",
       "    <tr>\n",
       "      <th>356252</th>\n",
       "      <td>456223</td>\n",
       "      <td>NaN</td>\n",
       "      <td>Cash loans</td>\n",
       "      <td>F</td>\n",
       "      <td>Y</td>\n",
       "      <td>Y</td>\n",
       "      <td>1</td>\n",
       "      <td>202500.0</td>\n",
       "      <td>315000.0</td>\n",
       "      <td>33205.5</td>\n",
       "      <td>...</td>\n",
       "      <td>0</td>\n",
       "      <td>0</td>\n",
       "      <td>0</td>\n",
       "      <td>0</td>\n",
       "      <td>0.0</td>\n",
       "      <td>0.0</td>\n",
       "      <td>0.0</td>\n",
       "      <td>0.0</td>\n",
       "      <td>3.0</td>\n",
       "      <td>1.0</td>\n",
       "    </tr>\n",
       "    <tr>\n",
       "      <th>356253</th>\n",
       "      <td>456224</td>\n",
       "      <td>NaN</td>\n",
       "      <td>Cash loans</td>\n",
       "      <td>M</td>\n",
       "      <td>N</td>\n",
       "      <td>N</td>\n",
       "      <td>0</td>\n",
       "      <td>225000.0</td>\n",
       "      <td>450000.0</td>\n",
       "      <td>25128.0</td>\n",
       "      <td>...</td>\n",
       "      <td>0</td>\n",
       "      <td>0</td>\n",
       "      <td>0</td>\n",
       "      <td>0</td>\n",
       "      <td>0.0</td>\n",
       "      <td>0.0</td>\n",
       "      <td>0.0</td>\n",
       "      <td>0.0</td>\n",
       "      <td>0.0</td>\n",
       "      <td>2.0</td>\n",
       "    </tr>\n",
       "    <tr>\n",
       "      <th>356254</th>\n",
       "      <td>456250</td>\n",
       "      <td>NaN</td>\n",
       "      <td>Cash loans</td>\n",
       "      <td>F</td>\n",
       "      <td>Y</td>\n",
       "      <td>N</td>\n",
       "      <td>0</td>\n",
       "      <td>135000.0</td>\n",
       "      <td>312768.0</td>\n",
       "      <td>24709.5</td>\n",
       "      <td>...</td>\n",
       "      <td>0</td>\n",
       "      <td>0</td>\n",
       "      <td>0</td>\n",
       "      <td>0</td>\n",
       "      <td>0.0</td>\n",
       "      <td>0.0</td>\n",
       "      <td>0.0</td>\n",
       "      <td>0.0</td>\n",
       "      <td>1.0</td>\n",
       "      <td>4.0</td>\n",
       "    </tr>\n",
       "  </tbody>\n",
       "</table>\n",
       "<p>356255 rows × 122 columns</p>\n",
       "</div>"
      ],
      "text/plain": [
       "        SK_ID_CURR  TARGET NAME_CONTRACT_TYPE CODE_GENDER FLAG_OWN_CAR   \n",
       "0           100002     1.0         Cash loans           M            N  \\\n",
       "1           100003     0.0         Cash loans           F            N   \n",
       "2           100004     0.0    Revolving loans           M            Y   \n",
       "3           100006     0.0         Cash loans           F            N   \n",
       "4           100007     0.0         Cash loans           M            N   \n",
       "...            ...     ...                ...         ...          ...   \n",
       "356250      456221     NaN         Cash loans           F            N   \n",
       "356251      456222     NaN         Cash loans           F            N   \n",
       "356252      456223     NaN         Cash loans           F            Y   \n",
       "356253      456224     NaN         Cash loans           M            N   \n",
       "356254      456250     NaN         Cash loans           F            Y   \n",
       "\n",
       "       FLAG_OWN_REALTY  CNT_CHILDREN  AMT_INCOME_TOTAL  AMT_CREDIT   \n",
       "0                    Y             0          202500.0    406597.5  \\\n",
       "1                    N             0          270000.0   1293502.5   \n",
       "2                    Y             0           67500.0    135000.0   \n",
       "3                    Y             0          135000.0    312682.5   \n",
       "4                    Y             0          121500.0    513000.0   \n",
       "...                ...           ...               ...         ...   \n",
       "356250               Y             0          121500.0    412560.0   \n",
       "356251               N             2          157500.0    622413.0   \n",
       "356252               Y             1          202500.0    315000.0   \n",
       "356253               N             0          225000.0    450000.0   \n",
       "356254               N             0          135000.0    312768.0   \n",
       "\n",
       "        AMT_ANNUITY  ...  FLAG_DOCUMENT_18 FLAG_DOCUMENT_19 FLAG_DOCUMENT_20   \n",
       "0           24700.5  ...                 0                0                0  \\\n",
       "1           35698.5  ...                 0                0                0   \n",
       "2            6750.0  ...                 0                0                0   \n",
       "3           29686.5  ...                 0                0                0   \n",
       "4           21865.5  ...                 0                0                0   \n",
       "...             ...  ...               ...              ...              ...   \n",
       "356250      17473.5  ...                 0                0                0   \n",
       "356251      31909.5  ...                 0                0                0   \n",
       "356252      33205.5  ...                 0                0                0   \n",
       "356253      25128.0  ...                 0                0                0   \n",
       "356254      24709.5  ...                 0                0                0   \n",
       "\n",
       "       FLAG_DOCUMENT_21 AMT_REQ_CREDIT_BUREAU_HOUR AMT_REQ_CREDIT_BUREAU_DAY   \n",
       "0                     0                        0.0                       0.0  \\\n",
       "1                     0                        0.0                       0.0   \n",
       "2                     0                        0.0                       0.0   \n",
       "3                     0                        NaN                       NaN   \n",
       "4                     0                        0.0                       0.0   \n",
       "...                 ...                        ...                       ...   \n",
       "356250                0                        0.0                       0.0   \n",
       "356251                0                        NaN                       NaN   \n",
       "356252                0                        0.0                       0.0   \n",
       "356253                0                        0.0                       0.0   \n",
       "356254                0                        0.0                       0.0   \n",
       "\n",
       "        AMT_REQ_CREDIT_BUREAU_WEEK  AMT_REQ_CREDIT_BUREAU_MON   \n",
       "0                              0.0                        0.0  \\\n",
       "1                              0.0                        0.0   \n",
       "2                              0.0                        0.0   \n",
       "3                              NaN                        NaN   \n",
       "4                              0.0                        0.0   \n",
       "...                            ...                        ...   \n",
       "356250                         0.0                        0.0   \n",
       "356251                         NaN                        NaN   \n",
       "356252                         0.0                        0.0   \n",
       "356253                         0.0                        0.0   \n",
       "356254                         0.0                        0.0   \n",
       "\n",
       "        AMT_REQ_CREDIT_BUREAU_QRT  AMT_REQ_CREDIT_BUREAU_YEAR  \n",
       "0                             0.0                         1.0  \n",
       "1                             0.0                         0.0  \n",
       "2                             0.0                         0.0  \n",
       "3                             NaN                         NaN  \n",
       "4                             0.0                         0.0  \n",
       "...                           ...                         ...  \n",
       "356250                        0.0                         1.0  \n",
       "356251                        NaN                         NaN  \n",
       "356252                        3.0                         1.0  \n",
       "356253                        0.0                         2.0  \n",
       "356254                        1.0                         4.0  \n",
       "\n",
       "[356255 rows x 122 columns]"
      ]
     },
     "metadata": {},
     "output_type": "display_data"
    },
    {
     "data": {
      "text/html": [
       "<div>\n",
       "<style scoped>\n",
       "    .dataframe tbody tr th:only-of-type {\n",
       "        vertical-align: middle;\n",
       "    }\n",
       "\n",
       "    .dataframe tbody tr th {\n",
       "        vertical-align: top;\n",
       "    }\n",
       "\n",
       "    .dataframe thead th {\n",
       "        text-align: right;\n",
       "    }\n",
       "</style>\n",
       "<table border=\"1\" class=\"dataframe\">\n",
       "  <thead>\n",
       "    <tr style=\"text-align: right;\">\n",
       "      <th>application</th>\n",
       "      <th>SK_ID_CURR</th>\n",
       "      <th>TARGET</th>\n",
       "      <th>NAME_CONTRACT_TYPE</th>\n",
       "      <th>CODE_GENDER</th>\n",
       "      <th>FLAG_OWN_CAR</th>\n",
       "      <th>FLAG_OWN_REALTY</th>\n",
       "      <th>CNT_CHILDREN</th>\n",
       "      <th>AMT_INCOME_TOTAL</th>\n",
       "      <th>AMT_CREDIT</th>\n",
       "      <th>AMT_ANNUITY</th>\n",
       "      <th>...</th>\n",
       "      <th>FLAG_DOCUMENT_18</th>\n",
       "      <th>FLAG_DOCUMENT_19</th>\n",
       "      <th>FLAG_DOCUMENT_20</th>\n",
       "      <th>FLAG_DOCUMENT_21</th>\n",
       "      <th>AMT_REQ_CREDIT_BUREAU_HOUR</th>\n",
       "      <th>AMT_REQ_CREDIT_BUREAU_DAY</th>\n",
       "      <th>AMT_REQ_CREDIT_BUREAU_WEEK</th>\n",
       "      <th>AMT_REQ_CREDIT_BUREAU_MON</th>\n",
       "      <th>AMT_REQ_CREDIT_BUREAU_QRT</th>\n",
       "      <th>AMT_REQ_CREDIT_BUREAU_YEAR</th>\n",
       "    </tr>\n",
       "  </thead>\n",
       "  <tbody>\n",
       "    <tr>\n",
       "      <th>0</th>\n",
       "      <td>100002</td>\n",
       "      <td>1.0</td>\n",
       "      <td>Cash loans</td>\n",
       "      <td>M</td>\n",
       "      <td>N</td>\n",
       "      <td>Y</td>\n",
       "      <td>0</td>\n",
       "      <td>202500.0</td>\n",
       "      <td>406597.5</td>\n",
       "      <td>24700.5</td>\n",
       "      <td>...</td>\n",
       "      <td>0</td>\n",
       "      <td>0</td>\n",
       "      <td>0</td>\n",
       "      <td>0</td>\n",
       "      <td>0.0</td>\n",
       "      <td>0.0</td>\n",
       "      <td>0.0</td>\n",
       "      <td>0.0</td>\n",
       "      <td>0.0</td>\n",
       "      <td>1.0</td>\n",
       "    </tr>\n",
       "    <tr>\n",
       "      <th>1</th>\n",
       "      <td>100003</td>\n",
       "      <td>0.0</td>\n",
       "      <td>Cash loans</td>\n",
       "      <td>F</td>\n",
       "      <td>N</td>\n",
       "      <td>N</td>\n",
       "      <td>0</td>\n",
       "      <td>270000.0</td>\n",
       "      <td>1293502.5</td>\n",
       "      <td>35698.5</td>\n",
       "      <td>...</td>\n",
       "      <td>0</td>\n",
       "      <td>0</td>\n",
       "      <td>0</td>\n",
       "      <td>0</td>\n",
       "      <td>0.0</td>\n",
       "      <td>0.0</td>\n",
       "      <td>0.0</td>\n",
       "      <td>0.0</td>\n",
       "      <td>0.0</td>\n",
       "      <td>0.0</td>\n",
       "    </tr>\n",
       "    <tr>\n",
       "      <th>2</th>\n",
       "      <td>100004</td>\n",
       "      <td>0.0</td>\n",
       "      <td>Revolving loans</td>\n",
       "      <td>M</td>\n",
       "      <td>Y</td>\n",
       "      <td>Y</td>\n",
       "      <td>0</td>\n",
       "      <td>67500.0</td>\n",
       "      <td>135000.0</td>\n",
       "      <td>6750.0</td>\n",
       "      <td>...</td>\n",
       "      <td>0</td>\n",
       "      <td>0</td>\n",
       "      <td>0</td>\n",
       "      <td>0</td>\n",
       "      <td>0.0</td>\n",
       "      <td>0.0</td>\n",
       "      <td>0.0</td>\n",
       "      <td>0.0</td>\n",
       "      <td>0.0</td>\n",
       "      <td>0.0</td>\n",
       "    </tr>\n",
       "    <tr>\n",
       "      <th>3</th>\n",
       "      <td>100006</td>\n",
       "      <td>0.0</td>\n",
       "      <td>Cash loans</td>\n",
       "      <td>F</td>\n",
       "      <td>N</td>\n",
       "      <td>Y</td>\n",
       "      <td>0</td>\n",
       "      <td>135000.0</td>\n",
       "      <td>312682.5</td>\n",
       "      <td>29686.5</td>\n",
       "      <td>...</td>\n",
       "      <td>0</td>\n",
       "      <td>0</td>\n",
       "      <td>0</td>\n",
       "      <td>0</td>\n",
       "      <td>NaN</td>\n",
       "      <td>NaN</td>\n",
       "      <td>NaN</td>\n",
       "      <td>NaN</td>\n",
       "      <td>NaN</td>\n",
       "      <td>NaN</td>\n",
       "    </tr>\n",
       "    <tr>\n",
       "      <th>4</th>\n",
       "      <td>100007</td>\n",
       "      <td>0.0</td>\n",
       "      <td>Cash loans</td>\n",
       "      <td>M</td>\n",
       "      <td>N</td>\n",
       "      <td>Y</td>\n",
       "      <td>0</td>\n",
       "      <td>121500.0</td>\n",
       "      <td>513000.0</td>\n",
       "      <td>21865.5</td>\n",
       "      <td>...</td>\n",
       "      <td>0</td>\n",
       "      <td>0</td>\n",
       "      <td>0</td>\n",
       "      <td>0</td>\n",
       "      <td>0.0</td>\n",
       "      <td>0.0</td>\n",
       "      <td>0.0</td>\n",
       "      <td>0.0</td>\n",
       "      <td>0.0</td>\n",
       "      <td>0.0</td>\n",
       "    </tr>\n",
       "    <tr>\n",
       "      <th>...</th>\n",
       "      <td>...</td>\n",
       "      <td>...</td>\n",
       "      <td>...</td>\n",
       "      <td>...</td>\n",
       "      <td>...</td>\n",
       "      <td>...</td>\n",
       "      <td>...</td>\n",
       "      <td>...</td>\n",
       "      <td>...</td>\n",
       "      <td>...</td>\n",
       "      <td>...</td>\n",
       "      <td>...</td>\n",
       "      <td>...</td>\n",
       "      <td>...</td>\n",
       "      <td>...</td>\n",
       "      <td>...</td>\n",
       "      <td>...</td>\n",
       "      <td>...</td>\n",
       "      <td>...</td>\n",
       "      <td>...</td>\n",
       "      <td>...</td>\n",
       "    </tr>\n",
       "    <tr>\n",
       "      <th>356250</th>\n",
       "      <td>456221</td>\n",
       "      <td>NaN</td>\n",
       "      <td>Cash loans</td>\n",
       "      <td>F</td>\n",
       "      <td>N</td>\n",
       "      <td>Y</td>\n",
       "      <td>0</td>\n",
       "      <td>121500.0</td>\n",
       "      <td>412560.0</td>\n",
       "      <td>17473.5</td>\n",
       "      <td>...</td>\n",
       "      <td>0</td>\n",
       "      <td>0</td>\n",
       "      <td>0</td>\n",
       "      <td>0</td>\n",
       "      <td>0.0</td>\n",
       "      <td>0.0</td>\n",
       "      <td>0.0</td>\n",
       "      <td>0.0</td>\n",
       "      <td>0.0</td>\n",
       "      <td>1.0</td>\n",
       "    </tr>\n",
       "    <tr>\n",
       "      <th>356251</th>\n",
       "      <td>456222</td>\n",
       "      <td>NaN</td>\n",
       "      <td>Cash loans</td>\n",
       "      <td>F</td>\n",
       "      <td>N</td>\n",
       "      <td>N</td>\n",
       "      <td>2</td>\n",
       "      <td>157500.0</td>\n",
       "      <td>622413.0</td>\n",
       "      <td>31909.5</td>\n",
       "      <td>...</td>\n",
       "      <td>0</td>\n",
       "      <td>0</td>\n",
       "      <td>0</td>\n",
       "      <td>0</td>\n",
       "      <td>NaN</td>\n",
       "      <td>NaN</td>\n",
       "      <td>NaN</td>\n",
       "      <td>NaN</td>\n",
       "      <td>NaN</td>\n",
       "      <td>NaN</td>\n",
       "    </tr>\n",
       "    <tr>\n",
       "      <th>356252</th>\n",
       "      <td>456223</td>\n",
       "      <td>NaN</td>\n",
       "      <td>Cash loans</td>\n",
       "      <td>F</td>\n",
       "      <td>Y</td>\n",
       "      <td>Y</td>\n",
       "      <td>1</td>\n",
       "      <td>202500.0</td>\n",
       "      <td>315000.0</td>\n",
       "      <td>33205.5</td>\n",
       "      <td>...</td>\n",
       "      <td>0</td>\n",
       "      <td>0</td>\n",
       "      <td>0</td>\n",
       "      <td>0</td>\n",
       "      <td>0.0</td>\n",
       "      <td>0.0</td>\n",
       "      <td>0.0</td>\n",
       "      <td>0.0</td>\n",
       "      <td>3.0</td>\n",
       "      <td>1.0</td>\n",
       "    </tr>\n",
       "    <tr>\n",
       "      <th>356253</th>\n",
       "      <td>456224</td>\n",
       "      <td>NaN</td>\n",
       "      <td>Cash loans</td>\n",
       "      <td>M</td>\n",
       "      <td>N</td>\n",
       "      <td>N</td>\n",
       "      <td>0</td>\n",
       "      <td>225000.0</td>\n",
       "      <td>450000.0</td>\n",
       "      <td>25128.0</td>\n",
       "      <td>...</td>\n",
       "      <td>0</td>\n",
       "      <td>0</td>\n",
       "      <td>0</td>\n",
       "      <td>0</td>\n",
       "      <td>0.0</td>\n",
       "      <td>0.0</td>\n",
       "      <td>0.0</td>\n",
       "      <td>0.0</td>\n",
       "      <td>0.0</td>\n",
       "      <td>2.0</td>\n",
       "    </tr>\n",
       "    <tr>\n",
       "      <th>356254</th>\n",
       "      <td>456250</td>\n",
       "      <td>NaN</td>\n",
       "      <td>Cash loans</td>\n",
       "      <td>F</td>\n",
       "      <td>Y</td>\n",
       "      <td>N</td>\n",
       "      <td>0</td>\n",
       "      <td>135000.0</td>\n",
       "      <td>312768.0</td>\n",
       "      <td>24709.5</td>\n",
       "      <td>...</td>\n",
       "      <td>0</td>\n",
       "      <td>0</td>\n",
       "      <td>0</td>\n",
       "      <td>0</td>\n",
       "      <td>0.0</td>\n",
       "      <td>0.0</td>\n",
       "      <td>0.0</td>\n",
       "      <td>0.0</td>\n",
       "      <td>1.0</td>\n",
       "      <td>4.0</td>\n",
       "    </tr>\n",
       "  </tbody>\n",
       "</table>\n",
       "<p>356255 rows × 122 columns</p>\n",
       "</div>"
      ],
      "text/plain": [
       "application  SK_ID_CURR  TARGET NAME_CONTRACT_TYPE CODE_GENDER FLAG_OWN_CAR   \n",
       "0                100002     1.0         Cash loans           M            N  \\\n",
       "1                100003     0.0         Cash loans           F            N   \n",
       "2                100004     0.0    Revolving loans           M            Y   \n",
       "3                100006     0.0         Cash loans           F            N   \n",
       "4                100007     0.0         Cash loans           M            N   \n",
       "...                 ...     ...                ...         ...          ...   \n",
       "356250           456221     NaN         Cash loans           F            N   \n",
       "356251           456222     NaN         Cash loans           F            N   \n",
       "356252           456223     NaN         Cash loans           F            Y   \n",
       "356253           456224     NaN         Cash loans           M            N   \n",
       "356254           456250     NaN         Cash loans           F            Y   \n",
       "\n",
       "application FLAG_OWN_REALTY  CNT_CHILDREN  AMT_INCOME_TOTAL  AMT_CREDIT   \n",
       "0                         Y             0          202500.0    406597.5  \\\n",
       "1                         N             0          270000.0   1293502.5   \n",
       "2                         Y             0           67500.0    135000.0   \n",
       "3                         Y             0          135000.0    312682.5   \n",
       "4                         Y             0          121500.0    513000.0   \n",
       "...                     ...           ...               ...         ...   \n",
       "356250                    Y             0          121500.0    412560.0   \n",
       "356251                    N             2          157500.0    622413.0   \n",
       "356252                    Y             1          202500.0    315000.0   \n",
       "356253                    N             0          225000.0    450000.0   \n",
       "356254                    N             0          135000.0    312768.0   \n",
       "\n",
       "application  AMT_ANNUITY  ...  FLAG_DOCUMENT_18 FLAG_DOCUMENT_19   \n",
       "0                24700.5  ...                 0                0  \\\n",
       "1                35698.5  ...                 0                0   \n",
       "2                 6750.0  ...                 0                0   \n",
       "3                29686.5  ...                 0                0   \n",
       "4                21865.5  ...                 0                0   \n",
       "...                  ...  ...               ...              ...   \n",
       "356250           17473.5  ...                 0                0   \n",
       "356251           31909.5  ...                 0                0   \n",
       "356252           33205.5  ...                 0                0   \n",
       "356253           25128.0  ...                 0                0   \n",
       "356254           24709.5  ...                 0                0   \n",
       "\n",
       "application FLAG_DOCUMENT_20 FLAG_DOCUMENT_21 AMT_REQ_CREDIT_BUREAU_HOUR   \n",
       "0                          0                0                        0.0  \\\n",
       "1                          0                0                        0.0   \n",
       "2                          0                0                        0.0   \n",
       "3                          0                0                        NaN   \n",
       "4                          0                0                        0.0   \n",
       "...                      ...              ...                        ...   \n",
       "356250                     0                0                        0.0   \n",
       "356251                     0                0                        NaN   \n",
       "356252                     0                0                        0.0   \n",
       "356253                     0                0                        0.0   \n",
       "356254                     0                0                        0.0   \n",
       "\n",
       "application AMT_REQ_CREDIT_BUREAU_DAY  AMT_REQ_CREDIT_BUREAU_WEEK   \n",
       "0                                 0.0                         0.0  \\\n",
       "1                                 0.0                         0.0   \n",
       "2                                 0.0                         0.0   \n",
       "3                                 NaN                         NaN   \n",
       "4                                 0.0                         0.0   \n",
       "...                               ...                         ...   \n",
       "356250                            0.0                         0.0   \n",
       "356251                            NaN                         NaN   \n",
       "356252                            0.0                         0.0   \n",
       "356253                            0.0                         0.0   \n",
       "356254                            0.0                         0.0   \n",
       "\n",
       "application  AMT_REQ_CREDIT_BUREAU_MON  AMT_REQ_CREDIT_BUREAU_QRT   \n",
       "0                                  0.0                        0.0  \\\n",
       "1                                  0.0                        0.0   \n",
       "2                                  0.0                        0.0   \n",
       "3                                  NaN                        NaN   \n",
       "4                                  0.0                        0.0   \n",
       "...                                ...                        ...   \n",
       "356250                             0.0                        0.0   \n",
       "356251                             NaN                        NaN   \n",
       "356252                             0.0                        3.0   \n",
       "356253                             0.0                        0.0   \n",
       "356254                             0.0                        1.0   \n",
       "\n",
       "application  AMT_REQ_CREDIT_BUREAU_YEAR  \n",
       "0                                   1.0  \n",
       "1                                   0.0  \n",
       "2                                   0.0  \n",
       "3                                   NaN  \n",
       "4                                   0.0  \n",
       "...                                 ...  \n",
       "356250                              1.0  \n",
       "356251                              NaN  \n",
       "356252                              1.0  \n",
       "356253                              2.0  \n",
       "356254                              4.0  \n",
       "\n",
       "[356255 rows x 122 columns]"
      ]
     },
     "metadata": {},
     "output_type": "display_data"
    }
   ],
   "source": [
    "from pepper.pd_utils import align_df2_on_df1\n",
    "app_v1 = load_application_v1()\n",
    "app_v2 = align_df2_on_df1(\"SK_ID_CURR\", app_v1, load_application_v2())\n",
    "display(app_v1)\n",
    "display(app_v2)"
   ]
  },
  {
   "attachments": {},
   "cell_type": "markdown",
   "metadata": {},
   "source": [
    "### Masque de comparaison\n",
    "\n",
    "`pepper.pd_utils` contient deux fonctions `df_eq` et `df_neq` qui évitent le piège du `x == x` qui retourne `False` si `x` est NA. Ensuite, il faut utiliser `all` et `any` pour en tirer parti."
   ]
  },
  {
   "cell_type": "code",
   "execution_count": null,
   "metadata": {},
   "outputs": [
    {
     "name": "stdout",
     "output_type": "stream",
     "text": [
      "n_diffs: 0\n",
      "n_diffs by cols:\n",
      "SK_ID_CURR                    0\n",
      "TARGET                        0\n",
      "NAME_CONTRACT_TYPE            0\n",
      "CODE_GENDER                   0\n",
      "FLAG_OWN_CAR                  0\n",
      "                             ..\n",
      "AMT_REQ_CREDIT_BUREAU_DAY     0\n",
      "AMT_REQ_CREDIT_BUREAU_WEEK    0\n",
      "AMT_REQ_CREDIT_BUREAU_MON     0\n",
      "AMT_REQ_CREDIT_BUREAU_QRT     0\n",
      "AMT_REQ_CREDIT_BUREAU_YEAR    0\n",
      "Length: 122, dtype: int64\n",
      "n_diffs by rows:\n",
      "0         0\n",
      "1         0\n",
      "2         0\n",
      "3         0\n",
      "4         0\n",
      "         ..\n",
      "356250    0\n",
      "356251    0\n",
      "356252    0\n",
      "356253    0\n",
      "356254    0\n",
      "Length: 356255, dtype: int64\n"
     ]
    },
    {
     "data": {
      "text/plain": [
       "SK_ID_CURR                    False\n",
       "TARGET                        False\n",
       "NAME_CONTRACT_TYPE            False\n",
       "CODE_GENDER                   False\n",
       "FLAG_OWN_CAR                  False\n",
       "                              ...  \n",
       "AMT_REQ_CREDIT_BUREAU_DAY     False\n",
       "AMT_REQ_CREDIT_BUREAU_WEEK    False\n",
       "AMT_REQ_CREDIT_BUREAU_MON     False\n",
       "AMT_REQ_CREDIT_BUREAU_QRT     False\n",
       "AMT_REQ_CREDIT_BUREAU_YEAR    False\n",
       "Length: 122, dtype: bool"
      ]
     },
     "metadata": {},
     "output_type": "display_data"
    },
    {
     "data": {
      "text/plain": [
       "0         False\n",
       "1         False\n",
       "2         False\n",
       "3         False\n",
       "4         False\n",
       "          ...  \n",
       "356250    False\n",
       "356251    False\n",
       "356252    False\n",
       "356253    False\n",
       "356254    False\n",
       "Length: 356255, dtype: bool"
      ]
     },
     "metadata": {},
     "output_type": "display_data"
    }
   ],
   "source": [
    "from pepper.pd_utils import df_neq\n",
    "is_diff = df_neq(app_v1, app_v2)\n",
    "print(\"n_diffs:\", is_diff.sum().sum())\n",
    "print(\"n_diffs by cols:\\n\", is_diff.sum(), sep=\"\")\n",
    "print(\"n_diffs by rows:\\n\", is_diff.sum(axis=1), sep=\"\")\n",
    "display(is_diff.any())\n",
    "display(is_diff.any(axis=1))"
   ]
  },
  {
   "attachments": {},
   "cell_type": "markdown",
   "metadata": {},
   "source": [
    "### Détection des variations locales de `dtype`"
   ]
  },
  {
   "cell_type": "code",
   "execution_count": null,
   "metadata": {},
   "outputs": [
    {
     "name": "stdout",
     "output_type": "stream",
     "text": [
      "dtypes are aligned\n"
     ]
    }
   ],
   "source": [
    "from pepper.pd_utils import check_dtypes_alignment\n",
    "check_dtypes_alignment(app_v1, app_v2)"
   ]
  },
  {
   "attachments": {},
   "cell_type": "markdown",
   "metadata": {},
   "source": [
    "### Caculer la différence (la distance) entre les coefficients"
   ]
  },
  {
   "cell_type": "code",
   "execution_count": null,
   "metadata": {},
   "outputs": [
    {
     "data": {
      "text/plain": [
       "0"
      ]
     },
     "metadata": {},
     "output_type": "display_data"
    },
    {
     "data": {
      "text/plain": [
       "0.0"
      ]
     },
     "metadata": {},
     "output_type": "display_data"
    }
   ],
   "source": [
    "from pepper.pd_utils import safe_diff_series\n",
    "display(safe_diff_series(app_v1.SK_ID_CURR, app_v2.SK_ID_CURR).sum())\n",
    "display(safe_diff_series(app_v1.TARGET, app_v2.TARGET).sum())"
   ]
  },
  {
   "cell_type": "code",
   "execution_count": null,
   "metadata": {},
   "outputs": [
    {
     "data": {
      "text/plain": [
       "Series([], Name: TARGET, dtype: float64)"
      ]
     },
     "metadata": {},
     "output_type": "display_data"
    },
    {
     "data": {
      "text/plain": [
       "Series([], Name: TARGET, dtype: float64)"
      ]
     },
     "metadata": {},
     "output_type": "display_data"
    }
   ],
   "source": [
    "display(app_v1[is_diff.TARGET].TARGET)\n",
    "display(app_v2[is_diff.TARGET].TARGET)"
   ]
  },
  {
   "cell_type": "code",
   "execution_count": null,
   "metadata": {},
   "outputs": [],
   "source": [
    "from pepper.pd_utils import safe_diff_dataframe\n",
    "diff = safe_diff_dataframe(app_v1, app_v2)"
   ]
  },
  {
   "attachments": {},
   "cell_type": "markdown",
   "metadata": {},
   "source": [
    "Ici, finition : en cas de diff, filtrer facilement des plages de la matrice des différences."
   ]
  },
  {
   "cell_type": "code",
   "execution_count": null,
   "metadata": {},
   "outputs": [
    {
     "data": {
      "text/html": [
       "<div>\n",
       "<style scoped>\n",
       "    .dataframe tbody tr th:only-of-type {\n",
       "        vertical-align: middle;\n",
       "    }\n",
       "\n",
       "    .dataframe tbody tr th {\n",
       "        vertical-align: top;\n",
       "    }\n",
       "\n",
       "    .dataframe thead th {\n",
       "        text-align: right;\n",
       "    }\n",
       "</style>\n",
       "<table border=\"1\" class=\"dataframe\">\n",
       "  <thead>\n",
       "    <tr style=\"text-align: right;\">\n",
       "      <th></th>\n",
       "      <th>TARGET</th>\n",
       "      <th>AMT_ANNUITY</th>\n",
       "      <th>AMT_GOODS_PRICE</th>\n",
       "      <th>NAME_TYPE_SUITE</th>\n",
       "      <th>OWN_CAR_AGE</th>\n",
       "      <th>OCCUPATION_TYPE</th>\n",
       "      <th>CNT_FAM_MEMBERS</th>\n",
       "      <th>EXT_SOURCE_1</th>\n",
       "      <th>EXT_SOURCE_2</th>\n",
       "      <th>EXT_SOURCE_3</th>\n",
       "      <th>...</th>\n",
       "      <th>DEF_30_CNT_SOCIAL_CIRCLE</th>\n",
       "      <th>OBS_60_CNT_SOCIAL_CIRCLE</th>\n",
       "      <th>DEF_60_CNT_SOCIAL_CIRCLE</th>\n",
       "      <th>DAYS_LAST_PHONE_CHANGE</th>\n",
       "      <th>AMT_REQ_CREDIT_BUREAU_HOUR</th>\n",
       "      <th>AMT_REQ_CREDIT_BUREAU_DAY</th>\n",
       "      <th>AMT_REQ_CREDIT_BUREAU_WEEK</th>\n",
       "      <th>AMT_REQ_CREDIT_BUREAU_MON</th>\n",
       "      <th>AMT_REQ_CREDIT_BUREAU_QRT</th>\n",
       "      <th>AMT_REQ_CREDIT_BUREAU_YEAR</th>\n",
       "    </tr>\n",
       "  </thead>\n",
       "  <tbody>\n",
       "    <tr>\n",
       "      <th>0</th>\n",
       "      <td>0.0</td>\n",
       "      <td>0.0</td>\n",
       "      <td>0.0</td>\n",
       "      <td></td>\n",
       "      <td>NaN</td>\n",
       "      <td></td>\n",
       "      <td>0.0</td>\n",
       "      <td>0.0</td>\n",
       "      <td>0.0</td>\n",
       "      <td>0.0</td>\n",
       "      <td>...</td>\n",
       "      <td>0.0</td>\n",
       "      <td>0.0</td>\n",
       "      <td>0.0</td>\n",
       "      <td>0.0</td>\n",
       "      <td>0.0</td>\n",
       "      <td>0.0</td>\n",
       "      <td>0.0</td>\n",
       "      <td>0.0</td>\n",
       "      <td>0.0</td>\n",
       "      <td>0.0</td>\n",
       "    </tr>\n",
       "    <tr>\n",
       "      <th>1</th>\n",
       "      <td>0.0</td>\n",
       "      <td>0.0</td>\n",
       "      <td>0.0</td>\n",
       "      <td></td>\n",
       "      <td>NaN</td>\n",
       "      <td></td>\n",
       "      <td>0.0</td>\n",
       "      <td>0.0</td>\n",
       "      <td>0.0</td>\n",
       "      <td>NaN</td>\n",
       "      <td>...</td>\n",
       "      <td>0.0</td>\n",
       "      <td>0.0</td>\n",
       "      <td>0.0</td>\n",
       "      <td>0.0</td>\n",
       "      <td>0.0</td>\n",
       "      <td>0.0</td>\n",
       "      <td>0.0</td>\n",
       "      <td>0.0</td>\n",
       "      <td>0.0</td>\n",
       "      <td>0.0</td>\n",
       "    </tr>\n",
       "    <tr>\n",
       "      <th>2</th>\n",
       "      <td>0.0</td>\n",
       "      <td>0.0</td>\n",
       "      <td>0.0</td>\n",
       "      <td></td>\n",
       "      <td>0.0</td>\n",
       "      <td></td>\n",
       "      <td>0.0</td>\n",
       "      <td>NaN</td>\n",
       "      <td>0.0</td>\n",
       "      <td>0.0</td>\n",
       "      <td>...</td>\n",
       "      <td>0.0</td>\n",
       "      <td>0.0</td>\n",
       "      <td>0.0</td>\n",
       "      <td>0.0</td>\n",
       "      <td>0.0</td>\n",
       "      <td>0.0</td>\n",
       "      <td>0.0</td>\n",
       "      <td>0.0</td>\n",
       "      <td>0.0</td>\n",
       "      <td>0.0</td>\n",
       "    </tr>\n",
       "    <tr>\n",
       "      <th>3</th>\n",
       "      <td>0.0</td>\n",
       "      <td>0.0</td>\n",
       "      <td>0.0</td>\n",
       "      <td></td>\n",
       "      <td>NaN</td>\n",
       "      <td></td>\n",
       "      <td>0.0</td>\n",
       "      <td>NaN</td>\n",
       "      <td>0.0</td>\n",
       "      <td>NaN</td>\n",
       "      <td>...</td>\n",
       "      <td>0.0</td>\n",
       "      <td>0.0</td>\n",
       "      <td>0.0</td>\n",
       "      <td>0.0</td>\n",
       "      <td>NaN</td>\n",
       "      <td>NaN</td>\n",
       "      <td>NaN</td>\n",
       "      <td>NaN</td>\n",
       "      <td>NaN</td>\n",
       "      <td>NaN</td>\n",
       "    </tr>\n",
       "    <tr>\n",
       "      <th>4</th>\n",
       "      <td>0.0</td>\n",
       "      <td>0.0</td>\n",
       "      <td>0.0</td>\n",
       "      <td></td>\n",
       "      <td>NaN</td>\n",
       "      <td></td>\n",
       "      <td>0.0</td>\n",
       "      <td>NaN</td>\n",
       "      <td>0.0</td>\n",
       "      <td>NaN</td>\n",
       "      <td>...</td>\n",
       "      <td>0.0</td>\n",
       "      <td>0.0</td>\n",
       "      <td>0.0</td>\n",
       "      <td>0.0</td>\n",
       "      <td>0.0</td>\n",
       "      <td>0.0</td>\n",
       "      <td>0.0</td>\n",
       "      <td>0.0</td>\n",
       "      <td>0.0</td>\n",
       "      <td>0.0</td>\n",
       "    </tr>\n",
       "    <tr>\n",
       "      <th>...</th>\n",
       "      <td>...</td>\n",
       "      <td>...</td>\n",
       "      <td>...</td>\n",
       "      <td>...</td>\n",
       "      <td>...</td>\n",
       "      <td>...</td>\n",
       "      <td>...</td>\n",
       "      <td>...</td>\n",
       "      <td>...</td>\n",
       "      <td>...</td>\n",
       "      <td>...</td>\n",
       "      <td>...</td>\n",
       "      <td>...</td>\n",
       "      <td>...</td>\n",
       "      <td>...</td>\n",
       "      <td>...</td>\n",
       "      <td>...</td>\n",
       "      <td>...</td>\n",
       "      <td>...</td>\n",
       "      <td>...</td>\n",
       "      <td>...</td>\n",
       "    </tr>\n",
       "    <tr>\n",
       "      <th>356250</th>\n",
       "      <td>NaN</td>\n",
       "      <td>0.0</td>\n",
       "      <td>0.0</td>\n",
       "      <td></td>\n",
       "      <td>NaN</td>\n",
       "      <td></td>\n",
       "      <td>0.0</td>\n",
       "      <td>NaN</td>\n",
       "      <td>0.0</td>\n",
       "      <td>0.0</td>\n",
       "      <td>...</td>\n",
       "      <td>0.0</td>\n",
       "      <td>0.0</td>\n",
       "      <td>0.0</td>\n",
       "      <td>0.0</td>\n",
       "      <td>0.0</td>\n",
       "      <td>0.0</td>\n",
       "      <td>0.0</td>\n",
       "      <td>0.0</td>\n",
       "      <td>0.0</td>\n",
       "      <td>0.0</td>\n",
       "    </tr>\n",
       "    <tr>\n",
       "      <th>356251</th>\n",
       "      <td>NaN</td>\n",
       "      <td>0.0</td>\n",
       "      <td>0.0</td>\n",
       "      <td></td>\n",
       "      <td>NaN</td>\n",
       "      <td></td>\n",
       "      <td>0.0</td>\n",
       "      <td>NaN</td>\n",
       "      <td>0.0</td>\n",
       "      <td>NaN</td>\n",
       "      <td>...</td>\n",
       "      <td>0.0</td>\n",
       "      <td>0.0</td>\n",
       "      <td>0.0</td>\n",
       "      <td>0.0</td>\n",
       "      <td>NaN</td>\n",
       "      <td>NaN</td>\n",
       "      <td>NaN</td>\n",
       "      <td>NaN</td>\n",
       "      <td>NaN</td>\n",
       "      <td>NaN</td>\n",
       "    </tr>\n",
       "    <tr>\n",
       "      <th>356252</th>\n",
       "      <td>NaN</td>\n",
       "      <td>0.0</td>\n",
       "      <td>0.0</td>\n",
       "      <td></td>\n",
       "      <td>0.0</td>\n",
       "      <td></td>\n",
       "      <td>0.0</td>\n",
       "      <td>0.0</td>\n",
       "      <td>0.0</td>\n",
       "      <td>0.0</td>\n",
       "      <td>...</td>\n",
       "      <td>0.0</td>\n",
       "      <td>0.0</td>\n",
       "      <td>0.0</td>\n",
       "      <td>0.0</td>\n",
       "      <td>0.0</td>\n",
       "      <td>0.0</td>\n",
       "      <td>0.0</td>\n",
       "      <td>0.0</td>\n",
       "      <td>0.0</td>\n",
       "      <td>0.0</td>\n",
       "    </tr>\n",
       "    <tr>\n",
       "      <th>356253</th>\n",
       "      <td>NaN</td>\n",
       "      <td>0.0</td>\n",
       "      <td>0.0</td>\n",
       "      <td></td>\n",
       "      <td>NaN</td>\n",
       "      <td></td>\n",
       "      <td>0.0</td>\n",
       "      <td>0.0</td>\n",
       "      <td>0.0</td>\n",
       "      <td>0.0</td>\n",
       "      <td>...</td>\n",
       "      <td>0.0</td>\n",
       "      <td>0.0</td>\n",
       "      <td>0.0</td>\n",
       "      <td>0.0</td>\n",
       "      <td>0.0</td>\n",
       "      <td>0.0</td>\n",
       "      <td>0.0</td>\n",
       "      <td>0.0</td>\n",
       "      <td>0.0</td>\n",
       "      <td>0.0</td>\n",
       "    </tr>\n",
       "    <tr>\n",
       "      <th>356254</th>\n",
       "      <td>NaN</td>\n",
       "      <td>0.0</td>\n",
       "      <td>0.0</td>\n",
       "      <td></td>\n",
       "      <td>0.0</td>\n",
       "      <td></td>\n",
       "      <td>0.0</td>\n",
       "      <td>NaN</td>\n",
       "      <td>0.0</td>\n",
       "      <td>0.0</td>\n",
       "      <td>...</td>\n",
       "      <td>0.0</td>\n",
       "      <td>0.0</td>\n",
       "      <td>0.0</td>\n",
       "      <td>0.0</td>\n",
       "      <td>0.0</td>\n",
       "      <td>0.0</td>\n",
       "      <td>0.0</td>\n",
       "      <td>0.0</td>\n",
       "      <td>0.0</td>\n",
       "      <td>0.0</td>\n",
       "    </tr>\n",
       "  </tbody>\n",
       "</table>\n",
       "<p>347653 rows × 68 columns</p>\n",
       "</div>"
      ],
      "text/plain": [
       "        TARGET  AMT_ANNUITY  AMT_GOODS_PRICE NAME_TYPE_SUITE  OWN_CAR_AGE   \n",
       "0          0.0          0.0              0.0                          NaN  \\\n",
       "1          0.0          0.0              0.0                          NaN   \n",
       "2          0.0          0.0              0.0                          0.0   \n",
       "3          0.0          0.0              0.0                          NaN   \n",
       "4          0.0          0.0              0.0                          NaN   \n",
       "...        ...          ...              ...             ...          ...   \n",
       "356250     NaN          0.0              0.0                          NaN   \n",
       "356251     NaN          0.0              0.0                          NaN   \n",
       "356252     NaN          0.0              0.0                          0.0   \n",
       "356253     NaN          0.0              0.0                          NaN   \n",
       "356254     NaN          0.0              0.0                          0.0   \n",
       "\n",
       "       OCCUPATION_TYPE  CNT_FAM_MEMBERS  EXT_SOURCE_1  EXT_SOURCE_2   \n",
       "0                                   0.0           0.0           0.0  \\\n",
       "1                                   0.0           0.0           0.0   \n",
       "2                                   0.0           NaN           0.0   \n",
       "3                                   0.0           NaN           0.0   \n",
       "4                                   0.0           NaN           0.0   \n",
       "...                ...              ...           ...           ...   \n",
       "356250                              0.0           NaN           0.0   \n",
       "356251                              0.0           NaN           0.0   \n",
       "356252                              0.0           0.0           0.0   \n",
       "356253                              0.0           0.0           0.0   \n",
       "356254                              0.0           NaN           0.0   \n",
       "\n",
       "        EXT_SOURCE_3  ...  DEF_30_CNT_SOCIAL_CIRCLE  OBS_60_CNT_SOCIAL_CIRCLE   \n",
       "0                0.0  ...                       0.0                       0.0  \\\n",
       "1                NaN  ...                       0.0                       0.0   \n",
       "2                0.0  ...                       0.0                       0.0   \n",
       "3                NaN  ...                       0.0                       0.0   \n",
       "4                NaN  ...                       0.0                       0.0   \n",
       "...              ...  ...                       ...                       ...   \n",
       "356250           0.0  ...                       0.0                       0.0   \n",
       "356251           NaN  ...                       0.0                       0.0   \n",
       "356252           0.0  ...                       0.0                       0.0   \n",
       "356253           0.0  ...                       0.0                       0.0   \n",
       "356254           0.0  ...                       0.0                       0.0   \n",
       "\n",
       "        DEF_60_CNT_SOCIAL_CIRCLE  DAYS_LAST_PHONE_CHANGE   \n",
       "0                            0.0                     0.0  \\\n",
       "1                            0.0                     0.0   \n",
       "2                            0.0                     0.0   \n",
       "3                            0.0                     0.0   \n",
       "4                            0.0                     0.0   \n",
       "...                          ...                     ...   \n",
       "356250                       0.0                     0.0   \n",
       "356251                       0.0                     0.0   \n",
       "356252                       0.0                     0.0   \n",
       "356253                       0.0                     0.0   \n",
       "356254                       0.0                     0.0   \n",
       "\n",
       "        AMT_REQ_CREDIT_BUREAU_HOUR  AMT_REQ_CREDIT_BUREAU_DAY   \n",
       "0                              0.0                        0.0  \\\n",
       "1                              0.0                        0.0   \n",
       "2                              0.0                        0.0   \n",
       "3                              NaN                        NaN   \n",
       "4                              0.0                        0.0   \n",
       "...                            ...                        ...   \n",
       "356250                         0.0                        0.0   \n",
       "356251                         NaN                        NaN   \n",
       "356252                         0.0                        0.0   \n",
       "356253                         0.0                        0.0   \n",
       "356254                         0.0                        0.0   \n",
       "\n",
       "        AMT_REQ_CREDIT_BUREAU_WEEK  AMT_REQ_CREDIT_BUREAU_MON   \n",
       "0                              0.0                        0.0  \\\n",
       "1                              0.0                        0.0   \n",
       "2                              0.0                        0.0   \n",
       "3                              NaN                        NaN   \n",
       "4                              0.0                        0.0   \n",
       "...                            ...                        ...   \n",
       "356250                         0.0                        0.0   \n",
       "356251                         NaN                        NaN   \n",
       "356252                         0.0                        0.0   \n",
       "356253                         0.0                        0.0   \n",
       "356254                         0.0                        0.0   \n",
       "\n",
       "        AMT_REQ_CREDIT_BUREAU_QRT  AMT_REQ_CREDIT_BUREAU_YEAR  \n",
       "0                             0.0                         0.0  \n",
       "1                             0.0                         0.0  \n",
       "2                             0.0                         0.0  \n",
       "3                             NaN                         NaN  \n",
       "4                             0.0                         0.0  \n",
       "...                           ...                         ...  \n",
       "356250                        0.0                         0.0  \n",
       "356251                        NaN                         NaN  \n",
       "356252                        0.0                         0.0  \n",
       "356253                        0.0                         0.0  \n",
       "356254                        0.0                         0.0  \n",
       "\n",
       "[347653 rows x 68 columns]"
      ]
     },
     "metadata": {},
     "output_type": "display_data"
    }
   ],
   "source": [
    "display(diff.loc[is_diff.any(axis=1), is_diff.any()])"
   ]
  },
  {
   "attachments": {},
   "cell_type": "markdown",
   "metadata": {},
   "source": [
    "## Hot encoding\n",
    "\n",
    "Les tables `application_{train|test}` ont typiquement de nombreuses variables catégorielles.\n",
    "\n",
    "Le critère choisi par la version de référence de `dtype == object` est discutable.\n",
    "\n",
    "Nous aurons intérêt à encoder à chaud, par exemple, les variables binaires dont le `dtype` est `int`.\n",
    "\n",
    "Les variables entières avec un nombre restreint de modalités auront également, pour nombre d'entre elles, intérêt à être considérées comme des catégories, y compris si elles représentent des cardinaux (nombre d'ascenseurs, nombre d'enfants par exemple), et pas seulement dans le cas des ordinaux (heure de la journée par exemple).\n",
    "\n",
    "Notre amélioration va donc se concentrer sur la sélection des variables considérées comme catégorielles, avec une sélection par défaut isofonctionnelle au noyau de référence."
   ]
  },
  {
   "cell_type": "code",
   "execution_count": null,
   "metadata": {},
   "outputs": [],
   "source": [
    "import pandas as pd\n",
    "\n",
    "# One-hot encoding for categorical columns with get_dummies\n",
    "def one_hot_encoder(df, nan_as_category=True):\n",
    "    original_columns = list(df.columns)\n",
    "    categorical_columns = [col for col in df.columns if df[col].dtype == 'object']\n",
    "    df = pd.get_dummies(df, columns=categorical_columns, dummy_na=nan_as_category)\n",
    "    new_columns = [c for c in df.columns if c not in original_columns]\n",
    "    return df, new_columns"
   ]
  },
  {
   "attachments": {},
   "cell_type": "markdown",
   "metadata": {},
   "source": [
    "### Sélection des variables catégorielles"
   ]
  },
  {
   "cell_type": "code",
   "execution_count": null,
   "metadata": {},
   "outputs": [
    {
     "data": {
      "text/html": [
       "<div>\n",
       "<style scoped>\n",
       "    .dataframe tbody tr th:only-of-type {\n",
       "        vertical-align: middle;\n",
       "    }\n",
       "\n",
       "    .dataframe tbody tr th {\n",
       "        vertical-align: top;\n",
       "    }\n",
       "\n",
       "    .dataframe thead th {\n",
       "        text-align: right;\n",
       "    }\n",
       "</style>\n",
       "<table border=\"1\" class=\"dataframe\">\n",
       "  <thead>\n",
       "    <tr style=\"text-align: right;\">\n",
       "      <th>application_train</th>\n",
       "      <th>SK_ID_CURR</th>\n",
       "      <th>TARGET</th>\n",
       "      <th>NAME_CONTRACT_TYPE</th>\n",
       "      <th>CODE_GENDER</th>\n",
       "      <th>FLAG_OWN_CAR</th>\n",
       "      <th>FLAG_OWN_REALTY</th>\n",
       "      <th>CNT_CHILDREN</th>\n",
       "      <th>AMT_INCOME_TOTAL</th>\n",
       "      <th>AMT_CREDIT</th>\n",
       "      <th>AMT_ANNUITY</th>\n",
       "      <th>...</th>\n",
       "      <th>FLAG_DOCUMENT_18</th>\n",
       "      <th>FLAG_DOCUMENT_19</th>\n",
       "      <th>FLAG_DOCUMENT_20</th>\n",
       "      <th>FLAG_DOCUMENT_21</th>\n",
       "      <th>AMT_REQ_CREDIT_BUREAU_HOUR</th>\n",
       "      <th>AMT_REQ_CREDIT_BUREAU_DAY</th>\n",
       "      <th>AMT_REQ_CREDIT_BUREAU_WEEK</th>\n",
       "      <th>AMT_REQ_CREDIT_BUREAU_MON</th>\n",
       "      <th>AMT_REQ_CREDIT_BUREAU_QRT</th>\n",
       "      <th>AMT_REQ_CREDIT_BUREAU_YEAR</th>\n",
       "    </tr>\n",
       "  </thead>\n",
       "  <tbody>\n",
       "    <tr>\n",
       "      <th>0</th>\n",
       "      <td>100002</td>\n",
       "      <td>1</td>\n",
       "      <td>Cash loans</td>\n",
       "      <td>M</td>\n",
       "      <td>N</td>\n",
       "      <td>Y</td>\n",
       "      <td>0</td>\n",
       "      <td>202500.0</td>\n",
       "      <td>406597.5</td>\n",
       "      <td>24700.5</td>\n",
       "      <td>...</td>\n",
       "      <td>0</td>\n",
       "      <td>0</td>\n",
       "      <td>0</td>\n",
       "      <td>0</td>\n",
       "      <td>0.0</td>\n",
       "      <td>0.0</td>\n",
       "      <td>0.0</td>\n",
       "      <td>0.0</td>\n",
       "      <td>0.0</td>\n",
       "      <td>1.0</td>\n",
       "    </tr>\n",
       "    <tr>\n",
       "      <th>1</th>\n",
       "      <td>100003</td>\n",
       "      <td>0</td>\n",
       "      <td>Cash loans</td>\n",
       "      <td>F</td>\n",
       "      <td>N</td>\n",
       "      <td>N</td>\n",
       "      <td>0</td>\n",
       "      <td>270000.0</td>\n",
       "      <td>1293502.5</td>\n",
       "      <td>35698.5</td>\n",
       "      <td>...</td>\n",
       "      <td>0</td>\n",
       "      <td>0</td>\n",
       "      <td>0</td>\n",
       "      <td>0</td>\n",
       "      <td>0.0</td>\n",
       "      <td>0.0</td>\n",
       "      <td>0.0</td>\n",
       "      <td>0.0</td>\n",
       "      <td>0.0</td>\n",
       "      <td>0.0</td>\n",
       "    </tr>\n",
       "    <tr>\n",
       "      <th>2</th>\n",
       "      <td>100004</td>\n",
       "      <td>0</td>\n",
       "      <td>Revolving loans</td>\n",
       "      <td>M</td>\n",
       "      <td>Y</td>\n",
       "      <td>Y</td>\n",
       "      <td>0</td>\n",
       "      <td>67500.0</td>\n",
       "      <td>135000.0</td>\n",
       "      <td>6750.0</td>\n",
       "      <td>...</td>\n",
       "      <td>0</td>\n",
       "      <td>0</td>\n",
       "      <td>0</td>\n",
       "      <td>0</td>\n",
       "      <td>0.0</td>\n",
       "      <td>0.0</td>\n",
       "      <td>0.0</td>\n",
       "      <td>0.0</td>\n",
       "      <td>0.0</td>\n",
       "      <td>0.0</td>\n",
       "    </tr>\n",
       "  </tbody>\n",
       "</table>\n",
       "<p>3 rows × 122 columns</p>\n",
       "</div>"
      ],
      "text/plain": [
       "application_train  SK_ID_CURR  TARGET NAME_CONTRACT_TYPE CODE_GENDER   \n",
       "0                      100002       1         Cash loans           M  \\\n",
       "1                      100003       0         Cash loans           F   \n",
       "2                      100004       0    Revolving loans           M   \n",
       "\n",
       "application_train FLAG_OWN_CAR FLAG_OWN_REALTY  CNT_CHILDREN   \n",
       "0                            N               Y             0  \\\n",
       "1                            N               N             0   \n",
       "2                            Y               Y             0   \n",
       "\n",
       "application_train  AMT_INCOME_TOTAL  AMT_CREDIT  AMT_ANNUITY  ...   \n",
       "0                          202500.0    406597.5      24700.5  ...  \\\n",
       "1                          270000.0   1293502.5      35698.5  ...   \n",
       "2                           67500.0    135000.0       6750.0  ...   \n",
       "\n",
       "application_train  FLAG_DOCUMENT_18 FLAG_DOCUMENT_19 FLAG_DOCUMENT_20   \n",
       "0                                 0                0                0  \\\n",
       "1                                 0                0                0   \n",
       "2                                 0                0                0   \n",
       "\n",
       "application_train FLAG_DOCUMENT_21 AMT_REQ_CREDIT_BUREAU_HOUR   \n",
       "0                                0                        0.0  \\\n",
       "1                                0                        0.0   \n",
       "2                                0                        0.0   \n",
       "\n",
       "application_train AMT_REQ_CREDIT_BUREAU_DAY  AMT_REQ_CREDIT_BUREAU_WEEK   \n",
       "0                                       0.0                         0.0  \\\n",
       "1                                       0.0                         0.0   \n",
       "2                                       0.0                         0.0   \n",
       "\n",
       "application_train  AMT_REQ_CREDIT_BUREAU_MON  AMT_REQ_CREDIT_BUREAU_QRT   \n",
       "0                                        0.0                        0.0  \\\n",
       "1                                        0.0                        0.0   \n",
       "2                                        0.0                        0.0   \n",
       "\n",
       "application_train  AMT_REQ_CREDIT_BUREAU_YEAR  \n",
       "0                                         1.0  \n",
       "1                                         0.0  \n",
       "2                                         0.0  \n",
       "\n",
       "[3 rows x 122 columns]"
      ]
     },
     "metadata": {},
     "output_type": "display_data"
    }
   ],
   "source": [
    "from home_credit.load import get_application_train\n",
    "df = get_application_train()\n",
    "display(df.head(3))"
   ]
  },
  {
   "cell_type": "code",
   "execution_count": null,
   "metadata": {},
   "outputs": [
    {
     "data": {
      "text/plain": [
       "['NAME_CONTRACT_TYPE',\n",
       " 'CODE_GENDER',\n",
       " 'FLAG_OWN_CAR',\n",
       " 'FLAG_OWN_REALTY',\n",
       " 'NAME_TYPE_SUITE',\n",
       " 'NAME_INCOME_TYPE',\n",
       " 'NAME_EDUCATION_TYPE',\n",
       " 'NAME_FAMILY_STATUS',\n",
       " 'NAME_HOUSING_TYPE',\n",
       " 'OCCUPATION_TYPE',\n",
       " 'WEEKDAY_APPR_PROCESS_START',\n",
       " 'ORGANIZATION_TYPE',\n",
       " 'FONDKAPREMONT_MODE',\n",
       " 'HOUSETYPE_MODE',\n",
       " 'WALLSMATERIAL_MODE',\n",
       " 'EMERGENCYSTATE_MODE']"
      ]
     },
     "metadata": {},
     "output_type": "display_data"
    }
   ],
   "source": [
    "original_columns = list(df.columns)\n",
    "categorical_columns = [col for col in df.columns if df[col].dtype == 'object']\n",
    "display(categorical_columns)"
   ]
  },
  {
   "cell_type": "code",
   "execution_count": null,
   "metadata": {},
   "outputs": [
    {
     "data": {
      "text/plain": [
       "['NAME_CONTRACT_TYPE',\n",
       " 'CODE_GENDER',\n",
       " 'FLAG_OWN_CAR',\n",
       " 'FLAG_OWN_REALTY',\n",
       " 'NAME_TYPE_SUITE',\n",
       " 'NAME_INCOME_TYPE',\n",
       " 'NAME_EDUCATION_TYPE',\n",
       " 'NAME_FAMILY_STATUS',\n",
       " 'NAME_HOUSING_TYPE',\n",
       " 'OCCUPATION_TYPE',\n",
       " 'WEEKDAY_APPR_PROCESS_START',\n",
       " 'ORGANIZATION_TYPE',\n",
       " 'FONDKAPREMONT_MODE',\n",
       " 'HOUSETYPE_MODE',\n",
       " 'WALLSMATERIAL_MODE',\n",
       " 'EMERGENCYSTATE_MODE']"
      ]
     },
     "metadata": {},
     "output_type": "display_data"
    },
    {
     "data": {
      "text/plain": [
       "['TARGET',\n",
       " 'NAME_CONTRACT_TYPE',\n",
       " 'FLAG_OWN_CAR',\n",
       " 'FLAG_OWN_REALTY',\n",
       " 'FLAG_MOBIL',\n",
       " 'FLAG_EMP_PHONE',\n",
       " 'FLAG_WORK_PHONE',\n",
       " 'FLAG_CONT_MOBILE',\n",
       " 'FLAG_PHONE',\n",
       " 'FLAG_EMAIL',\n",
       " 'REG_REGION_NOT_LIVE_REGION',\n",
       " 'REG_REGION_NOT_WORK_REGION',\n",
       " 'LIVE_REGION_NOT_WORK_REGION',\n",
       " 'REG_CITY_NOT_LIVE_CITY',\n",
       " 'REG_CITY_NOT_WORK_CITY',\n",
       " 'LIVE_CITY_NOT_WORK_CITY',\n",
       " 'EMERGENCYSTATE_MODE',\n",
       " 'FLAG_DOCUMENT_2',\n",
       " 'FLAG_DOCUMENT_3',\n",
       " 'FLAG_DOCUMENT_4',\n",
       " 'FLAG_DOCUMENT_5',\n",
       " 'FLAG_DOCUMENT_6',\n",
       " 'FLAG_DOCUMENT_7',\n",
       " 'FLAG_DOCUMENT_8',\n",
       " 'FLAG_DOCUMENT_9',\n",
       " 'FLAG_DOCUMENT_10',\n",
       " 'FLAG_DOCUMENT_11',\n",
       " 'FLAG_DOCUMENT_12',\n",
       " 'FLAG_DOCUMENT_13',\n",
       " 'FLAG_DOCUMENT_14',\n",
       " 'FLAG_DOCUMENT_15',\n",
       " 'FLAG_DOCUMENT_16',\n",
       " 'FLAG_DOCUMENT_17',\n",
       " 'FLAG_DOCUMENT_18',\n",
       " 'FLAG_DOCUMENT_19',\n",
       " 'FLAG_DOCUMENT_20',\n",
       " 'FLAG_DOCUMENT_21']"
      ]
     },
     "metadata": {},
     "output_type": "display_data"
    }
   ],
   "source": [
    "from home_credit.lightgbm_kernel_v2 import get_categorical_vars\n",
    "display(get_categorical_vars(df))\n",
    "display(get_categorical_vars(df, dtype=None, max_modalities=2))"
   ]
  },
  {
   "attachments": {},
   "cell_type": "markdown",
   "metadata": {},
   "source": [
    "### Hot encoding avec `get_dummies`\n",
    "\n",
    "Voir la documentation utilisateur de Pandas 2.0 : https://pandas.pydata.org/docs/user_guide/reshaping.html#reshaping-dummies\n",
    "\n",
    "Elle illustre notamment l'utilisation conjointe avec `cut`.\n",
    "\n",
    "`get_dummy` peut produire un tableau dense (par défaut) ou creux (voir https://pandas.pydata.org/docs/reference/api/pandas.arrays.SparseArray.html)."
   ]
  },
  {
   "attachments": {},
   "cell_type": "markdown",
   "metadata": {},
   "source": [
    "#### Comment ça marche ?"
   ]
  },
  {
   "cell_type": "code",
   "execution_count": null,
   "metadata": {},
   "outputs": [
    {
     "data": {
      "text/html": [
       "<div>\n",
       "<style scoped>\n",
       "    .dataframe tbody tr th:only-of-type {\n",
       "        vertical-align: middle;\n",
       "    }\n",
       "\n",
       "    .dataframe tbody tr th {\n",
       "        vertical-align: top;\n",
       "    }\n",
       "\n",
       "    .dataframe thead th {\n",
       "        text-align: right;\n",
       "    }\n",
       "</style>\n",
       "<table border=\"1\" class=\"dataframe\">\n",
       "  <thead>\n",
       "    <tr style=\"text-align: right;\">\n",
       "      <th></th>\n",
       "      <th>CODE_GENDER</th>\n",
       "      <th>F</th>\n",
       "      <th>M</th>\n",
       "      <th>XNA</th>\n",
       "      <th>F</th>\n",
       "      <th>M</th>\n",
       "      <th>XNA</th>\n",
       "    </tr>\n",
       "  </thead>\n",
       "  <tbody>\n",
       "    <tr>\n",
       "      <th>0</th>\n",
       "      <td>M</td>\n",
       "      <td>False</td>\n",
       "      <td>True</td>\n",
       "      <td>False</td>\n",
       "      <td>0</td>\n",
       "      <td>1</td>\n",
       "      <td>0</td>\n",
       "    </tr>\n",
       "    <tr>\n",
       "      <th>1</th>\n",
       "      <td>F</td>\n",
       "      <td>True</td>\n",
       "      <td>False</td>\n",
       "      <td>False</td>\n",
       "      <td>1</td>\n",
       "      <td>0</td>\n",
       "      <td>0</td>\n",
       "    </tr>\n",
       "    <tr>\n",
       "      <th>2</th>\n",
       "      <td>M</td>\n",
       "      <td>False</td>\n",
       "      <td>True</td>\n",
       "      <td>False</td>\n",
       "      <td>0</td>\n",
       "      <td>1</td>\n",
       "      <td>0</td>\n",
       "    </tr>\n",
       "  </tbody>\n",
       "</table>\n",
       "</div>"
      ],
      "text/plain": [
       "  CODE_GENDER      F      M    XNA  F  M  XNA\n",
       "0           M  False   True  False  0  1    0\n",
       "1           F   True  False  False  1  0    0\n",
       "2           M  False   True  False  0  1    0"
      ]
     },
     "metadata": {},
     "output_type": "display_data"
    }
   ],
   "source": [
    "import pandas as pd\n",
    "a = df.CODE_GENDER\n",
    "b = pd.get_dummies(a)\n",
    "c = a.str.get_dummies()\n",
    "display(pd.concat([a, b, c], axis=1).head(3))"
   ]
  },
  {
   "cell_type": "code",
   "execution_count": null,
   "metadata": {},
   "outputs": [
    {
     "data": {
      "text/html": [
       "<div>\n",
       "<style scoped>\n",
       "    .dataframe tbody tr th:only-of-type {\n",
       "        vertical-align: middle;\n",
       "    }\n",
       "\n",
       "    .dataframe tbody tr th {\n",
       "        vertical-align: top;\n",
       "    }\n",
       "\n",
       "    .dataframe thead th {\n",
       "        text-align: right;\n",
       "    }\n",
       "</style>\n",
       "<table border=\"1\" class=\"dataframe\">\n",
       "  <thead>\n",
       "    <tr style=\"text-align: right;\">\n",
       "      <th></th>\n",
       "      <th>NAME_CONTRACT_TYPE</th>\n",
       "      <th>CODE_GENDER</th>\n",
       "      <th>NAME_CONTRACT_TYPE_Cash loans</th>\n",
       "      <th>NAME_CONTRACT_TYPE_Revolving loans</th>\n",
       "      <th>NAME_CONTRACT_TYPE_nan</th>\n",
       "      <th>CODE_GENDER_F</th>\n",
       "      <th>CODE_GENDER_M</th>\n",
       "      <th>CODE_GENDER_XNA</th>\n",
       "      <th>CODE_GENDER_nan</th>\n",
       "    </tr>\n",
       "  </thead>\n",
       "  <tbody>\n",
       "    <tr>\n",
       "      <th>0</th>\n",
       "      <td>Cash loans</td>\n",
       "      <td>M</td>\n",
       "      <td>True</td>\n",
       "      <td>False</td>\n",
       "      <td>False</td>\n",
       "      <td>False</td>\n",
       "      <td>True</td>\n",
       "      <td>False</td>\n",
       "      <td>False</td>\n",
       "    </tr>\n",
       "    <tr>\n",
       "      <th>1</th>\n",
       "      <td>Cash loans</td>\n",
       "      <td>F</td>\n",
       "      <td>True</td>\n",
       "      <td>False</td>\n",
       "      <td>False</td>\n",
       "      <td>True</td>\n",
       "      <td>False</td>\n",
       "      <td>False</td>\n",
       "      <td>False</td>\n",
       "    </tr>\n",
       "    <tr>\n",
       "      <th>2</th>\n",
       "      <td>Revolving loans</td>\n",
       "      <td>M</td>\n",
       "      <td>False</td>\n",
       "      <td>True</td>\n",
       "      <td>False</td>\n",
       "      <td>False</td>\n",
       "      <td>True</td>\n",
       "      <td>False</td>\n",
       "      <td>False</td>\n",
       "    </tr>\n",
       "  </tbody>\n",
       "</table>\n",
       "</div>"
      ],
      "text/plain": [
       "  NAME_CONTRACT_TYPE CODE_GENDER  NAME_CONTRACT_TYPE_Cash loans   \n",
       "0         Cash loans           M                           True  \\\n",
       "1         Cash loans           F                           True   \n",
       "2    Revolving loans           M                          False   \n",
       "\n",
       "   NAME_CONTRACT_TYPE_Revolving loans  NAME_CONTRACT_TYPE_nan  CODE_GENDER_F   \n",
       "0                               False                   False          False  \\\n",
       "1                               False                   False           True   \n",
       "2                                True                   False          False   \n",
       "\n",
       "   CODE_GENDER_M  CODE_GENDER_XNA  CODE_GENDER_nan  \n",
       "0           True            False            False  \n",
       "1          False            False            False  \n",
       "2           True            False            False  "
      ]
     },
     "metadata": {},
     "output_type": "display_data"
    }
   ],
   "source": [
    "x = df[[\"NAME_CONTRACT_TYPE\", \"CODE_GENDER\"]]\n",
    "y = pd.get_dummies(x, dummy_na=True)\n",
    "display(pd.concat([x, y], axis=1).head(3))"
   ]
  },
  {
   "attachments": {},
   "cell_type": "markdown",
   "metadata": {},
   "source": [
    "#### Le cas des NA"
   ]
  },
  {
   "cell_type": "code",
   "execution_count": null,
   "metadata": {},
   "outputs": [
    {
     "data": {
      "text/plain": [
       "CODE_GENDER\n",
       "F      202448\n",
       "M      105059\n",
       "XNA         4\n",
       "Name: count, dtype: int64"
      ]
     },
     "metadata": {},
     "output_type": "display_data"
    },
    {
     "data": {
      "text/plain": [
       "CODE_GENDER_XNA\n",
       "False    307507\n",
       "True          4\n",
       "Name: count, dtype: int64"
      ]
     },
     "metadata": {},
     "output_type": "display_data"
    },
    {
     "data": {
      "text/plain": [
       "CODE_GENDER_nan\n",
       "False    307511\n",
       "Name: count, dtype: int64"
      ]
     },
     "metadata": {},
     "output_type": "display_data"
    }
   ],
   "source": [
    "# deux pb avec les NA :\n",
    "# 1/ leur codage spécial => convertir en vrai NA\n",
    "# 2/ si dummy_na=True mais qu'il n'y en a pas => une colonne pour rien\n",
    "# la soluce : générer puis supprimer les constantes\n",
    "display(a.value_counts(dropna=False))\n",
    "display(y.CODE_GENDER_XNA.value_counts(dropna=False))\n",
    "display(y.CODE_GENDER_nan.value_counts(dropna=False))"
   ]
  },
  {
   "attachments": {},
   "cell_type": "markdown",
   "metadata": {},
   "source": [
    "#### Suppression des colonnes constantes (non NA)"
   ]
  },
  {
   "cell_type": "code",
   "execution_count": null,
   "metadata": {},
   "outputs": [
    {
     "name": "stdout",
     "output_type": "stream",
     "text": [
      "['NAME_CONTRACT_TYPE_nan', 'CODE_GENDER_nan']\n"
     ]
    },
    {
     "data": {
      "text/html": [
       "<div>\n",
       "<style scoped>\n",
       "    .dataframe tbody tr th:only-of-type {\n",
       "        vertical-align: middle;\n",
       "    }\n",
       "\n",
       "    .dataframe tbody tr th {\n",
       "        vertical-align: top;\n",
       "    }\n",
       "\n",
       "    .dataframe thead th {\n",
       "        text-align: right;\n",
       "    }\n",
       "</style>\n",
       "<table border=\"1\" class=\"dataframe\">\n",
       "  <thead>\n",
       "    <tr style=\"text-align: right;\">\n",
       "      <th></th>\n",
       "      <th>NAME_CONTRACT_TYPE_Cash loans</th>\n",
       "      <th>NAME_CONTRACT_TYPE_Revolving loans</th>\n",
       "      <th>CODE_GENDER_F</th>\n",
       "      <th>CODE_GENDER_M</th>\n",
       "      <th>CODE_GENDER_XNA</th>\n",
       "    </tr>\n",
       "  </thead>\n",
       "  <tbody>\n",
       "    <tr>\n",
       "      <th>0</th>\n",
       "      <td>True</td>\n",
       "      <td>False</td>\n",
       "      <td>False</td>\n",
       "      <td>True</td>\n",
       "      <td>False</td>\n",
       "    </tr>\n",
       "    <tr>\n",
       "      <th>1</th>\n",
       "      <td>True</td>\n",
       "      <td>False</td>\n",
       "      <td>True</td>\n",
       "      <td>False</td>\n",
       "      <td>False</td>\n",
       "    </tr>\n",
       "    <tr>\n",
       "      <th>2</th>\n",
       "      <td>False</td>\n",
       "      <td>True</td>\n",
       "      <td>False</td>\n",
       "      <td>True</td>\n",
       "      <td>False</td>\n",
       "    </tr>\n",
       "    <tr>\n",
       "      <th>3</th>\n",
       "      <td>True</td>\n",
       "      <td>False</td>\n",
       "      <td>True</td>\n",
       "      <td>False</td>\n",
       "      <td>False</td>\n",
       "    </tr>\n",
       "    <tr>\n",
       "      <th>4</th>\n",
       "      <td>True</td>\n",
       "      <td>False</td>\n",
       "      <td>False</td>\n",
       "      <td>True</td>\n",
       "      <td>False</td>\n",
       "    </tr>\n",
       "    <tr>\n",
       "      <th>...</th>\n",
       "      <td>...</td>\n",
       "      <td>...</td>\n",
       "      <td>...</td>\n",
       "      <td>...</td>\n",
       "      <td>...</td>\n",
       "    </tr>\n",
       "    <tr>\n",
       "      <th>307506</th>\n",
       "      <td>True</td>\n",
       "      <td>False</td>\n",
       "      <td>False</td>\n",
       "      <td>True</td>\n",
       "      <td>False</td>\n",
       "    </tr>\n",
       "    <tr>\n",
       "      <th>307507</th>\n",
       "      <td>True</td>\n",
       "      <td>False</td>\n",
       "      <td>True</td>\n",
       "      <td>False</td>\n",
       "      <td>False</td>\n",
       "    </tr>\n",
       "    <tr>\n",
       "      <th>307508</th>\n",
       "      <td>True</td>\n",
       "      <td>False</td>\n",
       "      <td>True</td>\n",
       "      <td>False</td>\n",
       "      <td>False</td>\n",
       "    </tr>\n",
       "    <tr>\n",
       "      <th>307509</th>\n",
       "      <td>True</td>\n",
       "      <td>False</td>\n",
       "      <td>True</td>\n",
       "      <td>False</td>\n",
       "      <td>False</td>\n",
       "    </tr>\n",
       "    <tr>\n",
       "      <th>307510</th>\n",
       "      <td>True</td>\n",
       "      <td>False</td>\n",
       "      <td>True</td>\n",
       "      <td>False</td>\n",
       "      <td>False</td>\n",
       "    </tr>\n",
       "  </tbody>\n",
       "</table>\n",
       "<p>307511 rows × 5 columns</p>\n",
       "</div>"
      ],
      "text/plain": [
       "        NAME_CONTRACT_TYPE_Cash loans  NAME_CONTRACT_TYPE_Revolving loans   \n",
       "0                                True                               False  \\\n",
       "1                                True                               False   \n",
       "2                               False                                True   \n",
       "3                                True                               False   \n",
       "4                                True                               False   \n",
       "...                               ...                                 ...   \n",
       "307506                           True                               False   \n",
       "307507                           True                               False   \n",
       "307508                           True                               False   \n",
       "307509                           True                               False   \n",
       "307510                           True                               False   \n",
       "\n",
       "        CODE_GENDER_F  CODE_GENDER_M  CODE_GENDER_XNA  \n",
       "0               False           True            False  \n",
       "1                True          False            False  \n",
       "2               False           True            False  \n",
       "3                True          False            False  \n",
       "4               False           True            False  \n",
       "...               ...            ...              ...  \n",
       "307506          False           True            False  \n",
       "307507           True          False            False  \n",
       "307508           True          False            False  \n",
       "307509           True          False            False  \n",
       "307510           True          False            False  \n",
       "\n",
       "[307511 rows x 5 columns]"
      ]
     },
     "metadata": {},
     "output_type": "display_data"
    }
   ],
   "source": [
    "z = y.apply(pd.Series.nunique)\n",
    "# Cette version générale est plus secure,\n",
    "# mais celle qui précède est suffisante dans le contexte d'utilisation\n",
    "# z = y.apply(lambda s: pd.Series.nunique(s, dropna=False))\n",
    "print(list(z[z == 1].index))\n",
    "truc = y.drop(columns=z[z == 1].index)\n",
    "display(truc)"
   ]
  },
  {
   "attachments": {},
   "cell_type": "markdown",
   "metadata": {},
   "source": [
    "#### Intérêt de `drop_first`\n",
    "\n",
    "N'oublions pas que près de 20 % des variables sont binaires.\n",
    "\n",
    "Souhaitons en faire 40 ou bien 80 colonnes ?"
   ]
  },
  {
   "cell_type": "code",
   "execution_count": null,
   "metadata": {},
   "outputs": [
    {
     "data": {
      "text/html": [
       "<div>\n",
       "<style scoped>\n",
       "    .dataframe tbody tr th:only-of-type {\n",
       "        vertical-align: middle;\n",
       "    }\n",
       "\n",
       "    .dataframe tbody tr th {\n",
       "        vertical-align: top;\n",
       "    }\n",
       "\n",
       "    .dataframe thead th {\n",
       "        text-align: right;\n",
       "    }\n",
       "</style>\n",
       "<table border=\"1\" class=\"dataframe\">\n",
       "  <thead>\n",
       "    <tr style=\"text-align: right;\">\n",
       "      <th></th>\n",
       "      <th>NAME_CONTRACT_TYPE</th>\n",
       "      <th>CODE_GENDER</th>\n",
       "      <th>NAME_CONTRACT_TYPE_Revolving loans</th>\n",
       "      <th>NAME_CONTRACT_TYPE_nan</th>\n",
       "      <th>CODE_GENDER_M</th>\n",
       "      <th>CODE_GENDER_XNA</th>\n",
       "      <th>CODE_GENDER_nan</th>\n",
       "    </tr>\n",
       "  </thead>\n",
       "  <tbody>\n",
       "    <tr>\n",
       "      <th>0</th>\n",
       "      <td>Cash loans</td>\n",
       "      <td>M</td>\n",
       "      <td>False</td>\n",
       "      <td>False</td>\n",
       "      <td>True</td>\n",
       "      <td>False</td>\n",
       "      <td>False</td>\n",
       "    </tr>\n",
       "    <tr>\n",
       "      <th>1</th>\n",
       "      <td>Cash loans</td>\n",
       "      <td>F</td>\n",
       "      <td>False</td>\n",
       "      <td>False</td>\n",
       "      <td>False</td>\n",
       "      <td>False</td>\n",
       "      <td>False</td>\n",
       "    </tr>\n",
       "    <tr>\n",
       "      <th>2</th>\n",
       "      <td>Revolving loans</td>\n",
       "      <td>M</td>\n",
       "      <td>True</td>\n",
       "      <td>False</td>\n",
       "      <td>True</td>\n",
       "      <td>False</td>\n",
       "      <td>False</td>\n",
       "    </tr>\n",
       "  </tbody>\n",
       "</table>\n",
       "</div>"
      ],
      "text/plain": [
       "  NAME_CONTRACT_TYPE CODE_GENDER  NAME_CONTRACT_TYPE_Revolving loans   \n",
       "0         Cash loans           M                               False  \\\n",
       "1         Cash loans           F                               False   \n",
       "2    Revolving loans           M                                True   \n",
       "\n",
       "   NAME_CONTRACT_TYPE_nan  CODE_GENDER_M  CODE_GENDER_XNA  CODE_GENDER_nan  \n",
       "0                   False           True            False            False  \n",
       "1                   False          False            False            False  \n",
       "2                   False           True            False            False  "
      ]
     },
     "metadata": {},
     "output_type": "display_data"
    },
    {
     "name": "stdout",
     "output_type": "stream",
     "text": [
      "Index                                    128\n",
      "NAME_CONTRACT_TYPE_Revolving loans    307511\n",
      "NAME_CONTRACT_TYPE_nan                307511\n",
      "CODE_GENDER_M                         307511\n",
      "CODE_GENDER_XNA                       307511\n",
      "CODE_GENDER_nan                       307511\n",
      "dtype: int64\n",
      "1537683\n"
     ]
    }
   ],
   "source": [
    "# drop first : pertinent par exemple pour qu'une variable binaire ne donne pas deux colonnes\n",
    "# ces deux colonnes seraient parfaitement anti-corrélées, donc corrélées\n",
    "# logiquement, c'est l'un des premiers trucs qu'élimine une réduction de dimensionnalité\n",
    "# le vérifier, en le conservant comme une option par défaut à True (à l'opposé de la valeur par défaut)\n",
    "x = df[[\"NAME_CONTRACT_TYPE\", \"CODE_GENDER\"]]\n",
    "y = pd.get_dummies(x, dummy_na=True, drop_first=True)\n",
    "display(pd.concat([x, y], axis=1).head(3))\n",
    "m = y.memory_usage(deep=True)\n",
    "print(m)\n",
    "print(m.sum())"
   ]
  },
  {
   "attachments": {},
   "cell_type": "markdown",
   "metadata": {},
   "source": [
    "#### Question de l'empreinte mémoire\n",
    "\n",
    "Faut-il des bools, des entiers int8, une matrice creuse, ... ?"
   ]
  },
  {
   "cell_type": "code",
   "execution_count": null,
   "metadata": {},
   "outputs": [
    {
     "data": {
      "text/html": [
       "<div>\n",
       "<style scoped>\n",
       "    .dataframe tbody tr th:only-of-type {\n",
       "        vertical-align: middle;\n",
       "    }\n",
       "\n",
       "    .dataframe tbody tr th {\n",
       "        vertical-align: top;\n",
       "    }\n",
       "\n",
       "    .dataframe thead th {\n",
       "        text-align: right;\n",
       "    }\n",
       "</style>\n",
       "<table border=\"1\" class=\"dataframe\">\n",
       "  <thead>\n",
       "    <tr style=\"text-align: right;\">\n",
       "      <th></th>\n",
       "      <th>NAME_CONTRACT_TYPE</th>\n",
       "      <th>CODE_GENDER</th>\n",
       "      <th>NAME_CONTRACT_TYPE_Revolving loans</th>\n",
       "      <th>NAME_CONTRACT_TYPE_nan</th>\n",
       "      <th>CODE_GENDER_M</th>\n",
       "      <th>CODE_GENDER_XNA</th>\n",
       "      <th>CODE_GENDER_nan</th>\n",
       "    </tr>\n",
       "  </thead>\n",
       "  <tbody>\n",
       "    <tr>\n",
       "      <th>0</th>\n",
       "      <td>Cash loans</td>\n",
       "      <td>M</td>\n",
       "      <td>0</td>\n",
       "      <td>0</td>\n",
       "      <td>1</td>\n",
       "      <td>0</td>\n",
       "      <td>0</td>\n",
       "    </tr>\n",
       "    <tr>\n",
       "      <th>1</th>\n",
       "      <td>Cash loans</td>\n",
       "      <td>F</td>\n",
       "      <td>0</td>\n",
       "      <td>0</td>\n",
       "      <td>0</td>\n",
       "      <td>0</td>\n",
       "      <td>0</td>\n",
       "    </tr>\n",
       "    <tr>\n",
       "      <th>2</th>\n",
       "      <td>Revolving loans</td>\n",
       "      <td>M</td>\n",
       "      <td>1</td>\n",
       "      <td>0</td>\n",
       "      <td>1</td>\n",
       "      <td>0</td>\n",
       "      <td>0</td>\n",
       "    </tr>\n",
       "  </tbody>\n",
       "</table>\n",
       "</div>"
      ],
      "text/plain": [
       "  NAME_CONTRACT_TYPE CODE_GENDER  NAME_CONTRACT_TYPE_Revolving loans   \n",
       "0         Cash loans           M                                   0  \\\n",
       "1         Cash loans           F                                   0   \n",
       "2    Revolving loans           M                                   1   \n",
       "\n",
       "   NAME_CONTRACT_TYPE_nan  CODE_GENDER_M  CODE_GENDER_XNA  CODE_GENDER_nan  \n",
       "0                       0              1                0                0  \n",
       "1                       0              0                0                0  \n",
       "2                       0              1                0                0  "
      ]
     },
     "metadata": {},
     "output_type": "display_data"
    },
    {
     "name": "stdout",
     "output_type": "stream",
     "text": [
      "Index                                    128\n",
      "NAME_CONTRACT_TYPE_Revolving loans    307511\n",
      "NAME_CONTRACT_TYPE_nan                307511\n",
      "CODE_GENDER_M                         307511\n",
      "CODE_GENDER_XNA                       307511\n",
      "CODE_GENDER_nan                       307511\n",
      "dtype: int64\n",
      "1537683\n"
     ]
    }
   ],
   "source": [
    "import numpy as np\n",
    "x = df[[\"NAME_CONTRACT_TYPE\", \"CODE_GENDER\"]]\n",
    "y = pd.get_dummies(x, dummy_na=True, drop_first=True, dtype=np.int8)\n",
    "display(pd.concat([x, y], axis=1).head(3))\n",
    "m = y.memory_usage(deep=True)\n",
    "print(m)\n",
    "print(m.sum())"
   ]
  },
  {
   "cell_type": "code",
   "execution_count": null,
   "metadata": {},
   "outputs": [
    {
     "data": {
      "text/html": [
       "<div>\n",
       "<style scoped>\n",
       "    .dataframe tbody tr th:only-of-type {\n",
       "        vertical-align: middle;\n",
       "    }\n",
       "\n",
       "    .dataframe tbody tr th {\n",
       "        vertical-align: top;\n",
       "    }\n",
       "\n",
       "    .dataframe thead th {\n",
       "        text-align: right;\n",
       "    }\n",
       "</style>\n",
       "<table border=\"1\" class=\"dataframe\">\n",
       "  <thead>\n",
       "    <tr style=\"text-align: right;\">\n",
       "      <th></th>\n",
       "      <th>NAME_CONTRACT_TYPE</th>\n",
       "      <th>CODE_GENDER</th>\n",
       "      <th>NAME_CONTRACT_TYPE_Revolving loans</th>\n",
       "      <th>NAME_CONTRACT_TYPE_nan</th>\n",
       "      <th>CODE_GENDER_M</th>\n",
       "      <th>CODE_GENDER_XNA</th>\n",
       "      <th>CODE_GENDER_nan</th>\n",
       "    </tr>\n",
       "  </thead>\n",
       "  <tbody>\n",
       "    <tr>\n",
       "      <th>0</th>\n",
       "      <td>Cash loans</td>\n",
       "      <td>M</td>\n",
       "      <td>0</td>\n",
       "      <td>0</td>\n",
       "      <td>1</td>\n",
       "      <td>0</td>\n",
       "      <td>0</td>\n",
       "    </tr>\n",
       "    <tr>\n",
       "      <th>1</th>\n",
       "      <td>Cash loans</td>\n",
       "      <td>F</td>\n",
       "      <td>0</td>\n",
       "      <td>0</td>\n",
       "      <td>0</td>\n",
       "      <td>0</td>\n",
       "      <td>0</td>\n",
       "    </tr>\n",
       "    <tr>\n",
       "      <th>2</th>\n",
       "      <td>Revolving loans</td>\n",
       "      <td>M</td>\n",
       "      <td>1</td>\n",
       "      <td>0</td>\n",
       "      <td>1</td>\n",
       "      <td>0</td>\n",
       "      <td>0</td>\n",
       "    </tr>\n",
       "  </tbody>\n",
       "</table>\n",
       "</div>"
      ],
      "text/plain": [
       "  NAME_CONTRACT_TYPE CODE_GENDER  NAME_CONTRACT_TYPE_Revolving loans   \n",
       "0         Cash loans           M                                   0  \\\n",
       "1         Cash loans           F                                   0   \n",
       "2    Revolving loans           M                                   1   \n",
       "\n",
       "   NAME_CONTRACT_TYPE_nan  CODE_GENDER_M  CODE_GENDER_XNA  CODE_GENDER_nan  \n",
       "0                       0              1                0                0  \n",
       "1                       0              0                0                0  \n",
       "2                       0              1                0                0  "
      ]
     },
     "metadata": {},
     "output_type": "display_data"
    },
    {
     "name": "stdout",
     "output_type": "stream",
     "text": [
      "Index                                    128\n",
      "NAME_CONTRACT_TYPE_Revolving loans    146395\n",
      "NAME_CONTRACT_TYPE_nan                     0\n",
      "CODE_GENDER_M                         525295\n",
      "CODE_GENDER_XNA                           20\n",
      "CODE_GENDER_nan                            0\n",
      "dtype: int64\n",
      "671838\n"
     ]
    }
   ],
   "source": [
    "import numpy as np\n",
    "x = df[[\"NAME_CONTRACT_TYPE\", \"CODE_GENDER\"]]\n",
    "y = pd.get_dummies(x, dummy_na=True, drop_first=True, dtype=np.int8, sparse=True)\n",
    "display(pd.concat([x, y], axis=1).head(3))\n",
    "m = y.memory_usage(deep=True)\n",
    "print(m)\n",
    "print(m.sum())"
   ]
  },
  {
   "attachments": {},
   "cell_type": "markdown",
   "metadata": {},
   "source": [
    "#### Pourquoi ce nom inapproprié `get_dummies` ?\n",
    "\n",
    "Echange avec chatGPT :\n",
    "\n",
    "*Je me demandais pourquoi la fonction get_dummies de Pandas, qui effectue un hot encoding s'appelle comme elle s'appelle. En d'autres termes, quelle histoire à justifié ce nom éloigné de ce qu'elle fait ?*\n",
    "\n",
    "En effet, le nom \"get_dummies\" de la fonction de Pandas peut sembler étrange et éloigné de l'encodage one-hot qu'elle effectue. La raison de ce nom remonte à l'origine de la fonctionnalité qui a été implémentée pour la première fois dans le langage de programmation R. Dans R, la fonction équivalente s'appelle \"dummy variable\", d'où le terme \"dummies\" dans le nom de la fonction de Pandas.\n",
    "\n",
    "Le terme \"dummy variable\" a été introduit dans la théorie de la régression linéaire pour représenter des variables catégorielles qui ne peuvent pas être directement intégrées dans un modèle de régression linéaire. À la place, ces variables catégorielles sont remplacées par un ensemble de variables binaires qui indiquent la présence ou l'absence de chaque catégorie. Ces variables binaires sont souvent appelées \"dummy variables\", d'où le nom de la fonction dans R et, par extension, de la fonction de Pandas.\n",
    "\n",
    "En résumé, le nom \"get_dummies\" de la fonction de Pandas est un héritage du nom de la fonction équivalente dans le langage R, qui lui-même fait référence aux variables binaires qui représentent les catégories dans un modèle de régression linéaire."
   ]
  },
  {
   "attachments": {},
   "cell_type": "markdown",
   "metadata": {},
   "source": [
    "#### Version intégrée de `one_hot_encode_all_cats` :\n",
    "\n",
    "**NB** Il reste, en amont dans les premiers prétraitements, à identifier les NA encodés maison par HomeCredit et à les convertir en vrais NA."
   ]
  },
  {
   "cell_type": "code",
   "execution_count": null,
   "metadata": {},
   "outputs": [
    {
     "data": {
      "text/html": [
       "<div>\n",
       "<style scoped>\n",
       "    .dataframe tbody tr th:only-of-type {\n",
       "        vertical-align: middle;\n",
       "    }\n",
       "\n",
       "    .dataframe tbody tr th {\n",
       "        vertical-align: top;\n",
       "    }\n",
       "\n",
       "    .dataframe thead th {\n",
       "        text-align: right;\n",
       "    }\n",
       "</style>\n",
       "<table border=\"1\" class=\"dataframe\">\n",
       "  <thead>\n",
       "    <tr style=\"text-align: right;\">\n",
       "      <th></th>\n",
       "      <th>NAME_CONTRACT_TYPE_Revolving loans</th>\n",
       "      <th>CODE_GENDER_M</th>\n",
       "      <th>CODE_GENDER_XNA</th>\n",
       "    </tr>\n",
       "  </thead>\n",
       "  <tbody>\n",
       "    <tr>\n",
       "      <th>0</th>\n",
       "      <td>0</td>\n",
       "      <td>1</td>\n",
       "      <td>0</td>\n",
       "    </tr>\n",
       "    <tr>\n",
       "      <th>1</th>\n",
       "      <td>0</td>\n",
       "      <td>0</td>\n",
       "      <td>0</td>\n",
       "    </tr>\n",
       "    <tr>\n",
       "      <th>2</th>\n",
       "      <td>1</td>\n",
       "      <td>1</td>\n",
       "      <td>0</td>\n",
       "    </tr>\n",
       "    <tr>\n",
       "      <th>3</th>\n",
       "      <td>0</td>\n",
       "      <td>0</td>\n",
       "      <td>0</td>\n",
       "    </tr>\n",
       "    <tr>\n",
       "      <th>4</th>\n",
       "      <td>0</td>\n",
       "      <td>1</td>\n",
       "      <td>0</td>\n",
       "    </tr>\n",
       "    <tr>\n",
       "      <th>...</th>\n",
       "      <td>...</td>\n",
       "      <td>...</td>\n",
       "      <td>...</td>\n",
       "    </tr>\n",
       "    <tr>\n",
       "      <th>307506</th>\n",
       "      <td>0</td>\n",
       "      <td>1</td>\n",
       "      <td>0</td>\n",
       "    </tr>\n",
       "    <tr>\n",
       "      <th>307507</th>\n",
       "      <td>0</td>\n",
       "      <td>0</td>\n",
       "      <td>0</td>\n",
       "    </tr>\n",
       "    <tr>\n",
       "      <th>307508</th>\n",
       "      <td>0</td>\n",
       "      <td>0</td>\n",
       "      <td>0</td>\n",
       "    </tr>\n",
       "    <tr>\n",
       "      <th>307509</th>\n",
       "      <td>0</td>\n",
       "      <td>0</td>\n",
       "      <td>0</td>\n",
       "    </tr>\n",
       "    <tr>\n",
       "      <th>307510</th>\n",
       "      <td>0</td>\n",
       "      <td>0</td>\n",
       "      <td>0</td>\n",
       "    </tr>\n",
       "  </tbody>\n",
       "</table>\n",
       "<p>307511 rows × 3 columns</p>\n",
       "</div>"
      ],
      "text/plain": [
       "        NAME_CONTRACT_TYPE_Revolving loans  CODE_GENDER_M  CODE_GENDER_XNA\n",
       "0                                        0              1                0\n",
       "1                                        0              0                0\n",
       "2                                        1              1                0\n",
       "3                                        0              0                0\n",
       "4                                        0              1                0\n",
       "...                                    ...            ...              ...\n",
       "307506                                   0              1                0\n",
       "307507                                   0              0                0\n",
       "307508                                   0              0                0\n",
       "307509                                   0              0                0\n",
       "307510                                   0              0                0\n",
       "\n",
       "[307511 rows x 3 columns]"
      ]
     },
     "metadata": {},
     "output_type": "display_data"
    }
   ],
   "source": [
    "def one_hot_encode_all_cats(\n",
    "    df,\n",
    "    columns=None,\n",
    "    dummy_na=True,\n",
    "    drop_first=True,\n",
    "    dtype=np.int8,\n",
    "    sparse=True\n",
    "):\n",
    "    ohe_df = pd.get_dummies(\n",
    "        df, columns=columns, dummy_na=dummy_na,\n",
    "        drop_first=drop_first, dtype=dtype, sparse=sparse\n",
    "    )\n",
    "    # Supression des colonnes constantes éventuellement produites par `dummy_na`\n",
    "    const_cols = ohe_df.apply(pd.Series.nunique)\n",
    "    const_cols = const_cols[const_cols == 1]\n",
    "    ohe_df.drop(columns=const_cols.index, inplace=True)\n",
    "    return ohe_df\n",
    "\n",
    "\n",
    "ohe_df = one_hot_encode_all_cats(df[[\"NAME_CONTRACT_TYPE\", \"CODE_GENDER\"]])\n",
    "display(ohe_df)\n"
   ]
  },
  {
   "attachments": {},
   "cell_type": "markdown",
   "metadata": {},
   "source": [
    "## Caractéristiques dérivées : de l'intérêt de `eval`\n",
    "\n",
    "L'ingénierie des caractéristiques a notamment pour objectif de produire des caractéristiques dérivées.\n",
    "\n",
    "Dans ce contexte, `eval` permet un gain de lisibilité du code et de performance d'exécution.\n",
    "\n",
    "[**Documentation d'utilisation de `pandas eval` pour améliorer les performances**](https://pandas.pydata.org/pandas-docs/stable/user_guide/enhancingperf.html#enhancingperf-eval)."
   ]
  },
  {
   "attachments": {},
   "cell_type": "markdown",
   "metadata": {},
   "source": [
    "### Comment ça marche ?\n",
    "\n",
    "```python\n",
    "    ins['PAYMENT_PERC'] = ins['AMT_PAYMENT'] / ins['AMT_INSTALMENT']\n",
    "    ins['PAYMENT_DIFF'] = ins['AMT_INSTALMENT'] - ins['AMT_PAYMENT']\n",
    "```"
   ]
  },
  {
   "cell_type": "code",
   "execution_count": null,
   "metadata": {},
   "outputs": [],
   "source": [
    "from home_credit.load import get_installments_payments\n",
    "df = get_installments_payments()\n",
    "display(df)"
   ]
  },
  {
   "cell_type": "code",
   "execution_count": null,
   "metadata": {},
   "outputs": [
    {
     "name": "stdout",
     "output_type": "stream",
     "text": [
      "0.056481361389160156\n"
     ]
    }
   ],
   "source": [
    "import time\n",
    "\n",
    "#amt_payment = df.AMT_PAYMENT\n",
    "#amt_installment = df.AMT_INSTALMENT\n",
    "t = -time.time()\n",
    "df['PAYMENT_PERC'] = df['AMT_PAYMENT'] / df['AMT_INSTALMENT']\n",
    "t += time.time()\n",
    "print(t)"
   ]
  },
  {
   "cell_type": "code",
   "execution_count": null,
   "metadata": {},
   "outputs": [
    {
     "name": "stdout",
     "output_type": "stream",
     "text": [
      "0.16107678413391113\n"
     ]
    }
   ],
   "source": [
    "import time\n",
    "import pandas as pd\n",
    "\n",
    "t = -time.time()\n",
    "#df['PAYMENT_PERC_2'] = df['AMT_PAYMENT'] / df['AMT_INSTALMENT']\n",
    "df.eval(\"PAYMENT_PERC_2 = AMT_PAYMENT / AMT_INSTALMENT\", inplace=True, engine=\"python\")\n",
    "t += time.time()\n",
    "print(t)"
   ]
  },
  {
   "cell_type": "code",
   "execution_count": null,
   "metadata": {},
   "outputs": [
    {
     "name": "stdout",
     "output_type": "stream",
     "text": [
      "0.13232922554016113\n"
     ]
    }
   ],
   "source": [
    "import time\n",
    "import pandas as pd\n",
    "\n",
    "t = -time.time()\n",
    "#df['PAYMENT_PERC_2'] = df['AMT_PAYMENT'] / df['AMT_INSTALMENT']\n",
    "df.eval(\"PAYMENT_PERC_2 = AMT_PAYMENT / AMT_INSTALMENT\", inplace=True, engine=\"numexpr\")\n",
    "t += time.time()\n",
    "print(t)"
   ]
  },
  {
   "attachments": {},
   "cell_type": "markdown",
   "metadata": {},
   "source": [
    "### Pandas assign : ce n'est pas une bonne alternative"
   ]
  },
  {
   "cell_type": "code",
   "execution_count": null,
   "metadata": {},
   "outputs": [
    {
     "name": "stdout",
     "output_type": "stream",
     "text": [
      "0.8159232139587402\n"
     ]
    }
   ],
   "source": [
    "import time\n",
    "import pandas as pd\n",
    "\n",
    "t = -time.time()\n",
    "#df['PAYMENT_PERC_2'] = df['AMT_PAYMENT'] / df['AMT_INSTALMENT']\n",
    "df.assign(PAYMENT_PERC_3=df.AMT_PAYMENT / df.AMT_INSTALMENT)\n",
    "t += time.time()\n",
    "print(t)"
   ]
  },
  {
   "attachments": {},
   "cell_type": "markdown",
   "metadata": {},
   "source": [
    "### Tout en une seule fois"
   ]
  },
  {
   "attachments": {},
   "cell_type": "markdown",
   "metadata": {},
   "source": [
    "#### Cf. kernel"
   ]
  },
  {
   "cell_type": "code",
   "execution_count": null,
   "metadata": {},
   "outputs": [
    {
     "name": "stdout",
     "output_type": "stream",
     "text": [
      "load C:\\Users\\franc\\Projects\\pepper_credit_scoring_tool\\dataset\\pqt\\installments_payments.pqt\n",
      "7.973264455795288\n"
     ]
    }
   ],
   "source": [
    "from home_credit.load import _load_installments_payments\n",
    "import time\n",
    "\n",
    "df_1 = _load_installments_payments()\n",
    "\n",
    "t = -time.time()\n",
    "# Percentage and difference paid in each installment (amount paid and installment value)\n",
    "df_1['PAYMENT_PERC'] = df_1['AMT_PAYMENT'] / df_1['AMT_INSTALMENT']\n",
    "df_1['PAYMENT_DIFF'] = df_1['AMT_INSTALMENT'] - df_1['AMT_PAYMENT']\n",
    "# Days past due and days before due (no negative values)\n",
    "df_1['DPD'] = df_1['DAYS_ENTRY_PAYMENT'] - df_1['DAYS_INSTALMENT']\n",
    "df_1['DBD'] = df_1['DAYS_INSTALMENT'] - df_1['DAYS_ENTRY_PAYMENT']\n",
    "df_1['DPD'] = df_1['DPD'].apply(lambda x: x if x > 0 else 0)\n",
    "df_1['DBD'] = df_1['DBD'].apply(lambda x: x if x > 0 else 0)\n",
    "t += time.time()\n",
    "print(t)"
   ]
  },
  {
   "attachments": {},
   "cell_type": "markdown",
   "metadata": {},
   "source": [
    "#### Avec eval"
   ]
  },
  {
   "cell_type": "code",
   "execution_count": null,
   "metadata": {},
   "outputs": [
    {
     "name": "stdout",
     "output_type": "stream",
     "text": [
      "load C:\\Users\\franc\\Projects\\pepper_credit_scoring_tool\\dataset\\pqt\\installments_payments.pqt\n",
      "0.6242649555206299\n"
     ]
    }
   ],
   "source": [
    "from home_credit.load import _load_installments_payments\n",
    "from numpy import where\n",
    "import time\n",
    "\n",
    "df_2 = _load_installments_payments()\n",
    "\n",
    "t = -time.time()\n",
    "# ✔ Gain de lisibilité\n",
    "# ✔ Gain de performance : un ordre de grandeur\n",
    "df_2.eval(\n",
    "    \"\"\"\n",
    "    PAYMENT_PERC = AMT_PAYMENT / AMT_INSTALMENT\n",
    "    PAYMENT_DIFF = AMT_INSTALMENT - AMT_PAYMENT\n",
    "    DPD = DAYS_ENTRY_PAYMENT - DAYS_INSTALMENT\n",
    "    DBD = DAYS_INSTALMENT - DAYS_ENTRY_PAYMENT\n",
    "    DPD = @where(DPD > 0, DPD, 0)\n",
    "    DBD = @where(DBD > 0, DBD, 0)\n",
    "    \"\"\",\n",
    "    inplace=True, engine=\"numexpr\"\n",
    ")\n",
    "t += time.time()\n",
    "print(t)"
   ]
  },
  {
   "attachments": {},
   "cell_type": "markdown",
   "metadata": {},
   "source": [
    "#### Compare dfs"
   ]
  },
  {
   "cell_type": "code",
   "execution_count": null,
   "metadata": {},
   "outputs": [
    {
     "name": "stdout",
     "output_type": "stream",
     "text": [
      "same result: True\n"
     ]
    }
   ],
   "source": [
    "# display(df_1)\n",
    "# display(df_2)\n",
    "print(\"same result:\", all(df_1 == df_2))"
   ]
  },
  {
   "attachments": {},
   "cell_type": "markdown",
   "metadata": {},
   "source": [
    "## `del` et `gc.collect`\n",
    "\n",
    "**TODO** faire une démonstration imparable de ce que j'avance ci-après :\n",
    "\n",
    "Dans la plupart des fonctions, le dataframe de travail chargé puis modifié est explicitement supprimé de la mémoire à l'aide de `del` suivi d'un appel explicite au *garbage collector* à l'aide  de `gc.collect()`.\n",
    "\n",
    "On peut voir là la marque d'un programmeur Java reconverti à Python.\n",
    "\n",
    "Cependant, ces appels sont inutiles :\n",
    "1. lorsque l'exécution de la fonction se termine, la variable locale est automatiquement librée (`del` implicite).\n",
    "2. si le système a besoin de mémoire par exemple à l'étape suivante du préprocessing, le garbage collector sera alors appelé sans qu'il soit besoin d'une instruction explicite.\n",
    "\n",
    "Nous décidons donc de ne pas conserver ces instructions."
   ]
  },
  {
   "attachments": {},
   "cell_type": "markdown",
   "metadata": {},
   "source": [
    "## Groupby\n",
    "\n"
   ]
  },
  {
   "attachments": {},
   "cell_type": "markdown",
   "metadata": {},
   "source": [
    "### xxx Old, recycle : reverse engineering de l'agrégation de `bureau`"
   ]
  },
  {
   "cell_type": "code",
   "execution_count": null,
   "metadata": {},
   "outputs": [
    {
     "data": {
      "text/html": [
       "<div>\n",
       "<style scoped>\n",
       "    .dataframe tbody tr th:only-of-type {\n",
       "        vertical-align: middle;\n",
       "    }\n",
       "\n",
       "    .dataframe tbody tr th {\n",
       "        vertical-align: top;\n",
       "    }\n",
       "\n",
       "    .dataframe thead th {\n",
       "        text-align: right;\n",
       "    }\n",
       "</style>\n",
       "<table border=\"1\" class=\"dataframe\">\n",
       "  <thead>\n",
       "    <tr style=\"text-align: right;\">\n",
       "      <th>bureau</th>\n",
       "      <th>SK_ID_CURR</th>\n",
       "      <th>SK_ID_BUREAU</th>\n",
       "      <th>CREDIT_ACTIVE</th>\n",
       "      <th>CREDIT_CURRENCY</th>\n",
       "      <th>DAYS_CREDIT</th>\n",
       "      <th>CREDIT_DAY_OVERDUE</th>\n",
       "      <th>DAYS_CREDIT_ENDDATE</th>\n",
       "      <th>DAYS_ENDDATE_FACT</th>\n",
       "      <th>AMT_CREDIT_MAX_OVERDUE</th>\n",
       "      <th>CNT_CREDIT_PROLONG</th>\n",
       "      <th>AMT_CREDIT_SUM</th>\n",
       "      <th>AMT_CREDIT_SUM_DEBT</th>\n",
       "      <th>AMT_CREDIT_SUM_LIMIT</th>\n",
       "      <th>AMT_CREDIT_SUM_OVERDUE</th>\n",
       "      <th>CREDIT_TYPE</th>\n",
       "      <th>DAYS_CREDIT_UPDATE</th>\n",
       "      <th>AMT_ANNUITY</th>\n",
       "    </tr>\n",
       "  </thead>\n",
       "  <tbody>\n",
       "    <tr>\n",
       "      <th>0</th>\n",
       "      <td>215354</td>\n",
       "      <td>5714462</td>\n",
       "      <td>Closed</td>\n",
       "      <td>currency 1</td>\n",
       "      <td>-497</td>\n",
       "      <td>0</td>\n",
       "      <td>-153.0</td>\n",
       "      <td>-153.0</td>\n",
       "      <td>NaN</td>\n",
       "      <td>0</td>\n",
       "      <td>91323.00</td>\n",
       "      <td>0.0</td>\n",
       "      <td>NaN</td>\n",
       "      <td>0.0</td>\n",
       "      <td>Consumer credit</td>\n",
       "      <td>-131</td>\n",
       "      <td>NaN</td>\n",
       "    </tr>\n",
       "    <tr>\n",
       "      <th>1</th>\n",
       "      <td>215354</td>\n",
       "      <td>5714463</td>\n",
       "      <td>Active</td>\n",
       "      <td>currency 1</td>\n",
       "      <td>-208</td>\n",
       "      <td>0</td>\n",
       "      <td>1075.0</td>\n",
       "      <td>NaN</td>\n",
       "      <td>NaN</td>\n",
       "      <td>0</td>\n",
       "      <td>225000.00</td>\n",
       "      <td>171342.0</td>\n",
       "      <td>NaN</td>\n",
       "      <td>0.0</td>\n",
       "      <td>Credit card</td>\n",
       "      <td>-20</td>\n",
       "      <td>NaN</td>\n",
       "    </tr>\n",
       "    <tr>\n",
       "      <th>2</th>\n",
       "      <td>215354</td>\n",
       "      <td>5714464</td>\n",
       "      <td>Active</td>\n",
       "      <td>currency 1</td>\n",
       "      <td>-203</td>\n",
       "      <td>0</td>\n",
       "      <td>528.0</td>\n",
       "      <td>NaN</td>\n",
       "      <td>NaN</td>\n",
       "      <td>0</td>\n",
       "      <td>464323.50</td>\n",
       "      <td>NaN</td>\n",
       "      <td>NaN</td>\n",
       "      <td>0.0</td>\n",
       "      <td>Consumer credit</td>\n",
       "      <td>-16</td>\n",
       "      <td>NaN</td>\n",
       "    </tr>\n",
       "    <tr>\n",
       "      <th>3</th>\n",
       "      <td>215354</td>\n",
       "      <td>5714465</td>\n",
       "      <td>Active</td>\n",
       "      <td>currency 1</td>\n",
       "      <td>-203</td>\n",
       "      <td>0</td>\n",
       "      <td>NaN</td>\n",
       "      <td>NaN</td>\n",
       "      <td>NaN</td>\n",
       "      <td>0</td>\n",
       "      <td>90000.00</td>\n",
       "      <td>NaN</td>\n",
       "      <td>NaN</td>\n",
       "      <td>0.0</td>\n",
       "      <td>Credit card</td>\n",
       "      <td>-16</td>\n",
       "      <td>NaN</td>\n",
       "    </tr>\n",
       "    <tr>\n",
       "      <th>4</th>\n",
       "      <td>215354</td>\n",
       "      <td>5714466</td>\n",
       "      <td>Active</td>\n",
       "      <td>currency 1</td>\n",
       "      <td>-629</td>\n",
       "      <td>0</td>\n",
       "      <td>1197.0</td>\n",
       "      <td>NaN</td>\n",
       "      <td>77674.5</td>\n",
       "      <td>0</td>\n",
       "      <td>2700000.00</td>\n",
       "      <td>NaN</td>\n",
       "      <td>NaN</td>\n",
       "      <td>0.0</td>\n",
       "      <td>Consumer credit</td>\n",
       "      <td>-21</td>\n",
       "      <td>NaN</td>\n",
       "    </tr>\n",
       "    <tr>\n",
       "      <th>...</th>\n",
       "      <td>...</td>\n",
       "      <td>...</td>\n",
       "      <td>...</td>\n",
       "      <td>...</td>\n",
       "      <td>...</td>\n",
       "      <td>...</td>\n",
       "      <td>...</td>\n",
       "      <td>...</td>\n",
       "      <td>...</td>\n",
       "      <td>...</td>\n",
       "      <td>...</td>\n",
       "      <td>...</td>\n",
       "      <td>...</td>\n",
       "      <td>...</td>\n",
       "      <td>...</td>\n",
       "      <td>...</td>\n",
       "      <td>...</td>\n",
       "    </tr>\n",
       "    <tr>\n",
       "      <th>1716423</th>\n",
       "      <td>259355</td>\n",
       "      <td>5057750</td>\n",
       "      <td>Active</td>\n",
       "      <td>currency 1</td>\n",
       "      <td>-44</td>\n",
       "      <td>0</td>\n",
       "      <td>-30.0</td>\n",
       "      <td>NaN</td>\n",
       "      <td>0.0</td>\n",
       "      <td>0</td>\n",
       "      <td>11250.00</td>\n",
       "      <td>11250.0</td>\n",
       "      <td>0.0</td>\n",
       "      <td>0.0</td>\n",
       "      <td>Microloan</td>\n",
       "      <td>-19</td>\n",
       "      <td>NaN</td>\n",
       "    </tr>\n",
       "    <tr>\n",
       "      <th>1716424</th>\n",
       "      <td>100044</td>\n",
       "      <td>5057754</td>\n",
       "      <td>Closed</td>\n",
       "      <td>currency 1</td>\n",
       "      <td>-2648</td>\n",
       "      <td>0</td>\n",
       "      <td>-2433.0</td>\n",
       "      <td>-2493.0</td>\n",
       "      <td>5476.5</td>\n",
       "      <td>0</td>\n",
       "      <td>38130.84</td>\n",
       "      <td>0.0</td>\n",
       "      <td>0.0</td>\n",
       "      <td>0.0</td>\n",
       "      <td>Consumer credit</td>\n",
       "      <td>-2493</td>\n",
       "      <td>NaN</td>\n",
       "    </tr>\n",
       "    <tr>\n",
       "      <th>1716425</th>\n",
       "      <td>100044</td>\n",
       "      <td>5057762</td>\n",
       "      <td>Closed</td>\n",
       "      <td>currency 1</td>\n",
       "      <td>-1809</td>\n",
       "      <td>0</td>\n",
       "      <td>-1628.0</td>\n",
       "      <td>-970.0</td>\n",
       "      <td>NaN</td>\n",
       "      <td>0</td>\n",
       "      <td>15570.00</td>\n",
       "      <td>NaN</td>\n",
       "      <td>NaN</td>\n",
       "      <td>0.0</td>\n",
       "      <td>Consumer credit</td>\n",
       "      <td>-967</td>\n",
       "      <td>NaN</td>\n",
       "    </tr>\n",
       "    <tr>\n",
       "      <th>1716426</th>\n",
       "      <td>246829</td>\n",
       "      <td>5057770</td>\n",
       "      <td>Closed</td>\n",
       "      <td>currency 1</td>\n",
       "      <td>-1878</td>\n",
       "      <td>0</td>\n",
       "      <td>-1513.0</td>\n",
       "      <td>-1513.0</td>\n",
       "      <td>NaN</td>\n",
       "      <td>0</td>\n",
       "      <td>36000.00</td>\n",
       "      <td>0.0</td>\n",
       "      <td>0.0</td>\n",
       "      <td>0.0</td>\n",
       "      <td>Consumer credit</td>\n",
       "      <td>-1508</td>\n",
       "      <td>NaN</td>\n",
       "    </tr>\n",
       "    <tr>\n",
       "      <th>1716427</th>\n",
       "      <td>246829</td>\n",
       "      <td>5057778</td>\n",
       "      <td>Closed</td>\n",
       "      <td>currency 1</td>\n",
       "      <td>-463</td>\n",
       "      <td>0</td>\n",
       "      <td>NaN</td>\n",
       "      <td>-387.0</td>\n",
       "      <td>NaN</td>\n",
       "      <td>0</td>\n",
       "      <td>22500.00</td>\n",
       "      <td>0.0</td>\n",
       "      <td>NaN</td>\n",
       "      <td>0.0</td>\n",
       "      <td>Microloan</td>\n",
       "      <td>-387</td>\n",
       "      <td>NaN</td>\n",
       "    </tr>\n",
       "  </tbody>\n",
       "</table>\n",
       "<p>1716428 rows × 17 columns</p>\n",
       "</div>"
      ],
      "text/plain": [
       "bureau   SK_ID_CURR  SK_ID_BUREAU  ... DAYS_CREDIT_UPDATE AMT_ANNUITY\n",
       "0            215354       5714462  ...               -131         NaN\n",
       "1            215354       5714463  ...                -20         NaN\n",
       "2            215354       5714464  ...                -16         NaN\n",
       "3            215354       5714465  ...                -16         NaN\n",
       "4            215354       5714466  ...                -21         NaN\n",
       "...             ...           ...  ...                ...         ...\n",
       "1716423      259355       5057750  ...                -19         NaN\n",
       "1716424      100044       5057754  ...              -2493         NaN\n",
       "1716425      100044       5057762  ...               -967         NaN\n",
       "1716426      246829       5057770  ...              -1508         NaN\n",
       "1716427      246829       5057778  ...               -387         NaN\n",
       "\n",
       "[1716428 rows x 17 columns]"
      ]
     },
     "metadata": {},
     "output_type": "display_data"
    },
    {
     "data": {
      "text/html": [
       "<div>\n",
       "<style scoped>\n",
       "    .dataframe tbody tr th:only-of-type {\n",
       "        vertical-align: middle;\n",
       "    }\n",
       "\n",
       "    .dataframe tbody tr th {\n",
       "        vertical-align: top;\n",
       "    }\n",
       "\n",
       "    .dataframe thead th {\n",
       "        text-align: right;\n",
       "    }\n",
       "</style>\n",
       "<table border=\"1\" class=\"dataframe\">\n",
       "  <thead>\n",
       "    <tr style=\"text-align: right;\">\n",
       "      <th>bureau_balance</th>\n",
       "      <th>SK_ID_BUREAU</th>\n",
       "      <th>MONTHS_BALANCE</th>\n",
       "      <th>STATUS</th>\n",
       "    </tr>\n",
       "  </thead>\n",
       "  <tbody>\n",
       "    <tr>\n",
       "      <th>0</th>\n",
       "      <td>5715448</td>\n",
       "      <td>0</td>\n",
       "      <td>C</td>\n",
       "    </tr>\n",
       "    <tr>\n",
       "      <th>1</th>\n",
       "      <td>5715448</td>\n",
       "      <td>-1</td>\n",
       "      <td>C</td>\n",
       "    </tr>\n",
       "    <tr>\n",
       "      <th>2</th>\n",
       "      <td>5715448</td>\n",
       "      <td>-2</td>\n",
       "      <td>C</td>\n",
       "    </tr>\n",
       "    <tr>\n",
       "      <th>3</th>\n",
       "      <td>5715448</td>\n",
       "      <td>-3</td>\n",
       "      <td>C</td>\n",
       "    </tr>\n",
       "    <tr>\n",
       "      <th>4</th>\n",
       "      <td>5715448</td>\n",
       "      <td>-4</td>\n",
       "      <td>C</td>\n",
       "    </tr>\n",
       "    <tr>\n",
       "      <th>...</th>\n",
       "      <td>...</td>\n",
       "      <td>...</td>\n",
       "      <td>...</td>\n",
       "    </tr>\n",
       "    <tr>\n",
       "      <th>27299920</th>\n",
       "      <td>5041336</td>\n",
       "      <td>-47</td>\n",
       "      <td>X</td>\n",
       "    </tr>\n",
       "    <tr>\n",
       "      <th>27299921</th>\n",
       "      <td>5041336</td>\n",
       "      <td>-48</td>\n",
       "      <td>X</td>\n",
       "    </tr>\n",
       "    <tr>\n",
       "      <th>27299922</th>\n",
       "      <td>5041336</td>\n",
       "      <td>-49</td>\n",
       "      <td>X</td>\n",
       "    </tr>\n",
       "    <tr>\n",
       "      <th>27299923</th>\n",
       "      <td>5041336</td>\n",
       "      <td>-50</td>\n",
       "      <td>X</td>\n",
       "    </tr>\n",
       "    <tr>\n",
       "      <th>27299924</th>\n",
       "      <td>5041336</td>\n",
       "      <td>-51</td>\n",
       "      <td>X</td>\n",
       "    </tr>\n",
       "  </tbody>\n",
       "</table>\n",
       "<p>27299925 rows × 3 columns</p>\n",
       "</div>"
      ],
      "text/plain": [
       "bureau_balance  SK_ID_BUREAU  MONTHS_BALANCE STATUS\n",
       "0                    5715448               0      C\n",
       "1                    5715448              -1      C\n",
       "2                    5715448              -2      C\n",
       "3                    5715448              -3      C\n",
       "4                    5715448              -4      C\n",
       "...                      ...             ...    ...\n",
       "27299920             5041336             -47      X\n",
       "27299921             5041336             -48      X\n",
       "27299922             5041336             -49      X\n",
       "27299923             5041336             -50      X\n",
       "27299924             5041336             -51      X\n",
       "\n",
       "[27299925 rows x 3 columns]"
      ]
     },
     "metadata": {},
     "output_type": "display_data"
    }
   ],
   "source": [
    "from home_credit.load import get_bureau, get_bureau_balance\n",
    "b = get_bureau()\n",
    "bb = get_bureau_balance()\n",
    "\n",
    "display(b.head(3))\n",
    "display(bb.head(3))"
   ]
  },
  {
   "cell_type": "code",
   "execution_count": null,
   "metadata": {},
   "outputs": [],
   "source": [
    "from home_credit.lightgbm_kernel import one_hot_encoder\n",
    "bb, bb_cat = one_hot_encoder(bb, True)\n",
    "bureau, bureau_cat = one_hot_encoder(bureau, True)"
   ]
  },
  {
   "cell_type": "code",
   "execution_count": null,
   "metadata": {},
   "outputs": [
    {
     "data": {
      "text/plain": [
       "['STATUS_0',\n",
       " 'STATUS_1',\n",
       " 'STATUS_2',\n",
       " 'STATUS_3',\n",
       " 'STATUS_4',\n",
       " 'STATUS_5',\n",
       " 'STATUS_C',\n",
       " 'STATUS_X',\n",
       " 'STATUS_nan']"
      ]
     },
     "metadata": {},
     "output_type": "display_data"
    },
    {
     "data": {
      "text/plain": [
       "['CREDIT_ACTIVE_Active',\n",
       " 'CREDIT_ACTIVE_Bad debt',\n",
       " 'CREDIT_ACTIVE_Closed',\n",
       " 'CREDIT_ACTIVE_Sold',\n",
       " 'CREDIT_ACTIVE_nan',\n",
       " 'CREDIT_CURRENCY_currency 1',\n",
       " 'CREDIT_CURRENCY_currency 2',\n",
       " 'CREDIT_CURRENCY_currency 3',\n",
       " 'CREDIT_CURRENCY_currency 4',\n",
       " 'CREDIT_CURRENCY_nan',\n",
       " 'CREDIT_TYPE_Another type of loan',\n",
       " 'CREDIT_TYPE_Car loan',\n",
       " 'CREDIT_TYPE_Cash loan (non-earmarked)',\n",
       " 'CREDIT_TYPE_Consumer credit',\n",
       " 'CREDIT_TYPE_Credit card',\n",
       " 'CREDIT_TYPE_Interbank credit',\n",
       " 'CREDIT_TYPE_Loan for business development',\n",
       " 'CREDIT_TYPE_Loan for purchase of shares (margin lending)',\n",
       " 'CREDIT_TYPE_Loan for the purchase of equipment',\n",
       " 'CREDIT_TYPE_Loan for working capital replenishment',\n",
       " 'CREDIT_TYPE_Microloan',\n",
       " 'CREDIT_TYPE_Mobile operator loan',\n",
       " 'CREDIT_TYPE_Mortgage',\n",
       " 'CREDIT_TYPE_Real estate loan',\n",
       " 'CREDIT_TYPE_Unknown type of loan',\n",
       " 'CREDIT_TYPE_nan']"
      ]
     },
     "metadata": {},
     "output_type": "display_data"
    }
   ],
   "source": [
    "display(bb_cat)\n",
    "display(bureau_cat)"
   ]
  },
  {
   "cell_type": "code",
   "execution_count": null,
   "metadata": {},
   "outputs": [],
   "source": [
    "# Bureau balance: Perform aggregations and merge with bureau.csv\n",
    "bb_aggregations = {'MONTHS_BALANCE': ['min', 'max', 'size']}\n",
    "for col in bb_cat:\n",
    "    bb_aggregations[col] = ['mean']"
   ]
  },
  {
   "cell_type": "markdown",
   "metadata": {},
   "source": [
    "L'aggrégation des lignes de `bureau_balance` :\n",
    "* moyenne de chaque catégorie de STATUS\n",
    "* min, max, size de MONTHS_BALANCE\n",
    "\n",
    "Je pense que l'on peut faire mieux cf. mon pivot...\n",
    "\n",
    "conserver les deux pour pouvoir comparer 1/ les corrélations 2/ les performances finales"
   ]
  },
  {
   "cell_type": "code",
   "execution_count": null,
   "metadata": {},
   "outputs": [
    {
     "data": {
      "text/plain": [
       "{'MONTHS_BALANCE': ['min', 'max', 'size'],\n",
       " 'STATUS_0': ['mean'],\n",
       " 'STATUS_1': ['mean'],\n",
       " 'STATUS_2': ['mean'],\n",
       " 'STATUS_3': ['mean'],\n",
       " 'STATUS_4': ['mean'],\n",
       " 'STATUS_5': ['mean'],\n",
       " 'STATUS_C': ['mean'],\n",
       " 'STATUS_X': ['mean'],\n",
       " 'STATUS_nan': ['mean']}"
      ]
     },
     "metadata": {},
     "output_type": "display_data"
    }
   ],
   "source": [
    "display(bb_aggregations)"
   ]
  },
  {
   "cell_type": "code",
   "execution_count": null,
   "metadata": {},
   "outputs": [],
   "source": [
    "import pandas as pd\n",
    "bb_agg = bb.groupby('SK_ID_BUREAU').agg(bb_aggregations)\n",
    "# Reduction du multi-index produit par le groupby\n",
    "bb_agg.columns = pd.Index([e[0] + \"_\" + e[1].upper() for e in bb_agg.columns.tolist()])"
   ]
  },
  {
   "cell_type": "code",
   "execution_count": null,
   "metadata": {},
   "outputs": [
    {
     "data": {
      "text/html": [
       "<div>\n",
       "<style scoped>\n",
       "    .dataframe tbody tr th:only-of-type {\n",
       "        vertical-align: middle;\n",
       "    }\n",
       "\n",
       "    .dataframe tbody tr th {\n",
       "        vertical-align: top;\n",
       "    }\n",
       "\n",
       "    .dataframe thead th {\n",
       "        text-align: right;\n",
       "    }\n",
       "</style>\n",
       "<table border=\"1\" class=\"dataframe\">\n",
       "  <thead>\n",
       "    <tr style=\"text-align: right;\">\n",
       "      <th></th>\n",
       "      <th>MONTHS_BALANCE_MIN</th>\n",
       "      <th>MONTHS_BALANCE_MAX</th>\n",
       "      <th>MONTHS_BALANCE_SIZE</th>\n",
       "      <th>STATUS_0_MEAN</th>\n",
       "      <th>STATUS_1_MEAN</th>\n",
       "      <th>STATUS_2_MEAN</th>\n",
       "      <th>STATUS_3_MEAN</th>\n",
       "      <th>STATUS_4_MEAN</th>\n",
       "      <th>STATUS_5_MEAN</th>\n",
       "      <th>STATUS_C_MEAN</th>\n",
       "      <th>STATUS_X_MEAN</th>\n",
       "      <th>STATUS_nan_MEAN</th>\n",
       "    </tr>\n",
       "    <tr>\n",
       "      <th>SK_ID_BUREAU</th>\n",
       "      <th></th>\n",
       "      <th></th>\n",
       "      <th></th>\n",
       "      <th></th>\n",
       "      <th></th>\n",
       "      <th></th>\n",
       "      <th></th>\n",
       "      <th></th>\n",
       "      <th></th>\n",
       "      <th></th>\n",
       "      <th></th>\n",
       "      <th></th>\n",
       "    </tr>\n",
       "  </thead>\n",
       "  <tbody>\n",
       "    <tr>\n",
       "      <th>5001709</th>\n",
       "      <td>-96</td>\n",
       "      <td>0</td>\n",
       "      <td>97</td>\n",
       "      <td>0.000000</td>\n",
       "      <td>0.000000</td>\n",
       "      <td>0.0</td>\n",
       "      <td>0.0</td>\n",
       "      <td>0.0</td>\n",
       "      <td>0.0</td>\n",
       "      <td>0.886598</td>\n",
       "      <td>0.113402</td>\n",
       "      <td>0.0</td>\n",
       "    </tr>\n",
       "    <tr>\n",
       "      <th>5001710</th>\n",
       "      <td>-82</td>\n",
       "      <td>0</td>\n",
       "      <td>83</td>\n",
       "      <td>0.060241</td>\n",
       "      <td>0.000000</td>\n",
       "      <td>0.0</td>\n",
       "      <td>0.0</td>\n",
       "      <td>0.0</td>\n",
       "      <td>0.0</td>\n",
       "      <td>0.578313</td>\n",
       "      <td>0.361446</td>\n",
       "      <td>0.0</td>\n",
       "    </tr>\n",
       "    <tr>\n",
       "      <th>5001711</th>\n",
       "      <td>-3</td>\n",
       "      <td>0</td>\n",
       "      <td>4</td>\n",
       "      <td>0.750000</td>\n",
       "      <td>0.000000</td>\n",
       "      <td>0.0</td>\n",
       "      <td>0.0</td>\n",
       "      <td>0.0</td>\n",
       "      <td>0.0</td>\n",
       "      <td>0.000000</td>\n",
       "      <td>0.250000</td>\n",
       "      <td>0.0</td>\n",
       "    </tr>\n",
       "    <tr>\n",
       "      <th>5001712</th>\n",
       "      <td>-18</td>\n",
       "      <td>0</td>\n",
       "      <td>19</td>\n",
       "      <td>0.526316</td>\n",
       "      <td>0.000000</td>\n",
       "      <td>0.0</td>\n",
       "      <td>0.0</td>\n",
       "      <td>0.0</td>\n",
       "      <td>0.0</td>\n",
       "      <td>0.473684</td>\n",
       "      <td>0.000000</td>\n",
       "      <td>0.0</td>\n",
       "    </tr>\n",
       "    <tr>\n",
       "      <th>5001713</th>\n",
       "      <td>-21</td>\n",
       "      <td>0</td>\n",
       "      <td>22</td>\n",
       "      <td>0.000000</td>\n",
       "      <td>0.000000</td>\n",
       "      <td>0.0</td>\n",
       "      <td>0.0</td>\n",
       "      <td>0.0</td>\n",
       "      <td>0.0</td>\n",
       "      <td>0.000000</td>\n",
       "      <td>1.000000</td>\n",
       "      <td>0.0</td>\n",
       "    </tr>\n",
       "    <tr>\n",
       "      <th>...</th>\n",
       "      <td>...</td>\n",
       "      <td>...</td>\n",
       "      <td>...</td>\n",
       "      <td>...</td>\n",
       "      <td>...</td>\n",
       "      <td>...</td>\n",
       "      <td>...</td>\n",
       "      <td>...</td>\n",
       "      <td>...</td>\n",
       "      <td>...</td>\n",
       "      <td>...</td>\n",
       "      <td>...</td>\n",
       "    </tr>\n",
       "    <tr>\n",
       "      <th>6842884</th>\n",
       "      <td>-47</td>\n",
       "      <td>0</td>\n",
       "      <td>48</td>\n",
       "      <td>0.187500</td>\n",
       "      <td>0.000000</td>\n",
       "      <td>0.0</td>\n",
       "      <td>0.0</td>\n",
       "      <td>0.0</td>\n",
       "      <td>0.0</td>\n",
       "      <td>0.416667</td>\n",
       "      <td>0.395833</td>\n",
       "      <td>0.0</td>\n",
       "    </tr>\n",
       "    <tr>\n",
       "      <th>6842885</th>\n",
       "      <td>-23</td>\n",
       "      <td>0</td>\n",
       "      <td>24</td>\n",
       "      <td>0.500000</td>\n",
       "      <td>0.000000</td>\n",
       "      <td>0.0</td>\n",
       "      <td>0.0</td>\n",
       "      <td>0.0</td>\n",
       "      <td>0.5</td>\n",
       "      <td>0.000000</td>\n",
       "      <td>0.000000</td>\n",
       "      <td>0.0</td>\n",
       "    </tr>\n",
       "    <tr>\n",
       "      <th>6842886</th>\n",
       "      <td>-32</td>\n",
       "      <td>0</td>\n",
       "      <td>33</td>\n",
       "      <td>0.242424</td>\n",
       "      <td>0.000000</td>\n",
       "      <td>0.0</td>\n",
       "      <td>0.0</td>\n",
       "      <td>0.0</td>\n",
       "      <td>0.0</td>\n",
       "      <td>0.757576</td>\n",
       "      <td>0.000000</td>\n",
       "      <td>0.0</td>\n",
       "    </tr>\n",
       "    <tr>\n",
       "      <th>6842887</th>\n",
       "      <td>-36</td>\n",
       "      <td>0</td>\n",
       "      <td>37</td>\n",
       "      <td>0.162162</td>\n",
       "      <td>0.000000</td>\n",
       "      <td>0.0</td>\n",
       "      <td>0.0</td>\n",
       "      <td>0.0</td>\n",
       "      <td>0.0</td>\n",
       "      <td>0.837838</td>\n",
       "      <td>0.000000</td>\n",
       "      <td>0.0</td>\n",
       "    </tr>\n",
       "    <tr>\n",
       "      <th>6842888</th>\n",
       "      <td>-61</td>\n",
       "      <td>0</td>\n",
       "      <td>62</td>\n",
       "      <td>0.145161</td>\n",
       "      <td>0.016129</td>\n",
       "      <td>0.0</td>\n",
       "      <td>0.0</td>\n",
       "      <td>0.0</td>\n",
       "      <td>0.0</td>\n",
       "      <td>0.838710</td>\n",
       "      <td>0.000000</td>\n",
       "      <td>0.0</td>\n",
       "    </tr>\n",
       "  </tbody>\n",
       "</table>\n",
       "<p>817395 rows × 12 columns</p>\n",
       "</div>"
      ],
      "text/plain": [
       "              MONTHS_BALANCE_MIN  ...  STATUS_nan_MEAN\n",
       "SK_ID_BUREAU                      ...                 \n",
       "5001709                      -96  ...              0.0\n",
       "5001710                      -82  ...              0.0\n",
       "5001711                       -3  ...              0.0\n",
       "5001712                      -18  ...              0.0\n",
       "5001713                      -21  ...              0.0\n",
       "...                          ...  ...              ...\n",
       "6842884                      -47  ...              0.0\n",
       "6842885                      -23  ...              0.0\n",
       "6842886                      -32  ...              0.0\n",
       "6842887                      -36  ...              0.0\n",
       "6842888                      -61  ...              0.0\n",
       "\n",
       "[817395 rows x 12 columns]"
      ]
     },
     "metadata": {},
     "output_type": "display_data"
    }
   ],
   "source": [
    "display(bb_agg)"
   ]
  },
  {
   "cell_type": "markdown",
   "metadata": {},
   "source": [
    "Ici, un simple concat serait plus adapté non ? tester"
   ]
  },
  {
   "cell_type": "code",
   "execution_count": null,
   "metadata": {},
   "outputs": [],
   "source": [
    "bureau = bureau.join(bb_agg, how='left', on='SK_ID_BUREAU')\n",
    "bureau.drop(['SK_ID_BUREAU'], axis=1, inplace= True)"
   ]
  },
  {
   "cell_type": "code",
   "execution_count": null,
   "metadata": {},
   "outputs": [
    {
     "data": {
      "text/html": [
       "<div>\n",
       "<style scoped>\n",
       "    .dataframe tbody tr th:only-of-type {\n",
       "        vertical-align: middle;\n",
       "    }\n",
       "\n",
       "    .dataframe tbody tr th {\n",
       "        vertical-align: top;\n",
       "    }\n",
       "\n",
       "    .dataframe thead th {\n",
       "        text-align: right;\n",
       "    }\n",
       "</style>\n",
       "<table border=\"1\" class=\"dataframe\">\n",
       "  <thead>\n",
       "    <tr style=\"text-align: right;\">\n",
       "      <th></th>\n",
       "      <th>SK_ID_CURR</th>\n",
       "      <th>DAYS_CREDIT</th>\n",
       "      <th>CREDIT_DAY_OVERDUE</th>\n",
       "      <th>DAYS_CREDIT_ENDDATE</th>\n",
       "      <th>DAYS_ENDDATE_FACT</th>\n",
       "      <th>AMT_CREDIT_MAX_OVERDUE</th>\n",
       "      <th>CNT_CREDIT_PROLONG</th>\n",
       "      <th>AMT_CREDIT_SUM</th>\n",
       "      <th>AMT_CREDIT_SUM_DEBT</th>\n",
       "      <th>AMT_CREDIT_SUM_LIMIT</th>\n",
       "      <th>AMT_CREDIT_SUM_OVERDUE</th>\n",
       "      <th>DAYS_CREDIT_UPDATE</th>\n",
       "      <th>AMT_ANNUITY</th>\n",
       "      <th>CREDIT_ACTIVE_Active</th>\n",
       "      <th>CREDIT_ACTIVE_Bad debt</th>\n",
       "      <th>CREDIT_ACTIVE_Closed</th>\n",
       "      <th>CREDIT_ACTIVE_Sold</th>\n",
       "      <th>CREDIT_ACTIVE_nan</th>\n",
       "      <th>CREDIT_CURRENCY_currency 1</th>\n",
       "      <th>CREDIT_CURRENCY_currency 2</th>\n",
       "      <th>CREDIT_CURRENCY_currency 3</th>\n",
       "      <th>CREDIT_CURRENCY_currency 4</th>\n",
       "      <th>CREDIT_CURRENCY_nan</th>\n",
       "      <th>CREDIT_TYPE_Another type of loan</th>\n",
       "      <th>CREDIT_TYPE_Car loan</th>\n",
       "      <th>CREDIT_TYPE_Cash loan (non-earmarked)</th>\n",
       "      <th>CREDIT_TYPE_Consumer credit</th>\n",
       "      <th>CREDIT_TYPE_Credit card</th>\n",
       "      <th>CREDIT_TYPE_Interbank credit</th>\n",
       "      <th>CREDIT_TYPE_Loan for business development</th>\n",
       "      <th>CREDIT_TYPE_Loan for purchase of shares (margin lending)</th>\n",
       "      <th>CREDIT_TYPE_Loan for the purchase of equipment</th>\n",
       "      <th>CREDIT_TYPE_Loan for working capital replenishment</th>\n",
       "      <th>CREDIT_TYPE_Microloan</th>\n",
       "      <th>CREDIT_TYPE_Mobile operator loan</th>\n",
       "      <th>CREDIT_TYPE_Mortgage</th>\n",
       "      <th>CREDIT_TYPE_Real estate loan</th>\n",
       "      <th>CREDIT_TYPE_Unknown type of loan</th>\n",
       "      <th>CREDIT_TYPE_nan</th>\n",
       "      <th>MONTHS_BALANCE_MIN</th>\n",
       "      <th>MONTHS_BALANCE_MAX</th>\n",
       "      <th>MONTHS_BALANCE_SIZE</th>\n",
       "      <th>STATUS_0_MEAN</th>\n",
       "      <th>STATUS_1_MEAN</th>\n",
       "      <th>STATUS_2_MEAN</th>\n",
       "      <th>STATUS_3_MEAN</th>\n",
       "      <th>STATUS_4_MEAN</th>\n",
       "      <th>STATUS_5_MEAN</th>\n",
       "      <th>STATUS_C_MEAN</th>\n",
       "      <th>STATUS_X_MEAN</th>\n",
       "      <th>STATUS_nan_MEAN</th>\n",
       "    </tr>\n",
       "  </thead>\n",
       "  <tbody>\n",
       "    <tr>\n",
       "      <th>0</th>\n",
       "      <td>215354</td>\n",
       "      <td>-497</td>\n",
       "      <td>0</td>\n",
       "      <td>-153.0</td>\n",
       "      <td>-153.0</td>\n",
       "      <td>NaN</td>\n",
       "      <td>0</td>\n",
       "      <td>91323.0</td>\n",
       "      <td>0.0</td>\n",
       "      <td>NaN</td>\n",
       "      <td>0.0</td>\n",
       "      <td>-131</td>\n",
       "      <td>NaN</td>\n",
       "      <td>False</td>\n",
       "      <td>False</td>\n",
       "      <td>True</td>\n",
       "      <td>False</td>\n",
       "      <td>False</td>\n",
       "      <td>True</td>\n",
       "      <td>False</td>\n",
       "      <td>False</td>\n",
       "      <td>False</td>\n",
       "      <td>False</td>\n",
       "      <td>False</td>\n",
       "      <td>False</td>\n",
       "      <td>False</td>\n",
       "      <td>True</td>\n",
       "      <td>False</td>\n",
       "      <td>False</td>\n",
       "      <td>False</td>\n",
       "      <td>False</td>\n",
       "      <td>False</td>\n",
       "      <td>False</td>\n",
       "      <td>False</td>\n",
       "      <td>False</td>\n",
       "      <td>False</td>\n",
       "      <td>False</td>\n",
       "      <td>False</td>\n",
       "      <td>False</td>\n",
       "      <td>NaN</td>\n",
       "      <td>NaN</td>\n",
       "      <td>NaN</td>\n",
       "      <td>NaN</td>\n",
       "      <td>NaN</td>\n",
       "      <td>NaN</td>\n",
       "      <td>NaN</td>\n",
       "      <td>NaN</td>\n",
       "      <td>NaN</td>\n",
       "      <td>NaN</td>\n",
       "      <td>NaN</td>\n",
       "      <td>NaN</td>\n",
       "    </tr>\n",
       "    <tr>\n",
       "      <th>1</th>\n",
       "      <td>215354</td>\n",
       "      <td>-208</td>\n",
       "      <td>0</td>\n",
       "      <td>1075.0</td>\n",
       "      <td>NaN</td>\n",
       "      <td>NaN</td>\n",
       "      <td>0</td>\n",
       "      <td>225000.0</td>\n",
       "      <td>171342.0</td>\n",
       "      <td>NaN</td>\n",
       "      <td>0.0</td>\n",
       "      <td>-20</td>\n",
       "      <td>NaN</td>\n",
       "      <td>True</td>\n",
       "      <td>False</td>\n",
       "      <td>False</td>\n",
       "      <td>False</td>\n",
       "      <td>False</td>\n",
       "      <td>True</td>\n",
       "      <td>False</td>\n",
       "      <td>False</td>\n",
       "      <td>False</td>\n",
       "      <td>False</td>\n",
       "      <td>False</td>\n",
       "      <td>False</td>\n",
       "      <td>False</td>\n",
       "      <td>False</td>\n",
       "      <td>True</td>\n",
       "      <td>False</td>\n",
       "      <td>False</td>\n",
       "      <td>False</td>\n",
       "      <td>False</td>\n",
       "      <td>False</td>\n",
       "      <td>False</td>\n",
       "      <td>False</td>\n",
       "      <td>False</td>\n",
       "      <td>False</td>\n",
       "      <td>False</td>\n",
       "      <td>False</td>\n",
       "      <td>NaN</td>\n",
       "      <td>NaN</td>\n",
       "      <td>NaN</td>\n",
       "      <td>NaN</td>\n",
       "      <td>NaN</td>\n",
       "      <td>NaN</td>\n",
       "      <td>NaN</td>\n",
       "      <td>NaN</td>\n",
       "      <td>NaN</td>\n",
       "      <td>NaN</td>\n",
       "      <td>NaN</td>\n",
       "      <td>NaN</td>\n",
       "    </tr>\n",
       "    <tr>\n",
       "      <th>2</th>\n",
       "      <td>215354</td>\n",
       "      <td>-203</td>\n",
       "      <td>0</td>\n",
       "      <td>528.0</td>\n",
       "      <td>NaN</td>\n",
       "      <td>NaN</td>\n",
       "      <td>0</td>\n",
       "      <td>464323.5</td>\n",
       "      <td>NaN</td>\n",
       "      <td>NaN</td>\n",
       "      <td>0.0</td>\n",
       "      <td>-16</td>\n",
       "      <td>NaN</td>\n",
       "      <td>True</td>\n",
       "      <td>False</td>\n",
       "      <td>False</td>\n",
       "      <td>False</td>\n",
       "      <td>False</td>\n",
       "      <td>True</td>\n",
       "      <td>False</td>\n",
       "      <td>False</td>\n",
       "      <td>False</td>\n",
       "      <td>False</td>\n",
       "      <td>False</td>\n",
       "      <td>False</td>\n",
       "      <td>False</td>\n",
       "      <td>True</td>\n",
       "      <td>False</td>\n",
       "      <td>False</td>\n",
       "      <td>False</td>\n",
       "      <td>False</td>\n",
       "      <td>False</td>\n",
       "      <td>False</td>\n",
       "      <td>False</td>\n",
       "      <td>False</td>\n",
       "      <td>False</td>\n",
       "      <td>False</td>\n",
       "      <td>False</td>\n",
       "      <td>False</td>\n",
       "      <td>NaN</td>\n",
       "      <td>NaN</td>\n",
       "      <td>NaN</td>\n",
       "      <td>NaN</td>\n",
       "      <td>NaN</td>\n",
       "      <td>NaN</td>\n",
       "      <td>NaN</td>\n",
       "      <td>NaN</td>\n",
       "      <td>NaN</td>\n",
       "      <td>NaN</td>\n",
       "      <td>NaN</td>\n",
       "      <td>NaN</td>\n",
       "    </tr>\n",
       "  </tbody>\n",
       "</table>\n",
       "</div>"
      ],
      "text/plain": [
       "   SK_ID_CURR  DAYS_CREDIT  ...  STATUS_X_MEAN  STATUS_nan_MEAN\n",
       "0      215354         -497  ...            NaN              NaN\n",
       "1      215354         -208  ...            NaN              NaN\n",
       "2      215354         -203  ...            NaN              NaN\n",
       "\n",
       "[3 rows x 51 columns]"
      ]
     },
     "metadata": {},
     "output_type": "display_data"
    }
   ],
   "source": [
    "display(bureau.head(3))"
   ]
  },
  {
   "cell_type": "markdown",
   "metadata": {},
   "source": [
    "Pourquoi refaire une aggrégation sur `bureau` : parce que dans `bureau` `SK_ID_CURR` n'est pas une PK, il y a donc plusieurs lignes pour une demande (11 lignes en moyenne par demande).\n",
    "\n",
    "Là, il y a du monde : le préalable est donc d'avoir terminé mon analyse exploratoire sur l'ensemble des colonnes de `bureau` pour bien comprendre ce que représente chacune des données.\n",
    "\n",
    "Selon les cas, il choisit un ou plusieurs des ufuncs main, max, mean, sum, var : pourquoi ? comprendre sa logique et la dépasser si possible."
   ]
  },
  {
   "cell_type": "code",
   "execution_count": null,
   "metadata": {},
   "outputs": [],
   "source": [
    "# Bureau and bureau_balance numeric features\n",
    "num_aggregations = {\n",
    "    'DAYS_CREDIT': ['min', 'max', 'mean', 'var'],\n",
    "    'DAYS_CREDIT_ENDDATE': ['min', 'max', 'mean'],\n",
    "    'DAYS_CREDIT_UPDATE': ['mean'],\n",
    "    'CREDIT_DAY_OVERDUE': ['max', 'mean'],\n",
    "    'AMT_CREDIT_MAX_OVERDUE': ['mean'],\n",
    "    'AMT_CREDIT_SUM': ['max', 'mean', 'sum'],\n",
    "    'AMT_CREDIT_SUM_DEBT': ['max', 'mean', 'sum'],\n",
    "    'AMT_CREDIT_SUM_OVERDUE': ['mean'],\n",
    "    'AMT_CREDIT_SUM_LIMIT': ['mean', 'sum'],\n",
    "    'AMT_ANNUITY': ['max', 'mean'],\n",
    "    'CNT_CREDIT_PROLONG': ['sum'],\n",
    "    'MONTHS_BALANCE_MIN': ['min'],\n",
    "    'MONTHS_BALANCE_MAX': ['max'],\n",
    "    'MONTHS_BALANCE_SIZE': ['mean', 'sum']\n",
    "}\n",
    "# Bureau and bureau_balance categorical features\n",
    "cat_aggregations = {}\n",
    "for cat in bureau_cat:\n",
    "    cat_aggregations[cat] = ['mean']\n",
    "for cat in bb_cat:\n",
    "    cat_aggregations[cat + \"_MEAN\"] = ['mean']"
   ]
  },
  {
   "cell_type": "code",
   "execution_count": null,
   "metadata": {},
   "outputs": [
    {
     "data": {
      "text/plain": [
       "{'CREDIT_ACTIVE_Active': ['mean'],\n",
       " 'CREDIT_ACTIVE_Bad debt': ['mean'],\n",
       " 'CREDIT_ACTIVE_Closed': ['mean'],\n",
       " 'CREDIT_ACTIVE_Sold': ['mean'],\n",
       " 'CREDIT_ACTIVE_nan': ['mean'],\n",
       " 'CREDIT_CURRENCY_currency 1': ['mean'],\n",
       " 'CREDIT_CURRENCY_currency 2': ['mean'],\n",
       " 'CREDIT_CURRENCY_currency 3': ['mean'],\n",
       " 'CREDIT_CURRENCY_currency 4': ['mean'],\n",
       " 'CREDIT_CURRENCY_nan': ['mean'],\n",
       " 'CREDIT_TYPE_Another type of loan': ['mean'],\n",
       " 'CREDIT_TYPE_Car loan': ['mean'],\n",
       " 'CREDIT_TYPE_Cash loan (non-earmarked)': ['mean'],\n",
       " 'CREDIT_TYPE_Consumer credit': ['mean'],\n",
       " 'CREDIT_TYPE_Credit card': ['mean'],\n",
       " 'CREDIT_TYPE_Interbank credit': ['mean'],\n",
       " 'CREDIT_TYPE_Loan for business development': ['mean'],\n",
       " 'CREDIT_TYPE_Loan for purchase of shares (margin lending)': ['mean'],\n",
       " 'CREDIT_TYPE_Loan for the purchase of equipment': ['mean'],\n",
       " 'CREDIT_TYPE_Loan for working capital replenishment': ['mean'],\n",
       " 'CREDIT_TYPE_Microloan': ['mean'],\n",
       " 'CREDIT_TYPE_Mobile operator loan': ['mean'],\n",
       " 'CREDIT_TYPE_Mortgage': ['mean'],\n",
       " 'CREDIT_TYPE_Real estate loan': ['mean'],\n",
       " 'CREDIT_TYPE_Unknown type of loan': ['mean'],\n",
       " 'CREDIT_TYPE_nan': ['mean'],\n",
       " 'STATUS_0_MEAN': ['mean'],\n",
       " 'STATUS_1_MEAN': ['mean'],\n",
       " 'STATUS_2_MEAN': ['mean'],\n",
       " 'STATUS_3_MEAN': ['mean'],\n",
       " 'STATUS_4_MEAN': ['mean'],\n",
       " 'STATUS_5_MEAN': ['mean'],\n",
       " 'STATUS_C_MEAN': ['mean'],\n",
       " 'STATUS_X_MEAN': ['mean'],\n",
       " 'STATUS_nan_MEAN': ['mean']}"
      ]
     },
     "metadata": {},
     "output_type": "display_data"
    }
   ],
   "source": [
    "display(cat_aggregations)"
   ]
  },
  {
   "cell_type": "markdown",
   "metadata": {},
   "source": [
    "Second niveau d'aggrégation, sur les variables numériques, et sur les catégorielles :"
   ]
  },
  {
   "cell_type": "code",
   "execution_count": null,
   "metadata": {},
   "outputs": [],
   "source": [
    "bureau_agg = bureau.groupby('SK_ID_CURR').agg({**num_aggregations, **cat_aggregations})\n",
    "bureau_agg.columns = pd.Index(['BURO_' + e[0] + \"_\" + e[1].upper() for e in bureau_agg.columns.tolist()])"
   ]
  },
  {
   "cell_type": "code",
   "execution_count": null,
   "metadata": {},
   "outputs": [
    {
     "data": {
      "text/html": [
       "<div>\n",
       "<style scoped>\n",
       "    .dataframe tbody tr th:only-of-type {\n",
       "        vertical-align: middle;\n",
       "    }\n",
       "\n",
       "    .dataframe tbody tr th {\n",
       "        vertical-align: top;\n",
       "    }\n",
       "\n",
       "    .dataframe thead th {\n",
       "        text-align: right;\n",
       "    }\n",
       "</style>\n",
       "<table border=\"1\" class=\"dataframe\">\n",
       "  <thead>\n",
       "    <tr style=\"text-align: right;\">\n",
       "      <th></th>\n",
       "      <th>BURO_DAYS_CREDIT_MIN</th>\n",
       "      <th>BURO_DAYS_CREDIT_MAX</th>\n",
       "      <th>BURO_DAYS_CREDIT_MEAN</th>\n",
       "      <th>BURO_DAYS_CREDIT_VAR</th>\n",
       "      <th>BURO_DAYS_CREDIT_ENDDATE_MIN</th>\n",
       "      <th>BURO_DAYS_CREDIT_ENDDATE_MAX</th>\n",
       "      <th>BURO_DAYS_CREDIT_ENDDATE_MEAN</th>\n",
       "      <th>BURO_DAYS_CREDIT_UPDATE_MEAN</th>\n",
       "      <th>BURO_CREDIT_DAY_OVERDUE_MAX</th>\n",
       "      <th>BURO_CREDIT_DAY_OVERDUE_MEAN</th>\n",
       "      <th>BURO_AMT_CREDIT_MAX_OVERDUE_MEAN</th>\n",
       "      <th>BURO_AMT_CREDIT_SUM_MAX</th>\n",
       "      <th>BURO_AMT_CREDIT_SUM_MEAN</th>\n",
       "      <th>BURO_AMT_CREDIT_SUM_SUM</th>\n",
       "      <th>BURO_AMT_CREDIT_SUM_DEBT_MAX</th>\n",
       "      <th>BURO_AMT_CREDIT_SUM_DEBT_MEAN</th>\n",
       "      <th>BURO_AMT_CREDIT_SUM_DEBT_SUM</th>\n",
       "      <th>BURO_AMT_CREDIT_SUM_OVERDUE_MEAN</th>\n",
       "      <th>BURO_AMT_CREDIT_SUM_LIMIT_MEAN</th>\n",
       "      <th>BURO_AMT_CREDIT_SUM_LIMIT_SUM</th>\n",
       "      <th>BURO_AMT_ANNUITY_MAX</th>\n",
       "      <th>BURO_AMT_ANNUITY_MEAN</th>\n",
       "      <th>BURO_CNT_CREDIT_PROLONG_SUM</th>\n",
       "      <th>BURO_MONTHS_BALANCE_MIN_MIN</th>\n",
       "      <th>BURO_MONTHS_BALANCE_MAX_MAX</th>\n",
       "      <th>BURO_MONTHS_BALANCE_SIZE_MEAN</th>\n",
       "      <th>BURO_MONTHS_BALANCE_SIZE_SUM</th>\n",
       "      <th>BURO_CREDIT_ACTIVE_Active_MEAN</th>\n",
       "      <th>BURO_CREDIT_ACTIVE_Bad debt_MEAN</th>\n",
       "      <th>BURO_CREDIT_ACTIVE_Closed_MEAN</th>\n",
       "      <th>BURO_CREDIT_ACTIVE_Sold_MEAN</th>\n",
       "      <th>BURO_CREDIT_ACTIVE_nan_MEAN</th>\n",
       "      <th>BURO_CREDIT_CURRENCY_currency 1_MEAN</th>\n",
       "      <th>BURO_CREDIT_CURRENCY_currency 2_MEAN</th>\n",
       "      <th>BURO_CREDIT_CURRENCY_currency 3_MEAN</th>\n",
       "      <th>BURO_CREDIT_CURRENCY_currency 4_MEAN</th>\n",
       "      <th>BURO_CREDIT_CURRENCY_nan_MEAN</th>\n",
       "      <th>BURO_CREDIT_TYPE_Another type of loan_MEAN</th>\n",
       "      <th>BURO_CREDIT_TYPE_Car loan_MEAN</th>\n",
       "      <th>BURO_CREDIT_TYPE_Cash loan (non-earmarked)_MEAN</th>\n",
       "      <th>BURO_CREDIT_TYPE_Consumer credit_MEAN</th>\n",
       "      <th>BURO_CREDIT_TYPE_Credit card_MEAN</th>\n",
       "      <th>BURO_CREDIT_TYPE_Interbank credit_MEAN</th>\n",
       "      <th>BURO_CREDIT_TYPE_Loan for business development_MEAN</th>\n",
       "      <th>BURO_CREDIT_TYPE_Loan for purchase of shares (margin lending)_MEAN</th>\n",
       "      <th>BURO_CREDIT_TYPE_Loan for the purchase of equipment_MEAN</th>\n",
       "      <th>BURO_CREDIT_TYPE_Loan for working capital replenishment_MEAN</th>\n",
       "      <th>BURO_CREDIT_TYPE_Microloan_MEAN</th>\n",
       "      <th>BURO_CREDIT_TYPE_Mobile operator loan_MEAN</th>\n",
       "      <th>BURO_CREDIT_TYPE_Mortgage_MEAN</th>\n",
       "      <th>BURO_CREDIT_TYPE_Real estate loan_MEAN</th>\n",
       "      <th>BURO_CREDIT_TYPE_Unknown type of loan_MEAN</th>\n",
       "      <th>BURO_CREDIT_TYPE_nan_MEAN</th>\n",
       "      <th>BURO_STATUS_0_MEAN_MEAN</th>\n",
       "      <th>BURO_STATUS_1_MEAN_MEAN</th>\n",
       "      <th>BURO_STATUS_2_MEAN_MEAN</th>\n",
       "      <th>BURO_STATUS_3_MEAN_MEAN</th>\n",
       "      <th>BURO_STATUS_4_MEAN_MEAN</th>\n",
       "      <th>BURO_STATUS_5_MEAN_MEAN</th>\n",
       "      <th>BURO_STATUS_C_MEAN_MEAN</th>\n",
       "      <th>BURO_STATUS_X_MEAN_MEAN</th>\n",
       "      <th>BURO_STATUS_nan_MEAN_MEAN</th>\n",
       "    </tr>\n",
       "    <tr>\n",
       "      <th>SK_ID_CURR</th>\n",
       "      <th></th>\n",
       "      <th></th>\n",
       "      <th></th>\n",
       "      <th></th>\n",
       "      <th></th>\n",
       "      <th></th>\n",
       "      <th></th>\n",
       "      <th></th>\n",
       "      <th></th>\n",
       "      <th></th>\n",
       "      <th></th>\n",
       "      <th></th>\n",
       "      <th></th>\n",
       "      <th></th>\n",
       "      <th></th>\n",
       "      <th></th>\n",
       "      <th></th>\n",
       "      <th></th>\n",
       "      <th></th>\n",
       "      <th></th>\n",
       "      <th></th>\n",
       "      <th></th>\n",
       "      <th></th>\n",
       "      <th></th>\n",
       "      <th></th>\n",
       "      <th></th>\n",
       "      <th></th>\n",
       "      <th></th>\n",
       "      <th></th>\n",
       "      <th></th>\n",
       "      <th></th>\n",
       "      <th></th>\n",
       "      <th></th>\n",
       "      <th></th>\n",
       "      <th></th>\n",
       "      <th></th>\n",
       "      <th></th>\n",
       "      <th></th>\n",
       "      <th></th>\n",
       "      <th></th>\n",
       "      <th></th>\n",
       "      <th></th>\n",
       "      <th></th>\n",
       "      <th></th>\n",
       "      <th></th>\n",
       "      <th></th>\n",
       "      <th></th>\n",
       "      <th></th>\n",
       "      <th></th>\n",
       "      <th></th>\n",
       "      <th></th>\n",
       "      <th></th>\n",
       "      <th></th>\n",
       "      <th></th>\n",
       "      <th></th>\n",
       "      <th></th>\n",
       "      <th></th>\n",
       "      <th></th>\n",
       "      <th></th>\n",
       "      <th></th>\n",
       "      <th></th>\n",
       "      <th></th>\n",
       "    </tr>\n",
       "  </thead>\n",
       "  <tbody>\n",
       "    <tr>\n",
       "      <th>100001</th>\n",
       "      <td>-1572</td>\n",
       "      <td>-49</td>\n",
       "      <td>-735.00</td>\n",
       "      <td>240043.666667</td>\n",
       "      <td>-1329.0</td>\n",
       "      <td>1778.0</td>\n",
       "      <td>82.428571</td>\n",
       "      <td>-93.142857</td>\n",
       "      <td>0</td>\n",
       "      <td>0.0</td>\n",
       "      <td>NaN</td>\n",
       "      <td>378000.0</td>\n",
       "      <td>207623.571429</td>\n",
       "      <td>1453365.000</td>\n",
       "      <td>373239.0</td>\n",
       "      <td>85240.928571</td>\n",
       "      <td>596686.5</td>\n",
       "      <td>0.0</td>\n",
       "      <td>0.00000</td>\n",
       "      <td>0.000</td>\n",
       "      <td>10822.5</td>\n",
       "      <td>3545.357143</td>\n",
       "      <td>0</td>\n",
       "      <td>-51.0</td>\n",
       "      <td>0.0</td>\n",
       "      <td>24.571429</td>\n",
       "      <td>172.0</td>\n",
       "      <td>0.428571</td>\n",
       "      <td>0.0</td>\n",
       "      <td>0.571429</td>\n",
       "      <td>0.0</td>\n",
       "      <td>0.0</td>\n",
       "      <td>1.0</td>\n",
       "      <td>0.0</td>\n",
       "      <td>0.0</td>\n",
       "      <td>0.0</td>\n",
       "      <td>0.0</td>\n",
       "      <td>0.0</td>\n",
       "      <td>0.0</td>\n",
       "      <td>0.0</td>\n",
       "      <td>1.0</td>\n",
       "      <td>0.0</td>\n",
       "      <td>0.0</td>\n",
       "      <td>0.0</td>\n",
       "      <td>0.0</td>\n",
       "      <td>0.0</td>\n",
       "      <td>0.0</td>\n",
       "      <td>0.0</td>\n",
       "      <td>0.0</td>\n",
       "      <td>0.0</td>\n",
       "      <td>0.0</td>\n",
       "      <td>0.0</td>\n",
       "      <td>0.0</td>\n",
       "      <td>0.336651</td>\n",
       "      <td>0.007519</td>\n",
       "      <td>0.0</td>\n",
       "      <td>0.0</td>\n",
       "      <td>0.0</td>\n",
       "      <td>0.0</td>\n",
       "      <td>0.441240</td>\n",
       "      <td>0.214590</td>\n",
       "      <td>0.0</td>\n",
       "    </tr>\n",
       "    <tr>\n",
       "      <th>100002</th>\n",
       "      <td>-1437</td>\n",
       "      <td>-103</td>\n",
       "      <td>-874.00</td>\n",
       "      <td>186150.000000</td>\n",
       "      <td>-1072.0</td>\n",
       "      <td>780.0</td>\n",
       "      <td>-349.000000</td>\n",
       "      <td>-499.875000</td>\n",
       "      <td>0</td>\n",
       "      <td>0.0</td>\n",
       "      <td>1681.029</td>\n",
       "      <td>450000.0</td>\n",
       "      <td>108131.945625</td>\n",
       "      <td>865055.565</td>\n",
       "      <td>245781.0</td>\n",
       "      <td>49156.200000</td>\n",
       "      <td>245781.0</td>\n",
       "      <td>0.0</td>\n",
       "      <td>7997.14125</td>\n",
       "      <td>31988.565</td>\n",
       "      <td>0.0</td>\n",
       "      <td>0.000000</td>\n",
       "      <td>0</td>\n",
       "      <td>-47.0</td>\n",
       "      <td>0.0</td>\n",
       "      <td>13.750000</td>\n",
       "      <td>110.0</td>\n",
       "      <td>0.250000</td>\n",
       "      <td>0.0</td>\n",
       "      <td>0.750000</td>\n",
       "      <td>0.0</td>\n",
       "      <td>0.0</td>\n",
       "      <td>1.0</td>\n",
       "      <td>0.0</td>\n",
       "      <td>0.0</td>\n",
       "      <td>0.0</td>\n",
       "      <td>0.0</td>\n",
       "      <td>0.0</td>\n",
       "      <td>0.0</td>\n",
       "      <td>0.0</td>\n",
       "      <td>0.5</td>\n",
       "      <td>0.5</td>\n",
       "      <td>0.0</td>\n",
       "      <td>0.0</td>\n",
       "      <td>0.0</td>\n",
       "      <td>0.0</td>\n",
       "      <td>0.0</td>\n",
       "      <td>0.0</td>\n",
       "      <td>0.0</td>\n",
       "      <td>0.0</td>\n",
       "      <td>0.0</td>\n",
       "      <td>0.0</td>\n",
       "      <td>0.0</td>\n",
       "      <td>0.406960</td>\n",
       "      <td>0.255682</td>\n",
       "      <td>0.0</td>\n",
       "      <td>0.0</td>\n",
       "      <td>0.0</td>\n",
       "      <td>0.0</td>\n",
       "      <td>0.175426</td>\n",
       "      <td>0.161932</td>\n",
       "      <td>0.0</td>\n",
       "    </tr>\n",
       "    <tr>\n",
       "      <th>100003</th>\n",
       "      <td>-2586</td>\n",
       "      <td>-606</td>\n",
       "      <td>-1400.75</td>\n",
       "      <td>827783.583333</td>\n",
       "      <td>-2434.0</td>\n",
       "      <td>1216.0</td>\n",
       "      <td>-544.500000</td>\n",
       "      <td>-816.000000</td>\n",
       "      <td>0</td>\n",
       "      <td>0.0</td>\n",
       "      <td>0.000</td>\n",
       "      <td>810000.0</td>\n",
       "      <td>254350.125000</td>\n",
       "      <td>1017400.500</td>\n",
       "      <td>0.0</td>\n",
       "      <td>0.000000</td>\n",
       "      <td>0.0</td>\n",
       "      <td>0.0</td>\n",
       "      <td>202500.00000</td>\n",
       "      <td>810000.000</td>\n",
       "      <td>NaN</td>\n",
       "      <td>NaN</td>\n",
       "      <td>0</td>\n",
       "      <td>NaN</td>\n",
       "      <td>NaN</td>\n",
       "      <td>NaN</td>\n",
       "      <td>0.0</td>\n",
       "      <td>0.250000</td>\n",
       "      <td>0.0</td>\n",
       "      <td>0.750000</td>\n",
       "      <td>0.0</td>\n",
       "      <td>0.0</td>\n",
       "      <td>1.0</td>\n",
       "      <td>0.0</td>\n",
       "      <td>0.0</td>\n",
       "      <td>0.0</td>\n",
       "      <td>0.0</td>\n",
       "      <td>0.0</td>\n",
       "      <td>0.0</td>\n",
       "      <td>0.0</td>\n",
       "      <td>0.5</td>\n",
       "      <td>0.5</td>\n",
       "      <td>0.0</td>\n",
       "      <td>0.0</td>\n",
       "      <td>0.0</td>\n",
       "      <td>0.0</td>\n",
       "      <td>0.0</td>\n",
       "      <td>0.0</td>\n",
       "      <td>0.0</td>\n",
       "      <td>0.0</td>\n",
       "      <td>0.0</td>\n",
       "      <td>0.0</td>\n",
       "      <td>0.0</td>\n",
       "      <td>NaN</td>\n",
       "      <td>NaN</td>\n",
       "      <td>NaN</td>\n",
       "      <td>NaN</td>\n",
       "      <td>NaN</td>\n",
       "      <td>NaN</td>\n",
       "      <td>NaN</td>\n",
       "      <td>NaN</td>\n",
       "      <td>NaN</td>\n",
       "    </tr>\n",
       "  </tbody>\n",
       "</table>\n",
       "</div>"
      ],
      "text/plain": [
       "            BURO_DAYS_CREDIT_MIN  ...  BURO_STATUS_nan_MEAN_MEAN\n",
       "SK_ID_CURR                        ...                           \n",
       "100001                     -1572  ...                        0.0\n",
       "100002                     -1437  ...                        0.0\n",
       "100003                     -2586  ...                        NaN\n",
       "\n",
       "[3 rows x 62 columns]"
      ]
     },
     "metadata": {},
     "output_type": "display_data"
    }
   ],
   "source": [
    "display(bureau_agg.head(3))"
   ]
  },
  {
   "cell_type": "markdown",
   "metadata": {},
   "source": [
    "Mais ce n'est pas terminé, il complète avec une aggrégation spécifique, uniquement sur les variables numériques, et sur le sous-ensemble des deux catégories Active et Closed de la variable CREDIT_ACTIVE.\n",
    "\n",
    "Là, je ne saisis pas ce qu'il fait..\n",
    "\n",
    "Si j'entrevois : cela revient à agréger selon les deux axes SK_ID_CURR et CREDIT_ACTIVE puis pivoter CREDIT_ACTIVE en colonnes (et en ne conservant finalement que les deux catégories principales (Sold et bad debt évincés)). Pourtant ces deux catégories plus rares me semblent informatives : bad debt semble indiquer clairement un client qui a fait défaut (il n'y en a que 21) et Sold... difficile à anticiper la motivation, mais dans un monde de tritrisation, les mauvaises créances ont tendances à être celles que l'on cède."
   ]
  },
  {
   "cell_type": "code",
   "execution_count": null,
   "metadata": {},
   "outputs": [
    {
     "data": {
      "text/html": [
       "<div>\n",
       "<style scoped>\n",
       "    .dataframe tbody tr th:only-of-type {\n",
       "        vertical-align: middle;\n",
       "    }\n",
       "\n",
       "    .dataframe tbody tr th {\n",
       "        vertical-align: top;\n",
       "    }\n",
       "\n",
       "    .dataframe thead th {\n",
       "        text-align: right;\n",
       "    }\n",
       "</style>\n",
       "<table border=\"1\" class=\"dataframe\">\n",
       "  <thead>\n",
       "    <tr style=\"text-align: right;\">\n",
       "      <th>bureau</th>\n",
       "      <th>SK_ID_CURR</th>\n",
       "      <th>SK_ID_BUREAU</th>\n",
       "      <th>CREDIT_ACTIVE</th>\n",
       "      <th>CREDIT_CURRENCY</th>\n",
       "      <th>DAYS_CREDIT</th>\n",
       "      <th>CREDIT_DAY_OVERDUE</th>\n",
       "      <th>DAYS_CREDIT_ENDDATE</th>\n",
       "      <th>DAYS_ENDDATE_FACT</th>\n",
       "      <th>AMT_CREDIT_MAX_OVERDUE</th>\n",
       "      <th>CNT_CREDIT_PROLONG</th>\n",
       "      <th>AMT_CREDIT_SUM</th>\n",
       "      <th>AMT_CREDIT_SUM_DEBT</th>\n",
       "      <th>AMT_CREDIT_SUM_LIMIT</th>\n",
       "      <th>AMT_CREDIT_SUM_OVERDUE</th>\n",
       "      <th>CREDIT_TYPE</th>\n",
       "      <th>DAYS_CREDIT_UPDATE</th>\n",
       "      <th>AMT_ANNUITY</th>\n",
       "    </tr>\n",
       "  </thead>\n",
       "  <tbody>\n",
       "    <tr>\n",
       "      <th>0</th>\n",
       "      <td>215354</td>\n",
       "      <td>5714462</td>\n",
       "      <td>Closed</td>\n",
       "      <td>currency 1</td>\n",
       "      <td>-497</td>\n",
       "      <td>0</td>\n",
       "      <td>-153.0</td>\n",
       "      <td>-153.0</td>\n",
       "      <td>NaN</td>\n",
       "      <td>0</td>\n",
       "      <td>91323.0</td>\n",
       "      <td>0.0</td>\n",
       "      <td>NaN</td>\n",
       "      <td>0.0</td>\n",
       "      <td>Consumer credit</td>\n",
       "      <td>-131</td>\n",
       "      <td>NaN</td>\n",
       "    </tr>\n",
       "    <tr>\n",
       "      <th>1</th>\n",
       "      <td>215354</td>\n",
       "      <td>5714463</td>\n",
       "      <td>Active</td>\n",
       "      <td>currency 1</td>\n",
       "      <td>-208</td>\n",
       "      <td>0</td>\n",
       "      <td>1075.0</td>\n",
       "      <td>NaN</td>\n",
       "      <td>NaN</td>\n",
       "      <td>0</td>\n",
       "      <td>225000.0</td>\n",
       "      <td>171342.0</td>\n",
       "      <td>NaN</td>\n",
       "      <td>0.0</td>\n",
       "      <td>Credit card</td>\n",
       "      <td>-20</td>\n",
       "      <td>NaN</td>\n",
       "    </tr>\n",
       "    <tr>\n",
       "      <th>2</th>\n",
       "      <td>215354</td>\n",
       "      <td>5714464</td>\n",
       "      <td>Active</td>\n",
       "      <td>currency 1</td>\n",
       "      <td>-203</td>\n",
       "      <td>0</td>\n",
       "      <td>528.0</td>\n",
       "      <td>NaN</td>\n",
       "      <td>NaN</td>\n",
       "      <td>0</td>\n",
       "      <td>464323.5</td>\n",
       "      <td>NaN</td>\n",
       "      <td>NaN</td>\n",
       "      <td>0.0</td>\n",
       "      <td>Consumer credit</td>\n",
       "      <td>-16</td>\n",
       "      <td>NaN</td>\n",
       "    </tr>\n",
       "  </tbody>\n",
       "</table>\n",
       "</div>"
      ],
      "text/plain": [
       "bureau  SK_ID_CURR  SK_ID_BUREAU  ... DAYS_CREDIT_UPDATE AMT_ANNUITY\n",
       "0           215354       5714462  ...               -131         NaN\n",
       "1           215354       5714463  ...                -20         NaN\n",
       "2           215354       5714464  ...                -16         NaN\n",
       "\n",
       "[3 rows x 17 columns]"
      ]
     },
     "metadata": {},
     "output_type": "display_data"
    },
    {
     "data": {
      "text/plain": [
       "CREDIT_ACTIVE\n",
       "Closed      1079273\n",
       "Active       630607\n",
       "Sold           6527\n",
       "Bad debt         21\n",
       "Name: count, dtype: int64"
      ]
     },
     "metadata": {},
     "output_type": "display_data"
    }
   ],
   "source": [
    "b = get_bureau()\n",
    "display(b.head(3))\n",
    "display(b.CREDIT_ACTIVE.value_counts())"
   ]
  }
 ],
 "metadata": {
  "kernelspec": {
   "display_name": "Python 3",
   "language": "python",
   "name": "python3"
  },
  "language_info": {
   "codemirror_mode": {
    "name": "ipython",
    "version": 3
   },
   "file_extension": ".py",
   "mimetype": "text/x-python",
   "name": "python",
   "nbconvert_exporter": "python",
   "pygments_lexer": "ipython3",
   "version": "3.11.1"
  },
  "orig_nbformat": 4
 },
 "nbformat": 4,
 "nbformat_minor": 2
}
