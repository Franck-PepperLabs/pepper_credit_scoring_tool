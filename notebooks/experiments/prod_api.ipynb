{
 "cells": [
  {
   "attachments": {},
   "cell_type": "markdown",
   "metadata": {},
   "source": [
    "# **Déploiement de l'API**\n",
    "\n",
    "Mlflow ayant été imposé pour le *tracking* d'expérience, nous utiliserons la même solution pour le *serving* de modèle."
   ]
  },
  {
   "attachments": {},
   "cell_type": "markdown",
   "metadata": {},
   "source": [
    "Pour servir un modèle :\n",
    "\n",
    "```sh\n",
    "$py3105 mlflow models serve -m my_model\n",
    "```"
   ]
  },
  {
   "attachments": {},
   "cell_type": "markdown",
   "metadata": {},
   "source": [
    "Signature du modèle"
   ]
  },
  {
   "cell_type": "code",
   "execution_count": null,
   "metadata": {},
   "outputs": [],
   "source": [
    "from mlflow.models.signature import infer_signature\n",
    "\n",
    "\n",
    "signature = infer_signature(X_train, y_train)"
   ]
  },
  {
   "attachments": {},
   "cell_type": "markdown",
   "metadata": {},
   "source": [
    "Sauvegarde du modèle : elle a déjà été faite par log_model au moment de mener les expériences d'entraînement et de validation.\n",
    "\n",
    "En revanche, nous avons commis l'erreur de ne pas intégrer les derniers traitements de scaling et d'imputation dans une pipeline (un objet de type classifieur qui puisse être passé en argument à l'enregistrement de modèle mlflow).\n",
    "\n",
    "Cela signifie que le client devra réaliser cette partie du traitement."
   ]
  },
  {
   "cell_type": "code",
   "execution_count": null,
   "metadata": {},
   "outputs": [],
   "source": [
    "import mlflow\n",
    "mlflow.sklearn.save_model(pipeline, 'mlflow_model', signature=signature)"
   ]
  }
 ],
 "metadata": {
  "kernelspec": {
   "display_name": "Python 3",
   "language": "python",
   "name": "python3"
  },
  "language_info": {
   "name": "python",
   "version": "3.10.5"
  },
  "orig_nbformat": 4
 },
 "nbformat": 4,
 "nbformat_minor": 2
}
