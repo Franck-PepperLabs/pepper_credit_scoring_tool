{
 "cells": [
  {
   "attachments": {},
   "cell_type": "markdown",
   "metadata": {},
   "source": [
    "# **Déploiement de l'API**\n",
    "\n",
    "Mlflow ayant été imposé pour le *tracking* d'expérience, nous utiliserons la même solution pour le *serving* de modèle."
   ]
  },
  {
   "attachments": {},
   "cell_type": "markdown",
   "metadata": {},
   "source": [
    "Pour servir un modèle :\n",
    "\n",
    "```sh\n",
    "$py3105 mlflow models serve -m my_model\n",
    "```"
   ]
  },
  {
   "attachments": {},
   "cell_type": "markdown",
   "metadata": {},
   "source": [
    "Signature du modèle"
   ]
  },
  {
   "cell_type": "code",
   "execution_count": null,
   "metadata": {},
   "outputs": [],
   "source": [
    "from mlflow.models.signature import infer_signature\n",
    "\n",
    "signature = infer_signature(X_train, y_train)"
   ]
  },
  {
   "attachments": {},
   "cell_type": "markdown",
   "metadata": {},
   "source": [
    "Sauvegarde du modèle : elle a déjà été faite par log_model au moment de mener les expériences d'entraînement et de validation.\n",
    "\n",
    "En revanche, nous avons commis l'erreur de ne pas intégrer les derniers traitements de scaling et d'imputation dans une pipeline (un objet de type classifieur qui puisse être passé en argument à l'enregistrement de modèle mlflow).\n",
    "\n",
    "Cela signifie que le client devra réaliser cette partie du traitement."
   ]
  },
  {
   "cell_type": "code",
   "execution_count": null,
   "metadata": {},
   "outputs": [],
   "source": [
    "import mlflow\n",
    "mlflow.sklearn.save_model(pipeline, 'mlflow_model', signature=signature)"
   ]
  },
  {
   "attachments": {},
   "cell_type": "markdown",
   "metadata": {},
   "source": [
    "Mise en service :\n",
    "\n",
    "```sh\n",
    "mlflow models serve -m mlflow_model/\n",
    "```\n",
    "\n",
    "Requêtage :\n",
    "\n",
    "```sh\n",
    "curl http://127.0.0.1:5000/invocations -H 'Content-Type: application/json' -d '{\"data\": [[1, 2, 3, 4, 5, 6, 7, 8]]}'\n",
    "```"
   ]
  },
  {
   "attachments": {},
   "cell_type": "markdown",
   "metadata": {},
   "source": [
    "# Flask\n",
    "\n",
    "https://flask.palletsprojects.com/en/2.3.x/quickstart/"
   ]
  },
  {
   "attachments": {},
   "cell_type": "markdown",
   "metadata": {},
   "source": [
    "Application minimale :\n",
    "\n",
    "```python\n",
    "from flask import Flask\n",
    "\n",
    "app = Flask(__name__)\n",
    "\n",
    "@app.route(\"/\")\n",
    "def hello_world():\n",
    "    return \"<p>Hello, World!</p>\"\n",
    "```\n",
    "\n",
    "Mise en service:\n",
    "```sh\n",
    "py -m flask --app .\\modules\\home_credit\\flask_app_1_hello run\n",
    "```\n",
    "\n",
    "```\n",
    " * Serving Flask app '.\\modules\\home_credit\\flask_api'\n",
    " * Debug mode: off\n",
    "WARNING: This is a development server. Do not use it in a production deployment. Use a **production WSGI server** instead.\n",
    " * Running on http://127.0.0.1:5000\n",
    " ```\n",
    "\n",
    "Ouverture publique (par défaut mode privé de développement) :\n",
    "\n",
    "```sh\n",
    "$ flask run --host=0.0.0.0\n",
    "```\n",
    "\n",
    "Exécution en mode debug (JAMAIS EN PRODUCTION!!!!):\n",
    "\n",
    "```sh\n",
    "$ flask --app hello run --debug\n",
    "```"
   ]
  },
  {
   "attachments": {},
   "cell_type": "markdown",
   "metadata": {},
   "source": [
    "Se protéger contre l'attaque par injection de code : `escape`\n",
    "\n",
    "```python\n",
    "from markupsafe import escape\n",
    "\n",
    "@app.route(\"/<name>\")\n",
    "def hello(name):\n",
    "    return f\"Hello, {escape(name)}!\"\n",
    "```\n",
    "\n",
    "à tester avec et sans escape et avec la valeur de `name`: `<script>alert(\"bad\")</script>`\n",
    "\n",
    "J'ai tenté avec http://127.0.0.1:5000/%3Cscript%3Ealert(%22bad%22)%3C/script%3E, mais ça ne fonctionne pas !\n"
   ]
  },
  {
   "cell_type": "code",
   "execution_count": 2,
   "metadata": {},
   "outputs": [],
   "source": [
    "from flask import Flask\n",
    "\n",
    "app = Flask(__name__)\n",
    "\n",
    "@app.route(\"/\")\n",
    "def hello_world():\n",
    "    return \"<p>Hello, World!</p>\""
   ]
  },
  {
   "cell_type": "code",
   "execution_count": null,
   "metadata": {},
   "outputs": [],
   "source": [
    "from flask import Flask\n",
    "from markupsafe import escape\n",
    "\n",
    "app = Flask(__name__)\n",
    "\n",
    "@app.route(\"/<name>\")\n",
    "def hello(name):\n",
    "    return f\"Hello, {escape(name)}!\""
   ]
  },
  {
   "attachments": {},
   "cell_type": "markdown",
   "metadata": {},
   "source": [
    "|type|desc|\n",
    "|-|-|\n",
    "|string|(default) accepts any text without a slash|\n",
    "|int|accepts positive integers|\n",
    "|float|accepts positive floating point values|\n",
    "|path|like string but also accepts slashes|\n",
    "|uuid|accepts UUID strings|"
   ]
  },
  {
   "cell_type": "code",
   "execution_count": null,
   "metadata": {},
   "outputs": [],
   "source": [
    "from flask import Flask\n",
    "from markupsafe import escape\n",
    "\n",
    "app = Flask(__name__)\n",
    "\n",
    "@app.route('/user/<username>')\n",
    "def show_user_profile(username):\n",
    "    # show the user profile for that user\n",
    "    return f'User {escape(username)}'\n",
    "\n",
    "@app.route('/post/<int:post_id>')\n",
    "def show_post(post_id):\n",
    "    # show the post with the given id, the id is an integer\n",
    "    return f'Post {post_id}'\n",
    "\n",
    "@app.route('/path/<path:subpath>')\n",
    "def show_subpath(subpath):\n",
    "    # show the subpath after /path/\n",
    "    return f'Subpath {escape(subpath)}'"
   ]
  },
  {
   "attachments": {},
   "cell_type": "markdown",
   "metadata": {},
   "source": [
    "URL Building"
   ]
  },
  {
   "attachments": {},
   "cell_type": "markdown",
   "metadata": {},
   "source": [
    "# Déboguer en ligne le Flask, juste pas confortable"
   ]
  },
  {
   "cell_type": "code",
   "execution_count": 1,
   "metadata": {},
   "outputs": [
    {
     "name": "stdout",
     "output_type": "stream",
     "text": [
      "baseline_v1 loaded (356255, 790)\n",
      "classifier loaded LGBMClassifier(callbacks=None, colsample_bytree=0.9497036, learning_rate=0.02,\n",
      "               max_depth=8, min_child_weight=39.3259775,\n",
      "               min_split_gain=0.0222415, n_estimators=10000, n_jobs=4,\n",
      "               num_leaves=34, reg_alpha=0.041545473, reg_lambda=0.0735294,\n",
      "               subsample=0.8715623)\n"
     ]
    },
    {
     "name": "stderr",
     "output_type": "stream",
     "text": [
      "C:\\Users\\franc\\Projects\\pepper_credit_scoring_tool\\modules\\home_credit\\persist.py:193: UserWarning: Using a non-skops.io save engine can potentially load malicious objects. It is recommended to use skops.io instead.\n",
      "  warnings.warn(\n"
     ]
    }
   ],
   "source": [
    "from flask import Flask, jsonify\n",
    "from home_credit.load import load_prep_dataset\n",
    "from home_credit.persist import load_model\n",
    "from home_credit.best_model_search import train_preproc, predict\n",
    "from sklearn.preprocessing import MinMaxScaler\n",
    "\n",
    "# Chargement du jeu de données\n",
    "data = load_prep_dataset(\"baseline_v1\")\n",
    "print(f\"baseline_v1 loaded {data.shape}\")\n",
    "\n",
    "# Charger le classifieur\n",
    "model = load_model(\"lgbm_baseline_default_third_party\")\n",
    "print(f\"classifier loaded {model}\")"
   ]
  },
  {
   "attachments": {},
   "cell_type": "markdown",
   "metadata": {},
   "source": [
    "Bon, l'erreur de conception de ne pas intégrer en pipeline le scaling et l'imputing me vaut ici de ne pas pouvoir terminer à temps : il faut tout dégrapher et reprendre en arrière, plusieurs jours de travail.\n",
    "\n",
    "Donc je livre mon api en l'état, et il me maquera le dash streamlit et le déploiement Azur."
   ]
  },
  {
   "cell_type": "code",
   "execution_count": 2,
   "metadata": {},
   "outputs": [],
   "source": [
    "def customer(customer_id):\n",
    "    print(\"customer id:\", customer_id)\n",
    "    customer = data[data.SK_ID_CURR == customer_id]\n",
    "    display(customer)\n",
    "    x, y_true = train_preproc(customer, MinMaxScaler(), keep_test_samples=True)\n",
    "    print(\"y_true:\", y_true)\n",
    "    y_prob = model.predict_proba(x)[:, 1]\n",
    "    print(\"y_prob:\", y_prob)\n",
    "    \"\"\"y_pred = int(y_prob > .4)\n",
    "    print(\"y_pred:\", y_pred)\n",
    "    return jsonify({\n",
    "        \"y_true\": y_true,\n",
    "        \"y_prob\": y_prob,\n",
    "        \"y_pred\": y_pred\n",
    "    })\"\"\""
   ]
  },
  {
   "cell_type": "code",
   "execution_count": 3,
   "metadata": {},
   "outputs": [
    {
     "name": "stdout",
     "output_type": "stream",
     "text": [
      "customer id: 100002\n"
     ]
    },
    {
     "data": {
      "text/html": [
       "<div>\n",
       "<style scoped>\n",
       "    .dataframe tbody tr th:only-of-type {\n",
       "        vertical-align: middle;\n",
       "    }\n",
       "\n",
       "    .dataframe tbody tr th {\n",
       "        vertical-align: top;\n",
       "    }\n",
       "\n",
       "    .dataframe thead th {\n",
       "        text-align: right;\n",
       "    }\n",
       "</style>\n",
       "<table border=\"1\" class=\"dataframe\">\n",
       "  <thead>\n",
       "    <tr style=\"text-align: right;\">\n",
       "      <th></th>\n",
       "      <th>SK_ID_CURR</th>\n",
       "      <th>TARGET</th>\n",
       "      <th>CNT_CHILDREN</th>\n",
       "      <th>AMT_INCOME_TOTAL</th>\n",
       "      <th>AMT_CREDIT</th>\n",
       "      <th>AMT_ANNUITY</th>\n",
       "      <th>AMT_GOODS_PRICE</th>\n",
       "      <th>REGION_POPULATION_RELATIVE</th>\n",
       "      <th>DAYS_BIRTH</th>\n",
       "      <th>DAYS_EMPLOYED</th>\n",
       "      <th>...</th>\n",
       "      <th>CC_NAME_CONTRACT_STATUS_Sent_proposal_MIN_nan</th>\n",
       "      <th>CC_NAME_CONTRACT_STATUS_Sent_proposal_MAX_False</th>\n",
       "      <th>CC_NAME_CONTRACT_STATUS_Sent_proposal_MAX_True</th>\n",
       "      <th>CC_NAME_CONTRACT_STATUS_Sent_proposal_MAX_nan</th>\n",
       "      <th>CC_NAME_CONTRACT_STATUS_Signed_MIN_False</th>\n",
       "      <th>CC_NAME_CONTRACT_STATUS_Signed_MIN_True</th>\n",
       "      <th>CC_NAME_CONTRACT_STATUS_Signed_MIN_nan</th>\n",
       "      <th>CC_NAME_CONTRACT_STATUS_Signed_MAX_False</th>\n",
       "      <th>CC_NAME_CONTRACT_STATUS_Signed_MAX_True</th>\n",
       "      <th>CC_NAME_CONTRACT_STATUS_Signed_MAX_nan</th>\n",
       "    </tr>\n",
       "  </thead>\n",
       "  <tbody>\n",
       "    <tr>\n",
       "      <th>0</th>\n",
       "      <td>100002</td>\n",
       "      <td>1</td>\n",
       "      <td>0</td>\n",
       "      <td>202500.0</td>\n",
       "      <td>406597.5</td>\n",
       "      <td>24700.5</td>\n",
       "      <td>351000.0</td>\n",
       "      <td>0.018801</td>\n",
       "      <td>-9461</td>\n",
       "      <td>-637</td>\n",
       "      <td>...</td>\n",
       "      <td>True</td>\n",
       "      <td>False</td>\n",
       "      <td>False</td>\n",
       "      <td>True</td>\n",
       "      <td>False</td>\n",
       "      <td>False</td>\n",
       "      <td>True</td>\n",
       "      <td>False</td>\n",
       "      <td>False</td>\n",
       "      <td>True</td>\n",
       "    </tr>\n",
       "  </tbody>\n",
       "</table>\n",
       "<p>1 rows × 790 columns</p>\n",
       "</div>"
      ],
      "text/plain": [
       "   SK_ID_CURR  TARGET  CNT_CHILDREN  AMT_INCOME_TOTAL  AMT_CREDIT   \n",
       "0      100002       1             0          202500.0    406597.5  \\\n",
       "\n",
       "   AMT_ANNUITY  AMT_GOODS_PRICE  REGION_POPULATION_RELATIVE  DAYS_BIRTH   \n",
       "0      24700.5         351000.0                    0.018801       -9461  \\\n",
       "\n",
       "   DAYS_EMPLOYED  ...  CC_NAME_CONTRACT_STATUS_Sent_proposal_MIN_nan   \n",
       "0           -637  ...                                           True  \\\n",
       "\n",
       "   CC_NAME_CONTRACT_STATUS_Sent_proposal_MAX_False   \n",
       "0                                            False  \\\n",
       "\n",
       "   CC_NAME_CONTRACT_STATUS_Sent_proposal_MAX_True   \n",
       "0                                           False  \\\n",
       "\n",
       "   CC_NAME_CONTRACT_STATUS_Sent_proposal_MAX_nan   \n",
       "0                                           True  \\\n",
       "\n",
       "   CC_NAME_CONTRACT_STATUS_Signed_MIN_False   \n",
       "0                                     False  \\\n",
       "\n",
       "   CC_NAME_CONTRACT_STATUS_Signed_MIN_True   \n",
       "0                                    False  \\\n",
       "\n",
       "   CC_NAME_CONTRACT_STATUS_Signed_MIN_nan   \n",
       "0                                    True  \\\n",
       "\n",
       "   CC_NAME_CONTRACT_STATUS_Signed_MAX_False   \n",
       "0                                     False  \\\n",
       "\n",
       "   CC_NAME_CONTRACT_STATUS_Signed_MAX_True   \n",
       "0                                    False  \\\n",
       "\n",
       "   CC_NAME_CONTRACT_STATUS_Signed_MAX_nan  \n",
       "0                                    True  \n",
       "\n",
       "[1 rows x 790 columns]"
      ]
     },
     "metadata": {},
     "output_type": "display_data"
    },
    {
     "name": "stdout",
     "output_type": "stream",
     "text": [
      "DBG data_train.shape: (1, 790)\n",
      "DBG default_imputation data.shape: (1, 790)\n",
      "DBG default_imputation data_train.shape: (1, 790)\n",
      "DBG default_imputation new_data.shape: (1, 635)\n"
     ]
    },
    {
     "ename": "ValueError",
     "evalue": "Shape of passed values is (1, 635), indices imply (1, 790)",
     "output_type": "error",
     "traceback": [
      "\u001b[1;31m---------------------------------------------------------------------------\u001b[0m",
      "\u001b[1;31mValueError\u001b[0m                                Traceback (most recent call last)",
      "Cell \u001b[1;32mIn[3], line 1\u001b[0m\n\u001b[1;32m----> 1\u001b[0m customer(\u001b[39m100002\u001b[39;49m)\n",
      "Cell \u001b[1;32mIn[2], line 5\u001b[0m, in \u001b[0;36mcustomer\u001b[1;34m(customer_id)\u001b[0m\n\u001b[0;32m      3\u001b[0m customer \u001b[39m=\u001b[39m data[data\u001b[39m.\u001b[39mSK_ID_CURR \u001b[39m==\u001b[39m customer_id]\n\u001b[0;32m      4\u001b[0m display(customer)\n\u001b[1;32m----> 5\u001b[0m x, y_true \u001b[39m=\u001b[39m train_preproc(customer, MinMaxScaler(), keep_test_samples\u001b[39m=\u001b[39;49m\u001b[39mTrue\u001b[39;49;00m)\n\u001b[0;32m      6\u001b[0m \u001b[39mprint\u001b[39m(\u001b[39m\"\u001b[39m\u001b[39my_true:\u001b[39m\u001b[39m\"\u001b[39m, y_true)\n\u001b[0;32m      7\u001b[0m y_prob \u001b[39m=\u001b[39m model\u001b[39m.\u001b[39mpredict_proba(x)[:, \u001b[39m1\u001b[39m]\n",
      "File \u001b[1;32m~\\Projects\\pepper_credit_scoring_tool\\modules\\home_credit\\best_model_search.py:148\u001b[0m, in \u001b[0;36mtrain_preproc\u001b[1;34m(data, scaler, keep_test_samples)\u001b[0m\n\u001b[0;32m    146\u001b[0m data_train \u001b[39m=\u001b[39m data \u001b[39mif\u001b[39;00m keep_test_samples \u001b[39melse\u001b[39;00m data[data\u001b[39m.\u001b[39mTARGET \u001b[39m>\u001b[39m \u001b[39m-\u001b[39m\u001b[39m1\u001b[39m]\n\u001b[0;32m    147\u001b[0m \u001b[39mprint\u001b[39m(\u001b[39m\"\u001b[39m\u001b[39mDBG data_train.shape:\u001b[39m\u001b[39m\"\u001b[39m, data_train\u001b[39m.\u001b[39mshape)\n\u001b[1;32m--> 148\u001b[0m data_train \u001b[39m=\u001b[39m default_imputation(data_train)\n\u001b[0;32m    150\u001b[0m \u001b[39m# Exclude non-feature columns from training and test features\u001b[39;00m\n\u001b[0;32m    151\u001b[0m not_feat_names \u001b[39m=\u001b[39m [\u001b[39m\"\u001b[39m\u001b[39mTARGET\u001b[39m\u001b[39m\"\u001b[39m, \u001b[39m\"\u001b[39m\u001b[39mSK_ID_CURR\u001b[39m\u001b[39m\"\u001b[39m, \u001b[39m\"\u001b[39m\u001b[39mSK_ID_BUREAU\u001b[39m\u001b[39m\"\u001b[39m, \u001b[39m\"\u001b[39m\u001b[39mSK_ID_PREV\u001b[39m\u001b[39m\"\u001b[39m, \u001b[39m\"\u001b[39m\u001b[39mindex\u001b[39m\u001b[39m\"\u001b[39m]\n",
      "File \u001b[1;32m~\\Projects\\pepper_credit_scoring_tool\\modules\\home_credit\\best_model_search.py:68\u001b[0m, in \u001b[0;36mdefault_imputation\u001b[1;34m(data)\u001b[0m\n\u001b[0;32m     65\u001b[0m \u001b[39mprint\u001b[39m(\u001b[39m\"\u001b[39m\u001b[39mDBG default_imputation new_data.shape:\u001b[39m\u001b[39m\"\u001b[39m, new_data\u001b[39m.\u001b[39mshape)\n\u001b[0;32m     67\u001b[0m \u001b[39m# Impute missing values in the entire dataset\u001b[39;00m\n\u001b[1;32m---> 68\u001b[0m \u001b[39mreturn\u001b[39;00m pd\u001b[39m.\u001b[39;49mDataFrame(\n\u001b[0;32m     69\u001b[0m     new_data,\n\u001b[0;32m     70\u001b[0m     columns\u001b[39m=\u001b[39;49mdata\u001b[39m.\u001b[39;49mcolumns, index\u001b[39m=\u001b[39;49mdata\u001b[39m.\u001b[39;49mindex\n\u001b[0;32m     71\u001b[0m )\n",
      "File \u001b[1;32mc:\\Users\\franc\\AppData\\Local\\Programs\\Python\\Python311\\Lib\\site-packages\\pandas\\core\\frame.py:757\u001b[0m, in \u001b[0;36mDataFrame.__init__\u001b[1;34m(self, data, index, columns, dtype, copy)\u001b[0m\n\u001b[0;32m    746\u001b[0m         mgr \u001b[39m=\u001b[39m dict_to_mgr(\n\u001b[0;32m    747\u001b[0m             \u001b[39m# error: Item \"ndarray\" of \"Union[ndarray, Series, Index]\" has no\u001b[39;00m\n\u001b[0;32m    748\u001b[0m             \u001b[39m# attribute \"name\"\u001b[39;00m\n\u001b[1;32m   (...)\u001b[0m\n\u001b[0;32m    754\u001b[0m             copy\u001b[39m=\u001b[39m_copy,\n\u001b[0;32m    755\u001b[0m         )\n\u001b[0;32m    756\u001b[0m     \u001b[39melse\u001b[39;00m:\n\u001b[1;32m--> 757\u001b[0m         mgr \u001b[39m=\u001b[39m ndarray_to_mgr(\n\u001b[0;32m    758\u001b[0m             data,\n\u001b[0;32m    759\u001b[0m             index,\n\u001b[0;32m    760\u001b[0m             columns,\n\u001b[0;32m    761\u001b[0m             dtype\u001b[39m=\u001b[39;49mdtype,\n\u001b[0;32m    762\u001b[0m             copy\u001b[39m=\u001b[39;49mcopy,\n\u001b[0;32m    763\u001b[0m             typ\u001b[39m=\u001b[39;49mmanager,\n\u001b[0;32m    764\u001b[0m         )\n\u001b[0;32m    766\u001b[0m \u001b[39m# For data is list-like, or Iterable (will consume into list)\u001b[39;00m\n\u001b[0;32m    767\u001b[0m \u001b[39melif\u001b[39;00m is_list_like(data):\n",
      "File \u001b[1;32mc:\\Users\\franc\\AppData\\Local\\Programs\\Python\\Python311\\Lib\\site-packages\\pandas\\core\\internals\\construction.py:337\u001b[0m, in \u001b[0;36mndarray_to_mgr\u001b[1;34m(values, index, columns, dtype, copy, typ)\u001b[0m\n\u001b[0;32m    332\u001b[0m \u001b[39m# _prep_ndarraylike ensures that values.ndim == 2 at this point\u001b[39;00m\n\u001b[0;32m    333\u001b[0m index, columns \u001b[39m=\u001b[39m _get_axes(\n\u001b[0;32m    334\u001b[0m     values\u001b[39m.\u001b[39mshape[\u001b[39m0\u001b[39m], values\u001b[39m.\u001b[39mshape[\u001b[39m1\u001b[39m], index\u001b[39m=\u001b[39mindex, columns\u001b[39m=\u001b[39mcolumns\n\u001b[0;32m    335\u001b[0m )\n\u001b[1;32m--> 337\u001b[0m _check_values_indices_shape_match(values, index, columns)\n\u001b[0;32m    339\u001b[0m \u001b[39mif\u001b[39;00m typ \u001b[39m==\u001b[39m \u001b[39m\"\u001b[39m\u001b[39marray\u001b[39m\u001b[39m\"\u001b[39m:\n\u001b[0;32m    340\u001b[0m     \u001b[39mif\u001b[39;00m \u001b[39missubclass\u001b[39m(values\u001b[39m.\u001b[39mdtype\u001b[39m.\u001b[39mtype, \u001b[39mstr\u001b[39m):\n",
      "File \u001b[1;32mc:\\Users\\franc\\AppData\\Local\\Programs\\Python\\Python311\\Lib\\site-packages\\pandas\\core\\internals\\construction.py:408\u001b[0m, in \u001b[0;36m_check_values_indices_shape_match\u001b[1;34m(values, index, columns)\u001b[0m\n\u001b[0;32m    406\u001b[0m passed \u001b[39m=\u001b[39m values\u001b[39m.\u001b[39mshape\n\u001b[0;32m    407\u001b[0m implied \u001b[39m=\u001b[39m (\u001b[39mlen\u001b[39m(index), \u001b[39mlen\u001b[39m(columns))\n\u001b[1;32m--> 408\u001b[0m \u001b[39mraise\u001b[39;00m \u001b[39mValueError\u001b[39;00m(\u001b[39mf\u001b[39m\u001b[39m\"\u001b[39m\u001b[39mShape of passed values is \u001b[39m\u001b[39m{\u001b[39;00mpassed\u001b[39m}\u001b[39;00m\u001b[39m, indices imply \u001b[39m\u001b[39m{\u001b[39;00mimplied\u001b[39m}\u001b[39;00m\u001b[39m\"\u001b[39m)\n",
      "\u001b[1;31mValueError\u001b[0m: Shape of passed values is (1, 635), indices imply (1, 790)"
     ]
    }
   ],
   "source": [
    "customer(100002)"
   ]
  }
 ],
 "metadata": {
  "kernelspec": {
   "display_name": "Python 3",
   "language": "python",
   "name": "python3"
  },
  "language_info": {
   "codemirror_mode": {
    "name": "ipython",
    "version": 3
   },
   "file_extension": ".py",
   "mimetype": "text/x-python",
   "name": "python",
   "nbconvert_exporter": "python",
   "pygments_lexer": "ipython3",
   "version": "3.11.1"
  },
  "orig_nbformat": 4
 },
 "nbformat": 4,
 "nbformat_minor": 2
}
