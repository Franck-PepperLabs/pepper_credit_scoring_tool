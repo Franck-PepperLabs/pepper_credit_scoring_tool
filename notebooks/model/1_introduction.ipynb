{
 "cells": [
  {
   "cell_type": "markdown",
   "metadata": {},
   "source": [
    "# **Best Model Search**\n",
    "\n",
    "Ce notebook se focalise sur la recherche du *meilleur* modèle à retenir pour la mise en production.\n",
    "\n",
    "La première partie \"Préparation de la modélisation\" passe en revue les étapes de traitement, en expliquant leur finalité, et en justifiant les choix effectués parmi les options disponibles. Ces choix sont effectués en relation avec les spécificités du jeu de données Home Credit et avec le but prédictif (ici de la classification binaire supervisée avec classes déséquilibrées). Par choix, nous entendons celui des stratégies (et leurs implémentations) retenues et celui de leurs paramètres fixés ou restreints à un sous-domaine à explorer lors du benchmark.\n",
    "\n",
    "La seconde partie \"Evaluation des modèles\" se concentre sur la mise en place du *framework* sur la base duquel nous allons effectuer notre recherche en grille, c'est-à-dire un benchmark de modèles dont on fait varier les hyperparamètres dans les domaines retenus dans la première partie. De ce point de vue, la première partie est bien une spécification fonctionnelle de la seconde qui en est la réalisation. L'ensemble de ces étapes préparatoires qui interviennent en amont de l'entraînement d'un modèle; l'entraînement du modèle et l'évaluation des performances du modèle, sont intégrées dans une fonction principale **`home_credit.model.train.train_and_eval_pipeline`** qui est le _pipeline_ d'entraînement et d'évaluation principal.\n",
    "\n",
    "La dernière partie \"Benchmark des modèles\" évalue et compare les multiples configurations envisagées en vue de déterminer la plus performante d'entre-elles. L'enjeu est ici de bien définir, objectivement, ce que l'on entend par performance. La performance objective a de nombreuses facettes, parfois contradictoires (corrélées négativement). En gagnant d'un côté, on peut perdre de l'autre. Mais pour simplifier, on distinguera principalement les performances métier, synthétisée dans une fonction de coût objective qu'il s'agit de minimiser (on pourra ici entendre coût pour l'entreprise), et les performances techniques qui se déclinent spatialement (la quantité de ressources mobilisées, notamment la mémoire) et temporellement (la vélocité de l'exécution)."
   ]
  }
 ],
 "metadata": {
  "language_info": {
   "name": "python"
  },
  "orig_nbformat": 4
 },
 "nbformat": 4,
 "nbformat_minor": 2
}
