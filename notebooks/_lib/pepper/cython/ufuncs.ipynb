{
 "cells": [
  {
   "cell_type": "markdown",
   "metadata": {},
   "source": [
    "# **Module `pepper.cython.ufuncs`**"
   ]
  },
  {
   "cell_type": "markdown",
   "metadata": {},
   "source": [
    "# **`is_constant`** non Cython"
   ]
  },
  {
   "cell_type": "markdown",
   "metadata": {},
   "source": [
    "## La fonction"
   ]
  },
  {
   "cell_type": "code",
   "execution_count": 1,
   "metadata": {},
   "outputs": [],
   "source": [
    "import numpy as np\n",
    "import pandas as pd\n",
    "\n",
    "from typing import Iterable, Union\n",
    "\n",
    "def is_constant(x: Iterable[Union[int, float, str]]) -> bool:\n",
    "    \"\"\"\n",
    "    Check if all elements in the group are equal.\n",
    "\n",
    "    Parameters\n",
    "    ----------\n",
    "    x : iterable\n",
    "        The group of elements to be checked.\n",
    "\n",
    "    Returns\n",
    "    -------\n",
    "    bool\n",
    "        True if all elements are equal or if the group has one element,\n",
    "        otherwise False.\n",
    "    \"\"\"\n",
    "    if isinstance(x, (list, tuple)):\n",
    "        # Don't do this: return len(set(x)) <= 1\n",
    "        x = np.array(x)\n",
    "    if isinstance(x, pd.Series):\n",
    "        return x.empty or x.eq(x.iloc[0]).all()\n",
    "    if isinstance(x, np.ndarray):\n",
    "        return len(x) < 1 or np.all(x == x[0])"
   ]
  },
  {
   "cell_type": "markdown",
   "metadata": {},
   "source": [
    "## Tests unitaires"
   ]
  },
  {
   "cell_type": "code",
   "execution_count": 90,
   "metadata": {},
   "outputs": [
    {
     "name": "stdout",
     "output_type": "stream",
     "text": [
      "Case 1: True\n",
      "Case 2: True\n",
      "Case 3: False\n",
      "Case 4: True\n"
     ]
    }
   ],
   "source": [
    "# Test cases\n",
    "\n",
    "# Case 1: All elements in the group are equal\n",
    "group1 = [1, 1, 1, 1]\n",
    "result1 = is_constant(group1)\n",
    "print(f\"Case 1: {result1}\")  # Expected output: True\n",
    "\n",
    "# Case 2: Group has only one element\n",
    "group2 = [2]\n",
    "result2 = is_constant(group2)\n",
    "print(f\"Case 2: {result2}\")  # Expected output: True\n",
    "\n",
    "# Case 3: Group has different elements\n",
    "group3 = [3, 4, 5, 6]\n",
    "result3 = is_constant(group3)\n",
    "print(f\"Case 3: {result3}\")  # Expected output: False\n",
    "\n",
    "# Case 4: Empty group\n",
    "group4 = []\n",
    "result4 = is_constant(group4)\n",
    "print(f\"Case 4: {result4}\")  # Expected output: True"
   ]
  },
  {
   "cell_type": "markdown",
   "metadata": {},
   "source": [
    "## Test sur un **`groupby`**"
   ]
  },
  {
   "cell_type": "code",
   "execution_count": 91,
   "metadata": {},
   "outputs": [
    {
     "data": {
      "text/html": [
       "<div>\n",
       "<style scoped>\n",
       "    .dataframe tbody tr th:only-of-type {\n",
       "        vertical-align: middle;\n",
       "    }\n",
       "\n",
       "    .dataframe tbody tr th {\n",
       "        vertical-align: top;\n",
       "    }\n",
       "\n",
       "    .dataframe thead th {\n",
       "        text-align: right;\n",
       "    }\n",
       "</style>\n",
       "<table border=\"1\" class=\"dataframe\">\n",
       "  <thead>\n",
       "    <tr style=\"text-align: right;\">\n",
       "      <th></th>\n",
       "      <th>Category</th>\n",
       "      <th>Value</th>\n",
       "    </tr>\n",
       "  </thead>\n",
       "  <tbody>\n",
       "    <tr>\n",
       "      <th>0</th>\n",
       "      <td>A</td>\n",
       "      <td>1</td>\n",
       "    </tr>\n",
       "    <tr>\n",
       "      <th>1</th>\n",
       "      <td>A</td>\n",
       "      <td>1</td>\n",
       "    </tr>\n",
       "    <tr>\n",
       "      <th>2</th>\n",
       "      <td>B</td>\n",
       "      <td>2</td>\n",
       "    </tr>\n",
       "    <tr>\n",
       "      <th>3</th>\n",
       "      <td>B</td>\n",
       "      <td>3</td>\n",
       "    </tr>\n",
       "    <tr>\n",
       "      <th>4</th>\n",
       "      <td>C</td>\n",
       "      <td>4</td>\n",
       "    </tr>\n",
       "  </tbody>\n",
       "</table>\n",
       "</div>"
      ],
      "text/plain": [
       "  Category  Value\n",
       "0        A      1\n",
       "1        A      1\n",
       "2        B      2\n",
       "3        B      3\n",
       "4        C      4"
      ]
     },
     "metadata": {},
     "output_type": "display_data"
    },
    {
     "name": "stdout",
     "output_type": "stream",
     "text": [
      "         Value                         \n",
      "           sum size   tuple is_constant\n",
      "Category                               \n",
      "A            2    2  (1, 1)        True\n",
      "B            5    2  (2, 3)       False\n",
      "C            4    1    (4,)        True\n"
     ]
    }
   ],
   "source": [
    "import pandas as pd\n",
    "\n",
    "# Create a sample DataFrame\n",
    "data = {\n",
    "    'Category': ['A', 'A', 'B', 'B', 'C'],\n",
    "    'Value': [1, 1, 2, 3, 4]\n",
    "}\n",
    "\n",
    "df = pd.DataFrame(data)\n",
    "display(df)\n",
    "\n",
    "# Group by 'Category' column and apply the all_equal function\n",
    "grouped = df.groupby(\"Category\")\n",
    "aggregated = grouped.agg({\n",
    "    \"Value\": [\"sum\", \"size\", tuple, is_constant]\n",
    "})\n",
    "\n",
    "print(aggregated)"
   ]
  },
  {
   "cell_type": "markdown",
   "metadata": {},
   "source": [
    "## Alternatives"
   ]
  },
  {
   "cell_type": "code",
   "execution_count": null,
   "metadata": {},
   "outputs": [
    {
     "name": "stdout",
     "output_type": "stream",
     "text": [
      "True\n",
      "True\n",
      "True\n",
      "True\n"
     ]
    }
   ],
   "source": [
    "import pandas as pd\n",
    "import numpy as np\n",
    "\n",
    "s = pd.Series([1, 1, 1, 1])\n",
    "print(s.eq(s.iloc[0]).all())\n",
    "print((s == s[0]).all())\n",
    "print(np.all(s == s[0]))\n",
    "print(len(set(s)) == 1)"
   ]
  },
  {
   "cell_type": "markdown",
   "metadata": {},
   "source": [
    "## Benchmark **`timeit`**"
   ]
  },
  {
   "cell_type": "code",
   "execution_count": 82,
   "metadata": {},
   "outputs": [
    {
     "name": "stdout",
     "output_type": "stream",
     "text": [
      "Benchmark pour des séquences égales :\n",
      "Method 1: 1.035789699992165\n",
      "Method 2: 1.0292290000070352\n",
      "Method 3: 1.0553065999993123\n",
      "\n",
      "Benchmark pour des séquences inégales :\n",
      "Method 1: 1.0315671000280418\n",
      "Method 2: 1.1662725000060163\n",
      "Method 3: 1.0793781999964267\n"
     ]
    }
   ],
   "source": [
    "import pandas as pd\n",
    "import numpy as np\n",
    "import timeit\n",
    "\n",
    "N = 1_000_000\n",
    "n_iter = 1_000\n",
    "\n",
    "# Créer des séquences de données égales et inégales\n",
    "equal_data = [1] * N\n",
    "unequal_data = [1] * (N - 1) + [2]\n",
    "\n",
    "s_equal = pd.Series(equal_data)\n",
    "s_unequal = pd.Series(unequal_data)\n",
    "\n",
    "arr_equal = np.array(equal_data)\n",
    "arr_unequal = np.array(unequal_data)\n",
    "\n",
    "# Fonctions alternatives pour tester l'égalité\n",
    "def method1():\n",
    "    return s_equal.eq(s_equal.iloc[0]).all()\n",
    "\n",
    "def method2():\n",
    "    return (s_equal == s_equal[0]).all()\n",
    "\n",
    "def method3():\n",
    "    return np.all(s_equal == s_equal[0])\n",
    "\n",
    "# Very bad perfs !\n",
    "def method4():\n",
    "    return len(set(s_equal)) == 1\n",
    "\n",
    "# Exécuter le benchmark pour les séquences égales\n",
    "print(\"Benchmark pour des séquences égales :\")\n",
    "print(\"Method 1:\", timeit.timeit(method1, number=n_iter))\n",
    "print(\"Method 2:\", timeit.timeit(method2, number=n_iter))\n",
    "print(\"Method 3:\", timeit.timeit(method3, number=n_iter))\n",
    "# print(\"Method 4:\", timeit.timeit(method4, number=n_iter))\n",
    "\n",
    "# Exécuter le benchmark pour les séquences inégales\n",
    "print(\"\\nBenchmark pour des séquences inégales :\")\n",
    "print(\"Method 1:\", timeit.timeit(lambda: method1(), number=n_iter))\n",
    "print(\"Method 2:\", timeit.timeit(lambda: method2(), number=n_iter))\n",
    "print(\"Method 3:\", timeit.timeit(lambda: method3(), number=n_iter))\n",
    "# print(\"Method 4:\", timeit.timeit(lambda: method4(), number=n_iter))\n"
   ]
  },
  {
   "cell_type": "markdown",
   "metadata": {},
   "source": [
    "# **`is_constant_ufunc`** Cython"
   ]
  },
  {
   "cell_type": "markdown",
   "metadata": {},
   "source": [
    "## Tests unitaires"
   ]
  },
  {
   "cell_type": "code",
   "execution_count": 2,
   "metadata": {},
   "outputs": [
    {
     "name": "stdout",
     "output_type": "stream",
     "text": [
      "Case 1: True\n",
      "Case 2: True\n",
      "Case 3: False\n",
      "Case 4: True\n"
     ]
    }
   ],
   "source": [
    "from pepper.agg import is_constant\n",
    "\n",
    "# Test cases\n",
    "\n",
    "# Case 1: All elements in the group are equal\n",
    "group1 = [1, 1, 1, 1]\n",
    "result1 = is_constant(group1)\n",
    "print(f\"Case 1: {result1}\")  # Expected output: True\n",
    "\n",
    "# Case 2: Group has only one element\n",
    "group2 = [2]\n",
    "result2 = is_constant(group2)\n",
    "print(f\"Case 2: {result2}\")  # Expected output: True\n",
    "\n",
    "# Case 3: Group has different elements\n",
    "group3 = [3, 4, 5, 6]\n",
    "result3 = is_constant(group3)\n",
    "print(f\"Case 3: {result3}\")  # Expected output: False\n",
    "\n",
    "# Case 4: Empty group\n",
    "group4 = []\n",
    "result4 = is_constant(group4)\n",
    "print(f\"Case 4: {result4}\")  # Expected output: True"
   ]
  },
  {
   "cell_type": "markdown",
   "metadata": {},
   "source": [
    "## Test sur un **`groupby`**"
   ]
  },
  {
   "cell_type": "code",
   "execution_count": 1,
   "metadata": {},
   "outputs": [
    {
     "data": {
      "text/html": [
       "<div>\n",
       "<style scoped>\n",
       "    .dataframe tbody tr th:only-of-type {\n",
       "        vertical-align: middle;\n",
       "    }\n",
       "\n",
       "    .dataframe tbody tr th {\n",
       "        vertical-align: top;\n",
       "    }\n",
       "\n",
       "    .dataframe thead th {\n",
       "        text-align: right;\n",
       "    }\n",
       "</style>\n",
       "<table border=\"1\" class=\"dataframe\">\n",
       "  <thead>\n",
       "    <tr style=\"text-align: right;\">\n",
       "      <th></th>\n",
       "      <th>Category</th>\n",
       "      <th>Value</th>\n",
       "    </tr>\n",
       "  </thead>\n",
       "  <tbody>\n",
       "    <tr>\n",
       "      <th>0</th>\n",
       "      <td>A</td>\n",
       "      <td>1</td>\n",
       "    </tr>\n",
       "    <tr>\n",
       "      <th>1</th>\n",
       "      <td>A</td>\n",
       "      <td>1</td>\n",
       "    </tr>\n",
       "    <tr>\n",
       "      <th>2</th>\n",
       "      <td>B</td>\n",
       "      <td>2</td>\n",
       "    </tr>\n",
       "    <tr>\n",
       "      <th>3</th>\n",
       "      <td>B</td>\n",
       "      <td>3</td>\n",
       "    </tr>\n",
       "    <tr>\n",
       "      <th>4</th>\n",
       "      <td>C</td>\n",
       "      <td>4</td>\n",
       "    </tr>\n",
       "  </tbody>\n",
       "</table>\n",
       "</div>"
      ],
      "text/plain": [
       "  Category  Value\n",
       "0        A      1\n",
       "1        A      1\n",
       "2        B      2\n",
       "3        B      3\n",
       "4        C      4"
      ]
     },
     "metadata": {},
     "output_type": "display_data"
    },
    {
     "name": "stdout",
     "output_type": "stream",
     "text": [
      "         Value                         \n",
      "           sum size   tuple is_constant\n",
      "Category                               \n",
      "A            2    2  (1, 1)        True\n",
      "B            5    2  (2, 3)       False\n",
      "C            4    1    (4,)        True\n"
     ]
    }
   ],
   "source": [
    "import pandas as pd\n",
    "from pepper.agg import is_constant\n",
    "\n",
    "# Create a sample DataFrame\n",
    "data = {\n",
    "    'Category': ['A', 'A', 'B', 'B', 'C'],\n",
    "    'Value': [1, 1, 2, 3, 4]\n",
    "}\n",
    "\n",
    "df = pd.DataFrame(data)\n",
    "display(df)\n",
    "\n",
    "# Group by 'Category' column and apply the all_equal function\n",
    "grouped = df.groupby(\"Category\")\n",
    "aggregated = grouped.agg({\n",
    "    \"Value\": [\"sum\", \"size\", tuple, is_constant]\n",
    "})\n",
    "\n",
    "print(aggregated)"
   ]
  },
  {
   "cell_type": "markdown",
   "metadata": {},
   "source": [
    "## Comparaison des performances\n",
    "\n",
    "Pas de gain significatif sur ce cas, mais ce fut l'occasion d'apprendre à faire du Cython.\n",
    "\n",
    "Pour déboguer du Cython et notamment prolonger la pile d'appel en cas d'exception :\n",
    "\n",
    "```python\n",
    "import cython.debug\n",
    "if __name__ == \"__main__\":\n",
    "    cython.debug.embed()\n",
    "    ...\n",
    "```"
   ]
  },
  {
   "cell_type": "code",
   "execution_count": 9,
   "metadata": {},
   "outputs": [
    {
     "name": "stdout",
     "output_type": "stream",
     "text": [
      "Benchmark pour des séquences égales :\n",
      "Method 1: 0.730645600000571\n",
      "Method 2: 0.7046755000001212\n",
      "\n",
      "Benchmark pour des séquences inégales :\n",
      "Method 1: 0.733071700000437\n",
      "Method 2: 0.7308216999999786\n"
     ]
    }
   ],
   "source": [
    "import pandas as pd\n",
    "import numpy as np\n",
    "import timeit\n",
    "from pepper.agg import is_constant as is_constant_cython\n",
    "\n",
    "N = 1_000_000\n",
    "n_iter = 1_000\n",
    "\n",
    "# Créer des séquences de données égales et inégales\n",
    "equal_data = [1] * N\n",
    "unequal_data = [1] * (N - 1) + [2]\n",
    "\n",
    "arr_equal = np.array(equal_data)\n",
    "arr_unequal = np.array(unequal_data)\n",
    "\n",
    "# Exécuter le benchmark pour les séquences égales\n",
    "print(\"Benchmark pour des séquences égales :\")\n",
    "print(\"Method 1:\", timeit.timeit(lambda: is_constant(arr_equal), number=n_iter))\n",
    "print(\"Method 2:\", timeit.timeit(lambda: is_constant_cython(arr_equal), number=n_iter))\n",
    "\n",
    "# Exécuter le benchmark pour les séquences inégales\n",
    "print(\"\\nBenchmark pour des séquences inégales :\")\n",
    "print(\"Method 1:\", timeit.timeit(lambda: is_constant(arr_unequal), number=n_iter))\n",
    "print(\"Method 2:\", timeit.timeit(lambda: is_constant_cython(arr_unequal), number=n_iter))"
   ]
  },
  {
   "cell_type": "code",
   "execution_count": 13,
   "metadata": {},
   "outputs": [
    {
     "name": "stdout",
     "output_type": "stream",
     "text": [
      "0\n"
     ]
    }
   ],
   "source": [
    "x = [1, 10, 5, 8, 3, 2, 7, 6, 0]\n",
    "\n",
    "n = len(x)\n",
    "# i = 1\n",
    "q = 0\n",
    "for i in range(n):\n",
    "    if x[n-1] > i:\n",
    "        q = x[i]\n",
    "print(q)"
   ]
  }
 ],
 "metadata": {
  "kernelspec": {
   "display_name": "Python 3",
   "language": "python",
   "name": "python3"
  },
  "language_info": {
   "codemirror_mode": {
    "name": "ipython",
    "version": 3
   },
   "file_extension": ".py",
   "mimetype": "text/x-python",
   "name": "python",
   "nbconvert_exporter": "python",
   "pygments_lexer": "ipython3",
   "version": "3.11.1"
  },
  "orig_nbformat": 4
 },
 "nbformat": 4,
 "nbformat_minor": 2
}
