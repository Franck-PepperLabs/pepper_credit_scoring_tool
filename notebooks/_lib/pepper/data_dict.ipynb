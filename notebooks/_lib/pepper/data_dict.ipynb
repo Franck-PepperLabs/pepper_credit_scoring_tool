{
 "cells": [
  {
   "cell_type": "markdown",
   "metadata": {},
   "source": [
    "# **Module `pepper.data_dict`**\n",
    "\n",
    "✔ Revue des **typehints** et des **docstrings**."
   ]
  },
  {
   "cell_type": "markdown",
   "metadata": {},
   "source": [
    "# **`print_path_info`**`(path)`"
   ]
  },
  {
   "cell_type": "markdown",
   "metadata": {},
   "source": [
    "# **`create_subdir`**`(project_path, rel_path, verbose)`"
   ]
  },
  {
   "cell_type": "markdown",
   "metadata": {},
   "source": [
    "# **`commented_return`**`(s, o, a, *args)`"
   ]
  },
  {
   "cell_type": "markdown",
   "metadata": {},
   "source": [
    "# **`_load_struct`**`(no_comment)`"
   ]
  },
  {
   "cell_type": "markdown",
   "metadata": {},
   "source": [
    "# get element by id and label\n",
    "\n",
    "- _get_element = lambda id, label: _struct.loc[_struct.id == id, label].values[0]\n",
    "- group = lambda id: _get_element(id, 'group')\n",
    "- subgroup = lambda id: _get_element(id, 'subgroup')\n",
    "- domain = lambda id: _get_element(id, 'domain')\n",
    "- format = lambda id: _get_element(id, 'format')\n",
    "- unity = lambda id: _get_element(id, 'unity')\n",
    "- astype = lambda id: _get_element(id, 'astype')\n",
    "- nan_code = lambda id: _get_element(id, 'nan_code')\n",
    "- nap_code = lambda id: _get_element(id, 'nap_code')\n",
    "\n",
    "# get columns labels from ancestor\n",
    "\n",
    "- _get_labels = lambda k, v: _struct.name[_struct[k] == v].values\n",
    "- get_group_labels = lambda gp_label: _get_labels('group', gp_label)"
   ]
  },
  {
   "cell_type": "markdown",
   "metadata": {},
   "source": [
    "# **`new_multi_index`**`(levels)`"
   ]
  }
 ],
 "metadata": {
  "language_info": {
   "name": "python"
  },
  "orig_nbformat": 4
 },
 "nbformat": 4,
 "nbformat_minor": 2
}
