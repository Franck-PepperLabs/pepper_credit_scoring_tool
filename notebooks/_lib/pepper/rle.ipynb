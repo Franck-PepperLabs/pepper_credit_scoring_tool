{
 "cells": [
  {
   "cell_type": "markdown",
   "metadata": {},
   "source": [
    "# **Module `pepper.rle`**\n",
    "\n",
    "✔ Revue des **typehints** et des **docstrings**."
   ]
  },
  {
   "cell_type": "markdown",
   "metadata": {},
   "source": [
    "# **`row_rle`**`(row: pd.Series) -> np.ndarray`\n",
    "\n",
    "DEPRECATED"
   ]
  },
  {
   "cell_type": "markdown",
   "metadata": {},
   "source": [
    "# **`series_rle_reduction`**`(s: pd.Series) -> np.ndarray`"
   ]
  },
  {
   "cell_type": "markdown",
   "metadata": {},
   "source": [
    "## Détail des étapes\n",
    "\n",
    "Cette fonction est complexe, nous détaillons donc ici ses étapes sur la base d'un exemple."
   ]
  },
  {
   "cell_type": "code",
   "execution_count": 43,
   "metadata": {},
   "outputs": [],
   "source": [
    "import pandas as pd\n",
    "import numpy as np\n",
    "\n",
    "s = pd.Series([1, 1, 2, 2, 2, None, None, 3, 3, 4, 4, None, 4, 4])"
   ]
  },
  {
   "cell_type": "markdown",
   "metadata": {},
   "source": [
    "L'utilisation du caractère rare ☗ pour effectuer des opérations internes sur les chaînes est un classique.\n",
    "\n",
    "Cela n'est pas absolument robuste, mais suffisamment pour la majorité des jeux de données."
   ]
  },
  {
   "cell_type": "code",
   "execution_count": 44,
   "metadata": {},
   "outputs": [
    {
     "data": {
      "text/plain": [
       "array([1.0, 1.0, 2.0, 2.0, 2.0, '☗', '☗', 3.0, 3.0, 4.0, 4.0, '☗', 4.0,\n",
       "       4.0], dtype=object)"
      ]
     },
     "metadata": {},
     "output_type": "display_data"
    }
   ],
   "source": [
    "# Replace np.nan by \"☗\" and cast the Series to a numpy ndarray\n",
    "s = s.astype(object)\n",
    "s.fillna(\"☗\", inplace=True)\n",
    "a = s.to_numpy()\n",
    "display(a)"
   ]
  },
  {
   "cell_type": "markdown",
   "metadata": {},
   "source": [
    "On dérive un index booléen des points d'inflexion (on repère les points où l'élément courant diffère du précédent) :"
   ]
  },
  {
   "cell_type": "code",
   "execution_count": 45,
   "metadata": {},
   "outputs": [
    {
     "data": {
      "text/plain": [
       "array([ True, False,  True, False, False,  True, False,  True, False,\n",
       "        True, False,  True,  True, False,  True])"
      ]
     },
     "metadata": {},
     "output_type": "display_data"
    }
   ],
   "source": [
    "# Find the locations of elements that are not equal to the previous one\n",
    "# The two additional `True` marks the start and the end of sequence\n",
    "diff = np.concatenate(([True], a[:-1] != a[1:], [True]))\n",
    "display(diff)"
   ]
  },
  {
   "cell_type": "markdown",
   "metadata": {},
   "source": [
    "On en déduit les tailles de chacune des sections constantes successives :"
   ]
  },
  {
   "cell_type": "code",
   "execution_count": 48,
   "metadata": {},
   "outputs": [
    {
     "data": {
      "text/plain": [
       "array([ 0,  2,  5,  7,  9, 11, 12, 14], dtype=int64)"
      ]
     },
     "metadata": {},
     "output_type": "display_data"
    },
    {
     "data": {
      "text/plain": [
       "array([2, 3, 2, 2, 2, 1, 2], dtype=int64)"
      ]
     },
     "metadata": {},
     "output_type": "display_data"
    }
   ],
   "source": [
    "# Calculate the count of each unique value using the diffs array\n",
    "# This allows us to determine the sizes of each successive constant section\n",
    "where_diff = np.where(diff)[0]\n",
    "display(where_diff)\n",
    "lens = np.diff(where_diff)\n",
    "display(lens)"
   ]
  },
  {
   "cell_type": "markdown",
   "metadata": {},
   "source": [
    "On récupère l'ensemble sans répétition des valeurs respectives de chaque section constante :"
   ]
  },
  {
   "cell_type": "code",
   "execution_count": 49,
   "metadata": {},
   "outputs": [
    {
     "data": {
      "text/plain": [
       "array([1.0, 2.0, '☗', 3.0, 4.0, '☗', 4.0], dtype=object)"
      ]
     },
     "metadata": {},
     "output_type": "display_data"
    }
   ],
   "source": [
    "# Extract the unique values from the row, including null values\n",
    "vals = a[diff[:-1]]\n",
    "display(vals)"
   ]
  },
  {
   "cell_type": "markdown",
   "metadata": {},
   "source": [
    "On décode les ☗ en `np.nan` :"
   ]
  },
  {
   "cell_type": "code",
   "execution_count": 50,
   "metadata": {},
   "outputs": [
    {
     "data": {
      "text/plain": [
       "array([1.0, 2.0, nan, 3.0, 4.0, nan, 4.0], dtype=object)"
      ]
     },
     "metadata": {},
     "output_type": "display_data"
    }
   ],
   "source": [
    "# Replace \"☗\" by np.nan\n",
    "vals[vals == \"☗\"] = np.nan\n",
    "display(vals)"
   ]
  },
  {
   "cell_type": "markdown",
   "metadata": {},
   "source": [
    "On combine en paires les valeurs et leur nombre de répétitions :"
   ]
  },
  {
   "cell_type": "code",
   "execution_count": 51,
   "metadata": {},
   "outputs": [
    {
     "data": {
      "text/plain": [
       "array([[1.0, 2],\n",
       "       [2.0, 3],\n",
       "       [nan, 2],\n",
       "       [3.0, 2],\n",
       "       [4.0, 2],\n",
       "       [nan, 1],\n",
       "       [4.0, 2]], dtype=object)"
      ]
     },
     "metadata": {},
     "output_type": "display_data"
    }
   ],
   "source": [
    "# Create and return an array of value and count pairs\n",
    "rle = np.column_stack((vals, lens))\n",
    "display(rle)"
   ]
  },
  {
   "cell_type": "markdown",
   "metadata": {},
   "source": [
    "# **`data_rle_reduction`**`(data: pd.DataFrame) -> pd.Series`"
   ]
  },
  {
   "cell_type": "markdown",
   "metadata": {},
   "source": [
    "# **`jumps_rle`**`(s: pd.Series) -> tuple`"
   ]
  },
  {
   "cell_type": "code",
   "execution_count": 2,
   "metadata": {},
   "outputs": [
    {
     "name": "stdout",
     "output_type": "stream",
     "text": [
      "((1, 6),)\n",
      "((1, 2), (2, 1), (1, 2))\n",
      "((1, 1),)\n",
      "()\n"
     ]
    }
   ],
   "source": [
    "from pepper.rle import jumps_rle\n",
    "import pandas as pd\n",
    "\n",
    "s = pd.Series([0, 1, 2, 3, 4, 5])\n",
    "print(jumps_rle(s))\n",
    "# ((1, 6),)\n",
    "\n",
    "s = pd.Series([0, 1, 3, 4, 5])\n",
    "print(jumps_rle(s))\n",
    "# ((1, 2), (2, 1), (1, 2))\n",
    "\n",
    "s = pd.Series([0])\n",
    "print(jumps_rle(s))\n",
    "# ((1, 1))\n",
    "\n",
    "s = pd.Series([], dtype=object)\n",
    "print(jumps_rle(s))\n",
    "# (())"
   ]
  },
  {
   "cell_type": "markdown",
   "metadata": {},
   "source": [
    "# Note à propos des arrondis et des groupby qui forcent le passage par le 64 bits\n",
    "\n",
    "**TODO** : régler les problèmes d'arrondi dans le RLE, certainement liés à mon choix de réduction de la taille d'encodage : correction dans RLE réduction, avec l'ajout d'un paramètre de précision, qui est d'autant plus important qu'il permet de mieux synthétiser à mesure que la précision diminue.\n",
    "\n",
    "Après analyse : c'est le `groupby` et la gestion des types non `float64` par pandas qui est en cause: les valeurs de mes groupes en `float32` ont changé à la sortie et sont des valeurs dégénérées (`0.22` est devenu `0.2199999988079071` alors que le groupement devrait se contenter de collecter les valeurs sans les modifier). La raison est la suivante : le groupby force le passage par np.float64 : en effet,`np.float4(0.22) = 0.2199999988079071` \n",
    "\n",
    "Les stratégies pour contourner :\n",
    "1. ajouter un paramètre optionnel `decimals` à mon `series_rle_reduction` pour qu'il retraite via un `np.round` mais valeurs dégénérées par le `groupby` : c'est également une extension fonctionnelle, puisque permet de regrouper des termes proches.\n",
    "2. moins intrusif et coûteux, simplement corriger le transtypage non sollicité imposé par le `groupby`, avec le passage du `dtype` d'origine à `series_rle_reduction`.\n",
    "3. Avec un temps imparti réduit, rester sur du `float64` dans les tables de niveaux 2 et 3, et ne downcaster que dans le merge final."
   ]
  },
  {
   "cell_type": "markdown",
   "metadata": {},
   "source": [
    "# Expansion RLE\n",
    "\n",
    "Du codage RLE au dataframe."
   ]
  },
  {
   "cell_type": "markdown",
   "metadata": {},
   "source": [
    "## Première partie : trame continue"
   ]
  },
  {
   "cell_type": "markdown",
   "metadata": {},
   "source": [
    "### Exemple d'application\n",
    "\n",
    "Variation mensuelle du niveau de risque de défaut client."
   ]
  },
  {
   "cell_type": "code",
   "execution_count": 5,
   "metadata": {},
   "outputs": [
    {
     "data": {
      "text/html": [
       "<div>\n",
       "<style scoped>\n",
       "    .dataframe tbody tr th:only-of-type {\n",
       "        vertical-align: middle;\n",
       "    }\n",
       "\n",
       "    .dataframe tbody tr th {\n",
       "        vertical-align: top;\n",
       "    }\n",
       "\n",
       "    .dataframe thead th {\n",
       "        text-align: right;\n",
       "    }\n",
       "</style>\n",
       "<table border=\"1\" class=\"dataframe\">\n",
       "  <thead>\n",
       "    <tr style=\"text-align: right;\">\n",
       "      <th></th>\n",
       "      <th>BUREAU_LOAN_STATUS_BY_CLIENT_AND_MONTH</th>\n",
       "      <th>STATUS</th>\n",
       "    </tr>\n",
       "    <tr>\n",
       "      <th>SK_ID_CURR</th>\n",
       "      <th>MONTHS_BALANCE</th>\n",
       "      <th></th>\n",
       "    </tr>\n",
       "  </thead>\n",
       "  <tbody>\n",
       "    <tr>\n",
       "      <th rowspan=\"5\" valign=\"top\">100001</th>\n",
       "      <th>0</th>\n",
       "      <td>0.22</td>\n",
       "    </tr>\n",
       "    <tr>\n",
       "      <th>1</th>\n",
       "      <td>0.00</td>\n",
       "    </tr>\n",
       "    <tr>\n",
       "      <th>2</th>\n",
       "      <td>0.00</td>\n",
       "    </tr>\n",
       "    <tr>\n",
       "      <th>3</th>\n",
       "      <td>0.00</td>\n",
       "    </tr>\n",
       "    <tr>\n",
       "      <th>4</th>\n",
       "      <td>0.00</td>\n",
       "    </tr>\n",
       "    <tr>\n",
       "      <th>...</th>\n",
       "      <th>...</th>\n",
       "      <td>...</td>\n",
       "    </tr>\n",
       "    <tr>\n",
       "      <th rowspan=\"5\" valign=\"top\">456255</th>\n",
       "      <th>72</th>\n",
       "      <td>0.00</td>\n",
       "    </tr>\n",
       "    <tr>\n",
       "      <th>73</th>\n",
       "      <td>0.00</td>\n",
       "    </tr>\n",
       "    <tr>\n",
       "      <th>74</th>\n",
       "      <td>0.00</td>\n",
       "    </tr>\n",
       "    <tr>\n",
       "      <th>75</th>\n",
       "      <td>0.00</td>\n",
       "    </tr>\n",
       "    <tr>\n",
       "      <th>76</th>\n",
       "      <td>0.00</td>\n",
       "    </tr>\n",
       "  </tbody>\n",
       "</table>\n",
       "<p>7365660 rows × 1 columns</p>\n",
       "</div>"
      ],
      "text/plain": [
       "BUREAU_LOAN_STATUS_BY_CLIENT_AND_MONTH  STATUS\n",
       "SK_ID_CURR MONTHS_BALANCE                     \n",
       "100001     0                              0.22\n",
       "           1                              0.00\n",
       "           2                              0.00\n",
       "           3                              0.00\n",
       "           4                              0.00\n",
       "...                                        ...\n",
       "456255     72                             0.00\n",
       "           73                             0.00\n",
       "           74                             0.00\n",
       "           75                             0.00\n",
       "           76                             0.00\n",
       "\n",
       "[7365660 rows x 1 columns]"
      ]
     },
     "metadata": {},
     "output_type": "display_data"
    }
   ],
   "source": [
    "from home_credit.tables import BureauBalance\n",
    "\n",
    "status = BureauBalance.loan_status_by_client_and_month()\n",
    "display(status)"
   ]
  },
  {
   "cell_type": "markdown",
   "metadata": {},
   "source": [
    "### Extraction d'une série longitudinale"
   ]
  },
  {
   "cell_type": "code",
   "execution_count": 19,
   "metadata": {},
   "outputs": [
    {
     "data": {
      "text/plain": [
       "array([0.22, 0.  , 0.  , 0.  , 0.  , 0.  , 0.  , 0.  , 0.  , 0.  , 0.  ,\n",
       "       0.  , 0.  , 0.  , 0.  , 0.  , 0.  , 0.  , 0.  , 0.  , 0.  , 0.  ,\n",
       "       0.  , 0.  , 0.  , 0.  , 0.  , 0.  , 0.  , 0.  , 0.  , 0.  , 0.  ,\n",
       "       0.  , 0.  , 0.  , 0.  , 0.  , 0.  , 0.  , 0.  , 0.  , 0.  , 0.  ,\n",
       "       0.  , 0.  , 0.  , 0.  , 0.  , 0.  , 0.  , 0.  ])"
      ]
     },
     "metadata": {},
     "output_type": "display_data"
    }
   ],
   "source": [
    "s = status.loc[100001][\"STATUS\"]\n",
    "\n",
    "display(s.values)"
   ]
  },
  {
   "cell_type": "markdown",
   "metadata": {},
   "source": [
    "### Réduction RLE de la trame"
   ]
  },
  {
   "cell_type": "code",
   "execution_count": 20,
   "metadata": {},
   "outputs": [
    {
     "name": "stdout",
     "output_type": "stream",
     "text": [
      "((0.22, 1), (0.0, 51))\n",
      "<class 'tuple'>\n"
     ]
    }
   ],
   "source": [
    "from pepper.rle import series_rle_reduction\n",
    "\n",
    "r = series_rle_reduction(s)\n",
    "print(r)\n",
    "print(type(r))"
   ]
  },
  {
   "cell_type": "markdown",
   "metadata": {},
   "source": [
    "### Codage et décodage"
   ]
  },
  {
   "cell_type": "markdown",
   "metadata": {},
   "source": [
    "#### Expansion directe avec `np.repeat`"
   ]
  },
  {
   "cell_type": "code",
   "execution_count": 21,
   "metadata": {},
   "outputs": [
    {
     "data": {
      "text/plain": [
       "array([0, 1, 1, 2, 2, 2])"
      ]
     },
     "metadata": {},
     "output_type": "display_data"
    }
   ],
   "source": [
    "import numpy as np\n",
    "r = ((0, 1), (1, 2), (2, 3))\n",
    "display(np.repeat(*(np.array(r).T)))"
   ]
  },
  {
   "cell_type": "markdown",
   "metadata": {},
   "source": [
    "#### Exemple appliqué"
   ]
  },
  {
   "cell_type": "code",
   "execution_count": 6,
   "metadata": {},
   "outputs": [
    {
     "data": {
      "text/plain": [
       "array([[ 0.22,  1.  ],\n",
       "       [ 0.  , 51.  ]])"
      ]
     },
     "metadata": {},
     "output_type": "display_data"
    },
    {
     "name": "stdout",
     "output_type": "stream",
     "text": [
      "[0.22 0.  ]\n",
      "[ 1 51]\n"
     ]
    },
    {
     "data": {
      "text/plain": [
       "array([0.22, 0.  , 0.  , 0.  , 0.  , 0.  , 0.  , 0.  , 0.  , 0.  , 0.  ,\n",
       "       0.  , 0.  , 0.  , 0.  , 0.  , 0.  , 0.  , 0.  , 0.  , 0.  , 0.  ,\n",
       "       0.  , 0.  , 0.  , 0.  , 0.  , 0.  , 0.  , 0.  , 0.  , 0.  , 0.  ,\n",
       "       0.  , 0.  , 0.  , 0.  , 0.  , 0.  , 0.  , 0.  , 0.  , 0.  , 0.  ,\n",
       "       0.  , 0.  , 0.  , 0.  , 0.  , 0.  , 0.  , 0.  ])"
      ]
     },
     "metadata": {},
     "output_type": "display_data"
    }
   ],
   "source": [
    "r = series_rle_reduction(s)\n",
    "a = np.array(r)\n",
    "display(a)\n",
    "values, counts = np.split(np.array(r), 2, axis=1)\n",
    "counts = counts.astype(int)\n",
    "print(values[:, 0])\n",
    "print(counts[:, 0])\n",
    "display(np.repeat(values[:, 0], counts[:, 0]))"
   ]
  },
  {
   "cell_type": "markdown",
   "metadata": {},
   "source": [
    "#### **`rle_expand_expr`**\n",
    "\n",
    "Fonction d'expansion directe."
   ]
  },
  {
   "cell_type": "code",
   "execution_count": 22,
   "metadata": {},
   "outputs": [
    {
     "data": {
      "text/plain": [
       "array([0, 1, 1, 2, 2, 2])"
      ]
     },
     "metadata": {},
     "output_type": "display_data"
    },
    {
     "data": {
      "text/plain": [
       "array([1. , 0. , 0. , 0.5])"
      ]
     },
     "metadata": {},
     "output_type": "display_data"
    }
   ],
   "source": [
    "from pepper.rle import rle_expand\n",
    "\n",
    "display(rle_expand(((0, 1), (1, 2), (2, 3))))\n",
    "display(rle_expand([[1, 1], [0, 2], [.5, 1]]))"
   ]
  },
  {
   "cell_type": "markdown",
   "metadata": {},
   "source": [
    "#### Application (`apply`) à une suite (`pd.Series`) d'expressions\n",
    "\n",
    "Variation mensuelle du nombre de prêts actifs d'un client."
   ]
  },
  {
   "cell_type": "code",
   "execution_count": 1,
   "metadata": {},
   "outputs": [
    {
     "data": {
      "text/html": [
       "<div>\n",
       "<style scoped>\n",
       "    .dataframe tbody tr th:only-of-type {\n",
       "        vertical-align: middle;\n",
       "    }\n",
       "\n",
       "    .dataframe tbody tr th {\n",
       "        vertical-align: top;\n",
       "    }\n",
       "\n",
       "    .dataframe thead th {\n",
       "        text-align: right;\n",
       "    }\n",
       "</style>\n",
       "<table border=\"1\" class=\"dataframe\">\n",
       "  <thead>\n",
       "    <tr style=\"text-align: right;\">\n",
       "      <th>BUREAU_LOAN_ACTIVITY_BY_CLIENT_AND_MONTH_BY_CLIENT_VARIATIONS</th>\n",
       "      <th>ACTIVE</th>\n",
       "    </tr>\n",
       "    <tr>\n",
       "      <th>SK_ID_CURR</th>\n",
       "      <th></th>\n",
       "    </tr>\n",
       "  </thead>\n",
       "  <tbody>\n",
       "    <tr>\n",
       "      <th>100001</th>\n",
       "      <td>[[3, 2], [2, 9], [1, 10], [2, 8], [1, 1], [0, ...</td>\n",
       "    </tr>\n",
       "    <tr>\n",
       "      <th>100002</th>\n",
       "      <td>[[1, 4], [0, 9], [1, 3], [0, 1], [1, 1], [2, 3...</td>\n",
       "    </tr>\n",
       "    <tr>\n",
       "      <th>100005</th>\n",
       "      <td>[[2, 3], [1, 10]]</td>\n",
       "    </tr>\n",
       "    <tr>\n",
       "      <th>100010</th>\n",
       "      <td>[[0, 26], [1, 10], [0, 26], [1, 10]]</td>\n",
       "    </tr>\n",
       "    <tr>\n",
       "      <th>100013</th>\n",
       "      <td>[[1, 18], [2, 22], [1, 1], [2, 3], [3, 11], [2...</td>\n",
       "    </tr>\n",
       "    <tr>\n",
       "      <th>...</th>\n",
       "      <td>...</td>\n",
       "    </tr>\n",
       "    <tr>\n",
       "      <th>456247</th>\n",
       "      <td>[[2, 1], [3, 2], [4, 7], [3, 1], [2, 1], [1, 1...</td>\n",
       "    </tr>\n",
       "    <tr>\n",
       "      <th>456250</th>\n",
       "      <td>[[2, 25], [3, 1], [2, 2], [1, 5]]</td>\n",
       "    </tr>\n",
       "    <tr>\n",
       "      <th>456253</th>\n",
       "      <td>[[1, 19], [4, 5], [3, 7]]</td>\n",
       "    </tr>\n",
       "    <tr>\n",
       "      <th>456254</th>\n",
       "      <td>[[0, 29], [1, 8]]</td>\n",
       "    </tr>\n",
       "    <tr>\n",
       "      <th>456255</th>\n",
       "      <td>[[0, 3], [2, 4], [3, 3], [4, 2], [3, 1], [2, 2...</td>\n",
       "    </tr>\n",
       "  </tbody>\n",
       "</table>\n",
       "<p>134542 rows × 1 columns</p>\n",
       "</div>"
      ],
      "text/plain": [
       "BUREAU_LOAN_ACTIVITY_BY_CLIENT_AND_MONTH_BY_CLIENT_VARIATIONS                                             ACTIVE\n",
       "SK_ID_CURR                                                                                                      \n",
       "100001                                                         [[3, 2], [2, 9], [1, 10], [2, 8], [1, 1], [0, ...\n",
       "100002                                                         [[1, 4], [0, 9], [1, 3], [0, 1], [1, 1], [2, 3...\n",
       "100005                                                                                         [[2, 3], [1, 10]]\n",
       "100010                                                                      [[0, 26], [1, 10], [0, 26], [1, 10]]\n",
       "100013                                                         [[1, 18], [2, 22], [1, 1], [2, 3], [3, 11], [2...\n",
       "...                                                                                                          ...\n",
       "456247                                                         [[2, 1], [3, 2], [4, 7], [3, 1], [2, 1], [1, 1...\n",
       "456250                                                                         [[2, 25], [3, 1], [2, 2], [1, 5]]\n",
       "456253                                                                                 [[1, 19], [4, 5], [3, 7]]\n",
       "456254                                                                                         [[0, 29], [1, 8]]\n",
       "456255                                                         [[0, 3], [2, 4], [3, 3], [4, 2], [3, 1], [2, 2...\n",
       "\n",
       "[134542 rows x 1 columns]"
      ]
     },
     "metadata": {},
     "output_type": "display_data"
    }
   ],
   "source": [
    "from home_credit.tables import BureauBalance\n",
    "\n",
    "activity_variation = BureauBalance.rle_loan_activity_by_client_variation(from_file=False)\n",
    "display(activity_variation)"
   ]
  },
  {
   "cell_type": "code",
   "execution_count": 6,
   "metadata": {},
   "outputs": [
    {
     "data": {
      "text/plain": [
       "SK_ID_CURR\n",
       "100001    [3, 3, 2, 2, 2, 2, 2, 2, 2, 2, 2, 1, 1, 1, 1, ...\n",
       "100002    [1, 1, 1, 1, 0, 0, 0, 0, 0, 0, 0, 0, 0, 1, 1, ...\n",
       "100005              [2, 2, 2, 1, 1, 1, 1, 1, 1, 1, 1, 1, 1]\n",
       "100010    [0, 0, 0, 0, 0, 0, 0, 0, 0, 0, 0, 0, 0, 0, 0, ...\n",
       "100013    [1, 1, 1, 1, 1, 1, 1, 1, 1, 1, 1, 1, 1, 1, 1, ...\n",
       "                                ...                        \n",
       "456247    [2, 3, 3, 4, 4, 4, 4, 4, 4, 4, 3, 2, 1, 0, 0, ...\n",
       "456250    [2, 2, 2, 2, 2, 2, 2, 2, 2, 2, 2, 2, 2, 2, 2, ...\n",
       "456253    [1, 1, 1, 1, 1, 1, 1, 1, 1, 1, 1, 1, 1, 1, 1, ...\n",
       "456254    [0, 0, 0, 0, 0, 0, 0, 0, 0, 0, 0, 0, 0, 0, 0, ...\n",
       "456255    [0, 0, 0, 2, 2, 2, 2, 3, 3, 3, 4, 4, 3, 2, 2, ...\n",
       "Name: ACTIVE, Length: 134542, dtype: object"
      ]
     },
     "metadata": {},
     "output_type": "display_data"
    }
   ],
   "source": [
    "from pepper.rle import rle_expand\n",
    "\n",
    "display(activity_variation.ACTIVE.apply(rle_expand))"
   ]
  },
  {
   "cell_type": "markdown",
   "metadata": {},
   "source": [
    "## Deuxième partie : trame discontinue"
   ]
  },
  {
   "cell_type": "markdown",
   "metadata": {},
   "source": [
    "### Principe\n",
    "\n",
    "S'il semble assez facile de décoder une suite de `rle_expr` à l'aide de `rle_series.apply(rle_expand_expr)`, c'est sous l'hypothèse que la suite est continue, sans interruption.\n",
    "\n",
    "Or, nos suivis mensuels connaissent des interruptions (des 'trous') de suivi.\n",
    "\n",
    "Pour cette raison, et pour éviter des effets de 'creux', consistant à encoder des suites de NA, nos réductions RLE comportent deux parties :\n",
    "- un **support** : la liste des indices longitudinaux où il y a effectivement suivi, codée par `jumps_rle`,\n",
    "- une **trame** : la liste des valeurs correspondantes, codée par `series_rle_reduction`.\n",
    "\n",
    "Mais j'ai fait quelque chose d'assez fin : mes expressions rle résument les cellules non NA d'un tableau à 97 dimensions.\n",
    "\n",
    "**`rle_jumps`** code le support, c'est à dire les indices des positions successives non NA, en effectuant une réduction RLE sur différentes ('sauts') entre indices successifs, en partant (`prepend`) de -1 : par exemple `((1, 3), (3, 1), (1, 3)` correspond au support suivants : `[0, 1, 2, 5, 6, 7, 8]`."
   ]
  },
  {
   "cell_type": "markdown",
   "metadata": {},
   "source": [
    "### Problématique\n",
    "\n",
    "Le but est de réaliser une fonction qui prend en argument deux suites, une suite de supports et une suite de trames, et qui produit le dataframe correspondant (décodé, et qui était encodé à l'aide ces deux suites).\n",
    "\n",
    "La dimension du dataframe est celle du plus long support.\n",
    "\n",
    "La première première étape est d'extraire cette information du codage rle des support.\n",
    "\n",
    "Ensuite ...\n",
    "\n",
    "Ensuite, il faut trouver la succession d'opérations la plus efficace pour réaliser l'expansion.\n",
    "\n",
    "Pour tirer parti de la fonction précédente, basée sur `repeat`, donc efficace, je pense que la meilleure stratégie est de modifier les `rle_expr` en fonction des `rle_jumps`, pour y insérer des 'trous', c'est à dire des répétitions de `np.nan` là où le support l'indique. Enfin, on utilise notre fonction précédente avec un apply sur les `rle_expr` ainsi transformée. "
   ]
  },
  {
   "cell_type": "markdown",
   "metadata": {},
   "source": [
    "### Récupération de deux suites, de supports et de trames associées"
   ]
  },
  {
   "cell_type": "code",
   "execution_count": 3,
   "metadata": {},
   "outputs": [
    {
     "data": {
      "text/html": [
       "<div>\n",
       "<style scoped>\n",
       "    .dataframe tbody tr th:only-of-type {\n",
       "        vertical-align: middle;\n",
       "    }\n",
       "\n",
       "    .dataframe tbody tr th {\n",
       "        vertical-align: top;\n",
       "    }\n",
       "\n",
       "    .dataframe thead th {\n",
       "        text-align: right;\n",
       "    }\n",
       "</style>\n",
       "<table border=\"1\" class=\"dataframe\">\n",
       "  <thead>\n",
       "    <tr style=\"text-align: right;\">\n",
       "      <th>BUREAU_LOAN_TRACKING_PERIOD</th>\n",
       "      <th>MONTHS_BALANCE</th>\n",
       "    </tr>\n",
       "    <tr>\n",
       "      <th>SK_ID_BUREAU</th>\n",
       "      <th></th>\n",
       "    </tr>\n",
       "  </thead>\n",
       "  <tbody>\n",
       "    <tr>\n",
       "      <th>5001710</th>\n",
       "      <td>[[1, 83]]</td>\n",
       "    </tr>\n",
       "    <tr>\n",
       "      <th>5001711</th>\n",
       "      <td>[[1, 4]]</td>\n",
       "    </tr>\n",
       "    <tr>\n",
       "      <th>5001712</th>\n",
       "      <td>[[1, 19]]</td>\n",
       "    </tr>\n",
       "    <tr>\n",
       "      <th>5001713</th>\n",
       "      <td>[[1, 22]]</td>\n",
       "    </tr>\n",
       "    <tr>\n",
       "      <th>5001714</th>\n",
       "      <td>[[1, 15]]</td>\n",
       "    </tr>\n",
       "    <tr>\n",
       "      <th>...</th>\n",
       "      <td>...</td>\n",
       "    </tr>\n",
       "    <tr>\n",
       "      <th>6842884</th>\n",
       "      <td>[[1, 48]]</td>\n",
       "    </tr>\n",
       "    <tr>\n",
       "      <th>6842885</th>\n",
       "      <td>[[1, 24]]</td>\n",
       "    </tr>\n",
       "    <tr>\n",
       "      <th>6842886</th>\n",
       "      <td>[[1, 33]]</td>\n",
       "    </tr>\n",
       "    <tr>\n",
       "      <th>6842887</th>\n",
       "      <td>[[1, 37]]</td>\n",
       "    </tr>\n",
       "    <tr>\n",
       "      <th>6842888</th>\n",
       "      <td>[[1, 62]]</td>\n",
       "    </tr>\n",
       "  </tbody>\n",
       "</table>\n",
       "<p>774354 rows × 1 columns</p>\n",
       "</div>"
      ],
      "text/plain": [
       "BUREAU_LOAN_TRACKING_PERIOD MONTHS_BALANCE\n",
       "SK_ID_BUREAU                              \n",
       "5001710                          [[1, 83]]\n",
       "5001711                           [[1, 4]]\n",
       "5001712                          [[1, 19]]\n",
       "5001713                          [[1, 22]]\n",
       "5001714                          [[1, 15]]\n",
       "...                                    ...\n",
       "6842884                          [[1, 48]]\n",
       "6842885                          [[1, 24]]\n",
       "6842886                          [[1, 33]]\n",
       "6842887                          [[1, 37]]\n",
       "6842888                          [[1, 62]]\n",
       "\n",
       "[774354 rows x 1 columns]"
      ]
     },
     "metadata": {},
     "output_type": "display_data"
    },
    {
     "data": {
      "text/html": [
       "<div>\n",
       "<style scoped>\n",
       "    .dataframe tbody tr th:only-of-type {\n",
       "        vertical-align: middle;\n",
       "    }\n",
       "\n",
       "    .dataframe tbody tr th {\n",
       "        vertical-align: top;\n",
       "    }\n",
       "\n",
       "    .dataframe thead th {\n",
       "        text-align: right;\n",
       "    }\n",
       "</style>\n",
       "<table border=\"1\" class=\"dataframe\">\n",
       "  <thead>\n",
       "    <tr style=\"text-align: right;\">\n",
       "      <th>BUREAU_LOAN_STATUS_BY_MONTH_VARIATIONS</th>\n",
       "      <th>STATUS</th>\n",
       "    </tr>\n",
       "    <tr>\n",
       "      <th>SK_ID_BUREAU</th>\n",
       "      <th></th>\n",
       "    </tr>\n",
       "  </thead>\n",
       "  <tbody>\n",
       "    <tr>\n",
       "      <th>5001710</th>\n",
       "      <td>[[0, 83]]</td>\n",
       "    </tr>\n",
       "    <tr>\n",
       "      <th>5001711</th>\n",
       "      <td>[[0, 4]]</td>\n",
       "    </tr>\n",
       "    <tr>\n",
       "      <th>5001712</th>\n",
       "      <td>[[0, 19]]</td>\n",
       "    </tr>\n",
       "    <tr>\n",
       "      <th>5001713</th>\n",
       "      <td>[[0, 22]]</td>\n",
       "    </tr>\n",
       "    <tr>\n",
       "      <th>5001714</th>\n",
       "      <td>[[0, 15]]</td>\n",
       "    </tr>\n",
       "    <tr>\n",
       "      <th>...</th>\n",
       "      <td>...</td>\n",
       "    </tr>\n",
       "    <tr>\n",
       "      <th>6842884</th>\n",
       "      <td>[[0, 48]]</td>\n",
       "    </tr>\n",
       "    <tr>\n",
       "      <th>6842885</th>\n",
       "      <td>[[5, 12], [0, 12]]</td>\n",
       "    </tr>\n",
       "    <tr>\n",
       "      <th>6842886</th>\n",
       "      <td>[[0, 33]]</td>\n",
       "    </tr>\n",
       "    <tr>\n",
       "      <th>6842887</th>\n",
       "      <td>[[0, 37]]</td>\n",
       "    </tr>\n",
       "    <tr>\n",
       "      <th>6842888</th>\n",
       "      <td>[[0, 58], [1, 1], [0, 3]]</td>\n",
       "    </tr>\n",
       "  </tbody>\n",
       "</table>\n",
       "<p>774354 rows × 1 columns</p>\n",
       "</div>"
      ],
      "text/plain": [
       "BUREAU_LOAN_STATUS_BY_MONTH_VARIATIONS                     STATUS\n",
       "SK_ID_BUREAU                                                     \n",
       "5001710                                                 [[0, 83]]\n",
       "5001711                                                  [[0, 4]]\n",
       "5001712                                                 [[0, 19]]\n",
       "5001713                                                 [[0, 22]]\n",
       "5001714                                                 [[0, 15]]\n",
       "...                                                           ...\n",
       "6842884                                                 [[0, 48]]\n",
       "6842885                                        [[5, 12], [0, 12]]\n",
       "6842886                                                 [[0, 33]]\n",
       "6842887                                                 [[0, 37]]\n",
       "6842888                                 [[0, 58], [1, 1], [0, 3]]\n",
       "\n",
       "[774354 rows x 1 columns]"
      ]
     },
     "metadata": {},
     "output_type": "display_data"
    }
   ],
   "source": [
    "from home_credit.tables import BureauBalance\n",
    "\n",
    "supports = BureauBalance.rle_loan_tracking_period()\n",
    "frames = BureauBalance.rle_loan_status_variation()\n",
    "display(supports)\n",
    "display(frames)"
   ]
  },
  {
   "cell_type": "markdown",
   "metadata": {},
   "source": [
    "### Utilitaires d'analyse de support"
   ]
  },
  {
   "cell_type": "markdown",
   "metadata": {},
   "source": [
    "#### **`rle_expr_to_numpy`**"
   ]
  },
  {
   "cell_type": "markdown",
   "metadata": {},
   "source": [
    "#### **`rle_support_size`**"
   ]
  },
  {
   "cell_type": "code",
   "execution_count": 2,
   "metadata": {},
   "outputs": [
    {
     "name": "stdout",
     "output_type": "stream",
     "text": [
      "52\n",
      "72\n"
     ]
    },
    {
     "data": {
      "text/plain": [
       "SK_ID_BUREAU\n",
       "5001710    83\n",
       "5001711     4\n",
       "5001712    19\n",
       "5001713    22\n",
       "5001714    15\n",
       "           ..\n",
       "6842884    48\n",
       "6842885    24\n",
       "6842886    33\n",
       "6842887    37\n",
       "6842888    62\n",
       "Name: MONTHS_BALANCE, Length: 774354, dtype: int64"
      ]
     },
     "metadata": {},
     "output_type": "display_data"
    }
   ],
   "source": [
    "from pepper.rle import rle_support_size\n",
    "\n",
    "print(rle_support_size(((1, 52),)))\n",
    "print(rle_support_size(((3, 1), (1, 35), (18, 1), (1, 35))))\n",
    "support_sizes = supports.MONTHS_BALANCE.apply(rle_support_size)\n",
    "display(support_sizes)"
   ]
  },
  {
   "cell_type": "code",
   "execution_count": 3,
   "metadata": {},
   "outputs": [
    {
     "data": {
      "text/plain": [
       "SK_ID_BUREAU\n",
       "5001728    0\n",
       "5001872    0\n",
       "5001908    0\n",
       "5001909    0\n",
       "5002689    0\n",
       "          ..\n",
       "6841758    0\n",
       "6841924    0\n",
       "6841944    0\n",
       "6841956    0\n",
       "6842835    0\n",
       "Name: MONTHS_BALANCE, Length: 5904, dtype: int64"
      ]
     },
     "metadata": {},
     "output_type": "display_data"
    },
    {
     "data": {
      "text/html": [
       "<div>\n",
       "<style scoped>\n",
       "    .dataframe tbody tr th:only-of-type {\n",
       "        vertical-align: middle;\n",
       "    }\n",
       "\n",
       "    .dataframe tbody tr th {\n",
       "        vertical-align: top;\n",
       "    }\n",
       "\n",
       "    .dataframe thead th {\n",
       "        text-align: right;\n",
       "    }\n",
       "</style>\n",
       "<table border=\"1\" class=\"dataframe\">\n",
       "  <thead>\n",
       "    <tr style=\"text-align: right;\">\n",
       "      <th>BUREAU_LOAN_TRACKING_PERIOD</th>\n",
       "      <th>MONTHS_BALANCE</th>\n",
       "    </tr>\n",
       "    <tr>\n",
       "      <th>SK_ID_BUREAU</th>\n",
       "      <th></th>\n",
       "    </tr>\n",
       "  </thead>\n",
       "  <tbody>\n",
       "    <tr>\n",
       "      <th>5001728</th>\n",
       "      <td>[]</td>\n",
       "    </tr>\n",
       "    <tr>\n",
       "      <th>5001872</th>\n",
       "      <td>[]</td>\n",
       "    </tr>\n",
       "    <tr>\n",
       "      <th>5001908</th>\n",
       "      <td>[]</td>\n",
       "    </tr>\n",
       "    <tr>\n",
       "      <th>5001909</th>\n",
       "      <td>[]</td>\n",
       "    </tr>\n",
       "    <tr>\n",
       "      <th>5002689</th>\n",
       "      <td>[]</td>\n",
       "    </tr>\n",
       "    <tr>\n",
       "      <th>...</th>\n",
       "      <td>...</td>\n",
       "    </tr>\n",
       "    <tr>\n",
       "      <th>6841758</th>\n",
       "      <td>[]</td>\n",
       "    </tr>\n",
       "    <tr>\n",
       "      <th>6841924</th>\n",
       "      <td>[]</td>\n",
       "    </tr>\n",
       "    <tr>\n",
       "      <th>6841944</th>\n",
       "      <td>[]</td>\n",
       "    </tr>\n",
       "    <tr>\n",
       "      <th>6841956</th>\n",
       "      <td>[]</td>\n",
       "    </tr>\n",
       "    <tr>\n",
       "      <th>6842835</th>\n",
       "      <td>[]</td>\n",
       "    </tr>\n",
       "  </tbody>\n",
       "</table>\n",
       "<p>5904 rows × 1 columns</p>\n",
       "</div>"
      ],
      "text/plain": [
       "BUREAU_LOAN_TRACKING_PERIOD MONTHS_BALANCE\n",
       "SK_ID_BUREAU                              \n",
       "5001728                                 []\n",
       "5001872                                 []\n",
       "5001908                                 []\n",
       "5001909                                 []\n",
       "5002689                                 []\n",
       "...                                    ...\n",
       "6841758                                 []\n",
       "6841924                                 []\n",
       "6841944                                 []\n",
       "6841956                                 []\n",
       "6842835                                 []\n",
       "\n",
       "[5904 rows x 1 columns]"
      ]
     },
     "metadata": {},
     "output_type": "display_data"
    }
   ],
   "source": [
    "display(support_sizes[support_sizes == 0])\n",
    "display(supports.loc[support_sizes == 0])"
   ]
  },
  {
   "cell_type": "markdown",
   "metadata": {},
   "source": [
    "#### **`rle_support_min_index`**"
   ]
  },
  {
   "cell_type": "code",
   "execution_count": 5,
   "metadata": {},
   "outputs": [
    {
     "name": "stdout",
     "output_type": "stream",
     "text": [
      "0\n",
      "2\n"
     ]
    },
    {
     "data": {
      "text/plain": [
       "SK_ID_BUREAU\n",
       "5001710    0\n",
       "5001711    0\n",
       "5001712    0\n",
       "5001713    0\n",
       "5001714    0\n",
       "          ..\n",
       "6842884    0\n",
       "6842885    0\n",
       "6842886    0\n",
       "6842887    0\n",
       "6842888    0\n",
       "Name: MONTHS_BALANCE, Length: 774354, dtype: int64"
      ]
     },
     "metadata": {},
     "output_type": "display_data"
    }
   ],
   "source": [
    "from pepper.rle import rle_support_min_index\n",
    "\n",
    "print(rle_support_min_index(((1, 52),)))\n",
    "print(rle_support_min_index(((3, 1), (1, 35), (18, 1), (1, 35))))\n",
    "support_min_indices = supports.MONTHS_BALANCE.apply(rle_support_min_index)\n",
    "display(support_min_indices)"
   ]
  },
  {
   "cell_type": "code",
   "execution_count": 6,
   "metadata": {},
   "outputs": [
    {
     "data": {
      "text/plain": [
       "SK_ID_BUREAU\n",
       "5001787    1\n",
       "5001788    1\n",
       "5001824    1\n",
       "5001859    1\n",
       "5001996    1\n",
       "          ..\n",
       "6842558    1\n",
       "6842694    1\n",
       "6842696    1\n",
       "6842729    1\n",
       "6842771    1\n",
       "Name: MONTHS_BALANCE, Length: 185112, dtype: int64"
      ]
     },
     "metadata": {},
     "output_type": "display_data"
    },
    {
     "data": {
      "text/html": [
       "<div>\n",
       "<style scoped>\n",
       "    .dataframe tbody tr th:only-of-type {\n",
       "        vertical-align: middle;\n",
       "    }\n",
       "\n",
       "    .dataframe tbody tr th {\n",
       "        vertical-align: top;\n",
       "    }\n",
       "\n",
       "    .dataframe thead th {\n",
       "        text-align: right;\n",
       "    }\n",
       "</style>\n",
       "<table border=\"1\" class=\"dataframe\">\n",
       "  <thead>\n",
       "    <tr style=\"text-align: right;\">\n",
       "      <th>BUREAU_LOAN_TRACKING_PERIOD</th>\n",
       "      <th>MONTHS_BALANCE</th>\n",
       "    </tr>\n",
       "    <tr>\n",
       "      <th>SK_ID_BUREAU</th>\n",
       "      <th></th>\n",
       "    </tr>\n",
       "  </thead>\n",
       "  <tbody>\n",
       "    <tr>\n",
       "      <th>5001787</th>\n",
       "      <td>[[2, 1], [1, 16]]</td>\n",
       "    </tr>\n",
       "    <tr>\n",
       "      <th>5001788</th>\n",
       "      <td>[[2, 1], [1, 16]]</td>\n",
       "    </tr>\n",
       "    <tr>\n",
       "      <th>5001824</th>\n",
       "      <td>[[2, 1], [1, 36]]</td>\n",
       "    </tr>\n",
       "    <tr>\n",
       "      <th>5001859</th>\n",
       "      <td>[[2, 1], [1, 33]]</td>\n",
       "    </tr>\n",
       "    <tr>\n",
       "      <th>5001996</th>\n",
       "      <td>[[2, 1], [1, 33]]</td>\n",
       "    </tr>\n",
       "    <tr>\n",
       "      <th>...</th>\n",
       "      <td>...</td>\n",
       "    </tr>\n",
       "    <tr>\n",
       "      <th>6842558</th>\n",
       "      <td>[[2, 1], [1, 90]]</td>\n",
       "    </tr>\n",
       "    <tr>\n",
       "      <th>6842694</th>\n",
       "      <td>[[2, 1], [1, 89]]</td>\n",
       "    </tr>\n",
       "    <tr>\n",
       "      <th>6842696</th>\n",
       "      <td>[[2, 1], [1, 84]]</td>\n",
       "    </tr>\n",
       "    <tr>\n",
       "      <th>6842729</th>\n",
       "      <td>[[2, 1], [1, 49]]</td>\n",
       "    </tr>\n",
       "    <tr>\n",
       "      <th>6842771</th>\n",
       "      <td>[[2, 1], [1, 56]]</td>\n",
       "    </tr>\n",
       "  </tbody>\n",
       "</table>\n",
       "<p>185112 rows × 1 columns</p>\n",
       "</div>"
      ],
      "text/plain": [
       "BUREAU_LOAN_TRACKING_PERIOD     MONTHS_BALANCE\n",
       "SK_ID_BUREAU                                  \n",
       "5001787                      [[2, 1], [1, 16]]\n",
       "5001788                      [[2, 1], [1, 16]]\n",
       "5001824                      [[2, 1], [1, 36]]\n",
       "5001859                      [[2, 1], [1, 33]]\n",
       "5001996                      [[2, 1], [1, 33]]\n",
       "...                                        ...\n",
       "6842558                      [[2, 1], [1, 90]]\n",
       "6842694                      [[2, 1], [1, 89]]\n",
       "6842696                      [[2, 1], [1, 84]]\n",
       "6842729                      [[2, 1], [1, 49]]\n",
       "6842771                      [[2, 1], [1, 56]]\n",
       "\n",
       "[185112 rows x 1 columns]"
      ]
     },
     "metadata": {},
     "output_type": "display_data"
    }
   ],
   "source": [
    "display(support_min_indices[support_min_indices > 0])\n",
    "display(supports.loc[support_min_indices > 0])"
   ]
  },
  {
   "cell_type": "markdown",
   "metadata": {},
   "source": [
    "#### **`rle_support_max_index`**"
   ]
  },
  {
   "cell_type": "code",
   "execution_count": 8,
   "metadata": {},
   "outputs": [
    {
     "name": "stdout",
     "output_type": "stream",
     "text": [
      "51\n",
      "90\n"
     ]
    },
    {
     "data": {
      "text/plain": [
       "SK_ID_BUREAU\n",
       "5001710    82\n",
       "5001711     3\n",
       "5001712    18\n",
       "5001713    21\n",
       "5001714    14\n",
       "           ..\n",
       "6842884    47\n",
       "6842885    23\n",
       "6842886    32\n",
       "6842887    36\n",
       "6842888    61\n",
       "Name: MONTHS_BALANCE, Length: 774354, dtype: int64"
      ]
     },
     "metadata": {},
     "output_type": "display_data"
    }
   ],
   "source": [
    "from pepper.rle import rle_support_max_index\n",
    "\n",
    "print(rle_support_max_index(((1, 52),)))\n",
    "print(rle_support_max_index(((3, 1), (1, 35), (18, 1), (1, 35))))\n",
    "support_max_indices = supports.MONTHS_BALANCE.apply(rle_support_max_index)\n",
    "display(support_max_indices)"
   ]
  },
  {
   "cell_type": "code",
   "execution_count": 10,
   "metadata": {},
   "outputs": [
    {
     "data": {
      "text/plain": [
       "SK_ID_BUREAU\n",
       "5011980    96\n",
       "5025742    96\n",
       "5028345    96\n",
       "5045788    96\n",
       "5047961    96\n",
       "           ..\n",
       "6733167    96\n",
       "6746600    96\n",
       "6758828    96\n",
       "6801845    96\n",
       "6827017    96\n",
       "Name: MONTHS_BALANCE, Length: 106, dtype: int64"
      ]
     },
     "metadata": {},
     "output_type": "display_data"
    },
    {
     "data": {
      "text/html": [
       "<div>\n",
       "<style scoped>\n",
       "    .dataframe tbody tr th:only-of-type {\n",
       "        vertical-align: middle;\n",
       "    }\n",
       "\n",
       "    .dataframe tbody tr th {\n",
       "        vertical-align: top;\n",
       "    }\n",
       "\n",
       "    .dataframe thead th {\n",
       "        text-align: right;\n",
       "    }\n",
       "</style>\n",
       "<table border=\"1\" class=\"dataframe\">\n",
       "  <thead>\n",
       "    <tr style=\"text-align: right;\">\n",
       "      <th>BUREAU_LOAN_TRACKING_PERIOD</th>\n",
       "      <th>MONTHS_BALANCE</th>\n",
       "    </tr>\n",
       "    <tr>\n",
       "      <th>SK_ID_BUREAU</th>\n",
       "      <th></th>\n",
       "    </tr>\n",
       "  </thead>\n",
       "  <tbody>\n",
       "    <tr>\n",
       "      <th>5011980</th>\n",
       "      <td>[[2, 1], [1, 95]]</td>\n",
       "    </tr>\n",
       "    <tr>\n",
       "      <th>5025742</th>\n",
       "      <td>[[87, 1], [1, 10]]</td>\n",
       "    </tr>\n",
       "    <tr>\n",
       "      <th>5028345</th>\n",
       "      <td>[[66, 1], [1, 31]]</td>\n",
       "    </tr>\n",
       "    <tr>\n",
       "      <th>5045788</th>\n",
       "      <td>[[1, 97]]</td>\n",
       "    </tr>\n",
       "    <tr>\n",
       "      <th>5047961</th>\n",
       "      <td>[[52, 1], [1, 45]]</td>\n",
       "    </tr>\n",
       "    <tr>\n",
       "      <th>...</th>\n",
       "      <td>...</td>\n",
       "    </tr>\n",
       "    <tr>\n",
       "      <th>6733167</th>\n",
       "      <td>[[1, 97]]</td>\n",
       "    </tr>\n",
       "    <tr>\n",
       "      <th>6746600</th>\n",
       "      <td>[[37, 1], [1, 60]]</td>\n",
       "    </tr>\n",
       "    <tr>\n",
       "      <th>6758828</th>\n",
       "      <td>[[94, 1], [1, 3]]</td>\n",
       "    </tr>\n",
       "    <tr>\n",
       "      <th>6801845</th>\n",
       "      <td>[[1, 97]]</td>\n",
       "    </tr>\n",
       "    <tr>\n",
       "      <th>6827017</th>\n",
       "      <td>[[1, 97]]</td>\n",
       "    </tr>\n",
       "  </tbody>\n",
       "</table>\n",
       "<p>106 rows × 1 columns</p>\n",
       "</div>"
      ],
      "text/plain": [
       "BUREAU_LOAN_TRACKING_PERIOD      MONTHS_BALANCE\n",
       "SK_ID_BUREAU                                   \n",
       "5011980                       [[2, 1], [1, 95]]\n",
       "5025742                      [[87, 1], [1, 10]]\n",
       "5028345                      [[66, 1], [1, 31]]\n",
       "5045788                               [[1, 97]]\n",
       "5047961                      [[52, 1], [1, 45]]\n",
       "...                                         ...\n",
       "6733167                               [[1, 97]]\n",
       "6746600                      [[37, 1], [1, 60]]\n",
       "6758828                       [[94, 1], [1, 3]]\n",
       "6801845                               [[1, 97]]\n",
       "6827017                               [[1, 97]]\n",
       "\n",
       "[106 rows x 1 columns]"
      ]
     },
     "metadata": {},
     "output_type": "display_data"
    }
   ],
   "source": [
    "display(support_max_indices[support_max_indices == 96])\n",
    "display(supports.loc[support_max_indices == 96])"
   ]
  },
  {
   "cell_type": "markdown",
   "metadata": {},
   "source": [
    "#### **`rle_support_expand`**"
   ]
  },
  {
   "cell_type": "code",
   "execution_count": 1,
   "metadata": {},
   "outputs": [
    {
     "name": "stdout",
     "output_type": "stream",
     "text": [
      "[ 0  1  2  3  4  5  6  7  8  9 10 11 12 13 14 15 16 17 18 19 20 21 22 23\n",
      " 24 25 26 27 28 29 30 31 32 33 34 35 36 37 38 39 40 41 42 43 44 45 46 47\n",
      " 48 49 50 51]\n",
      "[ 2  3  4  5  6  7  8  9 10 11 12 13 14 15 16 17 18 19 20 21 22 23 24 25\n",
      " 26 27 28 29 30 31 32 33 34 35 36 37 55 56 57 58 59 60 61 62 63 64 65 66\n",
      " 67 68 69 70 71 72 73 74 75 76 77 78 79 80 81 82 83 84 85 86 87 88 89 90]\n"
     ]
    }
   ],
   "source": [
    "from pepper.rle import rle_support_expand\n",
    "\n",
    "print(rle_support_expand(((1, 52),)))\n",
    "print(rle_support_expand(((3, 1), (1, 35), (18, 1), (1, 35))))"
   ]
  },
  {
   "cell_type": "code",
   "execution_count": 4,
   "metadata": {},
   "outputs": [
    {
     "data": {
      "text/plain": [
       "SK_ID_BUREAU\n",
       "5001710    [0, 1, 2, 3, 4, 5, 6, 7, 8, 9, 10, 11, 12, 13,...\n",
       "5001711                                         [0, 1, 2, 3]\n",
       "5001712    [0, 1, 2, 3, 4, 5, 6, 7, 8, 9, 10, 11, 12, 13,...\n",
       "5001713    [0, 1, 2, 3, 4, 5, 6, 7, 8, 9, 10, 11, 12, 13,...\n",
       "5001714    [0, 1, 2, 3, 4, 5, 6, 7, 8, 9, 10, 11, 12, 13,...\n",
       "                                 ...                        \n",
       "6842884    [0, 1, 2, 3, 4, 5, 6, 7, 8, 9, 10, 11, 12, 13,...\n",
       "6842885    [0, 1, 2, 3, 4, 5, 6, 7, 8, 9, 10, 11, 12, 13,...\n",
       "6842886    [0, 1, 2, 3, 4, 5, 6, 7, 8, 9, 10, 11, 12, 13,...\n",
       "6842887    [0, 1, 2, 3, 4, 5, 6, 7, 8, 9, 10, 11, 12, 13,...\n",
       "6842888    [0, 1, 2, 3, 4, 5, 6, 7, 8, 9, 10, 11, 12, 13,...\n",
       "Name: MONTHS_BALANCE, Length: 774354, dtype: object"
      ]
     },
     "metadata": {},
     "output_type": "display_data"
    }
   ],
   "source": [
    "expanded_supports = supports.MONTHS_BALANCE.apply(rle_support_expand)\n",
    "display(expanded_supports)"
   ]
  },
  {
   "cell_type": "markdown",
   "metadata": {},
   "source": [
    "### Nombre de colonnes du dataframe décodé"
   ]
  },
  {
   "cell_type": "code",
   "execution_count": 12,
   "metadata": {},
   "outputs": [
    {
     "name": "stdout",
     "output_type": "stream",
     "text": [
      "# columns: 97\n"
     ]
    }
   ],
   "source": [
    "from pepper.rle import rle_support_max_index\n",
    "\n",
    "max_indices = supports.MONTHS_BALANCE.apply(rle_support_max_index)\n",
    "output_dim = max_indices.max() + 1\n",
    "print(f\"# columns: {output_dim}\")"
   ]
  },
  {
   "cell_type": "code",
   "execution_count": 20,
   "metadata": {},
   "outputs": [
    {
     "name": "stdout",
     "output_type": "stream",
     "text": [
      "expanded row: [ 1.  2.  2. nan nan  2.  3.  3.  4.]\n",
      "expanded row: []\n"
     ]
    }
   ],
   "source": [
    "from typing import Union\n",
    "from pepper.rle import (\n",
    "    rle_expr_to_numpy, rle_support_size,\n",
    "    rle_support_expand, rle_expand, rle_support_max_index\n",
    ")\n",
    "import numpy as np\n",
    "\n",
    "def rle_expand_row(\n",
    "    rle_support_expr: Union[list, tuple, np.ndarray],\n",
    "    rle_frame_expr: Union[list, tuple, np.ndarray]\n",
    ") -> np.ndarray:\n",
    "    \"\"\"\n",
    "    Decode a sequence of values encoded as an RLE (Run-Length Encoding)\n",
    "    support and frame pair.\n",
    "\n",
    "\n",
    "    Parameters\n",
    "    ----------\n",
    "    rle_support_expr : List[tuple]\n",
    "        RLE sequence for support.\n",
    "    rle_frame_expr : List[tuple]\n",
    "        RLE sequence for frame.\n",
    "\n",
    "    Returns\n",
    "    -------\n",
    "    np.ndarray\n",
    "        The expanded decoded row.\n",
    "    \n",
    "    Examples\n",
    "    --------\n",
    "    >>> support = ((1, 3), (3, 1), (1, 3))\n",
    "    >>> frame = ((1, 1), (2, 3), (3, 2), (4, 1))\n",
    "    >>> print(f\"expanded row: {rle_expand_row(support, frame)}\")\n",
    "    expanded row: [ 1.  2.  2. nan nan  2.  3.  3.  4.]\n",
    "    >>> print(f\"expanded row: {rle_expand_row([[]], [[]])}\")\n",
    "    expanded row: []\n",
    "    \"\"\"\n",
    "    # Convert inputs to NumPy arrays if they are not already\n",
    "    support = rle_expr_to_numpy(rle_support_expr)\n",
    "    frame = rle_expr_to_numpy(rle_frame_expr)\n",
    "\n",
    "    # Ensure that both support and frame have the same length\n",
    "    if rle_support_size(support) != rle_support_size(frame):\n",
    "        raise ValueError(\n",
    "            \"Sizes mismatch between the RLE support and the RLE frame.\"\n",
    "        )\n",
    "\n",
    "    if support.size == 0:\n",
    "        # If the support is empty, return an empty array\n",
    "        return np.array([])\n",
    "\n",
    "    # Expand the support and frame using the appropriate functions\n",
    "    expanded_support = rle_support_expand(support)\n",
    "    expanded_frame = rle_expand(frame)\n",
    "    \n",
    "    # Calculate the maximum index in the support\n",
    "    support_max_index = rle_support_max_index(support)\n",
    "    \n",
    "    # Expand a row filled with NaN values up to the support's maximum index\n",
    "    row = rle_expand(((np.nan, support_max_index+1),))\n",
    "    \n",
    "    # Replace NaN values with the expanded frame values at the corresponding support indices\n",
    "    row[expanded_support] = expanded_frame\n",
    "    return row\n",
    "\n",
    "\n",
    "support = ((1, 3), (3, 1), (1, 3))\n",
    "frame = ((1, 1), (2, 3), (3, 2), (4, 1))\n",
    "print(f\"expanded row: {rle_expand_row(support, frame)}\")\n",
    "print(f\"expanded row: {rle_expand_row([[]], [[]])}\")"
   ]
  },
  {
   "cell_type": "markdown",
   "metadata": {},
   "source": [
    "## **`rle_expand_row`**\n",
    "\n",
    "L'expansion de la trame donne les valeurs et celle du support les index.\n",
    "\n",
    "Pour créer la ligne développée, il faut:\n",
    "1. créer un tableau de NA de la bonne taille,\n",
    "2. y affecter les valeurs de la trame développée aux indices du support développé."
   ]
  },
  {
   "cell_type": "code",
   "execution_count": 1,
   "metadata": {},
   "outputs": [
    {
     "name": "stdout",
     "output_type": "stream",
     "text": [
      "expanded row: [ 1.  2.  2. nan nan  2.  3.  3.  4.]\n",
      "expanded row: [ 1.  2.  2. nan nan  2.  3.  3.  4. nan]\n",
      "expanded row: [ 1.  2.  2. nan nan  2.  3.  3.]\n",
      "expanded row: []\n"
     ]
    },
    {
     "name": "stderr",
     "output_type": "stream",
     "text": [
      "C:\\Users\\franc\\Projects\\pepper_credit_scoring_tool\\python\\pepper\\rle.py:583: UserWarning: Row size is less than the extension of the support. Some data may be lost.\n",
      "  warnings.warn(\n"
     ]
    }
   ],
   "source": [
    "from pepper.rle import rle_expand_row\n",
    "\n",
    "# Test examples\n",
    "support = ((1, 3), (3, 1), (1, 3))\n",
    "frame = ((1, 1), (2, 3), (3, 2), (4, 1))\n",
    "print(f\"expanded row: {rle_expand_row(support, frame)}\")\n",
    "print(f\"expanded row: {rle_expand_row(support, frame, row_size=10)}\")\n",
    "print(f\"expanded row: {rle_expand_row(support, frame, row_size=8)}\")\n",
    "print(f\"expanded row: {rle_expand_row(support, frame, row_size=0)}\")"
   ]
  },
  {
   "cell_type": "code",
   "execution_count": 2,
   "metadata": {},
   "outputs": [
    {
     "name": "stdout",
     "output_type": "stream",
     "text": [
      "expanded row: [nan nan nan nan nan]\n"
     ]
    }
   ],
   "source": [
    "from pepper.rle import rle_expand_row\n",
    "import numpy as np\n",
    "\n",
    "print(f\"expanded row: {rle_expand_row(np.nan, np.nan, row_size=5)}\")"
   ]
  },
  {
   "cell_type": "markdown",
   "metadata": {},
   "source": [
    "## **`rle_expand_dataframe`**"
   ]
  },
  {
   "cell_type": "code",
   "execution_count": 1,
   "metadata": {},
   "outputs": [],
   "source": [
    "from pepper.rle import rle_expand_dataframe"
   ]
  },
  {
   "cell_type": "code",
   "execution_count": 3,
   "metadata": {},
   "outputs": [
    {
     "name": "stdout",
     "output_type": "stream",
     "text": [
      "     0    1    2    3    4    5    6    7    8\n",
      "0  1.0  2.0  2.0  NaN  NaN  2.0  3.0  3.0  4.0\n",
      "1  5.0  6.0  NaN  6.0  7.0  7.0  NaN  NaN  NaN\n"
     ]
    }
   ],
   "source": [
    "import pandas as pd\n",
    "\n",
    "support_series = pd.Series([\n",
    "    [(1, 3), (3, 1), (1, 3)],\n",
    "    [(1, 2), (2, 1), (1, 2)]\n",
    "])\n",
    "frame_series = pd.Series([\n",
    "    [(1, 1), (2, 3), (3, 2), (4, 1)],\n",
    "    [(5, 1), (6, 2), (7, 2)]\n",
    "])\n",
    "expanded_df = rle_expand_dataframe(support_series, frame_series)\n",
    "print(expanded_df)"
   ]
  },
  {
   "cell_type": "code",
   "execution_count": 4,
   "metadata": {},
   "outputs": [
    {
     "data": {
      "text/html": [
       "<div>\n",
       "<style scoped>\n",
       "    .dataframe tbody tr th:only-of-type {\n",
       "        vertical-align: middle;\n",
       "    }\n",
       "\n",
       "    .dataframe tbody tr th {\n",
       "        vertical-align: top;\n",
       "    }\n",
       "\n",
       "    .dataframe thead th {\n",
       "        text-align: right;\n",
       "    }\n",
       "</style>\n",
       "<table border=\"1\" class=\"dataframe\">\n",
       "  <thead>\n",
       "    <tr style=\"text-align: right;\">\n",
       "      <th></th>\n",
       "      <th>MONTHS_BALANCE</th>\n",
       "      <th>STATUS</th>\n",
       "    </tr>\n",
       "    <tr>\n",
       "      <th>SK_ID_BUREAU</th>\n",
       "      <th></th>\n",
       "      <th></th>\n",
       "    </tr>\n",
       "  </thead>\n",
       "  <tbody>\n",
       "    <tr>\n",
       "      <th>5001710</th>\n",
       "      <td>[[1, 83]]</td>\n",
       "      <td>[[0, 83]]</td>\n",
       "    </tr>\n",
       "    <tr>\n",
       "      <th>5001711</th>\n",
       "      <td>[[1, 4]]</td>\n",
       "      <td>[[0, 4]]</td>\n",
       "    </tr>\n",
       "    <tr>\n",
       "      <th>5001712</th>\n",
       "      <td>[[1, 19]]</td>\n",
       "      <td>[[0, 19]]</td>\n",
       "    </tr>\n",
       "    <tr>\n",
       "      <th>5001713</th>\n",
       "      <td>[[1, 22]]</td>\n",
       "      <td>[[0, 22]]</td>\n",
       "    </tr>\n",
       "    <tr>\n",
       "      <th>5001714</th>\n",
       "      <td>[[1, 15]]</td>\n",
       "      <td>[[0, 15]]</td>\n",
       "    </tr>\n",
       "    <tr>\n",
       "      <th>...</th>\n",
       "      <td>...</td>\n",
       "      <td>...</td>\n",
       "    </tr>\n",
       "    <tr>\n",
       "      <th>6842884</th>\n",
       "      <td>[[1, 48]]</td>\n",
       "      <td>[[0, 48]]</td>\n",
       "    </tr>\n",
       "    <tr>\n",
       "      <th>6842885</th>\n",
       "      <td>[[1, 24]]</td>\n",
       "      <td>[[5, 12], [0, 12]]</td>\n",
       "    </tr>\n",
       "    <tr>\n",
       "      <th>6842886</th>\n",
       "      <td>[[1, 33]]</td>\n",
       "      <td>[[0, 33]]</td>\n",
       "    </tr>\n",
       "    <tr>\n",
       "      <th>6842887</th>\n",
       "      <td>[[1, 37]]</td>\n",
       "      <td>[[0, 37]]</td>\n",
       "    </tr>\n",
       "    <tr>\n",
       "      <th>6842888</th>\n",
       "      <td>[[1, 62]]</td>\n",
       "      <td>[[0, 58], [1, 1], [0, 3]]</td>\n",
       "    </tr>\n",
       "  </tbody>\n",
       "</table>\n",
       "<p>774354 rows × 2 columns</p>\n",
       "</div>"
      ],
      "text/plain": [
       "             MONTHS_BALANCE                     STATUS\n",
       "SK_ID_BUREAU                                          \n",
       "5001710           [[1, 83]]                  [[0, 83]]\n",
       "5001711            [[1, 4]]                   [[0, 4]]\n",
       "5001712           [[1, 19]]                  [[0, 19]]\n",
       "5001713           [[1, 22]]                  [[0, 22]]\n",
       "5001714           [[1, 15]]                  [[0, 15]]\n",
       "...                     ...                        ...\n",
       "6842884           [[1, 48]]                  [[0, 48]]\n",
       "6842885           [[1, 24]]         [[5, 12], [0, 12]]\n",
       "6842886           [[1, 33]]                  [[0, 33]]\n",
       "6842887           [[1, 37]]                  [[0, 37]]\n",
       "6842888           [[1, 62]]  [[0, 58], [1, 1], [0, 3]]\n",
       "\n",
       "[774354 rows x 2 columns]"
      ]
     },
     "metadata": {},
     "output_type": "display_data"
    }
   ],
   "source": [
    "from home_credit.tables import BureauBalance\n",
    "import pandas as pd\n",
    "\n",
    "supports = BureauBalance.rle_loan_tracking_period()\n",
    "frames = BureauBalance.rle_loan_status_variation()\n",
    "\n",
    "display(pd.concat([supports, frames], axis=1))"
   ]
  },
  {
   "cell_type": "code",
   "execution_count": 5,
   "metadata": {},
   "outputs": [
    {
     "data": {
      "text/html": [
       "<div>\n",
       "<style scoped>\n",
       "    .dataframe tbody tr th:only-of-type {\n",
       "        vertical-align: middle;\n",
       "    }\n",
       "\n",
       "    .dataframe tbody tr th {\n",
       "        vertical-align: top;\n",
       "    }\n",
       "\n",
       "    .dataframe thead th {\n",
       "        text-align: right;\n",
       "    }\n",
       "</style>\n",
       "<table border=\"1\" class=\"dataframe\">\n",
       "  <thead>\n",
       "    <tr style=\"text-align: right;\">\n",
       "      <th></th>\n",
       "      <th>0</th>\n",
       "      <th>1</th>\n",
       "      <th>2</th>\n",
       "      <th>3</th>\n",
       "      <th>4</th>\n",
       "      <th>5</th>\n",
       "      <th>6</th>\n",
       "      <th>7</th>\n",
       "      <th>8</th>\n",
       "      <th>9</th>\n",
       "      <th>...</th>\n",
       "      <th>87</th>\n",
       "      <th>88</th>\n",
       "      <th>89</th>\n",
       "      <th>90</th>\n",
       "      <th>91</th>\n",
       "      <th>92</th>\n",
       "      <th>93</th>\n",
       "      <th>94</th>\n",
       "      <th>95</th>\n",
       "      <th>96</th>\n",
       "    </tr>\n",
       "    <tr>\n",
       "      <th>SK_ID_BUREAU</th>\n",
       "      <th></th>\n",
       "      <th></th>\n",
       "      <th></th>\n",
       "      <th></th>\n",
       "      <th></th>\n",
       "      <th></th>\n",
       "      <th></th>\n",
       "      <th></th>\n",
       "      <th></th>\n",
       "      <th></th>\n",
       "      <th></th>\n",
       "      <th></th>\n",
       "      <th></th>\n",
       "      <th></th>\n",
       "      <th></th>\n",
       "      <th></th>\n",
       "      <th></th>\n",
       "      <th></th>\n",
       "      <th></th>\n",
       "      <th></th>\n",
       "      <th></th>\n",
       "    </tr>\n",
       "  </thead>\n",
       "  <tbody>\n",
       "    <tr>\n",
       "      <th>5001710</th>\n",
       "      <td>0.0</td>\n",
       "      <td>0.0</td>\n",
       "      <td>0.0</td>\n",
       "      <td>0.0</td>\n",
       "      <td>0.0</td>\n",
       "      <td>0.0</td>\n",
       "      <td>0.0</td>\n",
       "      <td>0.0</td>\n",
       "      <td>0.0</td>\n",
       "      <td>0.0</td>\n",
       "      <td>...</td>\n",
       "      <td>NaN</td>\n",
       "      <td>NaN</td>\n",
       "      <td>NaN</td>\n",
       "      <td>NaN</td>\n",
       "      <td>NaN</td>\n",
       "      <td>NaN</td>\n",
       "      <td>NaN</td>\n",
       "      <td>NaN</td>\n",
       "      <td>NaN</td>\n",
       "      <td>NaN</td>\n",
       "    </tr>\n",
       "    <tr>\n",
       "      <th>5001711</th>\n",
       "      <td>0.0</td>\n",
       "      <td>0.0</td>\n",
       "      <td>0.0</td>\n",
       "      <td>0.0</td>\n",
       "      <td>NaN</td>\n",
       "      <td>NaN</td>\n",
       "      <td>NaN</td>\n",
       "      <td>NaN</td>\n",
       "      <td>NaN</td>\n",
       "      <td>NaN</td>\n",
       "      <td>...</td>\n",
       "      <td>NaN</td>\n",
       "      <td>NaN</td>\n",
       "      <td>NaN</td>\n",
       "      <td>NaN</td>\n",
       "      <td>NaN</td>\n",
       "      <td>NaN</td>\n",
       "      <td>NaN</td>\n",
       "      <td>NaN</td>\n",
       "      <td>NaN</td>\n",
       "      <td>NaN</td>\n",
       "    </tr>\n",
       "    <tr>\n",
       "      <th>5001712</th>\n",
       "      <td>0.0</td>\n",
       "      <td>0.0</td>\n",
       "      <td>0.0</td>\n",
       "      <td>0.0</td>\n",
       "      <td>0.0</td>\n",
       "      <td>0.0</td>\n",
       "      <td>0.0</td>\n",
       "      <td>0.0</td>\n",
       "      <td>0.0</td>\n",
       "      <td>0.0</td>\n",
       "      <td>...</td>\n",
       "      <td>NaN</td>\n",
       "      <td>NaN</td>\n",
       "      <td>NaN</td>\n",
       "      <td>NaN</td>\n",
       "      <td>NaN</td>\n",
       "      <td>NaN</td>\n",
       "      <td>NaN</td>\n",
       "      <td>NaN</td>\n",
       "      <td>NaN</td>\n",
       "      <td>NaN</td>\n",
       "    </tr>\n",
       "    <tr>\n",
       "      <th>5001713</th>\n",
       "      <td>0.0</td>\n",
       "      <td>0.0</td>\n",
       "      <td>0.0</td>\n",
       "      <td>0.0</td>\n",
       "      <td>0.0</td>\n",
       "      <td>0.0</td>\n",
       "      <td>0.0</td>\n",
       "      <td>0.0</td>\n",
       "      <td>0.0</td>\n",
       "      <td>0.0</td>\n",
       "      <td>...</td>\n",
       "      <td>NaN</td>\n",
       "      <td>NaN</td>\n",
       "      <td>NaN</td>\n",
       "      <td>NaN</td>\n",
       "      <td>NaN</td>\n",
       "      <td>NaN</td>\n",
       "      <td>NaN</td>\n",
       "      <td>NaN</td>\n",
       "      <td>NaN</td>\n",
       "      <td>NaN</td>\n",
       "    </tr>\n",
       "    <tr>\n",
       "      <th>5001714</th>\n",
       "      <td>0.0</td>\n",
       "      <td>0.0</td>\n",
       "      <td>0.0</td>\n",
       "      <td>0.0</td>\n",
       "      <td>0.0</td>\n",
       "      <td>0.0</td>\n",
       "      <td>0.0</td>\n",
       "      <td>0.0</td>\n",
       "      <td>0.0</td>\n",
       "      <td>0.0</td>\n",
       "      <td>...</td>\n",
       "      <td>NaN</td>\n",
       "      <td>NaN</td>\n",
       "      <td>NaN</td>\n",
       "      <td>NaN</td>\n",
       "      <td>NaN</td>\n",
       "      <td>NaN</td>\n",
       "      <td>NaN</td>\n",
       "      <td>NaN</td>\n",
       "      <td>NaN</td>\n",
       "      <td>NaN</td>\n",
       "    </tr>\n",
       "    <tr>\n",
       "      <th>...</th>\n",
       "      <td>...</td>\n",
       "      <td>...</td>\n",
       "      <td>...</td>\n",
       "      <td>...</td>\n",
       "      <td>...</td>\n",
       "      <td>...</td>\n",
       "      <td>...</td>\n",
       "      <td>...</td>\n",
       "      <td>...</td>\n",
       "      <td>...</td>\n",
       "      <td>...</td>\n",
       "      <td>...</td>\n",
       "      <td>...</td>\n",
       "      <td>...</td>\n",
       "      <td>...</td>\n",
       "      <td>...</td>\n",
       "      <td>...</td>\n",
       "      <td>...</td>\n",
       "      <td>...</td>\n",
       "      <td>...</td>\n",
       "      <td>...</td>\n",
       "    </tr>\n",
       "    <tr>\n",
       "      <th>6842884</th>\n",
       "      <td>0.0</td>\n",
       "      <td>0.0</td>\n",
       "      <td>0.0</td>\n",
       "      <td>0.0</td>\n",
       "      <td>0.0</td>\n",
       "      <td>0.0</td>\n",
       "      <td>0.0</td>\n",
       "      <td>0.0</td>\n",
       "      <td>0.0</td>\n",
       "      <td>0.0</td>\n",
       "      <td>...</td>\n",
       "      <td>NaN</td>\n",
       "      <td>NaN</td>\n",
       "      <td>NaN</td>\n",
       "      <td>NaN</td>\n",
       "      <td>NaN</td>\n",
       "      <td>NaN</td>\n",
       "      <td>NaN</td>\n",
       "      <td>NaN</td>\n",
       "      <td>NaN</td>\n",
       "      <td>NaN</td>\n",
       "    </tr>\n",
       "    <tr>\n",
       "      <th>6842885</th>\n",
       "      <td>5.0</td>\n",
       "      <td>5.0</td>\n",
       "      <td>5.0</td>\n",
       "      <td>5.0</td>\n",
       "      <td>5.0</td>\n",
       "      <td>5.0</td>\n",
       "      <td>5.0</td>\n",
       "      <td>5.0</td>\n",
       "      <td>5.0</td>\n",
       "      <td>5.0</td>\n",
       "      <td>...</td>\n",
       "      <td>NaN</td>\n",
       "      <td>NaN</td>\n",
       "      <td>NaN</td>\n",
       "      <td>NaN</td>\n",
       "      <td>NaN</td>\n",
       "      <td>NaN</td>\n",
       "      <td>NaN</td>\n",
       "      <td>NaN</td>\n",
       "      <td>NaN</td>\n",
       "      <td>NaN</td>\n",
       "    </tr>\n",
       "    <tr>\n",
       "      <th>6842886</th>\n",
       "      <td>0.0</td>\n",
       "      <td>0.0</td>\n",
       "      <td>0.0</td>\n",
       "      <td>0.0</td>\n",
       "      <td>0.0</td>\n",
       "      <td>0.0</td>\n",
       "      <td>0.0</td>\n",
       "      <td>0.0</td>\n",
       "      <td>0.0</td>\n",
       "      <td>0.0</td>\n",
       "      <td>...</td>\n",
       "      <td>NaN</td>\n",
       "      <td>NaN</td>\n",
       "      <td>NaN</td>\n",
       "      <td>NaN</td>\n",
       "      <td>NaN</td>\n",
       "      <td>NaN</td>\n",
       "      <td>NaN</td>\n",
       "      <td>NaN</td>\n",
       "      <td>NaN</td>\n",
       "      <td>NaN</td>\n",
       "    </tr>\n",
       "    <tr>\n",
       "      <th>6842887</th>\n",
       "      <td>0.0</td>\n",
       "      <td>0.0</td>\n",
       "      <td>0.0</td>\n",
       "      <td>0.0</td>\n",
       "      <td>0.0</td>\n",
       "      <td>0.0</td>\n",
       "      <td>0.0</td>\n",
       "      <td>0.0</td>\n",
       "      <td>0.0</td>\n",
       "      <td>0.0</td>\n",
       "      <td>...</td>\n",
       "      <td>NaN</td>\n",
       "      <td>NaN</td>\n",
       "      <td>NaN</td>\n",
       "      <td>NaN</td>\n",
       "      <td>NaN</td>\n",
       "      <td>NaN</td>\n",
       "      <td>NaN</td>\n",
       "      <td>NaN</td>\n",
       "      <td>NaN</td>\n",
       "      <td>NaN</td>\n",
       "    </tr>\n",
       "    <tr>\n",
       "      <th>6842888</th>\n",
       "      <td>0.0</td>\n",
       "      <td>0.0</td>\n",
       "      <td>0.0</td>\n",
       "      <td>0.0</td>\n",
       "      <td>0.0</td>\n",
       "      <td>0.0</td>\n",
       "      <td>0.0</td>\n",
       "      <td>0.0</td>\n",
       "      <td>0.0</td>\n",
       "      <td>0.0</td>\n",
       "      <td>...</td>\n",
       "      <td>NaN</td>\n",
       "      <td>NaN</td>\n",
       "      <td>NaN</td>\n",
       "      <td>NaN</td>\n",
       "      <td>NaN</td>\n",
       "      <td>NaN</td>\n",
       "      <td>NaN</td>\n",
       "      <td>NaN</td>\n",
       "      <td>NaN</td>\n",
       "      <td>NaN</td>\n",
       "    </tr>\n",
       "  </tbody>\n",
       "</table>\n",
       "<p>774354 rows × 97 columns</p>\n",
       "</div>"
      ],
      "text/plain": [
       "               0    1    2    3    4    5    6    7    8    9   ...  87  88  \\\n",
       "SK_ID_BUREAU                                                    ...           \n",
       "5001710       0.0  0.0  0.0  0.0  0.0  0.0  0.0  0.0  0.0  0.0  ... NaN NaN   \n",
       "5001711       0.0  0.0  0.0  0.0  NaN  NaN  NaN  NaN  NaN  NaN  ... NaN NaN   \n",
       "5001712       0.0  0.0  0.0  0.0  0.0  0.0  0.0  0.0  0.0  0.0  ... NaN NaN   \n",
       "5001713       0.0  0.0  0.0  0.0  0.0  0.0  0.0  0.0  0.0  0.0  ... NaN NaN   \n",
       "5001714       0.0  0.0  0.0  0.0  0.0  0.0  0.0  0.0  0.0  0.0  ... NaN NaN   \n",
       "...           ...  ...  ...  ...  ...  ...  ...  ...  ...  ...  ...  ..  ..   \n",
       "6842884       0.0  0.0  0.0  0.0  0.0  0.0  0.0  0.0  0.0  0.0  ... NaN NaN   \n",
       "6842885       5.0  5.0  5.0  5.0  5.0  5.0  5.0  5.0  5.0  5.0  ... NaN NaN   \n",
       "6842886       0.0  0.0  0.0  0.0  0.0  0.0  0.0  0.0  0.0  0.0  ... NaN NaN   \n",
       "6842887       0.0  0.0  0.0  0.0  0.0  0.0  0.0  0.0  0.0  0.0  ... NaN NaN   \n",
       "6842888       0.0  0.0  0.0  0.0  0.0  0.0  0.0  0.0  0.0  0.0  ... NaN NaN   \n",
       "\n",
       "              89  90  91  92  93  94  95  96  \n",
       "SK_ID_BUREAU                                  \n",
       "5001710      NaN NaN NaN NaN NaN NaN NaN NaN  \n",
       "5001711      NaN NaN NaN NaN NaN NaN NaN NaN  \n",
       "5001712      NaN NaN NaN NaN NaN NaN NaN NaN  \n",
       "5001713      NaN NaN NaN NaN NaN NaN NaN NaN  \n",
       "5001714      NaN NaN NaN NaN NaN NaN NaN NaN  \n",
       "...           ..  ..  ..  ..  ..  ..  ..  ..  \n",
       "6842884      NaN NaN NaN NaN NaN NaN NaN NaN  \n",
       "6842885      NaN NaN NaN NaN NaN NaN NaN NaN  \n",
       "6842886      NaN NaN NaN NaN NaN NaN NaN NaN  \n",
       "6842887      NaN NaN NaN NaN NaN NaN NaN NaN  \n",
       "6842888      NaN NaN NaN NaN NaN NaN NaN NaN  \n",
       "\n",
       "[774354 rows x 97 columns]"
      ]
     },
     "metadata": {},
     "output_type": "display_data"
    }
   ],
   "source": [
    "exp_rle = rle_expand_dataframe(supports, frames)\n",
    "display(exp_rle)"
   ]
  },
  {
   "cell_type": "code",
   "execution_count": 20,
   "metadata": {},
   "outputs": [
    {
     "name": "stdout",
     "output_type": "stream",
     "text": [
      "[5.0, 5.0, 5.0, 5.0, 5.0, 5.0, 5.0, 5.0, 5.0, 5.0, 5.0, 5.0, 0.0, 0.0, 0.0, 0.0, 0.0, 0.0, 0.0, 0.0, 0.0, 0.0, 0.0, 0.0, nan, nan, nan, nan, nan, nan, nan, nan, nan, nan, nan, nan, nan, nan, nan, nan, nan, nan, nan, nan, nan, nan, nan, nan, nan, nan, nan, nan, nan, nan, nan, nan, nan, nan, nan, nan, nan, nan, nan, nan, nan, nan, nan, nan, nan, nan, nan, nan, nan, nan, nan, nan, nan, nan, nan, nan, nan, nan, nan, nan, nan, nan, nan, nan, nan, nan, nan, nan, nan, nan, nan, nan, nan]\n"
     ]
    }
   ],
   "source": [
    "print(list(exp_rle.loc[6842885]))"
   ]
  },
  {
   "cell_type": "markdown",
   "metadata": {},
   "source": [
    "# Future : calcul de trames RLE\n",
    "\n",
    "Calcul de supports et de trames sans passer par la version décodée.\n",
    "\n",
    "Calcul basé sur la représentation RLE, par exemple d'une somme de deux suites, leur intersection etc, pourra donner plus de fil à retordre, mais c'est un problème plus avancé qui n'est pas à l'ordre du jour."
   ]
  },
  {
   "cell_type": "markdown",
   "metadata": {},
   "source": [
    "## Old à recycler : problématique et principe de la solution\n",
    "\n",
    "V1 : dépassée en contexte, mais pas en prolongeant vers le calcul de codages RLE (somme, intersection, etc de séquences ainsi codées).\n",
    "\n",
    "**TODO** ajouter des exemples concrets.\n",
    "\n",
    "Avec un support $(1, N)$, il n'y a rien à faire, séquence continue, pas de trous.\n",
    "\n",
    "L'opération de transformation de la trame RLE est l'identité (c'est le cas le plus fréquent en la circonstance de nos données Home Credit).\n",
    "\n",
    "Avec un support fragmenté, de la forme $(1, i)(k, j)(1, l)$, il y a un trou de taille $k-1$ après la séquence des $i$ premières valeurs, suivi des $l+1$ valeurs suivantes.\n",
    "\n",
    "Avec $k_j > 1$,\n",
    "\n",
    "Avec un support $(1, i_1)(k_1, j_1)(1, i_2)(k_2, j_2)\\ldots(1, i_n)(k_n, j_n)(1, i_{n+1})$, il y a $n$ 'trous' de tailles $k_1-1, \\dots, k_n-1$, précédés de $i_1, i_2+1, i_3+1, \\ldots, i_n+1$ valeurs.\n",
    "\n",
    "Attention au cas où cela démarre par un trou !\n",
    "\n",
    "Cela revient donc à insérer $n$ `(np.nan, k_j-1)` dans l'expression RLE des valeurs.\n",
    "\n",
    "Là il faut réfléchir un peu pour le faire en Numpy.\n",
    "\n",
    "Les distances d'insertion sont données par les $i_1, i_2+1, i_3+1, \\ldots, i_n+1$.\n",
    "\n",
    "Par exemple, pour la première insertion, on identifie dans la séquence de valeurs, l'élément répété, tel que $i_1$ soit supérieur strictement à la somme des répétitions des éléments précédents, mais inférieure ou égale à cette somme augmentée du nombre de répétitions de cet élément.\n",
    "\n",
    "Là, il faut éventuellement fragmenter l'élément en deux parties, celle qui précède le trou et celle qui le suit.\n",
    "\n",
    "On procède à l'insertion.\n",
    "\n",
    "La suite et une répétition de ce procédé.\n",
    "\n",
    "V2 :\n",
    "\n",
    "Support : $s = (j_1, k_1)\\ldots(j_n, k_n)$."
   ]
  },
  {
   "cell_type": "markdown",
   "metadata": {},
   "source": [
    "#### **`rle_support_hole_count`**\n",
    "\n",
    "Pour le calcul de trames."
   ]
  },
  {
   "cell_type": "code",
   "execution_count": 4,
   "metadata": {},
   "outputs": [
    {
     "name": "stdout",
     "output_type": "stream",
     "text": [
      "0\n",
      "1\n",
      "2\n",
      "3\n"
     ]
    }
   ],
   "source": [
    "from pepper.rle import rle_support_hole_count\n",
    "\n",
    "print(rle_support_hole_count(((1, 1),)))\n",
    "print(rle_support_hole_count(((2, 1),)))\n",
    "print(rle_support_hole_count(((2, 2),)))\n",
    "print(rle_support_hole_count(((2, 1), (1, 10), (3, 2))))"
   ]
  },
  {
   "cell_type": "markdown",
   "metadata": {},
   "source": [
    "### Principe de la solution"
   ]
  },
  {
   "cell_type": "code",
   "execution_count": 2,
   "metadata": {},
   "outputs": [
    {
     "name": "stdout",
     "output_type": "stream",
     "text": [
      "support: ((1, 3), (3, 1), (1, 3))\n",
      "frame: ((1, 1), (2, 3), (3, 2), (4, 1))\n",
      "expanded support: [0 1 2 5 6 7 8]\n",
      "expanded frame: [1 2 2 2 3 3 4]\n",
      "support size: 7\n",
      "support max index: 8\n",
      "expanded row: [ 1.  2.  2. nan nan  2.  3.  3.  4.]\n"
     ]
    }
   ],
   "source": [
    "from pepper.rle import (\n",
    "    rle_expr_to_numpy,\n",
    "    rle_expand, rle_support_expand,\n",
    "    rle_support_size, rle_support_max_index\n",
    ")\n",
    "\n",
    "import numpy as np\n",
    "\n",
    "support = ((1, 3), (3, 1), (1, 3))\n",
    "frame = ((1, 1), (2, 3), (3, 2), (4, 1))\n",
    "\n",
    "rle_support = rle_expr_to_numpy(support)\n",
    "rle_frame = rle_expr_to_numpy(frame)\n",
    "\n",
    "print(f\"support: {support}\")\n",
    "print(f\"frame: {frame}\")\n",
    "\n",
    "expanded_support = rle_support_expand(support)\n",
    "expanded_frame = rle_expand(frame)\n",
    "print(f\"expanded support: {expanded_support}\")\n",
    "print(f\"expanded frame: {expanded_frame}\")\n",
    "\n",
    "support_size = rle_support_size(support)\n",
    "print(f\"support size: {support_size}\")\n",
    "\n",
    "support_max_index = rle_support_max_index(support)\n",
    "print(f\"support max index: {support_max_index}\")\n",
    "\n",
    "row = rle_expand(((np.nan, support_max_index+1),))\n",
    "row[expanded_support] = expanded_frame\n",
    "\n",
    "print(f\"expanded row: {row}\")"
   ]
  },
  {
   "cell_type": "markdown",
   "metadata": {},
   "source": [
    "Analyse des 'trous' :"
   ]
  },
  {
   "cell_type": "code",
   "execution_count": 3,
   "metadata": {},
   "outputs": [
    {
     "name": "stdout",
     "output_type": "stream",
     "text": [
      "1\n",
      "hole sizes (k-1): [2]\n",
      "start with hole: False\n",
      "seq sizes (i+1): [1 2]\n"
     ]
    }
   ],
   "source": [
    "from pepper.rle import rle_support_hole_count\n",
    "\n",
    "print(rle_support_hole_count(rle_support))\n",
    "\n",
    "hole_sizes = rle_support[rle_support[:, 0] > 1, 0] - 1\n",
    "print(f\"hole sizes (k-1): {hole_sizes}\")\n",
    "\n",
    "start_with_hole = rle_support[0, 0] > 1\n",
    "print(f\"start with hole: {start_with_hole}\")\n",
    "\n",
    "seq_sizes = rle_support[rle_support[:, 0] == 1, 0] + 1\n",
    "if not start_with_hole:\n",
    "    seq_sizes[0] -= 1\n",
    "print(f\"seq sizes (i+1): {seq_sizes}\")"
   ]
  }
 ],
 "metadata": {
  "kernelspec": {
   "display_name": "Python 3",
   "language": "python",
   "name": "python3"
  },
  "language_info": {
   "codemirror_mode": {
    "name": "ipython",
    "version": 3
   },
   "file_extension": ".py",
   "mimetype": "text/x-python",
   "name": "python",
   "nbconvert_exporter": "python",
   "pygments_lexer": "ipython3",
   "version": "3.11.1"
  },
  "orig_nbformat": 4
 },
 "nbformat": 4,
 "nbformat_minor": 2
}
