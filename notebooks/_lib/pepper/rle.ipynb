{
 "cells": [
  {
   "cell_type": "markdown",
   "metadata": {},
   "source": [
    "# **Module `pepper.rle`**\n",
    "\n",
    "✔ Revue des **typehints** et des **docstrings**."
   ]
  },
  {
   "cell_type": "markdown",
   "metadata": {},
   "source": [
    "# **`row_rle`**`(row: pd.Series) -> np.ndarray`\n",
    "\n",
    "DEPRECATED"
   ]
  },
  {
   "cell_type": "markdown",
   "metadata": {},
   "source": [
    "# **`series_rle_reduction`**`(s: pd.Series) -> np.ndarray`"
   ]
  },
  {
   "cell_type": "markdown",
   "metadata": {},
   "source": [
    "# **`data_rle_reduction`**`(data: pd.DataFrame) -> pd.Series`"
   ]
  },
  {
   "cell_type": "markdown",
   "metadata": {},
   "source": [
    "# **`jumps_rle`**`(s: pd.Series) -> tuple`"
   ]
  },
  {
   "cell_type": "code",
   "execution_count": null,
   "metadata": {},
   "outputs": [
    {
     "name": "stdout",
     "output_type": "stream",
     "text": [
      "((1, 5),)\n",
      "((0, 2), (1, 1), (0, 1), (1, 1))\n"
     ]
    }
   ],
   "source": [
    "from pepper.rle import jumps_rle\n",
    "import pandas as pd\n",
    "\n",
    "s = pd.Series([1, 2, 3, 4, 5, 6])\n",
    "print(jumps_rle(s))\n",
    "# ((1, 5),)\n",
    "\n",
    "s = pd.Series([1, 1, 1, 2, 2, 3])\n",
    "print(jumps_rle(s))\n",
    "# ((0, 2), (1, 1), (0, 1), (1, 1))"
   ]
  },
  {
   "cell_type": "markdown",
   "metadata": {},
   "source": [
    "# Note à propos des arrondis et des groupby qui forcent le passage par le 64 bits\n",
    "\n",
    "**TODO** : régler les problèmes d'arrondi dans le RLE, certainement liés à mon choix de réduction de la taille d'encodage : correction dans RLE réduction, avec l'ajout d'un paramètre de précision, qui est d'autant plus important qu'il permet de mieux synthétiser à mesure que la précision diminue.\n",
    "\n",
    "Après analyse : c'est le `groupby` et la gestion des types non `float64` par pandas qui est en cause: les valeurs de mes groupes en `float32` ont changé à la sortie et sont des valeurs dégénérées (`0.22` est devenu `0.2199999988079071` alors que le groupement devrait se contenter de collecter les valeurs sans les modifier). La raison est la suivante : le groupby force le passage par np.float64 : en effet,`np.float4(0.22) = 0.2199999988079071` \n",
    "\n",
    "Les stratégies pour contourner :\n",
    "1. ajouter un paramètre optionnel `decimals` à mon `series_rle_reduction` pour qu'il retraite via un `np.round` mais valeurs dégénérées par le `groupby` : c'est également une extension fonctionnelle, puisque permet de regrouper des termes proches.\n",
    "2. moins intrusif et coûteux, simplement corriger le transtypage non sollicité imposé par le `groupby`, avec le passage du `dtype` d'origine à `series_rle_reduction`.\n",
    "3. Avec un temps imparti réduit, rester sur du `float64` dans les tables de niveaux 2 et 3, et ne downcaster que dans le merge final."
   ]
  },
  {
   "cell_type": "markdown",
   "metadata": {},
   "source": [
    "## Work in progress : Expansion RLE\n",
    "\n",
    "Du codage RLE au dataframe."
   ]
  },
  {
   "cell_type": "code",
   "execution_count": 1,
   "metadata": {},
   "outputs": [
    {
     "data": {
      "text/html": [
       "<div>\n",
       "<style scoped>\n",
       "    .dataframe tbody tr th:only-of-type {\n",
       "        vertical-align: middle;\n",
       "    }\n",
       "\n",
       "    .dataframe tbody tr th {\n",
       "        vertical-align: top;\n",
       "    }\n",
       "\n",
       "    .dataframe thead th {\n",
       "        text-align: right;\n",
       "    }\n",
       "</style>\n",
       "<table border=\"1\" class=\"dataframe\">\n",
       "  <thead>\n",
       "    <tr style=\"text-align: right;\">\n",
       "      <th></th>\n",
       "      <th>BUREAU_LOAN_STATUS_BY_CLIENT_AND_MONTH</th>\n",
       "      <th>STATUS</th>\n",
       "    </tr>\n",
       "    <tr>\n",
       "      <th>SK_ID_CURR</th>\n",
       "      <th>MONTHS_BALANCE</th>\n",
       "      <th></th>\n",
       "    </tr>\n",
       "  </thead>\n",
       "  <tbody>\n",
       "    <tr>\n",
       "      <th rowspan=\"5\" valign=\"top\">100001</th>\n",
       "      <th>0</th>\n",
       "      <td>0.22</td>\n",
       "    </tr>\n",
       "    <tr>\n",
       "      <th>1</th>\n",
       "      <td>0.00</td>\n",
       "    </tr>\n",
       "    <tr>\n",
       "      <th>2</th>\n",
       "      <td>0.00</td>\n",
       "    </tr>\n",
       "    <tr>\n",
       "      <th>3</th>\n",
       "      <td>0.00</td>\n",
       "    </tr>\n",
       "    <tr>\n",
       "      <th>4</th>\n",
       "      <td>0.00</td>\n",
       "    </tr>\n",
       "    <tr>\n",
       "      <th>...</th>\n",
       "      <th>...</th>\n",
       "      <td>...</td>\n",
       "    </tr>\n",
       "    <tr>\n",
       "      <th rowspan=\"5\" valign=\"top\">456255</th>\n",
       "      <th>72</th>\n",
       "      <td>0.00</td>\n",
       "    </tr>\n",
       "    <tr>\n",
       "      <th>73</th>\n",
       "      <td>0.00</td>\n",
       "    </tr>\n",
       "    <tr>\n",
       "      <th>74</th>\n",
       "      <td>0.00</td>\n",
       "    </tr>\n",
       "    <tr>\n",
       "      <th>75</th>\n",
       "      <td>0.00</td>\n",
       "    </tr>\n",
       "    <tr>\n",
       "      <th>76</th>\n",
       "      <td>0.00</td>\n",
       "    </tr>\n",
       "  </tbody>\n",
       "</table>\n",
       "<p>7365660 rows × 1 columns</p>\n",
       "</div>"
      ],
      "text/plain": [
       "BUREAU_LOAN_STATUS_BY_CLIENT_AND_MONTH  STATUS\n",
       "SK_ID_CURR MONTHS_BALANCE                     \n",
       "100001     0                              0.22\n",
       "           1                              0.00\n",
       "           2                              0.00\n",
       "           3                              0.00\n",
       "           4                              0.00\n",
       "...                                        ...\n",
       "456255     72                             0.00\n",
       "           73                             0.00\n",
       "           74                             0.00\n",
       "           75                             0.00\n",
       "           76                             0.00\n",
       "\n",
       "[7365660 rows x 1 columns]"
      ]
     },
     "metadata": {},
     "output_type": "display_data"
    }
   ],
   "source": [
    "from home_credit.tables import BureauBalance\n",
    "\n",
    "status = BureauBalance.loan_status_by_client_and_month()\n",
    "display(status)"
   ]
  },
  {
   "cell_type": "code",
   "execution_count": 2,
   "metadata": {},
   "outputs": [
    {
     "data": {
      "text/plain": [
       "0.22"
      ]
     },
     "metadata": {},
     "output_type": "display_data"
    },
    {
     "name": "stdout",
     "output_type": "stream",
     "text": [
      "<class 'numpy.float32'>\n",
      "0.2199999988079071\n",
      "0.22\n"
     ]
    }
   ],
   "source": [
    "import numpy as np\n",
    "x = status.loc[100001][\"STATUS\"].iloc[0]\n",
    "display(x)\n",
    "print(type(x))\n",
    "print(np.float64(x))\n",
    "print(np.float32(np.float64(x)))"
   ]
  },
  {
   "cell_type": "code",
   "execution_count": 3,
   "metadata": {},
   "outputs": [
    {
     "data": {
      "text/plain": [
       "array([0.22, 0.  , 0.  , 0.  , 0.  , 0.  , 0.  , 0.  , 0.  , 0.  , 0.  ,\n",
       "       0.  , 0.  , 0.  , 0.  , 0.  , 0.  , 0.  , 0.  , 0.  , 0.  , 0.  ,\n",
       "       0.  , 0.  , 0.  , 0.  , 0.  , 0.  , 0.  , 0.  , 0.  , 0.  , 0.  ,\n",
       "       0.  , 0.  , 0.  , 0.  , 0.  , 0.  , 0.  , 0.  , 0.  , 0.  , 0.  ,\n",
       "       0.  , 0.  , 0.  , 0.  , 0.  , 0.  , 0.  , 0.  ], dtype=float32)"
      ]
     },
     "metadata": {},
     "output_type": "display_data"
    }
   ],
   "source": [
    "s = status.loc[100001][\"STATUS\"]\n",
    "\n",
    "display(s.values)"
   ]
  },
  {
   "cell_type": "code",
   "execution_count": 4,
   "metadata": {},
   "outputs": [
    {
     "name": "stdout",
     "output_type": "stream",
     "text": [
      "((0.2199999988079071, 1), (0.0, 51))\n",
      "<class 'tuple'>\n"
     ]
    }
   ],
   "source": [
    "from pepper.rle import series_rle_reduction\n",
    "r = series_rle_reduction(s)\n",
    "print(r)\n",
    "print(type(r))"
   ]
  },
  {
   "cell_type": "code",
   "execution_count": 5,
   "metadata": {},
   "outputs": [
    {
     "data": {
      "text/plain": [
       "array([0, 1, 1, 2, 2, 2])"
      ]
     },
     "metadata": {},
     "output_type": "display_data"
    }
   ],
   "source": [
    "import numpy as np\n",
    "r = ((0, 1), (1, 2), (2, 3))\n",
    "display(np.repeat(*(np.array(r).T)))"
   ]
  },
  {
   "cell_type": "code",
   "execution_count": 6,
   "metadata": {},
   "outputs": [
    {
     "data": {
      "text/plain": [
       "array([[ 0.22,  1.  ],\n",
       "       [ 0.  , 51.  ]])"
      ]
     },
     "metadata": {},
     "output_type": "display_data"
    },
    {
     "name": "stdout",
     "output_type": "stream",
     "text": [
      "[0.22 0.  ]\n",
      "[ 1 51]\n"
     ]
    },
    {
     "data": {
      "text/plain": [
       "array([0.22, 0.  , 0.  , 0.  , 0.  , 0.  , 0.  , 0.  , 0.  , 0.  , 0.  ,\n",
       "       0.  , 0.  , 0.  , 0.  , 0.  , 0.  , 0.  , 0.  , 0.  , 0.  , 0.  ,\n",
       "       0.  , 0.  , 0.  , 0.  , 0.  , 0.  , 0.  , 0.  , 0.  , 0.  , 0.  ,\n",
       "       0.  , 0.  , 0.  , 0.  , 0.  , 0.  , 0.  , 0.  , 0.  , 0.  , 0.  ,\n",
       "       0.  , 0.  , 0.  , 0.  , 0.  , 0.  , 0.  , 0.  ])"
      ]
     },
     "metadata": {},
     "output_type": "display_data"
    }
   ],
   "source": [
    "r = series_rle_reduction(s)\n",
    "a = np.array(r)\n",
    "display(a)\n",
    "values, counts = np.split(np.array(r), 2, axis=1)\n",
    "counts = counts.astype(int)\n",
    "print(values[:, 0])\n",
    "print(counts[:, 0])\n",
    "display(np.repeat(values[:, 0], counts[:, 0]))"
   ]
  },
  {
   "cell_type": "code",
   "execution_count": 4,
   "metadata": {},
   "outputs": [
    {
     "data": {
      "text/plain": [
       "array([0, 1, 1, 2, 2, 2])"
      ]
     },
     "metadata": {},
     "output_type": "display_data"
    },
    {
     "data": {
      "text/plain": [
       "array([1. , 0. , 0. , 0.5])"
      ]
     },
     "metadata": {},
     "output_type": "display_data"
    }
   ],
   "source": [
    "from pepper.rle import rle_expand_expr\n",
    "\n",
    "display(rle_expand_expr(((0, 1), (1, 2), (2, 3))))\n",
    "display(rle_expand_expr([[1, 1], [0, 2], [.5, 1]]))"
   ]
  },
  {
   "cell_type": "code",
   "execution_count": 1,
   "metadata": {},
   "outputs": [
    {
     "data": {
      "text/html": [
       "<div>\n",
       "<style scoped>\n",
       "    .dataframe tbody tr th:only-of-type {\n",
       "        vertical-align: middle;\n",
       "    }\n",
       "\n",
       "    .dataframe tbody tr th {\n",
       "        vertical-align: top;\n",
       "    }\n",
       "\n",
       "    .dataframe thead tr th {\n",
       "        text-align: left;\n",
       "    }\n",
       "\n",
       "    .dataframe thead tr:last-of-type th {\n",
       "        text-align: right;\n",
       "    }\n",
       "</style>\n",
       "<table border=\"1\" class=\"dataframe\">\n",
       "  <thead>\n",
       "    <tr>\n",
       "      <th>BUREAU_LOAN_ACTIVITY_BY_CLIENT_AND_MONTH</th>\n",
       "      <th colspan=\"4\" halign=\"left\">MONTHS_BALANCE</th>\n",
       "      <th>ACTIVE</th>\n",
       "    </tr>\n",
       "    <tr>\n",
       "      <th></th>\n",
       "      <th>min</th>\n",
       "      <th>max</th>\n",
       "      <th>count</th>\n",
       "      <th>jumps_rle</th>\n",
       "      <th>series_rle_reduction</th>\n",
       "    </tr>\n",
       "    <tr>\n",
       "      <th>SK_ID_CURR</th>\n",
       "      <th></th>\n",
       "      <th></th>\n",
       "      <th></th>\n",
       "      <th></th>\n",
       "      <th></th>\n",
       "    </tr>\n",
       "  </thead>\n",
       "  <tbody>\n",
       "    <tr>\n",
       "      <th>100001</th>\n",
       "      <td>0</td>\n",
       "      <td>51</td>\n",
       "      <td>52</td>\n",
       "      <td>[[1, 52]]</td>\n",
       "      <td>[[3, 2], [2, 9], [1, 10], [2, 8], [1, 1], [0, ...</td>\n",
       "    </tr>\n",
       "    <tr>\n",
       "      <th>100002</th>\n",
       "      <td>0</td>\n",
       "      <td>47</td>\n",
       "      <td>48</td>\n",
       "      <td>[[1, 48]]</td>\n",
       "      <td>[[1, 4], [0, 9], [1, 3], [0, 1], [1, 1], [2, 3...</td>\n",
       "    </tr>\n",
       "    <tr>\n",
       "      <th>100005</th>\n",
       "      <td>0</td>\n",
       "      <td>12</td>\n",
       "      <td>13</td>\n",
       "      <td>[[1, 13]]</td>\n",
       "      <td>[[2, 3], [1, 10]]</td>\n",
       "    </tr>\n",
       "    <tr>\n",
       "      <th>100010</th>\n",
       "      <td>2</td>\n",
       "      <td>90</td>\n",
       "      <td>72</td>\n",
       "      <td>[[3, 1], [1, 35], [18, 1], [1, 35]]</td>\n",
       "      <td>[[0, 26], [1, 10], [0, 26], [1, 10]]</td>\n",
       "    </tr>\n",
       "    <tr>\n",
       "      <th>100013</th>\n",
       "      <td>0</td>\n",
       "      <td>68</td>\n",
       "      <td>69</td>\n",
       "      <td>[[1, 69]]</td>\n",
       "      <td>[[1, 18], [2, 22], [1, 1], [2, 3], [3, 11], [2...</td>\n",
       "    </tr>\n",
       "    <tr>\n",
       "      <th>...</th>\n",
       "      <td>...</td>\n",
       "      <td>...</td>\n",
       "      <td>...</td>\n",
       "      <td>...</td>\n",
       "      <td>...</td>\n",
       "    </tr>\n",
       "    <tr>\n",
       "      <th>456247</th>\n",
       "      <td>0</td>\n",
       "      <td>81</td>\n",
       "      <td>82</td>\n",
       "      <td>[[1, 82]]</td>\n",
       "      <td>[[2, 1], [3, 2], [4, 7], [3, 1], [2, 1], [1, 1...</td>\n",
       "    </tr>\n",
       "    <tr>\n",
       "      <th>456250</th>\n",
       "      <td>0</td>\n",
       "      <td>32</td>\n",
       "      <td>33</td>\n",
       "      <td>[[1, 33]]</td>\n",
       "      <td>[[2, 25], [3, 1], [2, 2], [1, 5]]</td>\n",
       "    </tr>\n",
       "    <tr>\n",
       "      <th>456253</th>\n",
       "      <td>0</td>\n",
       "      <td>30</td>\n",
       "      <td>31</td>\n",
       "      <td>[[1, 31]]</td>\n",
       "      <td>[[1, 19], [4, 5], [3, 7]]</td>\n",
       "    </tr>\n",
       "    <tr>\n",
       "      <th>456254</th>\n",
       "      <td>0</td>\n",
       "      <td>36</td>\n",
       "      <td>37</td>\n",
       "      <td>[[1, 37]]</td>\n",
       "      <td>[[0, 29], [1, 8]]</td>\n",
       "    </tr>\n",
       "    <tr>\n",
       "      <th>456255</th>\n",
       "      <td>0</td>\n",
       "      <td>76</td>\n",
       "      <td>77</td>\n",
       "      <td>[[1, 77]]</td>\n",
       "      <td>[[0, 3], [2, 4], [3, 3], [4, 2], [3, 1], [2, 2...</td>\n",
       "    </tr>\n",
       "  </tbody>\n",
       "</table>\n",
       "<p>134542 rows × 5 columns</p>\n",
       "</div>"
      ],
      "text/plain": [
       "BUREAU_LOAN_ACTIVITY_BY_CLIENT_AND_MONTH MONTHS_BALANCE            \\\n",
       "                                                    min max count   \n",
       "SK_ID_CURR                                                          \n",
       "100001                                                0  51    52   \n",
       "100002                                                0  47    48   \n",
       "100005                                                0  12    13   \n",
       "100010                                                2  90    72   \n",
       "100013                                                0  68    69   \n",
       "...                                                 ...  ..   ...   \n",
       "456247                                                0  81    82   \n",
       "456250                                                0  32    33   \n",
       "456253                                                0  30    31   \n",
       "456254                                                0  36    37   \n",
       "456255                                                0  76    77   \n",
       "\n",
       "BUREAU_LOAN_ACTIVITY_BY_CLIENT_AND_MONTH                                       \\\n",
       "                                                                    jumps_rle   \n",
       "SK_ID_CURR                                                                      \n",
       "100001                                                              [[1, 52]]   \n",
       "100002                                                              [[1, 48]]   \n",
       "100005                                                              [[1, 13]]   \n",
       "100010                                    [[3, 1], [1, 35], [18, 1], [1, 35]]   \n",
       "100013                                                              [[1, 69]]   \n",
       "...                                                                       ...   \n",
       "456247                                                              [[1, 82]]   \n",
       "456250                                                              [[1, 33]]   \n",
       "456253                                                              [[1, 31]]   \n",
       "456254                                                              [[1, 37]]   \n",
       "456255                                                              [[1, 77]]   \n",
       "\n",
       "BUREAU_LOAN_ACTIVITY_BY_CLIENT_AND_MONTH                                             ACTIVE  \n",
       "                                                                       series_rle_reduction  \n",
       "SK_ID_CURR                                                                                   \n",
       "100001                                    [[3, 2], [2, 9], [1, 10], [2, 8], [1, 1], [0, ...  \n",
       "100002                                    [[1, 4], [0, 9], [1, 3], [0, 1], [1, 1], [2, 3...  \n",
       "100005                                                                    [[2, 3], [1, 10]]  \n",
       "100010                                                 [[0, 26], [1, 10], [0, 26], [1, 10]]  \n",
       "100013                                    [[1, 18], [2, 22], [1, 1], [2, 3], [3, 11], [2...  \n",
       "...                                                                                     ...  \n",
       "456247                                    [[2, 1], [3, 2], [4, 7], [3, 1], [2, 1], [1, 1...  \n",
       "456250                                                    [[2, 25], [3, 1], [2, 2], [1, 5]]  \n",
       "456253                                                            [[1, 19], [4, 5], [3, 7]]  \n",
       "456254                                                                    [[0, 29], [1, 8]]  \n",
       "456255                                    [[0, 3], [2, 4], [3, 3], [4, 2], [3, 1], [2, 2...  \n",
       "\n",
       "[134542 rows x 5 columns]"
      ]
     },
     "metadata": {},
     "output_type": "display_data"
    }
   ],
   "source": [
    "from home_credit.tables import BureauBalance\n",
    "\n",
    "activity_variation = BureauBalance.rle_loan_activity_by_client_variation()\n",
    "display(activity_variation)"
   ]
  },
  {
   "cell_type": "code",
   "execution_count": 2,
   "metadata": {},
   "outputs": [
    {
     "data": {
      "text/plain": [
       "SK_ID_CURR\n",
       "100001    [[3, 2], [2, 9], [1, 10], [2, 8], [1, 1], [0, ...\n",
       "100002    [[1, 4], [0, 9], [1, 3], [0, 1], [1, 1], [2, 3...\n",
       "100005                                    [[2, 3], [1, 10]]\n",
       "100010                 [[0, 26], [1, 10], [0, 26], [1, 10]]\n",
       "100013    [[1, 18], [2, 22], [1, 1], [2, 3], [3, 11], [2...\n",
       "                                ...                        \n",
       "456247    [[2, 1], [3, 2], [4, 7], [3, 1], [2, 1], [1, 1...\n",
       "456250                    [[2, 25], [3, 1], [2, 2], [1, 5]]\n",
       "456253                            [[1, 19], [4, 5], [3, 7]]\n",
       "456254                                    [[0, 29], [1, 8]]\n",
       "456255    [[0, 3], [2, 4], [3, 3], [4, 2], [3, 1], [2, 2...\n",
       "Name: (ACTIVE, series_rle_reduction), Length: 134542, dtype: object"
      ]
     },
     "metadata": {},
     "output_type": "display_data"
    }
   ],
   "source": [
    "# display(activity_variation)\n",
    "rle_series = activity_variation[(\"ACTIVE\", \"series_rle_reduction\")]\n",
    "display(rle_series)"
   ]
  },
  {
   "cell_type": "code",
   "execution_count": 5,
   "metadata": {},
   "outputs": [
    {
     "ename": "IndexError",
     "evalue": "tuple index out of range",
     "output_type": "error",
     "traceback": [
      "\u001b[1;31m---------------------------------------------------------------------------\u001b[0m",
      "\u001b[1;31mIndexError\u001b[0m                                Traceback (most recent call last)",
      "\u001b[1;32mc:\\Users\\franc\\Projects\\pepper_credit_scoring_tool\\notebooks\\_lib\\pepper\\rle.ipynb Cellule 18\u001b[0m line \u001b[0;36m3\n\u001b[0;32m      <a href='vscode-notebook-cell:/c%3A/Users/franc/Projects/pepper_credit_scoring_tool/notebooks/_lib/pepper/rle.ipynb#X22sZmlsZQ%3D%3D?line=0'>1</a>\u001b[0m \u001b[39mfrom\u001b[39;00m \u001b[39mpepper\u001b[39;00m\u001b[39m.\u001b[39;00m\u001b[39mrle\u001b[39;00m \u001b[39mimport\u001b[39;00m rle_expand_expr\n\u001b[1;32m----> <a href='vscode-notebook-cell:/c%3A/Users/franc/Projects/pepper_credit_scoring_tool/notebooks/_lib/pepper/rle.ipynb#X22sZmlsZQ%3D%3D?line=2'>3</a>\u001b[0m display(rle_series\u001b[39m.\u001b[39;49mapply(rle_expand_expr))\n",
      "File \u001b[1;32mc:\\Users\\franc\\AppData\\Local\\Programs\\Python\\Python311\\Lib\\site-packages\\pandas\\core\\series.py:4771\u001b[0m, in \u001b[0;36mSeries.apply\u001b[1;34m(self, func, convert_dtype, args, **kwargs)\u001b[0m\n\u001b[0;32m   4661\u001b[0m \u001b[39mdef\u001b[39;00m \u001b[39mapply\u001b[39m(\n\u001b[0;32m   4662\u001b[0m     \u001b[39mself\u001b[39m,\n\u001b[0;32m   4663\u001b[0m     func: AggFuncType,\n\u001b[1;32m   (...)\u001b[0m\n\u001b[0;32m   4666\u001b[0m     \u001b[39m*\u001b[39m\u001b[39m*\u001b[39mkwargs,\n\u001b[0;32m   4667\u001b[0m ) \u001b[39m-\u001b[39m\u001b[39m>\u001b[39m DataFrame \u001b[39m|\u001b[39m Series:\n\u001b[0;32m   4668\u001b[0m \u001b[39m    \u001b[39m\u001b[39m\"\"\"\u001b[39;00m\n\u001b[0;32m   4669\u001b[0m \u001b[39m    Invoke function on values of Series.\u001b[39;00m\n\u001b[0;32m   4670\u001b[0m \n\u001b[1;32m   (...)\u001b[0m\n\u001b[0;32m   4769\u001b[0m \u001b[39m    dtype: float64\u001b[39;00m\n\u001b[0;32m   4770\u001b[0m \u001b[39m    \"\"\"\u001b[39;00m\n\u001b[1;32m-> 4771\u001b[0m     \u001b[39mreturn\u001b[39;00m SeriesApply(\u001b[39mself\u001b[39;49m, func, convert_dtype, args, kwargs)\u001b[39m.\u001b[39;49mapply()\n",
      "File \u001b[1;32mc:\\Users\\franc\\AppData\\Local\\Programs\\Python\\Python311\\Lib\\site-packages\\pandas\\core\\apply.py:1123\u001b[0m, in \u001b[0;36mSeriesApply.apply\u001b[1;34m(self)\u001b[0m\n\u001b[0;32m   1120\u001b[0m     \u001b[39mreturn\u001b[39;00m \u001b[39mself\u001b[39m\u001b[39m.\u001b[39mapply_str()\n\u001b[0;32m   1122\u001b[0m \u001b[39m# self.f is Callable\u001b[39;00m\n\u001b[1;32m-> 1123\u001b[0m \u001b[39mreturn\u001b[39;00m \u001b[39mself\u001b[39;49m\u001b[39m.\u001b[39;49mapply_standard()\n",
      "File \u001b[1;32mc:\\Users\\franc\\AppData\\Local\\Programs\\Python\\Python311\\Lib\\site-packages\\pandas\\core\\apply.py:1174\u001b[0m, in \u001b[0;36mSeriesApply.apply_standard\u001b[1;34m(self)\u001b[0m\n\u001b[0;32m   1172\u001b[0m     \u001b[39melse\u001b[39;00m:\n\u001b[0;32m   1173\u001b[0m         values \u001b[39m=\u001b[39m obj\u001b[39m.\u001b[39mastype(\u001b[39mobject\u001b[39m)\u001b[39m.\u001b[39m_values\n\u001b[1;32m-> 1174\u001b[0m         mapped \u001b[39m=\u001b[39m lib\u001b[39m.\u001b[39;49mmap_infer(\n\u001b[0;32m   1175\u001b[0m             values,\n\u001b[0;32m   1176\u001b[0m             f,\n\u001b[0;32m   1177\u001b[0m             convert\u001b[39m=\u001b[39;49m\u001b[39mself\u001b[39;49m\u001b[39m.\u001b[39;49mconvert_dtype,\n\u001b[0;32m   1178\u001b[0m         )\n\u001b[0;32m   1180\u001b[0m \u001b[39mif\u001b[39;00m \u001b[39mlen\u001b[39m(mapped) \u001b[39mand\u001b[39;00m \u001b[39misinstance\u001b[39m(mapped[\u001b[39m0\u001b[39m], ABCSeries):\n\u001b[0;32m   1181\u001b[0m     \u001b[39m# GH#43986 Need to do list(mapped) in order to get treated as nested\u001b[39;00m\n\u001b[0;32m   1182\u001b[0m     \u001b[39m#  See also GH#25959 regarding EA support\u001b[39;00m\n\u001b[0;32m   1183\u001b[0m     \u001b[39mreturn\u001b[39;00m obj\u001b[39m.\u001b[39m_constructor_expanddim(\u001b[39mlist\u001b[39m(mapped), index\u001b[39m=\u001b[39mobj\u001b[39m.\u001b[39mindex)\n",
      "File \u001b[1;32mc:\\Users\\franc\\AppData\\Local\\Programs\\Python\\Python311\\Lib\\site-packages\\pandas\\_libs\\lib.pyx:2924\u001b[0m, in \u001b[0;36mpandas._libs.lib.map_infer\u001b[1;34m()\u001b[0m\n",
      "File \u001b[1;32m~\\Projects\\pepper_credit_scoring_tool\\python\\pepper\\rle.py:359\u001b[0m, in \u001b[0;36mrle_expand_expr\u001b[1;34m(rle_expr)\u001b[0m\n\u001b[0;32m    356\u001b[0m     \u001b[39mreturn\u001b[39;00m np\u001b[39m.\u001b[39marray([])\n\u001b[0;32m    358\u001b[0m \u001b[39m# Extract values and counts\u001b[39;00m\n\u001b[1;32m--> 359\u001b[0m \u001b[39mif\u001b[39;00m rle\u001b[39m.\u001b[39;49mshape[\u001b[39m1\u001b[39;49m] \u001b[39m==\u001b[39m \u001b[39m2\u001b[39m:\n\u001b[0;32m    360\u001b[0m     values, counts \u001b[39m=\u001b[39m rle[:, \u001b[39m0\u001b[39m], rle[:, \u001b[39m1\u001b[39m]\u001b[39m.\u001b[39mastype(\u001b[39mint\u001b[39m)\n\u001b[0;32m    361\u001b[0m \u001b[39melse\u001b[39;00m:\n",
      "\u001b[1;31mIndexError\u001b[0m: tuple index out of range"
     ]
    }
   ],
   "source": [
    "from pepper.rle import rle_expand_expr\n",
    "\n",
    "# TODO Fix it. régression certainement due au passage de tuple à liste forcé par l'AR parquet\n",
    "\n",
    "display(rle_series.apply(rle_expand_expr))"
   ]
  },
  {
   "cell_type": "code",
   "execution_count": null,
   "metadata": {},
   "outputs": [
    {
     "data": {
      "text/plain": [
       "array([ 1., nan, nan,  2.,  2.,  2.])"
      ]
     },
     "metadata": {},
     "output_type": "display_data"
    }
   ],
   "source": [
    "np.repeat([1, np.nan, 2], [1, 2, 3])"
   ]
  },
  {
   "cell_type": "markdown",
   "metadata": {},
   "source": [
    "Il est facile d'étendre une series de rle_expr comme cela : rle_series.apply(rle_expand_expr)\n",
    "\n",
    "Mais j'ai fait quelque chose d'assez fin : mes expressions rle résument les cellules non NA d'un tableau à 96 dimensions.\n",
    "\n",
    "Avec une seconde fonction rle_jumps, je code le support, c'est à dire les indices des positions successives non NA, en partant (prepend) de -1 : par exemple (1, 3)(3, 1)(1, 3) donnera les indices suivants : 0, 1, 2, 5, 6, 7, 8. Mon but est de faire une fonction qui prend en argument deux series, celle qui code les supports et celle qui code les valeurs, et de produire en sortie un dataframe.\n",
    "\n",
    "La première étape me semble d'être d'identifier la dimension du dataframe de sortie, qui est finalement donné par le support le plus long. Donc la première première étape est d'extraire cette information d'un codage rle de support, ce qui n'est pas très compliqué.\n",
    "\n",
    "Ensuite, il faut trouver la succession d'opérations la plus efficace pour réaliser l'expansion.\n",
    "\n",
    "Pour tirer parti de la fonction précédente, basée sur repeat, donc efficace, je pense que la meilleure stratégie est de modifier les rle_expr en fonction des rle_jumps, pour y insérer des 'trous', c'est à dire des répétitions de np.nan là où le support l'indique. Enfin, on utilie notre fonction précédente avec un apply sur les rle_expr ainsi transformée. "
   ]
  },
  {
   "cell_type": "code",
   "execution_count": null,
   "metadata": {},
   "outputs": [
    {
     "data": {
      "text/plain": [
       "SK_ID_CURR\n",
       "100001                             ((1, 52),)\n",
       "100002                             ((1, 48),)\n",
       "100005                             ((1, 13),)\n",
       "100010    ((3, 1), (1, 35), (18, 1), (1, 35))\n",
       "100013                             ((1, 69),)\n",
       "                         ...                 \n",
       "456247                             ((1, 82),)\n",
       "456250                             ((1, 33),)\n",
       "456253                             ((1, 31),)\n",
       "456254                             ((1, 37),)\n",
       "456255                             ((1, 77),)\n",
       "Name: (MONTHS_BALANCE, jumps_rle), Length: 134542, dtype: object"
      ]
     },
     "metadata": {},
     "output_type": "display_data"
    }
   ],
   "source": [
    "jumps_rle_series = activity_variation[(\"MONTHS_BALANCE\", \"jumps_rle\")]\n",
    "display(jumps_rle_series)"
   ]
  },
  {
   "cell_type": "code",
   "execution_count": null,
   "metadata": {},
   "outputs": [
    {
     "name": "stdout",
     "output_type": "stream",
     "text": [
      "51\n",
      "90\n",
      "max_max_indice + 1 = dim: 97\n"
     ]
    },
    {
     "data": {
      "text/plain": [
       "SK_ID_CURR\n",
       "100001    51\n",
       "100002    47\n",
       "100005    12\n",
       "100010    90\n",
       "100013    68\n",
       "          ..\n",
       "456247    81\n",
       "456250    32\n",
       "456253    30\n",
       "456254    36\n",
       "456255    76\n",
       "Name: (MONTHS_BALANCE, jumps_rle), Length: 134542, dtype: int64"
      ]
     },
     "metadata": {},
     "output_type": "display_data"
    }
   ],
   "source": [
    "from pepper.rle import support_max_indice\n",
    "\n",
    "print(support_max_indice(((1, 52),)))\n",
    "print(support_max_indice(((3, 1), (1, 35), (18, 1), (1, 35))))\n",
    "max_indices = jumps_rle_series.apply(support_max_indice)\n",
    "output_dim = max_indices.max() + 1\n",
    "print(f\"max_max_indice + 1 = dim: {output_dim}\")\n",
    "display(max_indices)"
   ]
  },
  {
   "cell_type": "markdown",
   "metadata": {},
   "source": [
    "Idée :\n",
    "\n",
    "Avec un support $(1, N)$, il n'y a rien à faire, séquence continue, pas de trous. L'opération de transformation de la rle_values est l'identité (c'est le cas le plus fréquent en la circonstance de nos données Home Credit).\n",
    "\n",
    "Avec un support fragmenté, de la forme $(1, i)(k, j)(1, l)$ : il y a un trou de taille $k-1$ après la séquence des $i$ premières valeurs, suivi des $l+1$ valeurs suivantes.\n",
    "\n",
    "Avec $k_j > 1$,\n",
    "\n",
    "Avec un support $(1, i_1)(k_1, j_1)(1, i_2)(k_2, j_2)\\ldots(1, i_n)(k_n, j_n)(1, i_{n+1})$, il y a $n$ _trous_ de tailles $k_1-1, \\dots, k_n-1$, précédés de $i_1, i_2+1, i_3+1, \\ldots, i_n+1$ valeurs.\n",
    "\n",
    "Attention au cas où cela démarre par un trou !\n",
    "\n",
    "Cela revient donc à insérer $n$ `(np.nan, k_j-1)` dans l'expression RLE des valeurs.\n",
    "\n",
    "Là il faut réfléchir un peu pour le faire en Numpy, mais en gros, les distances d'insertion sont données par les $i_1, i_2+1, i_3+1, \\ldots, i_n+1$. Par exemple, pour la première insertion, on identifie dans la séquence de valeurs, l'élément répété, tel que $i_1$ soit supérieur strictement à la somme des répétitions des éléments précédents, mais inférieure ou égale à cette somme augmentée du nombre de répétitions de cet élément.\n",
    "\n",
    "Là, il faut éventuellement fragmenter l'élément en deux parties, celle qui précède le trou et celle qui le suit.\n",
    "\n",
    "On procède à l'insertion.\n",
    "\n",
    "La suite et une répétition de ce procédé."
   ]
  },
  {
   "cell_type": "code",
   "execution_count": null,
   "metadata": {},
   "outputs": [
    {
     "name": "stdout",
     "output_type": "stream",
     "text": [
      "support: ((1, 3), (3, 1), (1, 3))\n",
      "values: ((1, 1), (2, 3), (3, 1))\n",
      "1\n",
      "hole sizes (k-1): [2]\n",
      "start with hole: False\n",
      "seq sizes (i+1): [1 2]\n",
      "value counts cumsum: [1 4 5]\n"
     ]
    }
   ],
   "source": [
    "from pepper.rle import rle_expr_to_numpy\n",
    "import numpy as np\n",
    "\n",
    "support = ((1, 3), (3, 1), (1, 3))\n",
    "values = ((1, 1), (2, 3), (3, 1))\n",
    "def n_holes(rle_support: np.array):\n",
    "    return np.sum(rle_support[:, 0] > 1)\n",
    "\n",
    "rle_support = rle_expr_to_numpy(support)\n",
    "rle_values = rle_expr_to_numpy(values)\n",
    "print(f\"support: {support}\")\n",
    "print(f\"values: {values}\")\n",
    "\n",
    "print(n_holes(rle_support))\n",
    "\n",
    "hole_sizes = rle_support[rle_support[:, 0] > 1, 0] - 1\n",
    "print(f\"hole sizes (k-1): {hole_sizes}\")\n",
    "\n",
    "start_with_hole = rle_support[0, 0] > 1\n",
    "print(f\"start with hole: {start_with_hole}\")\n",
    "\n",
    "seq_sizes = rle_support[rle_support[:, 0] == 1, 0] + 1\n",
    "if not start_with_hole:\n",
    "    seq_sizes[0] -= 1\n",
    "print(f\"seq sizes (i+1): {seq_sizes}\")\n",
    "\n",
    "vc_cumsum = np.cumsum(rle_values[:, 1])\n",
    "print(f\"value counts cumsum: {vc_cumsum}\")\n"
   ]
  },
  {
   "cell_type": "code",
   "execution_count": null,
   "metadata": {},
   "outputs": [
    {
     "name": "stdout",
     "output_type": "stream",
     "text": [
      "[[1 2]\n",
      " [3 1]\n",
      " [1 3]]\n",
      "[ 0.  1.  1.  2. nan  2. nan  2.  2.  3.]\n"
     ]
    }
   ],
   "source": [
    "from typing import Union\n",
    "from pepper.rle import rle_support_size\n",
    "\n",
    "\n",
    "# TODO : mettre au point plus tard, il y a des urgences, et cela est du bonus.\n",
    "\n",
    "def rle_insert_holes(\n",
    "    rle_support_expr: Union[list, tuple, np.ndarray],\n",
    "    rle_values_expr: Union[list, tuple, np.ndarray]\n",
    ") -> tuple:\n",
    "    \"\"\"\n",
    "    Modify a RLE sequence of values expression by inserting \"holes\" based on support.\n",
    "\n",
    "    Parameters\n",
    "    ----------\n",
    "    rle_support_expr : List[tuple]\n",
    "        RLE sequence for support.\n",
    "    rle_values_expr : List[tuple]\n",
    "        RLE sequence for values.\n",
    "\n",
    "    Returns\n",
    "    -------\n",
    "    tuple\n",
    "        RLE sequence of values expression with holes.\n",
    "    \"\"\"\n",
    "    # Convert inputs to NumPy arrays if they are not already\n",
    "    rle_support = rle_expr_to_numpy(rle_support_expr)\n",
    "    rle_values = rle_expr_to_numpy(rle_values_expr)\n",
    "\n",
    "    # Ensure that both support and values have the same length\n",
    "    # if rle_support.shape[0] != rle_values.shape[0]:\n",
    "    if rle_support_size(rle_support) != rle_support_size(rle_values):\n",
    "        raise ValueError(\"Number of repeats mismatch between the support and values RLE sequences.\")\n",
    "\n",
    "    # Count holes\n",
    "    h = n_holes(rle_support)\n",
    "    \n",
    "    # No holes, keep values as is\n",
    "    if not h:\n",
    "        return rle_values_expr\n",
    "    \n",
    "    \n",
    "    \n",
    "    ## La suite est a early bad..\n",
    "    \n",
    "    modified_values.append(values)\n",
    "\n",
    "    # Create an empty list to store the modified RLE values\n",
    "    modified_values = []\n",
    "\n",
    "    for i in range(rle_support.shape[0]):\n",
    "        support = rle_support[i]\n",
    "        values = rle_values[i]\n",
    "\n",
    "        if support[0] == 1:\n",
    "            # No holes, keep values as is\n",
    "            modified_values.append(values)\n",
    "        else:\n",
    "            # Calculate the number of holes and their positions\n",
    "            num_holes = support[0] - 1\n",
    "            hole_positions = np.cumsum([values[1] + num_holes] + list(support[1:]))\n",
    "\n",
    "            # Split values into segments before and after holes\n",
    "            segments = np.split(values, hole_positions[:-1])\n",
    "            modified_values.extend(segments[:-1])\n",
    "\n",
    "            # Insert NaN holes between segments\n",
    "            modified_values.extend([(np.nan, num_holes)] * num_holes)\n",
    "\n",
    "    # Convert the list of modified values to a NumPy array\n",
    "    modified_values_array = np.concatenate(modified_values)\n",
    "\n",
    "    return rle_support, modified_values_array\n",
    "\n",
    "# Example usage:\n",
    "rle_support_expr = ((1, 2), (3, 1), (1, 3))\n",
    "rle_values_expr = ((0, 1), (1, 2), (2, 3))\n",
    "result_support, result_values = rle_insert_holes(rle_support_expr, rle_values_expr)\n",
    "print(result_support)\n",
    "print(result_values)\n"
   ]
  }
 ],
 "metadata": {
  "kernelspec": {
   "display_name": "Python 3",
   "language": "python",
   "name": "python3"
  },
  "language_info": {
   "codemirror_mode": {
    "name": "ipython",
    "version": 3
   },
   "file_extension": ".py",
   "mimetype": "text/x-python",
   "name": "python",
   "nbconvert_exporter": "python",
   "pygments_lexer": "ipython3",
   "version": "3.11.1"
  },
  "orig_nbformat": 4
 },
 "nbformat": 4,
 "nbformat_minor": 2
}
