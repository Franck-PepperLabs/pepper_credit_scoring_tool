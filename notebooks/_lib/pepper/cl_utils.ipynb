{
 "cells": [
  {
   "cell_type": "markdown",
   "metadata": {},
   "source": [
    "# **Module `pepper.cl_utils`**\n",
    "\n",
    "✔ Revue des **typehints** et des **docstrings**."
   ]
  },
  {
   "cell_type": "markdown",
   "metadata": {},
   "source": [
    "# **`match_class`**`(y_clu, y_cla)`"
   ]
  },
  {
   "cell_type": "code",
   "execution_count": 5,
   "metadata": {},
   "outputs": [
    {
     "name": "stdout",
     "output_type": "stream",
     "text": [
      "[1 0 2]\n",
      "[0 0 1 1 2 2 0]\n"
     ]
    }
   ],
   "source": [
    "from pepper.cl_utils import match_class\n",
    "import numpy as np\n",
    "\n",
    "y_cla = [0, 0, 1, 1, 2, 2, 1]\n",
    "y_clu = [1, 1, 0, 0, 2, 2, 1]\n",
    "\n",
    "mapping = match_class(y_clu, y_cla)  # linear assignment\n",
    "mapped_y_clu = np.array([mapping[clu] for clu in y_clu])\n",
    "\n",
    "print(mapping)\n",
    "print(mapped_y_clu)"
   ]
  }
 ],
 "metadata": {
  "kernelspec": {
   "display_name": "Python 3",
   "language": "python",
   "name": "python3"
  },
  "language_info": {
   "codemirror_mode": {
    "name": "ipython",
    "version": 3
   },
   "file_extension": ".py",
   "mimetype": "text/x-python",
   "name": "python",
   "nbconvert_exporter": "python",
   "pygments_lexer": "ipython3",
   "version": "3.11.1"
  },
  "orig_nbformat": 4
 },
 "nbformat": 4,
 "nbformat_minor": 2
}
