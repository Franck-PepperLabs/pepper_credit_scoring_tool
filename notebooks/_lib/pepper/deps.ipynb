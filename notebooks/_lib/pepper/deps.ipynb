{
 "cells": [
  {
   "cell_type": "markdown",
   "metadata": {},
   "source": [
    "# **Module `pepper.deps`**\n",
    "\n",
    "✔ Revue des **typehints** et des **docstrings**."
   ]
  },
  {
   "cell_type": "markdown",
   "metadata": {},
   "source": [
    "# **`get_dependency_tree`**`(root_pkg_name, verbose)`"
   ]
  },
  {
   "cell_type": "code",
   "execution_count": 3,
   "metadata": {},
   "outputs": [
    {
     "data": {
      "text/plain": [
       "{'pandas': {'version': '1.5.3',\n",
       "  'dependencies': {'python-dateutil': {'requirement': 'python-dateutil>=2.8.1',\n",
       "    'version': '2.8.2',\n",
       "    'dependencies': {'six': {'requirement': 'six>=1.5',\n",
       "      'version': '1.16.0',\n",
       "      'dependencies': None}}},\n",
       "   'pytz': {'requirement': 'pytz>=2020.1',\n",
       "    'version': '2023.3',\n",
       "    'dependencies': None},\n",
       "   'numpy': {'requirement': 'numpy>=1.23.2; python_version >= \"3.11\"',\n",
       "    'version': '1.23.5',\n",
       "    'dependencies': None}}}}"
      ]
     },
     "execution_count": 3,
     "metadata": {},
     "output_type": "execute_result"
    }
   ],
   "source": [
    "from pepper.deps import get_dependency_tree\n",
    "\n",
    "get_dependency_tree(\"pandas\")"
   ]
  }
 ],
 "metadata": {
  "kernelspec": {
   "display_name": "Python 3",
   "language": "python",
   "name": "python3"
  },
  "language_info": {
   "codemirror_mode": {
    "name": "ipython",
    "version": 3
   },
   "file_extension": ".py",
   "mimetype": "text/x-python",
   "name": "python",
   "nbconvert_exporter": "python",
   "pygments_lexer": "ipython3",
   "version": "3.11.1"
  },
  "orig_nbformat": 4
 },
 "nbformat": 4,
 "nbformat_minor": 2
}
