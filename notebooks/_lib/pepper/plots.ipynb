{
 "cells": [
  {
   "cell_type": "markdown",
   "metadata": {},
   "source": [
    "# **Module `pepper.plots`**\n",
    "\n",
    "✔ Revue des **typehints** et des **docstrings**."
   ]
  },
  {
   "cell_type": "markdown",
   "metadata": {},
   "source": [
    "# **`show_cat_mod_counts`**`(cat, order, ax, rotate_labels, title)`"
   ]
  },
  {
   "cell_type": "markdown",
   "metadata": {},
   "source": [
    "# **`show_cat_mod_counts_gallery`**`(data, columns, ncols, rotate_labels)`"
   ]
  },
  {
   "cell_type": "markdown",
   "metadata": {},
   "source": [
    "# **`lin_log_tetra_histplot`**`(s, color, single_figsize, title, max_bins)`"
   ]
  }
 ],
 "metadata": {
  "language_info": {
   "name": "python"
  },
  "orig_nbformat": 4
 },
 "nbformat": 4,
 "nbformat_minor": 2
}
