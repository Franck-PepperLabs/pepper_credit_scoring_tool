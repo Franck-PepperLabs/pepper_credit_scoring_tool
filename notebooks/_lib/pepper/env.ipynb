{
 "cells": [
  {
   "cell_type": "markdown",
   "metadata": {},
   "source": [
    "# **Module `pepper.env`**\n",
    "\n",
    "✔ Revue des **typehints** et des **docstrings**.\n",
    "\n",
    "**TODO** Faire quelque chose de plus intelligent + intégrer le `set_python_path` de streamlit.\n",
    "C'est peut-être le moment de migrer vers Docker.\n",
    "\n",
    "- `get_project_dir() -> str`: Returns the project's base directory path.\n",
    "- `get_modules_dir() -> str`: Returns the project's local python modules directory path.\n",
    "- `get_dataset_dir() -> str`: Returns the project's dataset directory path.\n",
    "- `get_img_dir() -> str`: Returns the project's images directory path.\n",
    "- `get_tmp_dir() -> str`: Returns the project's temporary directory path.\n",
    "- `get_dataset_csv_dir() -> str`: Returns the project's dataset CSV directory path.\n",
    "- `get_dataset_pqt_dir() -> str`: Returns the project's dataset Parquet directory path."
   ]
  },
  {
   "cell_type": "markdown",
   "metadata": {},
   "source": [
    "# **`get_project_dir`**`()`\n",
    "\n",
    "..."
   ]
  }
 ],
 "metadata": {
  "language_info": {
   "name": "python"
  },
  "orig_nbformat": 4
 },
 "nbformat": 4,
 "nbformat_minor": 2
}
