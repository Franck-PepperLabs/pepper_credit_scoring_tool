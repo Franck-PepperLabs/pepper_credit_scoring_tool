{
 "cells": [
  {
   "cell_type": "markdown",
   "metadata": {},
   "source": [
    "# **Module `pepper.db_utils`**\n",
    "\n",
    "✔ Revue des **typehints** et des **docstrings**.\n",
    "\n",
    "**TODO** Il me semble avoir amélioré **`discrete_stats`** sur le P8 : vérifier et si oui, intégrer la nouvelle version."
   ]
  },
  {
   "cell_type": "markdown",
   "metadata": {},
   "source": [
    "# **`table_discrete_stats`**`(table_name, table)`\n",
    "# **`db_discrete_stats`**`(table_dict)`"
   ]
  },
  {
   "cell_type": "markdown",
   "metadata": {},
   "source": [
    "# **`set_pk_index`**`(data, pk_columns, pk_name)`\n",
    "# **`cast_columns`**`(data, cols, dtype)`\n",
    "# **`count_of_objets_A_by_objet_B`**`(table, col_A, col_B)`\n",
    "\n",
    "# **`out_of_intersection_v1`**`(table_A, table_B, pk_name)`\n",
    "# **`print_out_of_intersection`**`(table_A, table_B, pk_name)`\n",
    "# **`display_relation_arities`**`(table_A, table_B, verbose)`\n",
    "# **`out_of_intersection`**`(table_A, table_B, pk_name)`"
   ]
  },
  {
   "cell_type": "markdown",
   "metadata": {},
   "source": [
    "# **`is_in_A_but_not_in_B_matrix`**`(table_dict, key, normalize)`\n",
    "# **`is_in_A_and_in_B_matrix`**`(table_dict, key)`"
   ]
  },
  {
   "cell_type": "markdown",
   "metadata": {},
   "source": [
    "# **`display_is_in_A_but_not_in_B_heatmap`**`(table_dict, key, normalize, ratio)`\n",
    "# **`display_is_in_A_but_not_in_B_heatmaps`**`(table_dict, key, single_figsize, ratio)`"
   ]
  },
  {
   "cell_type": "markdown",
   "metadata": {},
   "source": [
    "# **`test_1_is_in_A_but_not_in_B`**`(table_dict, n_iter)`\n",
    "# **`test_2_is_in_A_but_not_in_B`**`(table_dict, n_iter)`"
   ]
  }
 ],
 "metadata": {
  "language_info": {
   "name": "python"
  },
  "orig_nbformat": 4
 },
 "nbformat": 4,
 "nbformat_minor": 2
}
