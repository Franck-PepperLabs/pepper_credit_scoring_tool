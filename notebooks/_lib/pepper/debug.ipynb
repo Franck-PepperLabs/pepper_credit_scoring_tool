{
 "cells": [
  {
   "cell_type": "markdown",
   "metadata": {},
   "source": [
    "# **Module `pepper.debug`**\n",
    "\n",
    "✔ Revue des **typehints** et des **docstrings**.\n",
    "\n",
    "**TODO** Intégration avec **`logging`**."
   ]
  },
  {
   "cell_type": "markdown",
   "metadata": {},
   "source": [
    "# **`tx`**`(verbosity, text)`"
   ]
  },
  {
   "cell_type": "code",
   "execution_count": 16,
   "metadata": {},
   "outputs": [
    {
     "data": {
      "text/plain": [
       "'Text (1)'"
      ]
     },
     "metadata": {},
     "output_type": "display_data"
    },
    {
     "data": {
      "text/plain": [
       "'Text (2)'"
      ]
     },
     "metadata": {},
     "output_type": "display_data"
    },
    {
     "data": {
      "text/plain": [
       "'Text (3)'"
      ]
     },
     "metadata": {},
     "output_type": "display_data"
    },
    {
     "data": {
      "text/plain": [
       "'Text (4)'"
      ]
     },
     "metadata": {},
     "output_type": "display_data"
    }
   ],
   "source": [
    "from pepper.debug import tx\n",
    "\n",
    "for verbosity in range(1, 5):\n",
    "    tx(verbosity, f\"Text ({verbosity})\")"
   ]
  },
  {
   "cell_type": "markdown",
   "metadata": {},
   "source": [
    "# **`kv`**`(verbosity, key, val)`"
   ]
  },
  {
   "cell_type": "code",
   "execution_count": 15,
   "metadata": {},
   "outputs": [
    {
     "name": "stdout",
     "output_type": "stream",
     "text": [
      "\u001b[1mv\u001b[0m: 1\n",
      "\u001b[1mv\u001b[0m: 2\n",
      "\u001b[1mv\u001b[0m: 3\n",
      "\u001b[1mv\u001b[0m: 4\n"
     ]
    }
   ],
   "source": [
    "from pepper.debug import kv\n",
    "\n",
    "for verbosity in range(1, 5):\n",
    "    kv(verbosity, \"v\", verbosity)"
   ]
  },
  {
   "cell_type": "markdown",
   "metadata": {},
   "source": [
    "# **`tl`**`(verbosity, title)`"
   ]
  },
  {
   "cell_type": "code",
   "execution_count": 14,
   "metadata": {},
   "outputs": [
    {
     "name": "stdout",
     "output_type": "stream",
     "text": [
      "A stitle (1)\n",
      "\u001b[3m\u001b[32m\n",
      "A stitle (2)\u001b[0m\u001b[0m\n",
      "\u001b[1m\u001b[36m\n",
      "A stitle (3)\u001b[0m\u001b[0m\n",
      "\u001b[1m\u001b[35m\n",
      "A STITLE (4)\u001b[0m\u001b[0m\n"
     ]
    }
   ],
   "source": [
    "from pepper.debug import tl\n",
    "\n",
    "for verbosity in range(1, 5):\n",
    "    tl(verbosity, f\"A stitle ({verbosity})\")"
   ]
  },
  {
   "cell_type": "markdown",
   "metadata": {},
   "source": [
    "# **`stl`**`(verbosity, subtitle)`"
   ]
  },
  {
   "cell_type": "code",
   "execution_count": 13,
   "metadata": {},
   "outputs": [
    {
     "data": {
      "text/plain": [
       "'A subtitle (2)'"
      ]
     },
     "metadata": {},
     "output_type": "display_data"
    },
    {
     "name": "stdout",
     "output_type": "stream",
     "text": [
      "\u001b[3m\u001b[32m\n",
      "A subtitle (3)\u001b[0m\u001b[0m\n",
      "\u001b[1m\u001b[36m\n",
      "A subtitle (4)\u001b[0m\u001b[0m\n"
     ]
    }
   ],
   "source": [
    "from pepper.debug import stl\n",
    "\n",
    "for verbosity in range(1, 5):\n",
    "    stl(verbosity, f\"A subtitle ({verbosity})\")"
   ]
  },
  {
   "cell_type": "markdown",
   "metadata": {},
   "source": [
    "# **`sstl`**`(verbosity, subsubtitle)`"
   ]
  },
  {
   "cell_type": "code",
   "execution_count": 12,
   "metadata": {},
   "outputs": [
    {
     "data": {
      "text/plain": [
       "'A subsubtitle (3)'"
      ]
     },
     "metadata": {},
     "output_type": "display_data"
    },
    {
     "name": "stdout",
     "output_type": "stream",
     "text": [
      "\u001b[3m\u001b[32m\n",
      "A subsubtitle (4)\u001b[0m\u001b[0m\n"
     ]
    }
   ],
   "source": [
    "from pepper.debug import sstl\n",
    "\n",
    "for verbosity in range(1, 5):\n",
    "    sstl(verbosity, f\"A subsubtitle ({verbosity})\")"
   ]
  },
  {
   "cell_type": "markdown",
   "metadata": {},
   "source": [
    "# **`this_f_name`**`()`"
   ]
  },
  {
   "cell_type": "code",
   "execution_count": 1,
   "metadata": {},
   "outputs": [
    {
     "data": {
      "text/plain": [
       "'i_know_my_name'"
      ]
     },
     "execution_count": 1,
     "metadata": {},
     "output_type": "execute_result"
    }
   ],
   "source": [
    "from pepper.debug import this_f_name\n",
    "\n",
    "def i_know_my_name():\n",
    "    return this_f_name()\n",
    "\n",
    "i_know_my_name()"
   ]
  }
 ],
 "metadata": {
  "kernelspec": {
   "display_name": "Python 3",
   "language": "python",
   "name": "python3"
  },
  "language_info": {
   "codemirror_mode": {
    "name": "ipython",
    "version": 3
   },
   "file_extension": ".py",
   "mimetype": "text/x-python",
   "name": "python",
   "nbconvert_exporter": "python",
   "pygments_lexer": "ipython3",
   "version": "3.11.1"
  },
  "orig_nbformat": 4
 },
 "nbformat": 4,
 "nbformat_minor": 2
}
