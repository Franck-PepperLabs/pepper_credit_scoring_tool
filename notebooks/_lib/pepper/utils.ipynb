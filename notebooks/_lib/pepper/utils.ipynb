{
 "cells": [
  {
   "cell_type": "markdown",
   "metadata": {},
   "source": [
    "# **Module `pepper.utils`**"
   ]
  },
  {
   "cell_type": "markdown",
   "metadata": {},
   "source": [
    "# **`get_weekdays`**`(target_locale)`"
   ]
  },
  {
   "cell_type": "markdown",
   "metadata": {},
   "source": [
    "# **pretty printing text**\n",
    "\n",
    "- **`bold`**`(s)`\n",
    "- **`italic`**`(s)`\n",
    "- **`cyan`**`(s)`\n",
    "- **`magenta`**`(s)`\n",
    "- **`red`**`(s)`\n",
    "- **`green`**`(s)`\n",
    "- **`print_title`**`(s)`\n",
    "- **`print_subtitle(`**`(s)`\n",
    "- **`print_subsubtitle`**`(s)`\n",
    "- **`display_key_val`**`(key, val)`"
   ]
  },
  {
   "cell_type": "markdown",
   "metadata": {},
   "source": [
    "# **`display_dataframe_in_markdown`**`(data, show_index)`"
   ]
  },
  {
   "cell_type": "markdown",
   "metadata": {},
   "source": [
    "# **`clean_filename`**`(filename)`"
   ]
  },
  {
   "cell_type": "markdown",
   "metadata": {},
   "source": [
    "# **`set_plot_title`**`(title)`"
   ]
  },
  {
   "cell_type": "markdown",
   "metadata": {},
   "source": [
    "# **`display_file_link`**`(filepath, desc)`"
   ]
  },
  {
   "cell_type": "markdown",
   "metadata": {},
   "source": [
    "# **`save_and_show`**`(file_name, sub_dir, file_ext, timestamp, return_filepath)`"
   ]
  },
  {
   "cell_type": "markdown",
   "metadata": {},
   "source": [
    "# **`discrete_stats`**`(data, name)`"
   ]
  },
  {
   "cell_type": "markdown",
   "metadata": {},
   "source": [
    "# **`plot_discrete_stats`**`(stats, precision, ratio)`"
   ]
  },
  {
   "cell_type": "markdown",
   "metadata": {},
   "source": [
    "# **`show_discrete_stats`**`(data, name, precision, ratio)`"
   ]
  },
  {
   "cell_type": "markdown",
   "metadata": {},
   "source": [
    "# **`create_if_not_exist`**`(dir)`"
   ]
  },
  {
   "cell_type": "markdown",
   "metadata": {},
   "source": [
    "# **`for_all`**`(f, args_vect, kwargs_vect, const_args, const_kwargs)`"
   ]
  },
  {
   "cell_type": "markdown",
   "metadata": {},
   "source": [
    "# **`format_iB`**`(n_bytes)`"
   ]
  },
  {
   "cell_type": "markdown",
   "metadata": {},
   "source": [
    "# **`print_memory_usage`**`(data)`"
   ]
  },
  {
   "cell_type": "markdown",
   "metadata": {},
   "source": [
    "# **`get_file_size`**`(file_path)`"
   ]
  },
  {
   "cell_type": "markdown",
   "metadata": {},
   "source": [
    "# **`print_file_size`**`(file_path)`"
   ]
  },
  {
   "cell_type": "markdown",
   "metadata": {},
   "source": [
    "# **`pretty_timedelta_str`**`(dt, n_significant)`"
   ]
  },
  {
   "cell_type": "markdown",
   "metadata": {},
   "source": [
    "# **`print_time_perf`**`(what, where, time)`"
   ]
  }
 ],
 "metadata": {
  "language_info": {
   "name": "python"
  },
  "orig_nbformat": 4
 },
 "nbformat": 4,
 "nbformat_minor": 2
}
