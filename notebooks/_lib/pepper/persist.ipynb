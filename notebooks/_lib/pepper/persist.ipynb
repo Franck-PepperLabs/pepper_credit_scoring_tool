{
 "cells": [
  {
   "cell_type": "markdown",
   "metadata": {},
   "source": [
    "# **Module `pepper.persist`**\n",
    "\n",
    "✔ Revue des **typehints** et des **docstrings**."
   ]
  },
  {
   "cell_type": "markdown",
   "metadata": {},
   "source": [
    "# **`get_filenames_glob`**`(root_dir, ext, recursive)`"
   ]
  },
  {
   "cell_type": "code",
   "execution_count": 2,
   "metadata": {},
   "outputs": [
    {
     "name": "stdout",
     "output_type": "stream",
     "text": [
      "['cache.ipynb', 'cl_utils.ipynb', 'data_dict.ipynb', 'db_utils.ipynb', 'debug.ipynb', 'deps.ipynb', 'env.ipynb', 'feat_eng.ipynb', 'gsheet_io.ipynb', 'np_utils.ipynb', 'pd_utils.ipynb', 'persist.ipynb', 'plots.ipynb', 'scoring.ipynb', 'univar.ipynb', 'utils.ipynb']\n"
     ]
    }
   ],
   "source": [
    "from pepper.persist import get_filenames_glob\n",
    "print(get_filenames_glob(\".\"))"
   ]
  },
  {
   "cell_type": "markdown",
   "metadata": {},
   "source": [
    "# **`all_to_parquet`**`(datadict, target_dir, engine, compression)`"
   ]
  },
  {
   "cell_type": "code",
   "execution_count": null,
   "metadata": {},
   "outputs": [],
   "source": [
    "from pepper.persist import all_to_parquet"
   ]
  }
 ],
 "metadata": {
  "kernelspec": {
   "display_name": "Python 3",
   "language": "python",
   "name": "python3"
  },
  "language_info": {
   "codemirror_mode": {
    "name": "ipython",
    "version": 3
   },
   "file_extension": ".py",
   "mimetype": "text/x-python",
   "name": "python",
   "nbconvert_exporter": "python",
   "pygments_lexer": "ipython3",
   "version": "3.11.1"
  },
  "orig_nbformat": 4
 },
 "nbformat": 4,
 "nbformat_minor": 2
}
