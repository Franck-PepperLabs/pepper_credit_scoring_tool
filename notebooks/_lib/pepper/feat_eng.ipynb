{
 "cells": [
  {
   "cell_type": "markdown",
   "metadata": {},
   "source": [
    "# **Module `pepper.feat_eng`**\n",
    "\n",
    "✔ Revue des **typehints** et des **docstrings**."
   ]
  },
  {
   "cell_type": "markdown",
   "metadata": {},
   "source": [
    "# **`nullify`**`(data, val)`"
   ]
  },
  {
   "cell_type": "markdown",
   "metadata": {},
   "source": [
    "# **`reduce_long_tail`**`(s, agg)`"
   ]
  },
  {
   "cell_type": "markdown",
   "metadata": {},
   "source": [
    "# **`get_na_profile`**`(data, na_symbol, nona_symbol)`"
   ]
  },
  {
   "cell_type": "markdown",
   "metadata": {},
   "source": [
    "# **`get_profile`**`(data, predicate, na_symbol, nona_symbol)`"
   ]
  },
  {
   "cell_type": "markdown",
   "metadata": {},
   "source": [
    "# **`row_rle`**`(row: pd.Series) -> np.ndarray`\n",
    "\n",
    "DEPRECATED"
   ]
  },
  {
   "cell_type": "markdown",
   "metadata": {},
   "source": [
    "# **`series_rle_reduction`**`(s: pd.Series) -> np.ndarray`"
   ]
  },
  {
   "cell_type": "markdown",
   "metadata": {},
   "source": [
    "# **`data_rle_reduction`**`(data: pd.DataFrame) -> pd.Series`"
   ]
  },
  {
   "cell_type": "markdown",
   "metadata": {},
   "source": [
    "# **`jumps_rle`**`(s: pd.Series) -> tuple`"
   ]
  },
  {
   "cell_type": "code",
   "execution_count": 1,
   "metadata": {},
   "outputs": [
    {
     "name": "stdout",
     "output_type": "stream",
     "text": [
      "((1, 5),)\n",
      "((0, 2), (1, 1), (0, 1), (1, 1))\n"
     ]
    }
   ],
   "source": [
    "from pepper.feat_eng import jumps_rle\n",
    "import pandas as pd\n",
    "\n",
    "s = pd.Series([1, 2, 3, 4, 5, 6])\n",
    "print(jumps_rle(s))\n",
    "# ((1, 5),)\n",
    "\n",
    "s = pd.Series([1, 1, 1, 2, 2, 3])\n",
    "print(jumps_rle(s))\n",
    "# ((0, 2), (1, 1), (0, 1), (1, 1))"
   ]
  }
 ],
 "metadata": {
  "kernelspec": {
   "display_name": "Python 3",
   "language": "python",
   "name": "python3"
  },
  "language_info": {
   "codemirror_mode": {
    "name": "ipython",
    "version": 3
   },
   "file_extension": ".py",
   "mimetype": "text/x-python",
   "name": "python",
   "nbconvert_exporter": "python",
   "pygments_lexer": "ipython3",
   "version": "3.11.1"
  },
  "orig_nbformat": 4
 },
 "nbformat": 4,
 "nbformat_minor": 2
}
