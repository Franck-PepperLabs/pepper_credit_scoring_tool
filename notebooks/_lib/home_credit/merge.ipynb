{
 "cells": [
  {
   "cell_type": "markdown",
   "metadata": {},
   "source": [
    "# **Module `home_credit.merge`**\n",
    "\n",
    "✔ Revue des **typehints** et des **docstrings**.\n",
    "\n",
    "This module provides a set of functions for merging and aggregating Home Credit data tables.\n",
    "It enables the creation of consolidated datasets based on different criteria, including SK_ID_CURR,\n",
    "MONTHS_BALANCE, and NUM_INSTALMENT_NUMBER. The module offers flexibility in defining aggregation\n",
    "methods and supports the inclusion or exclusion of unique rows in the aggregated data.\n",
    "\n",
    "Functions:\n",
    "- `map_bur_to_curr(sk_id_bur: pd.Series) -> pd.Series`:\n",
    "- `currentize(sk_id_bur: pd.Series) -> pd.Series`:\n",
    "    - Map `SK_ID_BUREAU` values to their corresponding `SK_ID_CURR` values,\n",
    "    currentizing the bureau table.\n",
    "- `map_curr_to_target(sk_id_curr: pd.Series) -> pd.Series:`\n",
    "- `targetize(sk_id_curr: pd.Series) -> pd.Series`:\n",
    "    - Map `SK_ID_CURR` values to their corresponding `TARGET` values in the main table.\n",
    "- `get_unique_and_multi_index(table_name: str, prev_sk: str, curr_sk: str) -> Tuple[pd.DataFrame, pd.DataFrame, pd.DataFrame, pd.DataFrame]`:\n",
    "    - Return four dataframes containing unique `SK_ID_PREV` and `SK_ID_CURR`\n",
    "    combinations, split between those that appear only once and those that\n",
    "    appear multiple times in the original data.\n",
    "- `curr_prev_uniqueness_report(unique_prev_idx: pd.DataFrame, multi_prev_idx: pd.DataFrame, unique_curr_idx: pd.DataFrame, multi_curr_idx: pd.DataFrame) -> None`:\n",
    "    - Display a report on the uniqueness of `SK_ID_CURR` and `SK_ID_PREV` in the data.\n",
    "- `ip_months_balance_builder(data: pd.DataFrame) -> pd.Series`:\n",
    "    - Build the `MONTHS_BALANCE` column based on the provided data.\n",
    "- `_combine_grouped_data(data_uniques, grouped_multis, pivot_col)`:\n",
    "    - Combine grouped dataframes of unique and multi-PREV rows based on a specified pivot column.\n",
    "- `_groupby_curr_pivot(table_name: str, pivot_col: str, months_balance_builder: callable = None, agg_dict: dict = None, include_uniques: bool = False) -> pd.DataFrame`:\n",
    "    - Group rows by a combination of `SK_ID_CURR` and the specified pivot column\n",
    "    and aggregate data based on the provided table.\n",
    "- `groupby_curr_months(table_name: str, months_balance_builder: callable = None, agg_dict: dict = None, include_uniques: bool = False) -> pd.DataFrame`:\n",
    "    - Group rows by a combination of `SK_ID_CURR` and `MONTHS_BALANCE`\n",
    "    and aggregate data based on the provided table.\n",
    "- `groupby_curr_num(table_name: str, months_balance_builder: callable = None, agg_dict: dict = None, include_uniques: bool = False) -> pd.DataFrame`:\n",
    "    - Group rows by a combination of `SK_ID_CURR` and `NUM_INSTALMENT_NUMBER`\n",
    "    and aggregate data based on the provided table.\n",
    "\n",
    "This module simplifies the process of merging and aggregating Home Credit data\n",
    "for analysis, providing flexibility and options for creating consolidated\n",
    "datasets for various analytical needs."
   ]
  },
  {
   "cell_type": "markdown",
   "metadata": {},
   "source": [
    "# **`map_bur_to_curr`**`(sk_id_bur)`"
   ]
  },
  {
   "cell_type": "code",
   "execution_count": null,
   "metadata": {},
   "outputs": [
    {
     "name": "stdout",
     "output_type": "stream",
     "text": [
      "load C:/Users/franc/Projects/pepper_credit_scoring_tool\\dataset\\pqt\\bureau_balance.pqt\n",
      "load C:/Users/franc/Projects/pepper_credit_scoring_tool\\dataset\\pqt\\bureau.pqt\n"
     ]
    },
    {
     "data": {
      "text/plain": [
       "0           380361\n",
       "1           380361\n",
       "2           380361\n",
       "3           380361\n",
       "4           380361\n",
       "             ...  \n",
       "27299920    101874\n",
       "27299921    101874\n",
       "27299922    101874\n",
       "27299923    101874\n",
       "27299924    101874\n",
       "Name: SK_ID_BUREAU, Length: 27299925, dtype: object"
      ]
     },
     "metadata": {},
     "output_type": "display_data"
    }
   ],
   "source": [
    "from home_credit.load import get_table\n",
    "from home_credit.merge import map_bur_to_curr\n",
    "data = get_table(\"bureau_balance\").copy()\n",
    "display(map_bur_to_curr(data.SK_ID_BUREAU))"
   ]
  },
  {
   "cell_type": "markdown",
   "metadata": {},
   "source": [
    "# **`currentize`**`(data)`\n",
    "\n",
    "Utilisations :\n",
    "- **`ea_bureau_balance.ipynb`** : distribution par rapport à la cible\n",
    "\n",
    "C'est juste un préalable nécessaire : pour targetiser, il faut d'abord currentiser : correspondances composées."
   ]
  },
  {
   "cell_type": "code",
   "execution_count": null,
   "metadata": {},
   "outputs": [
    {
     "data": {
      "text/html": [
       "<div>\n",
       "<style scoped>\n",
       "    .dataframe tbody tr th:only-of-type {\n",
       "        vertical-align: middle;\n",
       "    }\n",
       "\n",
       "    .dataframe tbody tr th {\n",
       "        vertical-align: top;\n",
       "    }\n",
       "\n",
       "    .dataframe thead th {\n",
       "        text-align: right;\n",
       "    }\n",
       "</style>\n",
       "<table border=\"1\" class=\"dataframe\">\n",
       "  <thead>\n",
       "    <tr style=\"text-align: right;\">\n",
       "      <th>RAW_BUREAU_BALANCE</th>\n",
       "      <th>SK_ID_CURR</th>\n",
       "      <th>SK_ID_BUREAU</th>\n",
       "      <th>MONTHS_BALANCE</th>\n",
       "      <th>STATUS</th>\n",
       "    </tr>\n",
       "  </thead>\n",
       "  <tbody>\n",
       "    <tr>\n",
       "      <th>0</th>\n",
       "      <td>380361</td>\n",
       "      <td>5715448</td>\n",
       "      <td>0</td>\n",
       "      <td>C</td>\n",
       "    </tr>\n",
       "    <tr>\n",
       "      <th>1</th>\n",
       "      <td>380361</td>\n",
       "      <td>5715448</td>\n",
       "      <td>-1</td>\n",
       "      <td>C</td>\n",
       "    </tr>\n",
       "    <tr>\n",
       "      <th>2</th>\n",
       "      <td>380361</td>\n",
       "      <td>5715448</td>\n",
       "      <td>-2</td>\n",
       "      <td>C</td>\n",
       "    </tr>\n",
       "    <tr>\n",
       "      <th>3</th>\n",
       "      <td>380361</td>\n",
       "      <td>5715448</td>\n",
       "      <td>-3</td>\n",
       "      <td>C</td>\n",
       "    </tr>\n",
       "    <tr>\n",
       "      <th>4</th>\n",
       "      <td>380361</td>\n",
       "      <td>5715448</td>\n",
       "      <td>-4</td>\n",
       "      <td>C</td>\n",
       "    </tr>\n",
       "    <tr>\n",
       "      <th>...</th>\n",
       "      <td>...</td>\n",
       "      <td>...</td>\n",
       "      <td>...</td>\n",
       "      <td>...</td>\n",
       "    </tr>\n",
       "    <tr>\n",
       "      <th>27299920</th>\n",
       "      <td>101874</td>\n",
       "      <td>5041336</td>\n",
       "      <td>-47</td>\n",
       "      <td>X</td>\n",
       "    </tr>\n",
       "    <tr>\n",
       "      <th>27299921</th>\n",
       "      <td>101874</td>\n",
       "      <td>5041336</td>\n",
       "      <td>-48</td>\n",
       "      <td>X</td>\n",
       "    </tr>\n",
       "    <tr>\n",
       "      <th>27299922</th>\n",
       "      <td>101874</td>\n",
       "      <td>5041336</td>\n",
       "      <td>-49</td>\n",
       "      <td>X</td>\n",
       "    </tr>\n",
       "    <tr>\n",
       "      <th>27299923</th>\n",
       "      <td>101874</td>\n",
       "      <td>5041336</td>\n",
       "      <td>-50</td>\n",
       "      <td>X</td>\n",
       "    </tr>\n",
       "    <tr>\n",
       "      <th>27299924</th>\n",
       "      <td>101874</td>\n",
       "      <td>5041336</td>\n",
       "      <td>-51</td>\n",
       "      <td>X</td>\n",
       "    </tr>\n",
       "  </tbody>\n",
       "</table>\n",
       "<p>27299925 rows × 4 columns</p>\n",
       "</div>"
      ],
      "text/plain": [
       "RAW_BUREAU_BALANCE SK_ID_CURR  SK_ID_BUREAU  MONTHS_BALANCE STATUS\n",
       "0                      380361       5715448               0      C\n",
       "1                      380361       5715448              -1      C\n",
       "2                      380361       5715448              -2      C\n",
       "3                      380361       5715448              -3      C\n",
       "4                      380361       5715448              -4      C\n",
       "...                       ...           ...             ...    ...\n",
       "27299920               101874       5041336             -47      X\n",
       "27299921               101874       5041336             -48      X\n",
       "27299922               101874       5041336             -49      X\n",
       "27299923               101874       5041336             -50      X\n",
       "27299924               101874       5041336             -51      X\n",
       "\n",
       "[27299925 rows x 4 columns]"
      ]
     },
     "metadata": {},
     "output_type": "display_data"
    }
   ],
   "source": [
    "from home_credit.load import get_table\n",
    "from home_credit.merge import currentize\n",
    "data = get_table(\"bureau_balance\").copy()\n",
    "currentize(data)\n",
    "display(data)"
   ]
  },
  {
   "cell_type": "markdown",
   "metadata": {},
   "source": [
    "# **`map_curr_to_target`**`(sk_id_curr)`"
   ]
  },
  {
   "cell_type": "code",
   "execution_count": 6,
   "metadata": {},
   "outputs": [
    {
     "data": {
      "text/plain": [
       "0          0\n",
       "1          0\n",
       "2          0\n",
       "3          0\n",
       "4          0\n",
       "          ..\n",
       "1716423    1\n",
       "1716424    0\n",
       "1716425    0\n",
       "1716426    0\n",
       "1716427    0\n",
       "Name: SK_ID_CURR, Length: 1716428, dtype: int64"
      ]
     },
     "metadata": {},
     "output_type": "display_data"
    }
   ],
   "source": [
    "from home_credit.load import get_table\n",
    "from home_credit.merge import map_curr_to_target\n",
    "data = get_table(\"bureau\").copy()\n",
    "display(map_curr_to_target(data.SK_ID_CURR))"
   ]
  },
  {
   "cell_type": "markdown",
   "metadata": {},
   "source": [
    "# **`targetize`**`(data)`\n",
    "\n",
    "Où ?\n",
    "- `ea_bureau_balance.ipynb` : distribution par rapport à la cible\n",
    "- `ea_bureau.ipynb` : distribution par rapport à la cible\n",
    "- `ea_previous_application.ipynb` : corrélation avec la cible\n",
    "- `nb_macros.py` : dans `get_labeled_datablock`, version complémentaire de l'utilitaire `get_datablock` qui assure que tout jeu de variables, de quelque table que ce soit, puissent être obtenues associées à leur label de classe.\n",
    "\n",
    "Mais c'est surtout là que c'est complètement décrit : `ea_bureau_balance.ipynb` > Adjonction de `TARGET` à chacune des tables périphériques. **Note** Il y a une fonctions supplémentaires non mises en lib : `adj_target_and_report(table_name)` qui est une macro pour les notebooks. En revanche, une petite fonction `adj_target` de deux lignes serait bien utile pour le confort d'utilisation.\n",
    "\n",
    "On la trouve aussi dans `_benchmark.py` car c'est typiquement une fonction critique que j'ai cherché à optimiser et pour laquelle j'ai mis plusieurs implémentations alternatives en compétition."
   ]
  },
  {
   "cell_type": "code",
   "execution_count": 1,
   "metadata": {},
   "outputs": [
    {
     "name": "stdout",
     "output_type": "stream",
     "text": [
      "load C:/Users/franc/Projects/pepper_credit_scoring_tool\\dataset\\pqt\\bureau_balance.pqt\n",
      "load C:/Users/franc/Projects/pepper_credit_scoring_tool\\dataset\\pqt\\bureau.pqt\n",
      "load C:/Users/franc/Projects/pepper_credit_scoring_tool\\dataset\\pqt\\application_train.pqt\n",
      "load C:/Users/franc/Projects/pepper_credit_scoring_tool\\dataset\\pqt\\application_test.pqt\n"
     ]
    },
    {
     "data": {
      "text/html": [
       "<div>\n",
       "<style scoped>\n",
       "    .dataframe tbody tr th:only-of-type {\n",
       "        vertical-align: middle;\n",
       "    }\n",
       "\n",
       "    .dataframe tbody tr th {\n",
       "        vertical-align: top;\n",
       "    }\n",
       "\n",
       "    .dataframe thead th {\n",
       "        text-align: right;\n",
       "    }\n",
       "</style>\n",
       "<table border=\"1\" class=\"dataframe\">\n",
       "  <thead>\n",
       "    <tr style=\"text-align: right;\">\n",
       "      <th>RAW_BUREAU_BALANCE</th>\n",
       "      <th>TARGET</th>\n",
       "      <th>SK_ID_CURR</th>\n",
       "      <th>SK_ID_BUREAU</th>\n",
       "      <th>MONTHS_BALANCE</th>\n",
       "      <th>STATUS</th>\n",
       "    </tr>\n",
       "  </thead>\n",
       "  <tbody>\n",
       "    <tr>\n",
       "      <th>0</th>\n",
       "      <td>0</td>\n",
       "      <td>380361</td>\n",
       "      <td>5715448</td>\n",
       "      <td>0</td>\n",
       "      <td>C</td>\n",
       "    </tr>\n",
       "    <tr>\n",
       "      <th>1</th>\n",
       "      <td>0</td>\n",
       "      <td>380361</td>\n",
       "      <td>5715448</td>\n",
       "      <td>-1</td>\n",
       "      <td>C</td>\n",
       "    </tr>\n",
       "    <tr>\n",
       "      <th>2</th>\n",
       "      <td>0</td>\n",
       "      <td>380361</td>\n",
       "      <td>5715448</td>\n",
       "      <td>-2</td>\n",
       "      <td>C</td>\n",
       "    </tr>\n",
       "    <tr>\n",
       "      <th>3</th>\n",
       "      <td>0</td>\n",
       "      <td>380361</td>\n",
       "      <td>5715448</td>\n",
       "      <td>-3</td>\n",
       "      <td>C</td>\n",
       "    </tr>\n",
       "    <tr>\n",
       "      <th>4</th>\n",
       "      <td>0</td>\n",
       "      <td>380361</td>\n",
       "      <td>5715448</td>\n",
       "      <td>-4</td>\n",
       "      <td>C</td>\n",
       "    </tr>\n",
       "    <tr>\n",
       "      <th>...</th>\n",
       "      <td>...</td>\n",
       "      <td>...</td>\n",
       "      <td>...</td>\n",
       "      <td>...</td>\n",
       "      <td>...</td>\n",
       "    </tr>\n",
       "    <tr>\n",
       "      <th>27299920</th>\n",
       "      <td>1</td>\n",
       "      <td>101874</td>\n",
       "      <td>5041336</td>\n",
       "      <td>-47</td>\n",
       "      <td>X</td>\n",
       "    </tr>\n",
       "    <tr>\n",
       "      <th>27299921</th>\n",
       "      <td>1</td>\n",
       "      <td>101874</td>\n",
       "      <td>5041336</td>\n",
       "      <td>-48</td>\n",
       "      <td>X</td>\n",
       "    </tr>\n",
       "    <tr>\n",
       "      <th>27299922</th>\n",
       "      <td>1</td>\n",
       "      <td>101874</td>\n",
       "      <td>5041336</td>\n",
       "      <td>-49</td>\n",
       "      <td>X</td>\n",
       "    </tr>\n",
       "    <tr>\n",
       "      <th>27299923</th>\n",
       "      <td>1</td>\n",
       "      <td>101874</td>\n",
       "      <td>5041336</td>\n",
       "      <td>-50</td>\n",
       "      <td>X</td>\n",
       "    </tr>\n",
       "    <tr>\n",
       "      <th>27299924</th>\n",
       "      <td>1</td>\n",
       "      <td>101874</td>\n",
       "      <td>5041336</td>\n",
       "      <td>-51</td>\n",
       "      <td>X</td>\n",
       "    </tr>\n",
       "  </tbody>\n",
       "</table>\n",
       "<p>27299925 rows × 5 columns</p>\n",
       "</div>"
      ],
      "text/plain": [
       "RAW_BUREAU_BALANCE TARGET SK_ID_CURR  SK_ID_BUREAU  MONTHS_BALANCE STATUS\n",
       "0                       0     380361       5715448               0      C\n",
       "1                       0     380361       5715448              -1      C\n",
       "2                       0     380361       5715448              -2      C\n",
       "3                       0     380361       5715448              -3      C\n",
       "4                       0     380361       5715448              -4      C\n",
       "...                   ...        ...           ...             ...    ...\n",
       "27299920                1     101874       5041336             -47      X\n",
       "27299921                1     101874       5041336             -48      X\n",
       "27299922                1     101874       5041336             -49      X\n",
       "27299923                1     101874       5041336             -50      X\n",
       "27299924                1     101874       5041336             -51      X\n",
       "\n",
       "[27299925 rows x 5 columns]"
      ]
     },
     "metadata": {},
     "output_type": "display_data"
    }
   ],
   "source": [
    "from home_credit.load import get_table\n",
    "from home_credit.merge import currentize, targetize\n",
    "data = get_table(\"bureau_balance\").copy()\n",
    "currentize(data)\n",
    "targetize(data)\n",
    "display(data)"
   ]
  },
  {
   "cell_type": "markdown",
   "metadata": {},
   "source": [
    "# **`_get_unique_and_multi_index`**`(table, subs_sk, main_sk)`"
   ]
  },
  {
   "cell_type": "markdown",
   "metadata": {},
   "source": [
    "# **`get_unique_and_multi_index`**`(table_name, prev_sk, curr_sk)`"
   ]
  },
  {
   "cell_type": "markdown",
   "metadata": {},
   "source": [
    "# **`curr_prev_uniqueness_report`**`(unique_prev_idx, multi_prev_idx, unique_curr_idx, multi_curr_idx)`"
   ]
  },
  {
   "cell_type": "markdown",
   "metadata": {},
   "source": [
    "# **`_groupby_curr_pivot`**`(table_name, pivot_col, months_balance_builder, agg_dict, include_uniques)`\n"
   ]
  },
  {
   "cell_type": "markdown",
   "metadata": {},
   "source": [
    "# **`groupby_curr_months`**`(table_name, months_balance_builder, agg_dict, include_uniques)`"
   ]
  },
  {
   "cell_type": "markdown",
   "metadata": {},
   "source": [
    "# **`groupby_curr_num`**`(table_name, months_balance_builder, agg_dict, include_uniques)`"
   ]
  }
 ],
 "metadata": {
  "kernelspec": {
   "display_name": "Python 3",
   "language": "python",
   "name": "python3"
  },
  "language_info": {
   "codemirror_mode": {
    "name": "ipython",
    "version": 3
   },
   "file_extension": ".py",
   "mimetype": "text/x-python",
   "name": "python",
   "nbconvert_exporter": "python",
   "pygments_lexer": "ipython3",
   "version": "3.11.1"
  },
  "orig_nbformat": 4
 },
 "nbformat": 4,
 "nbformat_minor": 2
}
