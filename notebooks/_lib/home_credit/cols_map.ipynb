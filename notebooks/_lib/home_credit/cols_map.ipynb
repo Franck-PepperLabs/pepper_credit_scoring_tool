{
 "cells": [
  {
   "cell_type": "markdown",
   "metadata": {},
   "source": [
    "# **Module `home_credit.cols_map`**"
   ]
  },
  {
   "cell_type": "markdown",
   "metadata": {},
   "source": [
    "# **`_load_config_from_json`**`(file_path)`"
   ]
  },
  {
   "cell_type": "code",
   "execution_count": 1,
   "metadata": {},
   "outputs": [
    {
     "name": "stdout",
     "output_type": "stream",
     "text": [
      "{'mappings': {'credit_card_balance': {'TARGET': ['ID', 'TGT', ''], 'SK_ID_PREV': ['ID', 'PID', ''], 'SK_ID_CURR': ['ID', 'CID', ''], 'MONTHS_BALANCE': ['ID', 'M°', ''], 'AMT_CREDIT_LIMIT_ACTUAL': ['MAX', '', 'AMT'], 'AMT_BALANCE': ['BAL', '', 'AMT'], 'AMT_DRAWINGS_CURRENT': ['DRW', 'TOT', 'AMT'], 'AMT_DRAWINGS_ATM_CURRENT': ['DRW', 'ATM', 'AMT'], 'AMT_DRAWINGS_POS_CURRENT': ['DRW', 'POS', 'AMT'], 'AMT_DRAWINGS_OTHER_CURRENT': ['DRW', 'OTH', 'AMT'], 'CNT_DRAWINGS_CURRENT': ['DRW', 'TOT', 'CNT'], 'CNT_DRAWINGS_ATM_CURRENT': ['DRW', 'ATM', 'CNT'], 'CNT_DRAWINGS_POS_CURRENT': ['DRW', 'POS', 'CNT'], 'CNT_DRAWINGS_OTHER_CURRENT': ['DRW', 'OTH', 'CNT'], 'AMT_PAYMENT_CURRENT': ['PYT', '', 'AMT'], 'AMT_PAYMENT_TOTAL_CURRENT': ['PYT', 'TOT', 'AMT'], 'AMT_INST_MIN_REGULARITY': ['INST', '', 'AMT'], 'CNT_INSTALMENT_MATURE_CUM': ['INST', '', 'CNT'], 'AMT_RECEIVABLE_PRINCIPAL': ['RCV', '', 'AMT'], 'AMT_TOTAL_RECEIVABLE': ['RCV', 'TOT', 'AMT'], 'NAME_CONTRACT_STATUS': ['STATUS', '', ''], 'SK_DPD': ['DPD', '', ''], 'SK_DPD_DEF': ['DPD', 'DEF', '']}}, 'groups': {'credit_card_balance': {'key': ['TARGET', 'SK_ID_PREV', 'SK_ID_CURR', 'MONTHS_BALANCE'], 'credit_limit': ['AMT_CREDIT_LIMIT_ACTUAL'], 'balance': ['AMT_BALANCE'], 'drawings_amt': ['AMT_DRAWINGS_CURRENT', 'AMT_DRAWINGS_ATM_CURRENT', 'AMT_DRAWINGS_POS_CURRENT', 'AMT_DRAWINGS_OTHER_CURRENT'], 'drawings_cnt': ['CNT_DRAWINGS_CURRENT', 'CNT_DRAWINGS_ATM_CURRENT', 'CNT_DRAWINGS_POS_CURRENT', 'CNT_DRAWINGS_OTHER_CURRENT'], 'payment': ['AMT_PAYMENT_CURRENT', 'AMT_PAYMENT_TOTAL_CURRENT'], 'installment': ['AMT_INST_MIN_REGULARITY', 'CNT_INSTALMENT_MATURE_CUM'], 'receivable': ['AMT_RECEIVABLE_PRINCIPAL', 'AMT_TOTAL_RECEIVABLE'], 'status': ['NAME_CONTRACT_STATUS'], 'dpd': ['SK_DPD', 'SK_DPD_DEF'], 'balancing': ['balance', 'AMT_DRAWINGS_CURRENT', 'receivable', 'payment'], 'drawings_amt_cnt_couples': [['drawings_amt', 'drawings_cnt']], 'all': ['key', 'status', 'credit_limit', 'balance', 'drawings_amt', 'drawings_cnt', 'receivable', 'installment', 'payment', 'dpd']}}}\n"
     ]
    }
   ],
   "source": [
    "from home_credit.cols_map import _load_config_from_json\n",
    "from pepper.env import get_python_dir\n",
    "import os\n",
    "\n",
    "file_path = os.path.join(get_python_dir(), \"home_credit\", \"cols_map.json\")\n",
    "print(_load_config_from_json(file_path))"
   ]
  },
  {
   "cell_type": "markdown",
   "metadata": {},
   "source": [
    "# **`get_mappings`**`(table_name)`"
   ]
  },
  {
   "cell_type": "code",
   "execution_count": 5,
   "metadata": {},
   "outputs": [
    {
     "name": "stdout",
     "output_type": "stream",
     "text": [
      "{'TARGET': ['ID', 'TGT', ''], 'SK_ID_PREV': ['ID', 'PID', ''], 'SK_ID_CURR': ['ID', 'CID', ''], 'MONTHS_BALANCE': ['ID', 'M°', ''], 'AMT_CREDIT_LIMIT_ACTUAL': ['MAX', '', 'AMT'], 'AMT_BALANCE': ['BAL', '', 'AMT'], 'AMT_DRAWINGS_CURRENT': ['DRW', 'TOT', 'AMT'], 'AMT_DRAWINGS_ATM_CURRENT': ['DRW', 'ATM', 'AMT'], 'AMT_DRAWINGS_POS_CURRENT': ['DRW', 'POS', 'AMT'], 'AMT_DRAWINGS_OTHER_CURRENT': ['DRW', 'OTH', 'AMT'], 'CNT_DRAWINGS_CURRENT': ['DRW', 'TOT', 'CNT'], 'CNT_DRAWINGS_ATM_CURRENT': ['DRW', 'ATM', 'CNT'], 'CNT_DRAWINGS_POS_CURRENT': ['DRW', 'POS', 'CNT'], 'CNT_DRAWINGS_OTHER_CURRENT': ['DRW', 'OTH', 'CNT'], 'AMT_PAYMENT_CURRENT': ['PYT', '', 'AMT'], 'AMT_PAYMENT_TOTAL_CURRENT': ['PYT', 'TOT', 'AMT'], 'AMT_INST_MIN_REGULARITY': ['INST', '', 'AMT'], 'CNT_INSTALMENT_MATURE_CUM': ['INST', '', 'CNT'], 'AMT_RECEIVABLE_PRINCIPAL': ['RCV', '', 'AMT'], 'AMT_TOTAL_RECEIVABLE': ['RCV', 'TOT', 'AMT'], 'NAME_CONTRACT_STATUS': ['STATUS', '', ''], 'SK_DPD': ['DPD', '', ''], 'SK_DPD_DEF': ['DPD', 'DEF', '']}\n"
     ]
    }
   ],
   "source": [
    "from home_credit.cols_map import get_mappings\n",
    "\n",
    "table_name = \"credit_card_balance\"\n",
    "mappings = get_mappings(table_name)\n",
    "print(mappings)"
   ]
  },
  {
   "cell_type": "markdown",
   "metadata": {},
   "source": [
    "# **`get_groups`**`(table_name)`"
   ]
  },
  {
   "cell_type": "code",
   "execution_count": 4,
   "metadata": {},
   "outputs": [
    {
     "name": "stdout",
     "output_type": "stream",
     "text": [
      "{'key': ['TARGET', 'SK_ID_PREV', 'SK_ID_CURR', 'MONTHS_BALANCE'], 'credit_limit': ['AMT_CREDIT_LIMIT_ACTUAL'], 'balance': ['AMT_BALANCE'], 'drawings_amt': ['AMT_DRAWINGS_CURRENT', 'AMT_DRAWINGS_ATM_CURRENT', 'AMT_DRAWINGS_POS_CURRENT', 'AMT_DRAWINGS_OTHER_CURRENT'], 'drawings_cnt': ['CNT_DRAWINGS_CURRENT', 'CNT_DRAWINGS_ATM_CURRENT', 'CNT_DRAWINGS_POS_CURRENT', 'CNT_DRAWINGS_OTHER_CURRENT'], 'payment': ['AMT_PAYMENT_CURRENT', 'AMT_PAYMENT_TOTAL_CURRENT'], 'installment': ['AMT_INST_MIN_REGULARITY', 'CNT_INSTALMENT_MATURE_CUM'], 'receivable': ['AMT_RECEIVABLE_PRINCIPAL', 'AMT_TOTAL_RECEIVABLE'], 'status': ['NAME_CONTRACT_STATUS'], 'dpd': ['SK_DPD', 'SK_DPD_DEF'], 'balancing': ['balance', 'AMT_DRAWINGS_CURRENT', 'receivable', 'payment'], 'drawings_amt_cnt_couples': [['drawings_amt', 'drawings_cnt']], 'all': ['key', 'status', 'credit_limit', 'balance', 'drawings_amt', 'drawings_cnt', 'receivable', 'installment', 'payment', 'dpd']}\n"
     ]
    }
   ],
   "source": [
    "from home_credit.cols_map import get_groups\n",
    "\n",
    "table_name = \"credit_card_balance\"\n",
    "groups = get_groups(table_name)\n",
    "print(groups)"
   ]
  },
  {
   "cell_type": "markdown",
   "metadata": {},
   "source": [
    "# **`get_group`**`(table_name, group_name)`"
   ]
  },
  {
   "cell_type": "code",
   "execution_count": 7,
   "metadata": {},
   "outputs": [
    {
     "name": "stdout",
     "output_type": "stream",
     "text": [
      "['AMT_PAYMENT_CURRENT', 'AMT_PAYMENT_TOTAL_CURRENT']\n"
     ]
    }
   ],
   "source": [
    "from home_credit.cols_map import get_group\n",
    "\n",
    "table_name = \"credit_card_balance\"\n",
    "group_name = \"payment\"\n",
    "group = get_group(table_name, group_name)\n",
    "print(group)"
   ]
  },
  {
   "cell_type": "markdown",
   "metadata": {},
   "source": [
    "# **`flatten_group`**`(table_name, group)`"
   ]
  },
  {
   "cell_type": "code",
   "execution_count": 2,
   "metadata": {},
   "outputs": [
    {
     "data": {
      "text/plain": [
       "['AMT_PAYMENT_CURRENT',\n",
       " 'AMT_PAYMENT_TOTAL_CURRENT',\n",
       " 'SK_DPD',\n",
       " 'NAME_CONTRACT_STATUS',\n",
       " 'SK_DPD_DEF']"
      ]
     },
     "metadata": {},
     "output_type": "display_data"
    }
   ],
   "source": [
    "from home_credit.cols_map import flatten_group\n",
    "\n",
    "table_name = \"credit_card_balance\"\n",
    "group = [\"payment\", [\"dpd\", \"status\"]]\n",
    "flattened_group = flatten_group(table_name, group)\n",
    "display(flattened_group)\n",
    "# [\"AMT_PAYMENT_CURRENT\", \"AMT_PAYMENT_TOTAL_CURRENT\", \"SK_DPD\", \"NAME_CONTRACT_STATUS\", \"SK_DPD_DEF\"]"
   ]
  },
  {
   "cell_type": "markdown",
   "metadata": {},
   "source": [
    "# **`multiplex`**`(table_name, groups)`"
   ]
  },
  {
   "cell_type": "code",
   "execution_count": 4,
   "metadata": {},
   "outputs": [
    {
     "data": {
      "text/plain": [
       "['AMT_PAYMENT_CURRENT', 'AMT_PAYMENT_TOTAL_CURRENT']"
      ]
     },
     "metadata": {},
     "output_type": "display_data"
    },
    {
     "data": {
      "text/plain": [
       "['SK_DPD', 'SK_DPD_DEF']"
      ]
     },
     "metadata": {},
     "output_type": "display_data"
    },
    {
     "data": {
      "text/plain": [
       "['NAME_CONTRACT_STATUS']"
      ]
     },
     "metadata": {},
     "output_type": "display_data"
    },
    {
     "data": {
      "text/plain": [
       "['AMT_PAYMENT_CURRENT',\n",
       " 'SK_DPD',\n",
       " 'NAME_CONTRACT_STATUS',\n",
       " 'AMT_PAYMENT_TOTAL_CURRENT',\n",
       " 'SK_DPD_DEF']"
      ]
     },
     "execution_count": 4,
     "metadata": {},
     "output_type": "execute_result"
    }
   ],
   "source": [
    "from home_credit.cols_map import get_group, multiplex\n",
    "\n",
    "table_name = \"credit_card_balance\"\n",
    "display(get_group(table_name, \"payment\"))\n",
    "display(get_group(table_name, \"dpd\"))\n",
    "display(get_group(table_name, \"status\"))\n",
    "multiplex(table_name, [\"payment\", \"dpd\", \"status\"])"
   ]
  },
  {
   "cell_type": "code",
   "execution_count": 7,
   "metadata": {},
   "outputs": [
    {
     "data": {
      "text/plain": [
       "[['drawings_amt', 'drawings_cnt']]"
      ]
     },
     "metadata": {},
     "output_type": "display_data"
    },
    {
     "data": {
      "text/plain": [
       "['AMT_DRAWINGS_CURRENT',\n",
       " 'CNT_DRAWINGS_CURRENT',\n",
       " 'AMT_DRAWINGS_ATM_CURRENT',\n",
       " 'CNT_DRAWINGS_ATM_CURRENT',\n",
       " 'AMT_DRAWINGS_POS_CURRENT',\n",
       " 'CNT_DRAWINGS_POS_CURRENT',\n",
       " 'AMT_DRAWINGS_OTHER_CURRENT',\n",
       " 'CNT_DRAWINGS_OTHER_CURRENT']"
      ]
     },
     "metadata": {},
     "output_type": "display_data"
    }
   ],
   "source": [
    "from home_credit.cols_map import get_group, multiplex\n",
    "\n",
    "table_name = \"credit_card_balance\"\n",
    "group_name = \"drawings_amt_cnt_couples\"\n",
    "group = get_group(table_name, group_name)\n",
    "display(group)\n",
    "\n",
    "multiplexed = multiplex(table_name, group[0])\n",
    "display(multiplexed)"
   ]
  },
  {
   "cell_type": "markdown",
   "metadata": {},
   "source": [
    "# **`get_group_map`**`(table_name, group)`"
   ]
  },
  {
   "cell_type": "code",
   "execution_count": 1,
   "metadata": {},
   "outputs": [
    {
     "data": {
      "text/plain": [
       "{'TARGET': ('ID', 'TGT', ''),\n",
       " 'SK_ID_PREV': ('ID', 'PID', ''),\n",
       " 'SK_ID_CURR': ('ID', 'CID', ''),\n",
       " 'MONTHS_BALANCE': ('ID', 'M°', '')}"
      ]
     },
     "metadata": {},
     "output_type": "display_data"
    },
    {
     "data": {
      "text/plain": [
       "{'TARGET': ('ID', 'TGT', ''),\n",
       " 'SK_ID_PREV': ('ID', 'PID', ''),\n",
       " 'SK_ID_CURR': ('ID', 'CID', ''),\n",
       " 'MONTHS_BALANCE': ('ID', 'M°', '')}"
      ]
     },
     "metadata": {},
     "output_type": "display_data"
    }
   ],
   "source": [
    "from home_credit.cols_map import get_group, get_group_map, CreditCardBalanceColMap\n",
    "\n",
    "display(CreditCardBalanceColMap.get_key_cols_map())\n",
    "\n",
    "table_name = \"credit_card_balance\"\n",
    "group_name = \"key\"\n",
    "group = get_group(table_name, group_name)\n",
    "group_map = get_group_map(table_name, group)\n",
    "display(group_map)"
   ]
  },
  {
   "cell_type": "markdown",
   "metadata": {},
   "source": [
    "# **`get_cols_map`**`(table_name, group_name)`"
   ]
  },
  {
   "cell_type": "code",
   "execution_count": null,
   "metadata": {},
   "outputs": [
    {
     "data": {
      "text/plain": [
       "{'AMT_PAYMENT_CURRENT': ('PYT', '', 'AMT'),\n",
       " 'AMT_PAYMENT_TOTAL_CURRENT': ('PYT', 'TOT', 'AMT'),\n",
       " 'AMT_BALANCE': ('BAL', '', 'AMT'),\n",
       " 'AMT_DRAWINGS_CURRENT': ('DRW', 'TOT', 'AMT'),\n",
       " 'CNT_DRAWINGS_CURRENT': ('DRW', 'TOT', 'CNT'),\n",
       " 'AMT_RECEIVABLE_PRINCIPAL': ('RCV', '', 'AMT'),\n",
       " 'AMT_DRAWINGS_ATM_CURRENT': ('DRW', 'ATM', 'AMT'),\n",
       " 'CNT_DRAWINGS_ATM_CURRENT': ('DRW', 'ATM', 'CNT'),\n",
       " 'AMT_TOTAL_RECEIVABLE': ('RCV', 'TOT', 'AMT'),\n",
       " 'AMT_DRAWINGS_POS_CURRENT': ('DRW', 'POS', 'AMT'),\n",
       " 'CNT_DRAWINGS_POS_CURRENT': ('DRW', 'POS', 'CNT'),\n",
       " 'AMT_DRAWINGS_OTHER_CURRENT': ('DRW', 'OTH', 'AMT'),\n",
       " 'CNT_DRAWINGS_OTHER_CURRENT': ('DRW', 'OTH', 'CNT'),\n",
       " 'SK_DPD': ('DPD', '', ''),\n",
       " 'SK_DPD_DEF': ('DPD', 'DEF', ''),\n",
       " 'NAME_CONTRACT_STATUS': ('STATUS', '', '')}"
      ]
     },
     "metadata": {},
     "output_type": "display_data"
    }
   ],
   "source": [
    "from home_credit.cols_map import get_groups, get_cols_map\n",
    "\n",
    "table_name = \"credit_card_balance\"\n",
    "groups = get_groups(table_name)\n",
    "groups[\"test\"] = [\n",
    "    \"payment\", \"AMT_BALANCE\",\n",
    "    [\"drawings_amt\", \"drawings_cnt\", \"receivable\"],\n",
    "    \"dpd\", \"status\"\n",
    "]\n",
    "display(get_cols_map(table_name, \"test\"))"
   ]
  },
  {
   "cell_type": "markdown",
   "metadata": {},
   "source": [
    "# Non régression (cf. la v1)"
   ]
  },
  {
   "cell_type": "code",
   "execution_count": 6,
   "metadata": {},
   "outputs": [
    {
     "data": {
      "text/plain": [
       "{'AMT_BALANCE': ('BAL', '', 'AMT'),\n",
       " 'AMT_DRAWINGS_CURRENT': ('DRW', 'TOT', 'AMT'),\n",
       " 'AMT_RECEIVABLE_PRINCIPAL': ('RCV', '', 'AMT'),\n",
       " 'AMT_TOTAL_RECEIVABLE': ('RCV', 'TOT', 'AMT'),\n",
       " 'AMT_PAYMENT_CURRENT': ('PYT', '', 'AMT'),\n",
       " 'AMT_PAYMENT_TOTAL_CURRENT': ('PYT', 'TOT', 'AMT')}"
      ]
     },
     "metadata": {},
     "output_type": "display_data"
    }
   ],
   "source": [
    "# from home_credit.cols_map import CreditCardBalanceColMap\n",
    "from home_credit.cols_map import get_cols_map\n",
    "\n",
    "# display(CreditCardBalanceColMap.get_balancing_cols_map())\n",
    "display(get_cols_map(\"credit_card_balance\", \"balancing\"))"
   ]
  },
  {
   "cell_type": "code",
   "execution_count": 7,
   "metadata": {},
   "outputs": [
    {
     "data": {
      "text/plain": [
       "{'AMT_DRAWINGS_CURRENT': ('DRW', 'TOT', 'AMT'),\n",
       " 'CNT_DRAWINGS_CURRENT': ('DRW', 'TOT', 'CNT'),\n",
       " 'AMT_DRAWINGS_ATM_CURRENT': ('DRW', 'ATM', 'AMT'),\n",
       " 'CNT_DRAWINGS_ATM_CURRENT': ('DRW', 'ATM', 'CNT'),\n",
       " 'AMT_DRAWINGS_POS_CURRENT': ('DRW', 'POS', 'AMT'),\n",
       " 'CNT_DRAWINGS_POS_CURRENT': ('DRW', 'POS', 'CNT'),\n",
       " 'AMT_DRAWINGS_OTHER_CURRENT': ('DRW', 'OTH', 'AMT'),\n",
       " 'CNT_DRAWINGS_OTHER_CURRENT': ('DRW', 'OTH', 'CNT')}"
      ]
     },
     "metadata": {},
     "output_type": "display_data"
    }
   ],
   "source": [
    "# from home_credit.cols_map import CreditCardBalanceColMap\n",
    "from home_credit.cols_map import get_cols_map\n",
    "\n",
    "# display(CreditCardBalanceColMap.get_drawings_amt_cnt_couples_cols_map())\n",
    "display(get_cols_map(\"credit_card_balance\", \"drawings_amt_cnt_couples\"))"
   ]
  }
 ],
 "metadata": {
  "kernelspec": {
   "display_name": "Python 3",
   "language": "python",
   "name": "python3"
  },
  "language_info": {
   "codemirror_mode": {
    "name": "ipython",
    "version": 3
   },
   "file_extension": ".py",
   "mimetype": "text/x-python",
   "name": "python",
   "nbconvert_exporter": "python",
   "pygments_lexer": "ipython3",
   "version": "3.11.1"
  },
  "orig_nbformat": 4
 },
 "nbformat": 4,
 "nbformat_minor": 2
}
