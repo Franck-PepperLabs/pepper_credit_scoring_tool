{
 "cells": [
  {
   "cell_type": "markdown",
   "metadata": {},
   "source": [
    "# **Module `home_credit.cols_map`**"
   ]
  },
  {
   "cell_type": "markdown",
   "metadata": {},
   "source": [
    "# **`_load_config_from_json`**`(file_path)`"
   ]
  },
  {
   "cell_type": "code",
   "execution_count": 1,
   "metadata": {},
   "outputs": [
    {
     "name": "stdout",
     "output_type": "stream",
     "text": [
      "{'mappings': {'credit_card_balance': {'TARGET': ['ID', 'TGT', ''], 'SK_ID_PREV': ['ID', 'PID', ''], 'SK_ID_CURR': ['ID', 'CID', ''], 'MONTHS_BALANCE': ['ID', 'M°', ''], 'AMT_CREDIT_LIMIT_ACTUAL': ['MAX', '', 'AMT'], 'AMT_BALANCE': ['BAL', '', 'AMT'], 'AMT_DRAWINGS_CURRENT': ['DRW', 'TOT', 'AMT'], 'AMT_DRAWINGS_ATM_CURRENT': ['DRW', 'ATM', 'AMT'], 'AMT_DRAWINGS_POS_CURRENT': ['DRW', 'POS', 'AMT'], 'AMT_DRAWINGS_OTHER_CURRENT': ['DRW', 'OTH', 'AMT'], 'CNT_DRAWINGS_CURRENT': ['DRW', 'TOT', 'CNT'], 'CNT_DRAWINGS_ATM_CURRENT': ['DRW', 'ATM', 'CNT'], 'CNT_DRAWINGS_POS_CURRENT': ['DRW', 'POS', 'CNT'], 'CNT_DRAWINGS_OTHER_CURRENT': ['DRW', 'OTH', 'CNT'], 'AMT_PAYMENT_CURRENT': ['PYT', '', 'AMT'], 'AMT_PAYMENT_TOTAL_CURRENT': ['PYT', 'TOT', 'AMT'], 'AMT_INST_MIN_REGULARITY': ['INST', '', 'AMT'], 'CNT_INSTALMENT_MATURE_CUM': ['INST', '', 'CNT'], 'AMT_RECEIVABLE_PRINCIPAL': ['RCV', '', 'AMT'], 'AMT_TOTAL_RECEIVABLE': ['RCV', 'TOT', 'AMT'], 'NAME_CONTRACT_STATUS': ['STATUS', '', ''], 'SK_DPD': ['DPD', '', ''], 'SK_DPD_DEF': ['DPD', 'DEF', '']}}, 'groups': {'credit_card_balance': {'key': ['TARGET', 'SK_ID_PREV', 'SK_ID_CURR', 'MONTHS_BALANCE'], 'credit_limit': ['AMT_CREDIT_LIMIT_ACTUAL'], 'balance': ['AMT_BALANCE'], 'drawings_amt': ['AMT_DRAWINGS_CURRENT', 'AMT_DRAWINGS_ATM_CURRENT', 'AMT_DRAWINGS_POS_CURRENT', 'AMT_DRAWINGS_OTHER_CURRENT'], 'drawings_cnt': ['CNT_DRAWINGS_CURRENT', 'CNT_DRAWINGS_ATM_CURRENT', 'CNT_DRAWINGS_POS_CURRENT', 'CNT_DRAWINGS_OTHER_CURRENT'], 'payment': ['AMT_PAYMENT_CURRENT', 'AMT_PAYMENT_TOTAL_CURRENT'], 'installment': ['AMT_INST_MIN_REGULARITY', 'CNT_INSTALMENT_MATURE_CUM'], 'receivable': ['AMT_RECEIVABLE_PRINCIPAL', 'AMT_TOTAL_RECEIVABLE'], 'status': ['NAME_CONTRACT_STATUS'], 'dpd': ['SK_DPD', 'SK_DPD_DEF'], 'balancing': ['balance', 'AMT_DRAWINGS_CURRENT', 'receivable', 'payment'], 'drawings_amt_cnt_couples': [['drawings_amt', 'drawings_cnt']], 'all': ['key', 'status', 'credit_limit', 'balance', 'drawings_amt', 'drawings_cnt', 'receivable', 'installment', 'payment', 'dpd']}}}\n"
     ]
    }
   ],
   "source": [
    "from home_credit.cols_map import _load_config_from_json\n",
    "from pepper.env import get_python_dir\n",
    "import os\n",
    "\n",
    "file_path = os.path.join(get_python_dir(), \"home_credit\", \"cols_map.json\")\n",
    "print(_load_config_from_json(file_path))"
   ]
  },
  {
   "cell_type": "markdown",
   "metadata": {},
   "source": [
    "# **`get_mappings`**`(table_name)`"
   ]
  },
  {
   "cell_type": "code",
   "execution_count": 5,
   "metadata": {},
   "outputs": [
    {
     "name": "stdout",
     "output_type": "stream",
     "text": [
      "{'TARGET': ['ID', 'TGT', ''], 'SK_ID_PREV': ['ID', 'PID', ''], 'SK_ID_CURR': ['ID', 'CID', ''], 'MONTHS_BALANCE': ['ID', 'M°', ''], 'AMT_CREDIT_LIMIT_ACTUAL': ['MAX', '', 'AMT'], 'AMT_BALANCE': ['BAL', '', 'AMT'], 'AMT_DRAWINGS_CURRENT': ['DRW', 'TOT', 'AMT'], 'AMT_DRAWINGS_ATM_CURRENT': ['DRW', 'ATM', 'AMT'], 'AMT_DRAWINGS_POS_CURRENT': ['DRW', 'POS', 'AMT'], 'AMT_DRAWINGS_OTHER_CURRENT': ['DRW', 'OTH', 'AMT'], 'CNT_DRAWINGS_CURRENT': ['DRW', 'TOT', 'CNT'], 'CNT_DRAWINGS_ATM_CURRENT': ['DRW', 'ATM', 'CNT'], 'CNT_DRAWINGS_POS_CURRENT': ['DRW', 'POS', 'CNT'], 'CNT_DRAWINGS_OTHER_CURRENT': ['DRW', 'OTH', 'CNT'], 'AMT_PAYMENT_CURRENT': ['PYT', '', 'AMT'], 'AMT_PAYMENT_TOTAL_CURRENT': ['PYT', 'TOT', 'AMT'], 'AMT_INST_MIN_REGULARITY': ['INST', '', 'AMT'], 'CNT_INSTALMENT_MATURE_CUM': ['INST', '', 'CNT'], 'AMT_RECEIVABLE_PRINCIPAL': ['RCV', '', 'AMT'], 'AMT_TOTAL_RECEIVABLE': ['RCV', 'TOT', 'AMT'], 'NAME_CONTRACT_STATUS': ['STATUS', '', ''], 'SK_DPD': ['DPD', '', ''], 'SK_DPD_DEF': ['DPD', 'DEF', '']}\n"
     ]
    }
   ],
   "source": [
    "from home_credit.cols_map import get_mappings\n",
    "\n",
    "table_name = \"credit_card_balance\"\n",
    "mappings = get_mappings(table_name)\n",
    "print(mappings)"
   ]
  },
  {
   "cell_type": "markdown",
   "metadata": {},
   "source": [
    "# **`get_groups`**`(table_name)`"
   ]
  },
  {
   "cell_type": "code",
   "execution_count": 4,
   "metadata": {},
   "outputs": [
    {
     "name": "stdout",
     "output_type": "stream",
     "text": [
      "{'key': ['TARGET', 'SK_ID_PREV', 'SK_ID_CURR', 'MONTHS_BALANCE'], 'credit_limit': ['AMT_CREDIT_LIMIT_ACTUAL'], 'balance': ['AMT_BALANCE'], 'drawings_amt': ['AMT_DRAWINGS_CURRENT', 'AMT_DRAWINGS_ATM_CURRENT', 'AMT_DRAWINGS_POS_CURRENT', 'AMT_DRAWINGS_OTHER_CURRENT'], 'drawings_cnt': ['CNT_DRAWINGS_CURRENT', 'CNT_DRAWINGS_ATM_CURRENT', 'CNT_DRAWINGS_POS_CURRENT', 'CNT_DRAWINGS_OTHER_CURRENT'], 'payment': ['AMT_PAYMENT_CURRENT', 'AMT_PAYMENT_TOTAL_CURRENT'], 'installment': ['AMT_INST_MIN_REGULARITY', 'CNT_INSTALMENT_MATURE_CUM'], 'receivable': ['AMT_RECEIVABLE_PRINCIPAL', 'AMT_TOTAL_RECEIVABLE'], 'status': ['NAME_CONTRACT_STATUS'], 'dpd': ['SK_DPD', 'SK_DPD_DEF'], 'balancing': ['balance', 'AMT_DRAWINGS_CURRENT', 'receivable', 'payment'], 'drawings_amt_cnt_couples': [['drawings_amt', 'drawings_cnt']], 'all': ['key', 'status', 'credit_limit', 'balance', 'drawings_amt', 'drawings_cnt', 'receivable', 'installment', 'payment', 'dpd']}\n"
     ]
    }
   ],
   "source": [
    "from home_credit.cols_map import get_groups\n",
    "\n",
    "table_name = \"credit_card_balance\"\n",
    "groups = get_groups(table_name)\n",
    "print(groups)"
   ]
  },
  {
   "cell_type": "markdown",
   "metadata": {},
   "source": [
    "# **`get_group`**`(table_name, group_name)`"
   ]
  },
  {
   "cell_type": "code",
   "execution_count": 7,
   "metadata": {},
   "outputs": [
    {
     "name": "stdout",
     "output_type": "stream",
     "text": [
      "['AMT_PAYMENT_CURRENT', 'AMT_PAYMENT_TOTAL_CURRENT']\n"
     ]
    }
   ],
   "source": [
    "from home_credit.cols_map import get_group\n",
    "\n",
    "table_name = \"credit_card_balance\"\n",
    "group_name = \"payment\"\n",
    "group = get_group(table_name, group_name)\n",
    "print(group)"
   ]
  },
  {
   "cell_type": "markdown",
   "metadata": {},
   "source": [
    "# **`flatten_group`**`(table_name, group)`"
   ]
  },
  {
   "cell_type": "code",
   "execution_count": 2,
   "metadata": {},
   "outputs": [
    {
     "data": {
      "text/plain": [
       "['AMT_PAYMENT_CURRENT',\n",
       " 'AMT_PAYMENT_TOTAL_CURRENT',\n",
       " 'SK_DPD',\n",
       " 'NAME_CONTRACT_STATUS',\n",
       " 'SK_DPD_DEF']"
      ]
     },
     "metadata": {},
     "output_type": "display_data"
    }
   ],
   "source": [
    "from home_credit.cols_map import flatten_group\n",
    "\n",
    "table_name = \"credit_card_balance\"\n",
    "group = [\"payment\", [\"dpd\", \"status\"]]\n",
    "flattened_group = flatten_group(table_name, group)\n",
    "display(flattened_group)\n",
    "# [\"AMT_PAYMENT_CURRENT\", \"AMT_PAYMENT_TOTAL_CURRENT\", \"SK_DPD\", \"NAME_CONTRACT_STATUS\", \"SK_DPD_DEF\"]"
   ]
  },
  {
   "cell_type": "markdown",
   "metadata": {},
   "source": [
    "# **`multiplex`**`(table_name, groups)`"
   ]
  },
  {
   "cell_type": "code",
   "execution_count": 4,
   "metadata": {},
   "outputs": [
    {
     "data": {
      "text/plain": [
       "['AMT_PAYMENT_CURRENT', 'AMT_PAYMENT_TOTAL_CURRENT']"
      ]
     },
     "metadata": {},
     "output_type": "display_data"
    },
    {
     "data": {
      "text/plain": [
       "['SK_DPD', 'SK_DPD_DEF']"
      ]
     },
     "metadata": {},
     "output_type": "display_data"
    },
    {
     "data": {
      "text/plain": [
       "['NAME_CONTRACT_STATUS']"
      ]
     },
     "metadata": {},
     "output_type": "display_data"
    },
    {
     "data": {
      "text/plain": [
       "['AMT_PAYMENT_CURRENT',\n",
       " 'SK_DPD',\n",
       " 'NAME_CONTRACT_STATUS',\n",
       " 'AMT_PAYMENT_TOTAL_CURRENT',\n",
       " 'SK_DPD_DEF']"
      ]
     },
     "execution_count": 4,
     "metadata": {},
     "output_type": "execute_result"
    }
   ],
   "source": [
    "from home_credit.cols_map import get_group, multiplex\n",
    "\n",
    "table_name = \"credit_card_balance\"\n",
    "display(get_group(table_name, \"payment\"))\n",
    "display(get_group(table_name, \"dpd\"))\n",
    "display(get_group(table_name, \"status\"))\n",
    "multiplex(table_name, [\"payment\", \"dpd\", \"status\"])"
   ]
  },
  {
   "cell_type": "code",
   "execution_count": 7,
   "metadata": {},
   "outputs": [
    {
     "data": {
      "text/plain": [
       "[['drawings_amt', 'drawings_cnt']]"
      ]
     },
     "metadata": {},
     "output_type": "display_data"
    },
    {
     "data": {
      "text/plain": [
       "['AMT_DRAWINGS_CURRENT',\n",
       " 'CNT_DRAWINGS_CURRENT',\n",
       " 'AMT_DRAWINGS_ATM_CURRENT',\n",
       " 'CNT_DRAWINGS_ATM_CURRENT',\n",
       " 'AMT_DRAWINGS_POS_CURRENT',\n",
       " 'CNT_DRAWINGS_POS_CURRENT',\n",
       " 'AMT_DRAWINGS_OTHER_CURRENT',\n",
       " 'CNT_DRAWINGS_OTHER_CURRENT']"
      ]
     },
     "metadata": {},
     "output_type": "display_data"
    }
   ],
   "source": [
    "from home_credit.cols_map import get_group, multiplex\n",
    "\n",
    "table_name = \"credit_card_balance\"\n",
    "group_name = \"drawings_amt_cnt_couples\"\n",
    "group = get_group(table_name, group_name)\n",
    "display(group)\n",
    "\n",
    "multiplexed = multiplex(table_name, group[0])\n",
    "display(multiplexed)"
   ]
  },
  {
   "cell_type": "markdown",
   "metadata": {},
   "source": [
    "# **`get_group_map`**`(table_name, group)`"
   ]
  },
  {
   "cell_type": "code",
   "execution_count": 11,
   "metadata": {},
   "outputs": [
    {
     "data": {
      "text/plain": [
       "['SK_ID_CURR', 'SK_ID_PREV', 'MONTHS_BALANCE']"
      ]
     },
     "metadata": {},
     "output_type": "display_data"
    },
    {
     "data": {
      "text/plain": [
       "{'SK_ID_CURR': ('ID', 'CID', ''),\n",
       " 'SK_ID_PREV': ('ID', 'PID', ''),\n",
       " 'MONTHS_BALANCE': ('ID', 'M°', '')}"
      ]
     },
     "metadata": {},
     "output_type": "display_data"
    }
   ],
   "source": [
    "from home_credit.cols_map import get_group, get_group_map\n",
    "\n",
    "table_name = \"credit_card_balance\"\n",
    "group_name = \"keys\"\n",
    "group = get_group(table_name, group_name)\n",
    "group_map = get_group_map(table_name, group)\n",
    "display(group)\n",
    "display(group_map)"
   ]
  },
  {
   "cell_type": "code",
   "execution_count": 10,
   "metadata": {},
   "outputs": [
    {
     "data": {
      "text/plain": [
       "['SK_ID_CURR', 'SK_ID_PREV', 'MONTHS_BALANCE']"
      ]
     },
     "metadata": {},
     "output_type": "display_data"
    },
    {
     "data": {
      "text/plain": [
       "{'SK_ID_CURR': ('ID', 'CID', ''),\n",
       " 'SK_ID_PREV': ('ID', 'PID', ''),\n",
       " 'MONTHS_BALANCE': ('ID', 'M°', '')}"
      ]
     },
     "metadata": {},
     "output_type": "display_data"
    }
   ],
   "source": [
    "from home_credit.tables import CreditCardBalance\n",
    "\n",
    "group_name = \"keys\"\n",
    "group = CreditCardBalance.cols_group(group_name)  #get_group(table_name, group_name)\n",
    "group_map = CreditCardBalance.cols_map(group_name)  #get_group_map(table_name, group)\n",
    "display(group)\n",
    "display(group_map)"
   ]
  },
  {
   "cell_type": "markdown",
   "metadata": {},
   "source": [
    "# **`get_cols_map`**`(table_name, group_name)`"
   ]
  },
  {
   "cell_type": "code",
   "execution_count": null,
   "metadata": {},
   "outputs": [
    {
     "data": {
      "text/plain": [
       "{'AMT_PAYMENT_CURRENT': ('PYT', '', 'AMT'),\n",
       " 'AMT_PAYMENT_TOTAL_CURRENT': ('PYT', 'TOT', 'AMT'),\n",
       " 'AMT_BALANCE': ('BAL', '', 'AMT'),\n",
       " 'AMT_DRAWINGS_CURRENT': ('DRW', 'TOT', 'AMT'),\n",
       " 'CNT_DRAWINGS_CURRENT': ('DRW', 'TOT', 'CNT'),\n",
       " 'AMT_RECEIVABLE_PRINCIPAL': ('RCV', '', 'AMT'),\n",
       " 'AMT_DRAWINGS_ATM_CURRENT': ('DRW', 'ATM', 'AMT'),\n",
       " 'CNT_DRAWINGS_ATM_CURRENT': ('DRW', 'ATM', 'CNT'),\n",
       " 'AMT_TOTAL_RECEIVABLE': ('RCV', 'TOT', 'AMT'),\n",
       " 'AMT_DRAWINGS_POS_CURRENT': ('DRW', 'POS', 'AMT'),\n",
       " 'CNT_DRAWINGS_POS_CURRENT': ('DRW', 'POS', 'CNT'),\n",
       " 'AMT_DRAWINGS_OTHER_CURRENT': ('DRW', 'OTH', 'AMT'),\n",
       " 'CNT_DRAWINGS_OTHER_CURRENT': ('DRW', 'OTH', 'CNT'),\n",
       " 'SK_DPD': ('DPD', '', ''),\n",
       " 'SK_DPD_DEF': ('DPD', 'DEF', ''),\n",
       " 'NAME_CONTRACT_STATUS': ('STATUS', '', '')}"
      ]
     },
     "metadata": {},
     "output_type": "display_data"
    }
   ],
   "source": [
    "from home_credit.cols_map import get_groups, get_cols_map\n",
    "\n",
    "table_name = \"credit_card_balance\"\n",
    "groups = get_groups(table_name)\n",
    "groups[\"test\"] = [\n",
    "    \"payment\", \"AMT_BALANCE\",\n",
    "    [\"drawings_amt\", \"drawings_cnt\", \"receivable\"],\n",
    "    \"dpd\", \"status\"\n",
    "]\n",
    "display(get_cols_map(table_name, \"test\"))"
   ]
  },
  {
   "cell_type": "markdown",
   "metadata": {},
   "source": [
    "# Règles cols_maps en *\n",
    "\n",
    "Il s'agit de définir un ensemble de règles de manière abstraite, tant dans la définition des mappings que des groupes de variables."
   ]
  },
  {
   "cell_type": "markdown",
   "metadata": {},
   "source": [
    "## Entrée en matière"
   ]
  },
  {
   "cell_type": "markdown",
   "metadata": {},
   "source": [
    "### Exemple\n",
    "\n",
    "```json\n",
    "{\n",
    "    \"mappings\": {\n",
    "        \"table_A\": {\n",
    "            \"VARIABLE\": [\"VAR\", \"IA\", \"BLE\"],\n",
    "            \"FLAG_DOCUMENT_{index}\": {\n",
    "                \"map\": [\"DOC\", \"{index}\", \"FLG\"],\n",
    "                \"par\": {\n",
    "                    \"index\": {\"range\": [2, 21]}\n",
    "                }\n",
    "            },\n",
    "            \"COMBINED_{a}_{b}\": {\n",
    "                \"map\": [\"COMB\", \"{a}\", \"{b}\"],\n",
    "                \"par\": {\n",
    "                    \"a\": {\"range\": [2, 21]},\n",
    "                    \"b\": [\"A\", \"SET\", \"OF\", \"STR\"]\n",
    "                }\n",
    "            },\n",
    "            \"FOOBAR\": [\"FOO\", \"BAR\"]\n",
    "        }\n",
    "    },\n",
    "    \"groups\": {\n",
    "        \"table_A\": {\n",
    "            \"simple_variables\": [\"VARIABLE\", \"FOOBAR\"],\n",
    "            \"doc_flags_inf_10\": {\n",
    "                \"var\": \"FLAG_DOCUMENT_{i}\",\n",
    "                \"par\": {\n",
    "                    \"i\": {\"range\": [2, 10]}\n",
    "                }\n",
    "            },\n",
    "            \"combined_of_str\": {\n",
    "                \"var\": \"COMBINED_{a}_{b}\",\n",
    "                \"par\": {\n",
    "                    \"a\": {\"range\": [2, 21]},\n",
    "                    \"b\": [\"OF\", \"STR\"]\n",
    "                }\n",
    "            }\n",
    "        }\n",
    "    }\n",
    "}\n",
    "```"
   ]
  },
  {
   "cell_type": "markdown",
   "metadata": {},
   "source": [
    "### Chargement"
   ]
  },
  {
   "cell_type": "code",
   "execution_count": 8,
   "metadata": {},
   "outputs": [
    {
     "data": {
      "text/plain": [
       "{'mappings': {'table_A': {'VARIABLE': ['VAR', 'IA', 'BLE'],\n",
       "   'TRIVIAL_{X}': {'val': ['{X}'], 'par': {'X': [1, 2, 3]}},\n",
       "   'FLAG_DOCUMENT_{index}': {'val': ['DOC', '{index}', 'FLG'],\n",
       "    'par': {'index': {'range': [2, 5]}}},\n",
       "   'COMBINED_{a}_{b}': {'val': ['COMB', '{a}', '{b}'],\n",
       "    'par': {'a': {'range': [2, 5]}, 'b': ['A', 'SET', 'OF', 'STR']}},\n",
       "   'FOOBAR': ['FOO', 'BAR']}},\n",
       " 'groups': {'table_A': {'simple_variables': ['VARIABLE', 'FOOBAR'],\n",
       "   'doc_flags_inf_3': {'val': 'FLAG_DOCUMENT_{i}',\n",
       "    'par': {'i': {'range': [2, 4]}}},\n",
       "   'combined_of_str': {'val': 'COMBINED_{a}_{b}',\n",
       "    'par': {'a': {'range': [2, 5]}, 'b': ['OF', 'STR']}}}}}"
      ]
     },
     "metadata": {},
     "output_type": "display_data"
    }
   ],
   "source": [
    "from home_credit.cols_map import _load_config_from_json\n",
    "\n",
    "config = _load_config_from_json(\"./adv_cols_map.json\")\n",
    "display(config)"
   ]
  },
  {
   "cell_type": "markdown",
   "metadata": {},
   "source": [
    "### Accès aux mappages et aux groupes"
   ]
  },
  {
   "cell_type": "code",
   "execution_count": 9,
   "metadata": {},
   "outputs": [
    {
     "data": {
      "text/plain": [
       "{'VARIABLE': ['VAR', 'IA', 'BLE'],\n",
       " 'TRIVIAL_{X}': {'val': ['{X}'], 'par': {'X': [1, 2, 3]}},\n",
       " 'FLAG_DOCUMENT_{index}': {'val': ['DOC', '{index}', 'FLG'],\n",
       "  'par': {'index': {'range': [2, 5]}}},\n",
       " 'COMBINED_{a}_{b}': {'val': ['COMB', '{a}', '{b}'],\n",
       "  'par': {'a': {'range': [2, 5]}, 'b': ['A', 'SET', 'OF', 'STR']}},\n",
       " 'FOOBAR': ['FOO', 'BAR']}"
      ]
     },
     "metadata": {},
     "output_type": "display_data"
    },
    {
     "data": {
      "text/plain": [
       "{'simple_variables': ['VARIABLE', 'FOOBAR'],\n",
       " 'doc_flags_inf_3': {'val': 'FLAG_DOCUMENT_{i}',\n",
       "  'par': {'i': {'range': [2, 4]}}},\n",
       " 'combined_of_str': {'val': 'COMBINED_{a}_{b}',\n",
       "  'par': {'a': {'range': [2, 5]}, 'b': ['OF', 'STR']}}}"
      ]
     },
     "metadata": {},
     "output_type": "display_data"
    }
   ],
   "source": [
    "mappings = config[\"mappings\"][\"table_A\"]\n",
    "display(mappings)\n",
    "\n",
    "groups = config[\"groups\"][\"table_A\"]\n",
    "display(groups)"
   ]
  },
  {
   "cell_type": "markdown",
   "metadata": {},
   "source": [
    "### Identification des mappages et groupes abstraits\n",
    "\n",
    "Ce sont simplement des dict au lieu de listes :"
   ]
  },
  {
   "cell_type": "code",
   "execution_count": 10,
   "metadata": {},
   "outputs": [
    {
     "data": {
      "text/plain": [
       "{'TRIVIAL_{X}': {'val': ['{X}'], 'par': {'X': [1, 2, 3]}},\n",
       " 'FLAG_DOCUMENT_{index}': {'val': ['DOC', '{index}', 'FLG'],\n",
       "  'par': {'index': {'range': [2, 5]}}},\n",
       " 'COMBINED_{a}_{b}': {'val': ['COMB', '{a}', '{b}'],\n",
       "  'par': {'a': {'range': [2, 5]}, 'b': ['A', 'SET', 'OF', 'STR']}}}"
      ]
     },
     "metadata": {},
     "output_type": "display_data"
    },
    {
     "data": {
      "text/plain": [
       "{'doc_flags_inf_3': {'val': 'FLAG_DOCUMENT_{i}',\n",
       "  'par': {'i': {'range': [2, 4]}}},\n",
       " 'combined_of_str': {'val': 'COMBINED_{a}_{b}',\n",
       "  'par': {'a': {'range': [2, 5]}, 'b': ['OF', 'STR']}}}"
      ]
     },
     "metadata": {},
     "output_type": "display_data"
    }
   ],
   "source": [
    "abstract_mappings = {k: v for k, v in mappings.items() if isinstance(v, dict)}\n",
    "display(abstract_mappings)\n",
    "\n",
    "abstract_groups = {k: v for k, v in groups.items() if isinstance(v, dict)}\n",
    "display(abstract_groups)"
   ]
  },
  {
   "cell_type": "markdown",
   "metadata": {},
   "source": [
    "### Une première version du parsing et de l'interprétation"
   ]
  },
  {
   "cell_type": "code",
   "execution_count": 5,
   "metadata": {},
   "outputs": [
    {
     "name": "stdout",
     "output_type": "stream",
     "text": [
      "key_pattern: TRIVIAL_{X}\n",
      "value_pattern: ['{X}']\n",
      "pattern_params: {'X': [1, 2, 3]}\n",
      "['TRIVIAL_1', 'TRIVIAL_2', 'TRIVIAL_3']\n",
      "key_pattern: FLAG_DOCUMENT_{index}\n",
      "value_pattern: ['DOC', '{index}', 'FLG']\n",
      "pattern_params: {'index': {'range': [2, 5]}}\n",
      "['FLAG_DOCUMENT_2', 'FLAG_DOCUMENT_3', 'FLAG_DOCUMENT_4']\n",
      "key_pattern: COMBINED_{a}_{b}\n",
      "value_pattern: ['COMB', '{a}', '{b}']\n",
      "pattern_params: {'a': {'range': [2, 5]}, 'b': ['A', 'SET', 'OF', 'STR']}\n"
     ]
    }
   ],
   "source": [
    "def concretize_defs(abstract_defs):\n",
    "    for key_pattern, pattern_def in abstract_defs.items():\n",
    "        value_pattern = pattern_def[\"val\"]\n",
    "        pattern_params = pattern_def[\"par\"]\n",
    "\n",
    "        print(f\"key_pattern: {key_pattern}\")\n",
    "        print(f\"value_pattern: {value_pattern}\")\n",
    "        print(f\"pattern_params: {pattern_params}\")\n",
    "        if len(pattern_params) == 1:\n",
    "            for param, param_def in pattern_params.items():\n",
    "                if isinstance(param_def, list):\n",
    "                    keys = [\n",
    "                        eval(f\"f'{key_pattern}'\", {param: value})\n",
    "                        for value in param_def\n",
    "                    ]\n",
    "                    print(keys)\n",
    "                elif isinstance(param_def, dict):\n",
    "                    range_params = param_def[\"range\"]\n",
    "                    keys = [\n",
    "                        eval(f\"f'{key_pattern}'\", {param: value})\n",
    "                        for value in range(*range_params)\n",
    "                    ]\n",
    "                    print(keys)\n",
    "\n",
    "concretize_defs(abstract_mappings)"
   ]
  },
  {
   "cell_type": "markdown",
   "metadata": {},
   "source": [
    "## Version aboutie"
   ]
  },
  {
   "cell_type": "code",
   "execution_count": 23,
   "metadata": {},
   "outputs": [
    {
     "name": "stdout",
     "output_type": "stream",
     "text": [
      "concretize_def(TRIVIAL_{X}, ['{X}'], {'X': [1, 2, 3]})\n",
      "concretize_def(FLAG_DOCUMENT_{index}, ['DOC', '{index}', 'FLG'], {'index': {'range': [2, 5]}})\n",
      "concretize_def(COMBINED_{a}_{b}, ['COMB', '{a}', '{b}'], {'a': {'range': [2, 5]}, 'b': ['A', 'SET', 'OF', 'STR']})\n"
     ]
    },
    {
     "data": {
      "text/plain": [
       "{'TRIVIAL_1': ['1'],\n",
       " 'TRIVIAL_2': ['2'],\n",
       " 'TRIVIAL_3': ['3'],\n",
       " 'FLAG_DOCUMENT_2': ['DOC', '2', 'FLG'],\n",
       " 'FLAG_DOCUMENT_3': ['DOC', '3', 'FLG'],\n",
       " 'FLAG_DOCUMENT_4': ['DOC', '4', 'FLG'],\n",
       " 'COMBINED_2_A': ['COMB', '2', 'A'],\n",
       " 'COMBINED_2_SET': ['COMB', '2', 'SET'],\n",
       " 'COMBINED_2_OF': ['COMB', '2', 'OF'],\n",
       " 'COMBINED_2_STR': ['COMB', '2', 'STR'],\n",
       " 'COMBINED_3_A': ['COMB', '3', 'A'],\n",
       " 'COMBINED_3_SET': ['COMB', '3', 'SET'],\n",
       " 'COMBINED_3_OF': ['COMB', '3', 'OF'],\n",
       " 'COMBINED_3_STR': ['COMB', '3', 'STR'],\n",
       " 'COMBINED_4_A': ['COMB', '4', 'A'],\n",
       " 'COMBINED_4_SET': ['COMB', '4', 'SET'],\n",
       " 'COMBINED_4_OF': ['COMB', '4', 'OF'],\n",
       " 'COMBINED_4_STR': ['COMB', '4', 'STR']}"
      ]
     },
     "metadata": {},
     "output_type": "display_data"
    }
   ],
   "source": [
    "from itertools import product\n",
    "\n",
    "def concretize_set(param_def):\n",
    "    if isinstance(param_def, list):\n",
    "        return param_def\n",
    "    elif isinstance(param_def, dict):\n",
    "        return range(*param_def[\"range\"])\n",
    "\n",
    "def format_key(key_pattern, format):\n",
    "    params_dict = dict(format)\n",
    "    formatted_key = key_pattern\n",
    "    for param, value in params_dict.items():\n",
    "        formatted_key = formatted_key.replace(f\"{{{param}}}\", f\"{value}\")\n",
    "    return formatted_key\n",
    "\n",
    "def format_value(value_pattern, format):\n",
    "    if isinstance(value_pattern, str):\n",
    "        return format_key(value_pattern, format)\n",
    "    return [\n",
    "        format_key(pat, format)\n",
    "        for pat in value_pattern\n",
    "    ]\n",
    "\n",
    "def format_keys(key_pattern, formats):\n",
    "    return [\n",
    "        format_key(key_pattern, format)\n",
    "        for format in product(*formats)\n",
    "    ]\n",
    "\n",
    "def format_values(value_pattern, formats):\n",
    "    return [\n",
    "        format_value(value_pattern, format)\n",
    "        for format in product(*formats)\n",
    "    ]\n",
    "\n",
    "def combine_params(pat_params):\n",
    "    return [\n",
    "        [(param, value) for value in concretize_set(param_def)]\n",
    "        for param, param_def in pat_params.items()\n",
    "    ]\n",
    "\n",
    "def concretize_mapping(key_pat, val_pat, pat_params):\n",
    "    print(f\"concretize_def({key_pat}, {val_pat}, {pat_params})\")\n",
    "    formats = combine_params(pat_params)\n",
    "    return dict(zip(\n",
    "        format_keys(key_pat, formats),\n",
    "        format_values(val_pat, formats)\n",
    "    ))\n",
    "\n",
    "def concretize_group(val_pat, pat_params):\n",
    "    print(f\"concretize_group({val_pat}, {pat_params})\")\n",
    "    formats = combine_params(pat_params)\n",
    "    return format_values(val_pat, formats)\n",
    "\n",
    "\n",
    "def concretize_mappings(abstract_defs):\n",
    "    concrete_defs = {}\n",
    "    for key_pat, pat_def in abstract_defs.items():\n",
    "        pat_params = pat_def[\"par\"]\n",
    "        val_pat = pat_def[\"val\"]\n",
    "        concrete_defs |= concretize_mapping(key_pat, val_pat, pat_params)\n",
    "    return concrete_defs\n",
    "\n",
    "display(concretize_mappings(abstract_mappings))"
   ]
  },
  {
   "cell_type": "markdown",
   "metadata": {},
   "source": [
    "## Version intégrée\n",
    "\n",
    "**TODO** Il faudra une itération supplémentaire pour l'incorporation en production.\n",
    "\n",
    "**TODO** Notamment écrire les typehints et les docstrings, faire des tests unitaires."
   ]
  },
  {
   "cell_type": "markdown",
   "metadata": {},
   "source": [
    "## Où intégrer ?\n",
    "\n",
    "D'abord, où insérer ce code ?\n",
    "\n",
    "`get_cols_map` $\\to$ `flatten_group` $\\circ$ `get_group`\n",
    "\n",
    "`flatten_group` travaille récursivement en duo avec `multiplex`.\n",
    "\n",
    "`flatten_group` réalise le parcours de l'arbre de dépendance des définitions jusqu'à obtenir l'ensemble des axiomes, c'est-à-dire le sous-ensemble des variables de `mappings` de la table considérée qui composent le groupe donné en entrée.\n",
    "\n",
    "Pour y parvenir, `flatten_group` se réfère par `get_groups` et `get_mappings` aux deux ensembles qui définissent complètement la table considérée.\n",
    "\n",
    "C'est donc à ce niveau que doit s'opérer le branchement : `get_groups` et `get_mappings`, et même plus primitivement, en amont, sachant que les deux fonctions extraient directement de la variable globale `_cols_map_config`, au moment du chargement de cette variable à partir du fichier, donc dans la fonction `_load_config_from_json`.\n",
    "\n",
    "Le travail est effectué par les deux nouvelles fonctions `concretize_abstract_groups` et `concretize_abstract_mappings`.\n",
    "\n",
    "Approche prudente :\n",
    "1. on crée `_load_config_from_json_adv` qui incorpore la nouvelle fonctionnalité.\n",
    "2. on duplique le fichier `cols_map.json` actuel en un `cols_map_adv.json` et on y insère des définitions abstraites.\n",
    "3. on déroute le chargement sur `cols_map_tmp.json`, et on teste toute la chaîne."
   ]
  },
  {
   "cell_type": "code",
   "execution_count": 1,
   "metadata": {},
   "outputs": [
    {
     "name": "stdout",
     "output_type": "stream",
     "text": [
      "concretize_group({A}_{N}_CNT_SOCIAL_CIRCLE, {'A': ['OBS', 'DEF'], 'N': [30, 60]})\n",
      "concretize_group(FLAG_DOCUMENT_{i}, {'i': {'range': [2, 22]}})\n",
      "concretize_group(AMT_REQ_CREDIT_BUREAU_{period}, {'period': ['HOUR', 'DAY', 'WEEK', 'MON', 'QRT', 'YEAR']})\n"
     ]
    },
    {
     "data": {
      "text/plain": [
       "['CIRC_30', 'OBS', 'CNT']"
      ]
     },
     "metadata": {},
     "output_type": "display_data"
    },
    {
     "data": {
      "text/plain": [
       "['DOC', '17', 'FLG']"
      ]
     },
     "metadata": {},
     "output_type": "display_data"
    },
    {
     "data": {
      "text/plain": [
       "['FLAG_DOCUMENT_2',\n",
       " 'FLAG_DOCUMENT_3',\n",
       " 'FLAG_DOCUMENT_4',\n",
       " 'FLAG_DOCUMENT_5',\n",
       " 'FLAG_DOCUMENT_6',\n",
       " 'FLAG_DOCUMENT_7',\n",
       " 'FLAG_DOCUMENT_8',\n",
       " 'FLAG_DOCUMENT_9',\n",
       " 'FLAG_DOCUMENT_10',\n",
       " 'FLAG_DOCUMENT_11',\n",
       " 'FLAG_DOCUMENT_12',\n",
       " 'FLAG_DOCUMENT_13',\n",
       " 'FLAG_DOCUMENT_14',\n",
       " 'FLAG_DOCUMENT_15',\n",
       " 'FLAG_DOCUMENT_16',\n",
       " 'FLAG_DOCUMENT_17',\n",
       " 'FLAG_DOCUMENT_18',\n",
       " 'FLAG_DOCUMENT_19',\n",
       " 'FLAG_DOCUMENT_20',\n",
       " 'FLAG_DOCUMENT_21']"
      ]
     },
     "metadata": {},
     "output_type": "display_data"
    },
    {
     "data": {
      "text/plain": [
       "['OBS_30_CNT_SOCIAL_CIRCLE',\n",
       " 'OBS_60_CNT_SOCIAL_CIRCLE',\n",
       " 'DEF_30_CNT_SOCIAL_CIRCLE',\n",
       " 'DEF_60_CNT_SOCIAL_CIRCLE']"
      ]
     },
     "metadata": {},
     "output_type": "display_data"
    },
    {
     "data": {
      "text/plain": [
       "['AMT_REQ_CREDIT_BUREAU_HOUR',\n",
       " 'AMT_REQ_CREDIT_BUREAU_DAY',\n",
       " 'AMT_REQ_CREDIT_BUREAU_WEEK',\n",
       " 'AMT_REQ_CREDIT_BUREAU_MON',\n",
       " 'AMT_REQ_CREDIT_BUREAU_QRT',\n",
       " 'AMT_REQ_CREDIT_BUREAU_YEAR']"
      ]
     },
     "metadata": {},
     "output_type": "display_data"
    }
   ],
   "source": [
    "from home_credit.cols_map import _load_config_from_json_adv\n",
    "\n",
    "config = _load_config_from_json_adv(\"../../../python/home_credit/cols_map_adv.json\")\n",
    "\n",
    "display(config[\"mappings\"][\"application\"][\"OBS_30_CNT_SOCIAL_CIRCLE\"])\n",
    "display(config[\"mappings\"][\"application\"][\"FLAG_DOCUMENT_17\"])\n",
    "display(config[\"groups\"][\"application\"][\"doc_flags\"])\n",
    "display(config[\"groups\"][\"application\"][\"social_circle_counts\"])\n",
    "display(config[\"groups\"][\"application\"][\"credit_bureau_request_counts\"])"
   ]
  },
  {
   "cell_type": "markdown",
   "metadata": {},
   "source": [
    "## Optimisation des fonctions de base"
   ]
  },
  {
   "cell_type": "code",
   "execution_count": 1,
   "metadata": {},
   "outputs": [
    {
     "name": "stdout",
     "output_type": "stream",
     "text": [
      "par_params: {'x': ['A', 'B'], 'y': {'range': [1, 4]}}\n",
      "combined_params: [[('x', 'A'), ('x', 'B')], [('y', 1), ('y', 2), ('y', 3)]]\n",
      "[(('x', 'A'), ('y', 1)), (('x', 'A'), ('y', 2)), (('x', 'A'), ('y', 3)), (('x', 'B'), ('y', 1)), (('x', 'B'), ('y', 2)), (('x', 'B'), ('y', 3))]\n",
      "(('x', 'A'), ('y', 1)) -> {'x': 'A', 'y': 1} -> A_1\n",
      "(('x', 'A'), ('y', 2)) -> {'x': 'A', 'y': 2} -> A_2\n",
      "(('x', 'A'), ('y', 3)) -> {'x': 'A', 'y': 3} -> A_3\n",
      "(('x', 'B'), ('y', 1)) -> {'x': 'B', 'y': 1} -> B_1\n",
      "(('x', 'B'), ('y', 2)) -> {'x': 'B', 'y': 2} -> B_2\n",
      "(('x', 'B'), ('y', 3)) -> {'x': 'B', 'y': 3} -> B_3\n",
      "['A_1', 'A_2', 'A_3', 'B_1', 'B_2', 'B_3']\n"
     ]
    }
   ],
   "source": [
    "from home_credit.cols_map import combine_params, format_key, format_keys\n",
    "from itertools import product\n",
    "\n",
    "key_pat = \"{x}_{y}\"\n",
    "\n",
    "par_params = {\"x\": [\"A\", \"B\"], \"y\": {\"range\": [1, 4]}}\n",
    "print(f\"par_params: {par_params}\")\n",
    "combined_params = combine_params(par_params)\n",
    "print(f\"combined_params: {combined_params}\")\n",
    "formats = product(*combined_params)\n",
    "print(list(formats))\n",
    "for format in product(*combined_params):\n",
    "    print(f\"{format} -> {dict(format)} -> {format_key('{x}_{y}', dict(format))}\")\n",
    "print(format_keys(\"{x}_{y}\", combined_params))"
   ]
  },
  {
   "cell_type": "markdown",
   "metadata": {},
   "source": [
    "### **`format_key`**"
   ]
  },
  {
   "cell_type": "code",
   "execution_count": 2,
   "metadata": {},
   "outputs": [
    {
     "name": "stdout",
     "output_type": "stream",
     "text": [
      "A_1\n",
      "A_1\n"
     ]
    }
   ],
   "source": [
    "from home_credit.cols_map import format_key\n",
    "\n",
    "print(format_key(\"{x}_{y}\", {'x': 'A', 'y': 1}))\n",
    "# 'A_1'\n",
    "print(\"{x}_{y}\".format(**{'x': 'A', 'y': 1}))"
   ]
  },
  {
   "cell_type": "markdown",
   "metadata": {},
   "source": [
    "### **`format_keys`**"
   ]
  },
  {
   "cell_type": "code",
   "execution_count": 3,
   "metadata": {},
   "outputs": [
    {
     "data": {
      "text/plain": [
       "['A_1', 'A_2', 'A_3', 'B_1', 'B_2', 'B_3']"
      ]
     },
     "execution_count": 3,
     "metadata": {},
     "output_type": "execute_result"
    }
   ],
   "source": [
    "from home_credit.cols_map import format_keys\n",
    "\n",
    "combined_params = [[('x', 'A'), ('x', 'B')], [('y', 1), ('y', 2), ('y', 3)]]\n",
    "format_keys(\"{x}_{y}\", combined_params)\n",
    "# ['A_1', 'A_2', 'A_3', 'B_1', 'B_2', 'B_3']"
   ]
  },
  {
   "cell_type": "markdown",
   "metadata": {},
   "source": [
    "### **`format_value`**"
   ]
  },
  {
   "cell_type": "code",
   "execution_count": 4,
   "metadata": {},
   "outputs": [
    {
     "data": {
      "text/plain": [
       "'Value_A'"
      ]
     },
     "metadata": {},
     "output_type": "display_data"
    },
    {
     "data": {
      "text/plain": [
       "['Value_A', 'Number_1']"
      ]
     },
     "metadata": {},
     "output_type": "display_data"
    }
   ],
   "source": [
    "from home_credit.cols_map import format_value\n",
    "\n",
    "display(format_value(\"Value_{x}\", {'x': 'A'}))\n",
    "# 'Value_A'\n",
    "\n",
    "display(format_value([\"Value_{x}\", \"Number_{y}\"], {'x': 'A', 'y': 1}))\n",
    "# ['Value_A', 'Number_1']"
   ]
  },
  {
   "cell_type": "markdown",
   "metadata": {},
   "source": [
    "### **`format_values`**"
   ]
  },
  {
   "cell_type": "code",
   "execution_count": 5,
   "metadata": {},
   "outputs": [
    {
     "data": {
      "text/plain": [
       "['Value_A_1', 'Value_A_2', 'Value_B_1', 'Value_B_2']"
      ]
     },
     "metadata": {},
     "output_type": "display_data"
    },
    {
     "data": {
      "text/plain": [
       "[['Value_A', 'Number_1'],\n",
       " ['Value_A', 'Number_2'],\n",
       " ['Value_B', 'Number_1'],\n",
       " ['Value_B', 'Number_2']]"
      ]
     },
     "metadata": {},
     "output_type": "display_data"
    }
   ],
   "source": [
    "from home_credit.cols_map import format_values\n",
    "\n",
    "value_pattern = \"Value_{x}_{y}\"\n",
    "formats = [[('x', 'A'), ('x', 'B')], [('y', 1), ('y', 2)]]\n",
    "display(format_values(value_pattern, formats))\n",
    "# ['Value_A_1', 'Value_A_2', 'Value_B_1', 'Value_B_2']\n",
    "\n",
    "value_pattern = [\"Value_{x}\", \"Number_{y}\"]\n",
    "formats = [[('x', 'A'), ('x', 'B')], [('y', 1), ('y', 2)]]\n",
    "display(format_values(value_pattern, formats))\n",
    "# [['Value_A', 'Number_1'],\n",
    "#  ['Value_A', 'Number_2'],\n",
    "#  ['Value_B', 'Number_1'],\n",
    "#  ['Value_B', 'Number_2']]"
   ]
  },
  {
   "cell_type": "markdown",
   "metadata": {},
   "source": [
    "### **`combine_params`**"
   ]
  },
  {
   "cell_type": "code",
   "execution_count": 6,
   "metadata": {},
   "outputs": [
    {
     "data": {
      "text/plain": [
       "[[('x', 1), ('x', 2), ('x', 3)],\n",
       " [('y', 0), ('y', 1), ('y', 2), ('y', 3), ('y', 4)]]"
      ]
     },
     "execution_count": 6,
     "metadata": {},
     "output_type": "execute_result"
    }
   ],
   "source": [
    "from home_credit.cols_map import combine_params\n",
    "\n",
    "pat_params = {\"x\": [1, 2, 3], \"y\": {'range': [0, 5]}}\n",
    "combine_params(pat_params)\n",
    "# [[('x', 1), ('x', 2), ('x', 3)],\n",
    "#  [('y', 0), ('y', 1), ('y', 2), ('y', 3), ('y', 4)]]"
   ]
  },
  {
   "cell_type": "markdown",
   "metadata": {},
   "source": [
    "### **`concretize_mapping`**"
   ]
  },
  {
   "cell_type": "code",
   "execution_count": 7,
   "metadata": {},
   "outputs": [
    {
     "data": {
      "text/plain": [
       "{'1_0': 'Value_1_0',\n",
       " '1_1': 'Value_1_1',\n",
       " '2_0': 'Value_2_0',\n",
       " '2_1': 'Value_2_1'}"
      ]
     },
     "metadata": {},
     "output_type": "display_data"
    },
    {
     "data": {
      "text/plain": [
       "{'1_0': ['Value_1_0', '0_1'],\n",
       " '1_1': ['Value_1_1', '1_1'],\n",
       " '2_0': ['Value_2_0', '0_2'],\n",
       " '2_1': ['Value_2_1', '1_2']}"
      ]
     },
     "metadata": {},
     "output_type": "display_data"
    }
   ],
   "source": [
    "from home_credit.cols_map import concretize_mapping\n",
    "\n",
    "key_pat = \"{x}_{y}\"\n",
    "pat_params = {'x': [1, 2], 'y': {'range': [0, 2]}}\n",
    "val_pat = \"Value_{x}_{y}\"\n",
    "display(concretize_mapping(key_pat, val_pat, pat_params))\n",
    "# {'1_0': 'Value_1_0', '1_1': 'Value_1_1', '2_0': 'Value_2_0', '2_1': 'Value_2_1'}\n",
    "val_pat = [\"Value_{x}_{y}\", \"{y}_{x}\"]\n",
    "display(concretize_mapping(key_pat, val_pat, pat_params))\n",
    "# {'1_0': ['Value_1_0', '0_1'], '1_1': ['Value_1_1', '1_1'],\n",
    "# '2_0': ['Value_2_0', '0_2'], '2_1': ['Value_2_1', '1_2']}"
   ]
  },
  {
   "cell_type": "markdown",
   "metadata": {},
   "source": [
    "### **`concretize_group`**"
   ]
  },
  {
   "cell_type": "code",
   "execution_count": 1,
   "metadata": {},
   "outputs": [
    {
     "data": {
      "text/plain": [
       "['Value_1_0', 'Value_1_1', 'Value_2_0', 'Value_2_1']"
      ]
     },
     "metadata": {},
     "output_type": "display_data"
    },
    {
     "data": {
      "text/plain": [
       "[['Value_1_0', '0_1'],\n",
       " ['Value_1_1', '1_1'],\n",
       " ['Value_2_0', '0_2'],\n",
       " ['Value_2_1', '1_2']]"
      ]
     },
     "metadata": {},
     "output_type": "display_data"
    }
   ],
   "source": [
    "from home_credit.cols_map import concretize_group\n",
    "\n",
    "val_pat = \"Value_{x}_{y}\"\n",
    "pat_params = {'x': [1, 2], 'y': {'range': [0, 2]}}\n",
    "display(concretize_group(val_pat, pat_params))\n",
    "# ['Value_1_0', 'Value_1_1', 'Value_2_0', 'Value_2_1']\n",
    "\n",
    "val_pat = [\"Value_{x}_{y}\", \"{y}_{x}\"]\n",
    "pat_params = {'x': [1, 2], 'y': {'range': [0, 2]}}\n",
    "display(concretize_group(val_pat, pat_params))\n",
    "# [['Value_1_0', '0_1'], ['Value_1_1', '1_1'], ['Value_2_0', '0_2'], ['Value_2_1', '1_2']]\n"
   ]
  },
  {
   "cell_type": "markdown",
   "metadata": {},
   "source": [
    "### **`concretize_abstract_groups`**"
   ]
  },
  {
   "cell_type": "code",
   "execution_count": 2,
   "metadata": {},
   "outputs": [
    {
     "name": "stdout",
     "output_type": "stream",
     "text": [
      "{'groups': {'table1': {'group1': ['Value_1_0', 'Value_1_1', 'Value_2_0', 'Value_2_1']}}}\n"
     ]
    }
   ],
   "source": [
    "from home_credit.cols_map import concretize_abstract_groups\n",
    "\n",
    "config = {\n",
    "    \"groups\": {\n",
    "        \"table1\": {\n",
    "            \"group1\": {\n",
    "                \"var\": \"Value_{x}_{y}\",\n",
    "                \"par\": {\"x\": [1, 2], \"y\": {\"range\": [0, 2]}}\n",
    "            }\n",
    "        }\n",
    "    }\n",
    "}\n",
    "\n",
    "concretize_abstract_groups(config)\n",
    "\"\"\"\n",
    "    {\n",
    "        \"groups\": {\n",
    "            \"table1\": {\n",
    "                \"group1\": [\n",
    "                    \"Value_1_0\", \"Value_1_1\", \"Value_2_0\", \"Value_2_1\"\n",
    "                ]\n",
    "            }\n",
    "        }\n",
    "    }\n",
    "\"\"\"\n",
    "print(config)"
   ]
  },
  {
   "cell_type": "markdown",
   "metadata": {},
   "source": [
    "### **`concretize_abstract_mappings`**"
   ]
  },
  {
   "cell_type": "code",
   "execution_count": 3,
   "metadata": {},
   "outputs": [
    {
     "name": "stdout",
     "output_type": "stream",
     "text": [
      "{'mappings': {'table1': {'VAR_1_0': ['VAR', '1', '0'], 'VAR_1_1': ['VAR', '1', '1'], 'VAR_2_0': ['VAR', '2', '0'], 'VAR_2_1': ['VAR', '2', '1']}}}\n"
     ]
    }
   ],
   "source": [
    "from home_credit.cols_map import concretize_abstract_mappings\n",
    "\n",
    "config = {\n",
    "    \"mappings\": {\n",
    "        \"table1\": {\n",
    "            \"VAR_{x}_{y}\": {\n",
    "                \"map\": [\"VAR\", \"{x}\", \"{y}\"],\n",
    "                \"par\": {\"x\": [1, 2], \"y\": {\"range\": [0, 2]}}\n",
    "            }\n",
    "        }\n",
    "    }\n",
    "}\n",
    "concretize_abstract_mappings(config)\n",
    "\n",
    "\"\"\"\n",
    "    {\n",
    "        \"mappings\": {\n",
    "            \"table1\": {\n",
    "                \"mapping1\": {\n",
    "                    \"1_0\": \"Value_1_0\",\n",
    "                    \"1_1\": \"Value_1_1\",\n",
    "                    \"2_0\": \"Value_2_0\",\n",
    "                    \"2_1\": \"Value_2_1\"\n",
    "                }\n",
    "            }\n",
    "        }\n",
    "    }\n",
    "\"\"\"\n",
    "print(config)"
   ]
  },
  {
   "cell_type": "markdown",
   "metadata": {},
   "source": [
    "### **`Application.cols_group`**"
   ]
  },
  {
   "cell_type": "code",
   "execution_count": 6,
   "metadata": {},
   "outputs": [
    {
     "name": "stdout",
     "output_type": "stream",
     "text": [
      "['AMT_REQ_CREDIT_BUREAU_HOUR', 'AMT_REQ_CREDIT_BUREAU_DAY', 'AMT_REQ_CREDIT_BUREAU_WEEK', 'AMT_REQ_CREDIT_BUREAU_MON', 'AMT_REQ_CREDIT_BUREAU_QRT', 'AMT_REQ_CREDIT_BUREAU_YEAR']\n",
      "['FLAG_DOCUMENT_2', 'FLAG_DOCUMENT_3', 'FLAG_DOCUMENT_4', 'FLAG_DOCUMENT_5', 'FLAG_DOCUMENT_6', 'FLAG_DOCUMENT_7', 'FLAG_DOCUMENT_8', 'FLAG_DOCUMENT_9', 'FLAG_DOCUMENT_10', 'FLAG_DOCUMENT_11', 'FLAG_DOCUMENT_12', 'FLAG_DOCUMENT_13', 'FLAG_DOCUMENT_14', 'FLAG_DOCUMENT_15', 'FLAG_DOCUMENT_16', 'FLAG_DOCUMENT_17', 'FLAG_DOCUMENT_18', 'FLAG_DOCUMENT_19', 'FLAG_DOCUMENT_20', 'FLAG_DOCUMENT_21']\n"
     ]
    }
   ],
   "source": [
    "from home_credit.tables import Application\n",
    "\n",
    "print(Application.cols_group(\"credit_bureau_request_counts\"))\n",
    "print(Application.cols_group(\"doc_flags\"))"
   ]
  },
  {
   "cell_type": "markdown",
   "metadata": {},
   "source": [
    "### **`Application.cols_map`**"
   ]
  },
  {
   "cell_type": "code",
   "execution_count": 3,
   "metadata": {},
   "outputs": [
    {
     "data": {
      "text/plain": [
       "{'OBS_30_CNT_SOCIAL_CIRCLE': ('CIRC_30', 'OBS', 'CNT'),\n",
       " 'OBS_60_CNT_SOCIAL_CIRCLE': ('CIRC_60', 'OBS', 'CNT'),\n",
       " 'DEF_30_CNT_SOCIAL_CIRCLE': ('CIRC_30', 'DEF', 'CNT'),\n",
       " 'DEF_60_CNT_SOCIAL_CIRCLE': ('CIRC_60', 'DEF', 'CNT')}"
      ]
     },
     "execution_count": 3,
     "metadata": {},
     "output_type": "execute_result"
    }
   ],
   "source": [
    "from home_credit.tables import Application\n",
    "\n",
    "Application.cols_map(\"social_circle_counts\")"
   ]
  },
  {
   "cell_type": "markdown",
   "metadata": {},
   "source": [
    "# Non régression"
   ]
  },
  {
   "cell_type": "code",
   "execution_count": 4,
   "metadata": {},
   "outputs": [
    {
     "data": {
      "text/plain": [
       "{'AMT_BALANCE': ('BAL', '', 'AMT'),\n",
       " 'AMT_DRAWINGS_CURRENT': ('DRW', 'TOT', 'AMT'),\n",
       " 'AMT_RECEIVABLE_PRINCIPAL': ('RCV', '', 'AMT'),\n",
       " 'AMT_TOTAL_RECEIVABLE': ('RCV', 'TOT', 'AMT'),\n",
       " 'AMT_PAYMENT_CURRENT': ('PYT', '', 'AMT'),\n",
       " 'AMT_PAYMENT_TOTAL_CURRENT': ('PYT', 'TOT', 'AMT')}"
      ]
     },
     "metadata": {},
     "output_type": "display_data"
    }
   ],
   "source": [
    "from home_credit.cols_map import get_cols_map\n",
    "\n",
    "display(get_cols_map(\"credit_card_balance\", \"balancing\"))"
   ]
  },
  {
   "cell_type": "code",
   "execution_count": 15,
   "metadata": {},
   "outputs": [
    {
     "data": {
      "text/plain": [
       "{'AMT_BALANCE': ('BAL', '', 'AMT'),\n",
       " 'AMT_DRAWINGS_CURRENT': ('DRW', 'TOT', 'AMT'),\n",
       " 'AMT_RECEIVABLE_PRINCIPAL': ('RCV', '', 'AMT'),\n",
       " 'AMT_TOTAL_RECEIVABLE': ('RCV', 'TOT', 'AMT'),\n",
       " 'AMT_PAYMENT_CURRENT': ('PYT', '', 'AMT'),\n",
       " 'AMT_PAYMENT_TOTAL_CURRENT': ('PYT', 'TOT', 'AMT')}"
      ]
     },
     "metadata": {},
     "output_type": "display_data"
    }
   ],
   "source": [
    "from home_credit.tables import CreditCardBalance\n",
    "\n",
    "display(CreditCardBalance.cols_map(\"balancing\"))"
   ]
  },
  {
   "cell_type": "code",
   "execution_count": 14,
   "metadata": {},
   "outputs": [
    {
     "data": {
      "text/plain": [
       "{'AMT_DRAWINGS_CURRENT': ('DRW', 'TOT', 'AMT'),\n",
       " 'CNT_DRAWINGS_CURRENT': ('DRW', 'TOT', 'CNT'),\n",
       " 'AMT_DRAWINGS_ATM_CURRENT': ('DRW', 'ATM', 'AMT'),\n",
       " 'CNT_DRAWINGS_ATM_CURRENT': ('DRW', 'ATM', 'CNT'),\n",
       " 'AMT_DRAWINGS_POS_CURRENT': ('DRW', 'POS', 'AMT'),\n",
       " 'CNT_DRAWINGS_POS_CURRENT': ('DRW', 'POS', 'CNT'),\n",
       " 'AMT_DRAWINGS_OTHER_CURRENT': ('DRW', 'OTH', 'AMT'),\n",
       " 'CNT_DRAWINGS_OTHER_CURRENT': ('DRW', 'OTH', 'CNT')}"
      ]
     },
     "metadata": {},
     "output_type": "display_data"
    }
   ],
   "source": [
    "from home_credit.cols_map import get_cols_map\n",
    "\n",
    "display(get_cols_map(\"credit_card_balance\", \"drawings_amt_cnt_couples\"))"
   ]
  },
  {
   "cell_type": "code",
   "execution_count": 16,
   "metadata": {},
   "outputs": [
    {
     "data": {
      "text/plain": [
       "{'AMT_DRAWINGS_CURRENT': ('DRW', 'TOT', 'AMT'),\n",
       " 'CNT_DRAWINGS_CURRENT': ('DRW', 'TOT', 'CNT'),\n",
       " 'AMT_DRAWINGS_ATM_CURRENT': ('DRW', 'ATM', 'AMT'),\n",
       " 'CNT_DRAWINGS_ATM_CURRENT': ('DRW', 'ATM', 'CNT'),\n",
       " 'AMT_DRAWINGS_POS_CURRENT': ('DRW', 'POS', 'AMT'),\n",
       " 'CNT_DRAWINGS_POS_CURRENT': ('DRW', 'POS', 'CNT'),\n",
       " 'AMT_DRAWINGS_OTHER_CURRENT': ('DRW', 'OTH', 'AMT'),\n",
       " 'CNT_DRAWINGS_OTHER_CURRENT': ('DRW', 'OTH', 'CNT')}"
      ]
     },
     "metadata": {},
     "output_type": "display_data"
    }
   ],
   "source": [
    "from home_credit.tables import CreditCardBalance\n",
    "\n",
    "display(CreditCardBalance.cols_map(\"drawings_amt_cnt_couples\"))"
   ]
  }
 ],
 "metadata": {
  "kernelspec": {
   "display_name": "Python 3",
   "language": "python",
   "name": "python3"
  },
  "language_info": {
   "codemirror_mode": {
    "name": "ipython",
    "version": 3
   },
   "file_extension": ".py",
   "mimetype": "text/x-python",
   "name": "python",
   "nbconvert_exporter": "python",
   "pygments_lexer": "ipython3",
   "version": "3.11.1"
  },
  "orig_nbformat": 4
 },
 "nbformat": 4,
 "nbformat_minor": 2
}
