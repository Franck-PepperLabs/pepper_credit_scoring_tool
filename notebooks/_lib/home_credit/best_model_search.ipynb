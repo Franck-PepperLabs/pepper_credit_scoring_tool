{
 "cells": [
  {
   "cell_type": "markdown",
   "metadata": {},
   "source": [
    "# **Module `home_credit.best_model_search`**"
   ]
  },
  {
   "cell_type": "markdown",
   "metadata": {},
   "source": [
    "# **`require_probas`**`(metric: Callable)`"
   ]
  },
  {
   "cell_type": "markdown",
   "metadata": {},
   "source": [
    "# **`train_preproc`**`(data, scaler, keep_test_samples)`"
   ]
  },
  {
   "cell_type": "markdown",
   "metadata": {},
   "source": [
    "# **`eval_predictions`**`(eval_metrics, scores, eval_type, y_true, y_pred_proba, y_pred_discr, y_true_name, eval_type_name, verbosity)`"
   ]
  },
  {
   "cell_type": "markdown",
   "metadata": {},
   "source": [
    "# **`kfold_train_and_eval_model`**`(data, clf, imb_sampler, scaler, loss_func, eval_metrics, nfolds, stratified, verbosity, return_trained_clf)`\n",
    "\n",
    "v1 et v2"
   ]
  },
  {
   "cell_type": "markdown",
   "metadata": {},
   "source": [
    "# **`predict`**`(clf, X, threshold)`"
   ]
  },
  {
   "cell_type": "markdown",
   "metadata": {},
   "source": [
    "# **`display_train_and_eval_results`**`(res)`"
   ]
  },
  {
   "cell_type": "markdown",
   "metadata": {},
   "source": [
    "# **`evaluate_classifier`**`(clf, X, y_true, threshold)`"
   ]
  },
  {
   "cell_type": "markdown",
   "metadata": {},
   "source": [
    "# **`ax_plot_confusion_matrix`**`(cla_labels, clu_labels, cl_names, title, ax)`"
   ]
  },
  {
   "cell_type": "markdown",
   "metadata": {},
   "source": [
    "# **`plot_roc_curve`**`(y_true, y_pred_proba, overall_auc, title)`"
   ]
  },
  {
   "cell_type": "markdown",
   "metadata": {},
   "source": [
    "# **`ax_plot_roc_curve`**`(y_true, y_pred_proba, overall_auc, title, ax, figsize)`"
   ]
  },
  {
   "cell_type": "markdown",
   "metadata": {},
   "source": [
    "# **`display_subset_info`**`(X, y, _ind)`"
   ]
  },
  {
   "cell_type": "markdown",
   "metadata": {},
   "source": [
    "# **`plot_model_eval_roc_and_confusion`**`(inputss, single_figsize, title)`"
   ]
  },
  {
   "cell_type": "markdown",
   "metadata": {},
   "source": [
    "# **`post_train_eval`**`(data_s, res, clf, scaler, threshold)`"
   ]
  }
 ],
 "metadata": {
  "kernelspec": {
   "display_name": "Python 3",
   "language": "python",
   "name": "python3"
  },
  "language_info": {
   "codemirror_mode": {
    "name": "ipython",
    "version": 3
   },
   "file_extension": ".py",
   "mimetype": "text/x-python",
   "name": "python",
   "nbconvert_exporter": "python",
   "pygments_lexer": "ipython3",
   "version": "3.11.1"
  },
  "orig_nbformat": 4
 },
 "nbformat": 4,
 "nbformat_minor": 2
}
