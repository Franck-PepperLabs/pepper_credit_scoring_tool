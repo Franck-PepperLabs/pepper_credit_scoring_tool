{
 "cells": [
  {
   "cell_type": "markdown",
   "metadata": {},
   "source": [
    "# **Module `home_credit.groupby`**"
   ]
  },
  {
   "cell_type": "markdown",
   "metadata": {},
   "source": [
    "# **`get_currentized_bureau_balance`**`()`\n",
    "\n",
    "**TODO** migrer cette fonction vers **`home_credit.load`** et surtout intégrer au cache.\n",
    "\n",
    "La version brute de la table `bureau_balance` ne contient pas de colonne `SK_ID_CURR`. On adjoint cette colonne à l'aide de la fonction `currentize`.\n",
    "\n",
    "**Note** cette opération élimine à l'aide d'un `dropna` les 3 120 184 enregistrements de `bureau_balance` qui ne correspondent à aucun client demandeur actuel, et qui constituent donc des données inutiles pour notre application."
   ]
  },
  {
   "cell_type": "code",
   "execution_count": 1,
   "metadata": {},
   "outputs": [
    {
     "name": "stdout",
     "output_type": "stream",
     "text": [
      "load C:/Users/franc/Projects/pepper_credit_scoring_tool\\dataset\\pqt\\bureau_balance.pqt\n",
      "load C:/Users/franc/Projects/pepper_credit_scoring_tool\\dataset\\pqt\\bureau.pqt\n"
     ]
    },
    {
     "data": {
      "text/html": [
       "<div>\n",
       "<style scoped>\n",
       "    .dataframe tbody tr th:only-of-type {\n",
       "        vertical-align: middle;\n",
       "    }\n",
       "\n",
       "    .dataframe tbody tr th {\n",
       "        vertical-align: top;\n",
       "    }\n",
       "\n",
       "    .dataframe thead th {\n",
       "        text-align: right;\n",
       "    }\n",
       "</style>\n",
       "<table border=\"1\" class=\"dataframe\">\n",
       "  <thead>\n",
       "    <tr style=\"text-align: right;\">\n",
       "      <th>RAW_BUREAU_BALANCE</th>\n",
       "      <th>SK_ID_CURR</th>\n",
       "      <th>SK_ID_BUREAU</th>\n",
       "      <th>MONTHS_BALANCE</th>\n",
       "      <th>STATUS</th>\n",
       "    </tr>\n",
       "  </thead>\n",
       "  <tbody>\n",
       "    <tr>\n",
       "      <th>0</th>\n",
       "      <td>380361</td>\n",
       "      <td>5715448</td>\n",
       "      <td>0</td>\n",
       "      <td>C</td>\n",
       "    </tr>\n",
       "    <tr>\n",
       "      <th>1</th>\n",
       "      <td>380361</td>\n",
       "      <td>5715448</td>\n",
       "      <td>1</td>\n",
       "      <td>C</td>\n",
       "    </tr>\n",
       "    <tr>\n",
       "      <th>2</th>\n",
       "      <td>380361</td>\n",
       "      <td>5715448</td>\n",
       "      <td>2</td>\n",
       "      <td>C</td>\n",
       "    </tr>\n",
       "    <tr>\n",
       "      <th>3</th>\n",
       "      <td>380361</td>\n",
       "      <td>5715448</td>\n",
       "      <td>3</td>\n",
       "      <td>C</td>\n",
       "    </tr>\n",
       "    <tr>\n",
       "      <th>4</th>\n",
       "      <td>380361</td>\n",
       "      <td>5715448</td>\n",
       "      <td>4</td>\n",
       "      <td>C</td>\n",
       "    </tr>\n",
       "    <tr>\n",
       "      <th>...</th>\n",
       "      <td>...</td>\n",
       "      <td>...</td>\n",
       "      <td>...</td>\n",
       "      <td>...</td>\n",
       "    </tr>\n",
       "    <tr>\n",
       "      <th>27299920</th>\n",
       "      <td>101874</td>\n",
       "      <td>5041336</td>\n",
       "      <td>47</td>\n",
       "      <td>X</td>\n",
       "    </tr>\n",
       "    <tr>\n",
       "      <th>27299921</th>\n",
       "      <td>101874</td>\n",
       "      <td>5041336</td>\n",
       "      <td>48</td>\n",
       "      <td>X</td>\n",
       "    </tr>\n",
       "    <tr>\n",
       "      <th>27299922</th>\n",
       "      <td>101874</td>\n",
       "      <td>5041336</td>\n",
       "      <td>49</td>\n",
       "      <td>X</td>\n",
       "    </tr>\n",
       "    <tr>\n",
       "      <th>27299923</th>\n",
       "      <td>101874</td>\n",
       "      <td>5041336</td>\n",
       "      <td>50</td>\n",
       "      <td>X</td>\n",
       "    </tr>\n",
       "    <tr>\n",
       "      <th>27299924</th>\n",
       "      <td>101874</td>\n",
       "      <td>5041336</td>\n",
       "      <td>51</td>\n",
       "      <td>X</td>\n",
       "    </tr>\n",
       "  </tbody>\n",
       "</table>\n",
       "<p>24179741 rows × 4 columns</p>\n",
       "</div>"
      ],
      "text/plain": [
       "RAW_BUREAU_BALANCE SK_ID_CURR  SK_ID_BUREAU  MONTHS_BALANCE STATUS\n",
       "0                      380361       5715448               0      C\n",
       "1                      380361       5715448               1      C\n",
       "2                      380361       5715448               2      C\n",
       "3                      380361       5715448               3      C\n",
       "4                      380361       5715448               4      C\n",
       "...                       ...           ...             ...    ...\n",
       "27299920               101874       5041336              47      X\n",
       "27299921               101874       5041336              48      X\n",
       "27299922               101874       5041336              49      X\n",
       "27299923               101874       5041336              50      X\n",
       "27299924               101874       5041336              51      X\n",
       "\n",
       "[24179741 rows x 4 columns]"
      ]
     },
     "metadata": {},
     "output_type": "display_data"
    }
   ],
   "source": [
    "from home_credit.groupby import get_currentized_bureau_balance\n",
    "display(get_currentized_bureau_balance())"
   ]
  },
  {
   "cell_type": "markdown",
   "metadata": {},
   "source": [
    "# **`get_bureau_balance_loan_counts`**`()`\n",
    "\n",
    "v1 et v2"
   ]
  },
  {
   "cell_type": "markdown",
   "metadata": {},
   "source": [
    "# **`get_bureau_balance_composite_status`**`()`\n",
    "\n",
    "v1 et v2"
   ]
  },
  {
   "cell_type": "markdown",
   "metadata": {},
   "source": [
    "# **`process_rle_variations`**`(data, month_col, variation_col)`"
   ]
  },
  {
   "cell_type": "markdown",
   "metadata": {},
   "source": [
    "# **`get_loan_counts_variation`**`()`"
   ]
  },
  {
   "cell_type": "markdown",
   "metadata": {},
   "source": [
    "# **`get_composite_status_variation`**`()`"
   ]
  },
  {
   "cell_type": "markdown",
   "metadata": {},
   "source": [
    "# **`join_variations_tables`**`()`"
   ]
  },
  {
   "cell_type": "markdown",
   "metadata": {},
   "source": [
    "# **`aggregate_loan_status`**`(data, pivot_columns, data_preprocessor, dropped_columns, alpha, decimals)`\n",
    "\n",
    "V2 du 17/09/23"
   ]
  },
  {
   "cell_type": "markdown",
   "metadata": {},
   "source": [
    "## **`dont_use_aggregate_loan_status_by_loan_month`**`(data, decimals)`"
   ]
  },
  {
   "cell_type": "markdown",
   "metadata": {},
   "source": [
    "## **`aggregate_loan_status_by_applicant_month`**`(data, decimals)`"
   ]
  },
  {
   "cell_type": "markdown",
   "metadata": {},
   "source": [
    "## **`aggregate_loan_status_by_loan`**`(data, alpha, decimals)`"
   ]
  },
  {
   "cell_type": "markdown",
   "metadata": {},
   "source": [
    "## **`aggregate_loan_status_by_applicant`**`(data, alpha, decimals)`"
   ]
  },
  {
   "cell_type": "markdown",
   "metadata": {},
   "source": [
    "# **`get_loans_activity`**`(data)`"
   ]
  },
  {
   "cell_type": "markdown",
   "metadata": {},
   "source": [
    "# **`get_loans_activity_by_applicant`**`(data)`"
   ]
  },
  {
   "cell_type": "markdown",
   "metadata": {},
   "source": [
    "# **`get_mean_loans_activity`**`(data, alpha)`"
   ]
  },
  {
   "cell_type": "markdown",
   "metadata": {},
   "source": [
    "# **`get_mean_loans_activity_by_applicant`**`(data, alpha)`"
   ]
  },
  {
   "cell_type": "markdown",
   "metadata": {},
   "source": [
    "# **`get_rle_loan_tracking_period`**`(data)`"
   ]
  },
  {
   "cell_type": "markdown",
   "metadata": {},
   "source": [
    "# **`get_rle_applicant_tracking_period`**`(data)`"
   ]
  },
  {
   "cell_type": "markdown",
   "metadata": {},
   "source": [
    "# **`get_rle_loan_feature_variations`**`(data, features)`"
   ]
  },
  {
   "cell_type": "markdown",
   "metadata": {},
   "source": [
    "# **`get_rle_applicant_feature_variations`**`(data, features)`"
   ]
  }
 ],
 "metadata": {
  "kernelspec": {
   "display_name": "Python 3",
   "language": "python",
   "name": "python3"
  },
  "language_info": {
   "codemirror_mode": {
    "name": "ipython",
    "version": 3
   },
   "file_extension": ".py",
   "mimetype": "text/x-python",
   "name": "python",
   "nbconvert_exporter": "python",
   "pygments_lexer": "ipython3",
   "version": "3.11.1"
  },
  "orig_nbformat": 4
 },
 "nbformat": 4,
 "nbformat_minor": 2
}
