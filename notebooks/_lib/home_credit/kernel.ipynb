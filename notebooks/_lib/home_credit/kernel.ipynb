{
 "cells": [
  {
   "cell_type": "markdown",
   "metadata": {},
   "source": [
    "# **Module `home_credit.lightgbm_kernel_v2`**\n",
    "\n",
    "**TODO** On pourrait commencer par le renommer **`kernel`**."
   ]
  },
  {
   "cell_type": "markdown",
   "metadata": {},
   "source": [
    "# **`free`**`(*objs)`"
   ]
  },
  {
   "cell_type": "markdown",
   "metadata": {},
   "source": [
    "# **`@contextmanager:exec_tracking`**`(title, context, inputs, outputs, verbosity)`"
   ]
  },
  {
   "cell_type": "markdown",
   "metadata": {},
   "source": [
    "# **`load_data`**`(table_name, nrows)`"
   ]
  },
  {
   "cell_type": "markdown",
   "metadata": {},
   "source": [
    "# **`get_categorical_vars`**`(df, dtype, max_modalities)`"
   ]
  },
  {
   "cell_type": "markdown",
   "metadata": {},
   "source": [
    "# **`one_hot_encode_all_cats`**`(data, columns, dummy_na, drop_first, dtype, discard_constants)`"
   ]
  },
  {
   "cell_type": "markdown",
   "metadata": {},
   "source": [
    "# **`hot_encode_cats`**`(data, dummy_na, drop_first, discard_constants)`"
   ]
  },
  {
   "cell_type": "markdown",
   "metadata": {},
   "source": [
    "# **`add_derived_features`**`(data, expr)`"
   ]
  },
  {
   "cell_type": "markdown",
   "metadata": {},
   "source": [
    "# **`flatten_and_prefix_columns`**`(data, prefix)`"
   ]
  },
  {
   "cell_type": "markdown",
   "metadata": {},
   "source": [
    "# **`display_importances`**`(feat_imp, title)`"
   ]
  },
  {
   "cell_type": "markdown",
   "metadata": {},
   "source": [
    "# **`load_A_table`**`(nrows, silly_mode)`\n",
    "\n",
    "- **`load_A_table_v1`**`(nrows=None)`\n",
    "- **`load_A_table_v2`**`(nrows=None, silly_mode=False)`"
   ]
  },
  {
   "cell_type": "markdown",
   "metadata": {},
   "source": [
    "# **`load_<table>`**`(nrows)`\n",
    "\n",
    "**TODO** Nombreuses fonctions dépréciées : commencer par faire le ménage, pour ne pas y perdre du temps."
   ]
  },
  {
   "cell_type": "markdown",
   "metadata": {},
   "source": [
    "# **`clean_<table>`**`(nrows)`\n",
    "\n",
    "**TODO** Nombreuses fonctions dépréciées : commencer par faire le ménage, pour ne pas y perdre du temps."
   ]
  },
  {
   "cell_type": "markdown",
   "metadata": {},
   "source": [
    "# **`group_BB_by_bur_and_join_to_B_v1`**`(data, adj_data, adj_catvar_names)`"
   ]
  },
  {
   "cell_type": "markdown",
   "metadata": {},
   "source": [
    "# **`group_BB_by_bur_and_join_to_B_v2`**`(data, adj_data, adj_catvar_names)`"
   ]
  },
  {
   "cell_type": "markdown",
   "metadata": {},
   "source": [
    "# **`group_B_by_curr_v1`**`(data, catvar_names, adj_catvar_names)`"
   ]
  },
  {
   "cell_type": "markdown",
   "metadata": {},
   "source": [
    "# **`group_B_by_curr_v2`**`(data, catvar_names, adj_catvar_names)`"
   ]
  },
  {
   "cell_type": "markdown",
   "metadata": {},
   "source": [
    "# **`group_PA_by_curr_v1`**`(data, catvar_names)`"
   ]
  },
  {
   "cell_type": "markdown",
   "metadata": {},
   "source": [
    "# **`group_PA_by_curr_v2`**`(data, catvar_names)`"
   ]
  },
  {
   "cell_type": "markdown",
   "metadata": {},
   "source": [
    "# **`group_PCB_by_curr_v1`**`(data, catvar_names)`"
   ]
  },
  {
   "cell_type": "markdown",
   "metadata": {},
   "source": [
    "# **`group_PCB_by_curr_v2`**`(data, catvar_names)`"
   ]
  },
  {
   "cell_type": "markdown",
   "metadata": {},
   "source": [
    "# **`group_CCB_by_curr_v1`**`(data, catvar_names)`"
   ]
  },
  {
   "cell_type": "markdown",
   "metadata": {},
   "source": [
    "# **`group_CCB_by_curr_v2`**`(data, catvar_names)`"
   ]
  },
  {
   "cell_type": "markdown",
   "metadata": {},
   "source": [
    "# **`group_IP_by_curr_v1`**`(data, catvar_names)`"
   ]
  },
  {
   "cell_type": "markdown",
   "metadata": {},
   "source": [
    "# **`group_IP_by_curr_v2`**`(data, catvar_names)`"
   ]
  },
  {
   "cell_type": "markdown",
   "metadata": {},
   "source": [
    "# **`add_<table>_derived_features`**`(data)`\n",
    "\n",
    "**TODO** A revoir est unifier. Surtout, à revoir en tirant parti de mon EDA."
   ]
  },
  {
   "cell_type": "markdown",
   "metadata": {},
   "source": [
    "# **`application_train_test`**`(nrows, nan_as_category)`"
   ]
  },
  {
   "cell_type": "markdown",
   "metadata": {},
   "source": [
    "# **`preproc_application`**`(nrows, dummy_na, drop_first)`"
   ]
  },
  {
   "cell_type": "markdown",
   "metadata": {},
   "source": [
    "# **`bureau_and_balance`**`(nrows, nan_as_category)`\n",
    "\n",
    "v1 vs v2"
   ]
  },
  {
   "cell_type": "markdown",
   "metadata": {},
   "source": [
    "# **`preproc_bureau`**`(nrows, nan_as_category)`"
   ]
  },
  {
   "cell_type": "markdown",
   "metadata": {},
   "source": [
    "# **`previous_application`**`(nrows, nan_as_category)`\n",
    "\n",
    "v1 vs v2"
   ]
  },
  {
   "cell_type": "markdown",
   "metadata": {},
   "source": [
    "# **`preproc_previous_application`**`(nrows, dummy_na, drop_first)`"
   ]
  },
  {
   "cell_type": "markdown",
   "metadata": {},
   "source": [
    "# **`pos_cash_balance`**`(nrows, nan_as_category)`\n",
    "\n",
    "v1 vs v2"
   ]
  },
  {
   "cell_type": "markdown",
   "metadata": {},
   "source": [
    "# **`preproc_pos_cash_balance`**`(nrows, dummy_na, drop_first)`"
   ]
  },
  {
   "cell_type": "markdown",
   "metadata": {},
   "source": [
    "# **`credit_card_balance`**`(nrows, nan_as_category)`\n",
    "\n",
    "v1 vs v2"
   ]
  },
  {
   "cell_type": "markdown",
   "metadata": {},
   "source": [
    "# **`preproc_credit_card_balance`**`(nrows, dummy_na, drop_first)`"
   ]
  },
  {
   "cell_type": "markdown",
   "metadata": {},
   "source": [
    "# **`installments_payments`**`(nrows, nan_as_category)`\n",
    "\n",
    "v1 vs v2"
   ]
  },
  {
   "cell_type": "markdown",
   "metadata": {},
   "source": [
    "# **`preproc_installments_payments`**`(nrows, dummy_na, drop_first)`"
   ]
  },
  {
   "cell_type": "markdown",
   "metadata": {},
   "source": [
    "# **`get_preproc_table_func`**`(adj_table_name, version)`"
   ]
  },
  {
   "cell_type": "markdown",
   "metadata": {},
   "source": [
    "# **`left_join_grouped_table`**`(data, adj_table_name, nrows, version, verbosity)`"
   ]
  },
  {
   "cell_type": "markdown",
   "metadata": {},
   "source": [
    "# **`main_preproc`**`(nrows, version, verbosity)`"
   ]
  },
  {
   "cell_type": "markdown",
   "metadata": {},
   "source": [
    "# **`get_opt_lgbm_classifier`**`(verbosity)`"
   ]
  },
  {
   "cell_type": "markdown",
   "metadata": {},
   "source": [
    "# **`kfold_lightgbm`**`(data, nfolds, stratified, debug, sms_filename)`"
   ]
  },
  {
   "cell_type": "markdown",
   "metadata": {},
   "source": [
    "# **`safe_utf8_column_names`**`(data)`"
   ]
  },
  {
   "cell_type": "markdown",
   "metadata": {},
   "source": [
    "# **`main`**`(nrows, version, verbosity, sms_filename, debug)`"
   ]
  }
 ],
 "metadata": {
  "language_info": {
   "name": "python"
  },
  "orig_nbformat": 4
 },
 "nbformat": 4,
 "nbformat_minor": 2
}
