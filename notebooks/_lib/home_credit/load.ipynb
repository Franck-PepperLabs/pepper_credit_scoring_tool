{
 "cells": [
  {
   "cell_type": "markdown",
   "metadata": {},
   "source": [
    "# **Module `home_credit.load`**\n",
    "\n",
    "✔ Revue des **typehints** et des **docstrings**."
   ]
  },
  {
   "cell_type": "markdown",
   "metadata": {},
   "source": [
    "# **`get_raw_table_names`**`()`"
   ]
  },
  {
   "cell_type": "markdown",
   "metadata": {},
   "source": [
    "# **`load_raw_table`**`(table_name, dataset_dir, ext)`\n",
    "\n",
    "On inclut ici les alias suivants :\n",
    "- **`_load_sample_submission`**`()` = **`load_raw_table`**`(\"sample_submission\")`\n",
    "- **`_load_application_test`**`()` = **`load_raw_table`**`(\"application_test\")`\n",
    "- **`_load_application_train`**`()` = **`load_raw_table`**`(\"application_train\")`\n",
    "- **`_load_previous_application`**`()` = **`load_raw_table`**`(\"previous_application\")`\n",
    "- **`_load_bureau`**`()` = **`load_raw_table`**`(\"bureau\")`\n",
    "- **`_load_bureau_balance`**`()` = **`load_raw_table`**`(\"bureau_balance\")`\n",
    "- **`_load_credit_card_balance`**`()` = **`load_raw_table`**`(\"credit_card_balance\")`\n",
    "- **`_load_pos_cash_balance`**`()` = **`load_raw_table`**`(\"POS_CASH_balance\")`\n",
    "- **`_load_installments_payments`**`()` = **`load_raw_table`**`(\"installments_payments\")`"
   ]
  },
  {
   "cell_type": "markdown",
   "metadata": {},
   "source": [
    "# **`filter_by_indices`**`(data, filter_columns)`"
   ]
  },
  {
   "cell_type": "markdown",
   "metadata": {},
   "source": [
    "# **`_load_columns_description`**`()`"
   ]
  },
  {
   "cell_type": "markdown",
   "metadata": {},
   "source": [
    "# **`_load_application`**`()`"
   ]
  },
  {
   "cell_type": "markdown",
   "metadata": {},
   "source": [
    "# **`_load_var_descs`**`()`"
   ]
  },
  {
   "cell_type": "markdown",
   "metadata": {},
   "source": [
    "# **`get<table>`**`()`\n",
    "\n",
    "- **`get_columns_description`**`()`\n",
    "- **`get_sample_submission`**`()`\n",
    "- **`get_application_test`**`()`\n",
    "- **`get_application_train`**`()`\n",
    "- **`get_application`**`()`\n",
    "- **`get_bureau`**`()`\n",
    "- **`get_bureau_balance`**`()`\n",
    "- **`get_credit_card_balance`**`()`\n",
    "- **`get_pos_cash_balance`**`()`\n",
    "- **`get_installments_payments`**`()`\n",
    "- **`get_previous_application`**`()`\n",
    "- **`get_var_descs`**`()`"
   ]
  },
  {
   "cell_type": "markdown",
   "metadata": {},
   "source": [
    "# **`get_target`**`()`"
   ]
  },
  {
   "cell_type": "markdown",
   "metadata": {},
   "source": [
    "# **`get_main_map`**`()`\n",
    "\n",
    "**`main_map`** est la table des clients avec correspondances.\n",
    "\n",
    "Il s'agit de la table des correspondances `SK_ID_CURR`, `SK_ID_BUREAU`, `SK_ID_PREV` et `TARGET`.\n",
    "\n",
    "Cette table sert notamment à alimenter la sélection de données client dans l'application à l'usage des conseillers clientèle."
   ]
  },
  {
   "cell_type": "code",
   "execution_count": 1,
   "metadata": {},
   "outputs": [
    {
     "name": "stdout",
     "output_type": "stream",
     "text": [
      "load C:/Users/franc/Projects/pepper_credit_scoring_tool\\dataset\\pqt\\application_train.pqt\n",
      "load C:/Users/franc/Projects/pepper_credit_scoring_tool\\dataset\\pqt\\application_test.pqt\n",
      "load C:/Users/franc/Projects/pepper_credit_scoring_tool\\dataset\\pqt\\bureau.pqt\n",
      "load C:/Users/franc/Projects/pepper_credit_scoring_tool\\dataset\\pqt\\previous_application.pqt\n"
     ]
    },
    {
     "data": {
      "text/html": [
       "<div>\n",
       "<style scoped>\n",
       "    .dataframe tbody tr th:only-of-type {\n",
       "        vertical-align: middle;\n",
       "    }\n",
       "\n",
       "    .dataframe tbody tr th {\n",
       "        vertical-align: top;\n",
       "    }\n",
       "\n",
       "    .dataframe thead th {\n",
       "        text-align: right;\n",
       "    }\n",
       "</style>\n",
       "<table border=\"1\" class=\"dataframe\">\n",
       "  <thead>\n",
       "    <tr style=\"text-align: right;\">\n",
       "      <th></th>\n",
       "      <th>SK_ID_CURR</th>\n",
       "      <th>SK_ID_BUREAU</th>\n",
       "      <th>SK_ID_PREV</th>\n",
       "      <th>TARGET</th>\n",
       "    </tr>\n",
       "  </thead>\n",
       "  <tbody>\n",
       "    <tr>\n",
       "      <th>0</th>\n",
       "      <td>100002</td>\n",
       "      <td>6158904</td>\n",
       "      <td>1038818</td>\n",
       "      <td>1</td>\n",
       "    </tr>\n",
       "    <tr>\n",
       "      <th>1</th>\n",
       "      <td>100002</td>\n",
       "      <td>6158905</td>\n",
       "      <td>1038818</td>\n",
       "      <td>1</td>\n",
       "    </tr>\n",
       "    <tr>\n",
       "      <th>2</th>\n",
       "      <td>100002</td>\n",
       "      <td>6158906</td>\n",
       "      <td>1038818</td>\n",
       "      <td>1</td>\n",
       "    </tr>\n",
       "    <tr>\n",
       "      <th>3</th>\n",
       "      <td>100002</td>\n",
       "      <td>6158907</td>\n",
       "      <td>1038818</td>\n",
       "      <td>1</td>\n",
       "    </tr>\n",
       "    <tr>\n",
       "      <th>4</th>\n",
       "      <td>100002</td>\n",
       "      <td>6158908</td>\n",
       "      <td>1038818</td>\n",
       "      <td>1</td>\n",
       "    </tr>\n",
       "    <tr>\n",
       "      <th>...</th>\n",
       "      <td>...</td>\n",
       "      <td>...</td>\n",
       "      <td>...</td>\n",
       "      <td>...</td>\n",
       "    </tr>\n",
       "    <tr>\n",
       "      <th>9405828</th>\n",
       "      <td>456250</td>\n",
       "      <td>6817238</td>\n",
       "      <td>1081068</td>\n",
       "      <td>-1</td>\n",
       "    </tr>\n",
       "    <tr>\n",
       "      <th>9405829</th>\n",
       "      <td>456250</td>\n",
       "      <td>6817238</td>\n",
       "      <td>1482581</td>\n",
       "      <td>-1</td>\n",
       "    </tr>\n",
       "    <tr>\n",
       "      <th>9405830</th>\n",
       "      <td>456250</td>\n",
       "      <td>6817238</td>\n",
       "      <td>2624169</td>\n",
       "      <td>-1</td>\n",
       "    </tr>\n",
       "    <tr>\n",
       "      <th>9405831</th>\n",
       "      <td>456250</td>\n",
       "      <td>6817238</td>\n",
       "      <td>2626069</td>\n",
       "      <td>-1</td>\n",
       "    </tr>\n",
       "    <tr>\n",
       "      <th>9405832</th>\n",
       "      <td>456250</td>\n",
       "      <td>6817238</td>\n",
       "      <td>1740566</td>\n",
       "      <td>-1</td>\n",
       "    </tr>\n",
       "  </tbody>\n",
       "</table>\n",
       "<p>9405833 rows × 4 columns</p>\n",
       "</div>"
      ],
      "text/plain": [
       "         SK_ID_CURR  SK_ID_BUREAU  SK_ID_PREV  TARGET\n",
       "0            100002       6158904     1038818       1\n",
       "1            100002       6158905     1038818       1\n",
       "2            100002       6158906     1038818       1\n",
       "3            100002       6158907     1038818       1\n",
       "4            100002       6158908     1038818       1\n",
       "...             ...           ...         ...     ...\n",
       "9405828      456250       6817238     1081068      -1\n",
       "9405829      456250       6817238     1482581      -1\n",
       "9405830      456250       6817238     2624169      -1\n",
       "9405831      456250       6817238     2626069      -1\n",
       "9405832      456250       6817238     1740566      -1\n",
       "\n",
       "[9405833 rows x 4 columns]"
      ]
     },
     "metadata": {},
     "output_type": "display_data"
    }
   ],
   "source": [
    "from home_credit.load import get_main_map\n",
    "display(get_main_map())"
   ]
  },
  {
   "cell_type": "markdown",
   "metadata": {},
   "source": [
    "# **`get_table_loaders_dict`**`()`"
   ]
  },
  {
   "cell_type": "markdown",
   "metadata": {},
   "source": [
    "# **`get_table`**`(table_name)`"
   ]
  },
  {
   "cell_type": "markdown",
   "metadata": {},
   "source": [
    "# **`get_prep_dataset_dir`**`()`"
   ]
  },
  {
   "cell_type": "markdown",
   "metadata": {},
   "source": [
    "# **`save_prep_dataset`**`(data, version_name)`"
   ]
  },
  {
   "cell_type": "markdown",
   "metadata": {},
   "source": [
    "# **`load_prep_dataset`**`(version_name)`"
   ]
  },
  {
   "cell_type": "markdown",
   "metadata": {},
   "source": [
    "# **`_get_<subdir>`**`(dir_name)`\n",
    "\n",
    "- **`_get_tmp_subdir`**`(dir_name)`\n",
    "- **`get_submission_dir`**`()`\n",
    "- **`get_mlflow_dir`**`()`\n",
    "- **`get_reports_dir`**`()`"
   ]
  },
  {
   "cell_type": "markdown",
   "metadata": {},
   "source": [
    "# **`save_submission`**`(sms_data, sms_filename)`"
   ]
  }
 ],
 "metadata": {
  "kernelspec": {
   "display_name": "Python 3",
   "language": "python",
   "name": "python3"
  },
  "language_info": {
   "codemirror_mode": {
    "name": "ipython",
    "version": 3
   },
   "file_extension": ".py",
   "mimetype": "text/x-python",
   "name": "python",
   "nbconvert_exporter": "python",
   "pygments_lexer": "ipython3",
   "version": "3.11.1"
  },
  "orig_nbformat": 4
 },
 "nbformat": 4,
 "nbformat_minor": 2
}
