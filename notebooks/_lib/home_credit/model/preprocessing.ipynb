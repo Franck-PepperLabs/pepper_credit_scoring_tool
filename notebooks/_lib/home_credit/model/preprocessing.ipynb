{
 "cells": [
  {
   "cell_type": "markdown",
   "metadata": {},
   "source": [
    "# **Module `home_credit.model.preprocessing`**"
   ]
  },
  {
   "cell_type": "markdown",
   "metadata": {},
   "source": [
    "# **`train_preproc`**`(data, scaler, keep_test_samples)`"
   ]
  },
  {
   "cell_type": "code",
   "execution_count": null,
   "metadata": {},
   "outputs": [],
   "source": [
    "from sklearn.preprocessing import StandardScaler\n",
    "from home_credit.model.preprocessing import train_preproc\n",
    "\n",
    "# TODO charger la version pré-traitée et fusionnée de la table `application`\n",
    "data = load_data()\n",
    "scaler = StandardScaler()\n",
    "X_train, y_train = train_preproc(data, scaler=scaler, keep_test_samples=False)"
   ]
  }
 ],
 "metadata": {
  "kernelspec": {
   "display_name": "Python 3",
   "language": "python",
   "name": "python3"
  },
  "language_info": {
   "name": "python",
   "version": "3.11.1"
  },
  "orig_nbformat": 4
 },
 "nbformat": 4,
 "nbformat_minor": 2
}
