{
 "cells": [
  {
   "cell_type": "markdown",
   "metadata": {},
   "source": [
    "# **Module `home_credit.model.eval`**"
   ]
  },
  {
   "cell_type": "markdown",
   "metadata": {},
   "source": [
    "# **`eval_predictions`**`(eval_metrics, y_true, y_pred_proba, y_pred_discr, y_true_name, eval_type_name)`"
   ]
  },
  {
   "cell_type": "code",
   "execution_count": null,
   "metadata": {},
   "outputs": [],
   "source": [
    "from home_credit.model.eval import eval_predictions\n",
    "from sklearn import metrics\n",
    "\n",
    "eval_metrics = {\n",
    "    # \"AUC\": roc_auc_score,\n",
    "    \"F2\": lambda y, y_pred: metrics.fbeta_score(y, y_pred, beta=2)\n",
    "}\n",
    "\n",
    "\n",
    "eval_predictions(\n",
    "    eval_metrics, scores, \"over_folds\",\n",
    "    y_valid, y_pred_proba, y_pred_discr,\n",
    "    y_true_name=\"y_valid\", eval_type_name=f\"Fold {fold_id:2d}\",\n",
    "    verbosity=verbosity\n",
    ")\n",
    "\n",
    "eval_predictions(\n",
    "    eval_metrics,\n",
    "    scores,\n",
    "    \"overall\",\n",
    "    y_train,\n",
    "    oof_preds_proba,\n",
    "    oof_preds_discr,\n",
    "    y_true_name=\"y_train\",\n",
    "    eval_type_name=\"Full\",\n",
    "    verbosity=verbosity,\n",
    ")"
   ]
  }
 ],
 "metadata": {
  "kernelspec": {
   "display_name": "Python 3",
   "language": "python",
   "name": "python3"
  },
  "language_info": {
   "name": "python",
   "version": "3.11.1"
  },
  "orig_nbformat": 4
 },
 "nbformat": 4,
 "nbformat_minor": 2
}
