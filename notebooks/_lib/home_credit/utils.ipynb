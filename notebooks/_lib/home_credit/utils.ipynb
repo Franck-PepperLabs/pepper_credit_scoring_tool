{
 "cells": [
  {
   "cell_type": "markdown",
   "metadata": {},
   "source": [
    "# **Module `home_credit.utils`**\n",
    "\n",
    "✔ Revue des **typehints** et des **docstrings**.\n",
    "\n",
    "**TODO** Il y a de la redondance dans ce module. La version `help_variables` est plus pertinente, car à base de patterns uniquement : la substituer à `help_cols` dans tout le code utilisateur, et supprimer `help_cols`."
   ]
  },
  {
   "cell_type": "markdown",
   "metadata": {},
   "source": [
    "# **`help_cols`**`(col_names, table_pat, desc_pat, spe_pat)`\n",
    "\n",
    "**TODO** cf. introduction du module, faire disparaître cette version au profit de `help_variables`."
   ]
  },
  {
   "cell_type": "code",
   "execution_count": 3,
   "metadata": {},
   "outputs": [
    {
     "data": {
      "text/markdown": [
       "|Table|Column|Description|Special|\n",
       "|-|-|-|-|\n",
       "|bureau_balance|MONTHS_BALANCE|Month of balance relative to application date (-1 means the freshest balance date)|time only relative to the application|\n",
       "|pos_cash_balance|MONTHS_BALANCE|Month of balance relative to application date (-1 means the information to the freshest monthly snapshot, 0 means the information at application - often it will be the same as -1 as many banks are not updating the information to Credit Bureau regularly )|time only relative to the application|\n",
       "|credit_card_balance|MONTHS_BALANCE|Month of balance relative to application date (-1 means the freshest balance date)|time only relative to the application|"
      ],
      "text/plain": [
       "<IPython.core.display.Markdown object>"
      ]
     },
     "metadata": {},
     "output_type": "display_data"
    }
   ],
   "source": [
    "from home_credit.utils import help_cols\n",
    "help_cols(\"MONTHS_BALANCE\")"
   ]
  },
  {
   "cell_type": "markdown",
   "metadata": {},
   "source": [
    "# **`get_variables_description`**`()`\n",
    "\n",
    "**TODO** À renommer **`get_features_description`**`()`"
   ]
  },
  {
   "cell_type": "markdown",
   "metadata": {},
   "source": [
    "# **`get_variables_infos`**`()`\n",
    "\n",
    "**TODO** À renommer **`get_features_infos`**`()`"
   ]
  },
  {
   "cell_type": "markdown",
   "metadata": {},
   "source": [
    "# **`_get_pat`**`(group_name)`"
   ]
  },
  {
   "cell_type": "markdown",
   "metadata": {},
   "source": [
    "# **`get_variables_description`**`(group_name)`\n",
    "\n",
    "**TODO** À renommer **`get_features_description`**`()`"
   ]
  },
  {
   "cell_type": "markdown",
   "metadata": {},
   "source": [
    "# **`help_variables`**`(col_pat, table_pat, desc_pat, spe_pat)`\n",
    "\n",
    "**TODO** À renommer **`help_features`**`()`"
   ]
  },
  {
   "cell_type": "markdown",
   "metadata": {},
   "source": [
    "# **`get_table_with_reminder`**`(table_name)`"
   ]
  },
  {
   "cell_type": "markdown",
   "metadata": {},
   "source": [
    "# **`get_table_names`**`(raw)`"
   ]
  },
  {
   "cell_type": "code",
   "execution_count": 7,
   "metadata": {},
   "outputs": [
    {
     "name": "stdout",
     "output_type": "stream",
     "text": [
      "['previous_application', 'bureau', 'bureau_balance', 'pos_cash_balance', 'credit_card_balance', 'installments_payments', 'application']\n",
      "['previous_application', 'bureau', 'bureau_balance', 'pos_cash_balance', 'credit_card_balance', 'installments_payments', 'application_train', 'application_test', 'columns_description', 'sample_submission']\n"
     ]
    }
   ],
   "source": [
    "from home_credit.utils import get_table_names\n",
    "print(get_table_names())\n",
    "print(get_table_names(raw=True))"
   ]
  },
  {
   "cell_type": "markdown",
   "metadata": {},
   "source": [
    "# **`get_tables_dict`**`(raw)`"
   ]
  },
  {
   "cell_type": "markdown",
   "metadata": {},
   "source": [
    "# **`get_column_types_dist`**`(df)`"
   ]
  },
  {
   "cell_type": "markdown",
   "metadata": {},
   "source": [
    "# **`display_frame_basic_infos`**`(df)`"
   ]
  },
  {
   "cell_type": "markdown",
   "metadata": {},
   "source": [
    "# **`foreign_key_counts_report`**`(table_name, sk_name)`"
   ]
  },
  {
   "cell_type": "markdown",
   "metadata": {},
   "source": [
    "# **`main_subs_relation_report`**`(main_table_name, subs_table_name, sk_name)`"
   ]
  },
  {
   "cell_type": "markdown",
   "metadata": {},
   "source": [
    "# **`_not_in_subs_table_idx`**`(main_table_name, subs_table_name, key)`"
   ]
  },
  {
   "cell_type": "markdown",
   "metadata": {},
   "source": [
    "# **`get_class_label_name_map`**`()`"
   ]
  },
  {
   "cell_type": "code",
   "execution_count": 4,
   "metadata": {},
   "outputs": [
    {
     "data": {
      "text/plain": [
       "{-1: 'Unknown', 0: 'Negative', 1: 'Positive'}"
      ]
     },
     "execution_count": 4,
     "metadata": {},
     "output_type": "execute_result"
    }
   ],
   "source": [
    "from home_credit.utils import get_class_label_name_map\n",
    "get_class_label_name_map()"
   ]
  }
 ],
 "metadata": {
  "kernelspec": {
   "display_name": "Python 3",
   "language": "python",
   "name": "python3"
  },
  "language_info": {
   "codemirror_mode": {
    "name": "ipython",
    "version": 3
   },
   "file_extension": ".py",
   "mimetype": "text/x-python",
   "name": "python",
   "nbconvert_exporter": "python",
   "pygments_lexer": "ipython3",
   "version": "3.11.1"
  },
  "orig_nbformat": 4
 },
 "nbformat": 4,
 "nbformat_minor": 2
}
