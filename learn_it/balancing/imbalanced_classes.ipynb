{
 "cells": [
  {
   "attachments": {},
   "cell_type": "markdown",
   "metadata": {},
   "source": [
    "# **Problème des classes déséquilibrées en ML**"
   ]
  },
  {
   "attachments": {},
   "cell_type": "markdown",
   "metadata": {},
   "source": [
    "# [10 Techniques pour résoudre les classes déséquilibrées en apprentissage automatique](https://www.analyticsvidhya.com/blog/2020/07/10-techniques-to-deal-with-class-imbalance-in-machine-learning/)\n",
    "\n",
    "Mis à jour en 2023\n",
    "\n",
    "## Introduction\n",
    "\n",
    "En tant que data scientist, certains des problèmes les plus couramment rencontrés en classification binaire sont liés au déséquilibre des classes. Lorsqu'il y a une disparité dans le nombre d'observations dans chaque classe, on parle de déséquilibre de classe. Par exemple, pour détecter les transactions frauduleuses par carte de crédit, on peut avoir 400 transactions frauduleuses par rapport à 90000 transactions non frauduleuses.\n",
    "\n",
    "![Déséquilibre de classe : Introduction](https://av-eks-blogoptimized.s3.amazonaws.com/1*GkhP_fliGHcijoiyp0I4Wg.png)\n",
    "\n",
    "Le déséquilibre de classe est un problème courant en apprentissage automatique, en particulier dans les problèmes de classification. Les données déséquilibrées peuvent considérablement affecter la précision de nos modèles. Cela se produit dans de nombreux domaines, notamment la détection de fraudes, la détection de spams, le dépistage de maladies, le churn de souscription SaaS, les clics publicitaires, etc. Voyons comment gérer les données déséquilibrées en apprentissage automatique.\n",
    "\n",
    "### Objectifs d'apprentissage\n",
    "\n",
    "* Se familiariser avec le déséquilibre de classe grâce à des tutoriels de codage dans cet article.\n",
    "* Comprendre les différentes techniques pour gérer les données déséquilibrées, telles que le **sous-échantillonnage aléatoire**, le **sur-échantillonnage aléatoire** et la méthode **NearMiss**.\n",
    "\n",
    "## Table des matières\n",
    "\n",
    "1. Le problème avec le déséquilibre de classe en apprentissage automatique\n",
    "2. Exemple de détection de fraude par carte de crédit\n",
    "3. Le piège de la métrique\n",
    "4. Techniques de rééchantillonnage pour résoudre le déséquilibre de classe\n",
    "5. Comment équilibrer les données avec le module Imbalanced-Learn Python ?\n",
    "6. Avantages et inconvénients du sous-échantillonnage\n",
    "7. Avantages et inconvénients du sur-échantillonnage\n",
    "8. Conclusion\n",
    "9. Foire aux questions\n",
    "    * Q1. Comment échantillonner des données déséquilibrées en Python ?\n",
    "    * Q2. Quel est le ratio des classes dans les données ? Comment savoir si les données sont équilibrées ou non ?\n",
    "    * Q3. Comment classifier des données déséquilibrées ?"
   ]
  },
  {
   "attachments": {},
   "cell_type": "markdown",
   "metadata": {},
   "source": [
    "## 1\\. Le problème de déséquilibre de classe en apprentissage automatique\n",
    "\n",
    "La plupart des algorithmes d'apprentissage automatique fonctionnent mieux lorsque le nombre d'échantillons dans chaque classe est à peu près égal. Cela est dû au fait que la plupart des algorithmes sont conçus pour maximiser l'exactitude et réduire les erreurs.\n",
    "\n",
    "Cependant, si le jeu de données présente des classes déséquilibrées, alors dans de tels cas, vous obtenez une précision assez élevée simplement en prédisant la classe majoritaire, mais vous n'arrivez pas à capturer la classe minoritaire, qui est souvent l'objectif principal de la création du modèle. Par exemple, si la répartition des classes montre que 99% des données ont la classe majoritaire, alors tout modèle de classification de base comme la régression logistique ou l'arbre de décision ne pourra pas identifier les points de données de la classe minoritaire.\n",
    "\n",
    "## 2\\. Exemple de détection de fraude à la carte de crédit\n",
    "\n",
    "Références :\n",
    "* https://www.kaggle.com/datasets/mlg-ulb/creditcardfraud\n",
    "\n",
    "Disons que nous disposons d'un [**ensemble de données**](https://www.kaggle.com/datasets/mlg-ulb/creditcardfraud) de sociétés de cartes de crédit où nous devons déterminer si la transaction par carte de crédit était frauduleuse ou non.\n",
    "\n",
    "Mais voici le hic... les transactions frauduleuses sont relativement rares. Seuls 6% des transactions sont frauduleuses.\n",
    "\n",
    "Maintenant, avant même de commencer, voyez-vous comment le problème pourrait se résoudre ? Imaginez que vous ne vous donniez pas la peine de former un modèle du tout. Au lieu de cela, que se passerait-il si vous écriviez simplement une seule ligne de code qui prédit toujours \"pas de transaction frauduleuse\".\n",
    "\n",
    "```python\n",
    "def transaction(transaction_data):\n",
    "    return 'No fradulent transaction'\n",
    "```\n",
    "\n",
    "Eh bien, devinez quoi? Votre \"solution\" aurait une précision de 94%!\n",
    "\n",
    "Malheureusement, cette précision est trompeuse.\n",
    "* Pour toutes ces transactions **non frauduleuses**, vous auriez une précision de 100%.\n",
    "* Pour les transactions qui sont **frauduleuses**, vous auriez une précision de 0%.\n",
    "* Votre **précision globale serait élevée** simplement parce que la plupart des transactions ne sont pas frauduleuses (non pas parce que votre modèle est bon).\n",
    "\n",
    "C'est clairement un problème car de nombreux algorithmes d'apprentissage automatique sont conçus pour maximiser la précision globale. Dans cet article, nous verrons différentes techniques pour gérer les données déséquilibrées.\n",
    "\n",
    "### Ensemble de données d'exemple\n",
    "\n",
    "Nous utiliserons un ensemble de données de détection de fraude de carte de crédit pour cet article. Vous pouvez trouver l'ensemble de données ici.\n",
    "\n",
    "Après avoir chargé les données, affichez les cinq premières lignes de l'ensemble de données.\n",
    "\n",
    "Vous pouvez clairement voir qu'il y a une énorme différence entre l'ensemble de données. 9000 transactions non frauduleuses et 492 frauduleuses."
   ]
  },
  {
   "cell_type": "code",
   "execution_count": 2,
   "metadata": {},
   "outputs": [
    {
     "data": {
      "text/html": [
       "<div>\n",
       "<style scoped>\n",
       "    .dataframe tbody tr th:only-of-type {\n",
       "        vertical-align: middle;\n",
       "    }\n",
       "\n",
       "    .dataframe tbody tr th {\n",
       "        vertical-align: top;\n",
       "    }\n",
       "\n",
       "    .dataframe thead th {\n",
       "        text-align: right;\n",
       "    }\n",
       "</style>\n",
       "<table border=\"1\" class=\"dataframe\">\n",
       "  <thead>\n",
       "    <tr style=\"text-align: right;\">\n",
       "      <th></th>\n",
       "      <th>Time</th>\n",
       "      <th>V1</th>\n",
       "      <th>V2</th>\n",
       "      <th>V3</th>\n",
       "      <th>V4</th>\n",
       "      <th>V5</th>\n",
       "      <th>V6</th>\n",
       "      <th>V7</th>\n",
       "      <th>V8</th>\n",
       "      <th>V9</th>\n",
       "      <th>...</th>\n",
       "      <th>V21</th>\n",
       "      <th>V22</th>\n",
       "      <th>V23</th>\n",
       "      <th>V24</th>\n",
       "      <th>V25</th>\n",
       "      <th>V26</th>\n",
       "      <th>V27</th>\n",
       "      <th>V28</th>\n",
       "      <th>Amount</th>\n",
       "      <th>Class</th>\n",
       "    </tr>\n",
       "  </thead>\n",
       "  <tbody>\n",
       "    <tr>\n",
       "      <th>0</th>\n",
       "      <td>0.0</td>\n",
       "      <td>-1.359807</td>\n",
       "      <td>-0.072781</td>\n",
       "      <td>2.536347</td>\n",
       "      <td>1.378155</td>\n",
       "      <td>-0.338321</td>\n",
       "      <td>0.462388</td>\n",
       "      <td>0.239599</td>\n",
       "      <td>0.098698</td>\n",
       "      <td>0.363787</td>\n",
       "      <td>...</td>\n",
       "      <td>-0.018307</td>\n",
       "      <td>0.277838</td>\n",
       "      <td>-0.110474</td>\n",
       "      <td>0.066928</td>\n",
       "      <td>0.128539</td>\n",
       "      <td>-0.189115</td>\n",
       "      <td>0.133558</td>\n",
       "      <td>-0.021053</td>\n",
       "      <td>149.62</td>\n",
       "      <td>0</td>\n",
       "    </tr>\n",
       "    <tr>\n",
       "      <th>1</th>\n",
       "      <td>0.0</td>\n",
       "      <td>1.191857</td>\n",
       "      <td>0.266151</td>\n",
       "      <td>0.166480</td>\n",
       "      <td>0.448154</td>\n",
       "      <td>0.060018</td>\n",
       "      <td>-0.082361</td>\n",
       "      <td>-0.078803</td>\n",
       "      <td>0.085102</td>\n",
       "      <td>-0.255425</td>\n",
       "      <td>...</td>\n",
       "      <td>-0.225775</td>\n",
       "      <td>-0.638672</td>\n",
       "      <td>0.101288</td>\n",
       "      <td>-0.339846</td>\n",
       "      <td>0.167170</td>\n",
       "      <td>0.125895</td>\n",
       "      <td>-0.008983</td>\n",
       "      <td>0.014724</td>\n",
       "      <td>2.69</td>\n",
       "      <td>0</td>\n",
       "    </tr>\n",
       "    <tr>\n",
       "      <th>2</th>\n",
       "      <td>1.0</td>\n",
       "      <td>-1.358354</td>\n",
       "      <td>-1.340163</td>\n",
       "      <td>1.773209</td>\n",
       "      <td>0.379780</td>\n",
       "      <td>-0.503198</td>\n",
       "      <td>1.800499</td>\n",
       "      <td>0.791461</td>\n",
       "      <td>0.247676</td>\n",
       "      <td>-1.514654</td>\n",
       "      <td>...</td>\n",
       "      <td>0.247998</td>\n",
       "      <td>0.771679</td>\n",
       "      <td>0.909412</td>\n",
       "      <td>-0.689281</td>\n",
       "      <td>-0.327642</td>\n",
       "      <td>-0.139097</td>\n",
       "      <td>-0.055353</td>\n",
       "      <td>-0.059752</td>\n",
       "      <td>378.66</td>\n",
       "      <td>0</td>\n",
       "    </tr>\n",
       "    <tr>\n",
       "      <th>3</th>\n",
       "      <td>1.0</td>\n",
       "      <td>-0.966272</td>\n",
       "      <td>-0.185226</td>\n",
       "      <td>1.792993</td>\n",
       "      <td>-0.863291</td>\n",
       "      <td>-0.010309</td>\n",
       "      <td>1.247203</td>\n",
       "      <td>0.237609</td>\n",
       "      <td>0.377436</td>\n",
       "      <td>-1.387024</td>\n",
       "      <td>...</td>\n",
       "      <td>-0.108300</td>\n",
       "      <td>0.005274</td>\n",
       "      <td>-0.190321</td>\n",
       "      <td>-1.175575</td>\n",
       "      <td>0.647376</td>\n",
       "      <td>-0.221929</td>\n",
       "      <td>0.062723</td>\n",
       "      <td>0.061458</td>\n",
       "      <td>123.50</td>\n",
       "      <td>0</td>\n",
       "    </tr>\n",
       "    <tr>\n",
       "      <th>4</th>\n",
       "      <td>2.0</td>\n",
       "      <td>-1.158233</td>\n",
       "      <td>0.877737</td>\n",
       "      <td>1.548718</td>\n",
       "      <td>0.403034</td>\n",
       "      <td>-0.407193</td>\n",
       "      <td>0.095921</td>\n",
       "      <td>0.592941</td>\n",
       "      <td>-0.270533</td>\n",
       "      <td>0.817739</td>\n",
       "      <td>...</td>\n",
       "      <td>-0.009431</td>\n",
       "      <td>0.798278</td>\n",
       "      <td>-0.137458</td>\n",
       "      <td>0.141267</td>\n",
       "      <td>-0.206010</td>\n",
       "      <td>0.502292</td>\n",
       "      <td>0.219422</td>\n",
       "      <td>0.215153</td>\n",
       "      <td>69.99</td>\n",
       "      <td>0</td>\n",
       "    </tr>\n",
       "    <tr>\n",
       "      <th>...</th>\n",
       "      <td>...</td>\n",
       "      <td>...</td>\n",
       "      <td>...</td>\n",
       "      <td>...</td>\n",
       "      <td>...</td>\n",
       "      <td>...</td>\n",
       "      <td>...</td>\n",
       "      <td>...</td>\n",
       "      <td>...</td>\n",
       "      <td>...</td>\n",
       "      <td>...</td>\n",
       "      <td>...</td>\n",
       "      <td>...</td>\n",
       "      <td>...</td>\n",
       "      <td>...</td>\n",
       "      <td>...</td>\n",
       "      <td>...</td>\n",
       "      <td>...</td>\n",
       "      <td>...</td>\n",
       "      <td>...</td>\n",
       "      <td>...</td>\n",
       "    </tr>\n",
       "    <tr>\n",
       "      <th>284802</th>\n",
       "      <td>172786.0</td>\n",
       "      <td>-11.881118</td>\n",
       "      <td>10.071785</td>\n",
       "      <td>-9.834783</td>\n",
       "      <td>-2.066656</td>\n",
       "      <td>-5.364473</td>\n",
       "      <td>-2.606837</td>\n",
       "      <td>-4.918215</td>\n",
       "      <td>7.305334</td>\n",
       "      <td>1.914428</td>\n",
       "      <td>...</td>\n",
       "      <td>0.213454</td>\n",
       "      <td>0.111864</td>\n",
       "      <td>1.014480</td>\n",
       "      <td>-0.509348</td>\n",
       "      <td>1.436807</td>\n",
       "      <td>0.250034</td>\n",
       "      <td>0.943651</td>\n",
       "      <td>0.823731</td>\n",
       "      <td>0.77</td>\n",
       "      <td>0</td>\n",
       "    </tr>\n",
       "    <tr>\n",
       "      <th>284803</th>\n",
       "      <td>172787.0</td>\n",
       "      <td>-0.732789</td>\n",
       "      <td>-0.055080</td>\n",
       "      <td>2.035030</td>\n",
       "      <td>-0.738589</td>\n",
       "      <td>0.868229</td>\n",
       "      <td>1.058415</td>\n",
       "      <td>0.024330</td>\n",
       "      <td>0.294869</td>\n",
       "      <td>0.584800</td>\n",
       "      <td>...</td>\n",
       "      <td>0.214205</td>\n",
       "      <td>0.924384</td>\n",
       "      <td>0.012463</td>\n",
       "      <td>-1.016226</td>\n",
       "      <td>-0.606624</td>\n",
       "      <td>-0.395255</td>\n",
       "      <td>0.068472</td>\n",
       "      <td>-0.053527</td>\n",
       "      <td>24.79</td>\n",
       "      <td>0</td>\n",
       "    </tr>\n",
       "    <tr>\n",
       "      <th>284804</th>\n",
       "      <td>172788.0</td>\n",
       "      <td>1.919565</td>\n",
       "      <td>-0.301254</td>\n",
       "      <td>-3.249640</td>\n",
       "      <td>-0.557828</td>\n",
       "      <td>2.630515</td>\n",
       "      <td>3.031260</td>\n",
       "      <td>-0.296827</td>\n",
       "      <td>0.708417</td>\n",
       "      <td>0.432454</td>\n",
       "      <td>...</td>\n",
       "      <td>0.232045</td>\n",
       "      <td>0.578229</td>\n",
       "      <td>-0.037501</td>\n",
       "      <td>0.640134</td>\n",
       "      <td>0.265745</td>\n",
       "      <td>-0.087371</td>\n",
       "      <td>0.004455</td>\n",
       "      <td>-0.026561</td>\n",
       "      <td>67.88</td>\n",
       "      <td>0</td>\n",
       "    </tr>\n",
       "    <tr>\n",
       "      <th>284805</th>\n",
       "      <td>172788.0</td>\n",
       "      <td>-0.240440</td>\n",
       "      <td>0.530483</td>\n",
       "      <td>0.702510</td>\n",
       "      <td>0.689799</td>\n",
       "      <td>-0.377961</td>\n",
       "      <td>0.623708</td>\n",
       "      <td>-0.686180</td>\n",
       "      <td>0.679145</td>\n",
       "      <td>0.392087</td>\n",
       "      <td>...</td>\n",
       "      <td>0.265245</td>\n",
       "      <td>0.800049</td>\n",
       "      <td>-0.163298</td>\n",
       "      <td>0.123205</td>\n",
       "      <td>-0.569159</td>\n",
       "      <td>0.546668</td>\n",
       "      <td>0.108821</td>\n",
       "      <td>0.104533</td>\n",
       "      <td>10.00</td>\n",
       "      <td>0</td>\n",
       "    </tr>\n",
       "    <tr>\n",
       "      <th>284806</th>\n",
       "      <td>172792.0</td>\n",
       "      <td>-0.533413</td>\n",
       "      <td>-0.189733</td>\n",
       "      <td>0.703337</td>\n",
       "      <td>-0.506271</td>\n",
       "      <td>-0.012546</td>\n",
       "      <td>-0.649617</td>\n",
       "      <td>1.577006</td>\n",
       "      <td>-0.414650</td>\n",
       "      <td>0.486180</td>\n",
       "      <td>...</td>\n",
       "      <td>0.261057</td>\n",
       "      <td>0.643078</td>\n",
       "      <td>0.376777</td>\n",
       "      <td>0.008797</td>\n",
       "      <td>-0.473649</td>\n",
       "      <td>-0.818267</td>\n",
       "      <td>-0.002415</td>\n",
       "      <td>0.013649</td>\n",
       "      <td>217.00</td>\n",
       "      <td>0</td>\n",
       "    </tr>\n",
       "  </tbody>\n",
       "</table>\n",
       "<p>284807 rows × 31 columns</p>\n",
       "</div>"
      ],
      "text/plain": [
       "            Time         V1         V2        V3        V4        V5   \n",
       "0            0.0  -1.359807  -0.072781  2.536347  1.378155 -0.338321  \\\n",
       "1            0.0   1.191857   0.266151  0.166480  0.448154  0.060018   \n",
       "2            1.0  -1.358354  -1.340163  1.773209  0.379780 -0.503198   \n",
       "3            1.0  -0.966272  -0.185226  1.792993 -0.863291 -0.010309   \n",
       "4            2.0  -1.158233   0.877737  1.548718  0.403034 -0.407193   \n",
       "...          ...        ...        ...       ...       ...       ...   \n",
       "284802  172786.0 -11.881118  10.071785 -9.834783 -2.066656 -5.364473   \n",
       "284803  172787.0  -0.732789  -0.055080  2.035030 -0.738589  0.868229   \n",
       "284804  172788.0   1.919565  -0.301254 -3.249640 -0.557828  2.630515   \n",
       "284805  172788.0  -0.240440   0.530483  0.702510  0.689799 -0.377961   \n",
       "284806  172792.0  -0.533413  -0.189733  0.703337 -0.506271 -0.012546   \n",
       "\n",
       "              V6        V7        V8        V9  ...       V21       V22   \n",
       "0       0.462388  0.239599  0.098698  0.363787  ... -0.018307  0.277838  \\\n",
       "1      -0.082361 -0.078803  0.085102 -0.255425  ... -0.225775 -0.638672   \n",
       "2       1.800499  0.791461  0.247676 -1.514654  ...  0.247998  0.771679   \n",
       "3       1.247203  0.237609  0.377436 -1.387024  ... -0.108300  0.005274   \n",
       "4       0.095921  0.592941 -0.270533  0.817739  ... -0.009431  0.798278   \n",
       "...          ...       ...       ...       ...  ...       ...       ...   \n",
       "284802 -2.606837 -4.918215  7.305334  1.914428  ...  0.213454  0.111864   \n",
       "284803  1.058415  0.024330  0.294869  0.584800  ...  0.214205  0.924384   \n",
       "284804  3.031260 -0.296827  0.708417  0.432454  ...  0.232045  0.578229   \n",
       "284805  0.623708 -0.686180  0.679145  0.392087  ...  0.265245  0.800049   \n",
       "284806 -0.649617  1.577006 -0.414650  0.486180  ...  0.261057  0.643078   \n",
       "\n",
       "             V23       V24       V25       V26       V27       V28  Amount   \n",
       "0      -0.110474  0.066928  0.128539 -0.189115  0.133558 -0.021053  149.62  \\\n",
       "1       0.101288 -0.339846  0.167170  0.125895 -0.008983  0.014724    2.69   \n",
       "2       0.909412 -0.689281 -0.327642 -0.139097 -0.055353 -0.059752  378.66   \n",
       "3      -0.190321 -1.175575  0.647376 -0.221929  0.062723  0.061458  123.50   \n",
       "4      -0.137458  0.141267 -0.206010  0.502292  0.219422  0.215153   69.99   \n",
       "...          ...       ...       ...       ...       ...       ...     ...   \n",
       "284802  1.014480 -0.509348  1.436807  0.250034  0.943651  0.823731    0.77   \n",
       "284803  0.012463 -1.016226 -0.606624 -0.395255  0.068472 -0.053527   24.79   \n",
       "284804 -0.037501  0.640134  0.265745 -0.087371  0.004455 -0.026561   67.88   \n",
       "284805 -0.163298  0.123205 -0.569159  0.546668  0.108821  0.104533   10.00   \n",
       "284806  0.376777  0.008797 -0.473649 -0.818267 -0.002415  0.013649  217.00   \n",
       "\n",
       "        Class  \n",
       "0           0  \n",
       "1           0  \n",
       "2           0  \n",
       "3           0  \n",
       "4           0  \n",
       "...       ...  \n",
       "284802      0  \n",
       "284803      0  \n",
       "284804      0  \n",
       "284805      0  \n",
       "284806      0  \n",
       "\n",
       "[284807 rows x 31 columns]"
      ]
     },
     "metadata": {},
     "output_type": "display_data"
    },
    {
     "data": {
      "text/plain": [
       "Class\n",
       "0    284315\n",
       "1       492\n",
       "Name: count, dtype: int64"
      ]
     },
     "metadata": {},
     "output_type": "display_data"
    },
    {
     "data": {
      "image/png": "[encoded data removed]",
      "text/plain": [
       "<Figure size 640x480 with 1 Axes>"
      ]
     },
     "metadata": {},
     "output_type": "display_data"
    }
   ],
   "source": [
    "import pandas as pd\n",
    "import seaborn as sns\n",
    "import matplotlib.pyplot as plt\n",
    "\n",
    "data = pd.read_csv('creditcard.csv')\n",
    "display(data)\n",
    "display(data.Class.value_counts())\n",
    "\n",
    "g = sns.countplot(x=data.Class)\n",
    "g.set_xticklabels(['Not Fraud', 'Fraud'])\n",
    "plt.show()"
   ]
  },
  {
   "attachments": {},
   "cell_type": "markdown",
   "metadata": {},
   "source": [
    "## 3\\. Le piège des métriques\n",
    "\n",
    "L'un des principaux problèmes auxquels les nouveaux utilisateurs de développeurs sont confrontés lorsqu'ils traitent des ensembles de données déséquilibrés concerne les métriques d'évaluation utilisées pour évaluer leur modèle d'apprentissage automatique. L'utilisation de métriques simples telles que le **score de précision** peut être trompeuse. Dans un ensemble de données avec des classes très déséquilibrées, le classificateur prédira toujours la classe la plus courante sans effectuer d'analyse des caractéristiques, et il aura un taux de précision élevé, mais ce ne sera évidemment pas le bon.\n",
    "\n",
    "Prenons l'exemple de l'expérience en utilisant simplement `XGBClassifier` et sans ingénierie de caractéristiques:"
   ]
  },
  {
   "cell_type": "code",
   "execution_count": 2,
   "metadata": {},
   "outputs": [
    {
     "name": "stdout",
     "output_type": "stream",
     "text": [
      "Collecting xgboost\n",
      "  Downloading xgboost-1.7.5-py3-none-win_amd64.whl (70.9 MB)\n",
      "     ---------------------------------------- 0.0/70.9 MB ? eta -:--:--\n",
      "     ---------------------------------------- 0.6/70.9 MB 12.2 MB/s eta 0:00:06\n",
      "     - -------------------------------------- 2.8/70.9 MB 30.1 MB/s eta 0:00:03\n",
      "     --- ------------------------------------ 5.4/70.9 MB 43.5 MB/s eta 0:00:02\n",
      "     ----- ---------------------------------- 9.0/70.9 MB 52.6 MB/s eta 0:00:02\n",
      "     ------ -------------------------------- 11.8/70.9 MB 65.6 MB/s eta 0:00:01\n",
      "     -------- ------------------------------ 15.2/70.9 MB 73.1 MB/s eta 0:00:01\n",
      "     --------- ----------------------------- 18.0/70.9 MB 65.6 MB/s eta 0:00:01\n",
      "     ----------- --------------------------- 21.5/70.9 MB 72.6 MB/s eta 0:00:01\n",
      "     ------------- ------------------------- 24.5/70.9 MB 65.6 MB/s eta 0:00:01\n",
      "     --------------- ----------------------- 27.5/70.9 MB 65.2 MB/s eta 0:00:01\n",
      "     ---------------- ---------------------- 30.7/70.9 MB 65.2 MB/s eta 0:00:01\n",
      "     ------------------ -------------------- 33.9/70.9 MB 65.6 MB/s eta 0:00:01\n",
      "     -------------------- ------------------ 36.8/70.9 MB 65.6 MB/s eta 0:00:01\n",
      "     --------------------- ----------------- 38.4/70.9 MB 59.5 MB/s eta 0:00:01\n",
      "     ---------------------- ---------------- 41.4/70.9 MB 54.7 MB/s eta 0:00:01\n",
      "     ------------------------ -------------- 45.3/70.9 MB 59.5 MB/s eta 0:00:01\n",
      "     -------------------------- ------------ 48.4/70.9 MB 72.6 MB/s eta 0:00:01\n",
      "     ---------------------------- ---------- 51.8/70.9 MB 72.6 MB/s eta 0:00:01\n",
      "     ------------------------------ -------- 55.1/70.9 MB 72.6 MB/s eta 0:00:01\n",
      "     -------------------------------- ------ 58.4/70.9 MB 73.1 MB/s eta 0:00:01\n",
      "     --------------------------------- ----- 61.6/70.9 MB 65.6 MB/s eta 0:00:01\n",
      "     ----------------------------------- --- 64.3/70.9 MB 72.6 MB/s eta 0:00:01\n",
      "     ------------------------------------- - 67.6/70.9 MB 65.6 MB/s eta 0:00:01\n",
      "     --------------------------------------  70.3/70.9 MB 59.5 MB/s eta 0:00:01\n",
      "     --------------------------------------  70.9/70.9 MB 65.6 MB/s eta 0:00:01\n",
      "     --------------------------------------  70.9/70.9 MB 65.6 MB/s eta 0:00:01\n",
      "     --------------------------------------  70.9/70.9 MB 65.6 MB/s eta 0:00:01\n",
      "     --------------------------------------- 70.9/70.9 MB 27.3 MB/s eta 0:00:00\n",
      "Requirement already satisfied: numpy in c:\\users\\franc\\appdata\\local\\programs\\python\\python311\\lib\\site-packages (from xgboost) (1.24.2)\n",
      "Requirement already satisfied: scipy in c:\\users\\franc\\appdata\\local\\programs\\python\\python311\\lib\\site-packages (from xgboost) (1.10.1)\n",
      "Installing collected packages: xgboost\n",
      "Successfully installed xgboost-1.7.5\n",
      "Note: you may need to restart the kernel to use updated packages.\n"
     ]
    }
   ],
   "source": [
    "%pip install xgboost"
   ]
  },
  {
   "cell_type": "code",
   "execution_count": 3,
   "metadata": {},
   "outputs": [
    {
     "name": "stdout",
     "output_type": "stream",
     "text": [
      "(284807, 31)\n"
     ]
    },
    {
     "data": {
      "text/plain": [
       "array([[ 0.00000000e+00, -1.35980713e+00, -7.27811733e-02, ...,\n",
       "        -2.10530535e-02,  1.49620000e+02,  0.00000000e+00],\n",
       "       [ 0.00000000e+00,  1.19185711e+00,  2.66150712e-01, ...,\n",
       "         1.47241692e-02,  2.69000000e+00,  0.00000000e+00],\n",
       "       [ 1.00000000e+00, -1.35835406e+00, -1.34016307e+00, ...,\n",
       "        -5.97518406e-02,  3.78660000e+02,  0.00000000e+00],\n",
       "       ...,\n",
       "       [ 1.72788000e+05,  1.91956501e+00, -3.01253846e-01, ...,\n",
       "        -2.65608286e-02,  6.78800000e+01,  0.00000000e+00],\n",
       "       [ 1.72788000e+05, -2.40440050e-01,  5.30482513e-01, ...,\n",
       "         1.04532821e-01,  1.00000000e+01,  0.00000000e+00],\n",
       "       [ 1.72792000e+05, -5.33412522e-01, -1.89733337e-01, ...,\n",
       "         1.36489143e-02,  2.17000000e+02,  0.00000000e+00]])"
      ]
     },
     "metadata": {},
     "output_type": "display_data"
    },
    {
     "data": {
      "text/plain": [
       "(190820, 30)"
      ]
     },
     "metadata": {},
     "output_type": "display_data"
    }
   ],
   "source": [
    "X_y = data.values\n",
    "print(X_y.shape)\n",
    "display(X_y)\n",
    "X = X_y[:, :-1]\n",
    "y = X_y[:, -1]\n",
    "\n",
    "from sklearn.model_selection import train_test_split as tts\n",
    "X_train, X_test, y_train, y_test = tts(X, y, test_size=.33, random_state=42)\n",
    "display(X_train.shape)"
   ]
  },
  {
   "cell_type": "code",
   "execution_count": 4,
   "metadata": {},
   "outputs": [
    {
     "name": "stdout",
     "output_type": "stream",
     "text": [
      "Accuracy score is: 0.9996488876121166\n",
      "Balanced accuracy score is: 0.9764186672295678\n"
     ]
    }
   ],
   "source": [
    "# Import libraries\n",
    "from xgboost import XGBClassifier\n",
    "from sklearn.metrics import accuracy_score, balanced_accuracy_score\n",
    "\n",
    "# Train\n",
    "xgb_model = XGBClassifier().fit(X_train, y_train)\n",
    "\n",
    "# Predict\n",
    "xgb_y_predict = xgb_model.predict(X_test)\n",
    "\n",
    "# Accuracy and balanced acurracy scores\n",
    "xgb_score = accuracy_score(xgb_y_predict, y_test)\n",
    "xgb_balanced_score = balanced_accuracy_score(xgb_y_predict, y_test)\n",
    "\n",
    "print('Accuracy score is:', xgb_score)\n",
    "# :: Accuracy score is: 0.992\n",
    "\n",
    "print('Balanced accuracy score is:', xgb_balanced_score)\n",
    "# :: Accuracy score is: 0.992"
   ]
  },
  {
   "attachments": {},
   "cell_type": "markdown",
   "metadata": {},
   "source": [
    "Nous pouvons voir une précision de 99%, nous obtenons une précision très élevée car il prédit principalement la classe majoritaire qui est 0 (non frauduleux).\n",
    "\n",
    "## 4\\. Techniques de rééchantillonnage pour résoudre le déséquilibre des classes\n",
    "\n",
    "L'une des techniques de traitement de déséquilibre de classe largement adoptées pour traiter les ensembles de données fortement déséquilibrés s'appelle le rééchantillonnage. Il consiste à supprimer des échantillons de la classe majoritaire (sous-échantillonnage) et/ou à ajouter plus d'exemples de la classe minoritaire (sur-échantillonnage).\n",
    "\n",
    "![](https://av-eks-blogoptimized.s3.amazonaws.com/1*H6XodlitlGDl9YdbwaZLMw.png)\n",
    "\n",
    "Malgré l'avantage de l'équilibrage des classes, ces techniques ont également leurs faiblesses (il n'y a pas de repas gratuit).\n",
    "\n",
    "La mise en œuvre la plus simple de la sur-échantillonnage consiste à dupliquer des enregistrements aléatoires de la classe minoritaire, ce qui peut causer une suradaptation.\n",
    "\n",
    "Dans le sous-échantillonnage, la technique la plus simple consiste à supprimer des enregistrements aléatoires de la classe majoritaire, ce qui peut causer une perte d'informations.\n",
    "\n",
    "Implémentons cela avec l'exemple de la détection de fraude par carte de crédit.\n",
    "\n",
    "Nous commencerons par séparer la classe qui sera 0 et la classe 1."
   ]
  },
  {
   "cell_type": "code",
   "execution_count": 5,
   "metadata": {},
   "outputs": [
    {
     "name": "stdout",
     "output_type": "stream",
     "text": [
      "class 0: (284315, 31)\n",
      "class 1: (492, 31)\n"
     ]
    }
   ],
   "source": [
    "# Class count\n",
    "class_count_0, class_count_1 = data.Class.value_counts()\n",
    "\n",
    "# Separate class\n",
    "class_0 = data[data.Class == 0]\n",
    "class_1 = data[data.Class == 1]\n",
    "\n",
    "# print the shape of the class\n",
    "print('class 0:', class_0.shape)\n",
    "print('class 1:', class_1.shape)"
   ]
  },
  {
   "attachments": {},
   "cell_type": "markdown",
   "metadata": {},
   "source": [
    "### Sous-échantillonnage aléatoire\n",
    "\n",
    "Le sous-échantillonnage peut être défini comme la suppression de certaines observations de la classe majoritaire. Cela se fait jusqu'à ce que la classe majoritaire et minoritaire soient équilibrées.\n",
    "\n",
    "Le sous-échantillonnage peut être un bon choix lorsque vous avez une tonne de données - pensez à des millions de lignes. Mais un inconvénient du sous-échantillonnage est que nous supprimons des informations qui peuvent être précieuses."
   ]
  },
  {
   "cell_type": "code",
   "execution_count": 6,
   "metadata": {},
   "outputs": [
    {
     "name": "stdout",
     "output_type": "stream",
     "text": [
      "total class of 1 and 0:\n"
     ]
    },
    {
     "data": {
      "text/plain": [
       "Class\n",
       "0    492\n",
       "1    492\n",
       "Name: count, dtype: int64"
      ]
     },
     "metadata": {},
     "output_type": "display_data"
    },
    {
     "data": {
      "image/png": "[encoded data removed]",
      "text/plain": [
       "<Figure size 640x480 with 1 Axes>"
      ]
     },
     "metadata": {},
     "output_type": "display_data"
    }
   ],
   "source": [
    "class_0_under = class_0.sample(class_count_1)\n",
    "\n",
    "test_under = pd.concat([class_0_under, class_1], axis=0)\n",
    "\n",
    "print(\"total class of 1 and 0:\")\n",
    "display(test_under.Class.value_counts())\n",
    "\n",
    "# Plot the count after under-sampeling\n",
    "test_under.Class.value_counts().plot(kind='bar', title='count (target)');"
   ]
  },
  {
   "attachments": {},
   "cell_type": "markdown",
   "metadata": {},
   "source": [
    "### Sur-échantillonnage aléatoire\n",
    "\n",
    "La sur-échantillonnage peut être définie comme l'ajout de plus de copies à la classe minoritaire. La sur-échantillonnage peut être un bon choix lorsque vous n'avez pas beaucoup de données à travailler.\n",
    "\n",
    "Un inconvénient à considérer lors de la sous-échantillonnage est qu'elle peut causer une suradaptation et une mauvaise généralisation à votre ensemble de test."
   ]
  },
  {
   "cell_type": "code",
   "execution_count": 7,
   "metadata": {},
   "outputs": [
    {
     "name": "stdout",
     "output_type": "stream",
     "text": [
      "total class of 1 and 0:\n"
     ]
    },
    {
     "data": {
      "text/plain": [
       "Class\n",
       "0    492\n",
       "1    492\n",
       "Name: count, dtype: int64"
      ]
     },
     "metadata": {},
     "output_type": "display_data"
    },
    {
     "data": {
      "image/png": "[encoded data removed]",
      "text/plain": [
       "<Figure size 640x480 with 1 Axes>"
      ]
     },
     "metadata": {},
     "output_type": "display_data"
    }
   ],
   "source": [
    "class_1_over = class_1.sample(class_count_0, replace=True)\n",
    "\n",
    "test_over = pd.concat([class_1_over, class_0], axis=0)\n",
    "\n",
    "print(\"total class of 1 and 0:\")\n",
    "display(test_under.Class.value_counts())\n",
    "\n",
    "# Plot the count after under-sampeling\n",
    "test_over.Class.value_counts().plot(kind='bar', title='count (target)');"
   ]
  },
  {
   "attachments": {},
   "cell_type": "markdown",
   "metadata": {},
   "source": [
    "## 5\\. Comment équilibrer des données avec le module Python Imbalanced-Learn ?\n",
    "\n",
    "Références :\n",
    "* https://imbalanced-learn.org/stable/install.html\n",
    "* https://imbalanced-learn.org/stable/introduction.html\n",
    "* https://imbalanced-learn.org/stable/references/index.html\n",
    "* https://imbalanced-learn.org/stable/auto_examples/index.html#general-examples\n",
    "\n",
    "Un certain nombre de techniques de rééchantillonnage plus sophistiquées ont été proposées dans la littérature scientifique.\n",
    "\n",
    "Par exemple, nous pouvons regrouper les enregistrements de la classe majoritaire et effectuer un sous-échantillonnage en supprimant des enregistrements de chaque cluster, cherchant ainsi à préserver les informations. Dans le suréchantillonnage, au lieu de créer des copies exactes des enregistrements de la classe minoritaire, nous pouvons introduire de légères variations dans ces copies, créant ainsi des échantillons synthétiques plus diversifiés.\n",
    "\n",
    "**Appliquons quelques-unes de ces techniques de rééchantillonnage** en utilisant la bibliothèque Python [**`imbalanced-learn`**](https://imbalanced-learn.org/stable/). Elle est compatible avec scikit-learn et fait partie des projets scikit-learn-contrib."
   ]
  },
  {
   "cell_type": "code",
   "execution_count": 27,
   "metadata": {},
   "outputs": [
    {
     "name": "stdout",
     "output_type": "stream",
     "text": [
      "Collecting imbalanced-learnNote: you may need to restart the kernel to use updated packages.\n",
      "\n",
      "  Downloading imbalanced_learn-0.10.1-py3-none-any.whl (226 kB)\n",
      "     ---------------------------------------- 0.0/226.0 kB ? eta -:--:--\n",
      "     -------------------------------------- 226.0/226.0 kB 4.6 MB/s eta 0:00:00\n",
      "Requirement already satisfied: numpy>=1.17.3 in c:\\users\\franc\\appdata\\local\\programs\\python\\python311\\lib\\site-packages (from imbalanced-learn) (1.24.2)\n",
      "Requirement already satisfied: scipy>=1.3.2 in c:\\users\\franc\\appdata\\local\\programs\\python\\python311\\lib\\site-packages (from imbalanced-learn) (1.10.1)\n",
      "Requirement already satisfied: scikit-learn>=1.0.2 in c:\\users\\franc\\appdata\\local\\programs\\python\\python311\\lib\\site-packages (from imbalanced-learn) (1.2.2)\n",
      "Requirement already satisfied: joblib>=1.1.1 in c:\\users\\franc\\appdata\\local\\programs\\python\\python311\\lib\\site-packages (from imbalanced-learn) (1.2.0)\n",
      "Requirement already satisfied: threadpoolctl>=2.0.0 in c:\\users\\franc\\appdata\\local\\programs\\python\\python311\\lib\\site-packages (from imbalanced-learn) (3.1.0)\n",
      "Installing collected packages: imbalanced-learn\n",
      "Successfully installed imbalanced-learn-0.10.1\n"
     ]
    }
   ],
   "source": [
    "%pip install -U imbalanced-learn"
   ]
  },
  {
   "attachments": {},
   "cell_type": "markdown",
   "metadata": {},
   "source": [
    "```.. _getting_started:\n",
    "\n",
    "###############\n",
    "Getting Started\n",
    "###############\n",
    "\n",
    "Prerequisites\n",
    "=============\n",
    "\n",
    "You can find the complete list of the dependencies in the following table:\n",
    "\n",
    ".. include:: min_dependency_table.rst```"
   ]
  },
  {
   "cell_type": "code",
   "execution_count": 8,
   "metadata": {},
   "outputs": [],
   "source": [
    "import imblearn"
   ]
  },
  {
   "attachments": {},
   "cell_type": "markdown",
   "metadata": {},
   "source": [
    "### Sous-échantillonnage aléatoire avec Imblearn\n",
    "\n",
    "Vous avez peut-être entendu parler de pandas, numpy, matplotlib, etc. tout en apprenant la science des données. Mais il existe une autre bibliothèque : Imblearn, qui est utilisée pour échantillonner des ensembles de données déséquilibrés et améliorer les performances de votre modèle.\n",
    "\n",
    "[**`RandomUnderSampler`**](https://imbalanced-learn.org/stable/references/generated/imblearn.under_sampling.RandomUnderSampler.html?highlight=fit_resample#imblearn.under_sampling.RandomUnderSampler.fit_resample) est un moyen rapide et facile d'équilibrer les données en sélectionnant aléatoirement un sous-ensemble de données pour les classes ciblées. Sous-échantillonner les classes majoritaires en choisissant aléatoirement des échantillons avec ou sans remplacement."
   ]
  },
  {
   "cell_type": "code",
   "execution_count": 10,
   "metadata": {},
   "outputs": [
    {
     "name": "stdout",
     "output_type": "stream",
     "text": [
      "original dataset shape: Counter({0.0: 284315, 1.0: 492})\n",
      "Resample dataset shape Counter({0.0: 492, 1.0: 492})\n"
     ]
    }
   ],
   "source": [
    "from collections import Counter\n",
    "from imblearn.under_sampling import RandomUnderSampler\n",
    "\n",
    "# Fit predictor and target variable\n",
    "rus = RandomUnderSampler(random_state=42, replacement=True)\n",
    "x_rus, y_rus = rus.fit_resample(X, y)\n",
    "\n",
    "print('original dataset shape:', Counter(y))\n",
    "print('Resample dataset shape', Counter(y_rus))"
   ]
  },
  {
   "attachments": {},
   "cell_type": "markdown",
   "metadata": {},
   "source": [
    "### Sur-échantillonnage aléatoire avec Imblearn\n",
    "\n",
    "Une façon de lutter contre les données déséquilibrées consiste à **générer de nouveaux échantillons** dans les classes minoritaires. La stratégie la plus naïve est de générer de nouveaux échantillons en échantillonnant aléatoirement avec remplacement les échantillons actuellement disponibles. Le [**`RandomOverSampler`**](https://imbalanced-learn.org/stable/references/generated/imblearn.over_sampling.RandomOverSampler.html?highlight=randomoversampler#imblearn.over_sampling.RandomOverSampler.fit_resample) offre un tel schéma."
   ]
  },
  {
   "cell_type": "code",
   "execution_count": 9,
   "metadata": {},
   "outputs": [
    {
     "name": "stdout",
     "output_type": "stream",
     "text": [
      "Original dataset shape Counter({0.0: 284315, 1.0: 492})\n",
      "Resample dataset shape Counter({0.0: 284315, 1.0: 284315})\n"
     ]
    }
   ],
   "source": [
    "from collections import Counter\n",
    "from imblearn.over_sampling import RandomOverSampler\n",
    "\n",
    "ros = RandomOverSampler(random_state=42)\n",
    "\n",
    "# fit predictor and target variable\n",
    "x_ros, y_ros = ros.fit_resample(X, y)\n",
    "\n",
    "print('Original dataset shape', Counter(y))\n",
    "print('Resample dataset shape', Counter(y_ros))"
   ]
  },
  {
   "attachments": {},
   "cell_type": "markdown",
   "metadata": {},
   "source": [
    "### Sous-échantillonnage : Liens Tomek\n",
    "\n",
    "Les liens Tomek sont des paires d'instances très proches mais de classes opposées. Supprimer les instances de la classe majoritaire de chaque paire augmente l'espace entre les deux classes, facilitant le processus de classification.\n",
    "\n",
    "Le lien de Tomek existe si les deux échantillons sont les voisins les plus proches l'un de l'autre.\n",
    "\n",
    "![](https://av-eks-blogoptimized.s3.amazonaws.com/1*KxFmI15rxhvKRVl-febp-Q.png)"
   ]
  },
  {
   "attachments": {},
   "cell_type": "markdown",
   "metadata": {},
   "source": [
    "Dans le code ci-dessous, nous utiliserons `ratio='majority'` pour échantillonner la classe majoritaire.\n",
    "\n",
    "[**`TomekLinks`**](https://imbalanced-learn.org/stable/references/generated/imblearn.under_sampling.TomekLinks.html?highlight=tomeklinks#imblearn.under_sampling.TomekLinks.fit_resample)"
   ]
  },
  {
   "cell_type": "code",
   "execution_count": 11,
   "metadata": {},
   "outputs": [
    {
     "name": "stdout",
     "output_type": "stream",
     "text": [
      "Original dataset shape Counter({0.0: 284315, 1.0: 492})\n",
      "Resample dataset shape Counter({0.0: 284315, 1.0: 284315})\n"
     ]
    }
   ],
   "source": [
    "from collections import Counter\n",
    "from imblearn.under_sampling import TomekLinks\n",
    "\n",
    "tl = RandomOverSampler(sampling_strategy='majority')\n",
    "\n",
    "# fit predictor and target variable\n",
    "x_tl, y_tl = ros.fit_resample(X, y)\n",
    "\n",
    "print('Original dataset shape', Counter(y))\n",
    "print('Resample dataset shape', Counter(y_ros))"
   ]
  },
  {
   "attachments": {},
   "cell_type": "markdown",
   "metadata": {},
   "source": [
    "### Technique de suréchantillonnage synthétique de la minorité (SMOTE)\n",
    "\n",
    "Cette technique génère des données synthétiques pour la classe minoritaire.\n",
    "\n",
    "SMOTE (Synthetic Minority Oversampling Technique) fonctionne en choisissant aléatoirement un point de la classe minoritaire et en calculant les k voisins les plus proches pour ce point. Les **points synthétiques sont ajoutés** entre le point choisi et ses voisins.\n",
    "\n",
    "![](https://av-eks-blogoptimized.s3.amazonaws.com/1*yRumRhn89acByodBz0H7oA.png)\n",
    "\n",
    "**L'algorithme SMOTE** fonctionne en 4 étapes simples :\n",
    "1. Choisir une classe minoritaire comme vecteur d'entrée.\n",
    "2. Trouver ses k voisins les plus proches (`k_neighbors` est spécifié comme argument dans la fonction `SMOTE()`).\n",
    "3. Choisir l'un de ces voisins et placer un point synthétique n'importe où sur la ligne joignant le point considéré et son voisin choisi.\n",
    "4. Répéter les étapes jusqu'à ce que les données soient équilibrées."
   ]
  },
  {
   "cell_type": "code",
   "execution_count": 12,
   "metadata": {},
   "outputs": [
    {
     "name": "stdout",
     "output_type": "stream",
     "text": [
      "Original dataset shape Counter({0.0: 284315, 1.0: 492})\n",
      "Resample dataset shape Counter({0.0: 284315, 1.0: 284315})\n"
     ]
    }
   ],
   "source": [
    "from collections import Counter\n",
    "from imblearn.over_sampling import SMOTE\n",
    "\n",
    "smote = SMOTE()\n",
    "\n",
    "# fit predictor and target variable\n",
    "x_smote, y_smote = smote.fit_resample(X, y)\n",
    "\n",
    "print('Original dataset shape', Counter(y))\n",
    "print('Resample dataset shape', Counter(y_ros))"
   ]
  },
  {
   "attachments": {},
   "cell_type": "markdown",
   "metadata": {},
   "source": [
    "### NearMiss\n",
    "\n",
    "NearMiss est une technique de sous-échantillonnage. Au lieu de rééchantillonner la classe minoritaire, l'utilisation d'une distance permettra de rendre la classe majoritaire égale à la classe minoritaire."
   ]
  },
  {
   "cell_type": "code",
   "execution_count": 13,
   "metadata": {},
   "outputs": [
    {
     "name": "stdout",
     "output_type": "stream",
     "text": [
      "Original dataset shape: Counter({0.0: 284315, 1.0: 492})\n",
      "Resample dataset shape: Counter({0.0: 492, 1.0: 492})\n"
     ]
    }
   ],
   "source": [
    "from collections import Counter\n",
    "from imblearn.under_sampling import NearMiss\n",
    "\n",
    "nm = NearMiss()\n",
    "\n",
    "x_nm, y_nm = nm.fit_resample(X, y)\n",
    "\n",
    "print('Original dataset shape:', Counter(y))\n",
    "print('Resample dataset shape:', Counter(y_nm))"
   ]
  },
  {
   "attachments": {},
   "cell_type": "markdown",
   "metadata": {},
   "source": [
    "### Changer la métrique de performance\n",
    "\n",
    "La précision n'est pas la meilleure métrique à utiliser lors de l'évaluation de jeux de données déséquilibrés, car elle peut être trompeuse.\n",
    "\n",
    "Les métriques qui peuvent fournir une meilleure compréhension sont :\n",
    "* **Matrice de confusion** : un tableau montrant les prédictions correctes et les types de prédictions incorrectes.\n",
    "* **Précision** : le nombre de vrais positifs divisé par toutes les prédictions positives. La précision est également appelée valeur prédictive positive. C'est une mesure de l'exactitude d'un classificateur. Une faible précision indique un grand nombre de faux positifs.\n",
    "* **Rappel** : le nombre de vrais positifs divisé par le nombre de valeurs positives dans les données de test. Le rappel est également appelé sensibilité ou taux de vrais positifs. C'est une mesure de l'exhaustivité d'un classificateur. Un faible rappel indique un grand nombre de faux négatifs.\n",
    "* **Score F1** : la moyenne pondérée de la précision et du rappel.\n",
    "* **Aire sous la courbe ROC** (AUROC) : l'AUROC représente la probabilité que votre modèle distingue des observations de deux classes. En d'autres termes, si vous sélectionnez au hasard une observation de chaque classe, quelle est la probabilité que votre modèle puisse les \"classer\" correctement ?"
   ]
  },
  {
   "attachments": {},
   "cell_type": "markdown",
   "metadata": {},
   "source": [
    "### Pénaliser les algorithmes (formation sensible aux coûts)\n",
    "\n",
    "La prochaine tactique consiste à utiliser des algorithmes d'apprentissage pénalisés qui augmentent le coût des erreurs de classification dans la classe minoritaire.\n",
    "\n",
    "Un algorithme populaire pour cette technique est Penalized-SVM.\n",
    "\n",
    "Pendant l'entraînement, nous pouvons utiliser l'argument `class_weight='balanced'` pour pénaliser les erreurs sur la classe minoritaire d'un montant proportionnel à sa sous-représentation.\n",
    "\n",
    "Nous voulons également inclure l'argument `probability=True` si nous voulons activer les estimations de probabilité pour les algorithmes SVM.\n",
    "\n",
    "Entraînons un modèle en utilisant Penalized-SVM sur l'ensemble de données déséquilibré d'origine :"
   ]
  },
  {
   "cell_type": "code",
   "execution_count": null,
   "metadata": {},
   "outputs": [],
   "source": [
    "from sklearn.svm import SVC\n",
    "from sklearn.metrics import roc_auc_score, f1_score\n",
    "\n",
    "# we can add class_weight='balanced' to add panalize mistake\n",
    "svc_model = SVC(class_weight='balanced', probability=True)\n",
    "\n",
    "svc_model.fit(X_train, y_train)\n",
    "\n",
    "svc_predict = svc_model.predict(X_test)  # check performance\n",
    "print('ROCAUC score:', roc_auc_score(y_test, svc_predict))\n",
    "print('Accuracy score:', accuracy_score(y_test, svc_predict))\n",
    "print('F1 score:', f1_score(y_test, svc_predict))"
   ]
  }
 ],
 "metadata": {
  "kernelspec": {
   "display_name": "Python 3",
   "language": "python",
   "name": "python3"
  },
  "language_info": {
   "codemirror_mode": {
    "name": "ipython",
    "version": 3
   },
   "file_extension": ".py",
   "mimetype": "text/x-python",
   "name": "python",
   "nbconvert_exporter": "python",
   "pygments_lexer": "ipython3",
   "version": "3.11.1"
  },
  "orig_nbformat": 4
 },
 "nbformat": 4,
 "nbformat_minor": 2
}
